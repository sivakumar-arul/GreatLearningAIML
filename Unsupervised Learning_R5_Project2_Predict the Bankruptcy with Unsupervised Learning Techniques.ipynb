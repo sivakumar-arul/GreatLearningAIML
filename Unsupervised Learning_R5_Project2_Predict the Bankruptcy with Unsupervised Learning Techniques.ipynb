{
 "cells": [
  {
   "cell_type": "markdown",
   "metadata": {},
   "source": [
    "# UnSupervised Learning - Project 2 Qualitative Bankruptcy"
   ]
  },
  {
   "cell_type": "markdown",
   "metadata": {},
   "source": [
    "Data Description:\n",
    "Data contains details of some decision rules which can help in predicting\n",
    "qualitative bankruptcy\n",
    "\n",
    "Attribute Information:\n",
    "(P=Positive,A-Average,N-negative,B-Bankruptcy,NB-Non-Bankruptcy)\n",
    "1. Industrial Risk: {P,A,N}\n",
    "2. Management Risk: {P,A,N}\n",
    "3. Financial Flexibility: {P,A,N}\n",
    "4. Credibility: {P,A,N}\n",
    "5. Competitiveness: {P,A,N}\n",
    "6. Operating Risk: {P,A,N}\n",
    "7. Class: {B,NB}"
   ]
  },
  {
   "cell_type": "markdown",
   "metadata": {},
   "source": [
    "Internal Risks: \t\n",
    "i.Industry risk (IR) : \n",
    "\tGovernment policies and International agreements, \n",
    "\tCyclicality, \n",
    "\tDegree of competition,\t\t\t\t\n",
    "\tThe price and stability of market supply,\n",
    "\tThe size and growth of market demand,\t\n",
    "\tThe sensitivity to changes in macroeconomic factors,\n",
    "\tDomestic and international competitive power, \n",
    "\tProduct Life Cycle.\n",
    "    \n",
    "ii.Management risk(MR): \n",
    "\tAbility and competence of management, \n",
    "\tStability of management,\n",
    "\tThe relationship between management/ owner, \n",
    "\tHuman resources management, \n",
    "\tGrowth process/business performance, \n",
    "\tShort and long term business planning, \n",
    "\tachievement and feasibility. \n",
    "    \n",
    "iii.Financial Flexibility(FF): \n",
    "\tDirect financing, \n",
    "\tIndirect financing, \n",
    "\tOther financing \n",
    "    \n",
    "iv.Credibility (CR):  \n",
    "\tCredit history,  \n",
    "\treliability of information, \n",
    "\tThe relationship with financial institutes.\n",
    "    \n",
    "v.Competitiveness (CO):  \n",
    "\tMarket position, \n",
    "\tThe level of core capacities, \n",
    "\tDifferentiated strategy, \n",
    "    \n",
    "vi.Operating Risk (OP):  \n",
    "\tThe stability and diversity of procurement, \n",
    "\tThe stability of transaction, \n",
    "\tThe efficiency of production, \n",
    "\tThe prospects for demand for product and service, \n",
    "\tSales diversification,\n",
    "\tSales price and settlement condition, \n",
    "\tCollection of A/R,\n",
    "\tEffectiveness of sale network.\n",
    " \n",
    "Missing Attribute Values: None\n",
    " \n",
    "Class Distribution: [143 instances For Non-Bankruptcy] [107 instances For Bankruptcy]\n",
    "        Information about the dataset\n",
    "  \tCLASSTYPE: nominal\n"
   ]
  },
  {
   "cell_type": "code",
   "execution_count": 1,
   "metadata": {},
   "outputs": [],
   "source": [
    "# Numerical libraries\n",
    "import numpy as np\n",
    "import pandas as pd\n",
    "import matplotlib.pyplot as plt \n",
    "import seaborn as sns\n",
    "\n",
    "%matplotlib inline\n",
    "\n",
    "from sklearn.model_selection import train_test_split\n",
    "\n",
    "# Import Linear Regression machine learning library\n",
    "from sklearn.linear_model import LinearRegression\n",
    "from sklearn.cluster import KMeans\n"
   ]
  },
  {
   "cell_type": "code",
   "execution_count": 2,
   "metadata": {},
   "outputs": [
    {
     "data": {
      "text/html": [
       "<div>\n",
       "<style scoped>\n",
       "    .dataframe tbody tr th:only-of-type {\n",
       "        vertical-align: middle;\n",
       "    }\n",
       "\n",
       "    .dataframe tbody tr th {\n",
       "        vertical-align: top;\n",
       "    }\n",
       "\n",
       "    .dataframe thead th {\n",
       "        text-align: right;\n",
       "    }\n",
       "</style>\n",
       "<table border=\"1\" class=\"dataframe\">\n",
       "  <thead>\n",
       "    <tr style=\"text-align: right;\">\n",
       "      <th></th>\n",
       "      <th>0</th>\n",
       "      <th>1</th>\n",
       "      <th>2</th>\n",
       "      <th>3</th>\n",
       "      <th>4</th>\n",
       "      <th>5</th>\n",
       "      <th>6</th>\n",
       "    </tr>\n",
       "  </thead>\n",
       "  <tbody>\n",
       "    <tr>\n",
       "      <td>0</td>\n",
       "      <td>P</td>\n",
       "      <td>P</td>\n",
       "      <td>A</td>\n",
       "      <td>A</td>\n",
       "      <td>A</td>\n",
       "      <td>P</td>\n",
       "      <td>NB</td>\n",
       "    </tr>\n",
       "    <tr>\n",
       "      <td>1</td>\n",
       "      <td>N</td>\n",
       "      <td>N</td>\n",
       "      <td>A</td>\n",
       "      <td>A</td>\n",
       "      <td>A</td>\n",
       "      <td>N</td>\n",
       "      <td>NB</td>\n",
       "    </tr>\n",
       "    <tr>\n",
       "      <td>2</td>\n",
       "      <td>A</td>\n",
       "      <td>A</td>\n",
       "      <td>A</td>\n",
       "      <td>A</td>\n",
       "      <td>A</td>\n",
       "      <td>A</td>\n",
       "      <td>NB</td>\n",
       "    </tr>\n",
       "    <tr>\n",
       "      <td>3</td>\n",
       "      <td>P</td>\n",
       "      <td>P</td>\n",
       "      <td>P</td>\n",
       "      <td>P</td>\n",
       "      <td>P</td>\n",
       "      <td>P</td>\n",
       "      <td>NB</td>\n",
       "    </tr>\n",
       "    <tr>\n",
       "      <td>4</td>\n",
       "      <td>N</td>\n",
       "      <td>N</td>\n",
       "      <td>P</td>\n",
       "      <td>P</td>\n",
       "      <td>P</td>\n",
       "      <td>N</td>\n",
       "      <td>NB</td>\n",
       "    </tr>\n",
       "  </tbody>\n",
       "</table>\n",
       "</div>"
      ],
      "text/plain": [
       "   0  1  2  3  4  5   6\n",
       "0  P  P  A  A  A  P  NB\n",
       "1  N  N  A  A  A  N  NB\n",
       "2  A  A  A  A  A  A  NB\n",
       "3  P  P  P  P  P  P  NB\n",
       "4  N  N  P  P  P  N  NB"
      ]
     },
     "execution_count": 2,
     "metadata": {},
     "output_type": "execute_result"
    }
   ],
   "source": [
    "# Read data file\n",
    "bank_df = pd.read_csv(\"Qualitative_Bankruptcy.data.txt\",encoding='utf-8',header=None)\n",
    "bank_df.head()"
   ]
  },
  {
   "cell_type": "code",
   "execution_count": 3,
   "metadata": {},
   "outputs": [],
   "source": [
    "bank_df.columns = ['IR','MR','FF','CR','CO','OR','Class']"
   ]
  },
  {
   "cell_type": "code",
   "execution_count": 4,
   "metadata": {},
   "outputs": [
    {
     "data": {
      "text/html": [
       "<div>\n",
       "<style scoped>\n",
       "    .dataframe tbody tr th:only-of-type {\n",
       "        vertical-align: middle;\n",
       "    }\n",
       "\n",
       "    .dataframe tbody tr th {\n",
       "        vertical-align: top;\n",
       "    }\n",
       "\n",
       "    .dataframe thead th {\n",
       "        text-align: right;\n",
       "    }\n",
       "</style>\n",
       "<table border=\"1\" class=\"dataframe\">\n",
       "  <thead>\n",
       "    <tr style=\"text-align: right;\">\n",
       "      <th></th>\n",
       "      <th>IR</th>\n",
       "      <th>MR</th>\n",
       "      <th>FF</th>\n",
       "      <th>CR</th>\n",
       "      <th>CO</th>\n",
       "      <th>OR</th>\n",
       "      <th>Class</th>\n",
       "    </tr>\n",
       "  </thead>\n",
       "  <tbody>\n",
       "    <tr>\n",
       "      <td>0</td>\n",
       "      <td>P</td>\n",
       "      <td>P</td>\n",
       "      <td>A</td>\n",
       "      <td>A</td>\n",
       "      <td>A</td>\n",
       "      <td>P</td>\n",
       "      <td>NB</td>\n",
       "    </tr>\n",
       "    <tr>\n",
       "      <td>1</td>\n",
       "      <td>N</td>\n",
       "      <td>N</td>\n",
       "      <td>A</td>\n",
       "      <td>A</td>\n",
       "      <td>A</td>\n",
       "      <td>N</td>\n",
       "      <td>NB</td>\n",
       "    </tr>\n",
       "    <tr>\n",
       "      <td>2</td>\n",
       "      <td>A</td>\n",
       "      <td>A</td>\n",
       "      <td>A</td>\n",
       "      <td>A</td>\n",
       "      <td>A</td>\n",
       "      <td>A</td>\n",
       "      <td>NB</td>\n",
       "    </tr>\n",
       "    <tr>\n",
       "      <td>3</td>\n",
       "      <td>P</td>\n",
       "      <td>P</td>\n",
       "      <td>P</td>\n",
       "      <td>P</td>\n",
       "      <td>P</td>\n",
       "      <td>P</td>\n",
       "      <td>NB</td>\n",
       "    </tr>\n",
       "    <tr>\n",
       "      <td>4</td>\n",
       "      <td>N</td>\n",
       "      <td>N</td>\n",
       "      <td>P</td>\n",
       "      <td>P</td>\n",
       "      <td>P</td>\n",
       "      <td>N</td>\n",
       "      <td>NB</td>\n",
       "    </tr>\n",
       "  </tbody>\n",
       "</table>\n",
       "</div>"
      ],
      "text/plain": [
       "  IR MR FF CR CO OR Class\n",
       "0  P  P  A  A  A  P    NB\n",
       "1  N  N  A  A  A  N    NB\n",
       "2  A  A  A  A  A  A    NB\n",
       "3  P  P  P  P  P  P    NB\n",
       "4  N  N  P  P  P  N    NB"
      ]
     },
     "execution_count": 4,
     "metadata": {},
     "output_type": "execute_result"
    }
   ],
   "source": [
    "bank_df.head()"
   ]
  },
  {
   "cell_type": "code",
   "execution_count": 5,
   "metadata": {},
   "outputs": [
    {
     "data": {
      "text/plain": [
       "IR       0\n",
       "MR       0\n",
       "FF       0\n",
       "CR       0\n",
       "CO       0\n",
       "OR       0\n",
       "Class    0\n",
       "dtype: int64"
      ]
     },
     "execution_count": 5,
     "metadata": {},
     "output_type": "execute_result"
    }
   ],
   "source": [
    "bank_df.isnull().sum()"
   ]
  },
  {
   "cell_type": "code",
   "execution_count": 6,
   "metadata": {},
   "outputs": [
    {
     "data": {
      "text/plain": [
       "NB    143\n",
       "B     107\n",
       "Name: Class, dtype: int64"
      ]
     },
     "execution_count": 6,
     "metadata": {},
     "output_type": "execute_result"
    }
   ],
   "source": [
    "bank_df['Class'].value_counts()"
   ]
  },
  {
   "cell_type": "code",
   "execution_count": 7,
   "metadata": {},
   "outputs": [
    {
     "data": {
      "text/plain": [
       "(250, 7)"
      ]
     },
     "execution_count": 7,
     "metadata": {},
     "output_type": "execute_result"
    }
   ],
   "source": [
    "# understanding datatypes and data for 6 features \n",
    "bank_df.shape"
   ]
  },
  {
   "cell_type": "code",
   "execution_count": 8,
   "metadata": {},
   "outputs": [
    {
     "data": {
      "text/plain": [
       "IR       object\n",
       "MR       object\n",
       "FF       object\n",
       "CR       object\n",
       "CO       object\n",
       "OR       object\n",
       "Class    object\n",
       "dtype: object"
      ]
     },
     "execution_count": 8,
     "metadata": {},
     "output_type": "execute_result"
    }
   ],
   "source": [
    "bank_df.dtypes"
   ]
  },
  {
   "cell_type": "code",
   "execution_count": 9,
   "metadata": {},
   "outputs": [
    {
     "data": {
      "text/html": [
       "<div>\n",
       "<style scoped>\n",
       "    .dataframe tbody tr th:only-of-type {\n",
       "        vertical-align: middle;\n",
       "    }\n",
       "\n",
       "    .dataframe tbody tr th {\n",
       "        vertical-align: top;\n",
       "    }\n",
       "\n",
       "    .dataframe thead th {\n",
       "        text-align: right;\n",
       "    }\n",
       "</style>\n",
       "<table border=\"1\" class=\"dataframe\">\n",
       "  <thead>\n",
       "    <tr style=\"text-align: right;\">\n",
       "      <th></th>\n",
       "      <th>count</th>\n",
       "      <th>unique</th>\n",
       "      <th>top</th>\n",
       "      <th>freq</th>\n",
       "    </tr>\n",
       "  </thead>\n",
       "  <tbody>\n",
       "    <tr>\n",
       "      <td>IR</td>\n",
       "      <td>250</td>\n",
       "      <td>3</td>\n",
       "      <td>N</td>\n",
       "      <td>89</td>\n",
       "    </tr>\n",
       "    <tr>\n",
       "      <td>MR</td>\n",
       "      <td>250</td>\n",
       "      <td>3</td>\n",
       "      <td>N</td>\n",
       "      <td>119</td>\n",
       "    </tr>\n",
       "    <tr>\n",
       "      <td>FF</td>\n",
       "      <td>250</td>\n",
       "      <td>3</td>\n",
       "      <td>N</td>\n",
       "      <td>119</td>\n",
       "    </tr>\n",
       "    <tr>\n",
       "      <td>CR</td>\n",
       "      <td>250</td>\n",
       "      <td>3</td>\n",
       "      <td>N</td>\n",
       "      <td>94</td>\n",
       "    </tr>\n",
       "    <tr>\n",
       "      <td>CO</td>\n",
       "      <td>250</td>\n",
       "      <td>3</td>\n",
       "      <td>N</td>\n",
       "      <td>103</td>\n",
       "    </tr>\n",
       "    <tr>\n",
       "      <td>OR</td>\n",
       "      <td>250</td>\n",
       "      <td>3</td>\n",
       "      <td>N</td>\n",
       "      <td>114</td>\n",
       "    </tr>\n",
       "    <tr>\n",
       "      <td>Class</td>\n",
       "      <td>250</td>\n",
       "      <td>2</td>\n",
       "      <td>NB</td>\n",
       "      <td>143</td>\n",
       "    </tr>\n",
       "  </tbody>\n",
       "</table>\n",
       "</div>"
      ],
      "text/plain": [
       "      count unique top freq\n",
       "IR      250      3   N   89\n",
       "MR      250      3   N  119\n",
       "FF      250      3   N  119\n",
       "CR      250      3   N   94\n",
       "CO      250      3   N  103\n",
       "OR      250      3   N  114\n",
       "Class   250      2  NB  143"
      ]
     },
     "execution_count": 9,
     "metadata": {},
     "output_type": "execute_result"
    }
   ],
   "source": [
    "bank_df.describe().transpose()"
   ]
  },
  {
   "cell_type": "code",
   "execution_count": 10,
   "metadata": {},
   "outputs": [],
   "source": [
    "## Manual Encoding for 6 categorical features\n",
    "## Since each feature has the 3 standard classes which has ordering do manual encoding\n",
    "Encoding_dict = { 'N' : 1,\n",
    "                  'A' : 2,\n",
    "                  'P' : 3 }\n",
    "bank_df['IR']=bank_df.IR.map(Encoding_dict)\n",
    "bank_df['MR']=bank_df.MR.map(Encoding_dict)\n",
    "bank_df['FF']=bank_df.FF.map(Encoding_dict)\n",
    "bank_df['CR']=bank_df.CR.map(Encoding_dict)\n",
    "bank_df['CO']=bank_df.CO.map(Encoding_dict)\n",
    "bank_df['OR']=bank_df.OR.map(Encoding_dict)\n",
    "bank_df\n",
    "bank_df1=bank_df.copy()"
   ]
  },
  {
   "cell_type": "code",
   "execution_count": 11,
   "metadata": {},
   "outputs": [
    {
     "data": {
      "text/html": [
       "<div>\n",
       "<style scoped>\n",
       "    .dataframe tbody tr th:only-of-type {\n",
       "        vertical-align: middle;\n",
       "    }\n",
       "\n",
       "    .dataframe tbody tr th {\n",
       "        vertical-align: top;\n",
       "    }\n",
       "\n",
       "    .dataframe thead th {\n",
       "        text-align: right;\n",
       "    }\n",
       "</style>\n",
       "<table border=\"1\" class=\"dataframe\">\n",
       "  <thead>\n",
       "    <tr style=\"text-align: right;\">\n",
       "      <th></th>\n",
       "      <th>IR</th>\n",
       "      <th>MR</th>\n",
       "      <th>FF</th>\n",
       "      <th>CR</th>\n",
       "      <th>CO</th>\n",
       "      <th>OR</th>\n",
       "      <th>Class</th>\n",
       "    </tr>\n",
       "  </thead>\n",
       "  <tbody>\n",
       "    <tr>\n",
       "      <td>0</td>\n",
       "      <td>3</td>\n",
       "      <td>3</td>\n",
       "      <td>2</td>\n",
       "      <td>2</td>\n",
       "      <td>2</td>\n",
       "      <td>3</td>\n",
       "      <td>NB</td>\n",
       "    </tr>\n",
       "    <tr>\n",
       "      <td>1</td>\n",
       "      <td>1</td>\n",
       "      <td>1</td>\n",
       "      <td>2</td>\n",
       "      <td>2</td>\n",
       "      <td>2</td>\n",
       "      <td>1</td>\n",
       "      <td>NB</td>\n",
       "    </tr>\n",
       "    <tr>\n",
       "      <td>2</td>\n",
       "      <td>2</td>\n",
       "      <td>2</td>\n",
       "      <td>2</td>\n",
       "      <td>2</td>\n",
       "      <td>2</td>\n",
       "      <td>2</td>\n",
       "      <td>NB</td>\n",
       "    </tr>\n",
       "    <tr>\n",
       "      <td>3</td>\n",
       "      <td>3</td>\n",
       "      <td>3</td>\n",
       "      <td>3</td>\n",
       "      <td>3</td>\n",
       "      <td>3</td>\n",
       "      <td>3</td>\n",
       "      <td>NB</td>\n",
       "    </tr>\n",
       "    <tr>\n",
       "      <td>4</td>\n",
       "      <td>1</td>\n",
       "      <td>1</td>\n",
       "      <td>3</td>\n",
       "      <td>3</td>\n",
       "      <td>3</td>\n",
       "      <td>1</td>\n",
       "      <td>NB</td>\n",
       "    </tr>\n",
       "    <tr>\n",
       "      <td>...</td>\n",
       "      <td>...</td>\n",
       "      <td>...</td>\n",
       "      <td>...</td>\n",
       "      <td>...</td>\n",
       "      <td>...</td>\n",
       "      <td>...</td>\n",
       "      <td>...</td>\n",
       "    </tr>\n",
       "    <tr>\n",
       "      <td>245</td>\n",
       "      <td>1</td>\n",
       "      <td>1</td>\n",
       "      <td>2</td>\n",
       "      <td>1</td>\n",
       "      <td>1</td>\n",
       "      <td>1</td>\n",
       "      <td>B</td>\n",
       "    </tr>\n",
       "    <tr>\n",
       "      <td>246</td>\n",
       "      <td>3</td>\n",
       "      <td>1</td>\n",
       "      <td>1</td>\n",
       "      <td>1</td>\n",
       "      <td>1</td>\n",
       "      <td>1</td>\n",
       "      <td>B</td>\n",
       "    </tr>\n",
       "    <tr>\n",
       "      <td>247</td>\n",
       "      <td>2</td>\n",
       "      <td>1</td>\n",
       "      <td>1</td>\n",
       "      <td>1</td>\n",
       "      <td>1</td>\n",
       "      <td>1</td>\n",
       "      <td>B</td>\n",
       "    </tr>\n",
       "    <tr>\n",
       "      <td>248</td>\n",
       "      <td>1</td>\n",
       "      <td>1</td>\n",
       "      <td>1</td>\n",
       "      <td>1</td>\n",
       "      <td>1</td>\n",
       "      <td>1</td>\n",
       "      <td>B</td>\n",
       "    </tr>\n",
       "    <tr>\n",
       "      <td>249</td>\n",
       "      <td>3</td>\n",
       "      <td>1</td>\n",
       "      <td>1</td>\n",
       "      <td>1</td>\n",
       "      <td>2</td>\n",
       "      <td>2</td>\n",
       "      <td>B</td>\n",
       "    </tr>\n",
       "  </tbody>\n",
       "</table>\n",
       "<p>250 rows × 7 columns</p>\n",
       "</div>"
      ],
      "text/plain": [
       "     IR  MR  FF  CR  CO  OR Class\n",
       "0     3   3   2   2   2   3    NB\n",
       "1     1   1   2   2   2   1    NB\n",
       "2     2   2   2   2   2   2    NB\n",
       "3     3   3   3   3   3   3    NB\n",
       "4     1   1   3   3   3   1    NB\n",
       "..   ..  ..  ..  ..  ..  ..   ...\n",
       "245   1   1   2   1   1   1     B\n",
       "246   3   1   1   1   1   1     B\n",
       "247   2   1   1   1   1   1     B\n",
       "248   1   1   1   1   1   1     B\n",
       "249   3   1   1   1   2   2     B\n",
       "\n",
       "[250 rows x 7 columns]"
      ]
     },
     "execution_count": 11,
     "metadata": {},
     "output_type": "execute_result"
    }
   ],
   "source": [
    "bank_df"
   ]
  },
  {
   "cell_type": "code",
   "execution_count": 12,
   "metadata": {},
   "outputs": [
    {
     "data": {
      "text/html": [
       "<div>\n",
       "<style scoped>\n",
       "    .dataframe tbody tr th:only-of-type {\n",
       "        vertical-align: middle;\n",
       "    }\n",
       "\n",
       "    .dataframe tbody tr th {\n",
       "        vertical-align: top;\n",
       "    }\n",
       "\n",
       "    .dataframe thead th {\n",
       "        text-align: right;\n",
       "    }\n",
       "</style>\n",
       "<table border=\"1\" class=\"dataframe\">\n",
       "  <thead>\n",
       "    <tr style=\"text-align: right;\">\n",
       "      <th></th>\n",
       "      <th>IR</th>\n",
       "      <th>MR</th>\n",
       "      <th>FF</th>\n",
       "      <th>CR</th>\n",
       "      <th>CO</th>\n",
       "      <th>OR</th>\n",
       "      <th>Class</th>\n",
       "    </tr>\n",
       "  </thead>\n",
       "  <tbody>\n",
       "    <tr>\n",
       "      <td>0</td>\n",
       "      <td>3</td>\n",
       "      <td>3</td>\n",
       "      <td>2</td>\n",
       "      <td>2</td>\n",
       "      <td>2</td>\n",
       "      <td>3</td>\n",
       "      <td>0</td>\n",
       "    </tr>\n",
       "    <tr>\n",
       "      <td>1</td>\n",
       "      <td>1</td>\n",
       "      <td>1</td>\n",
       "      <td>2</td>\n",
       "      <td>2</td>\n",
       "      <td>2</td>\n",
       "      <td>1</td>\n",
       "      <td>0</td>\n",
       "    </tr>\n",
       "    <tr>\n",
       "      <td>2</td>\n",
       "      <td>2</td>\n",
       "      <td>2</td>\n",
       "      <td>2</td>\n",
       "      <td>2</td>\n",
       "      <td>2</td>\n",
       "      <td>2</td>\n",
       "      <td>0</td>\n",
       "    </tr>\n",
       "    <tr>\n",
       "      <td>3</td>\n",
       "      <td>3</td>\n",
       "      <td>3</td>\n",
       "      <td>3</td>\n",
       "      <td>3</td>\n",
       "      <td>3</td>\n",
       "      <td>3</td>\n",
       "      <td>0</td>\n",
       "    </tr>\n",
       "    <tr>\n",
       "      <td>4</td>\n",
       "      <td>1</td>\n",
       "      <td>1</td>\n",
       "      <td>3</td>\n",
       "      <td>3</td>\n",
       "      <td>3</td>\n",
       "      <td>1</td>\n",
       "      <td>0</td>\n",
       "    </tr>\n",
       "    <tr>\n",
       "      <td>...</td>\n",
       "      <td>...</td>\n",
       "      <td>...</td>\n",
       "      <td>...</td>\n",
       "      <td>...</td>\n",
       "      <td>...</td>\n",
       "      <td>...</td>\n",
       "      <td>...</td>\n",
       "    </tr>\n",
       "    <tr>\n",
       "      <td>245</td>\n",
       "      <td>1</td>\n",
       "      <td>1</td>\n",
       "      <td>2</td>\n",
       "      <td>1</td>\n",
       "      <td>1</td>\n",
       "      <td>1</td>\n",
       "      <td>1</td>\n",
       "    </tr>\n",
       "    <tr>\n",
       "      <td>246</td>\n",
       "      <td>3</td>\n",
       "      <td>1</td>\n",
       "      <td>1</td>\n",
       "      <td>1</td>\n",
       "      <td>1</td>\n",
       "      <td>1</td>\n",
       "      <td>1</td>\n",
       "    </tr>\n",
       "    <tr>\n",
       "      <td>247</td>\n",
       "      <td>2</td>\n",
       "      <td>1</td>\n",
       "      <td>1</td>\n",
       "      <td>1</td>\n",
       "      <td>1</td>\n",
       "      <td>1</td>\n",
       "      <td>1</td>\n",
       "    </tr>\n",
       "    <tr>\n",
       "      <td>248</td>\n",
       "      <td>1</td>\n",
       "      <td>1</td>\n",
       "      <td>1</td>\n",
       "      <td>1</td>\n",
       "      <td>1</td>\n",
       "      <td>1</td>\n",
       "      <td>1</td>\n",
       "    </tr>\n",
       "    <tr>\n",
       "      <td>249</td>\n",
       "      <td>3</td>\n",
       "      <td>1</td>\n",
       "      <td>1</td>\n",
       "      <td>1</td>\n",
       "      <td>2</td>\n",
       "      <td>2</td>\n",
       "      <td>1</td>\n",
       "    </tr>\n",
       "  </tbody>\n",
       "</table>\n",
       "<p>250 rows × 7 columns</p>\n",
       "</div>"
      ],
      "text/plain": [
       "     IR  MR  FF  CR  CO  OR  Class\n",
       "0     3   3   2   2   2   3      0\n",
       "1     1   1   2   2   2   1      0\n",
       "2     2   2   2   2   2   2      0\n",
       "3     3   3   3   3   3   3      0\n",
       "4     1   1   3   3   3   1      0\n",
       "..   ..  ..  ..  ..  ..  ..    ...\n",
       "245   1   1   2   1   1   1      1\n",
       "246   3   1   1   1   1   1      1\n",
       "247   2   1   1   1   1   1      1\n",
       "248   1   1   1   1   1   1      1\n",
       "249   3   1   1   1   2   2      1\n",
       "\n",
       "[250 rows x 7 columns]"
      ]
     },
     "execution_count": 12,
     "metadata": {},
     "output_type": "execute_result"
    }
   ],
   "source": [
    "class_dict={'NB':0,'B':1}\n",
    "bank_df['Class']=bank_df.Class.map(class_dict)\n",
    "bank_df"
   ]
  },
  {
   "cell_type": "code",
   "execution_count": 13,
   "metadata": {},
   "outputs": [],
   "source": [
    "## Seperate Independent and Target Variables\n",
    "X=bank_df.drop(['Class'],axis=1)\n",
    "Y=bank_df['Class']"
   ]
  },
  {
   "cell_type": "code",
   "execution_count": 14,
   "metadata": {},
   "outputs": [
    {
     "name": "stderr",
     "output_type": "stream",
     "text": [
      "C:\\Users\\SivaPC\\Anaconda3\\lib\\site-packages\\statsmodels\\nonparametric\\kde.py:487: RuntimeWarning: invalid value encountered in true_divide\n",
      "  binned = fast_linbin(X, a, b, gridsize) / (delta * nobs)\n",
      "C:\\Users\\SivaPC\\Anaconda3\\lib\\site-packages\\statsmodels\\nonparametric\\kdetools.py:34: RuntimeWarning: invalid value encountered in double_scalars\n",
      "  FAC1 = 2*(np.pi*bw/RANGE)**2\n"
     ]
    },
    {
     "data": {
      "text/plain": [
       "<seaborn.axisgrid.PairGrid at 0x181599452c8>"
      ]
     },
     "execution_count": 14,
     "metadata": {},
     "output_type": "execute_result"
    },
    {
     "data": {
      "image/png": "[encoded data removed]",
      "text/plain": [
       "<Figure size 1302.38x1260 with 56 Axes>"
      ]
     },
     "metadata": {
      "needs_background": "light"
     },
     "output_type": "display_data"
    }
   ],
   "source": [
    "## Distribution\n",
    "sns.pairplot(bank_df,diag_kind='kde',hue='Class')"
   ]
  },
  {
   "cell_type": "markdown",
   "metadata": {},
   "source": [
    "#### Since the independent features is categorical distribution plot shows the discrete counts across 3 classes of values.\n",
    "#### All independent features are multi modal with values across 3 types of classes of N,A and P.\n",
    "#### Target Bankruptcy and non bankruptcy classes data are present in all the 3 classes of independent features\n",
    "#### Financial Flexibility, Credibility and Competitiveness has small maximum values for Bankruptydata and Competitiveness has no postive category values for Bankruptcy type of records"
   ]
  },
  {
   "cell_type": "code",
   "execution_count": 15,
   "metadata": {},
   "outputs": [
    {
     "data": {
      "text/plain": [
       "<matplotlib.axes._subplots.AxesSubplot at 0x1815b417108>"
      ]
     },
     "execution_count": 15,
     "metadata": {},
     "output_type": "execute_result"
    },
    {
     "data": {
      "image/png": "[encoded data removed]",
      "text/plain": [
       "<Figure size 432x288 with 2 Axes>"
      ]
     },
     "metadata": {
      "needs_background": "light"
     },
     "output_type": "display_data"
    }
   ],
   "source": [
    "sns.heatmap(bank_df.corr(),annot=True)"
   ]
  },
  {
   "cell_type": "markdown",
   "metadata": {},
   "source": [
    "### Correlation Findings\n",
    "\n",
    "#### There is significant correlation between Competitiveness and features Financial flexibility and Credibility\n",
    "#### Also credibility has some correlation with Financial Flexibility\n",
    "#### Target variable Class has negative correlation with all independent features which denotes that Class is not impacted by independent features but by combination of all independent features"
   ]
  },
  {
   "cell_type": "code",
   "execution_count": 16,
   "metadata": {},
   "outputs": [
    {
     "data": {
      "text/plain": [
       "<seaborn.axisgrid.FacetGrid at 0x1815d301d88>"
      ]
     },
     "execution_count": 16,
     "metadata": {},
     "output_type": "execute_result"
    },
    {
     "data": {
      "image/png": "[encoded data removed]",
      "text/plain": [
       "<Figure size 360x360 with 1 Axes>"
      ]
     },
     "metadata": {
      "needs_background": "light"
     },
     "output_type": "display_data"
    }
   ],
   "source": [
    "sns.catplot(x='CO',y='Class',data=bank_df)"
   ]
  },
  {
   "cell_type": "markdown",
   "metadata": {},
   "source": [
    "### KMeans "
   ]
  },
  {
   "cell_type": "code",
   "execution_count": 21,
   "metadata": {},
   "outputs": [],
   "source": [
    "## Splitting dataset into train and test\n",
    "\n",
    "from sklearn.model_selection import train_test_split\n",
    "X=bank_df.drop(['Class'],axis=1)\n",
    "Y=bank_df['Class']\n",
    "X_train, X_test, y_train, y_test = train_test_split(X, Y, test_size=0.30, random_state=1)"
   ]
  },
  {
   "cell_type": "code",
   "execution_count": 22,
   "metadata": {},
   "outputs": [
    {
     "data": {
      "text/html": [
       "<div>\n",
       "<style scoped>\n",
       "    .dataframe tbody tr th:only-of-type {\n",
       "        vertical-align: middle;\n",
       "    }\n",
       "\n",
       "    .dataframe tbody tr th {\n",
       "        vertical-align: top;\n",
       "    }\n",
       "\n",
       "    .dataframe thead th {\n",
       "        text-align: right;\n",
       "    }\n",
       "</style>\n",
       "<table border=\"1\" class=\"dataframe\">\n",
       "  <thead>\n",
       "    <tr style=\"text-align: right;\">\n",
       "      <th></th>\n",
       "      <th>num_clusters</th>\n",
       "      <th>cluster_errors</th>\n",
       "    </tr>\n",
       "  </thead>\n",
       "  <tbody>\n",
       "    <tr>\n",
       "      <td>0</td>\n",
       "      <td>1</td>\n",
       "      <td>727.440000</td>\n",
       "    </tr>\n",
       "    <tr>\n",
       "      <td>1</td>\n",
       "      <td>2</td>\n",
       "      <td>461.929355</td>\n",
       "    </tr>\n",
       "    <tr>\n",
       "      <td>2</td>\n",
       "      <td>3</td>\n",
       "      <td>381.307663</td>\n",
       "    </tr>\n",
       "    <tr>\n",
       "      <td>3</td>\n",
       "      <td>4</td>\n",
       "      <td>342.570551</td>\n",
       "    </tr>\n",
       "    <tr>\n",
       "      <td>4</td>\n",
       "      <td>5</td>\n",
       "      <td>302.986776</td>\n",
       "    </tr>\n",
       "    <tr>\n",
       "      <td>5</td>\n",
       "      <td>6</td>\n",
       "      <td>273.216718</td>\n",
       "    </tr>\n",
       "    <tr>\n",
       "      <td>6</td>\n",
       "      <td>7</td>\n",
       "      <td>251.460994</td>\n",
       "    </tr>\n",
       "    <tr>\n",
       "      <td>7</td>\n",
       "      <td>8</td>\n",
       "      <td>221.127889</td>\n",
       "    </tr>\n",
       "    <tr>\n",
       "      <td>8</td>\n",
       "      <td>9</td>\n",
       "      <td>205.184020</td>\n",
       "    </tr>\n",
       "    <tr>\n",
       "      <td>9</td>\n",
       "      <td>10</td>\n",
       "      <td>191.793383</td>\n",
       "    </tr>\n",
       "    <tr>\n",
       "      <td>10</td>\n",
       "      <td>11</td>\n",
       "      <td>182.297136</td>\n",
       "    </tr>\n",
       "    <tr>\n",
       "      <td>11</td>\n",
       "      <td>12</td>\n",
       "      <td>170.436995</td>\n",
       "    </tr>\n",
       "    <tr>\n",
       "      <td>12</td>\n",
       "      <td>13</td>\n",
       "      <td>155.210804</td>\n",
       "    </tr>\n",
       "    <tr>\n",
       "      <td>13</td>\n",
       "      <td>14</td>\n",
       "      <td>152.191294</td>\n",
       "    </tr>\n",
       "  </tbody>\n",
       "</table>\n",
       "</div>"
      ],
      "text/plain": [
       "    num_clusters  cluster_errors\n",
       "0              1      727.440000\n",
       "1              2      461.929355\n",
       "2              3      381.307663\n",
       "3              4      342.570551\n",
       "4              5      302.986776\n",
       "5              6      273.216718\n",
       "6              7      251.460994\n",
       "7              8      221.127889\n",
       "8              9      205.184020\n",
       "9             10      191.793383\n",
       "10            11      182.297136\n",
       "11            12      170.436995\n",
       "12            13      155.210804\n",
       "13            14      152.191294"
      ]
     },
     "execution_count": 22,
     "metadata": {},
     "output_type": "execute_result"
    }
   ],
   "source": [
    "from sklearn.cluster import KMeans\n",
    "\n",
    "\n",
    "# Let us check optimal number of clusters-\n",
    "\n",
    "\n",
    "cluster_range = range( 1,15)\n",
    "cluster_errors = []\n",
    "cluster_sil_scores = []\n",
    "for num_clusters in cluster_range:\n",
    "  clusters = KMeans( num_clusters, n_init = 5)\n",
    "  clusters.fit(X_train)\n",
    "  labels = clusters.labels_                     # capture the cluster lables\n",
    "  centroids = clusters.cluster_centers_         # capture the centroids\n",
    "  cluster_errors.append( clusters.inertia_ )    # capture the intertia\n",
    "  \n",
    "\n",
    "\n",
    "# combine the cluster_range and cluster_errors into a dataframe by combining them\n",
    "clusters_df = pd.DataFrame( { \"num_clusters\":cluster_range, \"cluster_errors\": cluster_errors} )\n",
    "clusters_df[0:15]\n"
   ]
  },
  {
   "cell_type": "code",
   "execution_count": 23,
   "metadata": {},
   "outputs": [
    {
     "data": {
      "text/plain": [
       "[<matplotlib.lines.Line2D at 0x1815d89a9c8>]"
      ]
     },
     "execution_count": 23,
     "metadata": {},
     "output_type": "execute_result"
    },
    {
     "data": {
      "image/png": "[encoded data removed]",
      "text/plain": [
       "<Figure size 864x864 with 1 Axes>"
      ]
     },
     "metadata": {
      "needs_background": "light"
     },
     "output_type": "display_data"
    }
   ],
   "source": [
    "# Elbow plot\n",
    "\n",
    "plt.figure(figsize=(12,12))\n",
    "plt.plot( clusters_df.num_clusters, clusters_df.cluster_errors, marker = \"o\" )"
   ]
  },
  {
   "cell_type": "markdown",
   "metadata": {},
   "source": [
    "#### Optimal cluster size based on elbow fit is 3"
   ]
  },
  {
   "cell_type": "code",
   "execution_count": 24,
   "metadata": {},
   "outputs": [
    {
     "name": "stdout",
     "output_type": "stream",
     "text": [
      "Centroid values\n",
      "[[1.69444444 1.43055556 1.04166667 1.20833333 1.04166667 1.66666667]\n",
      " [1.81034483 1.72413793 2.39655172 2.48275862 2.65517241 1.46551724]\n",
      " [2.46666667 2.42222222 2.15555556 2.48888889 2.44444444 2.95555556]]\n"
     ]
    }
   ],
   "source": [
    "### Cluster of data for optimal clustersize of 3 which matches with the 3 type of classes present for each feature.\n",
    "\n",
    "# Number of clusters\n",
    "\n",
    "kmeans = KMeans(n_clusters=3)\n",
    "\n",
    "# Fitting the input data\n",
    "\n",
    "kmeans = kmeans.fit(X_train)\n",
    "\n",
    "# Getting the cluster labels\n",
    "\n",
    "y_labels_train=kmeans.labels_\n",
    "y_labels_test=kmeans.predict(X_test)\n",
    "\n",
    "# Centroid values\n",
    "\n",
    "centroids = kmeans.cluster_centers_\n",
    "\n",
    "\n",
    "# Comparing with scikit-learn centroids\n",
    "\n",
    "print(\"Centroid values\")\n",
    "\n",
    "print(centroids) # From sci-kit learn"
   ]
  },
  {
   "cell_type": "code",
   "execution_count": 25,
   "metadata": {},
   "outputs": [
    {
     "name": "stderr",
     "output_type": "stream",
     "text": [
      "C:\\Users\\SivaPC\\Anaconda3\\lib\\site-packages\\ipykernel_launcher.py:2: SettingWithCopyWarning: \n",
      "A value is trying to be set on a copy of a slice from a DataFrame.\n",
      "Try using .loc[row_indexer,col_indexer] = value instead\n",
      "\n",
      "See the caveats in the documentation: http://pandas.pydata.org/pandas-docs/stable/user_guide/indexing.html#returning-a-view-versus-a-copy\n",
      "  \n",
      "C:\\Users\\SivaPC\\Anaconda3\\lib\\site-packages\\ipykernel_launcher.py:3: SettingWithCopyWarning: \n",
      "A value is trying to be set on a copy of a slice from a DataFrame.\n",
      "Try using .loc[row_indexer,col_indexer] = value instead\n",
      "\n",
      "See the caveats in the documentation: http://pandas.pydata.org/pandas-docs/stable/user_guide/indexing.html#returning-a-view-versus-a-copy\n",
      "  This is separate from the ipykernel package so we can avoid doing imports until\n"
     ]
    }
   ],
   "source": [
    "## creating a new feature on training and test data set for labels\n",
    "X_train['clust_label']=y_labels_train\n",
    "X_test['clust_label']=y_labels_test"
   ]
  },
  {
   "cell_type": "code",
   "execution_count": 26,
   "metadata": {},
   "outputs": [
    {
     "data": {
      "text/html": [
       "<div>\n",
       "<style scoped>\n",
       "    .dataframe tbody tr th:only-of-type {\n",
       "        vertical-align: middle;\n",
       "    }\n",
       "\n",
       "    .dataframe tbody tr th {\n",
       "        vertical-align: top;\n",
       "    }\n",
       "\n",
       "    .dataframe thead th {\n",
       "        text-align: right;\n",
       "    }\n",
       "</style>\n",
       "<table border=\"1\" class=\"dataframe\">\n",
       "  <thead>\n",
       "    <tr style=\"text-align: right;\">\n",
       "      <th></th>\n",
       "      <th>IR</th>\n",
       "      <th>MR</th>\n",
       "      <th>FF</th>\n",
       "      <th>CR</th>\n",
       "      <th>CO</th>\n",
       "      <th>OR</th>\n",
       "      <th>clust_label</th>\n",
       "    </tr>\n",
       "  </thead>\n",
       "  <tbody>\n",
       "    <tr>\n",
       "      <td>59</td>\n",
       "      <td>1</td>\n",
       "      <td>1</td>\n",
       "      <td>3</td>\n",
       "      <td>3</td>\n",
       "      <td>3</td>\n",
       "      <td>2</td>\n",
       "      <td>1</td>\n",
       "    </tr>\n",
       "    <tr>\n",
       "      <td>88</td>\n",
       "      <td>1</td>\n",
       "      <td>1</td>\n",
       "      <td>3</td>\n",
       "      <td>3</td>\n",
       "      <td>3</td>\n",
       "      <td>2</td>\n",
       "      <td>1</td>\n",
       "    </tr>\n",
       "    <tr>\n",
       "      <td>240</td>\n",
       "      <td>1</td>\n",
       "      <td>1</td>\n",
       "      <td>1</td>\n",
       "      <td>2</td>\n",
       "      <td>1</td>\n",
       "      <td>2</td>\n",
       "      <td>0</td>\n",
       "    </tr>\n",
       "    <tr>\n",
       "      <td>199</td>\n",
       "      <td>1</td>\n",
       "      <td>1</td>\n",
       "      <td>1</td>\n",
       "      <td>3</td>\n",
       "      <td>1</td>\n",
       "      <td>1</td>\n",
       "      <td>0</td>\n",
       "    </tr>\n",
       "    <tr>\n",
       "      <td>207</td>\n",
       "      <td>1</td>\n",
       "      <td>1</td>\n",
       "      <td>1</td>\n",
       "      <td>1</td>\n",
       "      <td>1</td>\n",
       "      <td>2</td>\n",
       "      <td>0</td>\n",
       "    </tr>\n",
       "    <tr>\n",
       "      <td>...</td>\n",
       "      <td>...</td>\n",
       "      <td>...</td>\n",
       "      <td>...</td>\n",
       "      <td>...</td>\n",
       "      <td>...</td>\n",
       "      <td>...</td>\n",
       "      <td>...</td>\n",
       "    </tr>\n",
       "    <tr>\n",
       "      <td>137</td>\n",
       "      <td>1</td>\n",
       "      <td>3</td>\n",
       "      <td>3</td>\n",
       "      <td>3</td>\n",
       "      <td>3</td>\n",
       "      <td>1</td>\n",
       "      <td>1</td>\n",
       "    </tr>\n",
       "    <tr>\n",
       "      <td>72</td>\n",
       "      <td>3</td>\n",
       "      <td>2</td>\n",
       "      <td>3</td>\n",
       "      <td>2</td>\n",
       "      <td>3</td>\n",
       "      <td>3</td>\n",
       "      <td>2</td>\n",
       "    </tr>\n",
       "    <tr>\n",
       "      <td>140</td>\n",
       "      <td>3</td>\n",
       "      <td>1</td>\n",
       "      <td>3</td>\n",
       "      <td>2</td>\n",
       "      <td>2</td>\n",
       "      <td>3</td>\n",
       "      <td>2</td>\n",
       "    </tr>\n",
       "    <tr>\n",
       "      <td>235</td>\n",
       "      <td>2</td>\n",
       "      <td>1</td>\n",
       "      <td>1</td>\n",
       "      <td>1</td>\n",
       "      <td>1</td>\n",
       "      <td>2</td>\n",
       "      <td>0</td>\n",
       "    </tr>\n",
       "    <tr>\n",
       "      <td>37</td>\n",
       "      <td>2</td>\n",
       "      <td>1</td>\n",
       "      <td>2</td>\n",
       "      <td>3</td>\n",
       "      <td>3</td>\n",
       "      <td>2</td>\n",
       "      <td>1</td>\n",
       "    </tr>\n",
       "  </tbody>\n",
       "</table>\n",
       "<p>175 rows × 7 columns</p>\n",
       "</div>"
      ],
      "text/plain": [
       "     IR  MR  FF  CR  CO  OR  clust_label\n",
       "59    1   1   3   3   3   2            1\n",
       "88    1   1   3   3   3   2            1\n",
       "240   1   1   1   2   1   2            0\n",
       "199   1   1   1   3   1   1            0\n",
       "207   1   1   1   1   1   2            0\n",
       "..   ..  ..  ..  ..  ..  ..          ...\n",
       "137   1   3   3   3   3   1            1\n",
       "72    3   2   3   2   3   3            2\n",
       "140   3   1   3   2   2   3            2\n",
       "235   2   1   1   1   1   2            0\n",
       "37    2   1   2   3   3   2            1\n",
       "\n",
       "[175 rows x 7 columns]"
      ]
     },
     "execution_count": 26,
     "metadata": {},
     "output_type": "execute_result"
    }
   ],
   "source": [
    "X_train"
   ]
  },
  {
   "cell_type": "code",
   "execution_count": null,
   "metadata": {},
   "outputs": [],
   "source": []
  },
  {
   "cell_type": "code",
   "execution_count": null,
   "metadata": {},
   "outputs": [],
   "source": []
  },
  {
   "cell_type": "code",
   "execution_count": null,
   "metadata": {},
   "outputs": [],
   "source": []
  },
  {
   "cell_type": "code",
   "execution_count": 27,
   "metadata": {},
   "outputs": [
    {
     "data": {
      "text/plain": [
       "0    143\n",
       "1    107\n",
       "Name: Class, dtype: int64"
      ]
     },
     "execution_count": 27,
     "metadata": {},
     "output_type": "execute_result"
    }
   ],
   "source": [
    "bank_df['Class'].value_counts()"
   ]
  },
  {
   "cell_type": "code",
   "execution_count": 28,
   "metadata": {},
   "outputs": [
    {
     "data": {
      "text/plain": [
       "AgglomerativeClustering(affinity='euclidean', compute_full_tree='auto',\n",
       "                        connectivity=None, distance_threshold=None,\n",
       "                        linkage='ward', memory=None, n_clusters=3,\n",
       "                        pooling_func='deprecated')"
      ]
     },
     "execution_count": 28,
     "metadata": {},
     "output_type": "execute_result"
    }
   ],
   "source": [
    "## Hierarchical clustering on the dataset\n",
    "from sklearn.cluster import AgglomerativeClustering \n",
    "model2 = AgglomerativeClustering(n_clusters=3, affinity='euclidean',  linkage='ward')\n",
    "model2.fit(bank_df)"
   ]
  },
  {
   "cell_type": "code",
   "execution_count": 29,
   "metadata": {},
   "outputs": [
    {
     "data": {
      "text/plain": [
       "0    106\n",
       "1     83\n",
       "2     61\n",
       "Name: 0, dtype: int64"
      ]
     },
     "execution_count": 29,
     "metadata": {},
     "output_type": "execute_result"
    }
   ],
   "source": [
    "L=pd.DataFrame(model2.labels_)\n",
    "L[0].value_counts()"
   ]
  },
  {
   "cell_type": "code",
   "execution_count": 30,
   "metadata": {},
   "outputs": [
    {
     "data": {
      "image/png": "[encoded data removed]",
      "text/plain": [
       "<Figure size 1296x1152 with 1 Axes>"
      ]
     },
     "metadata": {
      "needs_background": "light"
     },
     "output_type": "display_data"
    }
   ],
   "source": [
    "from scipy.cluster.hierarchy import dendrogram, linkage\n",
    "from scipy.spatial.distance import pdist\n",
    "plt.figure(figsize=(18, 16))\n",
    "plt.title('Agglomerative Hierarchical Clustering Dendogram')\n",
    "plt.xlabel('sample index')\n",
    "plt.ylabel('Distance')\n",
    "Z = linkage(X, 'ward')\n",
    "dendrogram(Z,leaf_rotation=90.0,p=25,color_threshold=12,leaf_font_size=10,truncate_mode='level',)\n",
    "plt.tight_layout()"
   ]
  },
  {
   "cell_type": "markdown",
   "metadata": {},
   "source": [
    "#### There is clear cluster 1 on left side and for the other group there are 2 subgroup as cluster group 2 and 3 on right side"
   ]
  },
  {
   "cell_type": "code",
   "execution_count": 38,
   "metadata": {},
   "outputs": [
    {
     "data": {
      "text/plain": [
       "(75, 7)"
      ]
     },
     "execution_count": 38,
     "metadata": {},
     "output_type": "execute_result"
    }
   ],
   "source": [
    "X_test.shape"
   ]
  },
  {
   "cell_type": "code",
   "execution_count": 40,
   "metadata": {},
   "outputs": [
    {
     "data": {
      "text/plain": [
       "Index(['IR', 'MR', 'FF', 'CR', 'CO', 'OR', 'clust_label'], dtype='object')"
      ]
     },
     "execution_count": 40,
     "metadata": {},
     "output_type": "execute_result"
    }
   ],
   "source": [
    "X_test.columns"
   ]
  },
  {
   "cell_type": "code",
   "execution_count": 31,
   "metadata": {},
   "outputs": [
    {
     "name": "stderr",
     "output_type": "stream",
     "text": [
      "C:\\Users\\SivaPC\\Anaconda3\\lib\\site-packages\\sklearn\\svm\\base.py:193: FutureWarning: The default value of gamma will change from 'auto' to 'scale' in version 0.22 to account better for unscaled features. Set gamma explicitly to 'auto' or 'scale' to avoid this warning.\n",
      "  \"avoid this warning.\", FutureWarning)\n"
     ]
    },
    {
     "data": {
      "text/plain": [
       "SVC(C=1.0, cache_size=200, class_weight=None, coef0=0.0,\n",
       "    decision_function_shape='ovr', degree=3, gamma='auto_deprecated',\n",
       "    kernel='rbf', max_iter=-1, probability=True, random_state=None,\n",
       "    shrinking=True, tol=0.001, verbose=False)"
      ]
     },
     "execution_count": 31,
     "metadata": {},
     "output_type": "execute_result"
    }
   ],
   "source": [
    "## Cluster labels added as features in Training and Test data set and then used in prediction for the model which improved the score\n",
    "\n",
    "from sklearn import svm\n",
    "clf = svm.SVC(probability=True)\n",
    "clf.fit(X_train,y_train)"
   ]
  },
  {
   "cell_type": "code",
   "execution_count": 32,
   "metadata": {},
   "outputs": [],
   "source": [
    "y_pred=clf.predict(X_test)"
   ]
  },
  {
   "cell_type": "code",
   "execution_count": 33,
   "metadata": {},
   "outputs": [
    {
     "data": {
      "text/plain": [
       "array([[0.93981523, 0.06018477],\n",
       "       [0.02048047, 0.97951953],\n",
       "       [0.01112796, 0.98887204],\n",
       "       [0.00395479, 0.99604521],\n",
       "       [0.99322169, 0.00677831],\n",
       "       [0.00796103, 0.99203897],\n",
       "       [0.97167956, 0.02832044],\n",
       "       [0.00665776, 0.99334224],\n",
       "       [0.00578376, 0.99421624],\n",
       "       [0.99474731, 0.00525269],\n",
       "       [0.0044467 , 0.9955533 ],\n",
       "       [0.00895266, 0.99104734],\n",
       "       [0.98059208, 0.01940792],\n",
       "       [0.04198948, 0.95801052],\n",
       "       [0.99660751, 0.00339249],\n",
       "       [0.98934396, 0.01065604],\n",
       "       [0.0044467 , 0.9955533 ],\n",
       "       [0.99385088, 0.00614912],\n",
       "       [0.96983413, 0.03016587],\n",
       "       [0.97226931, 0.02773069],\n",
       "       [0.00895266, 0.99104734],\n",
       "       [0.99213641, 0.00786359],\n",
       "       [0.97907049, 0.02092951],\n",
       "       [0.01206081, 0.98793919],\n",
       "       [0.99511264, 0.00488736],\n",
       "       [0.97859687, 0.02140313],\n",
       "       [0.00895266, 0.99104734],\n",
       "       [0.00578376, 0.99421624],\n",
       "       [0.98908668, 0.01091332],\n",
       "       [0.00895266, 0.99104734],\n",
       "       [0.0160893 , 0.9839107 ],\n",
       "       [0.96381411, 0.03618589],\n",
       "       [0.99322169, 0.00677831],\n",
       "       [0.00384635, 0.99615365],\n",
       "       [0.01141595, 0.98858405],\n",
       "       [0.00384635, 0.99615365],\n",
       "       [0.98997055, 0.01002945],\n",
       "       [0.97360947, 0.02639053],\n",
       "       [0.99508716, 0.00491284],\n",
       "       [0.00895266, 0.99104734],\n",
       "       [0.00895266, 0.99104734],\n",
       "       [0.99660751, 0.00339249],\n",
       "       [0.98897553, 0.01102447],\n",
       "       [0.97802019, 0.02197981],\n",
       "       [0.9706761 , 0.0293239 ],\n",
       "       [0.97068613, 0.02931387],\n",
       "       [0.98765972, 0.01234028],\n",
       "       [0.97859687, 0.02140313],\n",
       "       [0.99094961, 0.00905039],\n",
       "       [0.97747093, 0.02252907],\n",
       "       [0.00384635, 0.99615365],\n",
       "       [0.17802126, 0.82197874],\n",
       "       [0.99474731, 0.00525269],\n",
       "       [0.00926949, 0.99073051],\n",
       "       [0.01112796, 0.98887204],\n",
       "       [0.98473109, 0.01526891],\n",
       "       [0.97071035, 0.02928965],\n",
       "       [0.98698324, 0.01301676],\n",
       "       [0.99467942, 0.00532058],\n",
       "       [0.99481462, 0.00518538],\n",
       "       [0.00926949, 0.99073051],\n",
       "       [0.0044467 , 0.9955533 ],\n",
       "       [0.00796103, 0.99203897],\n",
       "       [0.00395479, 0.99604521],\n",
       "       [0.99106303, 0.00893697],\n",
       "       [0.00578376, 0.99421624],\n",
       "       [0.99617557, 0.00382443],\n",
       "       [0.00384635, 0.99615365],\n",
       "       [0.99266011, 0.00733989],\n",
       "       [0.97072425, 0.02927575],\n",
       "       [0.99660751, 0.00339249],\n",
       "       [0.00395479, 0.99604521],\n",
       "       [0.00895266, 0.99104734],\n",
       "       [0.02048566, 0.97951434],\n",
       "       [0.066523  , 0.933477  ]])"
      ]
     },
     "execution_count": 33,
     "metadata": {},
     "output_type": "execute_result"
    }
   ],
   "source": [
    "clf.predict_proba(X_test)"
   ]
  },
  {
   "cell_type": "code",
   "execution_count": 34,
   "metadata": {},
   "outputs": [
    {
     "name": "stdout",
     "output_type": "stream",
     "text": [
      "What is the Testing Accuracy\n",
      "0.9866666666666667\n",
      "What is the Training Accuracy\n",
      "0.9942857142857143\n",
      "[[40  1]\n",
      " [ 0 34]]\n"
     ]
    }
   ],
   "source": [
    "from sklearn.metrics import confusion_matrix\n",
    "print(\"What is the Testing Accuracy\")\n",
    "print(clf.score(X_test,y_test))\n",
    "print(\"What is the Training Accuracy\")\n",
    "print(clf.score(X_train,y_train))\n",
    "y_pred=clf.predict(X_test)\n",
    "print(confusion_matrix(y_test,y_pred))"
   ]
  },
  {
   "cell_type": "code",
   "execution_count": 35,
   "metadata": {},
   "outputs": [
    {
     "data": {
      "text/plain": [
       "array([[1., 1., 3., 3., 3., 3., 1.],\n",
       "       [2., 2., 2., 2., 2., 2., 1.],\n",
       "       [3., 1., 2., 1., 2., 3., 2.],\n",
       "       [3., 3., 3., 3., 2., 3., 2.],\n",
       "       [3., 1., 2., 2., 2., 1., 1.],\n",
       "       [3., 1., 1., 3., 3., 2., 1.],\n",
       "       [1., 1., 2., 2., 2., 1., 1.],\n",
       "       [1., 3., 2., 2., 2., 1., 1.],\n",
       "       [1., 1., 2., 2., 2., 1., 1.],\n",
       "       [3., 3., 3., 2., 2., 3., 2.],\n",
       "       [1., 3., 2., 3., 2., 3., 2.],\n",
       "       [3., 2., 3., 1., 3., 1., 1.],\n",
       "       [1., 3., 2., 2., 2., 1., 1.],\n",
       "       [2., 3., 1., 3., 2., 3., 2.],\n",
       "       [1., 1., 1., 3., 1., 1., 0.],\n",
       "       [1., 1., 1., 2., 1., 3., 0.],\n",
       "       [1., 1., 2., 1., 1., 1., 0.],\n",
       "       [1., 3., 1., 1., 1., 1., 0.],\n",
       "       [1., 1., 2., 1., 1., 1., 0.],\n",
       "       [1., 2., 3., 2., 1., 3., 2.],\n",
       "       [3., 1., 1., 1., 2., 2., 0.],\n",
       "       [2., 3., 1., 2., 1., 1., 0.],\n",
       "       [2., 3., 1., 2., 1., 1., 0.],\n",
       "       [3., 1., 1., 1., 2., 2., 0.]])"
      ]
     },
     "execution_count": 35,
     "metadata": {},
     "output_type": "execute_result"
    }
   ],
   "source": [
    "# get support vectors\n",
    "clf.support_vectors_"
   ]
  },
  {
   "cell_type": "code",
   "execution_count": 36,
   "metadata": {},
   "outputs": [
    {
     "data": {
      "text/plain": [
       "array([ 60,  72,  85,  88, 106, 109, 113, 116, 137, 142, 144, 146, 161,\n",
       "       167,   3,  80, 104, 126, 143, 148, 152, 156, 159, 166])"
      ]
     },
     "execution_count": 36,
     "metadata": {},
     "output_type": "execute_result"
    }
   ],
   "source": [
    "# get indices of support vectors\n",
    "clf.support_"
   ]
  },
  {
   "cell_type": "code",
   "execution_count": 37,
   "metadata": {},
   "outputs": [
    {
     "data": {
      "text/plain": [
       "array([14, 10])"
      ]
     },
     "execution_count": 37,
     "metadata": {},
     "output_type": "execute_result"
    }
   ],
   "source": [
    "# get number of support vectors for each class\n",
    "clf.n_support_"
   ]
  },
  {
   "cell_type": "code",
   "execution_count": null,
   "metadata": {},
   "outputs": [],
   "source": [
    "`"
   ]
  }
 ],
 "metadata": {
  "kernelspec": {
   "display_name": "Python 3",
   "language": "python",
   "name": "python3"
  },
  "language_info": {
   "codemirror_mode": {
    "name": "ipython",
    "version": 3
   },
   "file_extension": ".py",
   "mimetype": "text/x-python",
   "name": "python",
   "nbconvert_exporter": "python",
   "pygments_lexer": "ipython3",
   "version": "3.7.4"
  }
 },
 "nbformat": 4,
 "nbformat_minor": 2
}
