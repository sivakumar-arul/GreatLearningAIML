{
 "cells": [
  {
   "cell_type": "markdown",
   "metadata": {
    "id": "YeoiMbH7djEv"
   },
   "source": [
    "# Stock prices dataset\n",
    "The data is of tock exchange's stock listings for each trading day of 2010 to 2016.\n",
    "\n",
    "## Description\n",
    "A brief description of columns.\n",
    "- open: The opening market price of the equity symbol on the date\n",
    "- high: The highest market price of the equity symbol on the date\n",
    "- low: The lowest recorded market price of the equity symbol on the date\n",
    "- close: The closing recorded price of the equity symbol on the date\n",
    "- symbol: Symbol of the listed company\n",
    "- volume: Total traded volume of the equity symbol on the date\n",
    "- date: Date of record"
   ]
  },
  {
   "cell_type": "markdown",
   "metadata": {
    "id": "RSoYY2nII_UW"
   },
   "source": [
    "In this assignment, we will work on the stock prices dataset named \"prices.csv\". Task is to create a Neural Network to classify closing price for a stock based on some parameters."
   ]
  },
  {
   "cell_type": "code",
   "execution_count": 26,
   "metadata": {
    "id": "PGqq9f8VdLba"
   },
   "outputs": [],
   "source": [
    "# Initialize the random number generator\n",
    "import random\n",
    "random.seed(0)\n",
    "\n",
    "# Ignore the warnings\n",
    "import warnings\n",
    "warnings.filterwarnings(\"ignore\")"
   ]
  },
  {
   "cell_type": "code",
   "execution_count": 26,
   "metadata": {
    "id": "x1sJqmlyDQJ8"
   },
   "outputs": [],
   "source": []
  },
  {
   "cell_type": "markdown",
   "metadata": {
    "id": "_88voqAH-O6J"
   },
   "source": [
    "## Question 1"
   ]
  },
  {
   "cell_type": "markdown",
   "metadata": {
    "id": "dRHCeJqP-evf"
   },
   "source": [
    "### Load the data\n",
    "- load the csv file and read it using pandas\n",
    "- file name is prices.csv"
   ]
  },
  {
   "cell_type": "code",
   "execution_count": 27,
   "metadata": {
    "id": "cKVH5v7r-RmC"
   },
   "outputs": [],
   "source": [
    "# run this cell to upload file using GUI if you are using google colab\n",
    "\n",
    "#from google.colab import files\n",
    "#files.upload()"
   ]
  },
  {
   "cell_type": "code",
   "execution_count": 28,
   "metadata": {
    "colab": {
     "base_uri": "https://localhost:8080/"
    },
    "id": "Gr4YcffYd1FQ",
    "outputId": "7291fc42-6506-49c0-9cb6-ac65efb9612c"
   },
   "outputs": [
    {
     "name": "stdout",
     "output_type": "stream",
     "text": [
      "Drive already mounted at /content/drive/; to attempt to forcibly remount, call drive.mount(\"/content/drive/\", force_remount=True).\n"
     ]
    }
   ],
   "source": [
    "# run this cell to to mount the google drive if you are using google colab\n",
    "\n",
    "from google.colab import drive\n",
    "drive.mount('/content/drive/')"
   ]
  },
  {
   "cell_type": "code",
   "execution_count": 29,
   "metadata": {
    "id": "MdkcYh10D8w-"
   },
   "outputs": [],
   "source": [
    "import pandas as pd\n",
    "df=pd.read_csv('/content/drive/My Drive/Education/Residency6-NeuralNetworks/prices.csv')"
   ]
  },
  {
   "cell_type": "code",
   "execution_count": 30,
   "metadata": {
    "colab": {
     "base_uri": "https://localhost:8080/",
     "height": 204
    },
    "id": "gdDD_EOz5oEd",
    "outputId": "2e75d965-3e6e-47f0-e363-a35e9f472695"
   },
   "outputs": [
    {
     "data": {
      "text/html": [
       "<div>\n",
       "<style scoped>\n",
       "    .dataframe tbody tr th:only-of-type {\n",
       "        vertical-align: middle;\n",
       "    }\n",
       "\n",
       "    .dataframe tbody tr th {\n",
       "        vertical-align: top;\n",
       "    }\n",
       "\n",
       "    .dataframe thead th {\n",
       "        text-align: right;\n",
       "    }\n",
       "</style>\n",
       "<table border=\"1\" class=\"dataframe\">\n",
       "  <thead>\n",
       "    <tr style=\"text-align: right;\">\n",
       "      <th></th>\n",
       "      <th>date</th>\n",
       "      <th>symbol</th>\n",
       "      <th>open</th>\n",
       "      <th>close</th>\n",
       "      <th>low</th>\n",
       "      <th>high</th>\n",
       "      <th>volume</th>\n",
       "    </tr>\n",
       "  </thead>\n",
       "  <tbody>\n",
       "    <tr>\n",
       "      <th>0</th>\n",
       "      <td>2016-01-05 00:00:00</td>\n",
       "      <td>WLTW</td>\n",
       "      <td>123.430000</td>\n",
       "      <td>125.839996</td>\n",
       "      <td>122.309998</td>\n",
       "      <td>126.250000</td>\n",
       "      <td>2163600.0</td>\n",
       "    </tr>\n",
       "    <tr>\n",
       "      <th>1</th>\n",
       "      <td>2016-01-06 00:00:00</td>\n",
       "      <td>WLTW</td>\n",
       "      <td>125.239998</td>\n",
       "      <td>119.980003</td>\n",
       "      <td>119.940002</td>\n",
       "      <td>125.540001</td>\n",
       "      <td>2386400.0</td>\n",
       "    </tr>\n",
       "    <tr>\n",
       "      <th>2</th>\n",
       "      <td>2016-01-07 00:00:00</td>\n",
       "      <td>WLTW</td>\n",
       "      <td>116.379997</td>\n",
       "      <td>114.949997</td>\n",
       "      <td>114.930000</td>\n",
       "      <td>119.739998</td>\n",
       "      <td>2489500.0</td>\n",
       "    </tr>\n",
       "    <tr>\n",
       "      <th>3</th>\n",
       "      <td>2016-01-08 00:00:00</td>\n",
       "      <td>WLTW</td>\n",
       "      <td>115.480003</td>\n",
       "      <td>116.620003</td>\n",
       "      <td>113.500000</td>\n",
       "      <td>117.440002</td>\n",
       "      <td>2006300.0</td>\n",
       "    </tr>\n",
       "    <tr>\n",
       "      <th>4</th>\n",
       "      <td>2016-01-11 00:00:00</td>\n",
       "      <td>WLTW</td>\n",
       "      <td>117.010002</td>\n",
       "      <td>114.970001</td>\n",
       "      <td>114.089996</td>\n",
       "      <td>117.330002</td>\n",
       "      <td>1408600.0</td>\n",
       "    </tr>\n",
       "  </tbody>\n",
       "</table>\n",
       "</div>"
      ],
      "text/plain": [
       "                  date symbol        open  ...         low        high     volume\n",
       "0  2016-01-05 00:00:00   WLTW  123.430000  ...  122.309998  126.250000  2163600.0\n",
       "1  2016-01-06 00:00:00   WLTW  125.239998  ...  119.940002  125.540001  2386400.0\n",
       "2  2016-01-07 00:00:00   WLTW  116.379997  ...  114.930000  119.739998  2489500.0\n",
       "3  2016-01-08 00:00:00   WLTW  115.480003  ...  113.500000  117.440002  2006300.0\n",
       "4  2016-01-11 00:00:00   WLTW  117.010002  ...  114.089996  117.330002  1408600.0\n",
       "\n",
       "[5 rows x 7 columns]"
      ]
     },
     "execution_count": 30,
     "metadata": {
      "tags": []
     },
     "output_type": "execute_result"
    }
   ],
   "source": [
    "df.head()"
   ]
  },
  {
   "cell_type": "markdown",
   "metadata": {
    "id": "HlLKVPVH_BCT"
   },
   "source": [
    "## Question 2"
   ]
  },
  {
   "cell_type": "markdown",
   "metadata": {
    "id": "ZxoGynuBeO4t"
   },
   "source": [
    "### Drop null\n",
    "- Drop null values if any"
   ]
  },
  {
   "cell_type": "code",
   "execution_count": 31,
   "metadata": {
    "colab": {
     "base_uri": "https://localhost:8080/"
    },
    "id": "_yuwJJIeeUaD",
    "outputId": "754515dc-21b7-4b22-c261-4abffb49b4bb"
   },
   "outputs": [
    {
     "data": {
      "text/plain": [
       "date      0\n",
       "symbol    0\n",
       "open      0\n",
       "close     0\n",
       "low       0\n",
       "high      0\n",
       "volume    0\n",
       "dtype: int64"
      ]
     },
     "execution_count": 31,
     "metadata": {
      "tags": []
     },
     "output_type": "execute_result"
    }
   ],
   "source": [
    "df.isnull().sum()"
   ]
  },
  {
   "cell_type": "code",
   "execution_count": 37,
   "metadata": {
    "colab": {
     "base_uri": "https://localhost:8080/"
    },
    "id": "me5BZG5_KTEG",
    "outputId": "ec5fa4ef-a374-4b55-9e71-18e2eee9afd5"
   },
   "outputs": [
    {
     "data": {
      "text/plain": [
       "(851264, 4)"
      ]
     },
     "execution_count": 37,
     "metadata": {
      "tags": []
     },
     "output_type": "execute_result"
    }
   ],
   "source": [
    "df.shape"
   ]
  },
  {
   "cell_type": "code",
   "execution_count": 38,
   "metadata": {
    "id": "DEfezRgtKXMh"
   },
   "outputs": [],
   "source": [
    "df.dropna(inplace=True)"
   ]
  },
  {
   "cell_type": "code",
   "execution_count": 39,
   "metadata": {
    "colab": {
     "base_uri": "https://localhost:8080/"
    },
    "id": "Vy9IpKytKeDu",
    "outputId": "266a576a-e495-4b45-d725-a86b9346d3ed"
   },
   "outputs": [
    {
     "data": {
      "text/plain": [
       "(851264, 4)"
      ]
     },
     "execution_count": 39,
     "metadata": {
      "tags": []
     },
     "output_type": "execute_result"
    }
   ],
   "source": [
    "df.shape"
   ]
  },
  {
   "cell_type": "markdown",
   "metadata": {
    "id": "9J4BlzVA_gZd"
   },
   "source": [
    "### Drop columns\n",
    "- Now, we don't need \"date\", \"volume\" and \"symbol\" column\n",
    "- drop \"date\", \"volume\" and \"symbol\" column from the data\n"
   ]
  },
  {
   "cell_type": "code",
   "execution_count": 32,
   "metadata": {
    "id": "IKEK8aEE_Csx"
   },
   "outputs": [],
   "source": [
    "df.drop(['date','symbol','volume'],axis=1,inplace=True)"
   ]
  },
  {
   "cell_type": "markdown",
   "metadata": {
    "id": "cTPhO6v-AiZt"
   },
   "source": [
    "## Question 3"
   ]
  },
  {
   "cell_type": "markdown",
   "metadata": {
    "id": "SsZXmF3NAkna"
   },
   "source": [
    "### Print the dataframe\n",
    "- print the modified dataframe"
   ]
  },
  {
   "cell_type": "code",
   "execution_count": 33,
   "metadata": {
    "colab": {
     "base_uri": "https://localhost:8080/",
     "height": 204
    },
    "id": "aKs04iIHAjxN",
    "outputId": "09901f1f-a76f-41fc-d1ac-e81a051972a2"
   },
   "outputs": [
    {
     "data": {
      "text/html": [
       "<div>\n",
       "<style scoped>\n",
       "    .dataframe tbody tr th:only-of-type {\n",
       "        vertical-align: middle;\n",
       "    }\n",
       "\n",
       "    .dataframe tbody tr th {\n",
       "        vertical-align: top;\n",
       "    }\n",
       "\n",
       "    .dataframe thead th {\n",
       "        text-align: right;\n",
       "    }\n",
       "</style>\n",
       "<table border=\"1\" class=\"dataframe\">\n",
       "  <thead>\n",
       "    <tr style=\"text-align: right;\">\n",
       "      <th></th>\n",
       "      <th>open</th>\n",
       "      <th>close</th>\n",
       "      <th>low</th>\n",
       "      <th>high</th>\n",
       "    </tr>\n",
       "  </thead>\n",
       "  <tbody>\n",
       "    <tr>\n",
       "      <th>0</th>\n",
       "      <td>123.430000</td>\n",
       "      <td>125.839996</td>\n",
       "      <td>122.309998</td>\n",
       "      <td>126.250000</td>\n",
       "    </tr>\n",
       "    <tr>\n",
       "      <th>1</th>\n",
       "      <td>125.239998</td>\n",
       "      <td>119.980003</td>\n",
       "      <td>119.940002</td>\n",
       "      <td>125.540001</td>\n",
       "    </tr>\n",
       "    <tr>\n",
       "      <th>2</th>\n",
       "      <td>116.379997</td>\n",
       "      <td>114.949997</td>\n",
       "      <td>114.930000</td>\n",
       "      <td>119.739998</td>\n",
       "    </tr>\n",
       "    <tr>\n",
       "      <th>3</th>\n",
       "      <td>115.480003</td>\n",
       "      <td>116.620003</td>\n",
       "      <td>113.500000</td>\n",
       "      <td>117.440002</td>\n",
       "    </tr>\n",
       "    <tr>\n",
       "      <th>4</th>\n",
       "      <td>117.010002</td>\n",
       "      <td>114.970001</td>\n",
       "      <td>114.089996</td>\n",
       "      <td>117.330002</td>\n",
       "    </tr>\n",
       "  </tbody>\n",
       "</table>\n",
       "</div>"
      ],
      "text/plain": [
       "         open       close         low        high\n",
       "0  123.430000  125.839996  122.309998  126.250000\n",
       "1  125.239998  119.980003  119.940002  125.540001\n",
       "2  116.379997  114.949997  114.930000  119.739998\n",
       "3  115.480003  116.620003  113.500000  117.440002\n",
       "4  117.010002  114.970001  114.089996  117.330002"
      ]
     },
     "execution_count": 33,
     "metadata": {
      "tags": []
     },
     "output_type": "execute_result"
    }
   ],
   "source": [
    "df.head()"
   ]
  },
  {
   "cell_type": "markdown",
   "metadata": {
    "id": "C8u_jlbABTip"
   },
   "source": [
    "### Get features and label from the dataset in separate variable\n",
    "- Let's separate labels and features now. We are going to predict the value for \"close\" column so that will be our label. Our features will be \"open\", \"low\", \"high\"\n",
    "- Take \"open\" \"low\", \"high\" columns as features\n",
    "- Take \"close\" column as label"
   ]
  },
  {
   "cell_type": "code",
   "execution_count": 46,
   "metadata": {
    "id": "xQjCMzUXBJbg"
   },
   "outputs": [],
   "source": [
    "X=df.iloc[:,[0,2,3]]\n",
    "#df.loc(['open','low','high'],axis=1)\n",
    "y=df['close']\n",
    "#y=df.pop('close')\n",
    "#X=df"
   ]
  },
  {
   "cell_type": "code",
   "execution_count": 48,
   "metadata": {
    "colab": {
     "base_uri": "https://localhost:8080/"
    },
    "id": "h8fUhzOkLeN3",
    "outputId": "70d6800a-5a98-4635-d6b4-017eba0244cb"
   },
   "outputs": [
    {
     "name": "stdout",
     "output_type": "stream",
     "text": [
      "(851264, 3)\n",
      "(851264,)\n"
     ]
    }
   ],
   "source": [
    "print(X.shape)\n",
    "print(y.shape)"
   ]
  },
  {
   "cell_type": "markdown",
   "metadata": {
    "id": "6vGtnapgBIJm"
   },
   "source": [
    "## Question 4"
   ]
  },
  {
   "cell_type": "markdown",
   "metadata": {
    "id": "8pZAKdJ5gcrm"
   },
   "source": [
    "### Create train and test sets\n",
    "- Split the data into training and testing"
   ]
  },
  {
   "cell_type": "code",
   "execution_count": 51,
   "metadata": {
    "id": "KalRqA6Rgqsn"
   },
   "outputs": [],
   "source": [
    "import matplotlib.pyplot as plt\n",
    "import tensorflow as tf\n",
    "from sklearn.model_selection import train_test_split"
   ]
  },
  {
   "cell_type": "code",
   "execution_count": 91,
   "metadata": {
    "id": "lQBydHJPOks6"
   },
   "outputs": [],
   "source": [
    "X_train,X_test,y_train,y_test=train_test_split(X,y,test_size=0.25,random_state=23)"
   ]
  },
  {
   "cell_type": "markdown",
   "metadata": {
    "id": "aTAKzlxZBz0z"
   },
   "source": [
    "## Question 5"
   ]
  },
  {
   "cell_type": "markdown",
   "metadata": {
    "id": "O7BU2qxEg0Ki"
   },
   "source": [
    "### Scaling\n",
    "- Scale the data (features only)\n",
    "- Use StandarScaler"
   ]
  },
  {
   "cell_type": "code",
   "execution_count": 92,
   "metadata": {
    "id": "AcO8SlhPhBkR"
   },
   "outputs": [],
   "source": [
    "from sklearn.preprocessing import StandardScaler \n",
    "sc=StandardScaler()\n",
    "X_train_scaled=sc.fit_transform(X_train)\n",
    "X_test_scaled=sc.transform(X_test)"
   ]
  },
  {
   "cell_type": "markdown",
   "metadata": {
    "id": "3TWpN0nVTpUx"
   },
   "source": [
    "## Question 6"
   ]
  },
  {
   "cell_type": "markdown",
   "metadata": {
    "id": "_sj0LYNkhR-L"
   },
   "source": [
    "### Convert data to NumPy array\n",
    "- Convert features and labels to numpy array"
   ]
  },
  {
   "cell_type": "code",
   "execution_count": 93,
   "metadata": {
    "id": "X6mIfuTxhbTT"
   },
   "outputs": [],
   "source": [
    "import numpy as np\n",
    "y_train=np.array(y_train)\n",
    "y_test=np.array(y_test)"
   ]
  },
  {
   "cell_type": "code",
   "execution_count": 94,
   "metadata": {
    "colab": {
     "base_uri": "https://localhost:8080/"
    },
    "id": "3TCCJLJLUDfb",
    "outputId": "fcba7bea-80fb-4fc6-d1e7-d3b35d039927"
   },
   "outputs": [
    {
     "name": "stdout",
     "output_type": "stream",
     "text": [
      "<class 'numpy.ndarray'>\n",
      "<class 'numpy.ndarray'>\n"
     ]
    }
   ],
   "source": [
    "print(type(X_train_scaled))\n",
    "print(type(y_train))"
   ]
  },
  {
   "cell_type": "markdown",
   "metadata": {
    "id": "wmXUGc2oTspa"
   },
   "source": [
    "## Question 7"
   ]
  },
  {
   "cell_type": "markdown",
   "metadata": {
    "id": "cl2M9whFh6mh"
   },
   "source": [
    "### Define Model\n",
    "- Initialize a Sequential model\n",
    "- Add a Flatten layer\n",
    "- Add a Dense layer with one neuron as output\n",
    "  - add 'linear' as activation function\n"
   ]
  },
  {
   "cell_type": "code",
   "execution_count": 95,
   "metadata": {
    "colab": {
     "base_uri": "https://localhost:8080/"
    },
    "id": "X939RwPxY-SS",
    "outputId": "fb24e2c0-f1e9-4d2e-a6cd-102ba0273b9e"
   },
   "outputs": [
    {
     "data": {
      "text/plain": [
       "(638448, 3)"
      ]
     },
     "execution_count": 95,
     "metadata": {
      "tags": []
     },
     "output_type": "execute_result"
    }
   ],
   "source": [
    "X_train_scaled.shape"
   ]
  },
  {
   "cell_type": "code",
   "execution_count": 96,
   "metadata": {
    "id": "TkiBpORmiegL"
   },
   "outputs": [],
   "source": [
    "import tensorflow as tf\n",
    "from tensorflow.keras.layers import Input\n",
    "from tensorflow.keras.models import Sequential\n",
    "from tensorflow.keras.layers import Flatten,Dense"
   ]
  },
  {
   "cell_type": "code",
   "execution_count": 97,
   "metadata": {
    "colab": {
     "base_uri": "https://localhost:8080/"
    },
    "id": "twBBVrkQUurx",
    "outputId": "1ada56d4-2199-439a-de1a-cf3eb1cd7e60"
   },
   "outputs": [
    {
     "data": {
      "text/plain": [
       "(None, 1)"
      ]
     },
     "execution_count": 97,
     "metadata": {
      "tags": []
     },
     "output_type": "execute_result"
    }
   ],
   "source": [
    "#Initialize Sequential model\n",
    "model = tf.keras.Sequential()\n",
    "model.add(tf.keras.layers.Dense(1,activation='linear',input_shape=(3,)))\n",
    "model.output_shape"
   ]
  },
  {
   "cell_type": "code",
   "execution_count": 98,
   "metadata": {
    "colab": {
     "base_uri": "https://localhost:8080/"
    },
    "id": "BgE2gOlxeK1o",
    "outputId": "641a96be-0da0-4108-9cae-af2738c83ae3"
   },
   "outputs": [
    {
     "data": {
      "text/plain": [
       "(None, 1)"
      ]
     },
     "execution_count": 98,
     "metadata": {
      "tags": []
     },
     "output_type": "execute_result"
    }
   ],
   "source": [
    "model1=Sequential(\n",
    "      [Input(shape=(3,)),Flatten(),\n",
    "       Dense(1,activation='linear')])\n",
    "model1.output_shape"
   ]
  },
  {
   "cell_type": "code",
   "execution_count": null,
   "metadata": {
    "id": "garjKsm6Vu9v"
   },
   "outputs": [],
   "source": [
    "#Reshape data from 2D to 1D -> 851264*3 to 2553792\n",
    "#model.add(tf.keras.layers.Reshape((2553792,),input_shape=(851264,3,)))\n",
    "\n",
    "#Normalize the data\n",
    "#model.add(tf.keras.layers.BatchNormalization())"
   ]
  },
  {
   "cell_type": "code",
   "execution_count": null,
   "metadata": {
    "id": "acDsEgiHVusQ"
   },
   "outputs": [],
   "source": [
    "from te"
   ]
  },
  {
   "cell_type": "markdown",
   "metadata": {
    "id": "8a0wr94aTyjg"
   },
   "source": [
    "## Question 8"
   ]
  },
  {
   "cell_type": "markdown",
   "metadata": {
    "id": "BNZPb5lKioX0"
   },
   "source": [
    "### Compile the model\n",
    "- Compile the model\n",
    "- Use \"sgd\" optimizer\n",
    "- for calculating loss, use mean squared error"
   ]
  },
  {
   "cell_type": "code",
   "execution_count": 104,
   "metadata": {
    "id": "ZEQUP3VaiuT2"
   },
   "outputs": [],
   "source": [
    "#Create optimizer with non-default learning rate\n",
    "sgd_optimizer = tf.keras.optimizers.SGD(lr=0.03)\n",
    "\n",
    "#Compile the model\n",
    "model1.compile(optimizer=sgd_optimizer, loss='mse')\n",
    "model.compile(optimizer=sgd_optimizer, loss='mse')"
   ]
  },
  {
   "cell_type": "code",
   "execution_count": 86,
   "metadata": {
    "colab": {
     "base_uri": "https://localhost:8080/"
    },
    "id": "_GAc1wfpjJuk",
    "outputId": "1ec42920-2101-41ec-e1b6-c3c66e15bb49"
   },
   "outputs": [
    {
     "name": "stdout",
     "output_type": "stream",
     "text": [
      "Model: \"sequential_8\"\n",
      "_________________________________________________________________\n",
      "Layer (type)                 Output Shape              Param #   \n",
      "=================================================================\n",
      "flatten_4 (Flatten)          (None, 3)                 0         \n",
      "_________________________________________________________________\n",
      "dense_4 (Dense)              (None, 1)                 4         \n",
      "=================================================================\n",
      "Total params: 4\n",
      "Trainable params: 4\n",
      "Non-trainable params: 0\n",
      "_________________________________________________________________\n"
     ]
    }
   ],
   "source": [
    "model1.summary()"
   ]
  },
  {
   "cell_type": "markdown",
   "metadata": {
    "id": "ZbBpnOtfT0wd"
   },
   "source": [
    "## Question 9"
   ]
  },
  {
   "cell_type": "markdown",
   "metadata": {
    "id": "n9o45OHdjDhA"
   },
   "source": [
    "### Fit the model\n",
    "- epochs: 50\n",
    "- batch size: 128\n",
    "- specify validation data"
   ]
  },
  {
   "cell_type": "code",
   "execution_count": 105,
   "metadata": {
    "colab": {
     "base_uri": "https://localhost:8080/"
    },
    "id": "lrocGmhHqY7g",
    "outputId": "f6948e82-a2d4-4b78-afe5-785f52165f16"
   },
   "outputs": [
    {
     "name": "stdout",
     "output_type": "stream",
     "text": [
      "Epoch 1/50\n",
      "4988/4988 [==============================] - 5s 970us/step - loss: 13.8186 - val_loss: 0.9662\n",
      "Epoch 2/50\n",
      "4988/4988 [==============================] - 5s 981us/step - loss: 0.9713 - val_loss: 0.9398\n",
      "Epoch 3/50\n",
      "4988/4988 [==============================] - 5s 1ms/step - loss: 0.9505 - val_loss: 0.9937\n",
      "Epoch 4/50\n",
      "4988/4988 [==============================] - 5s 1ms/step - loss: 0.9283 - val_loss: 0.9051\n",
      "Epoch 5/50\n",
      "4988/4988 [==============================] - 5s 992us/step - loss: 0.9102 - val_loss: 0.8774\n",
      "Epoch 6/50\n",
      "4988/4988 [==============================] - 5s 989us/step - loss: 0.8877 - val_loss: 0.8639\n",
      "Epoch 7/50\n",
      "4988/4988 [==============================] - 5s 989us/step - loss: 0.8705 - val_loss: 0.8773\n",
      "Epoch 8/50\n",
      "4988/4988 [==============================] - 5s 993us/step - loss: 0.8551 - val_loss: 0.8525\n",
      "Epoch 9/50\n",
      "4988/4988 [==============================] - 5s 993us/step - loss: 0.8379 - val_loss: 0.8138\n",
      "Epoch 10/50\n",
      "4988/4988 [==============================] - 5s 995us/step - loss: 0.8200 - val_loss: 0.8117\n",
      "Epoch 11/50\n",
      "4988/4988 [==============================] - 5s 977us/step - loss: 0.8042 - val_loss: 0.8030\n",
      "Epoch 12/50\n",
      "4988/4988 [==============================] - 5s 985us/step - loss: 0.7900 - val_loss: 0.7710\n",
      "Epoch 13/50\n",
      "4988/4988 [==============================] - 5s 991us/step - loss: 0.7761 - val_loss: 0.7503\n",
      "Epoch 14/50\n",
      "4988/4988 [==============================] - 5s 998us/step - loss: 0.7645 - val_loss: 0.7376\n",
      "Epoch 15/50\n",
      "4988/4988 [==============================] - 5s 1ms/step - loss: 0.7484 - val_loss: 0.8611\n",
      "Epoch 16/50\n",
      "4988/4988 [==============================] - 5s 1ms/step - loss: 0.7384 - val_loss: 0.7154\n",
      "Epoch 17/50\n",
      "4988/4988 [==============================] - 5s 1ms/step - loss: 0.7251 - val_loss: 0.7196\n",
      "Epoch 18/50\n",
      "4988/4988 [==============================] - 5s 1ms/step - loss: 0.7110 - val_loss: 0.6980\n",
      "Epoch 19/50\n",
      "4988/4988 [==============================] - 5s 1ms/step - loss: 0.7032 - val_loss: 0.6894\n",
      "Epoch 20/50\n",
      "4988/4988 [==============================] - 5s 1ms/step - loss: 0.6918 - val_loss: 0.6689\n",
      "Epoch 21/50\n",
      "4988/4988 [==============================] - 5s 985us/step - loss: 0.6799 - val_loss: 0.6593\n",
      "Epoch 22/50\n",
      "4988/4988 [==============================] - 5s 990us/step - loss: 0.6732 - val_loss: 0.6930\n",
      "Epoch 23/50\n",
      "4988/4988 [==============================] - 5s 994us/step - loss: 0.6609 - val_loss: 0.6410\n",
      "Epoch 24/50\n",
      "4988/4988 [==============================] - 5s 1ms/step - loss: 0.6526 - val_loss: 0.6929\n",
      "Epoch 25/50\n",
      "4988/4988 [==============================] - 5s 1ms/step - loss: 0.6419 - val_loss: 0.6857\n",
      "Epoch 26/50\n",
      "4988/4988 [==============================] - 5s 996us/step - loss: 0.6347 - val_loss: 0.6739\n",
      "Epoch 27/50\n",
      "4988/4988 [==============================] - 5s 1ms/step - loss: 0.6269 - val_loss: 0.6130\n",
      "Epoch 28/50\n",
      "4988/4988 [==============================] - 5s 1ms/step - loss: 0.6202 - val_loss: 0.6039\n",
      "Epoch 29/50\n",
      "4988/4988 [==============================] - 5s 1ms/step - loss: 0.6134 - val_loss: 0.6006\n",
      "Epoch 30/50\n",
      "4988/4988 [==============================] - 5s 1ms/step - loss: 0.6042 - val_loss: 0.6211\n",
      "Epoch 31/50\n",
      "4988/4988 [==============================] - 5s 1ms/step - loss: 0.5979 - val_loss: 0.5812\n",
      "Epoch 32/50\n",
      "4988/4988 [==============================] - 5s 977us/step - loss: 0.5923 - val_loss: 0.5845\n",
      "Epoch 33/50\n",
      "4988/4988 [==============================] - 5s 1ms/step - loss: 0.5858 - val_loss: 0.5661\n",
      "Epoch 34/50\n",
      "4988/4988 [==============================] - 5s 1ms/step - loss: 0.5784 - val_loss: 0.5671\n",
      "Epoch 35/50\n",
      "4988/4988 [==============================] - 6s 1ms/step - loss: 0.5717 - val_loss: 0.5634\n",
      "Epoch 36/50\n",
      "4988/4988 [==============================] - 6s 1ms/step - loss: 0.5671 - val_loss: 0.5500\n",
      "Epoch 37/50\n",
      "4988/4988 [==============================] - 5s 1ms/step - loss: 0.5612 - val_loss: 0.5538\n",
      "Epoch 38/50\n",
      "4988/4988 [==============================] - 5s 977us/step - loss: 0.5557 - val_loss: 0.5410\n",
      "Epoch 39/50\n",
      "4988/4988 [==============================] - 5s 993us/step - loss: 0.5515 - val_loss: 0.5343\n",
      "Epoch 40/50\n",
      "4988/4988 [==============================] - 5s 987us/step - loss: 0.5475 - val_loss: 0.5294\n",
      "Epoch 41/50\n",
      "4988/4988 [==============================] - 5s 1ms/step - loss: 0.5403 - val_loss: 0.5252\n",
      "Epoch 42/50\n",
      "4988/4988 [==============================] - 5s 988us/step - loss: 0.5377 - val_loss: 0.5269\n",
      "Epoch 43/50\n",
      "4988/4988 [==============================] - 5s 1ms/step - loss: 0.5336 - val_loss: 0.5323\n",
      "Epoch 44/50\n",
      "4988/4988 [==============================] - 5s 1ms/step - loss: 0.5288 - val_loss: 0.5138\n",
      "Epoch 45/50\n",
      "4988/4988 [==============================] - 6s 1ms/step - loss: 0.5249 - val_loss: 0.5275\n",
      "Epoch 46/50\n",
      "4988/4988 [==============================] - 5s 1ms/step - loss: 0.5219 - val_loss: 0.5054\n",
      "Epoch 47/50\n",
      "4988/4988 [==============================] - 5s 967us/step - loss: 0.5177 - val_loss: 0.5043\n",
      "Epoch 48/50\n",
      "4988/4988 [==============================] - 5s 980us/step - loss: 0.5151 - val_loss: 0.5085\n",
      "Epoch 49/50\n",
      "4988/4988 [==============================] - 5s 967us/step - loss: 0.5122 - val_loss: 0.5035\n",
      "Epoch 50/50\n",
      "4988/4988 [==============================] - 5s 977us/step - loss: 0.5091 - val_loss: 0.4929\n"
     ]
    },
    {
     "data": {
      "text/plain": [
       "<tensorflow.python.keras.callbacks.History at 0x7f2de2a8a9b0>"
      ]
     },
     "execution_count": 105,
     "metadata": {
      "tags": []
     },
     "output_type": "execute_result"
    }
   ],
   "source": [
    "model.fit(X_train_scaled,y_train,        \n",
    "          validation_data=(X_test_scaled,y_test),\n",
    "          epochs=50,\n",
    "          batch_size=128)"
   ]
  },
  {
   "cell_type": "code",
   "execution_count": 100,
   "metadata": {
    "colab": {
     "base_uri": "https://localhost:8080/"
    },
    "id": "-Y6tA30XjOH2",
    "outputId": "ba8dc4f1-acc6-451a-d43e-260fdffc5b25"
   },
   "outputs": [
    {
     "name": "stdout",
     "output_type": "stream",
     "text": [
      "Epoch 1/50\n",
      "4988/4988 [==============================] - 5s 1ms/step - loss: 13.9956 - val_loss: 0.9675\n",
      "Epoch 2/50\n",
      "4988/4988 [==============================] - 5s 963us/step - loss: 0.9789 - val_loss: 0.9437\n",
      "Epoch 3/50\n",
      "4988/4988 [==============================] - 5s 994us/step - loss: 0.9566 - val_loss: 0.9281\n",
      "Epoch 4/50\n",
      "4988/4988 [==============================] - 5s 975us/step - loss: 0.9347 - val_loss: 0.9689\n",
      "Epoch 5/50\n",
      "4988/4988 [==============================] - 5s 969us/step - loss: 0.9142 - val_loss: 0.9192\n",
      "Epoch 6/50\n",
      "4988/4988 [==============================] - 5s 993us/step - loss: 0.8942 - val_loss: 0.8941\n",
      "Epoch 7/50\n",
      "4988/4988 [==============================] - 5s 989us/step - loss: 0.8757 - val_loss: 0.8809\n",
      "Epoch 8/50\n",
      "4988/4988 [==============================] - 5s 976us/step - loss: 0.8624 - val_loss: 0.8301\n",
      "Epoch 9/50\n",
      "4988/4988 [==============================] - 5s 968us/step - loss: 0.8418 - val_loss: 0.8145\n",
      "Epoch 10/50\n",
      "4988/4988 [==============================] - 5s 979us/step - loss: 0.8287 - val_loss: 0.8249\n",
      "Epoch 11/50\n",
      "4988/4988 [==============================] - 5s 965us/step - loss: 0.8119 - val_loss: 0.7907\n",
      "Epoch 12/50\n",
      "4988/4988 [==============================] - 5s 971us/step - loss: 0.7962 - val_loss: 1.3075\n",
      "Epoch 13/50\n",
      "4988/4988 [==============================] - 5s 983us/step - loss: 0.7850 - val_loss: 0.7552\n",
      "Epoch 14/50\n",
      "4988/4988 [==============================] - 5s 973us/step - loss: 0.7710 - val_loss: 0.7677\n",
      "Epoch 15/50\n",
      "4988/4988 [==============================] - 6s 1ms/step - loss: 0.7555 - val_loss: 0.7549\n",
      "Epoch 16/50\n",
      "4988/4988 [==============================] - 6s 1ms/step - loss: 0.7417 - val_loss: 0.7190\n",
      "Epoch 17/50\n",
      "4988/4988 [==============================] - 5s 973us/step - loss: 0.7319 - val_loss: 0.7143\n",
      "Epoch 18/50\n",
      "4988/4988 [==============================] - 5s 957us/step - loss: 0.7179 - val_loss: 0.6947\n",
      "Epoch 19/50\n",
      "4988/4988 [==============================] - 5s 993us/step - loss: 0.7072 - val_loss: 0.6835\n",
      "Epoch 20/50\n",
      "4988/4988 [==============================] - 5s 975us/step - loss: 0.6950 - val_loss: 0.6775\n",
      "Epoch 21/50\n",
      "4988/4988 [==============================] - 5s 973us/step - loss: 0.6850 - val_loss: 0.6928\n",
      "Epoch 22/50\n",
      "4988/4988 [==============================] - 5s 982us/step - loss: 0.6729 - val_loss: 0.6552\n",
      "Epoch 23/50\n",
      "4988/4988 [==============================] - 5s 960us/step - loss: 0.6654 - val_loss: 0.6434\n",
      "Epoch 24/50\n",
      "4988/4988 [==============================] - 5s 959us/step - loss: 0.6579 - val_loss: 0.6352\n",
      "Epoch 25/50\n",
      "4988/4988 [==============================] - 5s 966us/step - loss: 0.6478 - val_loss: 0.6680\n",
      "Epoch 26/50\n",
      "4988/4988 [==============================] - 5s 969us/step - loss: 0.6390 - val_loss: 0.6177\n",
      "Epoch 27/50\n",
      "4988/4988 [==============================] - 6s 1ms/step - loss: 0.6311 - val_loss: 0.6212\n",
      "Epoch 28/50\n",
      "4988/4988 [==============================] - 5s 1ms/step - loss: 0.6229 - val_loss: 0.6613\n",
      "Epoch 29/50\n",
      "4988/4988 [==============================] - 5s 982us/step - loss: 0.6145 - val_loss: 0.5999\n",
      "Epoch 30/50\n",
      "4988/4988 [==============================] - 5s 975us/step - loss: 0.6074 - val_loss: 0.5918\n",
      "Epoch 31/50\n",
      "4988/4988 [==============================] - 5s 967us/step - loss: 0.6007 - val_loss: 0.5864\n",
      "Epoch 32/50\n",
      "4988/4988 [==============================] - 5s 985us/step - loss: 0.5931 - val_loss: 0.6190\n",
      "Epoch 33/50\n",
      "4988/4988 [==============================] - 5s 966us/step - loss: 0.5878 - val_loss: 0.6042\n",
      "Epoch 34/50\n",
      "4988/4988 [==============================] - 5s 983us/step - loss: 0.5807 - val_loss: 0.6332\n",
      "Epoch 35/50\n",
      "4988/4988 [==============================] - 5s 995us/step - loss: 0.5760 - val_loss: 0.5611\n",
      "Epoch 36/50\n",
      "4988/4988 [==============================] - 5s 975us/step - loss: 0.5695 - val_loss: 0.5524\n",
      "Epoch 37/50\n",
      "4988/4988 [==============================] - 5s 979us/step - loss: 0.5651 - val_loss: 0.5513\n",
      "Epoch 38/50\n",
      "4988/4988 [==============================] - 5s 976us/step - loss: 0.5605 - val_loss: 0.5409\n",
      "Epoch 39/50\n",
      "4988/4988 [==============================] - 5s 1ms/step - loss: 0.5536 - val_loss: 0.5541\n",
      "Epoch 40/50\n",
      "4988/4988 [==============================] - 5s 976us/step - loss: 0.5489 - val_loss: 0.5353\n",
      "Epoch 41/50\n",
      "4988/4988 [==============================] - 5s 986us/step - loss: 0.5446 - val_loss: 0.5333\n",
      "Epoch 42/50\n",
      "4988/4988 [==============================] - 5s 981us/step - loss: 0.5402 - val_loss: 0.5226\n",
      "Epoch 43/50\n",
      "4988/4988 [==============================] - 5s 970us/step - loss: 0.5361 - val_loss: 0.5394\n",
      "Epoch 44/50\n",
      "4988/4988 [==============================] - 5s 976us/step - loss: 0.5306 - val_loss: 0.5141\n",
      "Epoch 45/50\n",
      "4988/4988 [==============================] - 5s 963us/step - loss: 0.5273 - val_loss: 0.5104\n",
      "Epoch 46/50\n",
      "4988/4988 [==============================] - 5s 997us/step - loss: 0.5236 - val_loss: 0.5318\n",
      "Epoch 47/50\n",
      "4988/4988 [==============================] - 5s 989us/step - loss: 0.5189 - val_loss: 0.5048\n",
      "Epoch 48/50\n",
      "4988/4988 [==============================] - 5s 989us/step - loss: 0.5155 - val_loss: 0.5099\n",
      "Epoch 49/50\n",
      "4988/4988 [==============================] - 5s 977us/step - loss: 0.5125 - val_loss: 0.5026\n",
      "Epoch 50/50\n",
      "4988/4988 [==============================] - 5s 957us/step - loss: 0.5083 - val_loss: 0.4986\n"
     ]
    },
    {
     "data": {
      "text/plain": [
       "<tensorflow.python.keras.callbacks.History at 0x7f2de4bd7f60>"
      ]
     },
     "execution_count": 100,
     "metadata": {
      "tags": []
     },
     "output_type": "execute_result"
    }
   ],
   "source": [
    "model1.fit(X_train_scaled,y_train,        \n",
    "          validation_data=(X_test_scaled,y_test),\n",
    "          epochs=50,\n",
    "          batch_size=128)"
   ]
  },
  {
   "cell_type": "markdown",
   "metadata": {
    "id": "AW4SEP8kT2ls"
   },
   "source": [
    "## Question 10"
   ]
  },
  {
   "cell_type": "markdown",
   "metadata": {
    "id": "EJDoix_7JU61"
   },
   "source": [
    "### Evaluate the model\n",
    "- Evaluate the model on test data"
   ]
  },
  {
   "cell_type": "code",
   "execution_count": 101,
   "metadata": {
    "colab": {
     "base_uri": "https://localhost:8080/"
    },
    "id": "HdH8pYBIjHGL",
    "outputId": "f8050f7e-af26-4a41-ba09-92b72e735a31"
   },
   "outputs": [
    {
     "name": "stdout",
     "output_type": "stream",
     "text": [
      "6651/6651 [==============================] - 4s 660us/step - loss: 0.4986\n"
     ]
    },
    {
     "data": {
      "text/plain": [
       "0.49861329793930054"
      ]
     },
     "execution_count": 101,
     "metadata": {
      "tags": []
     },
     "output_type": "execute_result"
    }
   ],
   "source": [
    "model1.evaluate(X_test_scaled,y_test)"
   ]
  },
  {
   "cell_type": "code",
   "execution_count": 106,
   "metadata": {
    "colab": {
     "base_uri": "https://localhost:8080/"
    },
    "id": "hf2YKnnerP7_",
    "outputId": "a8c719e5-7a3e-4734-8897-b5e12d03f84d"
   },
   "outputs": [
    {
     "name": "stdout",
     "output_type": "stream",
     "text": [
      "6651/6651 [==============================] - 5s 684us/step - loss: 0.4929\n"
     ]
    },
    {
     "data": {
      "text/plain": [
       "0.49289825558662415"
      ]
     },
     "execution_count": 106,
     "metadata": {
      "tags": []
     },
     "output_type": "execute_result"
    }
   ],
   "source": [
    "model.evaluate(X_test_scaled,y_test)"
   ]
  },
  {
   "cell_type": "markdown",
   "metadata": {
    "id": "hUpDD74Xjh01"
   },
   "source": [
    "### Manual predictions\n",
    "- Test the predictions on manual inputs\n",
    "- We have scaled out training data, so we need to transform our custom inputs using the object of the scaler\n",
    "- Example of manual input: [123.430000,\t122.30999, 116.250000]"
   ]
  },
  {
   "cell_type": "code",
   "execution_count": 111,
   "metadata": {
    "colab": {
     "base_uri": "https://localhost:8080/"
    },
    "id": "fvuH-c31lLiJ",
    "outputId": "55cf90c0-8df1-4866-ff86-6f66f731efde"
   },
   "outputs": [
    {
     "data": {
      "text/plain": [
       "array([[118.35821]], dtype=float32)"
      ]
     },
     "execution_count": 111,
     "metadata": {
      "tags": []
     },
     "output_type": "execute_result"
    }
   ],
   "source": [
    " model.predict(sc.transform([[123.430000, 122.30999, 116.250000]]))"
   ]
  },
  {
   "cell_type": "markdown",
   "metadata": {
    "id": "4WH1Pr4KQlCh"
   },
   "source": [
    "# Build a DNN"
   ]
  },
  {
   "cell_type": "markdown",
   "metadata": {
    "id": "74cQBsi5QlCw"
   },
   "source": [
    "### Collect Fashion mnist data from tf.keras.datasets "
   ]
  },
  {
   "cell_type": "code",
   "execution_count": 114,
   "metadata": {
    "id": "wVWy0oDTr2Kj"
   },
   "outputs": [],
   "source": [
    "(trainX, trainY),(testX, testY) = tf.keras.datasets.fashion_mnist.load_data()"
   ]
  },
  {
   "cell_type": "markdown",
   "metadata": {
    "id": "no7aWYZyQlC1"
   },
   "source": [
    "### Change train and test labels into one-hot vectors"
   ]
  },
  {
   "cell_type": "code",
   "execution_count": 115,
   "metadata": {
    "colab": {
     "base_uri": "https://localhost:8080/"
    },
    "id": "UX6otc4wQlC2",
    "outputId": "05bab34c-42fe-4b0a-cc54-b14afa80668a"
   },
   "outputs": [
    {
     "data": {
      "text/plain": [
       "(60000, 28, 28)"
      ]
     },
     "execution_count": 115,
     "metadata": {
      "tags": []
     },
     "output_type": "execute_result"
    }
   ],
   "source": [
    "trainX.shape"
   ]
  },
  {
   "cell_type": "code",
   "execution_count": 117,
   "metadata": {
    "colab": {
     "base_uri": "https://localhost:8080/"
    },
    "id": "PFM9IXI5tJJy",
    "outputId": "74efa3c3-6c8d-433f-ca4e-f3c1054656ff"
   },
   "outputs": [
    {
     "data": {
      "text/plain": [
       "(60000,)"
      ]
     },
     "execution_count": 117,
     "metadata": {
      "tags": []
     },
     "output_type": "execute_result"
    }
   ],
   "source": [
    "trainY.shape"
   ]
  },
  {
   "cell_type": "code",
   "execution_count": 118,
   "metadata": {
    "id": "lvIGVegRtJhN"
   },
   "outputs": [],
   "source": [
    "trainY = tf.keras.utils.to_categorical(trainY, num_classes=10)\n",
    "testY = tf.keras.utils.to_categorical(testY, num_classes=10)"
   ]
  },
  {
   "cell_type": "code",
   "execution_count": 119,
   "metadata": {
    "colab": {
     "base_uri": "https://localhost:8080/"
    },
    "id": "scn0DgevuIs7",
    "outputId": "e6c2ac32-cf6d-4cc7-9bf0-500d9740e7b3"
   },
   "outputs": [
    {
     "data": {
      "text/plain": [
       "array([[0., 0., 0., ..., 0., 0., 1.],\n",
       "       [1., 0., 0., ..., 0., 0., 0.],\n",
       "       [1., 0., 0., ..., 0., 0., 0.],\n",
       "       ...,\n",
       "       [0., 0., 0., ..., 0., 0., 0.],\n",
       "       [1., 0., 0., ..., 0., 0., 0.],\n",
       "       [0., 0., 0., ..., 0., 0., 0.]], dtype=float32)"
      ]
     },
     "execution_count": 119,
     "metadata": {
      "tags": []
     },
     "output_type": "execute_result"
    }
   ],
   "source": [
    "trainY"
   ]
  },
  {
   "cell_type": "code",
   "execution_count": null,
   "metadata": {
    "id": "bEAsaLSxtJEi"
   },
   "outputs": [],
   "source": []
  },
  {
   "cell_type": "markdown",
   "metadata": {
    "id": "QjNrRTdoQlC5"
   },
   "source": [
    "### Build the Graph"
   ]
  },
  {
   "cell_type": "markdown",
   "metadata": {
    "id": "CDJ9DHVNQlC7"
   },
   "source": [
    "### Initialize model, reshape & normalize data"
   ]
  },
  {
   "cell_type": "code",
   "execution_count": 130,
   "metadata": {
    "id": "pCDQs_g1QlC8"
   },
   "outputs": [],
   "source": [
    "#Initialize Sequential model\n",
    "model = tf.keras.models.Sequential()\n",
    "\n",
    "#Reshape data from 2D to 1D -> 28x28 to 784\n",
    "model.add(tf.keras.layers.Reshape((784,),input_shape=(28,28)))\n",
    "\n",
    "#Normalize the data\n",
    "model.add(tf.keras.layers.BatchNormalization())"
   ]
  },
  {
   "cell_type": "markdown",
   "metadata": {
    "id": "kBGwTTilQlDD"
   },
   "source": [
    "### Add two fully connected layers with 200 and 100 neurons respectively with `relu` activations. Add a dropout layer with `p=0.25`"
   ]
  },
  {
   "cell_type": "code",
   "execution_count": 131,
   "metadata": {
    "id": "IXbfpfOzQlDF"
   },
   "outputs": [],
   "source": [
    "#Add 1st hidden layer\n",
    "model.add(tf.keras.layers.Dense(200, activation='relu'))\n",
    "## Add drop out as layer\n",
    "model.add(tf.keras.layers.Dropout(0.25))\n",
    "#Add 2nd hidden layer\n",
    "model.add(tf.keras.layers.Dense(100, activation='relu'))\n",
    "## Add drop out as layer\n",
    "model.add(tf.keras.layers.Dropout(0.25))\n"
   ]
  },
  {
   "cell_type": "code",
   "execution_count": 132,
   "metadata": {
    "colab": {
     "base_uri": "https://localhost:8080/"
    },
    "id": "XofadH45vUR0",
    "outputId": "3c85810a-f030-41d1-de53-a39cd977316a"
   },
   "outputs": [
    {
     "name": "stdout",
     "output_type": "stream",
     "text": [
      "Model: \"sequential_13\"\n",
      "_________________________________________________________________\n",
      "Layer (type)                 Output Shape              Param #   \n",
      "=================================================================\n",
      "reshape_2 (Reshape)          (None, 784)               0         \n",
      "_________________________________________________________________\n",
      "batch_normalization_2 (Batch (None, 784)               3136      \n",
      "_________________________________________________________________\n",
      "dense_15 (Dense)             (None, 200)               157000    \n",
      "_________________________________________________________________\n",
      "dropout_3 (Dropout)          (None, 200)               0         \n",
      "_________________________________________________________________\n",
      "dense_16 (Dense)             (None, 100)               20100     \n",
      "_________________________________________________________________\n",
      "dropout_4 (Dropout)          (None, 100)               0         \n",
      "=================================================================\n",
      "Total params: 180,236\n",
      "Trainable params: 178,668\n",
      "Non-trainable params: 1,568\n",
      "_________________________________________________________________\n"
     ]
    }
   ],
   "source": [
    "model.summary()"
   ]
  },
  {
   "cell_type": "markdown",
   "metadata": {
    "id": "5I8f5otcQlDJ"
   },
   "source": [
    "### Add the output layer with a fully connected layer with 10 neurons with `softmax` activation. Use `categorical_crossentropy` loss and `adam` optimizer and train the network. And, report the final validation."
   ]
  },
  {
   "cell_type": "code",
   "execution_count": 133,
   "metadata": {
    "id": "JZkvKymSd0Sr"
   },
   "outputs": [],
   "source": [
    "#Add OUTPUT layer\n",
    "model.add(tf.keras.layers.Dense(10, activation='softmax'))"
   ]
  },
  {
   "cell_type": "code",
   "execution_count": 136,
   "metadata": {
    "colab": {
     "base_uri": "https://localhost:8080/"
    },
    "id": "ffl7xBDTyCi-",
    "outputId": "d944748a-f0d7-48d4-ee30-b690fa9ff84d"
   },
   "outputs": [
    {
     "name": "stdout",
     "output_type": "stream",
     "text": [
      "Model: \"sequential_13\"\n",
      "_________________________________________________________________\n",
      "Layer (type)                 Output Shape              Param #   \n",
      "=================================================================\n",
      "reshape_2 (Reshape)          (None, 784)               0         \n",
      "_________________________________________________________________\n",
      "batch_normalization_2 (Batch (None, 784)               3136      \n",
      "_________________________________________________________________\n",
      "dense_15 (Dense)             (None, 200)               157000    \n",
      "_________________________________________________________________\n",
      "dropout_3 (Dropout)          (None, 200)               0         \n",
      "_________________________________________________________________\n",
      "dense_16 (Dense)             (None, 100)               20100     \n",
      "_________________________________________________________________\n",
      "dropout_4 (Dropout)          (None, 100)               0         \n",
      "_________________________________________________________________\n",
      "dense_17 (Dense)             (None, 10)                1010      \n",
      "=================================================================\n",
      "Total params: 181,246\n",
      "Trainable params: 179,678\n",
      "Non-trainable params: 1,568\n",
      "_________________________________________________________________\n"
     ]
    }
   ],
   "source": [
    "model.summary()"
   ]
  },
  {
   "cell_type": "code",
   "execution_count": 134,
   "metadata": {
    "id": "8bI1Bxdz5oEf"
   },
   "outputs": [],
   "source": [
    "#Compile the model\n",
    "model.compile(optimizer='adam', loss='categorical_crossentropy', metrics=['accuracy'])"
   ]
  },
  {
   "cell_type": "code",
   "execution_count": 137,
   "metadata": {
    "colab": {
     "base_uri": "https://localhost:8080/"
    },
    "id": "WSiMhJPpk3GO",
    "outputId": "4f297e8b-69d6-4a8e-a9a3-37995a04a84d"
   },
   "outputs": [
    {
     "name": "stdout",
     "output_type": "stream",
     "text": [
      "Epoch 1/10\n",
      "1875/1875 [==============================] - 7s 4ms/step - loss: 0.5662 - accuracy: 0.7985 - val_loss: 0.4101 - val_accuracy: 0.8472\n",
      "Epoch 2/10\n",
      "1875/1875 [==============================] - 7s 4ms/step - loss: 0.4384 - accuracy: 0.8410 - val_loss: 0.3903 - val_accuracy: 0.8552\n",
      "Epoch 3/10\n",
      "1875/1875 [==============================] - 7s 4ms/step - loss: 0.4004 - accuracy: 0.8554 - val_loss: 0.3689 - val_accuracy: 0.8652\n",
      "Epoch 4/10\n",
      "1875/1875 [==============================] - 7s 4ms/step - loss: 0.3792 - accuracy: 0.8610 - val_loss: 0.3663 - val_accuracy: 0.8655\n",
      "Epoch 5/10\n",
      "1875/1875 [==============================] - 7s 4ms/step - loss: 0.3622 - accuracy: 0.8676 - val_loss: 0.3667 - val_accuracy: 0.8697\n",
      "Epoch 6/10\n",
      "1875/1875 [==============================] - 7s 4ms/step - loss: 0.3526 - accuracy: 0.8705 - val_loss: 0.3509 - val_accuracy: 0.8792\n",
      "Epoch 7/10\n",
      "1875/1875 [==============================] - 8s 4ms/step - loss: 0.3392 - accuracy: 0.8757 - val_loss: 0.3475 - val_accuracy: 0.8760\n",
      "Epoch 8/10\n",
      "1875/1875 [==============================] - 8s 4ms/step - loss: 0.3272 - accuracy: 0.8791 - val_loss: 0.3424 - val_accuracy: 0.8770\n",
      "Epoch 9/10\n",
      "1875/1875 [==============================] - 7s 4ms/step - loss: 0.3210 - accuracy: 0.8826 - val_loss: 0.3493 - val_accuracy: 0.8753\n",
      "Epoch 10/10\n",
      "1875/1875 [==============================] - 7s 4ms/step - loss: 0.3120 - accuracy: 0.8841 - val_loss: 0.3494 - val_accuracy: 0.8782\n"
     ]
    },
    {
     "data": {
      "text/plain": [
       "<tensorflow.python.keras.callbacks.History at 0x7f2de19b9e80>"
      ]
     },
     "execution_count": 137,
     "metadata": {
      "tags": []
     },
     "output_type": "execute_result"
    }
   ],
   "source": [
    "# Train the model\n",
    "model.fit(trainX,trainY,          \n",
    "          validation_data=(testX,testY),\n",
    "          epochs=10,\n",
    "          batch_size=32)"
   ]
  },
  {
   "cell_type": "code",
   "execution_count": 138,
   "metadata": {
    "colab": {
     "base_uri": "https://localhost:8080/"
    },
    "id": "gVmJapq3yJAq",
    "outputId": "1c0445ba-0b36-4b38-e471-490b3f7091dc"
   },
   "outputs": [
    {
     "name": "stdout",
     "output_type": "stream",
     "text": [
      "313/313 [==============================] - 0s 1ms/step - loss: 0.3494 - accuracy: 0.8782\n"
     ]
    }
   ],
   "source": [
    "test_loss,test_acc=model.evaluate(testX,testY)"
   ]
  },
  {
   "cell_type": "code",
   "execution_count": 141,
   "metadata": {
    "id": "KBxdInAG0nVW"
   },
   "outputs": [],
   "source": [
    "# Validating predicting data with actual data\n",
    "predictions=model.predict(testX)"
   ]
  },
  {
   "cell_type": "code",
   "execution_count": 142,
   "metadata": {
    "colab": {
     "base_uri": "https://localhost:8080/"
    },
    "id": "5_wNA4fp2gFs",
    "outputId": "230956e4-b77b-454b-df55-f3668a0dad03"
   },
   "outputs": [
    {
     "data": {
      "text/plain": [
       "4"
      ]
     },
     "execution_count": 142,
     "metadata": {
      "tags": []
     },
     "output_type": "execute_result"
    }
   ],
   "source": [
    "np.argmax(predictions[10])"
   ]
  },
  {
   "cell_type": "code",
   "execution_count": 143,
   "metadata": {
    "colab": {
     "base_uri": "https://localhost:8080/"
    },
    "id": "dfoWKAhH2ysD",
    "outputId": "9df36998-6e16-4dab-a28e-63cef00cb466"
   },
   "outputs": [
    {
     "data": {
      "text/plain": [
       "array([0., 0., 0., 0., 1., 0., 0., 0., 0., 0.], dtype=float32)"
      ]
     },
     "execution_count": 143,
     "metadata": {
      "tags": []
     },
     "output_type": "execute_result"
    }
   ],
   "source": [
    "testY[10]\n",
    "# Predicted value is class 4 which matches with actual value"
   ]
  },
  {
   "cell_type": "code",
   "execution_count": 146,
   "metadata": {
    "colab": {
     "base_uri": "https://localhost:8080/",
     "height": 265
    },
    "id": "vwlM2Cbt21lG",
    "outputId": "338e1065-d51b-4fa4-9e01-f826ee6d2b07"
   },
   "outputs": [
    {
     "data": {
      "image/png": "[encoded data removed]",
      "text/plain": [
       "<Figure size 432x288 with 2 Axes>"
      ]
     },
     "metadata": {
      "needs_background": "light",
      "tags": []
     },
     "output_type": "display_data"
    }
   ],
   "source": [
    "import matplotlib.pyplot as plt\n",
    "\n",
    "plt.figure()\n",
    "plt.imshow(testX[10])\n",
    "plt.colorbar()\n",
    "plt.grid(False)\n",
    "plt.show()\n"
   ]
  },
  {
   "cell_type": "code",
   "execution_count": null,
   "metadata": {
    "id": "qQat1h3D27cV"
   },
   "outputs": [],
   "source": []
  }
 ],
 "metadata": {
  "colab": {
   "collapsed_sections": [
    "QjNrRTdoQlC5"
   ],
   "name": "R6_InternalLab.ipynb",
   "provenance": []
  },
  "kernelspec": {
   "display_name": "Python 3",
   "language": "python",
   "name": "python3"
  },
  "language_info": {
   "codemirror_mode": {
    "name": "ipython",
    "version": 3
   },
   "file_extension": ".py",
   "mimetype": "text/x-python",
   "name": "python",
   "nbconvert_exporter": "python",
   "pygments_lexer": "ipython3",
   "version": "3.7.4"
  }
 },
 "nbformat": 4,
 "nbformat_minor": 1
}
