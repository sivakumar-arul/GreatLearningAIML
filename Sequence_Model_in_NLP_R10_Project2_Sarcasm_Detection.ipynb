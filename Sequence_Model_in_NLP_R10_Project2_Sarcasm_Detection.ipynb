{
 "cells": [
  {
   "cell_type": "markdown",
   "metadata": {
    "id": "bI7SIeJ_oZMU"
   },
   "source": [
    "<img src=\"http://drive.google.com/uc?export=view&id=1tpOCamr9aWz817atPnyXus8w5gJ3mIts\" width=500px>\n",
    "\n",
    "Proprietary content. © Great Learning. All Rights Reserved. Unauthorized use or distribution prohibited."
   ]
  },
  {
   "cell_type": "markdown",
   "metadata": {
    "id": "Eukag7wEoPZu"
   },
   "source": [
    "### Package Version:\n",
    "- tensorflow==2.2.0\n",
    "- pandas==1.0.5\n",
    "- numpy==1.18.5\n",
    "- google==2.0.3"
   ]
  },
  {
   "cell_type": "markdown",
   "metadata": {
    "id": "pp68FAQf9aMN"
   },
   "source": [
    "# Sarcasm Detection"
   ]
  },
  {
   "cell_type": "markdown",
   "metadata": {
    "id": "bEahVPtWX5ve"
   },
   "source": [
    "### Dataset\n",
    "\n",
    "#### Acknowledgement\n",
    "Misra, Rishabh, and Prahal Arora. \"Sarcasm Detection using Hybrid Neural Network.\" arXiv preprint arXiv:1908.07414 (2019).\n",
    "\n",
    "**Required Files given in below link.**\n",
    "\n",
    "https://drive.google.com/drive/folders/1xUnF35naPGU63xwRDVGc-DkZ3M8V5mMk"
   ]
  },
  {
   "cell_type": "code",
   "execution_count": 1,
   "metadata": {
    "colab": {
     "base_uri": "https://localhost:8080/"
    },
    "id": "nrOV5Db6MEVv",
    "outputId": "b54752ac-2b86-471d-a34d-2ed1c34dc4a6"
   },
   "outputs": [
    {
     "name": "stdout",
     "output_type": "stream",
     "text": [
      "Mounted at /content/drive\n"
     ]
    }
   ],
   "source": [
    "from google.colab import drive\n",
    "drive.mount('/content/drive')"
   ]
  },
  {
   "cell_type": "code",
   "execution_count": 2,
   "metadata": {
    "id": "_QNPcPt_MIrE"
   },
   "outputs": [],
   "source": [
    "# used to supress display of warnings\n",
    "import warnings\n",
    "\n",
    "# os is used to provide a way of using operating system dependent functionality\n",
    "# We use it for setting working folder\n",
    "import os\n",
    "\n",
    "# Pandas is used for data manipulation and analysis\n",
    "import pandas as pd \n",
    "\n",
    "# Numpy is used for large, multi-dimensional arrays and matrices, along with mathematical operators on these arrays\n",
    "import numpy as np\n",
    "\n",
    "# Matplotlib is a data visualization library for 2D plots of arrays, built on NumPy arrays \n",
    "# and designed to work with the broader SciPy stack\n",
    "import matplotlib.pyplot as plt\n",
    "%matplotlib inline\n",
    "from matplotlib import pyplot\n",
    "\n",
    "# Seaborn is based on matplotlib, which aids in drawing attractive and informative statistical graphics.\n",
    "import seaborn as sns\n",
    "import tensorflow as tf"
   ]
  },
  {
   "cell_type": "markdown",
   "metadata": {
    "id": "vAk6BRUh8CqL"
   },
   "source": [
    "### Load Data (3 Marks)"
   ]
  },
  {
   "cell_type": "code",
   "execution_count": 47,
   "metadata": {
    "id": "w-gDR56zULqC"
   },
   "outputs": [],
   "source": [
    "file_path=\"/content/drive/MyDrive/Colab Notebooks/SequentialNLP/\""
   ]
  },
  {
   "cell_type": "code",
   "execution_count": 48,
   "metadata": {
    "colab": {
     "base_uri": "https://localhost:8080/",
     "height": 204
    },
    "id": "v8-PQsV0DrAZ",
    "outputId": "bc1a3b2c-101a-4951-a771-dd212c73c0dc"
   },
   "outputs": [
    {
     "data": {
      "text/html": [
       "<div>\n",
       "<style scoped>\n",
       "    .dataframe tbody tr th:only-of-type {\n",
       "        vertical-align: middle;\n",
       "    }\n",
       "\n",
       "    .dataframe tbody tr th {\n",
       "        vertical-align: top;\n",
       "    }\n",
       "\n",
       "    .dataframe thead th {\n",
       "        text-align: right;\n",
       "    }\n",
       "</style>\n",
       "<table border=\"1\" class=\"dataframe\">\n",
       "  <thead>\n",
       "    <tr style=\"text-align: right;\">\n",
       "      <th></th>\n",
       "      <th>is_sarcastic</th>\n",
       "      <th>headline</th>\n",
       "      <th>article_link</th>\n",
       "    </tr>\n",
       "  </thead>\n",
       "  <tbody>\n",
       "    <tr>\n",
       "      <th>0</th>\n",
       "      <td>1</td>\n",
       "      <td>thirtysomething scientists unveil doomsday clo...</td>\n",
       "      <td>https://www.theonion.com/thirtysomething-scien...</td>\n",
       "    </tr>\n",
       "    <tr>\n",
       "      <th>1</th>\n",
       "      <td>0</td>\n",
       "      <td>dem rep. totally nails why congress is falling...</td>\n",
       "      <td>https://www.huffingtonpost.com/entry/donna-edw...</td>\n",
       "    </tr>\n",
       "    <tr>\n",
       "      <th>2</th>\n",
       "      <td>0</td>\n",
       "      <td>eat your veggies: 9 deliciously different recipes</td>\n",
       "      <td>https://www.huffingtonpost.com/entry/eat-your-...</td>\n",
       "    </tr>\n",
       "    <tr>\n",
       "      <th>3</th>\n",
       "      <td>1</td>\n",
       "      <td>inclement weather prevents liar from getting t...</td>\n",
       "      <td>https://local.theonion.com/inclement-weather-p...</td>\n",
       "    </tr>\n",
       "    <tr>\n",
       "      <th>4</th>\n",
       "      <td>1</td>\n",
       "      <td>mother comes pretty close to using word 'strea...</td>\n",
       "      <td>https://www.theonion.com/mother-comes-pretty-c...</td>\n",
       "    </tr>\n",
       "  </tbody>\n",
       "</table>\n",
       "</div>"
      ],
      "text/plain": [
       "   is_sarcastic  ...                                       article_link\n",
       "0             1  ...  https://www.theonion.com/thirtysomething-scien...\n",
       "1             0  ...  https://www.huffingtonpost.com/entry/donna-edw...\n",
       "2             0  ...  https://www.huffingtonpost.com/entry/eat-your-...\n",
       "3             1  ...  https://local.theonion.com/inclement-weather-p...\n",
       "4             1  ...  https://www.theonion.com/mother-comes-pretty-c...\n",
       "\n",
       "[5 rows x 3 columns]"
      ]
     },
     "execution_count": 48,
     "metadata": {
      "tags": []
     },
     "output_type": "execute_result"
    }
   ],
   "source": [
    "file_name=\"Sarcasm_Headlines_Dataset.json\"\n",
    "headlines = pd.read_json(file_path+file_name,lines=True)\n",
    "headlines.head()"
   ]
  },
  {
   "cell_type": "code",
   "execution_count": 49,
   "metadata": {
    "colab": {
     "base_uri": "https://localhost:8080/"
    },
    "id": "mewkZR1OPIP7",
    "outputId": "abf9f778-91a6-4778-a5f0-7593cff94c7e"
   },
   "outputs": [
    {
     "data": {
      "text/plain": [
       "(28619, 3)"
      ]
     },
     "execution_count": 49,
     "metadata": {
      "tags": []
     },
     "output_type": "execute_result"
    }
   ],
   "source": [
    "headlines.shape"
   ]
  },
  {
   "cell_type": "code",
   "execution_count": 50,
   "metadata": {
    "colab": {
     "base_uri": "https://localhost:8080/",
     "height": 173
    },
    "id": "bXlEPkcKPNf2",
    "outputId": "63ab223b-ed0b-43b8-b302-73613fa207a6"
   },
   "outputs": [
    {
     "data": {
      "text/html": [
       "<div>\n",
       "<style scoped>\n",
       "    .dataframe tbody tr th:only-of-type {\n",
       "        vertical-align: middle;\n",
       "    }\n",
       "\n",
       "    .dataframe tbody tr th {\n",
       "        vertical-align: top;\n",
       "    }\n",
       "\n",
       "    .dataframe thead th {\n",
       "        text-align: right;\n",
       "    }\n",
       "</style>\n",
       "<table border=\"1\" class=\"dataframe\">\n",
       "  <thead>\n",
       "    <tr style=\"text-align: right;\">\n",
       "      <th></th>\n",
       "      <th>headline</th>\n",
       "      <th>article_link</th>\n",
       "    </tr>\n",
       "  </thead>\n",
       "  <tbody>\n",
       "    <tr>\n",
       "      <th>count</th>\n",
       "      <td>28619</td>\n",
       "      <td>28619</td>\n",
       "    </tr>\n",
       "    <tr>\n",
       "      <th>unique</th>\n",
       "      <td>28503</td>\n",
       "      <td>28617</td>\n",
       "    </tr>\n",
       "    <tr>\n",
       "      <th>top</th>\n",
       "      <td>'no way to prevent this,' says only nation whe...</td>\n",
       "      <td>https://politics.theonion.com/nation-not-sure-...</td>\n",
       "    </tr>\n",
       "    <tr>\n",
       "      <th>freq</th>\n",
       "      <td>12</td>\n",
       "      <td>2</td>\n",
       "    </tr>\n",
       "  </tbody>\n",
       "</table>\n",
       "</div>"
      ],
      "text/plain": [
       "                                                 headline                                       article_link\n",
       "count                                               28619                                              28619\n",
       "unique                                              28503                                              28617\n",
       "top     'no way to prevent this,' says only nation whe...  https://politics.theonion.com/nation-not-sure-...\n",
       "freq                                                   12                                                  2"
      ]
     },
     "execution_count": 50,
     "metadata": {
      "tags": []
     },
     "output_type": "execute_result"
    }
   ],
   "source": [
    "headlines.describe(include='object')"
   ]
  },
  {
   "cell_type": "markdown",
   "metadata": {
    "id": "z6pXf7A78E2H"
   },
   "source": [
    "### Drop `article_link` from dataset (3 Marks)"
   ]
  },
  {
   "cell_type": "code",
   "execution_count": 51,
   "metadata": {
    "id": "-WUNHq5zEV0n"
   },
   "outputs": [],
   "source": [
    "headlines.drop(['article_link'],axis=1,inplace=True)"
   ]
  },
  {
   "cell_type": "markdown",
   "metadata": {
    "id": "D0h6IOxU8OdH"
   },
   "source": [
    "### Get length of each headline and add a column for that (3 Marks)"
   ]
  },
  {
   "cell_type": "code",
   "execution_count": 52,
   "metadata": {
    "id": "MLpiBRDmEV2l"
   },
   "outputs": [],
   "source": [
    "headlines['len'] = headlines['headline'].str.len()"
   ]
  },
  {
   "cell_type": "code",
   "execution_count": 53,
   "metadata": {
    "colab": {
     "base_uri": "https://localhost:8080/",
     "height": 204
    },
    "id": "F5gAOcPjQx8z",
    "outputId": "5468cee5-cddd-4c7d-f99b-02a97c573799"
   },
   "outputs": [
    {
     "data": {
      "text/html": [
       "<div>\n",
       "<style scoped>\n",
       "    .dataframe tbody tr th:only-of-type {\n",
       "        vertical-align: middle;\n",
       "    }\n",
       "\n",
       "    .dataframe tbody tr th {\n",
       "        vertical-align: top;\n",
       "    }\n",
       "\n",
       "    .dataframe thead th {\n",
       "        text-align: right;\n",
       "    }\n",
       "</style>\n",
       "<table border=\"1\" class=\"dataframe\">\n",
       "  <thead>\n",
       "    <tr style=\"text-align: right;\">\n",
       "      <th></th>\n",
       "      <th>is_sarcastic</th>\n",
       "      <th>headline</th>\n",
       "      <th>len</th>\n",
       "    </tr>\n",
       "  </thead>\n",
       "  <tbody>\n",
       "    <tr>\n",
       "      <th>0</th>\n",
       "      <td>1</td>\n",
       "      <td>thirtysomething scientists unveil doomsday clo...</td>\n",
       "      <td>61</td>\n",
       "    </tr>\n",
       "    <tr>\n",
       "      <th>1</th>\n",
       "      <td>0</td>\n",
       "      <td>dem rep. totally nails why congress is falling...</td>\n",
       "      <td>79</td>\n",
       "    </tr>\n",
       "    <tr>\n",
       "      <th>2</th>\n",
       "      <td>0</td>\n",
       "      <td>eat your veggies: 9 deliciously different recipes</td>\n",
       "      <td>49</td>\n",
       "    </tr>\n",
       "    <tr>\n",
       "      <th>3</th>\n",
       "      <td>1</td>\n",
       "      <td>inclement weather prevents liar from getting t...</td>\n",
       "      <td>52</td>\n",
       "    </tr>\n",
       "    <tr>\n",
       "      <th>4</th>\n",
       "      <td>1</td>\n",
       "      <td>mother comes pretty close to using word 'strea...</td>\n",
       "      <td>61</td>\n",
       "    </tr>\n",
       "  </tbody>\n",
       "</table>\n",
       "</div>"
      ],
      "text/plain": [
       "   is_sarcastic                                           headline  len\n",
       "0             1  thirtysomething scientists unveil doomsday clo...   61\n",
       "1             0  dem rep. totally nails why congress is falling...   79\n",
       "2             0  eat your veggies: 9 deliciously different recipes   49\n",
       "3             1  inclement weather prevents liar from getting t...   52\n",
       "4             1  mother comes pretty close to using word 'strea...   61"
      ]
     },
     "execution_count": 53,
     "metadata": {
      "tags": []
     },
     "output_type": "execute_result"
    }
   ],
   "source": [
    "headlines.head()"
   ]
  },
  {
   "cell_type": "markdown",
   "metadata": {
    "id": "SMF-wjJ2aMwm"
   },
   "source": [
    "### Initialize parameter values\n",
    "- Set values for max_features, maxlen, & embedding_size\n",
    "- max_features: Number of words to take from tokenizer(most frequent words)\n",
    "- maxlen: Maximum length of each sentence to be limited to 25\n",
    "- embedding_size: size of embedding vector"
   ]
  },
  {
   "cell_type": "code",
   "execution_count": 54,
   "metadata": {
    "id": "jPw9gAN_EV6m"
   },
   "outputs": [],
   "source": [
    "max_features = 10000\n",
    "maxlen = 25\n",
    "embedding_size = 200"
   ]
  },
  {
   "cell_type": "markdown",
   "metadata": {
    "id": "9abSe-bM8fn9"
   },
   "source": [
    "### Apply `tensorflow.keras` Tokenizer and get indices for words (4 Marks)\n",
    "- Initialize Tokenizer object with number of words as 10000\n",
    "- Fit the tokenizer object on headline column\n",
    "- Convert the text to sequence\n"
   ]
  },
  {
   "cell_type": "code",
   "execution_count": 55,
   "metadata": {
    "id": "y8g4l0KfF3eh"
   },
   "outputs": [],
   "source": [
    "from tensorflow.keras.preprocessing.text import Tokenizer\n",
    "tokenizer=Tokenizer(num_words=max_features,oov_token=\"<unk>\",\n",
    "                                                  filters='!\"#$%&()*+.,-/:;=?@[\\]^_`{|}~ ')\n",
    "\n",
    "tokenizer.fit_on_texts(list(headlines['headline']))\n"
   ]
  },
  {
   "cell_type": "code",
   "execution_count": 56,
   "metadata": {
    "id": "Ot50GB2CYHe1"
   },
   "outputs": [],
   "source": [
    "tokenizer.word_index['<pad>'] = 0\n",
    "tokenizer.index_word[0] = '<pad>'"
   ]
  },
  {
   "cell_type": "code",
   "execution_count": 57,
   "metadata": {
    "id": "646kUWdtYQcD"
   },
   "outputs": [],
   "source": [
    "X=tokenizer.texts_to_sequences(headlines['headline'])"
   ]
  },
  {
   "cell_type": "code",
   "execution_count": 58,
   "metadata": {
    "colab": {
     "base_uri": "https://localhost:8080/"
    },
    "id": "v1mCVlzeShR9",
    "outputId": "e8aeb21e-753d-46b0-f936-4f631cd2f240"
   },
   "outputs": [
    {
     "name": "stdout",
     "output_type": "stream",
     "text": [
      "No of samples 28619\n",
      "[40, 2002, 3, 13, 7495, 208, 19, 3173, 15, 2802, 2651, 6, 189, 489]\n"
     ]
    }
   ],
   "source": [
    "print('No of samples',len(X))\n",
    "print(X[100])"
   ]
  },
  {
   "cell_type": "code",
   "execution_count": 59,
   "metadata": {
    "colab": {
     "base_uri": "https://localhost:8080/"
    },
    "id": "7ihHPopCSyqC",
    "outputId": "052577bc-1de6-4126-f134-d5d605c00a4e"
   },
   "outputs": [
    {
     "data": {
      "text/plain": [
       "is_sarcastic                                                    1\n",
       "headline        report: 70% of trump endorsements made after s...\n",
       "len                                                            83\n",
       "Name: 100, dtype: object"
      ]
     },
     "execution_count": 59,
     "metadata": {
      "tags": []
     },
     "output_type": "execute_result"
    }
   ],
   "source": [
    "headlines.iloc[100]"
   ]
  },
  {
   "cell_type": "markdown",
   "metadata": {
    "id": "xeZpwPO4bOkZ"
   },
   "source": [
    "### Pad sequences (4 Marks)\n",
    "- Pad each example with a maximum length\n",
    "- Convert target column into numpy array"
   ]
  },
  {
   "cell_type": "code",
   "execution_count": 60,
   "metadata": {
    "colab": {
     "base_uri": "https://localhost:8080/"
    },
    "id": "qV0K70E5c9Xl",
    "outputId": "3eca0b47-a4e8-4625-8a10-589431905e23"
   },
   "outputs": [
    {
     "data": {
      "text/plain": [
       "(28619, 25)"
      ]
     },
     "execution_count": 60,
     "metadata": {
      "tags": []
     },
     "output_type": "execute_result"
    }
   ],
   "source": [
    "from tensorflow.keras.preprocessing.sequence import pad_sequences\n",
    "\n",
    "X=pad_sequences(X,maxlen=maxlen,padding='post')\n",
    "X.shape"
   ]
  },
  {
   "cell_type": "markdown",
   "metadata": {
    "id": "WJLyKg-98rH_"
   },
   "source": [
    "### Vocab mapping\n",
    "- There is no word for 0th index"
   ]
  },
  {
   "cell_type": "code",
   "execution_count": 61,
   "metadata": {
    "colab": {
     "base_uri": "https://localhost:8080/"
    },
    "id": "vCNgtnQqdbZn",
    "outputId": "baa8a26e-0fcb-49df-8497-92f3311770e4"
   },
   "outputs": [
    {
     "data": {
      "text/plain": [
       "{'<unk>': 1,\n",
       " 'to': 2,\n",
       " 'of': 3,\n",
       " 'the': 4,\n",
       " 'in': 5,\n",
       " 'for': 6,\n",
       " 'a': 7,\n",
       " 'on': 8,\n",
       " 'and': 9,\n",
       " 'with': 10,\n",
       " 'is': 11,\n",
       " 'new': 12,\n",
       " 'trump': 13,\n",
       " 'man': 14,\n",
       " 'at': 15,\n",
       " 'from': 16,\n",
       " 'about': 17,\n",
       " 'by': 18,\n",
       " 'after': 19,\n",
       " 'you': 20,\n",
       " 'this': 21,\n",
       " 'out': 22,\n",
       " 'up': 23,\n",
       " 'be': 24,\n",
       " 'as': 25,\n",
       " 'that': 26,\n",
       " 'it': 27,\n",
       " 'how': 28,\n",
       " 'not': 29,\n",
       " 'he': 30,\n",
       " 'his': 31,\n",
       " 'are': 32,\n",
       " 'your': 33,\n",
       " 'just': 34,\n",
       " 'what': 35,\n",
       " 'all': 36,\n",
       " 'who': 37,\n",
       " 'has': 38,\n",
       " 'will': 39,\n",
       " 'report': 40,\n",
       " 'into': 41,\n",
       " 'more': 42,\n",
       " 'one': 43,\n",
       " 'have': 44,\n",
       " 'year': 45,\n",
       " 'over': 46,\n",
       " 'why': 47,\n",
       " 'day': 48,\n",
       " 'u': 49,\n",
       " 'area': 50,\n",
       " 'woman': 51,\n",
       " 'can': 52,\n",
       " 's': 53,\n",
       " 'says': 54,\n",
       " 'donald': 55,\n",
       " 'time': 56,\n",
       " 'first': 57,\n",
       " 'like': 58,\n",
       " 'no': 59,\n",
       " 'her': 60,\n",
       " 'get': 61,\n",
       " 'off': 62,\n",
       " 'old': 63,\n",
       " \"trump's\": 64,\n",
       " 'life': 65,\n",
       " 'now': 66,\n",
       " 'people': 67,\n",
       " \"'\": 68,\n",
       " 'an': 69,\n",
       " 'house': 70,\n",
       " 'still': 71,\n",
       " 'obama': 72,\n",
       " 'white': 73,\n",
       " 'back': 74,\n",
       " 'make': 75,\n",
       " 'was': 76,\n",
       " 'than': 77,\n",
       " 'women': 78,\n",
       " 'if': 79,\n",
       " 'down': 80,\n",
       " 'when': 81,\n",
       " 'i': 82,\n",
       " 'my': 83,\n",
       " '5': 84,\n",
       " 'clinton': 85,\n",
       " 'could': 86,\n",
       " 'they': 87,\n",
       " 'their': 88,\n",
       " 'before': 89,\n",
       " 'world': 90,\n",
       " 'him': 91,\n",
       " 'way': 92,\n",
       " 'americans': 93,\n",
       " 'family': 94,\n",
       " 'we': 95,\n",
       " 'study': 96,\n",
       " 'do': 97,\n",
       " 'would': 98,\n",
       " 'only': 99,\n",
       " 'most': 100,\n",
       " 'school': 101,\n",
       " 'gop': 102,\n",
       " 'being': 103,\n",
       " 'black': 104,\n",
       " 'years': 105,\n",
       " 'bill': 106,\n",
       " \"it's\": 107,\n",
       " 'so': 108,\n",
       " 'finds': 109,\n",
       " 'really': 110,\n",
       " 'american': 111,\n",
       " 'best': 112,\n",
       " '3': 113,\n",
       " 'last': 114,\n",
       " 'know': 115,\n",
       " 'but': 116,\n",
       " 'she': 117,\n",
       " 'should': 118,\n",
       " 'police': 119,\n",
       " 'nation': 120,\n",
       " \"can't\": 121,\n",
       " '10': 122,\n",
       " 'going': 123,\n",
       " 'watch': 124,\n",
       " 'during': 125,\n",
       " 'state': 126,\n",
       " 'death': 127,\n",
       " 'video': 128,\n",
       " 'or': 129,\n",
       " 'home': 130,\n",
       " 'president': 131,\n",
       " 'good': 132,\n",
       " 'every': 133,\n",
       " 'say': 134,\n",
       " 'show': 135,\n",
       " 'campaign': 136,\n",
       " \"'the\": 137,\n",
       " 'health': 138,\n",
       " 'too': 139,\n",
       " 'big': 140,\n",
       " 'things': 141,\n",
       " 'mom': 142,\n",
       " 'getting': 143,\n",
       " '2': 144,\n",
       " 'against': 145,\n",
       " 'may': 146,\n",
       " '000': 147,\n",
       " 'right': 148,\n",
       " 'hillary': 149,\n",
       " 'love': 150,\n",
       " 'party': 151,\n",
       " 'work': 152,\n",
       " 'gets': 153,\n",
       " 'while': 154,\n",
       " 'some': 155,\n",
       " 'self': 156,\n",
       " 'need': 157,\n",
       " 'high': 158,\n",
       " 'little': 159,\n",
       " 'parents': 160,\n",
       " 'where': 161,\n",
       " 'never': 162,\n",
       " 'take': 163,\n",
       " 'kids': 164,\n",
       " 'through': 165,\n",
       " \"doesn't\": 166,\n",
       " 'court': 167,\n",
       " 'makes': 168,\n",
       " 'john': 169,\n",
       " 'child': 170,\n",
       " 'change': 171,\n",
       " 'these': 172,\n",
       " 'other': 173,\n",
       " 'own': 174,\n",
       " 'news': 175,\n",
       " 'calls': 176,\n",
       " 'dead': 177,\n",
       " 'stop': 178,\n",
       " 'look': 179,\n",
       " \"he's\": 180,\n",
       " 'want': 181,\n",
       " 'election': 182,\n",
       " 'next': 183,\n",
       " 'our': 184,\n",
       " 'gay': 185,\n",
       " 'local': 186,\n",
       " \"don't\": 187,\n",
       " 'even': 188,\n",
       " '4': 189,\n",
       " 'see': 190,\n",
       " 'go': 191,\n",
       " 'around': 192,\n",
       " 'america': 193,\n",
       " 'real': 194,\n",
       " 'takes': 195,\n",
       " 'war': 196,\n",
       " 'its': 197,\n",
       " '7': 198,\n",
       " \"here's\": 199,\n",
       " 'baby': 200,\n",
       " 'sex': 201,\n",
       " \"nation's\": 202,\n",
       " 'them': 203,\n",
       " 'million': 204,\n",
       " 'again': 205,\n",
       " 'plan': 206,\n",
       " 'bush': 207,\n",
       " 'made': 208,\n",
       " 'two': 209,\n",
       " 'another': 210,\n",
       " '6': 211,\n",
       " 'guy': 212,\n",
       " 'college': 213,\n",
       " 'dog': 214,\n",
       " 'office': 215,\n",
       " 'announces': 216,\n",
       " 'dad': 217,\n",
       " 'ever': 218,\n",
       " 'finally': 219,\n",
       " 'debate': 220,\n",
       " 'got': 221,\n",
       " 'week': 222,\n",
       " 'wants': 223,\n",
       " 'been': 224,\n",
       " 'long': 225,\n",
       " 'help': 226,\n",
       " 'much': 227,\n",
       " 'job': 228,\n",
       " '1': 229,\n",
       " 'thing': 230,\n",
       " 'under': 231,\n",
       " 'there': 232,\n",
       " 'gun': 233,\n",
       " 'reveals': 234,\n",
       " 'night': 235,\n",
       " 'care': 236,\n",
       " 'actually': 237,\n",
       " 'couple': 238,\n",
       " 'congress': 239,\n",
       " 'live': 240,\n",
       " 'us': 241,\n",
       " 'north': 242,\n",
       " 'sexual': 243,\n",
       " 'trying': 244,\n",
       " 'money': 245,\n",
       " 'national': 246,\n",
       " 'shows': 247,\n",
       " 'god': 248,\n",
       " \"man's\": 249,\n",
       " 'climate': 250,\n",
       " 'senate': 251,\n",
       " 'better': 252,\n",
       " \"won't\": 253,\n",
       " 'star': 254,\n",
       " 'face': 255,\n",
       " 'without': 256,\n",
       " '8': 257,\n",
       " 'had': 258,\n",
       " 'away': 259,\n",
       " 'food': 260,\n",
       " 'everyone': 261,\n",
       " '9': 262,\n",
       " 'game': 263,\n",
       " 'season': 264,\n",
       " 'enough': 265,\n",
       " 'facebook': 266,\n",
       " 'anti': 267,\n",
       " 'give': 268,\n",
       " 'top': 269,\n",
       " '20': 270,\n",
       " 'media': 271,\n",
       " 'paul': 272,\n",
       " 'making': 273,\n",
       " 'any': 274,\n",
       " 'law': 275,\n",
       " 'me': 276,\n",
       " 'bad': 277,\n",
       " 'teen': 278,\n",
       " 'shooting': 279,\n",
       " 'ways': 280,\n",
       " 'york': 281,\n",
       " 'end': 282,\n",
       " 'supreme': 283,\n",
       " 'movie': 284,\n",
       " 'free': 285,\n",
       " 'entire': 286,\n",
       " 'men': 287,\n",
       " 'history': 288,\n",
       " 'students': 289,\n",
       " 'children': 290,\n",
       " 'pope': 291,\n",
       " 'government': 292,\n",
       " 'single': 293,\n",
       " 'introduces': 294,\n",
       " 'business': 295,\n",
       " 'tell': 296,\n",
       " 'part': 297,\n",
       " 'body': 298,\n",
       " 'attack': 299,\n",
       " 'fight': 300,\n",
       " 'already': 301,\n",
       " 'think': 302,\n",
       " 'city': 303,\n",
       " 'tv': 304,\n",
       " 'story': 305,\n",
       " 'friends': 306,\n",
       " 'son': 307,\n",
       " 'deal': 308,\n",
       " 'fire': 309,\n",
       " 'same': 310,\n",
       " 'friend': 311,\n",
       " 'releases': 312,\n",
       " 'great': 313,\n",
       " 'must': 314,\n",
       " 'sanders': 315,\n",
       " 'line': 316,\n",
       " 'find': 317,\n",
       " 'found': 318,\n",
       " '11': 319,\n",
       " 'book': 320,\n",
       " 'call': 321,\n",
       " 'pretty': 322,\n",
       " 'does': 323,\n",
       " 'former': 324,\n",
       " 'second': 325,\n",
       " 'car': 326,\n",
       " 'film': 327,\n",
       " 'company': 328,\n",
       " 'having': 329,\n",
       " 'come': 330,\n",
       " 'unveils': 331,\n",
       " 'use': 332,\n",
       " 'public': 333,\n",
       " 'support': 334,\n",
       " 'speech': 335,\n",
       " 'social': 336,\n",
       " 'wedding': 337,\n",
       " 'power': 338,\n",
       " 'presidential': 339,\n",
       " \"didn't\": 340,\n",
       " 'middle': 341,\n",
       " 'keep': 342,\n",
       " 'behind': 343,\n",
       " 'run': 344,\n",
       " 'name': 345,\n",
       " 'case': 346,\n",
       " 'talk': 347,\n",
       " 'doing': 348,\n",
       " 'republican': 349,\n",
       " 'open': 350,\n",
       " 'coming': 351,\n",
       " 'girl': 352,\n",
       " 'photos': 353,\n",
       " 'fans': 354,\n",
       " 'scientists': 355,\n",
       " 'room': 356,\n",
       " 'looking': 357,\n",
       " 'security': 358,\n",
       " 'between': 359,\n",
       " 'human': 360,\n",
       " 'something': 361,\n",
       " 'morning': 362,\n",
       " 'full': 363,\n",
       " 'thinks': 364,\n",
       " 'fucking': 365,\n",
       " 'james': 366,\n",
       " 'voters': 367,\n",
       " 'rights': 368,\n",
       " 'asks': 369,\n",
       " 'republicans': 370,\n",
       " 'once': 371,\n",
       " 'might': 372,\n",
       " 'claims': 373,\n",
       " 'future': 374,\n",
       " 'used': 375,\n",
       " 'christmas': 376,\n",
       " 'tax': 377,\n",
       " 'email': 378,\n",
       " 'ceo': 379,\n",
       " 'student': 380,\n",
       " 'win': 381,\n",
       " 'forced': 382,\n",
       " 'admits': 383,\n",
       " 'goes': 384,\n",
       " 'group': 385,\n",
       " 'secret': 386,\n",
       " 'vote': 387,\n",
       " '2016': 388,\n",
       " \"world's\": 389,\n",
       " 'michael': 390,\n",
       " 'marriage': 391,\n",
       " 'because': 392,\n",
       " 'violence': 393,\n",
       " 'democrats': 394,\n",
       " 'poll': 395,\n",
       " 'killed': 396,\n",
       " 'team': 397,\n",
       " 'control': 398,\n",
       " 'ad': 399,\n",
       " 'country': 400,\n",
       " '12': 401,\n",
       " 'sure': 402,\n",
       " 'department': 403,\n",
       " 'plans': 404,\n",
       " 'female': 405,\n",
       " 'ban': 406,\n",
       " 'many': 407,\n",
       " 'bernie': 408,\n",
       " 'teacher': 409,\n",
       " 'inside': 410,\n",
       " 'person': 411,\n",
       " 'post': 412,\n",
       " 'until': 413,\n",
       " 'wife': 414,\n",
       " 'ryan': 415,\n",
       " 'put': 416,\n",
       " 'always': 417,\n",
       " 'twitter': 418,\n",
       " 'super': 419,\n",
       " 'political': 420,\n",
       " 'water': 421,\n",
       " 'running': 422,\n",
       " 'hot': 423,\n",
       " 'dies': 424,\n",
       " 'meet': 425,\n",
       " 'father': 426,\n",
       " 'warns': 427,\n",
       " 'each': 428,\n",
       " 'head': 429,\n",
       " 'photo': 430,\n",
       " '30': 431,\n",
       " 'eating': 432,\n",
       " 'boy': 433,\n",
       " 'reports': 434,\n",
       " 'minutes': 435,\n",
       " 'race': 436,\n",
       " 'judge': 437,\n",
       " 'red': 438,\n",
       " 'days': 439,\n",
       " 'music': 440,\n",
       " 'employee': 441,\n",
       " 'let': 442,\n",
       " 'perfect': 443,\n",
       " 'record': 444,\n",
       " 'tells': 445,\n",
       " 'taking': 446,\n",
       " 'candidate': 447,\n",
       " 'past': 448,\n",
       " 'everything': 449,\n",
       " 'art': 450,\n",
       " 'idea': 451,\n",
       " 'living': 452,\n",
       " 'list': 453,\n",
       " 'class': 454,\n",
       " 'summer': 455,\n",
       " 'month': 456,\n",
       " 'three': 457,\n",
       " 'missing': 458,\n",
       " 'wall': 459,\n",
       " 'were': 460,\n",
       " '15': 461,\n",
       " 'working': 462,\n",
       " 'did': 463,\n",
       " 'here': 464,\n",
       " 'needs': 465,\n",
       " 'states': 466,\n",
       " 'secretary': 467,\n",
       " 'very': 468,\n",
       " 'looks': 469,\n",
       " 'save': 470,\n",
       " 'thousands': 471,\n",
       " 'mother': 472,\n",
       " 'service': 473,\n",
       " 'town': 474,\n",
       " 'mike': 475,\n",
       " 'pay': 476,\n",
       " 'russia': 477,\n",
       " 'george': 478,\n",
       " 'times': 479,\n",
       " 'left': 480,\n",
       " 'shot': 481,\n",
       " 'thought': 482,\n",
       " 'california': 483,\n",
       " 'phone': 484,\n",
       " \"'i\": 485,\n",
       " 'heart': 486,\n",
       " 'start': 487,\n",
       " 'lives': 488,\n",
       " 'hours': 489,\n",
       " 'set': 490,\n",
       " 'place': 491,\n",
       " 'age': 492,\n",
       " 'wrong': 493,\n",
       " 'gives': 494,\n",
       " 'comes': 495,\n",
       " 'together': 496,\n",
       " 'cruz': 497,\n",
       " 'meeting': 498,\n",
       " 'shit': 499,\n",
       " 'ready': 500,\n",
       " 'officials': 501,\n",
       " 'justice': 502,\n",
       " 'ice': 503,\n",
       " 'cancer': 504,\n",
       " 'believe': 505,\n",
       " \"you're\": 506,\n",
       " 'obamacare': 507,\n",
       " 'young': 508,\n",
       " 'probably': 509,\n",
       " 'texas': 510,\n",
       " 'someone': 511,\n",
       " 'talks': 512,\n",
       " 'wearing': 513,\n",
       " 'half': 514,\n",
       " 'breaking': 515,\n",
       " '50': 516,\n",
       " 'giving': 517,\n",
       " 'street': 518,\n",
       " 'kill': 519,\n",
       " 'lost': 520,\n",
       " 'yet': 521,\n",
       " 'ex': 522,\n",
       " 'king': 523,\n",
       " 'chief': 524,\n",
       " 'korea': 525,\n",
       " 'watching': 526,\n",
       " 'few': 527,\n",
       " 'kim': 528,\n",
       " 'small': 529,\n",
       " 'drug': 530,\n",
       " 'air': 531,\n",
       " 'owner': 532,\n",
       " 'prison': 533,\n",
       " \"women's\": 534,\n",
       " 'iran': 535,\n",
       " 'daughter': 536,\n",
       " 'leave': 537,\n",
       " 'isis': 538,\n",
       " 'restaurant': 539,\n",
       " 'fbi': 540,\n",
       " 'today': 541,\n",
       " 'dream': 542,\n",
       " 'fan': 543,\n",
       " 'feel': 544,\n",
       " 'ted': 545,\n",
       " 'crisis': 546,\n",
       " 'sleep': 547,\n",
       " 'letter': 548,\n",
       " 'mark': 549,\n",
       " 'word': 550,\n",
       " 'cat': 551,\n",
       " \"i'm\": 552,\n",
       " 'wins': 553,\n",
       " 'administration': 554,\n",
       " 'south': 555,\n",
       " 'director': 556,\n",
       " \"she's\": 557,\n",
       " 'biden': 558,\n",
       " 'hard': 559,\n",
       " 'earth': 560,\n",
       " 'hour': 561,\n",
       " 'tips': 562,\n",
       " 'education': 563,\n",
       " 'washington': 564,\n",
       " 'third': 565,\n",
       " 'military': 566,\n",
       " 'personal': 567,\n",
       " 'community': 568,\n",
       " 'nothing': 569,\n",
       " 'attacks': 570,\n",
       " 'outside': 571,\n",
       " 'using': 572,\n",
       " 'less': 573,\n",
       " 'chris': 574,\n",
       " 'talking': 575,\n",
       " 'democratic': 576,\n",
       " 'bar': 577,\n",
       " 'system': 578,\n",
       " 'rock': 579,\n",
       " 'internet': 580,\n",
       " 'questions': 581,\n",
       " 'francis': 582,\n",
       " 'nuclear': 583,\n",
       " 'months': 584,\n",
       " 'leaves': 585,\n",
       " 'kind': 586,\n",
       " 'federal': 587,\n",
       " 'romney': 588,\n",
       " 'those': 589,\n",
       " 'move': 590,\n",
       " 't': 591,\n",
       " 'well': 592,\n",
       " 'following': 593,\n",
       " 'percent': 594,\n",
       " 'online': 595,\n",
       " 'latest': 596,\n",
       " 'majority': 597,\n",
       " 'order': 598,\n",
       " 'birthday': 599,\n",
       " 'issues': 600,\n",
       " 'march': 601,\n",
       " 'tweets': 602,\n",
       " 'girlfriend': 603,\n",
       " 'fun': 604,\n",
       " 'fox': 605,\n",
       " \"what's\": 606,\n",
       " 'assault': 607,\n",
       " 'since': 608,\n",
       " 'excited': 609,\n",
       " 'gift': 610,\n",
       " 'investigation': 611,\n",
       " 'knows': 612,\n",
       " 'congressman': 613,\n",
       " 'abortion': 614,\n",
       " 'lot': 615,\n",
       " 'florida': 616,\n",
       " 'series': 617,\n",
       " 'buy': 618,\n",
       " 'store': 619,\n",
       " 'straight': 620,\n",
       " 'minute': 621,\n",
       " 'rules': 622,\n",
       " 'guide': 623,\n",
       " 'hit': 624,\n",
       " 'read': 625,\n",
       " 'special': 626,\n",
       " 'cover': 627,\n",
       " 'mueller': 628,\n",
       " 'beautiful': 629,\n",
       " 'holiday': 630,\n",
       " 'waiting': 631,\n",
       " 'happy': 632,\n",
       " 'spends': 633,\n",
       " '100': 634,\n",
       " 'stephen': 635,\n",
       " 'called': 636,\n",
       " 'reason': 637,\n",
       " 'huge': 638,\n",
       " 'travel': 639,\n",
       " 'muslim': 640,\n",
       " 'trip': 641,\n",
       " 'ask': 642,\n",
       " 'problem': 643,\n",
       " 'offers': 644,\n",
       " 'kid': 645,\n",
       " 'leaders': 646,\n",
       " 'different': 647,\n",
       " 'told': 648,\n",
       " \"isn't\": 649,\n",
       " 'whole': 650,\n",
       " 'visit': 651,\n",
       " 'russian': 652,\n",
       " 'break': 653,\n",
       " 'scott': 654,\n",
       " 'hollywood': 655,\n",
       " 'front': 656,\n",
       " 'favorite': 657,\n",
       " 'rise': 658,\n",
       " 'relationship': 659,\n",
       " 'worried': 660,\n",
       " 'hair': 661,\n",
       " 'david': 662,\n",
       " 'cop': 663,\n",
       " 'non': 664,\n",
       " 'chinese': 665,\n",
       " 'millions': 666,\n",
       " 'thinking': 667,\n",
       " 'trailer': 668,\n",
       " '2015': 669,\n",
       " 'box': 670,\n",
       " 'celebrates': 671,\n",
       " 'girls': 672,\n",
       " 'anything': 673,\n",
       " 'play': 674,\n",
       " 'date': 675,\n",
       " 'immigration': 676,\n",
       " 'hate': 677,\n",
       " 'protest': 678,\n",
       " 'al': 679,\n",
       " \"america's\": 680,\n",
       " 'late': 681,\n",
       " 'early': 682,\n",
       " 'career': 683,\n",
       " 'die': 684,\n",
       " 'response': 685,\n",
       " 'himself': 686,\n",
       " \"obama's\": 687,\n",
       " 'taylor': 688,\n",
       " 'union': 689,\n",
       " 'stars': 690,\n",
       " 'china': 691,\n",
       " 'drunk': 692,\n",
       " 'fall': 693,\n",
       " 'birth': 694,\n",
       " 'struggling': 695,\n",
       " 'reasons': 696,\n",
       " 'billion': 697,\n",
       " 'united': 698,\n",
       " 'message': 699,\n",
       " 'massive': 700,\n",
       " 'weekend': 701,\n",
       " '40': 702,\n",
       " 'candidates': 703,\n",
       " 'politics': 704,\n",
       " 'accused': 705,\n",
       " 'opens': 706,\n",
       " 'become': 707,\n",
       " 'least': 708,\n",
       " 'starting': 709,\n",
       " 'killing': 710,\n",
       " 'huffpost': 711,\n",
       " 'senator': 712,\n",
       " 'bring': 713,\n",
       " 'hands': 714,\n",
       " 'mass': 715,\n",
       " 'feels': 716,\n",
       " 'interview': 717,\n",
       " 'vows': 718,\n",
       " 'hope': 719,\n",
       " 'victims': 720,\n",
       " 'experts': 721,\n",
       " 'light': 722,\n",
       " 'moment': 723,\n",
       " 'discover': 724,\n",
       " 'turn': 725,\n",
       " 'returns': 726,\n",
       " 'leader': 727,\n",
       " 'words': 728,\n",
       " 'pence': 729,\n",
       " 'point': 730,\n",
       " 'c': 731,\n",
       " 'jimmy': 732,\n",
       " 'clearly': 733,\n",
       " 'turns': 734,\n",
       " 'far': 735,\n",
       " 'driving': 736,\n",
       " 'center': 737,\n",
       " 'dating': 738,\n",
       " 'key': 739,\n",
       " 'employees': 740,\n",
       " 'sports': 741,\n",
       " 'policy': 742,\n",
       " 'lessons': 743,\n",
       " 'tom': 744,\n",
       " 'sick': 745,\n",
       " 'wishes': 746,\n",
       " 'apple': 747,\n",
       " 'conversation': 748,\n",
       " 'host': 749,\n",
       " 'sign': 750,\n",
       " 'whether': 751,\n",
       " \"they're\": 752,\n",
       " 'completely': 753,\n",
       " 'murder': 754,\n",
       " 'fashion': 755,\n",
       " 'adds': 756,\n",
       " 'adorable': 757,\n",
       " 'totally': 758,\n",
       " 'learned': 759,\n",
       " 'signs': 760,\n",
       " 'hoping': 761,\n",
       " 'prince': 762,\n",
       " 'fuck': 763,\n",
       " 'role': 764,\n",
       " 'stage': 765,\n",
       " 'j': 766,\n",
       " 'oil': 767,\n",
       " 'powerful': 768,\n",
       " 'k': 769,\n",
       " 'breaks': 770,\n",
       " 'abuse': 771,\n",
       " 'song': 772,\n",
       " 'across': 773,\n",
       " 'reality': 774,\n",
       " 'moving': 775,\n",
       " 'decision': 776,\n",
       " 'global': 777,\n",
       " 'keeps': 778,\n",
       " 'experience': 779,\n",
       " 'seen': 780,\n",
       " 'syrian': 781,\n",
       " 'announce': 782,\n",
       " 'true': 783,\n",
       " 'risk': 784,\n",
       " 'iraq': 785,\n",
       " 'joe': 786,\n",
       " 'bus': 787,\n",
       " 'begins': 788,\n",
       " 'jr': 789,\n",
       " 'syria': 790,\n",
       " 'hand': 791,\n",
       " 'puts': 792,\n",
       " 'dance': 793,\n",
       " '13': 794,\n",
       " 'final': 795,\n",
       " 'check': 796,\n",
       " 'cops': 797,\n",
       " 'dinner': 798,\n",
       " 'stand': 799,\n",
       " 'apartment': 800,\n",
       " 'cut': 801,\n",
       " 'almost': 802,\n",
       " 'playing': 803,\n",
       " 'names': 804,\n",
       " 'coffee': 805,\n",
       " 'weird': 806,\n",
       " 'longer': 807,\n",
       " 'hurricane': 808,\n",
       " 'schools': 809,\n",
       " 'kills': 810,\n",
       " \"there's\": 811,\n",
       " 'lose': 812,\n",
       " 'amazon': 813,\n",
       " 'awards': 814,\n",
       " 'un': 815,\n",
       " 'low': 816,\n",
       " 'press': 817,\n",
       " 'robert': 818,\n",
       " 'mind': 819,\n",
       " 'number': 820,\n",
       " 'lead': 821,\n",
       " 'west': 822,\n",
       " 'd': 823,\n",
       " 'worth': 824,\n",
       " 'anniversary': 825,\n",
       " 'surprise': 826,\n",
       " 'oscar': 827,\n",
       " 'feeling': 828,\n",
       " 'anyone': 829,\n",
       " 'crash': 830,\n",
       " 'mental': 831,\n",
       " 'trans': 832,\n",
       " 'test': 833,\n",
       " 'lgbt': 834,\n",
       " 'worst': 835,\n",
       " 'band': 836,\n",
       " 'hall': 837,\n",
       " 'space': 838,\n",
       " 'return': 839,\n",
       " 'official': 840,\n",
       " 'which': 841,\n",
       " 'audience': 842,\n",
       " 'queer': 843,\n",
       " 'shop': 844,\n",
       " 'hits': 845,\n",
       " 'demands': 846,\n",
       " 'oscars': 847,\n",
       " 'data': 848,\n",
       " 'workers': 849,\n",
       " 'university': 850,\n",
       " 'iowa': 851,\n",
       " 'side': 852,\n",
       " 'apologizes': 853,\n",
       " 'road': 854,\n",
       " 'cool': 855,\n",
       " 'industry': 856,\n",
       " 'suspect': 857,\n",
       " 'planned': 858,\n",
       " 'plane': 859,\n",
       " 'nfl': 860,\n",
       " 'evidence': 861,\n",
       " 'steve': 862,\n",
       " 'eat': 863,\n",
       " 'program': 864,\n",
       " 'door': 865,\n",
       " 'table': 866,\n",
       " 'governor': 867,\n",
       " 'remember': 868,\n",
       " 'try': 869,\n",
       " 'important': 870,\n",
       " 'chance': 871,\n",
       " 'transgender': 872,\n",
       " 'defense': 873,\n",
       " 'reportedly': 874,\n",
       " 'urges': 875,\n",
       " 'near': 876,\n",
       " 'church': 877,\n",
       " 'chicago': 878,\n",
       " 'halloween': 879,\n",
       " 'users': 880,\n",
       " 'possible': 881,\n",
       " 'general': 882,\n",
       " 'doctor': 883,\n",
       " '2014': 884,\n",
       " 'hear': 885,\n",
       " 'style': 886,\n",
       " 'spot': 887,\n",
       " 'supporters': 888,\n",
       " 'five': 889,\n",
       " 'rubio': 890,\n",
       " 'reveal': 891,\n",
       " 'kardashian': 892,\n",
       " 'advice': 893,\n",
       " 'coworker': 894,\n",
       " 'given': 895,\n",
       " 'voter': 896,\n",
       " 'brings': 897,\n",
       " 'picture': 898,\n",
       " 'dying': 899,\n",
       " 'success': 900,\n",
       " 'blood': 901,\n",
       " 'executive': 902,\n",
       " 'finding': 903,\n",
       " 'suicide': 904,\n",
       " 'tour': 905,\n",
       " 'biggest': 906,\n",
       " '2017': 907,\n",
       " 'allegations': 908,\n",
       " 'accidentally': 909,\n",
       " 'easy': 910,\n",
       " 'boys': 911,\n",
       " 'football': 912,\n",
       " 'protesters': 913,\n",
       " 'bathroom': 914,\n",
       " 'fighting': 915,\n",
       " 'demand': 916,\n",
       " 'michelle': 917,\n",
       " 'peace': 918,\n",
       " 'push': 919,\n",
       " 'reform': 920,\n",
       " 'paris': 921,\n",
       " 'close': 922,\n",
       " 'avoid': 923,\n",
       " 'elizabeth': 924,\n",
       " 'israel': 925,\n",
       " 'homeless': 926,\n",
       " 'poor': 927,\n",
       " 'fear': 928,\n",
       " 'cnn': 929,\n",
       " 'quietly': 930,\n",
       " 'reminds': 931,\n",
       " 'teens': 932,\n",
       " 'nyc': 933,\n",
       " 'address': 934,\n",
       " 'learn': 935,\n",
       " 'board': 936,\n",
       " 'bowl': 937,\n",
       " 'uses': 938,\n",
       " 'apparently': 939,\n",
       " 'building': 940,\n",
       " 'act': 941,\n",
       " 'staff': 942,\n",
       " 'rest': 943,\n",
       " 'pro': 944,\n",
       " 'major': 945,\n",
       " 'carolina': 946,\n",
       " 'train': 947,\n",
       " 'force': 948,\n",
       " 'voice': 949,\n",
       " 'pregnant': 950,\n",
       " 'weight': 951,\n",
       " 'officer': 952,\n",
       " 'suggests': 953,\n",
       " 'walking': 954,\n",
       " 'google': 955,\n",
       " 'members': 956,\n",
       " 'rally': 957,\n",
       " 'economy': 958,\n",
       " 'ideas': 959,\n",
       " 'lets': 960,\n",
       " 'died': 961,\n",
       " 'celebrate': 962,\n",
       " 'card': 963,\n",
       " 'website': 964,\n",
       " 'park': 965,\n",
       " 'ben': 966,\n",
       " 'performance': 967,\n",
       " 'prevent': 968,\n",
       " 'williams': 969,\n",
       " 'moore': 970,\n",
       " 'moms': 971,\n",
       " '18': 972,\n",
       " 'green': 973,\n",
       " 'ferguson': 974,\n",
       " 'saudi': 975,\n",
       " 'asking': 976,\n",
       " 'artist': 977,\n",
       " 'leading': 978,\n",
       " 'pick': 979,\n",
       " 'passes': 980,\n",
       " 'opening': 981,\n",
       " 'said': 982,\n",
       " 'christian': 983,\n",
       " 'album': 984,\n",
       " 'happens': 985,\n",
       " 'netflix': 986,\n",
       " 'culture': 987,\n",
       " 'magazine': 988,\n",
       " 'throws': 989,\n",
       " 'leads': 990,\n",
       " 'eyes': 991,\n",
       " 'humans': 992,\n",
       " 'chicken': 993,\n",
       " 'beauty': 994,\n",
       " 'crime': 995,\n",
       " 'recalls': 996,\n",
       " 'energy': 997,\n",
       " 'voting': 998,\n",
       " 'question': 999,\n",
       " 'episode': 1000,\n",
       " ...}"
      ]
     },
     "execution_count": 61,
     "metadata": {
      "tags": []
     },
     "output_type": "execute_result"
    }
   ],
   "source": [
    "tokenizer.word_index"
   ]
  },
  {
   "cell_type": "markdown",
   "metadata": {
    "id": "VRiNX58Rb3oJ"
   },
   "source": [
    "### Set number of words\n",
    "- Since the above 0th index doesn't have a word, add 1 to the length of the vocabulary"
   ]
  },
  {
   "cell_type": "code",
   "execution_count": null,
   "metadata": {
    "id": "_uz4FtZ5vFtF"
   },
   "outputs": [],
   "source": []
  },
  {
   "cell_type": "code",
   "execution_count": 62,
   "metadata": {
    "colab": {
     "base_uri": "https://localhost:8080/"
    },
    "id": "Dfwq6ou8ck2f",
    "outputId": "e78a97a5-1d97-40a1-9f45-adf09f63bae6"
   },
   "outputs": [
    {
     "name": "stdout",
     "output_type": "stream",
     "text": [
      "30888\n"
     ]
    }
   ],
   "source": [
    "num_words = len(tokenizer.word_index) + 1\n",
    "print(num_words)"
   ]
  },
  {
   "cell_type": "code",
   "execution_count": 63,
   "metadata": {
    "id": "bgwedeq2T1LT"
   },
   "outputs": [],
   "source": [
    "y = np.asarray(headlines['is_sarcastic'])"
   ]
  },
  {
   "cell_type": "markdown",
   "metadata": {
    "id": "bUF1TuQa8ux0"
   },
   "source": [
    "### Load Glove Word Embeddings \n"
   ]
  },
  {
   "cell_type": "code",
   "execution_count": 65,
   "metadata": {
    "id": "vq5AIfRtMeZh"
   },
   "outputs": [],
   "source": [
    "glove_file=file_path+\"glove.6B.200d.txt\""
   ]
  },
  {
   "cell_type": "markdown",
   "metadata": {
    "id": "prHSzdQUcZhm"
   },
   "source": [
    "### Create embedding matrix"
   ]
  },
  {
   "cell_type": "code",
   "execution_count": 66,
   "metadata": {
    "id": "elZ-T5aFGZmZ"
   },
   "outputs": [],
   "source": [
    "embeddings = {}\n",
    "for o in open(glove_file):\n",
    "    word = o.split(\" \")[0]\n",
    "    # print(word)\n",
    "    embd = o.split(\" \")[1:]\n",
    "    embd = np.asarray(embd, dtype='float32')\n",
    "    # print(embd)\n",
    "    embeddings[word] = embd\n",
    "\n",
    "# create a weight matrix for words in training docs\n",
    "embedding_matrix = np.zeros((num_words, 200))\n",
    "\n",
    "for word, i in tokenizer.word_index.items():\n",
    "\tembedding_vector = embeddings.get(word)\n",
    "\tif embedding_vector is not None:\n",
    "\t\tembedding_matrix[i] = embedding_vector"
   ]
  },
  {
   "cell_type": "code",
   "execution_count": 67,
   "metadata": {
    "colab": {
     "base_uri": "https://localhost:8080/"
    },
    "id": "hOXXusjRVr_2",
    "outputId": "d68117d0-b6c1-44ef-afdd-a92d71fabf94"
   },
   "outputs": [
    {
     "data": {
      "text/plain": [
       "(30888, 200)"
      ]
     },
     "execution_count": 67,
     "metadata": {
      "tags": []
     },
     "output_type": "execute_result"
    }
   ],
   "source": [
    "embedding_matrix.shape"
   ]
  },
  {
   "cell_type": "code",
   "execution_count": 74,
   "metadata": {
    "id": "k6hAyPwdWVNS"
   },
   "outputs": [],
   "source": [
    "from sklearn.model_selection import train_test_split\n",
    "x_train, x_test, y_train, y_test = train_test_split(X, y, test_size=0.2,random_state=42)"
   ]
  },
  {
   "cell_type": "code",
   "execution_count": 75,
   "metadata": {
    "colab": {
     "base_uri": "https://localhost:8080/"
    },
    "id": "g2lZOgSKWbnl",
    "outputId": "bb5fefa6-c733-4fde-ee83-647a9d5f899a"
   },
   "outputs": [
    {
     "name": "stdout",
     "output_type": "stream",
     "text": [
      "(22895, 25) (22895,)\n",
      "(5724, 25) (5724,)\n"
     ]
    }
   ],
   "source": [
    "print(x_train.shape,y_train.shape)\n",
    "print(x_test.shape,y_test.shape)"
   ]
  },
  {
   "cell_type": "markdown",
   "metadata": {
    "id": "u7IbWuEX82Ra"
   },
   "source": [
    "### Define model (5 Marks)\n",
    "- Hint: Use Sequential model instance and then add Embedding layer, Bidirectional(LSTM) layer, flatten it, then dense and dropout layers as required. \n",
    "In the end add a final dense layer with sigmoid activation for binary classification."
   ]
  },
  {
   "cell_type": "code",
   "execution_count": 70,
   "metadata": {
    "id": "4tv168Gmc3PY"
   },
   "outputs": [],
   "source": [
    "import tensorflow as tf\n",
    "from tensorflow.keras.models import Sequential\n",
    "from tensorflow.keras.layers import LSTM, Flatten, Dense, Embedding, Dropout, Bidirectional, SpatialDropout1D"
   ]
  },
  {
   "cell_type": "code",
   "execution_count": 71,
   "metadata": {
    "colab": {
     "base_uri": "https://localhost:8080/"
    },
    "id": "ulz2ki7iWn_j",
    "outputId": "1a972b83-f250-49d4-94be-6fc50e16db90"
   },
   "outputs": [
    {
     "name": "stdout",
     "output_type": "stream",
     "text": [
      "WARNING:tensorflow:Layer lstm_3 will not use cuDNN kernels since it doesn't meet the criteria. It will use a generic GPU kernel as fallback when running on GPU.\n",
      "WARNING:tensorflow:Layer lstm_3 will not use cuDNN kernels since it doesn't meet the criteria. It will use a generic GPU kernel as fallback when running on GPU.\n",
      "WARNING:tensorflow:Layer lstm_3 will not use cuDNN kernels since it doesn't meet the criteria. It will use a generic GPU kernel as fallback when running on GPU.\n"
     ]
    }
   ],
   "source": [
    "model = Sequential()\n",
    "model.add(Embedding(num_words,embedding_size,weights=[embedding_matrix],input_length=maxlen, trainable=False ) )\n",
    "model.add(SpatialDropout1D(0.4))\n",
    "model.add(Bidirectional(LSTM(units=196, recurrent_dropout = 0.3, dropout = 0.3, return_sequences = True)))\n",
    "\n",
    "model.add(Flatten())\n",
    "\n",
    "#model.add(Dense(512,activation='relu'))\n",
    "#model.add(Dense(256,activation='relu'))\n",
    "#model.add(Dense(128,activation='relu'))\n",
    "#model.add(Dense(64,activation='relu'))\n",
    "#model.add(Dropout(0.5))\n",
    "model.add(Dense(1,activation='sigmoid'))"
   ]
  },
  {
   "cell_type": "markdown",
   "metadata": {
    "id": "xoI7_8Y1cqTj"
   },
   "source": [
    "### Compile the model (4 Marks)"
   ]
  },
  {
   "cell_type": "code",
   "execution_count": 72,
   "metadata": {
    "id": "-jJiPHeNoJ3U"
   },
   "outputs": [],
   "source": [
    "model.compile(optimizer='adam',loss='binary_crossentropy', metrics=['accuracy'])"
   ]
  },
  {
   "cell_type": "code",
   "execution_count": 73,
   "metadata": {
    "colab": {
     "base_uri": "https://localhost:8080/"
    },
    "id": "SGltKDDAawTj",
    "outputId": "240fb01d-6c4d-4180-c109-cc0457ed3a84"
   },
   "outputs": [
    {
     "name": "stdout",
     "output_type": "stream",
     "text": [
      "Model: \"sequential_3\"\n",
      "_________________________________________________________________\n",
      "Layer (type)                 Output Shape              Param #   \n",
      "=================================================================\n",
      "embedding_3 (Embedding)      (None, 25, 200)           6177600   \n",
      "_________________________________________________________________\n",
      "spatial_dropout1d_1 (Spatial (None, 25, 200)           0         \n",
      "_________________________________________________________________\n",
      "bidirectional_3 (Bidirection (None, 25, 392)           622496    \n",
      "_________________________________________________________________\n",
      "flatten_2 (Flatten)          (None, 9800)              0         \n",
      "_________________________________________________________________\n",
      "dense_7 (Dense)              (None, 1)                 9801      \n",
      "=================================================================\n",
      "Total params: 6,809,897\n",
      "Trainable params: 632,297\n",
      "Non-trainable params: 6,177,600\n",
      "_________________________________________________________________\n"
     ]
    }
   ],
   "source": [
    "model.summary()"
   ]
  },
  {
   "cell_type": "markdown",
   "metadata": {
    "id": "7s4nmqcecw3a"
   },
   "source": [
    "### Fit the model (4 Marks)"
   ]
  },
  {
   "cell_type": "code",
   "execution_count": 76,
   "metadata": {
    "colab": {
     "base_uri": "https://localhost:8080/"
    },
    "id": "NN789zNnJ5PL",
    "outputId": "24b6bd2a-78f0-4b5b-d190-41751fbc1e44"
   },
   "outputs": [
    {
     "name": "stdout",
     "output_type": "stream",
     "text": [
      "Epoch 1/10\n",
      "322/322 [==============================] - 64s 186ms/step - loss: 0.5595 - accuracy: 0.7079 - val_loss: 0.4228 - val_accuracy: 0.8087\n",
      "Epoch 2/10\n",
      "322/322 [==============================] - 60s 185ms/step - loss: 0.4569 - accuracy: 0.7801 - val_loss: 0.3709 - val_accuracy: 0.8271\n",
      "Epoch 3/10\n",
      "322/322 [==============================] - 60s 186ms/step - loss: 0.3983 - accuracy: 0.8151 - val_loss: 0.3403 - val_accuracy: 0.8467\n",
      "Epoch 4/10\n",
      "322/322 [==============================] - 60s 185ms/step - loss: 0.3596 - accuracy: 0.8353 - val_loss: 0.3299 - val_accuracy: 0.8555\n",
      "Epoch 5/10\n",
      "322/322 [==============================] - 60s 187ms/step - loss: 0.3359 - accuracy: 0.8519 - val_loss: 0.3206 - val_accuracy: 0.8541\n",
      "Epoch 6/10\n",
      "322/322 [==============================] - 60s 185ms/step - loss: 0.3099 - accuracy: 0.8629 - val_loss: 0.3242 - val_accuracy: 0.8524\n",
      "Epoch 7/10\n",
      "322/322 [==============================] - 58s 181ms/step - loss: 0.2956 - accuracy: 0.8693 - val_loss: 0.3209 - val_accuracy: 0.8616\n",
      "Epoch 8/10\n",
      "322/322 [==============================] - 58s 181ms/step - loss: 0.2771 - accuracy: 0.8777 - val_loss: 0.3109 - val_accuracy: 0.8620\n",
      "Epoch 9/10\n",
      "322/322 [==============================] - 59s 182ms/step - loss: 0.2655 - accuracy: 0.8849 - val_loss: 0.3126 - val_accuracy: 0.8655\n",
      "Epoch 10/10\n",
      "322/322 [==============================] - 58s 181ms/step - loss: 0.2441 - accuracy: 0.8942 - val_loss: 0.3195 - val_accuracy: 0.8694\n"
     ]
    }
   ],
   "source": [
    "history=model.fit(x_train,y_train, epochs=10, batch_size=64, verbose=1, validation_split=0.1 )"
   ]
  },
  {
   "cell_type": "code",
   "execution_count": 77,
   "metadata": {
    "colab": {
     "base_uri": "https://localhost:8080/"
    },
    "id": "xqmYmWjsd34k",
    "outputId": "74c892ca-c4c3-49c5-85f0-38461e92d5ea"
   },
   "outputs": [
    {
     "data": {
      "text/plain": [
       "array([0, 0, 0, ..., 0, 0, 0])"
      ]
     },
     "execution_count": 77,
     "metadata": {
      "tags": []
     },
     "output_type": "execute_result"
    }
   ],
   "source": [
    "predictions = model.predict(x_test)\n",
    "#predictions\n",
    "#predictions = [np.argmax(x) for x in predictions]\n",
    "result = np.argmax(predictions, axis = 1)\n",
    "result\n"
   ]
  },
  {
   "cell_type": "code",
   "execution_count": 78,
   "metadata": {
    "colab": {
     "base_uri": "https://localhost:8080/"
    },
    "id": "ChMJdFAjeE5X",
    "outputId": "7059a7ae-7ca5-4e6c-c5fc-22e0f3b44a5d"
   },
   "outputs": [
    {
     "data": {
      "text/plain": [
       "array([0, 1, 1, ..., 0, 0, 1])"
      ]
     },
     "execution_count": 78,
     "metadata": {
      "tags": []
     },
     "output_type": "execute_result"
    }
   ],
   "source": [
    "y_test"
   ]
  },
  {
   "cell_type": "code",
   "execution_count": 79,
   "metadata": {
    "colab": {
     "base_uri": "https://localhost:8080/"
    },
    "id": "U7UEF8OGeOfk",
    "outputId": "9ef21e6f-e1a5-416e-c48b-3b9397577db0"
   },
   "outputs": [
    {
     "data": {
      "text/plain": [
       "array([[0.66458243],\n",
       "       [0.9914425 ],\n",
       "       [0.9999999 ],\n",
       "       ...,\n",
       "       [0.00255903],\n",
       "       [0.14565864],\n",
       "       [0.9796491 ]], dtype=float32)"
      ]
     },
     "execution_count": 79,
     "metadata": {
      "tags": []
     },
     "output_type": "execute_result"
    }
   ],
   "source": [
    "predictions"
   ]
  },
  {
   "cell_type": "code",
   "execution_count": 80,
   "metadata": {
    "colab": {
     "base_uri": "https://localhost:8080/",
     "height": 295
    },
    "id": "hOhx2t9ja6Pm",
    "outputId": "d1409cf6-cfeb-4209-fc83-245e60176a68"
   },
   "outputs": [
    {
     "data": {
      "image/png": "[encoded data removed]",
      "text/plain": [
       "<Figure size 432x288 with 1 Axes>"
      ]
     },
     "metadata": {
      "needs_background": "light",
      "tags": []
     },
     "output_type": "display_data"
    }
   ],
   "source": [
    "# summarize history for accuracy\n",
    "plt.plot(history.history['accuracy'])\n",
    "plt.plot(history.history['val_accuracy'])\n",
    "plt.title('model accuracy')\n",
    "plt.ylabel('accuracy')\n",
    "plt.xlabel('epoch')\n",
    "plt.legend(['train', 'validation'], loc='upper left')\n",
    "plt.show();"
   ]
  },
  {
   "cell_type": "code",
   "execution_count": 82,
   "metadata": {
    "colab": {
     "base_uri": "https://localhost:8080/"
    },
    "id": "luzw-D8oc6IH",
    "outputId": "feefd684-25c9-4631-e611-55e8cfec71aa"
   },
   "outputs": [
    {
     "name": "stdout",
     "output_type": "stream",
     "text": [
      "179/179 [==============================] - 3s 14ms/step - loss: 0.3085 - accuracy: 0.8718\n"
     ]
    }
   ],
   "source": [
    "loss, accuracy = model.evaluate(x_test, y_test)"
   ]
  },
  {
   "cell_type": "code",
   "execution_count": 84,
   "metadata": {
    "colab": {
     "base_uri": "https://localhost:8080/"
    },
    "id": "KzBIeDjweY88",
    "outputId": "e9806f4e-d36d-4e69-f336-3ada2c9a9a3d"
   },
   "outputs": [
    {
     "name": "stderr",
     "output_type": "stream",
     "text": [
      "/usr/local/lib/python3.7/dist-packages/tensorflow/python/keras/engine/sequential.py:455: UserWarning: `model.predict_classes()` is deprecated and will be removed after 2021-01-01. Please use instead:* `np.argmax(model.predict(x), axis=-1)`,   if your model does multi-class classification   (e.g. if it uses a `softmax` last-layer activation).* `(model.predict(x) > 0.5).astype(\"int32\")`,   if your model does binary classification   (e.g. if it uses a `sigmoid` last-layer activation).\n",
      "  warnings.warn('`model.predict_classes()` is deprecated and '\n"
     ]
    },
    {
     "name": "stdout",
     "output_type": "stream",
     "text": [
      "              precision    recall  f1-score   support\n",
      "\n",
      "           0       0.88      0.87      0.88      2995\n",
      "           1       0.86      0.87      0.87      2729\n",
      "\n",
      "    accuracy                           0.87      5724\n",
      "   macro avg       0.87      0.87      0.87      5724\n",
      "weighted avg       0.87      0.87      0.87      5724\n",
      "\n"
     ]
    }
   ],
   "source": [
    "from sklearn.metrics import classification_report , confusion_matrix\n",
    "\n",
    "print(classification_report(y_test, model.predict_classes(x_test)))"
   ]
  },
  {
   "cell_type": "code",
   "execution_count": 83,
   "metadata": {
    "colab": {
     "base_uri": "https://localhost:8080/"
    },
    "id": "_KUg1bpdekiI",
    "outputId": "4ba8aaff-f924-4ff6-a968-b48ef146f0b1"
   },
   "outputs": [
    {
     "name": "stderr",
     "output_type": "stream",
     "text": [
      "/usr/local/lib/python3.7/dist-packages/tensorflow/python/keras/engine/sequential.py:455: UserWarning: `model.predict_classes()` is deprecated and will be removed after 2021-01-01. Please use instead:* `np.argmax(model.predict(x), axis=-1)`,   if your model does multi-class classification   (e.g. if it uses a `softmax` last-layer activation).* `(model.predict(x) > 0.5).astype(\"int32\")`,   if your model does binary classification   (e.g. if it uses a `sigmoid` last-layer activation).\n",
      "  warnings.warn('`model.predict_classes()` is deprecated and '\n"
     ]
    },
    {
     "name": "stdout",
     "output_type": "stream",
     "text": [
      "[[2615  380]\n",
      " [ 354 2375]]\n"
     ]
    }
   ],
   "source": [
    "print(confusion_matrix(y_test,model.predict_classes(x_test)))"
   ]
  },
  {
   "cell_type": "code",
   "execution_count": 85,
   "metadata": {
    "colab": {
     "base_uri": "https://localhost:8080/",
     "height": 320
    },
    "id": "hMiy_hU-e19-",
    "outputId": "f34dce4c-5e9c-4ebe-a2ff-7daea07252e4"
   },
   "outputs": [
    {
     "data": {
      "image/png": "[encoded data removed]",
      "text/plain": [
       "<Figure size 1152x360 with 1 Axes>"
      ]
     },
     "metadata": {
      "needs_background": "light",
      "tags": []
     },
     "output_type": "display_data"
    }
   ],
   "source": [
    "plt.figure(figsize=(16,5))\n",
    "epochs = range(1, len(history.history['accuracy'])+1)\n",
    "plt.plot(epochs, history.history['loss'], 'b', label='Training Loss', color='red')\n",
    "plt.plot(epochs, history.history['val_loss'], 'b', label='Validation Loss')\n",
    "plt.legend()\n",
    "plt.show()"
   ]
  }
 ],
 "metadata": {
  "accelerator": "GPU",
  "colab": {
   "collapsed_sections": [],
   "name": "Sequence Model in NLP_R10_Project2_Sarcasm Detection.ipynb",
   "provenance": [],
   "toc_visible": true
  },
  "kernelspec": {
   "display_name": "Python 3",
   "language": "python",
   "name": "python3"
  },
  "language_info": {
   "codemirror_mode": {
    "name": "ipython",
    "version": 3
   },
   "file_extension": ".py",
   "mimetype": "text/x-python",
   "name": "python",
   "nbconvert_exporter": "python",
   "pygments_lexer": "ipython3",
   "version": "3.7.4"
  }
 },
 "nbformat": 4,
 "nbformat_minor": 1
}
