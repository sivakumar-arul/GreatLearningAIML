{
  "nbformat": 4,
  "nbformat_minor": 0,
  "metadata": {
    "colab": {
      "name": "R9 Internal Lab Question Notebook-1.ipynb",
      "provenance": [],
      "collapsed_sections": [],
      "toc_visible": true
    },
    "kernelspec": {
      "name": "python3",
      "display_name": "Python 3"
    }
  },
  "cells": [
    {
      "cell_type": "markdown",
      "metadata": {
        "id": "PHYs6Z84xV8E"
      },
      "source": [
        "<img src=\"http://drive.google.com/uc?export=view&id=1tpOCamr9aWz817atPnyXus8w5gJ3mIts\" width=500px>\n",
        "\n",
        "Proprietary content. © Great Learning. All Rights Reserved. Unauthorized use or distribution prohibited."
      ]
    },
    {
      "cell_type": "markdown",
      "metadata": {
        "id": "FbwHYUXhxaqD"
      },
      "source": [
        "## Problem Statement\n",
        "\n"
      ]
    },
    {
      "cell_type": "markdown",
      "metadata": {
        "id": "5QQxgAmWzSye"
      },
      "source": [
        "# Samsung Internal SSD Reviews prediction\n",
        "\n",
        "Rating predictions using reviews written by users can be a useful problem statement in E-commerce domain and can be used for recommending similar products that may interest users. The dataset in this problem statement comprises reviews pertaining to Samsung Internal SSD product specifically SAMSUNG 850 EVO 2.5\" 250GB SATA III 3D NAND Internal Solid State Drive (SSD) MZ-75E250B/AM from the NewEgg Store website.  We will build a Natural Language processing model using Glove embeddings which is trained on reviews given by customers that have used the product and try to predict ratings given a new rating.\n",
        "\n",
        "\n",
        "\n",
        "\n",
        "### Objective:\n",
        "Given the reviews provided by customers, can you train a model that accurately predicts the corresponding rating of a review?"
      ]
    },
    {
      "cell_type": "markdown",
      "metadata": {
        "id": "CI7usguRzeox"
      },
      "source": [
        "### Package version\n",
        "\n",
        "- tensorflow==2.3.0\n",
        "- scikit-learn==0.22.2.post1\n",
        "- pandas==1.0.5\n",
        "- numpy==1.18.5\n",
        "- matplotlib==3.2.2\n",
        "- google==2.0.3"
      ]
    },
    {
      "cell_type": "markdown",
      "metadata": {
        "id": "aiMdVjHRH7NR"
      },
      "source": [
        "### Data Dictionary \n",
        "\n",
        "- review_title : The Title for the customer review\n",
        "\n",
        "- overall_review: The whole customer review details\n",
        "\n",
        "- pros: The customer opinion about the good things in this product\n",
        "\n",
        "- cons: The customer opinion about the bad things in this product\n",
        "\n",
        "- ownership_pariod: How long the customer owned this product\n",
        "\n",
        "- date: When the review was written\n",
        "\n",
        "- rating_stars: The product rating from 1 to 5\n",
        "\n",
        "- year: In which year the review was written\n",
        "\n",
        "- month: In which month the review was written\n",
        "\n",
        "- day: In which day the review was written"
      ]
    },
    {
      "cell_type": "markdown",
      "metadata": {
        "id": "cEn52o8jznJK"
      },
      "source": [
        "## Table of Content\n",
        "\n",
        "1. Import Libraries\n",
        "\n",
        "2. Setting options\n",
        "\n",
        "3. Read Data\n",
        "\n",
        "4. Data Analysis and Preparation\n",
        "\n",
        "5. Model Building\n",
        "\n",
        "6. Conclusion and Interpretation\n",
        "\n",
        "7. Food for thought"
      ]
    },
    {
      "cell_type": "markdown",
      "metadata": {
        "id": "x_Lom6cXzqn7"
      },
      "source": [
        "## 1. Import Libraries"
      ]
    },
    {
      "cell_type": "markdown",
      "metadata": {
        "id": "FZtVstH8zre2"
      },
      "source": [
        "Let us start by mounting the drive"
      ]
    },
    {
      "cell_type": "code",
      "metadata": {
        "id": "jSsg8JHkIh2k",
        "colab": {
          "base_uri": "https://localhost:8080/"
        },
        "outputId": "97ef9546-7b5c-40ec-f97a-d5e6e0917b2e"
      },
      "source": [
        "from google.colab import drive\n",
        "drive.mount('/content/drive')"
      ],
      "execution_count": 1,
      "outputs": [
        {
          "output_type": "stream",
          "text": [
            "Mounted at /content/drive\n"
          ],
          "name": "stdout"
        }
      ]
    },
    {
      "cell_type": "markdown",
      "metadata": {
        "id": "Gv-tZoFjz2WD"
      },
      "source": [
        "Let us check for the version of installed tensorflow."
      ]
    },
    {
      "cell_type": "code",
      "metadata": {
        "id": "eiuUVBuDzzn9",
        "colab": {
          "base_uri": "https://localhost:8080/"
        },
        "outputId": "294647a1-770e-43ef-e2d8-72f216916aa6"
      },
      "source": [
        "# used to supress display of warnings\n",
        "import warnings\n",
        "\n",
        "# os is used to provide a way of using operating system dependent functionality\n",
        "# We use it for setting working folder\n",
        "import os\n",
        "\n",
        "# Pandas is used for data manipulation and analysis\n",
        "import pandas as pd \n",
        "\n",
        "# Numpy is used for large, multi-dimensional arrays and matrices, along with mathematical operators on these arrays\n",
        "import numpy as np\n",
        "\n",
        "# Matplotlib is a data visualization library for 2D plots of arrays, built on NumPy arrays \n",
        "# and designed to work with the broader SciPy stack\n",
        "import matplotlib.pyplot as plt\n",
        "%matplotlib inline\n",
        "from matplotlib import pyplot\n",
        "\n",
        "# Seaborn is based on matplotlib, which aids in drawing attractive and informative statistical graphics.\n",
        "import seaborn as sns\n",
        "import tensorflow \n",
        "print(tensorflow.__version__)"
      ],
      "execution_count": 2,
      "outputs": [
        {
          "output_type": "stream",
          "text": [
            "2.4.1\n"
          ],
          "name": "stdout"
        }
      ]
    },
    {
      "cell_type": "markdown",
      "metadata": {
        "id": "fze-aokU0ukH"
      },
      "source": [
        "## 2. Setting Options"
      ]
    },
    {
      "cell_type": "code",
      "metadata": {
        "id": "T3FALggG0xXa"
      },
      "source": [
        "# suppress display of warnings\n",
        "warnings.filterwarnings('ignore')\n",
        "\n",
        "# display all dataframe columns\n",
        "pd.options.display.max_columns = None\n",
        "\n",
        "# to set the limit to 3 decimals\n",
        "pd.options.display.float_format = '{:.7f}'.format\n",
        "\n",
        "# display all dataframe rows\n",
        "pd.options.display.max_rows = None"
      ],
      "execution_count": 3,
      "outputs": []
    },
    {
      "cell_type": "markdown",
      "metadata": {
        "id": "ZT1P1WdK1vfZ"
      },
      "source": [
        "## 3. Read Data"
      ]
    },
    {
      "cell_type": "markdown",
      "metadata": {
        "id": "NnnvF56gfwav"
      },
      "source": [
        "### Read the dataset and check top 5 rows"
      ]
    },
    {
      "cell_type": "code",
      "metadata": {
        "id": "imj2VbNpf383",
        "colab": {
          "base_uri": "https://localhost:8080/",
          "height": 297
        },
        "outputId": "87bee505-5b95-4c9d-caeb-e5271a8aebe2"
      },
      "source": [
        "path=\"/content/drive/MyDrive/Colab Notebooks/SequentialNLP/\"\n",
        "filename=\"ssd_reviews.csv\"\n",
        "review_df=pd.read_csv(path+filename)\n",
        "review_df.head()"
      ],
      "execution_count": 4,
      "outputs": [
        {
          "output_type": "execute_result",
          "data": {
            "text/html": [
              "<div>\n",
              "<style scoped>\n",
              "    .dataframe tbody tr th:only-of-type {\n",
              "        vertical-align: middle;\n",
              "    }\n",
              "\n",
              "    .dataframe tbody tr th {\n",
              "        vertical-align: top;\n",
              "    }\n",
              "\n",
              "    .dataframe thead th {\n",
              "        text-align: right;\n",
              "    }\n",
              "</style>\n",
              "<table border=\"1\" class=\"dataframe\">\n",
              "  <thead>\n",
              "    <tr style=\"text-align: right;\">\n",
              "      <th></th>\n",
              "      <th>Unnamed: 0</th>\n",
              "      <th>review_title</th>\n",
              "      <th>overall_review</th>\n",
              "      <th>pros</th>\n",
              "      <th>cons</th>\n",
              "      <th>ownership_pariod</th>\n",
              "      <th>date</th>\n",
              "      <th>rating_stars</th>\n",
              "      <th>year</th>\n",
              "      <th>month</th>\n",
              "      <th>day</th>\n",
              "    </tr>\n",
              "  </thead>\n",
              "  <tbody>\n",
              "    <tr>\n",
              "      <th>0</th>\n",
              "      <td>0</td>\n",
              "      <td>solid</td>\n",
              "      <td>buy it you will not regret this purchase</td>\n",
              "      <td>reliable fast silent cool running drive highly...</td>\n",
              "      <td>NaN</td>\n",
              "      <td>years</td>\n",
              "      <td>2019-12-05 12:58:58</td>\n",
              "      <td>5</td>\n",
              "      <td>2019</td>\n",
              "      <td>12</td>\n",
              "      <td>5</td>\n",
              "    </tr>\n",
              "    <tr>\n",
              "      <th>1</th>\n",
              "      <td>1</td>\n",
              "      <td>nice drive for price even cheaper by todays costs</td>\n",
              "      <td>good drive price</td>\n",
              "      <td>been running almost constantly since when i pu...</td>\n",
              "      <td>NaN</td>\n",
              "      <td>years</td>\n",
              "      <td>2019-11-01 08:25:45</td>\n",
              "      <td>5</td>\n",
              "      <td>2019</td>\n",
              "      <td>11</td>\n",
              "      <td>1</td>\n",
              "    </tr>\n",
              "    <tr>\n",
              "      <th>2</th>\n",
              "      <td>2</td>\n",
              "      <td>perfect</td>\n",
              "      <td>used this drive as my boot drive and only data...</td>\n",
              "      <td>good value decently fast good longevity</td>\n",
              "      <td>none so far</td>\n",
              "      <td>years</td>\n",
              "      <td>2019-10-27 17:05:49</td>\n",
              "      <td>5</td>\n",
              "      <td>2019</td>\n",
              "      <td>10</td>\n",
              "      <td>27</td>\n",
              "    </tr>\n",
              "    <tr>\n",
              "      <th>3</th>\n",
              "      <td>3</td>\n",
              "      <td>very snappy</td>\n",
              "      <td>os boots quicker os menus pop up quicker gamin...</td>\n",
              "      <td>noticeable improvement in os performance over ...</td>\n",
              "      <td>samsung magician software causes some games to...</td>\n",
              "      <td>years</td>\n",
              "      <td>2019-10-24 18:29:43</td>\n",
              "      <td>5</td>\n",
              "      <td>2019</td>\n",
              "      <td>10</td>\n",
              "      <td>24</td>\n",
              "    </tr>\n",
              "    <tr>\n",
              "      <th>4</th>\n",
              "      <td>4</td>\n",
              "      <td>worth the hype</td>\n",
              "      <td>this was the sdd that everyone said to get and...</td>\n",
              "      <td>NaN</td>\n",
              "      <td>NaN</td>\n",
              "      <td>years</td>\n",
              "      <td>2019-09-11 19:21:03</td>\n",
              "      <td>5</td>\n",
              "      <td>2019</td>\n",
              "      <td>9</td>\n",
              "      <td>11</td>\n",
              "    </tr>\n",
              "  </tbody>\n",
              "</table>\n",
              "</div>"
            ],
            "text/plain": [
              "   Unnamed: 0                                       review_title  \\\n",
              "0           0                                              solid   \n",
              "1           1  nice drive for price even cheaper by todays costs   \n",
              "2           2                                            perfect   \n",
              "3           3                                        very snappy   \n",
              "4           4                                     worth the hype   \n",
              "\n",
              "                                      overall_review  \\\n",
              "0           buy it you will not regret this purchase   \n",
              "1                                   good drive price   \n",
              "2  used this drive as my boot drive and only data...   \n",
              "3  os boots quicker os menus pop up quicker gamin...   \n",
              "4  this was the sdd that everyone said to get and...   \n",
              "\n",
              "                                                pros  \\\n",
              "0  reliable fast silent cool running drive highly...   \n",
              "1  been running almost constantly since when i pu...   \n",
              "2            good value decently fast good longevity   \n",
              "3  noticeable improvement in os performance over ...   \n",
              "4                                                NaN   \n",
              "\n",
              "                                                cons ownership_pariod  \\\n",
              "0                                                NaN            years   \n",
              "1                                                NaN            years   \n",
              "2                                        none so far            years   \n",
              "3  samsung magician software causes some games to...            years   \n",
              "4                                                NaN            years   \n",
              "\n",
              "                  date  rating_stars  year  month  day  \n",
              "0  2019-12-05 12:58:58             5  2019     12    5  \n",
              "1  2019-11-01 08:25:45             5  2019     11    1  \n",
              "2  2019-10-27 17:05:49             5  2019     10   27  \n",
              "3  2019-10-24 18:29:43             5  2019     10   24  \n",
              "4  2019-09-11 19:21:03             5  2019      9   11  "
            ]
          },
          "metadata": {
            "tags": []
          },
          "execution_count": 4
        }
      ]
    },
    {
      "cell_type": "markdown",
      "metadata": {
        "id": "RGluIi5Sf5Rp"
      },
      "source": [
        "### Check info of the dataset and write your findings"
      ]
    },
    {
      "cell_type": "code",
      "metadata": {
        "id": "Pldlew5Mf9gA",
        "colab": {
          "base_uri": "https://localhost:8080/"
        },
        "outputId": "e083707b-7407-4a96-9dd3-42f3f8f8e4e7"
      },
      "source": [
        "review_df.info()"
      ],
      "execution_count": 5,
      "outputs": [
        {
          "output_type": "stream",
          "text": [
            "<class 'pandas.core.frame.DataFrame'>\n",
            "RangeIndex: 2227 entries, 0 to 2226\n",
            "Data columns (total 11 columns):\n",
            " #   Column            Non-Null Count  Dtype \n",
            "---  ------            --------------  ----- \n",
            " 0   Unnamed: 0        2227 non-null   int64 \n",
            " 1   review_title      2131 non-null   object\n",
            " 2   overall_review    1448 non-null   object\n",
            " 3   pros              2205 non-null   object\n",
            " 4   cons              2216 non-null   object\n",
            " 5   ownership_pariod  2159 non-null   object\n",
            " 6   date              2227 non-null   object\n",
            " 7   rating_stars      2227 non-null   int64 \n",
            " 8   year              2227 non-null   int64 \n",
            " 9   month             2227 non-null   int64 \n",
            " 10  day               2227 non-null   int64 \n",
            "dtypes: int64(5), object(6)\n",
            "memory usage: 191.5+ KB\n"
          ],
          "name": "stdout"
        }
      ]
    },
    {
      "cell_type": "code",
      "metadata": {
        "colab": {
          "base_uri": "https://localhost:8080/"
        },
        "id": "QTUGk9gqDnxe",
        "outputId": "9e32f64c-c88c-4b85-bc4a-602c9a47dbce"
      },
      "source": [
        "review_df.shape"
      ],
      "execution_count": 6,
      "outputs": [
        {
          "output_type": "execute_result",
          "data": {
            "text/plain": [
              "(2227, 11)"
            ]
          },
          "metadata": {
            "tags": []
          },
          "execution_count": 6
        }
      ]
    },
    {
      "cell_type": "code",
      "metadata": {
        "colab": {
          "base_uri": "https://localhost:8080/"
        },
        "id": "hVEBsBx6DsTX",
        "outputId": "55a637b6-b98f-4d32-e60f-59288009cad0"
      },
      "source": [
        "review_df.isnull().sum()"
      ],
      "execution_count": 7,
      "outputs": [
        {
          "output_type": "execute_result",
          "data": {
            "text/plain": [
              "Unnamed: 0            0\n",
              "review_title         96\n",
              "overall_review      779\n",
              "pros                 22\n",
              "cons                 11\n",
              "ownership_pariod     68\n",
              "date                  0\n",
              "rating_stars          0\n",
              "year                  0\n",
              "month                 0\n",
              "day                   0\n",
              "dtype: int64"
            ]
          },
          "metadata": {
            "tags": []
          },
          "execution_count": 7
        }
      ]
    },
    {
      "cell_type": "markdown",
      "metadata": {
        "id": "9AWoMEBSD0mE"
      },
      "source": [
        "#### Findings\n",
        "\n",
        "2227 records and null values present in most of the categorical columns of review_title, overall_review etc."
      ]
    },
    {
      "cell_type": "markdown",
      "metadata": {
        "id": "rED6DbDBKTjM"
      },
      "source": [
        "## 4.  Data Analysis and Preparation"
      ]
    },
    {
      "cell_type": "markdown",
      "metadata": {
        "id": "7VSqr0Seiy7g"
      },
      "source": [
        "### 4.1 Checking missing values\n",
        "#### Check for missing values (along with the percentage of null values)"
      ]
    },
    {
      "cell_type": "code",
      "metadata": {
        "id": "Il4yi7kdmnYQ",
        "colab": {
          "base_uri": "https://localhost:8080/"
        },
        "outputId": "bb920495-15cb-4f0c-ecdd-ed4b58129793"
      },
      "source": [
        "review_df.isna().sum()"
      ],
      "execution_count": 8,
      "outputs": [
        {
          "output_type": "execute_result",
          "data": {
            "text/plain": [
              "Unnamed: 0            0\n",
              "review_title         96\n",
              "overall_review      779\n",
              "pros                 22\n",
              "cons                 11\n",
              "ownership_pariod     68\n",
              "date                  0\n",
              "rating_stars          0\n",
              "year                  0\n",
              "month                 0\n",
              "day                   0\n",
              "dtype: int64"
            ]
          },
          "metadata": {
            "tags": []
          },
          "execution_count": 8
        }
      ]
    },
    {
      "cell_type": "code",
      "metadata": {
        "colab": {
          "base_uri": "https://localhost:8080/"
        },
        "id": "VE_gNJj2EtzR",
        "outputId": "423c0659-0727-40ad-b77d-c5e974cc99ca"
      },
      "source": [
        "review_df.isna().sum()/len(review_df)*100"
      ],
      "execution_count": 9,
      "outputs": [
        {
          "output_type": "execute_result",
          "data": {
            "text/plain": [
              "Unnamed: 0          0.0000000\n",
              "review_title        4.3107319\n",
              "overall_review     34.9797934\n",
              "pros                0.9878761\n",
              "cons                0.4939380\n",
              "ownership_pariod    3.0534351\n",
              "date                0.0000000\n",
              "rating_stars        0.0000000\n",
              "year                0.0000000\n",
              "month               0.0000000\n",
              "day                 0.0000000\n",
              "dtype: float64"
            ]
          },
          "metadata": {
            "tags": []
          },
          "execution_count": 9
        }
      ]
    },
    {
      "cell_type": "markdown",
      "metadata": {
        "id": "SB40EGirmVjo"
      },
      "source": [
        "### 4.2 Analyzing the target column (Rating_stars)"
      ]
    },
    {
      "cell_type": "markdown",
      "metadata": {
        "id": "MoRvWVk-is6Y"
      },
      "source": [
        "#### Check the value counts of 'rating_stars' and write your comments"
      ]
    },
    {
      "cell_type": "code",
      "metadata": {
        "id": "LOVFp6Diiy0n",
        "colab": {
          "base_uri": "https://localhost:8080/"
        },
        "outputId": "f4791ff9-8c4f-4419-b966-48396d9fcd2f"
      },
      "source": [
        "review_df.rating_stars.value_counts()"
      ],
      "execution_count": 10,
      "outputs": [
        {
          "output_type": "execute_result",
          "data": {
            "text/plain": [
              "5    1756\n",
              "4     181\n",
              "1     153\n",
              "3      77\n",
              "2      60\n",
              "Name: rating_stars, dtype: int64"
            ]
          },
          "metadata": {
            "tags": []
          },
          "execution_count": 10
        }
      ]
    },
    {
      "cell_type": "code",
      "metadata": {
        "id": "Rhr2gnY2lc9h",
        "colab": {
          "base_uri": "https://localhost:8080/",
          "height": 280
        },
        "outputId": "4e6540e8-2bc6-4f74-9ba5-1d6c3a1f13e5"
      },
      "source": [
        "review_df[\"rating_stars\"].value_counts().plot(kind='bar')"
      ],
      "execution_count": 11,
      "outputs": [
        {
          "output_type": "execute_result",
          "data": {
            "text/plain": [
              "<matplotlib.axes._subplots.AxesSubplot at 0x7f98441d0dd0>"
            ]
          },
          "metadata": {
            "tags": []
          },
          "execution_count": 11
        },
        {
          "output_type": "display_data",
          "data": {
            "image/png": "[encoded data removed]",
            "text/plain": [
              "<Figure size 432x288 with 1 Axes>"
            ]
          },
          "metadata": {
            "tags": [],
            "needs_background": "light"
          }
        }
      ]
    },
    {
      "cell_type": "markdown",
      "metadata": {
        "id": "FOIWIpJ0GMaa"
      },
      "source": [
        "#### Findings\n",
        "\n",
        "More than 90 percent of the records fall under top rating of 5 stars.\n",
        "\n",
        "All ratings have records though not evenly distributed"
      ]
    },
    {
      "cell_type": "markdown",
      "metadata": {
        "id": "ZL_BQlb5mE4O"
      },
      "source": [
        "### 4.3 Let's analyze other features like year, month, and day etc.\n",
        "#### Check value counts of 'year' and write your observations., Comment on the range of years, frequency of ratings in each year."
      ]
    },
    {
      "cell_type": "code",
      "metadata": {
        "colab": {
          "base_uri": "https://localhost:8080/"
        },
        "id": "pt51_6LoHj16",
        "outputId": "fbbcfddc-7f64-4f95-ded9-f426485c0922"
      },
      "source": [
        "review_df[\"year\"].value_counts()"
      ],
      "execution_count": 12,
      "outputs": [
        {
          "output_type": "execute_result",
          "data": {
            "text/plain": [
              "2015    1006\n",
              "2016     605\n",
              "2017     370\n",
              "2018     187\n",
              "2019      46\n",
              "2014      13\n",
              "Name: year, dtype: int64"
            ]
          },
          "metadata": {
            "tags": []
          },
          "execution_count": 12
        }
      ]
    },
    {
      "cell_type": "code",
      "metadata": {
        "id": "YAtEigKEmM-Z",
        "colab": {
          "base_uri": "https://localhost:8080/",
          "height": 298
        },
        "outputId": "be27e7c2-31d7-4c19-9ece-9e157442d91c"
      },
      "source": [
        "review_df[\"year\"].value_counts().plot(kind='bar')"
      ],
      "execution_count": 13,
      "outputs": [
        {
          "output_type": "execute_result",
          "data": {
            "text/plain": [
              "<matplotlib.axes._subplots.AxesSubplot at 0x7f98440d7350>"
            ]
          },
          "metadata": {
            "tags": []
          },
          "execution_count": 13
        },
        {
          "output_type": "display_data",
          "data": {
            "image/png": "[encoded data removed]",
            "text/plain": [
              "<Figure size 432x288 with 1 Axes>"
            ]
          },
          "metadata": {
            "tags": [],
            "needs_background": "light"
          }
        }
      ]
    },
    {
      "cell_type": "code",
      "metadata": {
        "colab": {
          "base_uri": "https://localhost:8080/",
          "height": 257
        },
        "id": "sM7iH32zGqkd",
        "outputId": "78c37d4d-9e24-480e-9461-97cbcc746069"
      },
      "source": [
        "pd.crosstab(review_df[\"year\"],review_df[\"rating_stars\"])"
      ],
      "execution_count": 14,
      "outputs": [
        {
          "output_type": "execute_result",
          "data": {
            "text/html": [
              "<div>\n",
              "<style scoped>\n",
              "    .dataframe tbody tr th:only-of-type {\n",
              "        vertical-align: middle;\n",
              "    }\n",
              "\n",
              "    .dataframe tbody tr th {\n",
              "        vertical-align: top;\n",
              "    }\n",
              "\n",
              "    .dataframe thead th {\n",
              "        text-align: right;\n",
              "    }\n",
              "</style>\n",
              "<table border=\"1\" class=\"dataframe\">\n",
              "  <thead>\n",
              "    <tr style=\"text-align: right;\">\n",
              "      <th>rating_stars</th>\n",
              "      <th>1</th>\n",
              "      <th>2</th>\n",
              "      <th>3</th>\n",
              "      <th>4</th>\n",
              "      <th>5</th>\n",
              "    </tr>\n",
              "    <tr>\n",
              "      <th>year</th>\n",
              "      <th></th>\n",
              "      <th></th>\n",
              "      <th></th>\n",
              "      <th></th>\n",
              "      <th></th>\n",
              "    </tr>\n",
              "  </thead>\n",
              "  <tbody>\n",
              "    <tr>\n",
              "      <th>2014</th>\n",
              "      <td>0</td>\n",
              "      <td>0</td>\n",
              "      <td>0</td>\n",
              "      <td>1</td>\n",
              "      <td>12</td>\n",
              "    </tr>\n",
              "    <tr>\n",
              "      <th>2015</th>\n",
              "      <td>65</td>\n",
              "      <td>31</td>\n",
              "      <td>45</td>\n",
              "      <td>102</td>\n",
              "      <td>763</td>\n",
              "    </tr>\n",
              "    <tr>\n",
              "      <th>2016</th>\n",
              "      <td>37</td>\n",
              "      <td>10</td>\n",
              "      <td>17</td>\n",
              "      <td>36</td>\n",
              "      <td>505</td>\n",
              "    </tr>\n",
              "    <tr>\n",
              "      <th>2017</th>\n",
              "      <td>25</td>\n",
              "      <td>13</td>\n",
              "      <td>8</td>\n",
              "      <td>26</td>\n",
              "      <td>298</td>\n",
              "    </tr>\n",
              "    <tr>\n",
              "      <th>2018</th>\n",
              "      <td>22</td>\n",
              "      <td>4</td>\n",
              "      <td>5</td>\n",
              "      <td>12</td>\n",
              "      <td>144</td>\n",
              "    </tr>\n",
              "    <tr>\n",
              "      <th>2019</th>\n",
              "      <td>4</td>\n",
              "      <td>2</td>\n",
              "      <td>2</td>\n",
              "      <td>4</td>\n",
              "      <td>34</td>\n",
              "    </tr>\n",
              "  </tbody>\n",
              "</table>\n",
              "</div>"
            ],
            "text/plain": [
              "rating_stars   1   2   3    4    5\n",
              "year                              \n",
              "2014           0   0   0    1   12\n",
              "2015          65  31  45  102  763\n",
              "2016          37  10  17   36  505\n",
              "2017          25  13   8   26  298\n",
              "2018          22   4   5   12  144\n",
              "2019           4   2   2    4   34"
            ]
          },
          "metadata": {
            "tags": []
          },
          "execution_count": 14
        }
      ]
    },
    {
      "cell_type": "markdown",
      "metadata": {
        "id": "M-pWwPhRmsAz"
      },
      "source": [
        "#### Check mean rating for each year and write your findings"
      ]
    },
    {
      "cell_type": "code",
      "metadata": {
        "id": "sqWWhlLemwG8",
        "colab": {
          "base_uri": "https://localhost:8080/"
        },
        "outputId": "4ee2bcc9-f9b4-44a6-a404-d88d6cd00e6b"
      },
      "source": [
        "review_df.groupby('year')['rating_stars'].mean().sort_values(ascending=False)"
      ],
      "execution_count": 15,
      "outputs": [
        {
          "output_type": "execute_result",
          "data": {
            "text/plain": [
              "year\n",
              "2014   4.9230769\n",
              "2016   4.5900826\n",
              "2017   4.5108108\n",
              "2015   4.4582505\n",
              "2019   4.3478261\n",
              "2018   4.3475936\n",
              "Name: rating_stars, dtype: float64"
            ]
          },
          "metadata": {
            "tags": []
          },
          "execution_count": 15
        }
      ]
    },
    {
      "cell_type": "markdown",
      "metadata": {
        "id": "2OC9BTlZIPYf"
      },
      "source": [
        "Mean rating of product remained the same for all 6 years but it is not consistent\n",
        "\n",
        "The number of ratings is not uniform"
      ]
    },
    {
      "cell_type": "markdown",
      "metadata": {
        "id": "enoYYTDunPsT"
      },
      "source": [
        "#### Check value counts of 'month' and write your observations. Comment on the frequency of ratings and discuss if the rating count and mean rating is higher/low on certain months."
      ]
    },
    {
      "cell_type": "code",
      "metadata": {
        "id": "T0yhG8s1pTZD",
        "colab": {
          "base_uri": "https://localhost:8080/"
        },
        "outputId": "42552805-ba49-4e67-919c-679db5a61c49"
      },
      "source": [
        "review_df[\"month\"].value_counts()"
      ],
      "execution_count": 16,
      "outputs": [
        {
          "output_type": "execute_result",
          "data": {
            "text/plain": [
              "12    278\n",
              "2     239\n",
              "3     234\n",
              "1     221\n",
              "4     205\n",
              "11    191\n",
              "5     158\n",
              "9     157\n",
              "7     144\n",
              "10    141\n",
              "6     140\n",
              "8     119\n",
              "Name: month, dtype: int64"
            ]
          },
          "metadata": {
            "tags": []
          },
          "execution_count": 16
        }
      ]
    },
    {
      "cell_type": "code",
      "metadata": {
        "colab": {
          "base_uri": "https://localhost:8080/"
        },
        "id": "z7Z90wZKJh8e",
        "outputId": "227d1ee9-e3f5-40b4-92e3-ed34c1865303"
      },
      "source": [
        "review_df.groupby('month')['rating_stars'].mean().sort_values(ascending=False)"
      ],
      "execution_count": 17,
      "outputs": [
        {
          "output_type": "execute_result",
          "data": {
            "text/plain": [
              "month\n",
              "7    4.7638889\n",
              "1    4.6425339\n",
              "3    4.6111111\n",
              "6    4.5571429\n",
              "9    4.5414013\n",
              "8    4.4789916\n",
              "11   4.4607330\n",
              "5    4.4493671\n",
              "4    4.4195122\n",
              "2    4.4058577\n",
              "12   4.3597122\n",
              "10   4.3049645\n",
              "Name: rating_stars, dtype: float64"
            ]
          },
          "metadata": {
            "tags": []
          },
          "execution_count": 17
        }
      ]
    },
    {
      "cell_type": "markdown",
      "metadata": {
        "id": "H0udjrgyJ1Fk"
      },
      "source": [
        "Mean Rating is high on July month while low in October month.\n",
        "\n",
        "Number of ratings is high on  December month while low in August month"
      ]
    },
    {
      "cell_type": "markdown",
      "metadata": {
        "id": "lWofLqeJpTtI"
      },
      "source": [
        "### 4.4 Combine text features\n",
        "#### Drop all the numerical features ['Unnamed: 0','date', 'year', 'month', 'day', 'ownership_pariod'] and ['rating_stars']"
      ]
    },
    {
      "cell_type": "code",
      "metadata": {
        "id": "8VAMgNJkqn0h"
      },
      "source": [
        "review_df_copy=review_df.copy(deep=True)"
      ],
      "execution_count": 18,
      "outputs": []
    },
    {
      "cell_type": "code",
      "metadata": {
        "id": "IlgjU_LXK8m6"
      },
      "source": [
        "drop_cols=['Unnamed: 0','date', 'year', 'month', 'day', 'ownership_pariod'] \n",
        "label=['rating_stars']"
      ],
      "execution_count": 19,
      "outputs": []
    },
    {
      "cell_type": "code",
      "metadata": {
        "id": "--Vn431-LJuM"
      },
      "source": [
        "review_df=review_df.drop(labels=drop_cols,axis=1)"
      ],
      "execution_count": 20,
      "outputs": []
    },
    {
      "cell_type": "code",
      "metadata": {
        "id": "0JPntnR5LtWa"
      },
      "source": [
        "review_df=review_df.drop(labels=label,axis=1)"
      ],
      "execution_count": 21,
      "outputs": []
    },
    {
      "cell_type": "code",
      "metadata": {
        "colab": {
          "base_uri": "https://localhost:8080/",
          "height": 197
        },
        "id": "HfYrmOBoLk-K",
        "outputId": "54cedd29-1e6b-4e92-feb8-b4ab59a7c19e"
      },
      "source": [
        "review_df.head()"
      ],
      "execution_count": 22,
      "outputs": [
        {
          "output_type": "execute_result",
          "data": {
            "text/html": [
              "<div>\n",
              "<style scoped>\n",
              "    .dataframe tbody tr th:only-of-type {\n",
              "        vertical-align: middle;\n",
              "    }\n",
              "\n",
              "    .dataframe tbody tr th {\n",
              "        vertical-align: top;\n",
              "    }\n",
              "\n",
              "    .dataframe thead th {\n",
              "        text-align: right;\n",
              "    }\n",
              "</style>\n",
              "<table border=\"1\" class=\"dataframe\">\n",
              "  <thead>\n",
              "    <tr style=\"text-align: right;\">\n",
              "      <th></th>\n",
              "      <th>review_title</th>\n",
              "      <th>overall_review</th>\n",
              "      <th>pros</th>\n",
              "      <th>cons</th>\n",
              "    </tr>\n",
              "  </thead>\n",
              "  <tbody>\n",
              "    <tr>\n",
              "      <th>0</th>\n",
              "      <td>solid</td>\n",
              "      <td>buy it you will not regret this purchase</td>\n",
              "      <td>reliable fast silent cool running drive highly...</td>\n",
              "      <td>NaN</td>\n",
              "    </tr>\n",
              "    <tr>\n",
              "      <th>1</th>\n",
              "      <td>nice drive for price even cheaper by todays costs</td>\n",
              "      <td>good drive price</td>\n",
              "      <td>been running almost constantly since when i pu...</td>\n",
              "      <td>NaN</td>\n",
              "    </tr>\n",
              "    <tr>\n",
              "      <th>2</th>\n",
              "      <td>perfect</td>\n",
              "      <td>used this drive as my boot drive and only data...</td>\n",
              "      <td>good value decently fast good longevity</td>\n",
              "      <td>none so far</td>\n",
              "    </tr>\n",
              "    <tr>\n",
              "      <th>3</th>\n",
              "      <td>very snappy</td>\n",
              "      <td>os boots quicker os menus pop up quicker gamin...</td>\n",
              "      <td>noticeable improvement in os performance over ...</td>\n",
              "      <td>samsung magician software causes some games to...</td>\n",
              "    </tr>\n",
              "    <tr>\n",
              "      <th>4</th>\n",
              "      <td>worth the hype</td>\n",
              "      <td>this was the sdd that everyone said to get and...</td>\n",
              "      <td>NaN</td>\n",
              "      <td>NaN</td>\n",
              "    </tr>\n",
              "  </tbody>\n",
              "</table>\n",
              "</div>"
            ],
            "text/plain": [
              "                                        review_title  \\\n",
              "0                                              solid   \n",
              "1  nice drive for price even cheaper by todays costs   \n",
              "2                                            perfect   \n",
              "3                                        very snappy   \n",
              "4                                     worth the hype   \n",
              "\n",
              "                                      overall_review  \\\n",
              "0           buy it you will not regret this purchase   \n",
              "1                                   good drive price   \n",
              "2  used this drive as my boot drive and only data...   \n",
              "3  os boots quicker os menus pop up quicker gamin...   \n",
              "4  this was the sdd that everyone said to get and...   \n",
              "\n",
              "                                                pros  \\\n",
              "0  reliable fast silent cool running drive highly...   \n",
              "1  been running almost constantly since when i pu...   \n",
              "2            good value decently fast good longevity   \n",
              "3  noticeable improvement in os performance over ...   \n",
              "4                                                NaN   \n",
              "\n",
              "                                                cons  \n",
              "0                                                NaN  \n",
              "1                                                NaN  \n",
              "2                                        none so far  \n",
              "3  samsung magician software causes some games to...  \n",
              "4                                                NaN  "
            ]
          },
          "metadata": {
            "tags": []
          },
          "execution_count": 22
        }
      ]
    },
    {
      "cell_type": "markdown",
      "metadata": {
        "id": "HjRp0SgEqn9Z"
      },
      "source": [
        "#### Replace null values (NaN) with blanks"
      ]
    },
    {
      "cell_type": "code",
      "metadata": {
        "id": "CZr_sR_Tqs1x",
        "colab": {
          "base_uri": "https://localhost:8080/"
        },
        "outputId": "b5340d89-3129-439b-909f-6c13f2f54766"
      },
      "source": [
        "review_df.isna().sum()"
      ],
      "execution_count": 23,
      "outputs": [
        {
          "output_type": "execute_result",
          "data": {
            "text/plain": [
              "review_title       96\n",
              "overall_review    779\n",
              "pros               22\n",
              "cons               11\n",
              "dtype: int64"
            ]
          },
          "metadata": {
            "tags": []
          },
          "execution_count": 23
        }
      ]
    },
    {
      "cell_type": "code",
      "metadata": {
        "id": "kTVsX3jgMqPg"
      },
      "source": [
        "review_df.fillna(\" \",inplace=True)"
      ],
      "execution_count": 24,
      "outputs": []
    },
    {
      "cell_type": "code",
      "metadata": {
        "colab": {
          "base_uri": "https://localhost:8080/"
        },
        "id": "zzt2jPz1M-zE",
        "outputId": "28abe969-fe77-4ea0-f20f-01363d2cec39"
      },
      "source": [
        "review_df.isna().sum()"
      ],
      "execution_count": 25,
      "outputs": [
        {
          "output_type": "execute_result",
          "data": {
            "text/plain": [
              "review_title      0\n",
              "overall_review    0\n",
              "pros              0\n",
              "cons              0\n",
              "dtype: int64"
            ]
          },
          "metadata": {
            "tags": []
          },
          "execution_count": 25
        }
      ]
    },
    {
      "cell_type": "markdown",
      "metadata": {
        "id": "ykjSdW1tqs-z"
      },
      "source": [
        "#### Join all text items in a row that have a space in between and Add a new column (with the newly created combined reviews) to the dataframe."
      ]
    },
    {
      "cell_type": "code",
      "metadata": {
        "id": "9fJpSb-ZuSTr"
      },
      "source": [
        "review_df['concatenated_text']=review_df.apply(' '.join,1)"
      ],
      "execution_count": 26,
      "outputs": []
    },
    {
      "cell_type": "code",
      "metadata": {
        "id": "0VHzRd1gq1lY",
        "colab": {
          "base_uri": "https://localhost:8080/",
          "height": 197
        },
        "outputId": "8e6d81b9-836c-4506-aa8f-70876d9e0d2f"
      },
      "source": [
        "review_df.head()"
      ],
      "execution_count": 27,
      "outputs": [
        {
          "output_type": "execute_result",
          "data": {
            "text/html": [
              "<div>\n",
              "<style scoped>\n",
              "    .dataframe tbody tr th:only-of-type {\n",
              "        vertical-align: middle;\n",
              "    }\n",
              "\n",
              "    .dataframe tbody tr th {\n",
              "        vertical-align: top;\n",
              "    }\n",
              "\n",
              "    .dataframe thead th {\n",
              "        text-align: right;\n",
              "    }\n",
              "</style>\n",
              "<table border=\"1\" class=\"dataframe\">\n",
              "  <thead>\n",
              "    <tr style=\"text-align: right;\">\n",
              "      <th></th>\n",
              "      <th>review_title</th>\n",
              "      <th>overall_review</th>\n",
              "      <th>pros</th>\n",
              "      <th>cons</th>\n",
              "      <th>concatenated_text</th>\n",
              "    </tr>\n",
              "  </thead>\n",
              "  <tbody>\n",
              "    <tr>\n",
              "      <th>0</th>\n",
              "      <td>solid</td>\n",
              "      <td>buy it you will not regret this purchase</td>\n",
              "      <td>reliable fast silent cool running drive highly...</td>\n",
              "      <td></td>\n",
              "      <td>solid buy it you will not regret this purchase...</td>\n",
              "    </tr>\n",
              "    <tr>\n",
              "      <th>1</th>\n",
              "      <td>nice drive for price even cheaper by todays costs</td>\n",
              "      <td>good drive price</td>\n",
              "      <td>been running almost constantly since when i pu...</td>\n",
              "      <td></td>\n",
              "      <td>nice drive for price even cheaper by todays co...</td>\n",
              "    </tr>\n",
              "    <tr>\n",
              "      <th>2</th>\n",
              "      <td>perfect</td>\n",
              "      <td>used this drive as my boot drive and only data...</td>\n",
              "      <td>good value decently fast good longevity</td>\n",
              "      <td>none so far</td>\n",
              "      <td>perfect used this drive as my boot drive and o...</td>\n",
              "    </tr>\n",
              "    <tr>\n",
              "      <th>3</th>\n",
              "      <td>very snappy</td>\n",
              "      <td>os boots quicker os menus pop up quicker gamin...</td>\n",
              "      <td>noticeable improvement in os performance over ...</td>\n",
              "      <td>samsung magician software causes some games to...</td>\n",
              "      <td>very snappy os boots quicker os menus pop up q...</td>\n",
              "    </tr>\n",
              "    <tr>\n",
              "      <th>4</th>\n",
              "      <td>worth the hype</td>\n",
              "      <td>this was the sdd that everyone said to get and...</td>\n",
              "      <td></td>\n",
              "      <td></td>\n",
              "      <td>worth the hype this was the sdd that everyone ...</td>\n",
              "    </tr>\n",
              "  </tbody>\n",
              "</table>\n",
              "</div>"
            ],
            "text/plain": [
              "                                        review_title  \\\n",
              "0                                              solid   \n",
              "1  nice drive for price even cheaper by todays costs   \n",
              "2                                            perfect   \n",
              "3                                        very snappy   \n",
              "4                                     worth the hype   \n",
              "\n",
              "                                      overall_review  \\\n",
              "0           buy it you will not regret this purchase   \n",
              "1                                   good drive price   \n",
              "2  used this drive as my boot drive and only data...   \n",
              "3  os boots quicker os menus pop up quicker gamin...   \n",
              "4  this was the sdd that everyone said to get and...   \n",
              "\n",
              "                                                pros  \\\n",
              "0  reliable fast silent cool running drive highly...   \n",
              "1  been running almost constantly since when i pu...   \n",
              "2            good value decently fast good longevity   \n",
              "3  noticeable improvement in os performance over ...   \n",
              "4                                                      \n",
              "\n",
              "                                                cons  \\\n",
              "0                                                      \n",
              "1                                                      \n",
              "2                                        none so far   \n",
              "3  samsung magician software causes some games to...   \n",
              "4                                                      \n",
              "\n",
              "                                   concatenated_text  \n",
              "0  solid buy it you will not regret this purchase...  \n",
              "1  nice drive for price even cheaper by todays co...  \n",
              "2  perfect used this drive as my boot drive and o...  \n",
              "3  very snappy os boots quicker os menus pop up q...  \n",
              "4  worth the hype this was the sdd that everyone ...  "
            ]
          },
          "metadata": {
            "tags": []
          },
          "execution_count": 27
        }
      ]
    },
    {
      "cell_type": "markdown",
      "metadata": {
        "id": "QLnNIq2iJQBn"
      },
      "source": [
        "#### Check if there are any null values and drop NaN values if any"
      ]
    },
    {
      "cell_type": "code",
      "metadata": {
        "id": "QOf3hTpcszKC"
      },
      "source": [
        "review1_df=pd.DataFrame(review_df['concatenated_text'],columns=['concatenated_text'])"
      ],
      "execution_count": 28,
      "outputs": []
    },
    {
      "cell_type": "code",
      "metadata": {
        "colab": {
          "base_uri": "https://localhost:8080/"
        },
        "id": "yR5dJoKKPUsd",
        "outputId": "68c9cf02-317b-4dbe-b5a0-3073e5480640"
      },
      "source": [
        "review1_df.isna().sum()"
      ],
      "execution_count": 29,
      "outputs": [
        {
          "output_type": "execute_result",
          "data": {
            "text/plain": [
              "concatenated_text    0\n",
              "dtype: int64"
            ]
          },
          "metadata": {
            "tags": []
          },
          "execution_count": 29
        }
      ]
    },
    {
      "cell_type": "markdown",
      "metadata": {
        "id": "qS5NmyvzHMws"
      },
      "source": [
        "#### Calculate the length of each review and add it to the dataframe"
      ]
    },
    {
      "cell_type": "code",
      "metadata": {
        "id": "TdMWM0jBHNzO",
        "colab": {
          "base_uri": "https://localhost:8080/",
          "height": 197
        },
        "outputId": "16994bd6-bb1b-41a9-ed37-53cbe0918bed"
      },
      "source": [
        "review1_df.head()"
      ],
      "execution_count": 30,
      "outputs": [
        {
          "output_type": "execute_result",
          "data": {
            "text/html": [
              "<div>\n",
              "<style scoped>\n",
              "    .dataframe tbody tr th:only-of-type {\n",
              "        vertical-align: middle;\n",
              "    }\n",
              "\n",
              "    .dataframe tbody tr th {\n",
              "        vertical-align: top;\n",
              "    }\n",
              "\n",
              "    .dataframe thead th {\n",
              "        text-align: right;\n",
              "    }\n",
              "</style>\n",
              "<table border=\"1\" class=\"dataframe\">\n",
              "  <thead>\n",
              "    <tr style=\"text-align: right;\">\n",
              "      <th></th>\n",
              "      <th>concatenated_text</th>\n",
              "    </tr>\n",
              "  </thead>\n",
              "  <tbody>\n",
              "    <tr>\n",
              "      <th>0</th>\n",
              "      <td>solid buy it you will not regret this purchase...</td>\n",
              "    </tr>\n",
              "    <tr>\n",
              "      <th>1</th>\n",
              "      <td>nice drive for price even cheaper by todays co...</td>\n",
              "    </tr>\n",
              "    <tr>\n",
              "      <th>2</th>\n",
              "      <td>perfect used this drive as my boot drive and o...</td>\n",
              "    </tr>\n",
              "    <tr>\n",
              "      <th>3</th>\n",
              "      <td>very snappy os boots quicker os menus pop up q...</td>\n",
              "    </tr>\n",
              "    <tr>\n",
              "      <th>4</th>\n",
              "      <td>worth the hype this was the sdd that everyone ...</td>\n",
              "    </tr>\n",
              "  </tbody>\n",
              "</table>\n",
              "</div>"
            ],
            "text/plain": [
              "                                   concatenated_text\n",
              "0  solid buy it you will not regret this purchase...\n",
              "1  nice drive for price even cheaper by todays co...\n",
              "2  perfect used this drive as my boot drive and o...\n",
              "3  very snappy os boots quicker os menus pop up q...\n",
              "4  worth the hype this was the sdd that everyone ..."
            ]
          },
          "metadata": {
            "tags": []
          },
          "execution_count": 30
        }
      ]
    },
    {
      "cell_type": "code",
      "metadata": {
        "colab": {
          "base_uri": "https://localhost:8080/",
          "height": 35
        },
        "id": "Ii5jYJLZRttI",
        "outputId": "c9a4eec6-2e4f-46b1-9596-c37a9b15d0c4"
      },
      "source": [
        "review_df['concatenated_text'].iloc[2188]"
      ],
      "execution_count": 31,
      "outputs": [
        {
          "output_type": "execute_result",
          "data": {
            "application/vnd.google.colaboratory.intrinsic+json": {
              "type": "string"
            },
            "text/plain": [
              "'fast   fast fast and fast none'"
            ]
          },
          "metadata": {
            "tags": []
          },
          "execution_count": 31
        }
      ]
    },
    {
      "cell_type": "code",
      "metadata": {
        "id": "F6iC5-5DSHOe"
      },
      "source": [
        "review1_df['rating_stars'] = review_df_copy['rating_stars']\n",
        "review1_df['len'] = review1_df['concatenated_text'].apply(lambda x: len(x.split()))\n"
      ],
      "execution_count": 32,
      "outputs": []
    },
    {
      "cell_type": "code",
      "metadata": {
        "colab": {
          "base_uri": "https://localhost:8080/",
          "height": 197
        },
        "id": "_4yf-X2hP28t",
        "outputId": "ee8684d0-fab5-4dce-a1c6-8055a9165ed4"
      },
      "source": [
        "review1_df.head()"
      ],
      "execution_count": 33,
      "outputs": [
        {
          "output_type": "execute_result",
          "data": {
            "text/html": [
              "<div>\n",
              "<style scoped>\n",
              "    .dataframe tbody tr th:only-of-type {\n",
              "        vertical-align: middle;\n",
              "    }\n",
              "\n",
              "    .dataframe tbody tr th {\n",
              "        vertical-align: top;\n",
              "    }\n",
              "\n",
              "    .dataframe thead th {\n",
              "        text-align: right;\n",
              "    }\n",
              "</style>\n",
              "<table border=\"1\" class=\"dataframe\">\n",
              "  <thead>\n",
              "    <tr style=\"text-align: right;\">\n",
              "      <th></th>\n",
              "      <th>concatenated_text</th>\n",
              "      <th>rating_stars</th>\n",
              "      <th>len</th>\n",
              "    </tr>\n",
              "  </thead>\n",
              "  <tbody>\n",
              "    <tr>\n",
              "      <th>0</th>\n",
              "      <td>solid buy it you will not regret this purchase...</td>\n",
              "      <td>5</td>\n",
              "      <td>17</td>\n",
              "    </tr>\n",
              "    <tr>\n",
              "      <th>1</th>\n",
              "      <td>nice drive for price even cheaper by todays co...</td>\n",
              "      <td>5</td>\n",
              "      <td>40</td>\n",
              "    </tr>\n",
              "    <tr>\n",
              "      <th>2</th>\n",
              "      <td>perfect used this drive as my boot drive and o...</td>\n",
              "      <td>5</td>\n",
              "      <td>65</td>\n",
              "    </tr>\n",
              "    <tr>\n",
              "      <th>3</th>\n",
              "      <td>very snappy os boots quicker os menus pop up q...</td>\n",
              "      <td>5</td>\n",
              "      <td>42</td>\n",
              "    </tr>\n",
              "    <tr>\n",
              "      <th>4</th>\n",
              "      <td>worth the hype this was the sdd that everyone ...</td>\n",
              "      <td>5</td>\n",
              "      <td>28</td>\n",
              "    </tr>\n",
              "  </tbody>\n",
              "</table>\n",
              "</div>"
            ],
            "text/plain": [
              "                                   concatenated_text  rating_stars  len\n",
              "0  solid buy it you will not regret this purchase...             5   17\n",
              "1  nice drive for price even cheaper by todays co...             5   40\n",
              "2  perfect used this drive as my boot drive and o...             5   65\n",
              "3  very snappy os boots quicker os menus pop up q...             5   42\n",
              "4  worth the hype this was the sdd that everyone ...             5   28"
            ]
          },
          "metadata": {
            "tags": []
          },
          "execution_count": 33
        }
      ]
    },
    {
      "cell_type": "markdown",
      "metadata": {
        "id": "8FyfpsW4uNN-"
      },
      "source": [
        "#### Check summary stats of the length column"
      ]
    },
    {
      "cell_type": "code",
      "metadata": {
        "id": "cMEp309bHPSm",
        "colab": {
          "base_uri": "https://localhost:8080/",
          "height": 287
        },
        "outputId": "698df67c-2d5d-4dff-9910-ef8992359796"
      },
      "source": [
        "review1_df.describe()"
      ],
      "execution_count": 34,
      "outputs": [
        {
          "output_type": "execute_result",
          "data": {
            "text/html": [
              "<div>\n",
              "<style scoped>\n",
              "    .dataframe tbody tr th:only-of-type {\n",
              "        vertical-align: middle;\n",
              "    }\n",
              "\n",
              "    .dataframe tbody tr th {\n",
              "        vertical-align: top;\n",
              "    }\n",
              "\n",
              "    .dataframe thead th {\n",
              "        text-align: right;\n",
              "    }\n",
              "</style>\n",
              "<table border=\"1\" class=\"dataframe\">\n",
              "  <thead>\n",
              "    <tr style=\"text-align: right;\">\n",
              "      <th></th>\n",
              "      <th>rating_stars</th>\n",
              "      <th>len</th>\n",
              "    </tr>\n",
              "  </thead>\n",
              "  <tbody>\n",
              "    <tr>\n",
              "      <th>count</th>\n",
              "      <td>2227.0000000</td>\n",
              "      <td>2227.0000000</td>\n",
              "    </tr>\n",
              "    <tr>\n",
              "      <th>mean</th>\n",
              "      <td>4.4939380</td>\n",
              "      <td>84.4598114</td>\n",
              "    </tr>\n",
              "    <tr>\n",
              "      <th>std</th>\n",
              "      <td>1.1427077</td>\n",
              "      <td>87.6934472</td>\n",
              "    </tr>\n",
              "    <tr>\n",
              "      <th>min</th>\n",
              "      <td>1.0000000</td>\n",
              "      <td>0.0000000</td>\n",
              "    </tr>\n",
              "    <tr>\n",
              "      <th>25%</th>\n",
              "      <td>5.0000000</td>\n",
              "      <td>30.0000000</td>\n",
              "    </tr>\n",
              "    <tr>\n",
              "      <th>50%</th>\n",
              "      <td>5.0000000</td>\n",
              "      <td>59.0000000</td>\n",
              "    </tr>\n",
              "    <tr>\n",
              "      <th>75%</th>\n",
              "      <td>5.0000000</td>\n",
              "      <td>109.0000000</td>\n",
              "    </tr>\n",
              "    <tr>\n",
              "      <th>max</th>\n",
              "      <td>5.0000000</td>\n",
              "      <td>1615.0000000</td>\n",
              "    </tr>\n",
              "  </tbody>\n",
              "</table>\n",
              "</div>"
            ],
            "text/plain": [
              "       rating_stars          len\n",
              "count  2227.0000000 2227.0000000\n",
              "mean      4.4939380   84.4598114\n",
              "std       1.1427077   87.6934472\n",
              "min       1.0000000    0.0000000\n",
              "25%       5.0000000   30.0000000\n",
              "50%       5.0000000   59.0000000\n",
              "75%       5.0000000  109.0000000\n",
              "max       5.0000000 1615.0000000"
            ]
          },
          "metadata": {
            "tags": []
          },
          "execution_count": 34
        }
      ]
    },
    {
      "cell_type": "markdown",
      "metadata": {
        "id": "JtFWZfZjJSJY"
      },
      "source": [
        "### 4.5 Analyzing and preparing the text data\n"
      ]
    },
    {
      "cell_type": "markdown",
      "metadata": {
        "id": "FL0mW8oPJVyq"
      },
      "source": [
        "#### Set the max length of each review to 25 since it results in faster training (however, you are free to change this)\n",
        "#### Set max_features to 10000 and embedding size to 50"
      ]
    },
    {
      "cell_type": "code",
      "metadata": {
        "id": "T7Ma4u3kSOD3"
      },
      "source": [
        "max_features = 10000\n",
        "maxlen = 25\n",
        "embedding_size = 50"
      ],
      "execution_count": 35,
      "outputs": []
    },
    {
      "cell_type": "markdown",
      "metadata": {
        "id": "qph71mXtJyWM"
      },
      "source": [
        "#### Tokenize the cobined text data. You can use the Tokenizer from tensorflow.keras.preprocessing.text. Check the number of samples post tokenization."
      ]
    },
    {
      "cell_type": "code",
      "metadata": {
        "id": "hvn5Bssu6MoQ"
      },
      "source": [
        "import tensorflow as tf\n"
      ],
      "execution_count": 36,
      "outputs": []
    },
    {
      "cell_type": "code",
      "metadata": {
        "id": "PbvBar5iXZId"
      },
      "source": [
        "from tensorflow.keras.preprocessing.text import Tokenizer\n",
        "tokenizer=Tokenizer(num_words=max_features)\n",
        "\n",
        "tokenizer.fit_on_texts(list(review1_df['concatenated_text']))\n",
        "X=tokenizer.texts_to_sequences(review1_df['concatenated_text'])"
      ],
      "execution_count": 37,
      "outputs": []
    },
    {
      "cell_type": "code",
      "metadata": {
        "colab": {
          "base_uri": "https://localhost:8080/"
        },
        "id": "HjRDZKa3Yr68",
        "outputId": "278fe3ac-2f61-4c81-87d8-c69985b1ca7b"
      },
      "source": [
        "print('No of samples',len(X))\n",
        "print(X[100])"
      ],
      "execution_count": 38,
      "outputs": [
        {
          "output_type": "stream",
          "text": [
            "No of samples 2227\n",
            "[232, 93, 6, 19, 54, 22, 829, 10, 248, 162, 16, 830, 550, 145, 7, 264, 126]\n"
          ],
          "name": "stdout"
        }
      ]
    },
    {
      "cell_type": "code",
      "metadata": {
        "colab": {
          "base_uri": "https://localhost:8080/"
        },
        "id": "usNI9wbmZIky",
        "outputId": "724ceb96-51e4-4ee0-c212-8a5045c0fb73"
      },
      "source": [
        "review1_df.iloc[100]"
      ],
      "execution_count": 39,
      "outputs": [
        {
          "output_type": "execute_result",
          "data": {
            "text/plain": [
              "concatenated_text    solid buy it you will not regret this purchase...\n",
              "rating_stars                                                         5\n",
              "len                                                                 17\n",
              "Name: 100, dtype: object"
            ]
          },
          "metadata": {
            "tags": []
          },
          "execution_count": 39
        }
      ]
    },
    {
      "cell_type": "code",
      "metadata": {
        "colab": {
          "base_uri": "https://localhost:8080/"
        },
        "id": "oQhjnHUPY8HD",
        "outputId": "501119eb-fe35-4912-91d3-9b11b45326e9"
      },
      "source": [
        "## check the words corresponding to index or vocabulary\n",
        "tokenizer.word_index"
      ],
      "execution_count": 40,
      "outputs": [
        {
          "output_type": "execute_result",
          "data": {
            "text/plain": [
              "{'the': 1,\n",
              " 'i': 2,\n",
              " 'to': 3,\n",
              " 'and': 4,\n",
              " 'a': 5,\n",
              " 'it': 6,\n",
              " 'drive': 7,\n",
              " 'ssd': 8,\n",
              " 'for': 9,\n",
              " 'this': 10,\n",
              " 'my': 11,\n",
              " 'is': 12,\n",
              " 'of': 13,\n",
              " 'in': 14,\n",
              " 'with': 15,\n",
              " 'fast': 16,\n",
              " 'samsung': 17,\n",
              " 'on': 18,\n",
              " 'you': 19,\n",
              " 'that': 20,\n",
              " 's': 21,\n",
              " 'not': 22,\n",
              " 'was': 23,\n",
              " 'have': 24,\n",
              " 't': 25,\n",
              " 'but': 26,\n",
              " 'so': 27,\n",
              " 'as': 28,\n",
              " 'great': 29,\n",
              " 'software': 30,\n",
              " 'none': 31,\n",
              " 'no': 32,\n",
              " 'an': 33,\n",
              " 'if': 34,\n",
              " 'up': 35,\n",
              " 'from': 36,\n",
              " 'one': 37,\n",
              " 'very': 38,\n",
              " 'be': 39,\n",
              " 'are': 40,\n",
              " 'windows': 41,\n",
              " 'price': 42,\n",
              " 'had': 43,\n",
              " 'all': 44,\n",
              " '2': 45,\n",
              " 'boot': 46,\n",
              " 'can': 47,\n",
              " 'just': 48,\n",
              " 'at': 49,\n",
              " 'or': 50,\n",
              " 'evo': 51,\n",
              " 'good': 52,\n",
              " 'than': 53,\n",
              " 'will': 54,\n",
              " 'would': 55,\n",
              " 'install': 56,\n",
              " 'time': 57,\n",
              " '5': 58,\n",
              " 'sata': 59,\n",
              " 'use': 60,\n",
              " '10': 61,\n",
              " 'your': 62,\n",
              " 'easy': 63,\n",
              " 'laptop': 64,\n",
              " 'drives': 65,\n",
              " 'new': 66,\n",
              " 'about': 67,\n",
              " 'performance': 68,\n",
              " '850': 69,\n",
              " 'hdd': 70,\n",
              " 'get': 71,\n",
              " 'they': 72,\n",
              " 'speed': 73,\n",
              " 'after': 74,\n",
              " 'only': 75,\n",
              " 'now': 76,\n",
              " 'when': 77,\n",
              " '3': 78,\n",
              " 'old': 79,\n",
              " 'me': 80,\n",
              " 'has': 81,\n",
              " 'more': 82,\n",
              " 'like': 83,\n",
              " 'any': 84,\n",
              " 'faster': 85,\n",
              " 'other': 86,\n",
              " 'far': 87,\n",
              " 'do': 88,\n",
              " 'seconds': 89,\n",
              " 'read': 90,\n",
              " 'works': 91,\n",
              " 'these': 92,\n",
              " 'buy': 93,\n",
              " 'out': 94,\n",
              " 'computer': 95,\n",
              " 'data': 96,\n",
              " 'os': 97,\n",
              " '1': 98,\n",
              " 'still': 99,\n",
              " 'hard': 100,\n",
              " 'product': 101,\n",
              " 'well': 102,\n",
              " 'using': 103,\n",
              " 'write': 104,\n",
              " 'even': 105,\n",
              " 'installed': 106,\n",
              " 'used': 107,\n",
              " 'there': 108,\n",
              " 'system': 109,\n",
              " 'really': 110,\n",
              " 'much': 111,\n",
              " 'migration': 112,\n",
              " 'magician': 113,\n",
              " 'm': 114,\n",
              " 'been': 115,\n",
              " 'over': 116,\n",
              " 'its': 117,\n",
              " 've': 118,\n",
              " 'first': 119,\n",
              " 'bought': 120,\n",
              " 'what': 121,\n",
              " 'got': 122,\n",
              " 'work': 123,\n",
              " 'which': 124,\n",
              " 'ssds': 125,\n",
              " 'recommend': 126,\n",
              " 'don': 127,\n",
              " 'pro': 128,\n",
              " 'did': 129,\n",
              " 'some': 130,\n",
              " 'games': 131,\n",
              " '7': 132,\n",
              " 'best': 133,\n",
              " 'by': 134,\n",
              " 'times': 135,\n",
              " 'them': 136,\n",
              " 'year': 137,\n",
              " 'pc': 138,\n",
              " 'upgrade': 139,\n",
              " 'years': 140,\n",
              " 'issues': 141,\n",
              " 'then': 142,\n",
              " 'need': 143,\n",
              " 'also': 144,\n",
              " 'running': 145,\n",
              " 'cloning': 146,\n",
              " 'go': 147,\n",
              " 'does': 148,\n",
              " 'speeds': 149,\n",
              " '500gb': 150,\n",
              " 'into': 151,\n",
              " 'am': 152,\n",
              " 'make': 153,\n",
              " 'desktop': 154,\n",
              " 'included': 155,\n",
              " 'cable': 156,\n",
              " 'could': 157,\n",
              " 'usb': 158,\n",
              " 'load': 159,\n",
              " 'another': 160,\n",
              " 'worked': 161,\n",
              " 'reliable': 162,\n",
              " 'because': 163,\n",
              " 'warranty': 164,\n",
              " 'come': 165,\n",
              " 'super': 166,\n",
              " 'less': 167,\n",
              " 'newegg': 168,\n",
              " 'mb': 169,\n",
              " 'didn': 170,\n",
              " 'two': 171,\n",
              " 'see': 172,\n",
              " 'clone': 173,\n",
              " 'raid': 174,\n",
              " 'nice': 175,\n",
              " '4': 176,\n",
              " 'storage': 177,\n",
              " 'should': 178,\n",
              " 'back': 179,\n",
              " 'problems': 180,\n",
              " 'never': 181,\n",
              " '0': 182,\n",
              " 'everything': 183,\n",
              " 'how': 184,\n",
              " 'before': 185,\n",
              " 'sure': 186,\n",
              " 'again': 187,\n",
              " 'installation': 188,\n",
              " 'boots': 189,\n",
              " 'their': 190,\n",
              " 'disk': 191,\n",
              " 'without': 192,\n",
              " '1tb': 193,\n",
              " 'worth': 194,\n",
              " 'yet': 195,\n",
              " 'thing': 196,\n",
              " 'down': 197,\n",
              " 'better': 198,\n",
              " 'same': 199,\n",
              " 'months': 200,\n",
              " 'doesn': 201,\n",
              " 'going': 202,\n",
              " 'few': 203,\n",
              " 'most': 204,\n",
              " 'made': 205,\n",
              " '840': 206,\n",
              " 'nothing': 207,\n",
              " 'love': 208,\n",
              " 'since': 209,\n",
              " 'way': 210,\n",
              " 'set': 211,\n",
              " 'gb': 212,\n",
              " 'd': 213,\n",
              " 'went': 214,\n",
              " 'off': 215,\n",
              " 'bios': 216,\n",
              " 'case': 217,\n",
              " 'programs': 218,\n",
              " '8': 219,\n",
              " 're': 220,\n",
              " 'day': 221,\n",
              " 'power': 222,\n",
              " 'too': 223,\n",
              " 'difference': 224,\n",
              " 'problem': 225,\n",
              " 'amazing': 226,\n",
              " 'bit': 227,\n",
              " 'little': 228,\n",
              " 'getting': 229,\n",
              " 'took': 230,\n",
              " 'came': 231,\n",
              " 'solid': 232,\n",
              " 'transfer': 233,\n",
              " 'minutes': 234,\n",
              " 'setup': 235,\n",
              " 'say': 236,\n",
              " 'sale': 237,\n",
              " 'intel': 238,\n",
              " 'put': 239,\n",
              " 'mode': 240,\n",
              " 'awesome': 241,\n",
              " 'build': 242,\n",
              " 'while': 243,\n",
              " 'excellent': 244,\n",
              " 'run': 245,\n",
              " 'support': 246,\n",
              " 'know': 247,\n",
              " 'purchase': 248,\n",
              " 'fine': 249,\n",
              " 'space': 250,\n",
              " 'around': 251,\n",
              " 'were': 252,\n",
              " 'quality': 253,\n",
              " '250gb': 254,\n",
              " 'comes': 255,\n",
              " 'happy': 256,\n",
              " 'mounting': 257,\n",
              " 'second': 258,\n",
              " 'issue': 259,\n",
              " 'purchased': 260,\n",
              " 'bad': 261,\n",
              " 'free': 262,\n",
              " 'rapid': 263,\n",
              " 'highly': 264,\n",
              " 'long': 265,\n",
              " '6': 266,\n",
              " 'want': 267,\n",
              " 'simple': 268,\n",
              " 'enough': 269,\n",
              " 'iii': 270,\n",
              " 'cost': 271,\n",
              " 'right': 272,\n",
              " 'think': 273,\n",
              " 'tried': 274,\n",
              " 'ever': 275,\n",
              " 'quick': 276,\n",
              " 'files': 277,\n",
              " 'll': 278,\n",
              " 'game': 279,\n",
              " 'money': 280,\n",
              " 'capacity': 281,\n",
              " 'pretty': 282,\n",
              " 'working': 283,\n",
              " 'brand': 284,\n",
              " 'almost': 285,\n",
              " 'life': 286,\n",
              " 'small': 287,\n",
              " 'needed': 288,\n",
              " 'box': 289,\n",
              " 'compared': 290,\n",
              " 'days': 291,\n",
              " 'take': 292,\n",
              " 'every': 293,\n",
              " 'lot': 294,\n",
              " 'find': 295,\n",
              " 'once': 296,\n",
              " 'both': 297,\n",
              " 'makes': 298,\n",
              " 'screws': 299,\n",
              " 'hd': 300,\n",
              " 'able': 301,\n",
              " 'though': 302,\n",
              " 'hardware': 303,\n",
              " 'machine': 304,\n",
              " 'installing': 305,\n",
              " 'advertised': 306,\n",
              " 'looking': 307,\n",
              " 'gaming': 308,\n",
              " 'size': 309,\n",
              " 'always': 310,\n",
              " 'having': 311,\n",
              " 'last': 312,\n",
              " 'shipping': 313,\n",
              " 'update': 314,\n",
              " 'anything': 315,\n",
              " 'start': 316,\n",
              " 'adapter': 317,\n",
              " 'runs': 318,\n",
              " 'said': 319,\n",
              " 'version': 320,\n",
              " 'cheap': 321,\n",
              " 'until': 322,\n",
              " 'replace': 323,\n",
              " 'ram': 324,\n",
              " 'win': 325,\n",
              " 'cons': 326,\n",
              " 'definitely': 327,\n",
              " '15': 328,\n",
              " 'reviews': 329,\n",
              " 'extremely': 330,\n",
              " 'found': 331,\n",
              " 'under': 332,\n",
              " 'expected': 333,\n",
              " 'many': 334,\n",
              " 'high': 335,\n",
              " 'however': 336,\n",
              " 'different': 337,\n",
              " '20': 338,\n",
              " 'expensive': 339,\n",
              " 'motherboard': 340,\n",
              " 'things': 341,\n",
              " 'deal': 342,\n",
              " 'experience': 343,\n",
              " 'reliability': 344,\n",
              " 'state': 345,\n",
              " 'review': 346,\n",
              " 'we': 347,\n",
              " 'slow': 348,\n",
              " 'loading': 349,\n",
              " 'older': 350,\n",
              " 'something': 351,\n",
              " 'perfect': 352,\n",
              " 'reason': 353,\n",
              " 'seems': 354,\n",
              " 'being': 355,\n",
              " 'process': 356,\n",
              " 'may': 357,\n",
              " 'died': 358,\n",
              " 'series': 359,\n",
              " '30': 360,\n",
              " 'wish': 361,\n",
              " 'already': 362,\n",
              " 'failed': 363,\n",
              " 'actually': 364,\n",
              " 'why': 365,\n",
              " 'through': 366,\n",
              " 'full': 367,\n",
              " 'clean': 368,\n",
              " 'replaced': 369,\n",
              " 'partition': 370,\n",
              " '500': 371,\n",
              " 'here': 372,\n",
              " 'who': 373,\n",
              " 'big': 374,\n",
              " 'buying': 375,\n",
              " 'light': 376,\n",
              " 'instead': 377,\n",
              " 'ahci': 378,\n",
              " 'people': 379,\n",
              " 'rma': 380,\n",
              " 'firmware': 381,\n",
              " 'screen': 382,\n",
              " 'extra': 383,\n",
              " 'value': 384,\n",
              " 'black': 385,\n",
              " 'point': 386,\n",
              " 'etc': 387,\n",
              " 'program': 388,\n",
              " 'done': 389,\n",
              " 'keep': 390,\n",
              " 'haven': 391,\n",
              " 'open': 392,\n",
              " 'finally': 393,\n",
              " 'look': 394,\n",
              " 'several': 395,\n",
              " 'takes': 396,\n",
              " 'own': 397,\n",
              " 'wd': 398,\n",
              " 'replacement': 399,\n",
              " 'probably': 400,\n",
              " 'those': 401,\n",
              " 'perfectly': 402,\n",
              " 'low': 403,\n",
              " 'egg': 404,\n",
              " 'cables': 405,\n",
              " 'original': 406,\n",
              " 'iops': 407,\n",
              " 'sequential': 408,\n",
              " 'pay': 409,\n",
              " 'loads': 410,\n",
              " 'doing': 411,\n",
              " 'con': 412,\n",
              " 'give': 413,\n",
              " 'wow': 414,\n",
              " 'drivers': 415,\n",
              " 'cloned': 416,\n",
              " 'benchmark': 417,\n",
              " 'internal': 418,\n",
              " 'anyone': 419,\n",
              " 'might': 420,\n",
              " 'due': 421,\n",
              " 'wrong': 422,\n",
              " 'standard': 423,\n",
              " 'won': 424,\n",
              " 'least': 425,\n",
              " 'play': 426,\n",
              " 'mechanical': 427,\n",
              " 'week': 428,\n",
              " 'fresh': 429,\n",
              " 'either': 430,\n",
              " 'wait': 431,\n",
              " 'later': 432,\n",
              " 'isn': 433,\n",
              " 'service': 434,\n",
              " 'backup': 435,\n",
              " 'cheaper': 436,\n",
              " 'random': 437,\n",
              " 'ordered': 438,\n",
              " 'waiting': 439,\n",
              " 'must': 440,\n",
              " 'upgraded': 441,\n",
              " 'large': 442,\n",
              " 'instructions': 443,\n",
              " 'longer': 444,\n",
              " 'previous': 445,\n",
              " 'fastest': 446,\n",
              " 'ago': 447,\n",
              " 'hours': 448,\n",
              " 'overall': 449,\n",
              " 'asus': 450,\n",
              " '100': 451,\n",
              " 'order': 452,\n",
              " 'maybe': 453,\n",
              " 'wasn': 454,\n",
              " 'ran': 455,\n",
              " 'customer': 456,\n",
              " 'month': 457,\n",
              " 'others': 458,\n",
              " 'migrate': 459,\n",
              " 'bracket': 460,\n",
              " 'per': 461,\n",
              " 'controller': 462,\n",
              " 'thought': 463,\n",
              " 'plug': 464,\n",
              " 'else': 465,\n",
              " 'increase': 466,\n",
              " 'crucial': 467,\n",
              " 'amd': 468,\n",
              " 'such': 469,\n",
              " 'cd': 470,\n",
              " 'rig': 471,\n",
              " 'plenty': 472,\n",
              " 'non': 473,\n",
              " 'c': 474,\n",
              " 'recommended': 475,\n",
              " 'computers': 476,\n",
              " 'ii': 477,\n",
              " 'copy': 478,\n",
              " 'absolutely': 479,\n",
              " 'couple': 480,\n",
              " 'where': 481,\n",
              " 'market': 482,\n",
              " 'looks': 483,\n",
              " 'easily': 484,\n",
              " 'flawlessly': 485,\n",
              " 'vertical': 486,\n",
              " 'model': 487,\n",
              " 'tool': 488,\n",
              " 'wanted': 489,\n",
              " 'try': 490,\n",
              " 'core': 491,\n",
              " 'decided': 492,\n",
              " 'port': 493,\n",
              " 'macbook': 494,\n",
              " 'tb': 495,\n",
              " 'products': 496,\n",
              " 'dell': 497,\n",
              " 'memory': 498,\n",
              " 'device': 499,\n",
              " 'trying': 500,\n",
              " 'single': 501,\n",
              " 'three': 502,\n",
              " 'user': 503,\n",
              " 'next': 504,\n",
              " 'couldn': 505,\n",
              " '830': 506,\n",
              " 'real': 507,\n",
              " 'x': 508,\n",
              " 'prices': 509,\n",
              " 'tell': 510,\n",
              " 'number': 511,\n",
              " 'started': 512,\n",
              " 'provided': 513,\n",
              " 'image': 514,\n",
              " 'wife': 515,\n",
              " 'lightning': 516,\n",
              " 'writes': 517,\n",
              " 'change': 518,\n",
              " 'huge': 519,\n",
              " 'download': 520,\n",
              " 'acronis': 521,\n",
              " 'nand': 522,\n",
              " '9': 523,\n",
              " 'amount': 524,\n",
              " 'corsair': 525,\n",
              " 'recognize': 526,\n",
              " 'seen': 527,\n",
              " 'rpm': 528,\n",
              " 'file': 529,\n",
              " 'itself': 530,\n",
              " 'dead': 531,\n",
              " 'test': 532,\n",
              " 'expect': 533,\n",
              " 'fit': 534,\n",
              " 'smaller': 535,\n",
              " 'main': 536,\n",
              " 'top': 537,\n",
              " 'upgrading': 538,\n",
              " 'benchmarks': 539,\n",
              " 'item': 540,\n",
              " 'blazing': 541,\n",
              " 'booted': 542,\n",
              " 'half': 543,\n",
              " 'feel': 544,\n",
              " 'card': 545,\n",
              " 'boost': 546,\n",
              " '50': 547,\n",
              " '16': 548,\n",
              " 'cannot': 549,\n",
              " 'cool': 550,\n",
              " 'needs': 551,\n",
              " '12': 552,\n",
              " 'i7': 553,\n",
              " 'noticed': 554,\n",
              " 'stuff': 555,\n",
              " 'mz': 556,\n",
              " 'unless': 557,\n",
              " 'within': 558,\n",
              " 'wouldn': 559,\n",
              " 'ocz': 560,\n",
              " 'external': 561,\n",
              " 'improvement': 562,\n",
              " 'disappointed': 563,\n",
              " 'moving': 564,\n",
              " 'current': 565,\n",
              " 'hope': 566,\n",
              " 'online': 567,\n",
              " 'booting': 568,\n",
              " 'loaded': 569,\n",
              " 'video': 570,\n",
              " 'ready': 571,\n",
              " 'package': 572,\n",
              " 'recognized': 573,\n",
              " 'doa': 574,\n",
              " 'away': 575,\n",
              " 'vs': 576,\n",
              " 'fail': 577,\n",
              " 'guess': 578,\n",
              " 'laptops': 579,\n",
              " 'fantastic': 580,\n",
              " 'past': 581,\n",
              " 'linux': 582,\n",
              " 'startup': 583,\n",
              " 'gig': 584,\n",
              " 'unit': 585,\n",
              " 'cpu': 586,\n",
              " 'help': 587,\n",
              " 'tech': 588,\n",
              " 'results': 589,\n",
              " 'quite': 590,\n",
              " 'quickly': 591,\n",
              " 'especially': 592,\n",
              " 'choice': 593,\n",
              " '3d': 594,\n",
              " 'job': 595,\n",
              " 'existing': 596,\n",
              " 'based': 597,\n",
              " 'slower': 598,\n",
              " 'between': 599,\n",
              " 'mount': 600,\n",
              " 'plus': 601,\n",
              " 'room': 602,\n",
              " 'higher': 603,\n",
              " 'recovery': 604,\n",
              " 'let': 605,\n",
              " 'third': 606,\n",
              " 'include': 607,\n",
              " 'weeks': 608,\n",
              " 'w': 609,\n",
              " 'eggs': 610,\n",
              " 'updates': 611,\n",
              " 'future': 612,\n",
              " 'spinning': 613,\n",
              " 'owned': 614,\n",
              " 'return': 615,\n",
              " 'minute': 616,\n",
              " '2tb': 617,\n",
              " 'gets': 618,\n",
              " 'built': 619,\n",
              " 'simply': 620,\n",
              " 'poor': 621,\n",
              " 'fully': 622,\n",
              " 'flash': 623,\n",
              " 'replacing': 624,\n",
              " 'coming': 625,\n",
              " 'weight': 626,\n",
              " 'world': 627,\n",
              " 'brands': 628,\n",
              " 'slightly': 629,\n",
              " 'says': 630,\n",
              " 'hdds': 631,\n",
              " 'site': 632,\n",
              " 'course': 633,\n",
              " 'seem': 634,\n",
              " '250': 635,\n",
              " 'soon': 636,\n",
              " 'larger': 637,\n",
              " 'part': 638,\n",
              " 'applications': 639,\n",
              " 'e': 640,\n",
              " 'mine': 641,\n",
              " 'post': 642,\n",
              " 'option': 643,\n",
              " 'ones': 644,\n",
              " 'parts': 645,\n",
              " 'decent': 646,\n",
              " 'format': 647,\n",
              " 'onto': 648,\n",
              " 'mobo': 649,\n",
              " 'impressed': 650,\n",
              " 'multiple': 651,\n",
              " 'ports': 652,\n",
              " 'noticeable': 653,\n",
              " 'dont': 654,\n",
              " 'hold': 655,\n",
              " 'cant': 656,\n",
              " 'pricey': 657,\n",
              " 'regular': 658,\n",
              " 'line': 659,\n",
              " 'believe': 660,\n",
              " 'error': 661,\n",
              " 'board': 662,\n",
              " 'operating': 663,\n",
              " 'home': 664,\n",
              " 'fact': 665,\n",
              " 'settings': 666,\n",
              " 'mac': 667,\n",
              " 'incredible': 668,\n",
              " 'thinking': 669,\n",
              " 'sometimes': 670,\n",
              " 'yes': 671,\n",
              " 'primary': 672,\n",
              " '99': 673,\n",
              " 'add': 674,\n",
              " 'company': 675,\n",
              " 'building': 676,\n",
              " 'glad': 677,\n",
              " 'he': 678,\n",
              " 'available': 679,\n",
              " 'received': 680,\n",
              " 'updated': 681,\n",
              " 'website': 682,\n",
              " 'making': 683,\n",
              " 'currently': 684,\n",
              " 'trust': 685,\n",
              " 'research': 686,\n",
              " 'zero': 687,\n",
              " 'failure': 688,\n",
              " 'send': 689,\n",
              " 'friends': 690,\n",
              " 'systems': 691,\n",
              " 'stable': 692,\n",
              " 'apps': 693,\n",
              " 'completely': 694,\n",
              " 'arrived': 695,\n",
              " '120gb': 696,\n",
              " 'end': 697,\n",
              " 'interface': 698,\n",
              " 'form': 699,\n",
              " 'impressive': 700,\n",
              " 'important': 701,\n",
              " 'mind': 702,\n",
              " 'delivery': 703,\n",
              " 'click': 704,\n",
              " 'check': 705,\n",
              " 'quiet': 706,\n",
              " 'performs': 707,\n",
              " 'defective': 708,\n",
              " 'shipped': 709,\n",
              " 'gave': 710,\n",
              " 'priced': 711,\n",
              " 'trim': 712,\n",
              " 'users': 713,\n",
              " 'cache': 714,\n",
              " 'reboot': 715,\n",
              " 'total': 716,\n",
              " 'driver': 717,\n",
              " 'true': 718,\n",
              " 'enable': 719,\n",
              " 'fix': 720,\n",
              " 'longevity': 721,\n",
              " 'show': 722,\n",
              " 'move': 723,\n",
              " 'tested': 724,\n",
              " 'place': 725,\n",
              " 'literally': 726,\n",
              " 'fault': 727,\n",
              " 'affordable': 728,\n",
              " '11': 729,\n",
              " 'each': 730,\n",
              " 'general': 731,\n",
              " 'options': 732,\n",
              " 'instantly': 733,\n",
              " 'specs': 734,\n",
              " 'pleased': 735,\n",
              " 'given': 736,\n",
              " 'strong': 737,\n",
              " 'her': 738,\n",
              " 'save': 739,\n",
              " 'server': 740,\n",
              " 'sec': 741,\n",
              " 'rather': 742,\n",
              " 'page': 743,\n",
              " 'tools': 744,\n",
              " 'plan': 745,\n",
              " 'packaging': 746,\n",
              " 'possible': 747,\n",
              " 'stop': 748,\n",
              " 'hp': 749,\n",
              " 'matter': 750,\n",
              " 'win7': 751,\n",
              " 'properly': 752,\n",
              " 'compare': 753,\n",
              " 'beat': 754,\n",
              " 'enabled': 755,\n",
              " 'technology': 756,\n",
              " 'seagate': 757,\n",
              " 'quicker': 758,\n",
              " 'newer': 759,\n",
              " 'today': 760,\n",
              " 'normal': 761,\n",
              " 'bigger': 762,\n",
              " 'reasonable': 763,\n",
              " 'improved': 764,\n",
              " 'store': 765,\n",
              " 'complaints': 766,\n",
              " 'kit': 767,\n",
              " 'management': 768,\n",
              " '6gb': 769,\n",
              " 'features': 770,\n",
              " '4k': 771,\n",
              " 'compatible': 772,\n",
              " 'business': 773,\n",
              " 'ide': 774,\n",
              " 'luck': 775,\n",
              " 'including': 776,\n",
              " '64': 777,\n",
              " 'name': 778,\n",
              " 'setting': 779,\n",
              " 'g': 780,\n",
              " 'shows': 781,\n",
              " 'tests': 782,\n",
              " 'close': 783,\n",
              " 'exactly': 784,\n",
              " 'saw': 785,\n",
              " 'gtx': 786,\n",
              " 'sent': 787,\n",
              " 'increased': 788,\n",
              " 'lower': 789,\n",
              " 'blue': 790,\n",
              " 'considering': 791,\n",
              " 'except': 792,\n",
              " 'gigs': 793,\n",
              " 'drop': 794,\n",
              " 'spend': 795,\n",
              " 'short': 796,\n",
              " 'during': 797,\n",
              " '3rd': 798,\n",
              " 'notice': 799,\n",
              " 'plugged': 800,\n",
              " 'sata3': 801,\n",
              " 'told': 802,\n",
              " 'steam': 803,\n",
              " 'info': 804,\n",
              " 'errors': 805,\n",
              " 'budget': 806,\n",
              " 'goes': 807,\n",
              " '25': 808,\n",
              " 'usage': 809,\n",
              " 'satisfied': 810,\n",
              " 'someone': 811,\n",
              " 'putting': 812,\n",
              " 'win10': 813,\n",
              " 'party': 814,\n",
              " 'thanks': 815,\n",
              " 'ok': 816,\n",
              " 'crazy': 817,\n",
              " 'latest': 818,\n",
              " 'buck': 819,\n",
              " 'type': 820,\n",
              " 'immediately': 821,\n",
              " 'lost': 822,\n",
              " 'hour': 823,\n",
              " 'complete': 824,\n",
              " 'manual': 825,\n",
              " 'picked': 826,\n",
              " 'dropped': 827,\n",
              " 'required': 828,\n",
              " 'regret': 829,\n",
              " 'silent': 830,\n",
              " 'everyone': 831,\n",
              " 'bay': 832,\n",
              " 'starting': 833,\n",
              " 'noticeably': 834,\n",
              " 'kind': 835,\n",
              " 'usually': 836,\n",
              " 'ship': 837,\n",
              " 'bucks': 838,\n",
              " 'o': 839,\n",
              " 'im': 840,\n",
              " 'n': 841,\n",
              " 'battery': 842,\n",
              " 'reading': 843,\n",
              " 'internet': 844,\n",
              " 'his': 845,\n",
              " 'left': 846,\n",
              " 'secondary': 847,\n",
              " 'feels': 848,\n",
              " 'noise': 849,\n",
              " 'side': 850,\n",
              " 'max': 851,\n",
              " '80': 852,\n",
              " 'anymore': 853,\n",
              " 'failing': 854,\n",
              " 'restart': 855,\n",
              " 'missing': 856,\n",
              " 'login': 857,\n",
              " 'via': 858,\n",
              " 'pcs': 859,\n",
              " 'although': 860,\n",
              " 'additional': 861,\n",
              " 'charm': 862,\n",
              " '2015': 863,\n",
              " 'lots': 864,\n",
              " 'application': 865,\n",
              " '75e500b': 866,\n",
              " 'turned': 867,\n",
              " 'optimize': 868,\n",
              " 'ddr3': 869,\n",
              " 'date': 870,\n",
              " 'snappy': 871,\n",
              " 'v': 872,\n",
              " '256gb': 873,\n",
              " 'factor': 874,\n",
              " 'written': 875,\n",
              " 'yourself': 876,\n",
              " 'totally': 877,\n",
              " 'beware': 878,\n",
              " 'breeze': 879,\n",
              " 'flawless': 880,\n",
              " 'mid': 881,\n",
              " 'kept': 882,\n",
              " '32': 883,\n",
              " 'writing': 884,\n",
              " 'information': 885,\n",
              " 'paid': 886,\n",
              " 'downloaded': 887,\n",
              " 'actual': 888,\n",
              " 'likely': 889,\n",
              " 'knew': 890,\n",
              " 'gives': 891,\n",
              " 'gone': 892,\n",
              " 'dvd': 893,\n",
              " 'shutdown': 894,\n",
              " '8gb': 895,\n",
              " '2nd': 896,\n",
              " 'perform': 897,\n",
              " 'mentioned': 898,\n",
              " 'obviously': 899,\n",
              " 'piece': 900,\n",
              " 'rate': 901,\n",
              " 'thats': 902,\n",
              " 'trouble': 903,\n",
              " 'call': 904,\n",
              " 'dual': 905,\n",
              " 'disc': 906,\n",
              " 'min': 907,\n",
              " 'processor': 908,\n",
              " 'useless': 909,\n",
              " 'didnt': 910,\n",
              " 'amazingly': 911,\n",
              " 'inside': 912,\n",
              " 'chipset': 913,\n",
              " 'configuration': 914,\n",
              " 'surprised': 915,\n",
              " 'tlc': 916,\n",
              " '7200': 917,\n",
              " 'cooler': 918,\n",
              " 'supposed': 919,\n",
              " 'friday': 920,\n",
              " 'hit': 921,\n",
              " 'gigabyte': 922,\n",
              " 'along': 923,\n",
              " 'restore': 924,\n",
              " 'similar': 925,\n",
              " '40': 926,\n",
              " 'cause': 927,\n",
              " 'opinion': 928,\n",
              " 'forward': 929,\n",
              " 'osx': 930,\n",
              " 'builds': 931,\n",
              " 'sdd': 932,\n",
              " 'five': 933,\n",
              " 'above': 934,\n",
              " 'giving': 935,\n",
              " 'tower': 936,\n",
              " 'copying': 937,\n",
              " 'complain': 938,\n",
              " 'whole': 939,\n",
              " 'connected': 940,\n",
              " 'tray': 941,\n",
              " 'connection': 942,\n",
              " '120': 943,\n",
              " 'usable': 944,\n",
              " 'adata': 945,\n",
              " 'array': 946,\n",
              " 'spent': 947,\n",
              " 'opening': 948,\n",
              " 'access': 949,\n",
              " 'web': 950,\n",
              " 'ended': 951,\n",
              " 'cold': 952,\n",
              " 'means': 953,\n",
              " 'feature': 954,\n",
              " 'uses': 955,\n",
              " 'incredibly': 956,\n",
              " 'switch': 957,\n",
              " 'stated': 958,\n",
              " 'ups': 959,\n",
              " 'optimization': 960,\n",
              " 'platter': 961,\n",
              " 'entire': 962,\n",
              " 'sata2': 963,\n",
              " 'uefi': 964,\n",
              " 'de': 965,\n",
              " 'four': 966,\n",
              " '4kib': 967,\n",
              " 'seq': 968,\n",
              " 'speedy': 969,\n",
              " 'note': 970,\n",
              " 'music': 971,\n",
              " 'durable': 972,\n",
              " 'instant': 973,\n",
              " 'significant': 974,\n",
              " '2016': 975,\n",
              " 'hands': 976,\n",
              " 'near': 977,\n",
              " 'lol': 978,\n",
              " 'our': 979,\n",
              " 'stock': 980,\n",
              " 'button': 981,\n",
              " '2012': 982,\n",
              " 'numbers': 983,\n",
              " 'whatsoever': 984,\n",
              " 'outstanding': 985,\n",
              " 'early': 986,\n",
              " '000': 987,\n",
              " 'mlc': 988,\n",
              " 'period': 989,\n",
              " 'design': 990,\n",
              " '16gb': 991,\n",
              " 'r': 992,\n",
              " 'purchasing': 993,\n",
              " 'secure': 994,\n",
              " 'responsive': 995,\n",
              " 'gotten': 996,\n",
              " 'below': 997,\n",
              " '5400': 998,\n",
              " 'mention': 999,\n",
              " 'digital': 1000,\n",
              " ...}"
            ]
          },
          "metadata": {
            "tags": []
          },
          "execution_count": 40
        }
      ]
    },
    {
      "cell_type": "markdown",
      "metadata": {
        "id": "HXy2gZrkJ0f_"
      },
      "source": [
        "#### Pad the above tokenized reviews data save it as independent features. Use max_len for the same."
      ]
    },
    {
      "cell_type": "code",
      "metadata": {
        "id": "mV-KtcR06OAr",
        "colab": {
          "base_uri": "https://localhost:8080/"
        },
        "outputId": "70d3299f-1588-46aa-957c-15cfa0d78eb7"
      },
      "source": [
        "from tensorflow.keras.preprocessing.sequence import pad_sequences\n",
        "\n",
        "X=pad_sequences(X,maxlen=maxlen)\n",
        "X.shape"
      ],
      "execution_count": 41,
      "outputs": [
        {
          "output_type": "execute_result",
          "data": {
            "text/plain": [
              "(2227, 25)"
            ]
          },
          "metadata": {
            "tags": []
          },
          "execution_count": 41
        }
      ]
    },
    {
      "cell_type": "code",
      "metadata": {
        "id": "kSFNFr72aPLS"
      },
      "source": [
        "y = np.asarray(review1_df['rating_stars'])"
      ],
      "execution_count": 42,
      "outputs": []
    },
    {
      "cell_type": "markdown",
      "metadata": {
        "id": "XVT7dRRUHsgR"
      },
      "source": [
        "#### Check the shape of X (padded tokenized review data) and y (rating_stars) data."
      ]
    },
    {
      "cell_type": "code",
      "metadata": {
        "id": "SXc3DOi9Hz6O",
        "colab": {
          "base_uri": "https://localhost:8080/"
        },
        "outputId": "9ad5ad85-b9b8-4372-aecf-eb42802f181a"
      },
      "source": [
        "print(X.shape)\n",
        "print(y.shape)"
      ],
      "execution_count": 43,
      "outputs": [
        {
          "output_type": "stream",
          "text": [
            "(2227, 25)\n",
            "(2227,)\n"
          ],
          "name": "stdout"
        }
      ]
    },
    {
      "cell_type": "markdown",
      "metadata": {
        "id": "A5GlWwKnJ7ie"
      },
      "source": [
        "#### Check the total number of words in the dictionary (of tekenizer)"
      ]
    },
    {
      "cell_type": "code",
      "metadata": {
        "id": "oR0W8MdX6V3A",
        "colab": {
          "base_uri": "https://localhost:8080/"
        },
        "outputId": "801eb33f-55b6-4be6-c975-4b8a4915f1ad"
      },
      "source": [
        "len(tokenizer.word_index)"
      ],
      "execution_count": 44,
      "outputs": [
        {
          "output_type": "execute_result",
          "data": {
            "text/plain": [
              "8838"
            ]
          },
          "metadata": {
            "tags": []
          },
          "execution_count": 44
        }
      ]
    },
    {
      "cell_type": "markdown",
      "metadata": {
        "id": "RKa3eYLDJ_yO"
      },
      "source": [
        "### 4.6 Compute the glove embeddings. Use the provided txt file for the same."
      ]
    },
    {
      "cell_type": "markdown",
      "metadata": {
        "id": "WNwPD9EmIbMt"
      },
      "source": [
        "#### Read the glove embeddings from the file provided titled ‘glove.6B.50d.txt’. And save it to a dictotionary having word and corresponding embedding vector."
      ]
    },
    {
      "cell_type": "code",
      "metadata": {
        "id": "bNd9ZFjuIp3g"
      },
      "source": [
        "glove_file=path+\"glove.6B.50d.txt\""
      ],
      "execution_count": 45,
      "outputs": []
    },
    {
      "cell_type": "code",
      "metadata": {
        "id": "DS2DSzfcgY6-"
      },
      "source": [
        "embedding = {}\n",
        "for w in open(glove_file):\n",
        "  word = w.split (\" \")[0]\n",
        "  emb = w.split (\" \")[1:]\n",
        "  emb = np.asarray(emb, dtype= 'float32')\n",
        "\n",
        "  #assign to dictionary\n",
        "  embedding[word] = emb\n"
      ],
      "execution_count": 46,
      "outputs": []
    },
    {
      "cell_type": "code",
      "metadata": {
        "colab": {
          "base_uri": "https://localhost:8080/"
        },
        "id": "qoLFiHUgiqmK",
        "outputId": "063584d0-0e87-4bcf-d30e-122c91770cb5"
      },
      "source": [
        "len(embedding)"
      ],
      "execution_count": 47,
      "outputs": [
        {
          "output_type": "execute_result",
          "data": {
            "text/plain": [
              "400000"
            ]
          },
          "metadata": {
            "tags": []
          },
          "execution_count": 47
        }
      ]
    },
    {
      "cell_type": "markdown",
      "metadata": {
        "id": "EuolWkfmIqCJ"
      },
      "source": [
        "#### Create a weight matrix for words in the training docs"
      ]
    },
    {
      "cell_type": "code",
      "metadata": {
        "id": "BGHZ0nIaI0Ar"
      },
      "source": [
        "num_words = len(tokenizer.word_index) + 1\n",
        "embedding_matrix = np.zeros((num_words,50))\n",
        "for word , i in tokenizer.word_index.items():\n",
        "  embedding_vector = embedding.get(word)\n",
        "  if embedding_vector is not None:\n",
        "    embedding_matrix[i] = embedding_vector\n"
      ],
      "execution_count": 48,
      "outputs": []
    },
    {
      "cell_type": "markdown",
      "metadata": {
        "id": "-DdpiQZ9_Fiq"
      },
      "source": [
        "#### Check length of the embedding"
      ]
    },
    {
      "cell_type": "code",
      "metadata": {
        "id": "8bcs-LtYILlO",
        "colab": {
          "base_uri": "https://localhost:8080/"
        },
        "outputId": "bb86d248-95cf-417f-b27f-2cebf9c64187"
      },
      "source": [
        "embedding_matrix.shape"
      ],
      "execution_count": 49,
      "outputs": [
        {
          "output_type": "execute_result",
          "data": {
            "text/plain": [
              "(8839, 50)"
            ]
          },
          "metadata": {
            "tags": []
          },
          "execution_count": 49
        }
      ]
    },
    {
      "cell_type": "markdown",
      "metadata": {
        "id": "xVPf3X5MKGpm"
      },
      "source": [
        "### 4.7 Target Feature:- One hot encode the target variable (rating_stars)"
      ]
    },
    {
      "cell_type": "code",
      "metadata": {
        "id": "7PVDBmkjJC4n"
      },
      "source": [
        "y_en=tensorflow.one_hot(y,depth=5)"
      ],
      "execution_count": 50,
      "outputs": []
    },
    {
      "cell_type": "code",
      "metadata": {
        "colab": {
          "base_uri": "https://localhost:8080/"
        },
        "id": "juudYNISmdFF",
        "outputId": "5b8b9732-a08b-4fc4-8907-3c54f7d91dec"
      },
      "source": [
        "y_en.shape"
      ],
      "execution_count": 51,
      "outputs": [
        {
          "output_type": "execute_result",
          "data": {
            "text/plain": [
              "TensorShape([2227, 5])"
            ]
          },
          "metadata": {
            "tags": []
          },
          "execution_count": 51
        }
      ]
    },
    {
      "cell_type": "code",
      "metadata": {
        "colab": {
          "base_uri": "https://localhost:8080/"
        },
        "id": "7QeeOjxGmkH4",
        "outputId": "bf0586d5-a009-49ba-add0-aaa53a069a58"
      },
      "source": [
        "y_en[33]"
      ],
      "execution_count": 52,
      "outputs": [
        {
          "output_type": "execute_result",
          "data": {
            "text/plain": [
              "<tf.Tensor: shape=(5,), dtype=float32, numpy=array([0., 0., 1., 0., 0.], dtype=float32)>"
            ]
          },
          "metadata": {
            "tags": []
          },
          "execution_count": 52
        }
      ]
    },
    {
      "cell_type": "code",
      "metadata": {
        "id": "bZKJyq8bnY4H"
      },
      "source": [
        "from tensorflow.keras.utils import to_categorical\n",
        "y_en1 = tensorflow.keras.utils.to_categorical(y, num_classes=6)\n"
      ],
      "execution_count": 53,
      "outputs": []
    },
    {
      "cell_type": "code",
      "metadata": {
        "colab": {
          "base_uri": "https://localhost:8080/"
        },
        "id": "F7NddsDCoHf2",
        "outputId": "31bce25a-08fa-40bd-95c9-8b6a977cdc64"
      },
      "source": [
        "y_en1[33]"
      ],
      "execution_count": 54,
      "outputs": [
        {
          "output_type": "execute_result",
          "data": {
            "text/plain": [
              "array([0., 0., 1., 0., 0., 0.], dtype=float32)"
            ]
          },
          "metadata": {
            "tags": []
          },
          "execution_count": 54
        }
      ]
    },
    {
      "cell_type": "markdown",
      "metadata": {
        "id": "5dqPXETLKN0h"
      },
      "source": [
        "### 4.8 Split the data into Train & Test sets"
      ]
    },
    {
      "cell_type": "code",
      "metadata": {
        "id": "FFJ1oEUmJEEW"
      },
      "source": [
        "from sklearn.model_selection import train_test_split\n",
        "x_train, x_test, y_train, y_test = train_test_split(X, y_en1, test_size=0.3)"
      ],
      "execution_count": 55,
      "outputs": []
    },
    {
      "cell_type": "code",
      "metadata": {
        "colab": {
          "base_uri": "https://localhost:8080/"
        },
        "id": "AUL1N56RpBXX",
        "outputId": "4b7f784b-185f-4db7-d52f-cdb5fcbf0299"
      },
      "source": [
        "print(x_train.shape,y_train.shape)\n",
        "print(x_test.shape,y_test.shape)"
      ],
      "execution_count": 56,
      "outputs": [
        {
          "output_type": "stream",
          "text": [
            "(1558, 25) (1558, 6)\n",
            "(669, 25) (669, 6)\n"
          ],
          "name": "stdout"
        }
      ]
    },
    {
      "cell_type": "markdown",
      "metadata": {
        "id": "rhD1a-beKvE7"
      },
      "source": [
        "## 5. Model building"
      ]
    },
    {
      "cell_type": "markdown",
      "metadata": {
        "id": "bRmxklYnKvxk"
      },
      "source": [
        "### 5.1 Construct a neural network architecture using embedding and LSTM layers for building the rating prediction model.\n",
        "- Use the num_words, embedding_size from the above tokenizer and embeddings respectively\n",
        "- Use weights from the above embedding matrix\n",
        "- Use input length as the maxlen\n",
        "- Add LSTM layers"
      ]
    },
    {
      "cell_type": "code",
      "metadata": {
        "id": "gSGsebsiNA78"
      },
      "source": [
        "import tensorflow as tf\n",
        "from tensorflow.keras.models import Sequential\n",
        "from tensorflow.keras.layers import LSTM, Flatten, Dense, Embedding, Dropout"
      ],
      "execution_count": 60,
      "outputs": []
    },
    {
      "cell_type": "code",
      "metadata": {
        "id": "Z9-x8GbRqxNo"
      },
      "source": [
        "model = Sequential()\n",
        "model.add( Embedding(num_words,embedding_size,weights=[embedding_matrix],input_length=maxlen, trainable=False ) )\n",
        "model.add(LSTM(128))\n",
        "model.add(Flatten())\n",
        "model.add(Dense(512,activation='relu'))\n",
        "model.add(Dense(256,activation='relu'))\n",
        "model.add(Dense(128,activation='relu'))\n",
        "model.add(Dense(64,activation='relu'))\n",
        "model.add(Dropout(0.5))\n",
        "model.add(Dense(6,activation='softmax'))"
      ],
      "execution_count": 73,
      "outputs": []
    },
    {
      "cell_type": "markdown",
      "metadata": {
        "id": "iN0P-a6X_jAb"
      },
      "source": [
        "### 5.2 Compile the model using appropriate loss, optimizer, and accuracy metric"
      ]
    },
    {
      "cell_type": "code",
      "metadata": {
        "id": "8Kyk9kPxNCMb"
      },
      "source": [
        "model.compile(loss = 'categorical_crossentropy', optimizer = 'adam' , metrics = 'accuracy')"
      ],
      "execution_count": 74,
      "outputs": []
    },
    {
      "cell_type": "code",
      "metadata": {
        "colab": {
          "base_uri": "https://localhost:8080/"
        },
        "id": "BS6ky4ITt4Mg",
        "outputId": "54ccf55c-6b09-4ca6-a817-2d248ac2e285"
      },
      "source": [
        "model.summary()"
      ],
      "execution_count": 75,
      "outputs": [
        {
          "output_type": "stream",
          "text": [
            "Model: \"sequential_2\"\n",
            "_________________________________________________________________\n",
            "Layer (type)                 Output Shape              Param #   \n",
            "=================================================================\n",
            "embedding_2 (Embedding)      (None, 25, 50)            441950    \n",
            "_________________________________________________________________\n",
            "lstm_2 (LSTM)                (None, 128)               91648     \n",
            "_________________________________________________________________\n",
            "flatten_2 (Flatten)          (None, 128)               0         \n",
            "_________________________________________________________________\n",
            "dense_10 (Dense)             (None, 512)               66048     \n",
            "_________________________________________________________________\n",
            "dense_11 (Dense)             (None, 256)               131328    \n",
            "_________________________________________________________________\n",
            "dense_12 (Dense)             (None, 128)               32896     \n",
            "_________________________________________________________________\n",
            "dense_13 (Dense)             (None, 64)                8256      \n",
            "_________________________________________________________________\n",
            "dropout_2 (Dropout)          (None, 64)                0         \n",
            "_________________________________________________________________\n",
            "dense_14 (Dense)             (None, 6)                 390       \n",
            "=================================================================\n",
            "Total params: 772,516\n",
            "Trainable params: 330,566\n",
            "Non-trainable params: 441,950\n",
            "_________________________________________________________________\n"
          ],
          "name": "stdout"
        }
      ]
    },
    {
      "cell_type": "markdown",
      "metadata": {
        "id": "tIODqXJK_qrQ"
      },
      "source": [
        "### 5.3 Fit the model"
      ]
    },
    {
      "cell_type": "code",
      "metadata": {
        "id": "fEX-_bd2NDPW",
        "colab": {
          "base_uri": "https://localhost:8080/"
        },
        "outputId": "267a0a38-1ef4-4eae-a7d8-33d60f21bdfe"
      },
      "source": [
        "history=model.fit(x_train,y_train,validation_data=(x_test,y_test), epochs=20, batch_size=100 )"
      ],
      "execution_count": 84,
      "outputs": [
        {
          "output_type": "stream",
          "text": [
            "Epoch 1/20\n",
            "16/16 [==============================] - 1s 88ms/step - loss: 0.2567 - accuracy: 0.9069 - val_loss: 1.2080 - val_accuracy: 0.7459\n",
            "Epoch 2/20\n",
            "16/16 [==============================] - 1s 80ms/step - loss: 0.2435 - accuracy: 0.9146 - val_loss: 1.2276 - val_accuracy: 0.7549\n",
            "Epoch 3/20\n",
            "16/16 [==============================] - 1s 82ms/step - loss: 0.2629 - accuracy: 0.9108 - val_loss: 1.1456 - val_accuracy: 0.7578\n",
            "Epoch 4/20\n",
            "16/16 [==============================] - 1s 80ms/step - loss: 0.1643 - accuracy: 0.9525 - val_loss: 1.5359 - val_accuracy: 0.7623\n",
            "Epoch 5/20\n",
            "16/16 [==============================] - 1s 82ms/step - loss: 0.1661 - accuracy: 0.9422 - val_loss: 1.3798 - val_accuracy: 0.7369\n",
            "Epoch 6/20\n",
            "16/16 [==============================] - 1s 81ms/step - loss: 0.1194 - accuracy: 0.9596 - val_loss: 1.4965 - val_accuracy: 0.7414\n",
            "Epoch 7/20\n",
            "16/16 [==============================] - 1s 79ms/step - loss: 0.1021 - accuracy: 0.9685 - val_loss: 1.5815 - val_accuracy: 0.7504\n",
            "Epoch 8/20\n",
            "16/16 [==============================] - 1s 81ms/step - loss: 0.1094 - accuracy: 0.9608 - val_loss: 1.5878 - val_accuracy: 0.7384\n",
            "Epoch 9/20\n",
            "16/16 [==============================] - 1s 82ms/step - loss: 0.1446 - accuracy: 0.9570 - val_loss: 1.7200 - val_accuracy: 0.7683\n",
            "Epoch 10/20\n",
            "16/16 [==============================] - 1s 81ms/step - loss: 0.1516 - accuracy: 0.9506 - val_loss: 1.4561 - val_accuracy: 0.7474\n",
            "Epoch 11/20\n",
            "16/16 [==============================] - 1s 81ms/step - loss: 0.1055 - accuracy: 0.9718 - val_loss: 1.3867 - val_accuracy: 0.7713\n",
            "Epoch 12/20\n",
            "16/16 [==============================] - 1s 80ms/step - loss: 0.0532 - accuracy: 0.9852 - val_loss: 1.7851 - val_accuracy: 0.7698\n",
            "Epoch 13/20\n",
            "16/16 [==============================] - 1s 82ms/step - loss: 0.0270 - accuracy: 0.9936 - val_loss: 1.9267 - val_accuracy: 0.7698\n",
            "Epoch 14/20\n",
            "16/16 [==============================] - 1s 81ms/step - loss: 0.0154 - accuracy: 0.9974 - val_loss: 2.1115 - val_accuracy: 0.7728\n",
            "Epoch 15/20\n",
            "16/16 [==============================] - 1s 80ms/step - loss: 0.0156 - accuracy: 0.9961 - val_loss: 2.1547 - val_accuracy: 0.7608\n",
            "Epoch 16/20\n",
            "16/16 [==============================] - 1s 82ms/step - loss: 0.0185 - accuracy: 0.9923 - val_loss: 2.5228 - val_accuracy: 0.7818\n",
            "Epoch 17/20\n",
            "16/16 [==============================] - 1s 81ms/step - loss: 0.0131 - accuracy: 0.9968 - val_loss: 2.3485 - val_accuracy: 0.7608\n",
            "Epoch 18/20\n",
            "16/16 [==============================] - 1s 82ms/step - loss: 0.0090 - accuracy: 0.9994 - val_loss: 2.4558 - val_accuracy: 0.7593\n",
            "Epoch 19/20\n",
            "16/16 [==============================] - 1s 84ms/step - loss: 0.0064 - accuracy: 0.9987 - val_loss: 2.6749 - val_accuracy: 0.7608\n",
            "Epoch 20/20\n",
            "16/16 [==============================] - 1s 81ms/step - loss: 0.0051 - accuracy: 0.9994 - val_loss: 2.8349 - val_accuracy: 0.7638\n"
          ],
          "name": "stdout"
        }
      ]
    },
    {
      "cell_type": "markdown",
      "metadata": {
        "id": "1iakHzMFNDsz"
      },
      "source": [
        "### 5.4 Predict ratings for test data and check accuracy and confusion matrix"
      ]
    },
    {
      "cell_type": "code",
      "metadata": {
        "id": "erNFghTpNK-j",
        "colab": {
          "base_uri": "https://localhost:8080/"
        },
        "outputId": "bfc4d17f-ebf2-485f-e3d4-d110bd1d7bea"
      },
      "source": [
        "predictions = model.predict(x_test)\n",
        "#predictions\n",
        "#predictions = [np.argmax(x) for x in predictions]\n",
        "result = np.argmax(predictions, axis = 1)\n",
        "result\n"
      ],
      "execution_count": 79,
      "outputs": [
        {
          "output_type": "execute_result",
          "data": {
            "text/plain": [
              "array([5, 5, 5, 5, 3, 5, 5, 5, 5, 5, 5, 5, 5, 5, 5, 5, 5, 5, 5, 5, 5, 5,\n",
              "       5, 4, 5, 5, 5, 5, 5, 5, 5, 1, 5, 5, 5, 5, 5, 5, 1, 5, 5, 5, 1, 5,\n",
              "       5, 5, 5, 5, 5, 5, 5, 5, 5, 5, 5, 5, 5, 4, 5, 5, 5, 5, 5, 5, 5, 4,\n",
              "       1, 5, 5, 1, 5, 5, 5, 5, 5, 1, 5, 5, 5, 5, 5, 5, 5, 5, 1, 5, 5, 5,\n",
              "       5, 5, 5, 5, 5, 5, 5, 5, 5, 5, 5, 5, 5, 1, 4, 5, 5, 4, 5, 5, 5, 5,\n",
              "       5, 5, 5, 1, 5, 5, 5, 5, 5, 5, 5, 1, 5, 5, 5, 5, 5, 5, 5, 5, 5, 5,\n",
              "       5, 5, 4, 5, 5, 5, 5, 5, 5, 5, 1, 4, 5, 5, 5, 5, 5, 5, 5, 5, 5, 1,\n",
              "       5, 5, 3, 5, 5, 5, 5, 5, 5, 5, 5, 5, 5, 1, 5, 5, 5, 5, 5, 5, 5, 4,\n",
              "       5, 5, 5, 5, 5, 5, 5, 5, 5, 5, 5, 5, 5, 1, 4, 5, 5, 5, 1, 5, 5, 5,\n",
              "       5, 5, 4, 5, 4, 5, 1, 5, 5, 5, 5, 5, 1, 1, 3, 5, 5, 5, 1, 5, 5, 5,\n",
              "       5, 5, 5, 5, 5, 5, 5, 5, 5, 1, 5, 1, 4, 5, 5, 5, 5, 5, 5, 5, 5, 5,\n",
              "       5, 5, 5, 5, 5, 1, 5, 4, 5, 5, 4, 4, 5, 5, 5, 5, 5, 1, 5, 4, 5, 4,\n",
              "       5, 5, 5, 5, 5, 5, 4, 5, 5, 5, 5, 5, 5, 5, 5, 4, 5, 5, 5, 5, 5, 5,\n",
              "       5, 5, 5, 5, 5, 5, 5, 5, 5, 5, 5, 5, 5, 5, 5, 5, 5, 5, 5, 5, 5, 5,\n",
              "       5, 5, 1, 5, 1, 5, 5, 5, 5, 5, 5, 5, 5, 5, 5, 5, 5, 5, 5, 5, 5, 5,\n",
              "       5, 5, 5, 5, 5, 5, 5, 5, 5, 5, 1, 5, 5, 5, 5, 5, 5, 5, 5, 5, 4, 5,\n",
              "       5, 1, 3, 5, 3, 5, 5, 5, 5, 5, 5, 5, 4, 5, 5, 5, 5, 5, 5, 5, 5, 5,\n",
              "       5, 5, 5, 5, 5, 1, 5, 5, 1, 5, 5, 5, 5, 4, 5, 5, 5, 5, 5, 5, 5, 5,\n",
              "       1, 5, 5, 5, 1, 5, 5, 5, 5, 5, 3, 1, 1, 5, 5, 5, 5, 5, 4, 5, 5, 5,\n",
              "       5, 5, 5, 5, 5, 5, 5, 5, 5, 1, 5, 5, 3, 5, 5, 5, 5, 5, 1, 5, 5, 5,\n",
              "       5, 4, 5, 5, 5, 5, 5, 5, 5, 1, 5, 5, 5, 5, 3, 5, 5, 5, 1, 5, 5, 5,\n",
              "       5, 5, 5, 5, 5, 1, 5, 5, 5, 5, 5, 5, 5, 5, 5, 5, 5, 5, 5, 5, 5, 5,\n",
              "       5, 5, 5, 5, 5, 5, 5, 5, 5, 5, 5, 5, 5, 5, 5, 5, 5, 5, 5, 5, 5, 5,\n",
              "       5, 5, 4, 5, 1, 5, 5, 3, 5, 5, 5, 5, 5, 5, 5, 5, 5, 5, 5, 5, 5, 5,\n",
              "       5, 5, 5, 5, 5, 5, 5, 5, 5, 5, 5, 5, 5, 5, 5, 5, 1, 5, 1, 5, 5, 5,\n",
              "       5, 5, 5, 5, 5, 5, 5, 5, 1, 5, 5, 5, 5, 5, 5, 4, 4, 5, 1, 5, 5, 5,\n",
              "       5, 5, 5, 5, 5, 5, 5, 5, 5, 5, 5, 5, 5, 3, 5, 5, 5, 5, 4, 5, 3, 5,\n",
              "       4, 1, 1, 5, 5, 5, 5, 5, 5, 5, 5, 5, 5, 5, 5, 4, 5, 5, 1, 5, 5, 5,\n",
              "       5, 3, 5, 5, 5, 5, 4, 5, 5, 5, 5, 5, 5, 5, 5, 5, 5, 5, 5, 5, 5, 4,\n",
              "       5, 5, 5, 5, 5, 4, 5, 5, 5, 5, 5, 5, 5, 5, 3, 5, 5, 5, 5, 5, 5, 5,\n",
              "       5, 5, 5, 5, 5, 5, 5, 5, 5])"
            ]
          },
          "metadata": {
            "tags": []
          },
          "execution_count": 79
        }
      ]
    },
    {
      "cell_type": "code",
      "metadata": {
        "id": "YUXauuX50VLw"
      },
      "source": [
        "y_test_true = np.argmax(y_test, axis = 1)\n"
      ],
      "execution_count": 80,
      "outputs": []
    },
    {
      "cell_type": "code",
      "metadata": {
        "id": "glNaXRZqNLBN",
        "colab": {
          "base_uri": "https://localhost:8080/"
        },
        "outputId": "400d3a0e-cbeb-4e8f-f02a-34df2d326a2a"
      },
      "source": [
        "from sklearn.metrics import classification_report , confusion_matrix\n",
        "\n",
        "print(classification_report(y_test_true , result))\n"
      ],
      "execution_count": 81,
      "outputs": [
        {
          "output_type": "stream",
          "text": [
            "              precision    recall  f1-score   support\n",
            "\n",
            "           1       0.30      0.40      0.35        35\n",
            "           2       0.00      0.00      0.00        16\n",
            "           3       0.08      0.05      0.06        19\n",
            "           4       0.33      0.18      0.23        62\n",
            "           5       0.85      0.92      0.88       537\n",
            "\n",
            "    accuracy                           0.77       669\n",
            "   macro avg       0.31      0.31      0.30       669\n",
            "weighted avg       0.73      0.77      0.75       669\n",
            "\n"
          ],
          "name": "stdout"
        }
      ]
    },
    {
      "cell_type": "code",
      "metadata": {
        "colab": {
          "base_uri": "https://localhost:8080/"
        },
        "id": "v2wANq1NzF8s",
        "outputId": "c241549c-3622-45ba-8459-0610c5ccacac"
      },
      "source": [
        "print(confusion_matrix(y_test_true,result))"
      ],
      "execution_count": 83,
      "outputs": [
        {
          "output_type": "stream",
          "text": [
            "[[ 14   0   2   3  16]\n",
            " [  4   0   0   0  12]\n",
            " [  4   0   1   2  12]\n",
            " [  5   0   1  11  45]\n",
            " [ 19   0   9  17 492]]\n"
          ],
          "name": "stdout"
        }
      ]
    },
    {
      "cell_type": "markdown",
      "metadata": {
        "id": "lHyQA-RsNOXT"
      },
      "source": [
        "### 5.5 Display plot of training and validation loss/accuracy wrt to epochs"
      ]
    },
    {
      "cell_type": "code",
      "metadata": {
        "id": "gC7Lb0eSNawO",
        "colab": {
          "base_uri": "https://localhost:8080/",
          "height": 300
        },
        "outputId": "ce93667c-fdbf-46a3-9d87-313c806b680b"
      },
      "source": [
        "import matplotlib.pyplot as plt\n",
        "\n",
        "epochs = range(len(history.history['accuracy']))\n",
        "\n",
        "plt.plot(epochs ,history.history['accuracy'] , label = \"Training Accuracy\")\n",
        "plt.plot(epochs ,history.history['val_accuracy'] , label = \"Validation Accuracy\")\n",
        "plt.legend(loc='upper right')\n",
        "plt.figure()"
      ],
      "execution_count": 85,
      "outputs": [
        {
          "output_type": "execute_result",
          "data": {
            "text/plain": [
              "<Figure size 432x288 with 0 Axes>"
            ]
          },
          "metadata": {
            "tags": []
          },
          "execution_count": 85
        },
        {
          "output_type": "display_data",
          "data": {
            "image/png": "[encoded data removed]",
            "text/plain": [
              "<Figure size 432x288 with 1 Axes>"
            ]
          },
          "metadata": {
            "tags": [],
            "needs_background": "light"
          }
        },
        {
          "output_type": "display_data",
          "data": {
            "text/plain": [
              "<Figure size 432x288 with 0 Axes>"
            ]
          },
          "metadata": {
            "tags": []
          }
        }
      ]
    },
    {
      "cell_type": "code",
      "metadata": {
        "id": "Uihx7_yE0wyR",
        "colab": {
          "base_uri": "https://localhost:8080/",
          "height": 300
        },
        "outputId": "d73a4e0d-788c-4a36-f2ae-7cfb1ded32cd"
      },
      "source": [
        "plt.plot(epochs ,history.history['loss'] , label = \"Training loss\")\n",
        "plt.plot(epochs ,history.history['val_loss'] , label = \"validation loss\")\n",
        "plt.legend(loc='upper right')\n",
        "plt.figure()"
      ],
      "execution_count": 86,
      "outputs": [
        {
          "output_type": "execute_result",
          "data": {
            "text/plain": [
              "<Figure size 432x288 with 0 Axes>"
            ]
          },
          "metadata": {
            "tags": []
          },
          "execution_count": 86
        },
        {
          "output_type": "display_data",
          "data": {
            "image/png": "[encoded data removed]",
            "text/plain": [
              "<Figure size 432x288 with 1 Axes>"
            ]
          },
          "metadata": {
            "tags": [],
            "needs_background": "light"
          }
        },
        {
          "output_type": "display_data",
          "data": {
            "text/plain": [
              "<Figure size 432x288 with 0 Axes>"
            ]
          },
          "metadata": {
            "tags": []
          }
        }
      ]
    },
    {
      "cell_type": "markdown",
      "metadata": {
        "id": "Ey7an7ukLxWB"
      },
      "source": [
        "## 6. Conclusion and Interpretation"
      ]
    },
    {
      "cell_type": "markdown",
      "metadata": {
        "id": "xTH93DNtz2Ek"
      },
      "source": [
        "The model is overfit which can be overcome by keeping less layers or adding more records.\n",
        "\n",
        "The data has class imbalance too which is causing more loss and can be overcome by adding weightage.\n",
        "\n",
        "The data can also be modelled by taking as 2 classes combining 1,2,3 as low review and 4,5 as high review."
      ]
    },
    {
      "cell_type": "code",
      "metadata": {
        "id": "3b2eLAk9NeNz"
      },
      "source": [
        ""
      ],
      "execution_count": null,
      "outputs": []
    },
    {
      "cell_type": "markdown",
      "metadata": {
        "id": "9nwOCcvqxVCH"
      },
      "source": [
        "## 7. Food for thought:\n",
        "\n",
        "1.) Change activation function (try leaky_relu or tanh) and see if it helps in improving model performance with the dataset that is highly imbalanced\n",
        "\n",
        "2.) Try with only the overall review feature and see if it leads to improvement in model performace\n",
        "\n",
        "3.) Change the hyperparameters of the model and compare the results "
      ]
    },
    {
      "cell_type": "code",
      "metadata": {
        "id": "VCylm4X8Nfik"
      },
      "source": [
        ""
      ],
      "execution_count": null,
      "outputs": []
    }
  ]
}