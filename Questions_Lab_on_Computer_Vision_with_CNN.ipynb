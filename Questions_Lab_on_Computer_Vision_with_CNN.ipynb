{
 "cells": [
  {
   "cell_type": "markdown",
   "metadata": {
    "id": "MyfMmMnPJjvn"
   },
   "source": [
    "## Train a simple convnet on the Fashion MNIST dataset"
   ]
  },
  {
   "cell_type": "markdown",
   "metadata": {
    "id": "zjcGOJhcJjvp"
   },
   "source": [
    "In this, we will see how to deal with image data and train a convnet for image classification task."
   ]
  },
  {
   "cell_type": "markdown",
   "metadata": {
    "id": "jR0Pl2XjJjvq"
   },
   "source": [
    "### Load the  `fashion_mnist`  dataset\n",
    "\n",
    "** Use keras.datasets to load the dataset **"
   ]
  },
  {
   "cell_type": "code",
   "execution_count": 1,
   "metadata": {
    "colab": {
     "base_uri": "https://localhost:8080/"
    },
    "id": "Qr75v_UYJjvs",
    "outputId": "40589f5d-db11-43c5-e45d-70fb45a6045c"
   },
   "outputs": [
    {
     "name": "stdout",
     "output_type": "stream",
     "text": [
      "Downloading data from https://storage.googleapis.com/tensorflow/tf-keras-datasets/train-labels-idx1-ubyte.gz\n",
      "32768/29515 [=================================] - 0s 0us/step\n",
      "Downloading data from https://storage.googleapis.com/tensorflow/tf-keras-datasets/train-images-idx3-ubyte.gz\n",
      "26427392/26421880 [==============================] - 0s 0us/step\n",
      "Downloading data from https://storage.googleapis.com/tensorflow/tf-keras-datasets/t10k-labels-idx1-ubyte.gz\n",
      "8192/5148 [===============================================] - 0s 0us/step\n",
      "Downloading data from https://storage.googleapis.com/tensorflow/tf-keras-datasets/t10k-images-idx3-ubyte.gz\n",
      "4423680/4422102 [==============================] - 0s 0us/step\n"
     ]
    }
   ],
   "source": [
    "from keras.datasets import fashion_mnist\n",
    "(x_train, y_train), (x_test, y_test) = fashion_mnist.load_data()"
   ]
  },
  {
   "cell_type": "markdown",
   "metadata": {
    "id": "hTI42-0qJjvw"
   },
   "source": [
    "### Find no.of samples are there in training and test datasets"
   ]
  },
  {
   "cell_type": "code",
   "execution_count": 2,
   "metadata": {
    "colab": {
     "base_uri": "https://localhost:8080/"
    },
    "id": "g2sf67VoJjvx",
    "outputId": "6db0d1f5-9059-4de8-c440-cb3e1878fd9f"
   },
   "outputs": [
    {
     "data": {
      "text/plain": [
       "(60000, 28, 28)"
      ]
     },
     "execution_count": 2,
     "metadata": {
      "tags": []
     },
     "output_type": "execute_result"
    }
   ],
   "source": [
    "x_train.shape"
   ]
  },
  {
   "cell_type": "code",
   "execution_count": 3,
   "metadata": {
    "colab": {
     "base_uri": "https://localhost:8080/"
    },
    "id": "zewyDcBlJjv1",
    "outputId": "7119d76b-2366-45cc-a508-0234703bb4ff"
   },
   "outputs": [
    {
     "data": {
      "text/plain": [
       "(10000, 28, 28)"
      ]
     },
     "execution_count": 3,
     "metadata": {
      "tags": []
     },
     "output_type": "execute_result"
    }
   ],
   "source": [
    "x_test.shape"
   ]
  },
  {
   "cell_type": "code",
   "execution_count": 4,
   "metadata": {
    "colab": {
     "base_uri": "https://localhost:8080/"
    },
    "id": "BoSzM1nZP6Cy",
    "outputId": "b279bae8-04e1-47bc-d4f2-261b5e8d30e7"
   },
   "outputs": [
    {
     "data": {
      "text/plain": [
       "(60000,)"
      ]
     },
     "execution_count": 4,
     "metadata": {
      "tags": []
     },
     "output_type": "execute_result"
    }
   ],
   "source": [
    "y_train.shape"
   ]
  },
  {
   "cell_type": "code",
   "execution_count": 5,
   "metadata": {
    "colab": {
     "base_uri": "https://localhost:8080/"
    },
    "id": "I0dBEx3yP5rV",
    "outputId": "8ae3e7d0-9dfb-491e-a978-c546d00d245d"
   },
   "outputs": [
    {
     "data": {
      "text/plain": [
       "(10000,)"
      ]
     },
     "execution_count": 5,
     "metadata": {
      "tags": []
     },
     "output_type": "execute_result"
    }
   ],
   "source": [
    "y_test.shape"
   ]
  },
  {
   "cell_type": "markdown",
   "metadata": {
    "id": "WytT2eRnJjv4"
   },
   "source": [
    "### Find dimensions of an image in the dataset"
   ]
  },
  {
   "cell_type": "code",
   "execution_count": 6,
   "metadata": {
    "colab": {
     "base_uri": "https://localhost:8080/"
    },
    "id": "XycQGBSGJjv5",
    "outputId": "05f783f5-c1e6-4d17-9587-e0c7bf82b22f"
   },
   "outputs": [
    {
     "data": {
      "text/plain": [
       "(28, 28)"
      ]
     },
     "execution_count": 6,
     "metadata": {
      "tags": []
     },
     "output_type": "execute_result"
    }
   ],
   "source": [
    "#Ht and Width of image in pixels\n",
    "x_train.shape[1:3]"
   ]
  },
  {
   "cell_type": "markdown",
   "metadata": {
    "id": "5jtdZ7RqJjv8"
   },
   "source": [
    "### Convert train and test labels to one hot vectors\n",
    "\n",
    "** check `keras.utils.to_categorical()` **"
   ]
  },
  {
   "cell_type": "code",
   "execution_count": 7,
   "metadata": {
    "id": "sAD3q5I6Jjv9"
   },
   "outputs": [],
   "source": [
    "import keras\n",
    "y_train=keras.utils.to_categorical(y_train,10)\n",
    "y_test=keras.utils.to_categorical(y_test,10)"
   ]
  },
  {
   "cell_type": "code",
   "execution_count": 8,
   "metadata": {
    "colab": {
     "base_uri": "https://localhost:8080/"
    },
    "id": "mgHSCXy3JjwA",
    "outputId": "41f2031d-6a40-43b1-8707-8fa628b9d39f"
   },
   "outputs": [
    {
     "data": {
      "text/plain": [
       "(60000, 10)"
      ]
     },
     "execution_count": 8,
     "metadata": {
      "tags": []
     },
     "output_type": "execute_result"
    }
   ],
   "source": [
    "y_train.shape"
   ]
  },
  {
   "cell_type": "markdown",
   "metadata": {
    "id": "xO5BRBzBJjwD"
   },
   "source": [
    "### Normalize both the train and test image data from 0-255 to 0-1"
   ]
  },
  {
   "cell_type": "code",
   "execution_count": 9,
   "metadata": {
    "id": "Okwo_SB5JjwI"
   },
   "outputs": [],
   "source": [
    "x_train = x_train.astype('float32')\n",
    "x_test = x_test.astype('float32')\n",
    "x_train /= 255\n",
    "x_test /= 255"
   ]
  },
  {
   "cell_type": "code",
   "execution_count": 10,
   "metadata": {
    "colab": {
     "base_uri": "https://localhost:8080/"
    },
    "id": "8m8byU3HXRIp",
    "outputId": "9bee7234-0a2d-4135-fb6b-380cf5cc618b"
   },
   "outputs": [
    {
     "data": {
      "text/plain": [
       "array([[[0., 0., 0., ..., 0., 0., 0.],\n",
       "        [0., 0., 0., ..., 0., 0., 0.],\n",
       "        [0., 0., 0., ..., 0., 0., 0.],\n",
       "        ...,\n",
       "        [0., 0., 0., ..., 0., 0., 0.],\n",
       "        [0., 0., 0., ..., 0., 0., 0.],\n",
       "        [0., 0., 0., ..., 0., 0., 0.]],\n",
       "\n",
       "       [[0., 0., 0., ..., 0., 0., 0.],\n",
       "        [0., 0., 0., ..., 0., 0., 0.],\n",
       "        [0., 0., 0., ..., 0., 0., 0.],\n",
       "        ...,\n",
       "        [0., 0., 0., ..., 0., 0., 0.],\n",
       "        [0., 0., 0., ..., 0., 0., 0.],\n",
       "        [0., 0., 0., ..., 0., 0., 0.]],\n",
       "\n",
       "       [[0., 0., 0., ..., 0., 0., 0.],\n",
       "        [0., 0., 0., ..., 0., 0., 0.],\n",
       "        [0., 0., 0., ..., 0., 0., 0.],\n",
       "        ...,\n",
       "        [0., 0., 0., ..., 0., 0., 0.],\n",
       "        [0., 0., 0., ..., 0., 0., 0.],\n",
       "        [0., 0., 0., ..., 0., 0., 0.]],\n",
       "\n",
       "       ...,\n",
       "\n",
       "       [[0., 0., 0., ..., 0., 0., 0.],\n",
       "        [0., 0., 0., ..., 0., 0., 0.],\n",
       "        [0., 0., 0., ..., 0., 0., 0.],\n",
       "        ...,\n",
       "        [0., 0., 0., ..., 0., 0., 0.],\n",
       "        [0., 0., 0., ..., 0., 0., 0.],\n",
       "        [0., 0., 0., ..., 0., 0., 0.]],\n",
       "\n",
       "       [[0., 0., 0., ..., 0., 0., 0.],\n",
       "        [0., 0., 0., ..., 0., 0., 0.],\n",
       "        [0., 0., 0., ..., 0., 0., 0.],\n",
       "        ...,\n",
       "        [0., 0., 0., ..., 0., 0., 0.],\n",
       "        [0., 0., 0., ..., 0., 0., 0.],\n",
       "        [0., 0., 0., ..., 0., 0., 0.]],\n",
       "\n",
       "       [[0., 0., 0., ..., 0., 0., 0.],\n",
       "        [0., 0., 0., ..., 0., 0., 0.],\n",
       "        [0., 0., 0., ..., 0., 0., 0.],\n",
       "        ...,\n",
       "        [0., 0., 0., ..., 0., 0., 0.],\n",
       "        [0., 0., 0., ..., 0., 0., 0.],\n",
       "        [0., 0., 0., ..., 0., 0., 0.]]], dtype=float32)"
      ]
     },
     "execution_count": 10,
     "metadata": {
      "tags": []
     },
     "output_type": "execute_result"
    }
   ],
   "source": [
    "x_train"
   ]
  },
  {
   "cell_type": "markdown",
   "metadata": {
    "id": "da5-DwgrJjwM"
   },
   "source": [
    "### Reshape the data from 28x28 to 28x28x1 to match input dimensions in Conv2D layer in keras"
   ]
  },
  {
   "cell_type": "code",
   "execution_count": 11,
   "metadata": {
    "id": "LPGVQ-JJJjwN"
   },
   "outputs": [],
   "source": [
    "# Keras expects the input in standard format (no of samples/batch_size,image_height, image_width, number of channels) and hence reshaping needed for CNN\n",
    "x_train=x_train.reshape(x_train.shape[0],28,28,1)\n",
    "x_test=x_test.reshape(x_test.shape[0],28,28,1)"
   ]
  },
  {
   "cell_type": "code",
   "execution_count": 12,
   "metadata": {
    "colab": {
     "base_uri": "https://localhost:8080/"
    },
    "id": "EXB4ghwnY_ul",
    "outputId": "797cb791-63df-413c-82b2-2cfb70d8ebf2"
   },
   "outputs": [
    {
     "data": {
      "text/plain": [
       "(60000, 28, 28, 1)"
      ]
     },
     "execution_count": 12,
     "metadata": {
      "tags": []
     },
     "output_type": "execute_result"
    }
   ],
   "source": [
    "x_train.shape"
   ]
  },
  {
   "cell_type": "code",
   "execution_count": 13,
   "metadata": {
    "colab": {
     "base_uri": "https://localhost:8080/"
    },
    "id": "Zv9axSdJY_Ty",
    "outputId": "4d109099-c320-4039-b1ca-f34495191db6"
   },
   "outputs": [
    {
     "data": {
      "text/plain": [
       "(10000, 28, 28, 1)"
      ]
     },
     "execution_count": 13,
     "metadata": {
      "tags": []
     },
     "output_type": "execute_result"
    }
   ],
   "source": [
    "x_test.shape"
   ]
  },
  {
   "cell_type": "code",
   "execution_count": 14,
   "metadata": {
    "colab": {
     "base_uri": "https://localhost:8080/"
    },
    "id": "veJIIzabi1Ga",
    "outputId": "eb0f6687-c19e-4cda-bd24-7e9bfb4bc4ea"
   },
   "outputs": [
    {
     "data": {
      "text/plain": [
       "(10000, 10)"
      ]
     },
     "execution_count": 14,
     "metadata": {
      "tags": []
     },
     "output_type": "execute_result"
    }
   ],
   "source": [
    "y_test.shape"
   ]
  },
  {
   "cell_type": "markdown",
   "metadata": {
    "id": "OFRRTJq8JjwQ"
   },
   "source": [
    "### Import the necessary layers from keras to build the model"
   ]
  },
  {
   "cell_type": "code",
   "execution_count": 15,
   "metadata": {
    "id": "dWTZYnKSJjwR"
   },
   "outputs": [],
   "source": [
    "from keras.models import Sequential\n",
    "from keras.layers import Activation, Dense, Dropout, Flatten, Convolution2D, MaxPool2D\n",
    "from keras import optimizers\n",
    "from keras.utils import np_utils"
   ]
  },
  {
   "cell_type": "markdown",
   "metadata": {
    "id": "C18AoS7eJjwU"
   },
   "source": [
    "### Build a model \n",
    "\n",
    "** with 2 Conv layers having `32 3x3 filters` in both convolutions with `relu activations` and `flatten` before passing the feature map into 2 fully connected layers (or Dense Layers) having 128 and 10 neurons with `relu` and `softmax` activations respectively. Now, using `categorical_crossentropy` loss with `adam` optimizer train the model with early stopping `patience=5` and no.of `epochs=10`. **"
   ]
  },
  {
   "cell_type": "code",
   "execution_count": 16,
   "metadata": {
    "id": "DORCLgSwJjwV"
   },
   "outputs": [],
   "source": [
    "#Initialize Sequential model\n",
    "model = keras.models.Sequential()\n",
    "\n",
    "## add 2 conv layers\n",
    "model.add(Convolution2D(32,(3,3),activation='relu',input_shape=(28,28,1)))\n",
    "model.add(Convolution2D(32,(3,3),activation='relu'))\n",
    "model.add(Flatten())\n",
    "\n",
    "# Adding Hidden Layers and Output Layer\n",
    "model.add(Dense(128, activation='relu'))\n",
    "model.add(Dense(10, activation='softmax'))\n",
    "\n",
    "## Loss and Optimizer\n",
    "model.compile(loss='categorical_crossentropy',optimizer='adam',metrics=['accuracy'])\n",
    "\n",
    "## callback\n",
    "early_stopping=keras.callbacks.EarlyStopping(monitor='val_accuracy',patience=5,verbose=1,mode='auto',min_delta=0.001)\n",
    "callback_list=[early_stopping]"
   ]
  },
  {
   "cell_type": "code",
   "execution_count": 17,
   "metadata": {
    "colab": {
     "base_uri": "https://localhost:8080/"
    },
    "id": "hIzsNblbfQ93",
    "outputId": "b803ce79-85f8-410a-bcbf-23edf4e73fcc"
   },
   "outputs": [
    {
     "name": "stdout",
     "output_type": "stream",
     "text": [
      "Epoch 1/20\n",
      "120/120 [==============================] - 9s 19ms/step - loss: 0.8011 - accuracy: 0.7155 - val_loss: 0.3716 - val_accuracy: 0.8667\n",
      "Epoch 2/20\n",
      "120/120 [==============================] - 2s 16ms/step - loss: 0.3240 - accuracy: 0.8845 - val_loss: 0.3284 - val_accuracy: 0.8810\n",
      "Epoch 3/20\n",
      "120/120 [==============================] - 2s 16ms/step - loss: 0.2800 - accuracy: 0.8983 - val_loss: 0.2893 - val_accuracy: 0.8971\n",
      "Epoch 4/20\n",
      "120/120 [==============================] - 2s 16ms/step - loss: 0.2267 - accuracy: 0.9174 - val_loss: 0.2733 - val_accuracy: 0.9006\n",
      "Epoch 5/20\n",
      "120/120 [==============================] - 2s 16ms/step - loss: 0.1980 - accuracy: 0.9279 - val_loss: 0.2732 - val_accuracy: 0.9036\n",
      "Epoch 6/20\n",
      "120/120 [==============================] - 2s 16ms/step - loss: 0.1759 - accuracy: 0.9359 - val_loss: 0.2654 - val_accuracy: 0.9071\n",
      "Epoch 7/20\n",
      "120/120 [==============================] - 2s 16ms/step - loss: 0.1521 - accuracy: 0.9442 - val_loss: 0.2681 - val_accuracy: 0.9063\n",
      "Epoch 8/20\n",
      "120/120 [==============================] - 2s 16ms/step - loss: 0.1326 - accuracy: 0.9531 - val_loss: 0.2853 - val_accuracy: 0.9042\n",
      "Epoch 9/20\n",
      "120/120 [==============================] - 2s 16ms/step - loss: 0.1196 - accuracy: 0.9572 - val_loss: 0.2651 - val_accuracy: 0.9125\n",
      "Epoch 10/20\n",
      "120/120 [==============================] - 2s 16ms/step - loss: 0.0991 - accuracy: 0.9649 - val_loss: 0.2815 - val_accuracy: 0.9111\n",
      "Epoch 11/20\n",
      "120/120 [==============================] - 2s 16ms/step - loss: 0.0804 - accuracy: 0.9723 - val_loss: 0.2666 - val_accuracy: 0.9170\n",
      "Epoch 12/20\n",
      "120/120 [==============================] - 2s 16ms/step - loss: 0.0680 - accuracy: 0.9772 - val_loss: 0.2981 - val_accuracy: 0.9120\n",
      "Epoch 13/20\n",
      "120/120 [==============================] - 2s 16ms/step - loss: 0.0587 - accuracy: 0.9803 - val_loss: 0.3313 - val_accuracy: 0.9034\n",
      "Epoch 14/20\n",
      "120/120 [==============================] - 2s 16ms/step - loss: 0.0558 - accuracy: 0.9808 - val_loss: 0.3372 - val_accuracy: 0.9147\n",
      "Epoch 15/20\n",
      "120/120 [==============================] - 2s 16ms/step - loss: 0.0394 - accuracy: 0.9865 - val_loss: 0.3386 - val_accuracy: 0.9129\n",
      "Epoch 16/20\n",
      "120/120 [==============================] - 2s 16ms/step - loss: 0.0310 - accuracy: 0.9909 - val_loss: 0.3604 - val_accuracy: 0.9142\n",
      "Epoch 00016: early stopping\n"
     ]
    },
    {
     "data": {
      "text/plain": [
       "<tensorflow.python.keras.callbacks.History at 0x7f73704167f0>"
      ]
     },
     "execution_count": 17,
     "metadata": {
      "tags": []
     },
     "output_type": "execute_result"
    }
   ],
   "source": [
    "model.fit(x_train,y_train,batch_size=500,epochs=20,validation_data=(x_test,y_test),callbacks=callback_list)"
   ]
  },
  {
   "cell_type": "code",
   "execution_count": 18,
   "metadata": {
    "colab": {
     "base_uri": "https://localhost:8080/"
    },
    "id": "NjjrCK5Md69u",
    "outputId": "fd4b894a-f98a-4fd9-b0fa-bc95fac25f79"
   },
   "outputs": [
    {
     "name": "stdout",
     "output_type": "stream",
     "text": [
      "Model: \"sequential\"\n",
      "_________________________________________________________________\n",
      "Layer (type)                 Output Shape              Param #   \n",
      "=================================================================\n",
      "conv2d (Conv2D)              (None, 26, 26, 32)        320       \n",
      "_________________________________________________________________\n",
      "conv2d_1 (Conv2D)            (None, 24, 24, 32)        9248      \n",
      "_________________________________________________________________\n",
      "flatten (Flatten)            (None, 18432)             0         \n",
      "_________________________________________________________________\n",
      "dense (Dense)                (None, 128)               2359424   \n",
      "_________________________________________________________________\n",
      "dense_1 (Dense)              (None, 10)                1290      \n",
      "=================================================================\n",
      "Total params: 2,370,282\n",
      "Trainable params: 2,370,282\n",
      "Non-trainable params: 0\n",
      "_________________________________________________________________\n"
     ]
    }
   ],
   "source": [
    "model.summary()"
   ]
  },
  {
   "cell_type": "markdown",
   "metadata": {
    "id": "ju69vKdIJjwX"
   },
   "source": [
    "### Now, to the above model add `max` pooling layer of `filter size 2x2` and `dropout` layer with `p=0.25` after the 2 conv layers and run the model"
   ]
  },
  {
   "cell_type": "code",
   "execution_count": 19,
   "metadata": {
    "id": "L2hAP94vJjwY"
   },
   "outputs": [],
   "source": [
    "#Initialize Sequential model\n",
    "model2 = keras.models.Sequential()\n",
    "\n",
    "## add 2 conv layers\n",
    "model2.add(Convolution2D(32,(3,3),activation='relu',input_shape=(28,28,1)))\n",
    "model2.add(Convolution2D(32,(3,3),activation='relu'))\n",
    "model2.add(MaxPool2D(pool_size=(2,2)))\n",
    "model2.add(Dropout(rate=0.25))\n",
    "model2.add(Flatten())\n",
    "\n",
    "# Adding Hidden Layers and Output Layer\n",
    "model2.add(Dense(128, activation='relu'))\n",
    "model2.add(Dense(10, activation='softmax'))\n",
    "\n",
    "## Loss and Optimizer\n",
    "model2.compile(loss='categorical_crossentropy',optimizer='adam',metrics=['accuracy'])\n",
    "\n",
    "## callback\n",
    "early_stopping=keras.callbacks.EarlyStopping(monitor='val_accuracy',patience=5,verbose=1,mode='auto',min_delta=0.001)\n",
    "callback_list=[early_stopping]"
   ]
  },
  {
   "cell_type": "code",
   "execution_count": 20,
   "metadata": {
    "colab": {
     "base_uri": "https://localhost:8080/"
    },
    "id": "8XxivId_l-Zo",
    "outputId": "971f4a8c-96a2-4a83-ca58-150da14594a2"
   },
   "outputs": [
    {
     "name": "stdout",
     "output_type": "stream",
     "text": [
      "Epoch 1/20\n",
      "120/120 [==============================] - 2s 16ms/step - loss: 0.9090 - accuracy: 0.6870 - val_loss: 0.4290 - val_accuracy: 0.8472\n",
      "Epoch 2/20\n",
      "120/120 [==============================] - 2s 15ms/step - loss: 0.3958 - accuracy: 0.8610 - val_loss: 0.3563 - val_accuracy: 0.8740\n",
      "Epoch 3/20\n",
      "120/120 [==============================] - 2s 15ms/step - loss: 0.3296 - accuracy: 0.8823 - val_loss: 0.3199 - val_accuracy: 0.8856\n",
      "Epoch 4/20\n",
      "120/120 [==============================] - 2s 15ms/step - loss: 0.2968 - accuracy: 0.8937 - val_loss: 0.3069 - val_accuracy: 0.8883\n",
      "Epoch 5/20\n",
      "120/120 [==============================] - 2s 15ms/step - loss: 0.2689 - accuracy: 0.9020 - val_loss: 0.2854 - val_accuracy: 0.8963\n",
      "Epoch 6/20\n",
      "120/120 [==============================] - 2s 15ms/step - loss: 0.2501 - accuracy: 0.9081 - val_loss: 0.2658 - val_accuracy: 0.9045\n",
      "Epoch 7/20\n",
      "120/120 [==============================] - 2s 15ms/step - loss: 0.2329 - accuracy: 0.9149 - val_loss: 0.2483 - val_accuracy: 0.9097\n",
      "Epoch 8/20\n",
      "120/120 [==============================] - 2s 15ms/step - loss: 0.2087 - accuracy: 0.9240 - val_loss: 0.2450 - val_accuracy: 0.9106\n",
      "Epoch 9/20\n",
      "120/120 [==============================] - 2s 15ms/step - loss: 0.1994 - accuracy: 0.9264 - val_loss: 0.2428 - val_accuracy: 0.9117\n",
      "Epoch 10/20\n",
      "120/120 [==============================] - 2s 15ms/step - loss: 0.1904 - accuracy: 0.9295 - val_loss: 0.2347 - val_accuracy: 0.9164\n",
      "Epoch 11/20\n",
      "120/120 [==============================] - 2s 15ms/step - loss: 0.1691 - accuracy: 0.9384 - val_loss: 0.2405 - val_accuracy: 0.9134\n",
      "Epoch 12/20\n",
      "120/120 [==============================] - 2s 15ms/step - loss: 0.1640 - accuracy: 0.9384 - val_loss: 0.2265 - val_accuracy: 0.9236\n",
      "Epoch 13/20\n",
      "120/120 [==============================] - 2s 15ms/step - loss: 0.1509 - accuracy: 0.9445 - val_loss: 0.2273 - val_accuracy: 0.9204\n",
      "Epoch 14/20\n",
      "120/120 [==============================] - 2s 15ms/step - loss: 0.1475 - accuracy: 0.9465 - val_loss: 0.2311 - val_accuracy: 0.9192\n",
      "Epoch 15/20\n",
      "120/120 [==============================] - 2s 16ms/step - loss: 0.1349 - accuracy: 0.9515 - val_loss: 0.2244 - val_accuracy: 0.9210\n",
      "Epoch 16/20\n",
      "120/120 [==============================] - 2s 15ms/step - loss: 0.1265 - accuracy: 0.9525 - val_loss: 0.2241 - val_accuracy: 0.9251\n",
      "Epoch 17/20\n",
      "120/120 [==============================] - 2s 15ms/step - loss: 0.1179 - accuracy: 0.9569 - val_loss: 0.2364 - val_accuracy: 0.9232\n",
      "Epoch 18/20\n",
      "120/120 [==============================] - 2s 15ms/step - loss: 0.1112 - accuracy: 0.9595 - val_loss: 0.2338 - val_accuracy: 0.9229\n",
      "Epoch 19/20\n",
      "120/120 [==============================] - 2s 15ms/step - loss: 0.1057 - accuracy: 0.9624 - val_loss: 0.2417 - val_accuracy: 0.9220\n",
      "Epoch 20/20\n",
      "120/120 [==============================] - 2s 15ms/step - loss: 0.0970 - accuracy: 0.9639 - val_loss: 0.2433 - val_accuracy: 0.9226\n"
     ]
    },
    {
     "data": {
      "text/plain": [
       "<tensorflow.python.keras.callbacks.History at 0x7f732c06b3c8>"
      ]
     },
     "execution_count": 20,
     "metadata": {
      "tags": []
     },
     "output_type": "execute_result"
    }
   ],
   "source": [
    "model2.fit(x_train,y_train,batch_size=500,epochs=20,validation_data=(x_test,y_test),callbacks=callback_list)"
   ]
  },
  {
   "cell_type": "code",
   "execution_count": 21,
   "metadata": {
    "colab": {
     "base_uri": "https://localhost:8080/"
    },
    "id": "nKELVrLGmj81",
    "outputId": "553b95e7-6680-4ede-df3c-973fe6994f11"
   },
   "outputs": [
    {
     "name": "stdout",
     "output_type": "stream",
     "text": [
      "Model: \"sequential_1\"\n",
      "_________________________________________________________________\n",
      "Layer (type)                 Output Shape              Param #   \n",
      "=================================================================\n",
      "conv2d_2 (Conv2D)            (None, 26, 26, 32)        320       \n",
      "_________________________________________________________________\n",
      "conv2d_3 (Conv2D)            (None, 24, 24, 32)        9248      \n",
      "_________________________________________________________________\n",
      "max_pooling2d (MaxPooling2D) (None, 12, 12, 32)        0         \n",
      "_________________________________________________________________\n",
      "dropout (Dropout)            (None, 12, 12, 32)        0         \n",
      "_________________________________________________________________\n",
      "flatten_1 (Flatten)          (None, 4608)              0         \n",
      "_________________________________________________________________\n",
      "dense_2 (Dense)              (None, 128)               589952    \n",
      "_________________________________________________________________\n",
      "dense_3 (Dense)              (None, 10)                1290      \n",
      "=================================================================\n",
      "Total params: 600,810\n",
      "Trainable params: 600,810\n",
      "Non-trainable params: 0\n",
      "_________________________________________________________________\n"
     ]
    }
   ],
   "source": [
    "model2.summary()"
   ]
  },
  {
   "cell_type": "markdown",
   "metadata": {
    "id": "lGTA3bfEJjwa"
   },
   "source": [
    "### Now, to the above model, lets add Data Augmentation "
   ]
  },
  {
   "cell_type": "markdown",
   "metadata": {
    "id": "F6gX8n5SJjwb"
   },
   "source": [
    "### Import the ImageDataGenrator from keras and fit the training images"
   ]
  },
  {
   "cell_type": "code",
   "execution_count": 22,
   "metadata": {
    "id": "wVqhj3QrtKeT"
   },
   "outputs": [],
   "source": [
    "from keras.preprocessing.image import ImageDataGenerator"
   ]
  },
  {
   "cell_type": "code",
   "execution_count": 25,
   "metadata": {
    "id": "Cbz4uHBuJjwc"
   },
   "outputs": [],
   "source": [
    "#ImageDataGenerator declaration with 20% data as test (80% for training)\n",
    "#datagen=ImageDataGenerator(rotation_range=20,\n",
    "#                           width_shift_range=0.2,\n",
    "#                           height_shift_range=0.2,\n",
    "#                           horizontal_flip=True,\n",
    "#                           validation_split=0.2)\n",
    "\n",
    "# this generates batches of image data with real-time data augmentation\n",
    "\n",
    "datagen = ImageDataGenerator(\n",
    "    featurewise_center=False, # set input mean to be 0 over the dataset\n",
    "    samplewise_center=False, # set each sample mean to 0\n",
    "    featurewise_std_normalization=False, # divide inputs by std of the dataset\n",
    "    samplewise_std_normalization=False, # divide each input by its std\n",
    "    zca_whitening=False, # apply ZCA whitening\n",
    "    rotation_range=50, # randomly rotate images in the range (0 to 180 degrees)\n",
    "    width_shift_range=0.1, # randomly shift images horizontally (fraction of total width)\n",
    "    height_shift_range=0.1, # randomly shift images vertically (fraction of total height)\n",
    "    horizontal_flip=False, # randomly flip images horizontally\n",
    "    vertical_flip=False # randomly flip images vertically\n",
    ")\n",
    "\n",
    "# prepare the generator\n",
    "datagen.fit(x_train)\n"
   ]
  },
  {
   "cell_type": "code",
   "execution_count": 23,
   "metadata": {
    "id": "BRfpp85frKeA"
   },
   "outputs": [],
   "source": []
  },
  {
   "cell_type": "markdown",
   "metadata": {
    "id": "pl-8dOo7Jjwf"
   },
   "source": [
    "#### Showing 5 versions of the first image in training dataset using image datagenerator.flow()"
   ]
  },
  {
   "cell_type": "code",
   "execution_count": 26,
   "metadata": {
    "colab": {
     "base_uri": "https://localhost:8080/",
     "height": 89
    },
    "id": "DpI1_McYJjwg",
    "outputId": "cd1ff248-b8e1-433a-9ff1-a1e05dac6e43",
    "scrolled": true
   },
   "outputs": [
    {
     "data": {
      "image/png": "[encoded data removed]",
      "text/plain": [
       "<Figure size 432x288 with 5 Axes>"
      ]
     },
     "metadata": {
      "needs_background": "light",
      "tags": []
     },
     "output_type": "display_data"
    }
   ],
   "source": [
    "from matplotlib import pyplot as plt\n",
    "gen = datagen.flow(x_train[0:1], batch_size=1)\n",
    "for i in range(1, 6):\n",
    "    plt.subplot(1,5,i)\n",
    "    plt.axis(\"off\")\n",
    "    plt.imshow(gen.next().squeeze(), cmap='gray')\n",
    "    plt.plot()\n",
    "plt.show()"
   ]
  },
  {
   "cell_type": "markdown",
   "metadata": {
    "id": "dmPl5yE8Jjwm"
   },
   "source": [
    "### Run the above model using fit_generator()"
   ]
  },
  {
   "cell_type": "code",
   "execution_count": 27,
   "metadata": {
    "colab": {
     "base_uri": "https://localhost:8080/"
    },
    "id": "44ZnDdJYJjwn",
    "outputId": "7247674b-4510-4c5c-ad52-a3c03b69a500"
   },
   "outputs": [
    {
     "name": "stderr",
     "output_type": "stream",
     "text": [
      "/usr/local/lib/python3.6/dist-packages/tensorflow/python/keras/engine/training.py:1844: UserWarning: `Model.fit_generator` is deprecated and will be removed in a future version. Please use `Model.fit`, which supports generators.\n",
      "  warnings.warn('`Model.fit_generator` is deprecated and '\n"
     ]
    },
    {
     "name": "stdout",
     "output_type": "stream",
     "text": [
      "Epoch 1/20\n",
      "1875/1875 [==============================] - 18s 9ms/step - loss: 1.0078 - accuracy: 0.6315 - val_loss: 0.5786 - val_accuracy: 0.7770\n",
      "Epoch 2/20\n",
      "1875/1875 [==============================] - 17s 9ms/step - loss: 0.6096 - accuracy: 0.7702 - val_loss: 0.4783 - val_accuracy: 0.8274\n",
      "Epoch 3/20\n",
      "1875/1875 [==============================] - 18s 9ms/step - loss: 0.5290 - accuracy: 0.8011 - val_loss: 0.4723 - val_accuracy: 0.8297\n",
      "Epoch 4/20\n",
      "1875/1875 [==============================] - 18s 9ms/step - loss: 0.4907 - accuracy: 0.8159 - val_loss: 0.4378 - val_accuracy: 0.8367\n",
      "Epoch 5/20\n",
      "1875/1875 [==============================] - 18s 9ms/step - loss: 0.4561 - accuracy: 0.8263 - val_loss: 0.4111 - val_accuracy: 0.8510\n",
      "Epoch 6/20\n",
      "1875/1875 [==============================] - 17s 9ms/step - loss: 0.4355 - accuracy: 0.8342 - val_loss: 0.3837 - val_accuracy: 0.8647\n",
      "Epoch 7/20\n",
      "1875/1875 [==============================] - 17s 9ms/step - loss: 0.4206 - accuracy: 0.8441 - val_loss: 0.3828 - val_accuracy: 0.8610\n",
      "Epoch 8/20\n",
      "1875/1875 [==============================] - 18s 9ms/step - loss: 0.4151 - accuracy: 0.8443 - val_loss: 0.3995 - val_accuracy: 0.8499\n",
      "Epoch 9/20\n",
      "1875/1875 [==============================] - 18s 9ms/step - loss: 0.3937 - accuracy: 0.8552 - val_loss: 0.3520 - val_accuracy: 0.8732\n",
      "Epoch 10/20\n",
      "1875/1875 [==============================] - 18s 9ms/step - loss: 0.3954 - accuracy: 0.8519 - val_loss: 0.3549 - val_accuracy: 0.8737\n",
      "Epoch 11/20\n",
      "1875/1875 [==============================] - 18s 9ms/step - loss: 0.3884 - accuracy: 0.8572 - val_loss: 0.3642 - val_accuracy: 0.8690\n",
      "Epoch 12/20\n",
      "1875/1875 [==============================] - 18s 9ms/step - loss: 0.3722 - accuracy: 0.8616 - val_loss: 0.3669 - val_accuracy: 0.8692\n",
      "Epoch 13/20\n",
      "1875/1875 [==============================] - 17s 9ms/step - loss: 0.3689 - accuracy: 0.8631 - val_loss: 0.3478 - val_accuracy: 0.8758\n",
      "Epoch 14/20\n",
      "1875/1875 [==============================] - 18s 9ms/step - loss: 0.3595 - accuracy: 0.8683 - val_loss: 0.3354 - val_accuracy: 0.8767\n",
      "Epoch 15/20\n",
      "1875/1875 [==============================] - 17s 9ms/step - loss: 0.3632 - accuracy: 0.8678 - val_loss: 0.3554 - val_accuracy: 0.8742\n",
      "Epoch 16/20\n",
      "1875/1875 [==============================] - 18s 9ms/step - loss: 0.3568 - accuracy: 0.8666 - val_loss: 0.3511 - val_accuracy: 0.8741\n",
      "Epoch 17/20\n",
      "1875/1875 [==============================] - 18s 10ms/step - loss: 0.3505 - accuracy: 0.8696 - val_loss: 0.3629 - val_accuracy: 0.8713\n",
      "Epoch 18/20\n",
      "1875/1875 [==============================] - 18s 10ms/step - loss: 0.3489 - accuracy: 0.8715 - val_loss: 0.3285 - val_accuracy: 0.8803\n",
      "Epoch 19/20\n",
      "1875/1875 [==============================] - 18s 10ms/step - loss: 0.3499 - accuracy: 0.8700 - val_loss: 0.3263 - val_accuracy: 0.8839\n",
      "Epoch 20/20\n",
      "1875/1875 [==============================] - 18s 10ms/step - loss: 0.3401 - accuracy: 0.8767 - val_loss: 0.3282 - val_accuracy: 0.8834\n"
     ]
    },
    {
     "data": {
      "text/plain": [
       "<tensorflow.python.keras.callbacks.History at 0x7f7370392eb8>"
      ]
     },
     "execution_count": 27,
     "metadata": {
      "tags": []
     },
     "output_type": "execute_result"
    }
   ],
   "source": [
    "#Initialize Sequential model\n",
    "model3 = keras.models.Sequential()\n",
    "\n",
    "## add 2 conv layers\n",
    "model3.add(Convolution2D(32,(3,3),activation='relu',input_shape=(28,28,1)))\n",
    "model3.add(Convolution2D(32,(3,3),activation='relu'))\n",
    "model3.add(MaxPool2D((2,2)))\n",
    "model3.add(Dropout(0.25))\n",
    "model3.add(Flatten())\n",
    "\n",
    "# Adding Hidden Layers and Output Layer\n",
    "model3.add(Dense(128, activation='relu'))\n",
    "model3.add(Dense(10, activation='softmax'))\n",
    "\n",
    "## Loss and Optimizer\n",
    "model3.compile(loss='categorical_crossentropy',optimizer='adam',metrics=['accuracy'])\n",
    "\n",
    "## callback\n",
    "early_stopping=keras.callbacks.EarlyStopping(monitor='val_accuracy',patience=5,verbose=1,mode='auto',min_delta=0.001)\n",
    "callback_list=[early_stopping]\n",
    "model3.fit_generator(datagen.flow(x_train,y_train,batch_size=32),steps_per_epoch=x_train.shape[0]/32,epochs=20,validation_data=(x_test,y_test),callbacks=callback_list)"
   ]
  },
  {
   "cell_type": "markdown",
   "metadata": {
    "id": "MwQQW5iOJjwq"
   },
   "source": [
    "###  Report the final train and validation accuracy"
   ]
  },
  {
   "cell_type": "code",
   "execution_count": 29,
   "metadata": {
    "colab": {
     "base_uri": "https://localhost:8080/"
    },
    "id": "c1SrtBEPJjwq",
    "outputId": "8884b872-6410-4d95-a587-cc5f2799f181"
   },
   "outputs": [
    {
     "data": {
      "text/plain": [
       "<tensorflow.python.keras.callbacks.EarlyStopping at 0x7f73703dfb00>"
      ]
     },
     "execution_count": 29,
     "metadata": {
      "tags": []
     },
     "output_type": "execute_result"
    }
   ],
   "source": [
    "callback_list[0]"
   ]
  },
  {
   "cell_type": "code",
   "execution_count": 31,
   "metadata": {
    "colab": {
     "base_uri": "https://localhost:8080/"
    },
    "id": "ZBwVWNQC2qZD",
    "outputId": "b11e8134-e7e0-47c4-d90e-903a45c87fe8"
   },
   "outputs": [
    {
     "name": "stdout",
     "output_type": "stream",
     "text": [
      "313/313 [==============================] - 1s 2ms/step - loss: 0.3282 - accuracy: 0.8834\n"
     ]
    },
    {
     "data": {
      "text/plain": [
       "[0.3282024562358856, 0.883400022983551]"
      ]
     },
     "execution_count": 31,
     "metadata": {
      "tags": []
     },
     "output_type": "execute_result"
    }
   ],
   "source": [
    "# Validation accuracy\n",
    "model3.evaluate(x_test,y_test)"
   ]
  },
  {
   "cell_type": "code",
   "execution_count": 35,
   "metadata": {
    "colab": {
     "base_uri": "https://localhost:8080/"
    },
    "id": "hTAMsucD5FV1",
    "outputId": "f0de9c46-853b-43c4-d3e7-2ea57a61f5b0"
   },
   "outputs": [
    {
     "name": "stdout",
     "output_type": "stream",
     "text": [
      "1875/1875 [==============================] - 4s 2ms/step - loss: 0.2837 - accuracy: 0.8950\n"
     ]
    },
    {
     "data": {
      "text/plain": [
       "[0.2837352752685547, 0.8950333595275879]"
      ]
     },
     "execution_count": 35,
     "metadata": {
      "tags": []
     },
     "output_type": "execute_result"
    }
   ],
   "source": [
    "# Training Accuracy\n",
    "model3.evaluate(x_train,y_train)"
   ]
  },
  {
   "cell_type": "code",
   "execution_count": null,
   "metadata": {
    "id": "G1sWLAgT7T97"
   },
   "outputs": [],
   "source": [
    "checkpoint_filepath = '/tmp/checkpoint'\n",
    "model_checkpoint_callback = callbacks.ModelCheckpoint(\n",
    "    filepath=checkpoint_filepath,\n",
    "    save_best_only=True,\n",
    "    monitor='val_accuracy'\n",
    "    mode='max'\n",
    "    save_weights_only=True\n",
    ")\n",
    "\n",
    "model.fit(epoch=20, callbacks)\n",
    "\n",
    "model.load_weights(checkpoint_filepath)\n"
   ]
  },
  {
   "cell_type": "markdown",
   "metadata": {
    "id": "8KXqmUDW2rM1"
   },
   "source": [
    "## **DATA AUGMENTATION ON CIFAR10 DATASET**"
   ]
  },
  {
   "cell_type": "markdown",
   "metadata": {
    "id": "8mja6OgQ3L18"
   },
   "source": [
    "One of the best ways to improve the performance of a Deep Learning model is to add more data to the training set. Aside from gathering more instances from the wild that are representative of the distinction task, we want to develop a set of methods that enhance the data we already have. There are many ways to augment existing datasets and produce more robust models. In the image domain, these are done to utilize the full power of the convolutional neural network, which is able to capture translational invariance. This translational invariance is what makes image recognition such a difficult task in the first place. You want the dataset to be representative of the many different positions, angles, lightings, and miscellaneous distortions that are of interest to the vision task."
   ]
  },
  {
   "cell_type": "markdown",
   "metadata": {
    "id": "6HzVTPUM3WZJ"
   },
   "source": [
    "### **Import neessary libraries for data augmentation**"
   ]
  },
  {
   "cell_type": "code",
   "execution_count": 24,
   "metadata": {
    "id": "PPM558TX4KMb"
   },
   "outputs": [],
   "source": []
  },
  {
   "cell_type": "markdown",
   "metadata": {
    "id": "W6hicLwP4SqY"
   },
   "source": [
    "### **Load CIFAR10 dataset**"
   ]
  },
  {
   "cell_type": "code",
   "execution_count": 36,
   "metadata": {
    "colab": {
     "base_uri": "https://localhost:8080/"
    },
    "id": "NQ1WzrXd4WNk",
    "outputId": "21eb6231-a078-4152-ec1e-eb5d8d94ae86"
   },
   "outputs": [
    {
     "name": "stdout",
     "output_type": "stream",
     "text": [
      "Downloading data from https://www.cs.toronto.edu/~kriz/cifar-10-python.tar.gz\n",
      "170500096/170498071 [==============================] - 2s 0us/step\n"
     ]
    }
   ],
   "source": [
    "from keras.datasets import cifar10\n",
    "(X_train, Y_train), (X_test, Y_test) = cifar10.load_data()"
   ]
  },
  {
   "cell_type": "code",
   "execution_count": 37,
   "metadata": {
    "colab": {
     "base_uri": "https://localhost:8080/"
    },
    "id": "R9Pht1ggHuiT",
    "outputId": "e684c037-b2c6-480a-de2b-b1b1fc0d9c83"
   },
   "outputs": [
    {
     "data": {
      "text/plain": [
       "(50000, 32, 32, 3)"
      ]
     },
     "execution_count": 37,
     "metadata": {
      "tags": []
     },
     "output_type": "execute_result"
    }
   ],
   "source": [
    "X_train.shape"
   ]
  },
  {
   "cell_type": "code",
   "execution_count": 38,
   "metadata": {
    "colab": {
     "base_uri": "https://localhost:8080/"
    },
    "id": "3n28ccU6Hp6s",
    "outputId": "a168b6fc-4699-4cd9-8f5d-949ef6099727"
   },
   "outputs": [
    {
     "data": {
      "text/plain": [
       "(10000, 32, 32, 3)"
      ]
     },
     "execution_count": 38,
     "metadata": {
      "tags": []
     },
     "output_type": "execute_result"
    }
   ],
   "source": [
    "X_test.shape"
   ]
  },
  {
   "cell_type": "markdown",
   "metadata": {
    "id": "JN3vYYhK4W0u"
   },
   "source": [
    "### **Create a data_gen funtion to genererator with image rotation,shifting image horizontally and vertically with random flip horizontally.**"
   ]
  },
  {
   "cell_type": "code",
   "execution_count": 39,
   "metadata": {
    "id": "JJbekTKi4cmM"
   },
   "outputs": [],
   "source": [
    "datagen = ImageDataGenerator(\n",
    "    featurewise_center=False, # set input mean to be 0 over the dataset\n",
    "    samplewise_center=False, # set each sample mean to 0\n",
    "    featurewise_std_normalization=False, # divide inputs by std of the dataset\n",
    "    samplewise_std_normalization=False, # divide each input by its std\n",
    "    zca_whitening=False, # apply ZCA whitening\n",
    "    rotation_range=50, # randomly rotate images in the range (0 to 180 degrees)\n",
    "    width_shift_range=0.1, # randomly shift images horizontally (fraction of total width)\n",
    "    height_shift_range=0.1, # randomly shift images vertically (fraction of total height)\n",
    "    horizontal_flip=True, # randomly flip images horizontally\n",
    "    vertical_flip=True # randomly flip images vertically\n",
    ")"
   ]
  },
  {
   "cell_type": "markdown",
   "metadata": {
    "id": "e-SLtUhC4dK2"
   },
   "source": [
    "### **Prepare/fit the generator.**"
   ]
  },
  {
   "cell_type": "code",
   "execution_count": 40,
   "metadata": {
    "id": "CSw8Bv2_4hb0"
   },
   "outputs": [],
   "source": [
    "# prepare the generator\n",
    "datagen.fit(X_train)"
   ]
  },
  {
   "cell_type": "markdown",
   "metadata": {
    "id": "gYyF-P8O4jQ8"
   },
   "source": [
    "### **Generate 5 images for 1 of the image of CIFAR10 train dataset.**"
   ]
  },
  {
   "cell_type": "code",
   "execution_count": 50,
   "metadata": {
    "colab": {
     "base_uri": "https://localhost:8080/",
     "height": 89
    },
    "id": "mXug4z234mwQ",
    "outputId": "98649b4b-891d-4a8a-8d01-5f6e2782f988"
   },
   "outputs": [
    {
     "data": {
      "image/png": "[encoded data removed]",
      "text/plain": [
       "<Figure size 432x288 with 5 Axes>"
      ]
     },
     "metadata": {
      "needs_background": "light",
      "tags": []
     },
     "output_type": "display_data"
    }
   ],
   "source": [
    "from matplotlib import pyplot as plt\n",
    "gen = datagen.flow(X_train[4:5], batch_size=1)\n",
    "for i in range(1, 6):\n",
    "    plt.subplot(1,5,i)\n",
    "    plt.axis(\"off\")\n",
    "    plt.imshow(gen.next().astype('uint8').squeeze())\n",
    "    plt.plot()\n",
    "plt.show()"
   ]
  },
  {
   "cell_type": "code",
   "execution_count": null,
   "metadata": {
    "id": "iYpOQKE-9Kpp"
   },
   "outputs": [],
   "source": []
  }
 ],
 "metadata": {
  "accelerator": "GPU",
  "colab": {
   "collapsed_sections": [],
   "name": "Questions - Lab on Computer Vision with CNN.ipynb",
   "provenance": []
  },
  "kernelspec": {
   "display_name": "Python 3",
   "language": "python",
   "name": "python3"
  },
  "language_info": {
   "codemirror_mode": {
    "name": "ipython",
    "version": 3
   },
   "file_extension": ".py",
   "mimetype": "text/x-python",
   "name": "python",
   "nbconvert_exporter": "python",
   "pygments_lexer": "ipython3",
   "version": "3.7.4"
  }
 },
 "nbformat": 4,
 "nbformat_minor": 1
}
