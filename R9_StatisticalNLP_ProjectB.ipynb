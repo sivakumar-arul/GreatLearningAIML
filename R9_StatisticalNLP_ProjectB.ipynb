{
  "nbformat": 4,
  "nbformat_minor": 0,
  "metadata": {
    "accelerator": "GPU",
    "colab": {
      "name": "R9_StatisticalNLP_ProjectB",
      "provenance": [],
      "collapsed_sections": [],
      "toc_visible": true
    },
    "kernelspec": {
      "display_name": "Python 3",
      "name": "python3"
    }
  },
  "cells": [
    {
      "cell_type": "markdown",
      "metadata": {
        "id": "FbwHYUXhxaqD"
      },
      "source": [
        "## Project B\n",
        "\n",
        "Project description- Classification is probably the most popular task that you would deal with in real life. Text in the form of blogs, posts, articles, etc. is written every second. It is a challenge to predict the information about the writer without knowing about him/her. We are going to create a classifier that predicts multiple features of the author of a given text. We have designed it as a Multi label classification problem. \n"
      ]
    },
    {
      "cell_type": "markdown",
      "metadata": {
        "id": "jI4vHQQHhWt8"
      },
      "source": [
        "## Dataset\n",
        "\n",
        "Blog Authorship Corpus\n",
        "Over 600,000 posts from more than 19 thousand bloggers\n",
        "The Blog Authorship Corpus consists of the collected posts of 19,320 bloggers gathered from\n",
        "blogger.com in August 2004. The corpus incorporates a total of 681,288 posts and over 140 million\n",
        "words - or approximately 35 posts and 7250 words per person.\n",
        "\n",
        "\n",
        "Each blog is presented as a separate file, the name of which indicates a blogger id# and the\n",
        "blogger’s self-provided gender, age, industry, and astrological sign. (All are labeled for gender and\n",
        "age but for many, industry and/or sign is marked as unknown.)\n",
        "All bloggers included in the corpus fall into one of three age groups:\n",
        "8240 \"10s\" blogs (ages 13-17),\n",
        "8086 \"20s\" blogs(ages 23-27)\n",
        "2994 \"30s\" blogs (ages 33-47)\n",
        "For each age group, there is an equal number of male and female bloggers.\n",
        "\n",
        "\n",
        "Each blog in the corpus includes at least 200 occurrences of common English words. All formatting\n",
        "has been stripped with two exceptions. Individual posts within a single blogger are separated by the\n",
        "date of the following post and links within a post are denoted by the label urllink.\n",
        "Link to dataset: https://www.kaggle.com/rtatman/blog-authorship-corpus"
      ]
    },
    {
      "cell_type": "markdown",
      "metadata": {
        "id": "cEn52o8jznJK"
      },
      "source": [
        "## Table of Content\n",
        "\n",
        "1. Load the dataset (5 points)\n",
        "a. Tip: As the dataset is large, use fewer rows. Check what is working well on your\n",
        "machine and decide accordingly.\n",
        "\n",
        "2. Preprocess rows of the “text” column (7.5 points)\n",
        "a. Remove unwanted characters\n",
        "b. Convert text to lowercase\n",
        "c. Remove unwanted spaces\n",
        "d. Remove stopwords\n",
        "\n",
        "3. As we want to make this into a multi-label classification problem, you are required to merge\n",
        "all the label columns together, so that we have all the labels together for a particular sentence\n",
        "(7.5 points)\n",
        "a. Label columns to merge: “gender”, “age”, “topic”, “sign”\n",
        "b. After completing the previous step, there should be only two columns in your data\n",
        "frame i.e. “text” and “labels” as shown in the below image\n",
        "\n",
        "4. Separate features and labels, and split the data into training and testing (5 points)\n",
        "\n",
        "5. Vectorize the features (5 points)\n",
        "a. Create a Bag of Words using count vectorizer\n",
        "i. Use ngram_range=(1, 2)\n",
        "ii. Vectorize training and testing features\n",
        "b. Print the term-document matrix\n",
        "\n",
        "6. Create a dictionary to get the count of every label i.e. the key will be label name and value will\n",
        "be the total count of the label. Check below image for reference (5 points)\n",
        "\n",
        "7. Transform the labels - (7.5 points)\n",
        "As we have noticed before, in this task each example can have multiple tags. To deal with\n",
        "such kind of prediction, we need to transform labels in a binary form and the prediction will be\n",
        "a mask of 0s and 1s. For this purpose, it is convenient to use MultiLabelBinarizer from sklearn\n",
        "a. Convert your train and test labels using MultiLabelBinarizer\n",
        "\n",
        "8. Choose a classifier - (5 points)\n",
        "In this task, we suggest using the One-vs-Rest approach, which is implemented in\n",
        "OneVsRestClassifier class. In this approach k classifiers (= number of tags) are trained. As a\n",
        "basic classifier, use LogisticRegression . It is one of the simplest methods, but often it\n",
        "performs good enough in text classification tasks. It might take some time because the\n",
        "number of classifiers to train is large.\n",
        "a. Use a linear classifier of your choice, wrap it up in OneVsRestClassifier to train it on\n",
        "every label\n",
        "b. As One-vs-Rest approach might not have been discussed in the sessions, we are\n",
        "providing you the code for that\n",
        "\n",
        "9. Fit the classifier, make predictions and get the accuracy (5 points)\n",
        "a. Print the following\n",
        "i. Accuracy score\n",
        "ii. F1 score\n",
        "iii. Average precision score\n",
        "iv. Average recall score\n",
        "v. Tip: Make sure you are familiar with all of them. How would you expect the\n",
        "things to work for the multi-label scenario? Read about micro/macro/weighted\n",
        "averaging\n",
        "\n",
        "10. Print true label and predicted label for any five examples (7.5 points)"
      ]
    },
    {
      "cell_type": "code",
      "metadata": {
        "id": "fD9O80yJhEfC"
      },
      "source": [
        ""
      ],
      "execution_count": null,
      "outputs": []
    },
    {
      "cell_type": "markdown",
      "metadata": {
        "id": "x_Lom6cXzqn7"
      },
      "source": [
        "## 1. Import Libraries"
      ]
    },
    {
      "cell_type": "markdown",
      "metadata": {
        "id": "FZtVstH8zre2"
      },
      "source": [
        "Let us start by mounting the drive"
      ]
    },
    {
      "cell_type": "code",
      "metadata": {
        "id": "xv9jxv3-R5Xl",
        "colab": {
          "base_uri": "https://localhost:8080/"
        },
        "outputId": "06cb8e26-c298-49b2-acba-ab106c9edd8b"
      },
      "source": [
        "from google.colab import drive\n",
        "drive.mount('/content/drive')"
      ],
      "execution_count": null,
      "outputs": [
        {
          "output_type": "stream",
          "text": [
            "Mounted at /content/drive\n"
          ],
          "name": "stdout"
        }
      ]
    },
    {
      "cell_type": "markdown",
      "metadata": {
        "id": "Gv-tZoFjz2WD"
      },
      "source": [
        "Let us check for the version of installed tensorflow."
      ]
    },
    {
      "cell_type": "code",
      "metadata": {
        "id": "eiuUVBuDzzn9",
        "colab": {
          "base_uri": "https://localhost:8080/"
        },
        "outputId": "0d59aa4e-2b46-4af0-e78d-9d32fc7758f5"
      },
      "source": [
        "# used to supress display of warnings\n",
        "import warnings\n",
        "\n",
        "# os is used to provide a way of using operating system dependent functionality\n",
        "# We use it for setting working folder\n",
        "import os\n",
        "\n",
        "# Pandas is used for data manipulation and analysis\n",
        "import pandas as pd \n",
        "\n",
        "# Numpy is used for large, multi-dimensional arrays and matrices, along with mathematical operators on these arrays\n",
        "import numpy as np\n",
        "\n",
        "# Matplotlib is a data visualization library for 2D plots of arrays, built on NumPy arrays \n",
        "# and designed to work with the broader SciPy stack\n",
        "import matplotlib.pyplot as plt\n",
        "%matplotlib inline\n",
        "from matplotlib import pyplot\n",
        "\n",
        "import gc\n",
        "gc.enable\n",
        "\n",
        "pd.options.mode.chained_assignment = None\n",
        "import re\n",
        "import nltk\n",
        "import spacy\n",
        "import string\n",
        "import seaborn as sns\n",
        "\n",
        "# Seaborn is based on matplotlib, which aids in drawing attractive and informative statistical graphics.\n",
        "import seaborn as sns\n",
        "import tensorflow \n",
        "print(tensorflow.__version__)"
      ],
      "execution_count": null,
      "outputs": [
        {
          "output_type": "stream",
          "text": [
            "2.4.1\n"
          ],
          "name": "stdout"
        }
      ]
    },
    {
      "cell_type": "markdown",
      "metadata": {
        "id": "fze-aokU0ukH"
      },
      "source": [
        "## 2. Setting Options"
      ]
    },
    {
      "cell_type": "code",
      "metadata": {
        "id": "T3FALggG0xXa"
      },
      "source": [
        "# suppress display of warnings\n",
        "warnings.filterwarnings('ignore')\n",
        "\n",
        "# display all dataframe columns\n",
        "pd.options.display.max_columns = None\n",
        "\n",
        "# to set the limit to 3 decimals\n",
        "pd.options.display.float_format = '{:.7f}'.format\n",
        "\n",
        "# display all dataframe rows\n",
        "pd.options.display.max_rows = None"
      ],
      "execution_count": null,
      "outputs": []
    },
    {
      "cell_type": "markdown",
      "metadata": {
        "id": "ZT1P1WdK1vfZ"
      },
      "source": [
        "## 3. Read Data"
      ]
    },
    {
      "cell_type": "markdown",
      "metadata": {
        "id": "-UOW6zwww7L1"
      },
      "source": [
        "### 3.1 Read the provided CSVs and check 5 random samples and shape to understand the datasets"
      ]
    },
    {
      "cell_type": "code",
      "metadata": {
        "id": "tEf4TSLzlo_x",
        "colab": {
          "resources": {
            "http://localhost:8080/nbextensions/google.colab/files.js": {
              "data": "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",
              "ok": true,
              "headers": [
                [
                  "content-type",
                  "application/javascript"
                ]
              ],
              "status": 200,
              "status_text": ""
            }
          },
          "base_uri": "https://localhost:8080/",
          "height": 86
        },
        "outputId": "89f3823a-461a-4f19-b596-46a29f37f305"
      },
      "source": [
        "# For Colabs Setup\n",
        "from google.colab import files\n",
        "files.upload() #upload kaggle.json"
      ],
      "execution_count": null,
      "outputs": [
        {
          "output_type": "display_data",
          "data": {
            "text/html": [
              "\n",
              "     <input type=\"file\" id=\"files-5298fc83-0527-4687-8e13-7115e60b6326\" name=\"files[]\" multiple disabled\n",
              "        style=\"border:none\" />\n",
              "     <output id=\"result-5298fc83-0527-4687-8e13-7115e60b6326\">\n",
              "      Upload widget is only available when the cell has been executed in the\n",
              "      current browser session. Please rerun this cell to enable.\n",
              "      </output>\n",
              "      <script src=\"/nbextensions/google.colab/files.js\"></script> "
            ],
            "text/plain": [
              "<IPython.core.display.HTML object>"
            ]
          },
          "metadata": {
            "tags": []
          }
        },
        {
          "output_type": "stream",
          "text": [
            "Saving kaggle.json to kaggle.json\n"
          ],
          "name": "stdout"
        },
        {
          "output_type": "execute_result",
          "data": {
            "text/plain": [
              "{'kaggle.json': b'{\"username\":\"vvsiva03\",\"key\":\"d898ff478e8c48c9362abd7473073368\"}'}"
            ]
          },
          "metadata": {
            "tags": []
          },
          "execution_count": 4
        }
      ]
    },
    {
      "cell_type": "code",
      "metadata": {
        "id": "ZoKFDLiKjJdW",
        "colab": {
          "base_uri": "https://localhost:8080/"
        },
        "outputId": "2a71562a-ee30-4121-d531-24896fad6910"
      },
      "source": [
        "# Using Files directly  from Kaggle through package\n",
        "!pip install -q kaggle\n",
        "!mkdir -p ~/.kaggle\n",
        "!cp kaggle.json ~/.kaggle/\n",
        "!ls ~/.kaggle\n",
        "!chmod 600 /root/.kaggle/kaggle.json\n",
        "!kaggle datasets download -d rtatman/blog-authorship-corpus\n",
        "!unzip -q blog-authorship-corpus.zip"
      ],
      "execution_count": null,
      "outputs": [
        {
          "output_type": "stream",
          "text": [
            "kaggle.json\n",
            "Downloading blog-authorship-corpus.zip to /content\n",
            " 99% 286M/290M [00:03<00:00, 106MB/s]\n",
            "100% 290M/290M [00:03<00:00, 98.8MB/s]\n"
          ],
          "name": "stdout"
        }
      ]
    },
    {
      "cell_type": "code",
      "metadata": {
        "id": "u0ymshuXlJa4",
        "colab": {
          "base_uri": "https://localhost:8080/"
        },
        "outputId": "633d2981-d142-4462-bea3-208bfdb812d6"
      },
      "source": [
        "!ls ~/.kaggle"
      ],
      "execution_count": null,
      "outputs": [
        {
          "output_type": "stream",
          "text": [
            "kaggle.json\n"
          ],
          "name": "stdout"
        }
      ]
    },
    {
      "cell_type": "code",
      "metadata": {
        "id": "4uDU6DC4pVqm",
        "colab": {
          "base_uri": "https://localhost:8080/"
        },
        "outputId": "f149f62c-91aa-418c-e231-cb2a530ec494"
      },
      "source": [
        "input_path =\"/content/blogtext.csv\"\n",
        "\n",
        "## just importing small set from original recordset of 681k to start with the process\n",
        "pd_blog = pd.read_csv(input_path,nrows=50000,index_col=False)\n",
        "\n",
        "pd_blog.shape\n",
        "\n",
        "# droping id and date columns\n",
        "#data_orignal.drop(labels=['id','date'], axis=1,inplace=True)\n",
        "\n",
        "# the next step is to randomize the rows of the data\n",
        "#data_orignal = data_orignal.sample(frac=1).reset_index(drop=True)\n",
        "\n",
        "# gc.collect()"
      ],
      "execution_count": null,
      "outputs": [
        {
          "output_type": "execute_result",
          "data": {
            "text/plain": [
              "(50000, 7)"
            ]
          },
          "metadata": {
            "tags": []
          },
          "execution_count": 49
        }
      ]
    },
    {
      "cell_type": "code",
      "metadata": {
        "id": "zqQS5SFPs05t",
        "colab": {
          "base_uri": "https://localhost:8080/",
          "height": 191
        },
        "outputId": "1355ccfb-8425-4cbf-c197-33ede7c48efe"
      },
      "source": [
        "pd_blog.head()"
      ],
      "execution_count": null,
      "outputs": [
        {
          "output_type": "execute_result",
          "data": {
            "text/html": [
              "<div>\n",
              "<style scoped>\n",
              "    .dataframe tbody tr th:only-of-type {\n",
              "        vertical-align: middle;\n",
              "    }\n",
              "\n",
              "    .dataframe tbody tr th {\n",
              "        vertical-align: top;\n",
              "    }\n",
              "\n",
              "    .dataframe thead th {\n",
              "        text-align: right;\n",
              "    }\n",
              "</style>\n",
              "<table border=\"1\" class=\"dataframe\">\n",
              "  <thead>\n",
              "    <tr style=\"text-align: right;\">\n",
              "      <th></th>\n",
              "      <th>id</th>\n",
              "      <th>gender</th>\n",
              "      <th>age</th>\n",
              "      <th>topic</th>\n",
              "      <th>sign</th>\n",
              "      <th>date</th>\n",
              "      <th>text</th>\n",
              "    </tr>\n",
              "  </thead>\n",
              "  <tbody>\n",
              "    <tr>\n",
              "      <th>0</th>\n",
              "      <td>2059027</td>\n",
              "      <td>male</td>\n",
              "      <td>15</td>\n",
              "      <td>Student</td>\n",
              "      <td>Leo</td>\n",
              "      <td>14,May,2004</td>\n",
              "      <td>Info has been found (+/- 100 pages,...</td>\n",
              "    </tr>\n",
              "    <tr>\n",
              "      <th>1</th>\n",
              "      <td>2059027</td>\n",
              "      <td>male</td>\n",
              "      <td>15</td>\n",
              "      <td>Student</td>\n",
              "      <td>Leo</td>\n",
              "      <td>13,May,2004</td>\n",
              "      <td>These are the team members:   Drewe...</td>\n",
              "    </tr>\n",
              "    <tr>\n",
              "      <th>2</th>\n",
              "      <td>2059027</td>\n",
              "      <td>male</td>\n",
              "      <td>15</td>\n",
              "      <td>Student</td>\n",
              "      <td>Leo</td>\n",
              "      <td>12,May,2004</td>\n",
              "      <td>In het kader van kernfusie op aarde...</td>\n",
              "    </tr>\n",
              "    <tr>\n",
              "      <th>3</th>\n",
              "      <td>2059027</td>\n",
              "      <td>male</td>\n",
              "      <td>15</td>\n",
              "      <td>Student</td>\n",
              "      <td>Leo</td>\n",
              "      <td>12,May,2004</td>\n",
              "      <td>testing!!!  testing!!!</td>\n",
              "    </tr>\n",
              "    <tr>\n",
              "      <th>4</th>\n",
              "      <td>3581210</td>\n",
              "      <td>male</td>\n",
              "      <td>33</td>\n",
              "      <td>InvestmentBanking</td>\n",
              "      <td>Aquarius</td>\n",
              "      <td>11,June,2004</td>\n",
              "      <td>Thanks to Yahoo!'s Toolbar I can ...</td>\n",
              "    </tr>\n",
              "  </tbody>\n",
              "</table>\n",
              "</div>"
            ],
            "text/plain": [
              "        id gender  age              topic      sign          date  \\\n",
              "0  2059027   male   15            Student       Leo   14,May,2004   \n",
              "1  2059027   male   15            Student       Leo   13,May,2004   \n",
              "2  2059027   male   15            Student       Leo   12,May,2004   \n",
              "3  2059027   male   15            Student       Leo   12,May,2004   \n",
              "4  3581210   male   33  InvestmentBanking  Aquarius  11,June,2004   \n",
              "\n",
              "                                                text  \n",
              "0             Info has been found (+/- 100 pages,...  \n",
              "1             These are the team members:   Drewe...  \n",
              "2             In het kader van kernfusie op aarde...  \n",
              "3                   testing!!!  testing!!!            \n",
              "4               Thanks to Yahoo!'s Toolbar I can ...  "
            ]
          },
          "metadata": {
            "tags": []
          },
          "execution_count": 50
        }
      ]
    },
    {
      "cell_type": "code",
      "metadata": {
        "id": "p7lO7PGPji3t"
      },
      "source": [
        "# Remove fields id and date \n",
        "pd_blog.drop(labels=['id','date'], axis=1,inplace=True)\n"
      ],
      "execution_count": null,
      "outputs": []
    },
    {
      "cell_type": "code",
      "metadata": {
        "id": "bFpO4izEuCjW",
        "colab": {
          "base_uri": "https://localhost:8080/"
        },
        "outputId": "86bd5959-cd56-42aa-bc5f-262e6506fa1f"
      },
      "source": [
        "pd_blog.info()"
      ],
      "execution_count": null,
      "outputs": [
        {
          "output_type": "stream",
          "text": [
            "<class 'pandas.core.frame.DataFrame'>\n",
            "RangeIndex: 50000 entries, 0 to 49999\n",
            "Data columns (total 5 columns):\n",
            " #   Column  Non-Null Count  Dtype \n",
            "---  ------  --------------  ----- \n",
            " 0   gender  50000 non-null  object\n",
            " 1   age     50000 non-null  int64 \n",
            " 2   topic   50000 non-null  object\n",
            " 3   sign    50000 non-null  object\n",
            " 4   text    50000 non-null  object\n",
            "dtypes: int64(1), object(4)\n",
            "memory usage: 1.9+ MB\n"
          ],
          "name": "stdout"
        }
      ]
    },
    {
      "cell_type": "markdown",
      "metadata": {
        "id": "rED6DbDBKTjM"
      },
      "source": [
        "## 4.  Data Preprocessing for text column"
      ]
    },
    {
      "cell_type": "code",
      "metadata": {
        "id": "N1ooUoPlyrxj"
      },
      "source": [
        "pd_blog1=pd_blog.copy(deep=False)"
      ],
      "execution_count": null,
      "outputs": []
    },
    {
      "cell_type": "code",
      "metadata": {
        "id": "rEeHIu8WyXbX",
        "colab": {
          "base_uri": "https://localhost:8080/",
          "height": 191
        },
        "outputId": "42b52489-99b7-4d33-8865-43510536d2d7"
      },
      "source": [
        "pd_blog1[\"text_lower\"] = pd_blog1[\"text\"].str.lower()\n",
        "pd_blog1.head()"
      ],
      "execution_count": null,
      "outputs": [
        {
          "output_type": "execute_result",
          "data": {
            "text/html": [
              "<div>\n",
              "<style scoped>\n",
              "    .dataframe tbody tr th:only-of-type {\n",
              "        vertical-align: middle;\n",
              "    }\n",
              "\n",
              "    .dataframe tbody tr th {\n",
              "        vertical-align: top;\n",
              "    }\n",
              "\n",
              "    .dataframe thead th {\n",
              "        text-align: right;\n",
              "    }\n",
              "</style>\n",
              "<table border=\"1\" class=\"dataframe\">\n",
              "  <thead>\n",
              "    <tr style=\"text-align: right;\">\n",
              "      <th></th>\n",
              "      <th>gender</th>\n",
              "      <th>age</th>\n",
              "      <th>topic</th>\n",
              "      <th>sign</th>\n",
              "      <th>text</th>\n",
              "      <th>text_lower</th>\n",
              "    </tr>\n",
              "  </thead>\n",
              "  <tbody>\n",
              "    <tr>\n",
              "      <th>0</th>\n",
              "      <td>male</td>\n",
              "      <td>15</td>\n",
              "      <td>Student</td>\n",
              "      <td>Leo</td>\n",
              "      <td>Info has been found (+/- 100 pages,...</td>\n",
              "      <td>info has been found (+/- 100 pages,...</td>\n",
              "    </tr>\n",
              "    <tr>\n",
              "      <th>1</th>\n",
              "      <td>male</td>\n",
              "      <td>15</td>\n",
              "      <td>Student</td>\n",
              "      <td>Leo</td>\n",
              "      <td>These are the team members:   Drewe...</td>\n",
              "      <td>these are the team members:   drewe...</td>\n",
              "    </tr>\n",
              "    <tr>\n",
              "      <th>2</th>\n",
              "      <td>male</td>\n",
              "      <td>15</td>\n",
              "      <td>Student</td>\n",
              "      <td>Leo</td>\n",
              "      <td>In het kader van kernfusie op aarde...</td>\n",
              "      <td>in het kader van kernfusie op aarde...</td>\n",
              "    </tr>\n",
              "    <tr>\n",
              "      <th>3</th>\n",
              "      <td>male</td>\n",
              "      <td>15</td>\n",
              "      <td>Student</td>\n",
              "      <td>Leo</td>\n",
              "      <td>testing!!!  testing!!!</td>\n",
              "      <td>testing!!!  testing!!!</td>\n",
              "    </tr>\n",
              "    <tr>\n",
              "      <th>4</th>\n",
              "      <td>male</td>\n",
              "      <td>33</td>\n",
              "      <td>InvestmentBanking</td>\n",
              "      <td>Aquarius</td>\n",
              "      <td>Thanks to Yahoo!'s Toolbar I can ...</td>\n",
              "      <td>thanks to yahoo!'s toolbar i can ...</td>\n",
              "    </tr>\n",
              "  </tbody>\n",
              "</table>\n",
              "</div>"
            ],
            "text/plain": [
              "  gender  age              topic      sign  \\\n",
              "0   male   15            Student       Leo   \n",
              "1   male   15            Student       Leo   \n",
              "2   male   15            Student       Leo   \n",
              "3   male   15            Student       Leo   \n",
              "4   male   33  InvestmentBanking  Aquarius   \n",
              "\n",
              "                                                text  \\\n",
              "0             Info has been found (+/- 100 pages,...   \n",
              "1             These are the team members:   Drewe...   \n",
              "2             In het kader van kernfusie op aarde...   \n",
              "3                   testing!!!  testing!!!             \n",
              "4               Thanks to Yahoo!'s Toolbar I can ...   \n",
              "\n",
              "                                          text_lower  \n",
              "0             info has been found (+/- 100 pages,...  \n",
              "1             these are the team members:   drewe...  \n",
              "2             in het kader van kernfusie op aarde...  \n",
              "3                   testing!!!  testing!!!            \n",
              "4               thanks to yahoo!'s toolbar i can ...  "
            ]
          },
          "metadata": {
            "tags": []
          },
          "execution_count": 54
        }
      ]
    },
    {
      "cell_type": "code",
      "metadata": {
        "id": "5angIGdiuX9G",
        "colab": {
          "base_uri": "https://localhost:8080/",
          "height": 191
        },
        "outputId": "525f1cc6-a6da-4a21-c9ed-3697a878e094"
      },
      "source": [
        "PUNCT_TO_REMOVE = string.punctuation\n",
        "def remove_punctuation(text):\n",
        "    return text.translate(str.maketrans('','',PUNCT_TO_REMOVE))\n",
        "                                        \n",
        "pd_blog1[\"text_special\"] = pd_blog1[\"text_lower\"].apply(lambda text: remove_punctuation(text))\n",
        "pd_blog1.head()"
      ],
      "execution_count": null,
      "outputs": [
        {
          "output_type": "execute_result",
          "data": {
            "text/html": [
              "<div>\n",
              "<style scoped>\n",
              "    .dataframe tbody tr th:only-of-type {\n",
              "        vertical-align: middle;\n",
              "    }\n",
              "\n",
              "    .dataframe tbody tr th {\n",
              "        vertical-align: top;\n",
              "    }\n",
              "\n",
              "    .dataframe thead th {\n",
              "        text-align: right;\n",
              "    }\n",
              "</style>\n",
              "<table border=\"1\" class=\"dataframe\">\n",
              "  <thead>\n",
              "    <tr style=\"text-align: right;\">\n",
              "      <th></th>\n",
              "      <th>gender</th>\n",
              "      <th>age</th>\n",
              "      <th>topic</th>\n",
              "      <th>sign</th>\n",
              "      <th>text</th>\n",
              "      <th>text_lower</th>\n",
              "      <th>text_special</th>\n",
              "    </tr>\n",
              "  </thead>\n",
              "  <tbody>\n",
              "    <tr>\n",
              "      <th>0</th>\n",
              "      <td>male</td>\n",
              "      <td>15</td>\n",
              "      <td>Student</td>\n",
              "      <td>Leo</td>\n",
              "      <td>Info has been found (+/- 100 pages,...</td>\n",
              "      <td>info has been found (+/- 100 pages,...</td>\n",
              "      <td>info has been found  100 pages and ...</td>\n",
              "    </tr>\n",
              "    <tr>\n",
              "      <th>1</th>\n",
              "      <td>male</td>\n",
              "      <td>15</td>\n",
              "      <td>Student</td>\n",
              "      <td>Leo</td>\n",
              "      <td>These are the team members:   Drewe...</td>\n",
              "      <td>these are the team members:   drewe...</td>\n",
              "      <td>these are the team members   drewes...</td>\n",
              "    </tr>\n",
              "    <tr>\n",
              "      <th>2</th>\n",
              "      <td>male</td>\n",
              "      <td>15</td>\n",
              "      <td>Student</td>\n",
              "      <td>Leo</td>\n",
              "      <td>In het kader van kernfusie op aarde...</td>\n",
              "      <td>in het kader van kernfusie op aarde...</td>\n",
              "      <td>in het kader van kernfusie op aarde...</td>\n",
              "    </tr>\n",
              "    <tr>\n",
              "      <th>3</th>\n",
              "      <td>male</td>\n",
              "      <td>15</td>\n",
              "      <td>Student</td>\n",
              "      <td>Leo</td>\n",
              "      <td>testing!!!  testing!!!</td>\n",
              "      <td>testing!!!  testing!!!</td>\n",
              "      <td>testing  testing</td>\n",
              "    </tr>\n",
              "    <tr>\n",
              "      <th>4</th>\n",
              "      <td>male</td>\n",
              "      <td>33</td>\n",
              "      <td>InvestmentBanking</td>\n",
              "      <td>Aquarius</td>\n",
              "      <td>Thanks to Yahoo!'s Toolbar I can ...</td>\n",
              "      <td>thanks to yahoo!'s toolbar i can ...</td>\n",
              "      <td>thanks to yahoos toolbar i can no...</td>\n",
              "    </tr>\n",
              "  </tbody>\n",
              "</table>\n",
              "</div>"
            ],
            "text/plain": [
              "  gender  age              topic      sign  \\\n",
              "0   male   15            Student       Leo   \n",
              "1   male   15            Student       Leo   \n",
              "2   male   15            Student       Leo   \n",
              "3   male   15            Student       Leo   \n",
              "4   male   33  InvestmentBanking  Aquarius   \n",
              "\n",
              "                                                text  \\\n",
              "0             Info has been found (+/- 100 pages,...   \n",
              "1             These are the team members:   Drewe...   \n",
              "2             In het kader van kernfusie op aarde...   \n",
              "3                   testing!!!  testing!!!             \n",
              "4               Thanks to Yahoo!'s Toolbar I can ...   \n",
              "\n",
              "                                          text_lower  \\\n",
              "0             info has been found (+/- 100 pages,...   \n",
              "1             these are the team members:   drewe...   \n",
              "2             in het kader van kernfusie op aarde...   \n",
              "3                   testing!!!  testing!!!             \n",
              "4               thanks to yahoo!'s toolbar i can ...   \n",
              "\n",
              "                                        text_special  \n",
              "0             info has been found  100 pages and ...  \n",
              "1             these are the team members   drewes...  \n",
              "2             in het kader van kernfusie op aarde...  \n",
              "3                         testing  testing            \n",
              "4               thanks to yahoos toolbar i can no...  "
            ]
          },
          "metadata": {
            "tags": []
          },
          "execution_count": 55
        }
      ]
    },
    {
      "cell_type": "code",
      "metadata": {
        "id": "EbKemHooz_O8",
        "colab": {
          "base_uri": "https://localhost:8080/"
        },
        "outputId": "77c5f465-4b9c-49ba-e22a-bff1c91ba302"
      },
      "source": [
        "## Setting up environvenment on colabs \n",
        "import nltk\n",
        "nltk.download('stopwords')"
      ],
      "execution_count": null,
      "outputs": [
        {
          "output_type": "stream",
          "text": [
            "[nltk_data] Downloading package stopwords to /root/nltk_data...\n",
            "[nltk_data]   Package stopwords is already up-to-date!\n"
          ],
          "name": "stdout"
        },
        {
          "output_type": "execute_result",
          "data": {
            "text/plain": [
              "True"
            ]
          },
          "metadata": {
            "tags": []
          },
          "execution_count": 56
        }
      ]
    },
    {
      "cell_type": "code",
      "metadata": {
        "id": "pV2qODRguX7X",
        "colab": {
          "base_uri": "https://localhost:8080/",
          "height": 132
        },
        "outputId": "f0d3fefc-71c3-4750-9e99-b698c928407c"
      },
      "source": [
        "from nltk.corpus import stopwords\n",
        "\", \".join(stopwords.words('english'))"
      ],
      "execution_count": null,
      "outputs": [
        {
          "output_type": "execute_result",
          "data": {
            "application/vnd.google.colaboratory.intrinsic+json": {
              "type": "string"
            },
            "text/plain": [
              "\"i, me, my, myself, we, our, ours, ourselves, you, you're, you've, you'll, you'd, your, yours, yourself, yourselves, he, him, his, himself, she, she's, her, hers, herself, it, it's, its, itself, they, them, their, theirs, themselves, what, which, who, whom, this, that, that'll, these, those, am, is, are, was, were, be, been, being, have, has, had, having, do, does, did, doing, a, an, the, and, but, if, or, because, as, until, while, of, at, by, for, with, about, against, between, into, through, during, before, after, above, below, to, from, up, down, in, out, on, off, over, under, again, further, then, once, here, there, when, where, why, how, all, any, both, each, few, more, most, other, some, such, no, nor, not, only, own, same, so, than, too, very, s, t, can, will, just, don, don't, should, should've, now, d, ll, m, o, re, ve, y, ain, aren, aren't, couldn, couldn't, didn, didn't, doesn, doesn't, hadn, hadn't, hasn, hasn't, haven, haven't, isn, isn't, ma, mightn, mightn't, mustn, mustn't, needn, needn't, shan, shan't, shouldn, shouldn't, wasn, wasn't, weren, weren't, won, won't, wouldn, wouldn't\""
            ]
          },
          "metadata": {
            "tags": []
          },
          "execution_count": 57
        }
      ]
    },
    {
      "cell_type": "code",
      "metadata": {
        "id": "8S-cTp1Z0QVu",
        "colab": {
          "base_uri": "https://localhost:8080/",
          "height": 256
        },
        "outputId": "d7e2a7c1-8f86-4af3-a5fc-e55511dc2f98"
      },
      "source": [
        "STOPWORDS = set(stopwords.words('english'))\n",
        "\n",
        "def remove_stopwords(text):\n",
        "    return \" \".join([word for word in str(text).split() if word not in STOPWORDS])\n",
        "\n",
        "pd_blog1[\"text_stop\"] = pd_blog1[\"text_special\"].apply(lambda text : remove_stopwords(text))\n",
        "pd_blog1.head()"
      ],
      "execution_count": null,
      "outputs": [
        {
          "output_type": "execute_result",
          "data": {
            "text/html": [
              "<div>\n",
              "<style scoped>\n",
              "    .dataframe tbody tr th:only-of-type {\n",
              "        vertical-align: middle;\n",
              "    }\n",
              "\n",
              "    .dataframe tbody tr th {\n",
              "        vertical-align: top;\n",
              "    }\n",
              "\n",
              "    .dataframe thead th {\n",
              "        text-align: right;\n",
              "    }\n",
              "</style>\n",
              "<table border=\"1\" class=\"dataframe\">\n",
              "  <thead>\n",
              "    <tr style=\"text-align: right;\">\n",
              "      <th></th>\n",
              "      <th>gender</th>\n",
              "      <th>age</th>\n",
              "      <th>topic</th>\n",
              "      <th>sign</th>\n",
              "      <th>text</th>\n",
              "      <th>text_lower</th>\n",
              "      <th>text_special</th>\n",
              "      <th>text_stop</th>\n",
              "    </tr>\n",
              "  </thead>\n",
              "  <tbody>\n",
              "    <tr>\n",
              "      <th>0</th>\n",
              "      <td>male</td>\n",
              "      <td>15</td>\n",
              "      <td>Student</td>\n",
              "      <td>Leo</td>\n",
              "      <td>Info has been found (+/- 100 pages,...</td>\n",
              "      <td>info has been found (+/- 100 pages,...</td>\n",
              "      <td>info has been found  100 pages and ...</td>\n",
              "      <td>info found 100 pages 45 mb pdf files wait unti...</td>\n",
              "    </tr>\n",
              "    <tr>\n",
              "      <th>1</th>\n",
              "      <td>male</td>\n",
              "      <td>15</td>\n",
              "      <td>Student</td>\n",
              "      <td>Leo</td>\n",
              "      <td>These are the team members:   Drewe...</td>\n",
              "      <td>these are the team members:   drewe...</td>\n",
              "      <td>these are the team members   drewes...</td>\n",
              "      <td>team members drewes van der laag urllink mail ...</td>\n",
              "    </tr>\n",
              "    <tr>\n",
              "      <th>2</th>\n",
              "      <td>male</td>\n",
              "      <td>15</td>\n",
              "      <td>Student</td>\n",
              "      <td>Leo</td>\n",
              "      <td>In het kader van kernfusie op aarde...</td>\n",
              "      <td>in het kader van kernfusie op aarde...</td>\n",
              "      <td>in het kader van kernfusie op aarde...</td>\n",
              "      <td>het kader van kernfusie op aarde maak je eigen...</td>\n",
              "    </tr>\n",
              "    <tr>\n",
              "      <th>3</th>\n",
              "      <td>male</td>\n",
              "      <td>15</td>\n",
              "      <td>Student</td>\n",
              "      <td>Leo</td>\n",
              "      <td>testing!!!  testing!!!</td>\n",
              "      <td>testing!!!  testing!!!</td>\n",
              "      <td>testing  testing</td>\n",
              "      <td>testing testing</td>\n",
              "    </tr>\n",
              "    <tr>\n",
              "      <th>4</th>\n",
              "      <td>male</td>\n",
              "      <td>33</td>\n",
              "      <td>InvestmentBanking</td>\n",
              "      <td>Aquarius</td>\n",
              "      <td>Thanks to Yahoo!'s Toolbar I can ...</td>\n",
              "      <td>thanks to yahoo!'s toolbar i can ...</td>\n",
              "      <td>thanks to yahoos toolbar i can no...</td>\n",
              "      <td>thanks yahoos toolbar capture urls popupswhich...</td>\n",
              "    </tr>\n",
              "  </tbody>\n",
              "</table>\n",
              "</div>"
            ],
            "text/plain": [
              "  gender  age              topic      sign  \\\n",
              "0   male   15            Student       Leo   \n",
              "1   male   15            Student       Leo   \n",
              "2   male   15            Student       Leo   \n",
              "3   male   15            Student       Leo   \n",
              "4   male   33  InvestmentBanking  Aquarius   \n",
              "\n",
              "                                                text  \\\n",
              "0             Info has been found (+/- 100 pages,...   \n",
              "1             These are the team members:   Drewe...   \n",
              "2             In het kader van kernfusie op aarde...   \n",
              "3                   testing!!!  testing!!!             \n",
              "4               Thanks to Yahoo!'s Toolbar I can ...   \n",
              "\n",
              "                                          text_lower  \\\n",
              "0             info has been found (+/- 100 pages,...   \n",
              "1             these are the team members:   drewe...   \n",
              "2             in het kader van kernfusie op aarde...   \n",
              "3                   testing!!!  testing!!!             \n",
              "4               thanks to yahoo!'s toolbar i can ...   \n",
              "\n",
              "                                        text_special  \\\n",
              "0             info has been found  100 pages and ...   \n",
              "1             these are the team members   drewes...   \n",
              "2             in het kader van kernfusie op aarde...   \n",
              "3                         testing  testing             \n",
              "4               thanks to yahoos toolbar i can no...   \n",
              "\n",
              "                                           text_stop  \n",
              "0  info found 100 pages 45 mb pdf files wait unti...  \n",
              "1  team members drewes van der laag urllink mail ...  \n",
              "2  het kader van kernfusie op aarde maak je eigen...  \n",
              "3                                    testing testing  \n",
              "4  thanks yahoos toolbar capture urls popupswhich...  "
            ]
          },
          "metadata": {
            "tags": []
          },
          "execution_count": 58
        }
      ]
    },
    {
      "cell_type": "code",
      "metadata": {
        "id": "pk7maPiYuXtw"
      },
      "source": [
        "def text_format(text):\n",
        "    text = remove_punctuation(text) # remove unwanted characters\n",
        "    text = text.lower() # convert to lowercase\n",
        "    text = text.strip() # remove unwanted spaces\n",
        "    text = remove_stopwords(text) # remove stopwords\n",
        "    return text\n",
        "\n",
        "pd_blog[\"text\"] = pd_blog[\"text\"].map(lambda text : text_format(text))"
      ],
      "execution_count": null,
      "outputs": []
    },
    {
      "cell_type": "code",
      "metadata": {
        "id": "GhyR3Wpz057i",
        "colab": {
          "base_uri": "https://localhost:8080/",
          "height": 191
        },
        "outputId": "0d5f9b87-2bae-4bb9-8bf3-c612639ae119"
      },
      "source": [
        "pd_blog.head()"
      ],
      "execution_count": null,
      "outputs": [
        {
          "output_type": "execute_result",
          "data": {
            "text/html": [
              "<div>\n",
              "<style scoped>\n",
              "    .dataframe tbody tr th:only-of-type {\n",
              "        vertical-align: middle;\n",
              "    }\n",
              "\n",
              "    .dataframe tbody tr th {\n",
              "        vertical-align: top;\n",
              "    }\n",
              "\n",
              "    .dataframe thead th {\n",
              "        text-align: right;\n",
              "    }\n",
              "</style>\n",
              "<table border=\"1\" class=\"dataframe\">\n",
              "  <thead>\n",
              "    <tr style=\"text-align: right;\">\n",
              "      <th></th>\n",
              "      <th>gender</th>\n",
              "      <th>age</th>\n",
              "      <th>topic</th>\n",
              "      <th>sign</th>\n",
              "      <th>text</th>\n",
              "    </tr>\n",
              "  </thead>\n",
              "  <tbody>\n",
              "    <tr>\n",
              "      <th>0</th>\n",
              "      <td>male</td>\n",
              "      <td>15</td>\n",
              "      <td>Student</td>\n",
              "      <td>Leo</td>\n",
              "      <td>info found 100 pages 45 mb pdf files wait unti...</td>\n",
              "    </tr>\n",
              "    <tr>\n",
              "      <th>1</th>\n",
              "      <td>male</td>\n",
              "      <td>15</td>\n",
              "      <td>Student</td>\n",
              "      <td>Leo</td>\n",
              "      <td>team members drewes van der laag urllink mail ...</td>\n",
              "    </tr>\n",
              "    <tr>\n",
              "      <th>2</th>\n",
              "      <td>male</td>\n",
              "      <td>15</td>\n",
              "      <td>Student</td>\n",
              "      <td>Leo</td>\n",
              "      <td>het kader van kernfusie op aarde maak je eigen...</td>\n",
              "    </tr>\n",
              "    <tr>\n",
              "      <th>3</th>\n",
              "      <td>male</td>\n",
              "      <td>15</td>\n",
              "      <td>Student</td>\n",
              "      <td>Leo</td>\n",
              "      <td>testing testing</td>\n",
              "    </tr>\n",
              "    <tr>\n",
              "      <th>4</th>\n",
              "      <td>male</td>\n",
              "      <td>33</td>\n",
              "      <td>InvestmentBanking</td>\n",
              "      <td>Aquarius</td>\n",
              "      <td>thanks yahoos toolbar capture urls popupswhich...</td>\n",
              "    </tr>\n",
              "  </tbody>\n",
              "</table>\n",
              "</div>"
            ],
            "text/plain": [
              "  gender  age              topic      sign  \\\n",
              "0   male   15            Student       Leo   \n",
              "1   male   15            Student       Leo   \n",
              "2   male   15            Student       Leo   \n",
              "3   male   15            Student       Leo   \n",
              "4   male   33  InvestmentBanking  Aquarius   \n",
              "\n",
              "                                                text  \n",
              "0  info found 100 pages 45 mb pdf files wait unti...  \n",
              "1  team members drewes van der laag urllink mail ...  \n",
              "2  het kader van kernfusie op aarde maak je eigen...  \n",
              "3                                    testing testing  \n",
              "4  thanks yahoos toolbar capture urls popupswhich...  "
            ]
          },
          "metadata": {
            "tags": []
          },
          "execution_count": 60
        }
      ]
    },
    {
      "cell_type": "markdown",
      "metadata": {
        "id": "awlqmp40xMfc"
      },
      "source": [
        "### 4.1 Merge label columns\n"
      ]
    },
    {
      "cell_type": "code",
      "metadata": {
        "id": "VT4d-6TCxZCm",
        "colab": {
          "base_uri": "https://localhost:8080/"
        },
        "outputId": "42cc0d4d-678c-4e23-eb0e-52fd3f378349"
      },
      "source": [
        "pd_blog.gender.value_counts()"
      ],
      "execution_count": null,
      "outputs": [
        {
          "output_type": "execute_result",
          "data": {
            "text/plain": [
              "male      25815\n",
              "female    24185\n",
              "Name: gender, dtype: int64"
            ]
          },
          "metadata": {
            "tags": []
          },
          "execution_count": 61
        }
      ]
    },
    {
      "cell_type": "code",
      "metadata": {
        "id": "MIDIHjau9_pg",
        "colab": {
          "base_uri": "https://localhost:8080/"
        },
        "outputId": "3147fc05-a82a-4518-c9f9-9b8d0b2042d7"
      },
      "source": [
        "pd_blog.age.value_counts()"
      ],
      "execution_count": null,
      "outputs": [
        {
          "output_type": "execute_result",
          "data": {
            "text/plain": [
              "17    6859\n",
              "24    5746\n",
              "23    5518\n",
              "16    4156\n",
              "27    4094\n",
              "15    3508\n",
              "35    3365\n",
              "26    2869\n",
              "25    2837\n",
              "14    2043\n",
              "36    1985\n",
              "34    1886\n",
              "33    1654\n",
              "13     745\n",
              "39     412\n",
              "41     394\n",
              "46     330\n",
              "48     318\n",
              "37     310\n",
              "47     206\n",
              "38     196\n",
              "40     192\n",
              "43     150\n",
              "42      96\n",
              "45      93\n",
              "44      38\n",
              "Name: age, dtype: int64"
            ]
          },
          "metadata": {
            "tags": []
          },
          "execution_count": 62
        }
      ]
    },
    {
      "cell_type": "code",
      "metadata": {
        "id": "a5MADlYD9_my",
        "colab": {
          "base_uri": "https://localhost:8080/"
        },
        "outputId": "b9ae577c-9152-457b-8837-39d141a8a863"
      },
      "source": [
        "pd_blog.topic.value_counts()"
      ],
      "execution_count": null,
      "outputs": [
        {
          "output_type": "execute_result",
          "data": {
            "text/plain": [
              "indUnk                     17560\n",
              "Student                    10660\n",
              "Technology                  4379\n",
              "Education                   2646\n",
              "Arts                        1817\n",
              "Fashion                     1805\n",
              "Communications-Media        1603\n",
              "Internet                    1420\n",
              "Engineering                 1402\n",
              "Science                      705\n",
              "Government                   599\n",
              "Non-Profit                   491\n",
              "Manufacturing                441\n",
              "BusinessServices             416\n",
              "Marketing                    414\n",
              "Accounting                   364\n",
              "Law                          308\n",
              "Museums-Libraries            285\n",
              "Banking                      283\n",
              "Advertising                  273\n",
              "Religion                     258\n",
              "Consulting                   243\n",
              "Publishing                   207\n",
              "Transportation               196\n",
              "Military                     194\n",
              "LawEnforcement-Security      125\n",
              "Sports-Recreation            120\n",
              "Automotive                   116\n",
              "Biotech                      101\n",
              "InvestmentBanking             85\n",
              "HumanResources                79\n",
              "Agriculture                   78\n",
              "Chemicals                     75\n",
              "Architecture                  70\n",
              "Tourism                       65\n",
              "Maritime                      54\n",
              "Construction                  28\n",
              "RealEstate                    17\n",
              "Telecommunications            12\n",
              "Environment                    6\n",
              "Name: topic, dtype: int64"
            ]
          },
          "metadata": {
            "tags": []
          },
          "execution_count": 63
        }
      ]
    },
    {
      "cell_type": "code",
      "metadata": {
        "id": "Hidaauc69_hy",
        "colab": {
          "base_uri": "https://localhost:8080/"
        },
        "outputId": "56139a5a-4815-48f1-def6-2e14fbe8b851"
      },
      "source": [
        "pd_blog.sign.value_counts()"
      ],
      "execution_count": null,
      "outputs": [
        {
          "output_type": "execute_result",
          "data": {
            "text/plain": [
              "Aries          7795\n",
              "Aquarius       4784\n",
              "Cancer         4589\n",
              "Sagittarius    4571\n",
              "Libra          4378\n",
              "Pisces         4142\n",
              "Leo            3904\n",
              "Capricorn      3819\n",
              "Taurus         3390\n",
              "Scorpio        3243\n",
              "Virgo          2827\n",
              "Gemini         2558\n",
              "Name: sign, dtype: int64"
            ]
          },
          "metadata": {
            "tags": []
          },
          "execution_count": 64
        }
      ]
    },
    {
      "cell_type": "code",
      "metadata": {
        "id": "0Ha5Vfs89_eT"
      },
      "source": [
        "pd_blog[\"age\"] = pd_blog[\"age\"].astype(str)\n",
        "pd_blog[\"labels\"] = pd_blog.apply(lambda col :\n",
        "                            [col[\"gender\"],col[\"age\"],col[\"topic\"],col[\"sign\"]],axis =1)"
      ],
      "execution_count": null,
      "outputs": []
    },
    {
      "cell_type": "code",
      "metadata": {
        "id": "oZzwyRzLlt-J"
      },
      "source": [
        "pd_blog.drop(columns=[\"gender\",\"age\",\"sign\",\"topic\"],axis =1, inplace = True)"
      ],
      "execution_count": null,
      "outputs": []
    },
    {
      "cell_type": "code",
      "metadata": {
        "id": "fZfoZaAum06h",
        "colab": {
          "base_uri": "https://localhost:8080/",
          "height": 191
        },
        "outputId": "f5963ff9-87b3-4a12-f1c2-ae65f460f5d1"
      },
      "source": [
        "pd_blog.head()"
      ],
      "execution_count": null,
      "outputs": [
        {
          "output_type": "execute_result",
          "data": {
            "text/html": [
              "<div>\n",
              "<style scoped>\n",
              "    .dataframe tbody tr th:only-of-type {\n",
              "        vertical-align: middle;\n",
              "    }\n",
              "\n",
              "    .dataframe tbody tr th {\n",
              "        vertical-align: top;\n",
              "    }\n",
              "\n",
              "    .dataframe thead th {\n",
              "        text-align: right;\n",
              "    }\n",
              "</style>\n",
              "<table border=\"1\" class=\"dataframe\">\n",
              "  <thead>\n",
              "    <tr style=\"text-align: right;\">\n",
              "      <th></th>\n",
              "      <th>text</th>\n",
              "      <th>labels</th>\n",
              "    </tr>\n",
              "  </thead>\n",
              "  <tbody>\n",
              "    <tr>\n",
              "      <th>0</th>\n",
              "      <td>info found 100 pages 45 mb pdf files wait unti...</td>\n",
              "      <td>[male, 15, Student, Leo]</td>\n",
              "    </tr>\n",
              "    <tr>\n",
              "      <th>1</th>\n",
              "      <td>team members drewes van der laag urllink mail ...</td>\n",
              "      <td>[male, 15, Student, Leo]</td>\n",
              "    </tr>\n",
              "    <tr>\n",
              "      <th>2</th>\n",
              "      <td>het kader van kernfusie op aarde maak je eigen...</td>\n",
              "      <td>[male, 15, Student, Leo]</td>\n",
              "    </tr>\n",
              "    <tr>\n",
              "      <th>3</th>\n",
              "      <td>testing testing</td>\n",
              "      <td>[male, 15, Student, Leo]</td>\n",
              "    </tr>\n",
              "    <tr>\n",
              "      <th>4</th>\n",
              "      <td>thanks yahoos toolbar capture urls popupswhich...</td>\n",
              "      <td>[male, 33, InvestmentBanking, Aquarius]</td>\n",
              "    </tr>\n",
              "  </tbody>\n",
              "</table>\n",
              "</div>"
            ],
            "text/plain": [
              "                                                text  \\\n",
              "0  info found 100 pages 45 mb pdf files wait unti...   \n",
              "1  team members drewes van der laag urllink mail ...   \n",
              "2  het kader van kernfusie op aarde maak je eigen...   \n",
              "3                                    testing testing   \n",
              "4  thanks yahoos toolbar capture urls popupswhich...   \n",
              "\n",
              "                                    labels  \n",
              "0                 [male, 15, Student, Leo]  \n",
              "1                 [male, 15, Student, Leo]  \n",
              "2                 [male, 15, Student, Leo]  \n",
              "3                 [male, 15, Student, Leo]  \n",
              "4  [male, 33, InvestmentBanking, Aquarius]  "
            ]
          },
          "metadata": {
            "tags": []
          },
          "execution_count": 67
        }
      ]
    },
    {
      "cell_type": "code",
      "metadata": {
        "id": "A8QlFUmn_o26",
        "colab": {
          "base_uri": "https://localhost:8080/"
        },
        "outputId": "02424792-8ae5-4eed-feda-0491143c35dd"
      },
      "source": [
        "gc.collect()"
      ],
      "execution_count": null,
      "outputs": [
        {
          "output_type": "execute_result",
          "data": {
            "text/plain": [
              "150"
            ]
          },
          "metadata": {
            "tags": []
          },
          "execution_count": 68
        }
      ]
    },
    {
      "cell_type": "markdown",
      "metadata": {
        "id": "Zk0WW5D5xZK9"
      },
      "source": [
        "### 4.2 Create Train and Test data sets"
      ]
    },
    {
      "cell_type": "code",
      "metadata": {
        "id": "ylwcqQpcx_Tl"
      },
      "source": [
        "from sklearn.model_selection import train_test_split\n",
        "\n",
        "X = pd_blog.text\n",
        "y = pd_blog.labels\n",
        "\n",
        "X_train, X_test, y_train, y_test =train_test_split(X,y, random_state=60,\n",
        "                                                   test_size = 0.2,\n",
        "                                                  shuffle = True)"
      ],
      "execution_count": null,
      "outputs": []
    },
    {
      "cell_type": "code",
      "metadata": {
        "id": "1Z1DiwIWA8Cx",
        "colab": {
          "base_uri": "https://localhost:8080/"
        },
        "outputId": "7d70cf0d-58de-4041-de66-42d9b4d9bf9d"
      },
      "source": [
        "print(\"Training shape :\", X_train.shape)\n",
        "print(\"Testing shape :\", X_test.shape)"
      ],
      "execution_count": null,
      "outputs": [
        {
          "output_type": "stream",
          "text": [
            "Training shape : (40000,)\n",
            "Testing shape : (10000,)\n"
          ],
          "name": "stdout"
        }
      ]
    },
    {
      "cell_type": "markdown",
      "metadata": {
        "id": "cSdGfadUyEdU"
      },
      "source": [
        "### 4.4 Vectorizing the features"
      ]
    },
    {
      "cell_type": "code",
      "metadata": {
        "id": "N0jXkkz4Bnyv"
      },
      "source": [
        "from sklearn.feature_extraction.text import TfidfVectorizer, CountVectorizer\n",
        "\n",
        "ctv = CountVectorizer(analyzer='word', token_pattern=r'\\w{1,}', \n",
        "                      ngram_range=(1, 2), stop_words = 'english')\n",
        "\n",
        "corpus = list(X_train)+list(X_test)\n"
      ],
      "execution_count": null,
      "outputs": []
    },
    {
      "cell_type": "code",
      "metadata": {
        "id": "BKEFpX7XBnua",
        "colab": {
          "base_uri": "https://localhost:8080/"
        },
        "outputId": "ac55946d-1192-4613-e5f5-872acdd1dd27"
      },
      "source": [
        "ctv.fit(corpus)"
      ],
      "execution_count": null,
      "outputs": [
        {
          "output_type": "execute_result",
          "data": {
            "text/plain": [
              "CountVectorizer(analyzer='word', binary=False, decode_error='strict',\n",
              "                dtype=<class 'numpy.int64'>, encoding='utf-8', input='content',\n",
              "                lowercase=True, max_df=1.0, max_features=None, min_df=1,\n",
              "                ngram_range=(1, 2), preprocessor=None, stop_words='english',\n",
              "                strip_accents=None, token_pattern='\\\\w{1,}', tokenizer=None,\n",
              "                vocabulary=None)"
            ]
          },
          "metadata": {
            "tags": []
          },
          "execution_count": 72
        }
      ]
    },
    {
      "cell_type": "code",
      "metadata": {
        "id": "go-peiU4Bnsb"
      },
      "source": [
        "gc.collect()\n",
        "xtrain_ctv = ctv.transform(X_train)"
      ],
      "execution_count": null,
      "outputs": []
    },
    {
      "cell_type": "code",
      "metadata": {
        "id": "bE2K8m8yD1EW"
      },
      "source": [
        "gc.collect()\n",
        "xtest_ctv = ctv.transform(X_test)"
      ],
      "execution_count": null,
      "outputs": []
    },
    {
      "cell_type": "code",
      "metadata": {
        "id": "Jm85VKGmEnie",
        "colab": {
          "base_uri": "https://localhost:8080/"
        },
        "outputId": "2b27dc9e-8923-45b2-914c-7133cd3898d9"
      },
      "source": [
        "# Vocabulary Size\n",
        "print(len(ctv.vocabulary_))"
      ],
      "execution_count": null,
      "outputs": [
        {
          "output_type": "stream",
          "text": [
            "3071715\n"
          ],
          "name": "stdout"
        }
      ]
    },
    {
      "cell_type": "code",
      "metadata": {
        "id": "vP10DYd-wpaS",
        "colab": {
          "base_uri": "https://localhost:8080/"
        },
        "outputId": "f66fa5a7-f775-49e3-d674-ae1f117ca989"
      },
      "source": [
        "#Size of Document Term Matrix\n",
        "df_ct = ctv.transform(corpus)\n",
        "df_ct.shape"
      ],
      "execution_count": null,
      "outputs": [
        {
          "output_type": "execute_result",
          "data": {
            "text/plain": [
              "(50000, 3071715)"
            ]
          },
          "metadata": {
            "tags": []
          },
          "execution_count": 76
        }
      ]
    },
    {
      "cell_type": "code",
      "metadata": {
        "id": "BcpmxyHIxi9T",
        "colab": {
          "base_uri": "https://localhost:8080/"
        },
        "outputId": "f4671c26-dccf-44f0-899f-87be27f0628a"
      },
      "source": [
        "# Sample record\n",
        "print(df_ct[0])"
      ],
      "execution_count": null,
      "outputs": [
        {
          "output_type": "stream",
          "text": [
            "  (0, 39773)\t1\n",
            "  (0, 40034)\t1\n",
            "  (0, 76624)\t1\n",
            "  (0, 76762)\t1\n",
            "  (0, 77511)\t1\n",
            "  (0, 77520)\t1\n",
            "  (0, 78252)\t1\n",
            "  (0, 78605)\t1\n",
            "  (0, 94916)\t1\n",
            "  (0, 94921)\t1\n",
            "  (0, 148522)\t1\n",
            "  (0, 148523)\t1\n",
            "  (0, 230931)\t1\n",
            "  (0, 231214)\t1\n",
            "  (0, 285463)\t1\n",
            "  (0, 285481)\t1\n",
            "  (0, 297447)\t1\n",
            "  (0, 299580)\t1\n",
            "  (0, 312096)\t1\n",
            "  (0, 313788)\t1\n",
            "  (0, 389978)\t1\n",
            "  (0, 390432)\t1\n",
            "  (0, 460008)\t1\n",
            "  (0, 460719)\t1\n",
            "  (0, 529239)\t1\n",
            "  :\t:\n",
            "  (0, 2978470)\t1\n",
            "  (0, 2978593)\t1\n",
            "  (0, 2983209)\t1\n",
            "  (0, 2984294)\t1\n",
            "  (0, 2985719)\t1\n",
            "  (0, 2985857)\t1\n",
            "  (0, 2987899)\t1\n",
            "  (0, 2987908)\t1\n",
            "  (0, 2993552)\t1\n",
            "  (0, 2994579)\t1\n",
            "  (0, 2995569)\t1\n",
            "  (0, 2998929)\t1\n",
            "  (0, 3001283)\t2\n",
            "  (0, 3002179)\t1\n",
            "  (0, 3002970)\t1\n",
            "  (0, 3009204)\t1\n",
            "  (0, 3009652)\t1\n",
            "  (0, 3017499)\t2\n",
            "  (0, 3017561)\t1\n",
            "  (0, 3018752)\t1\n",
            "  (0, 3036922)\t1\n",
            "  (0, 3037903)\t1\n",
            "  (0, 3039920)\t2\n",
            "  (0, 3041083)\t1\n",
            "  (0, 3042237)\t1\n"
          ],
          "name": "stdout"
        }
      ]
    },
    {
      "cell_type": "code",
      "metadata": {
        "id": "55Iq26UHFL66",
        "colab": {
          "base_uri": "https://localhost:8080/"
        },
        "outputId": "2ac25573-b592-4320-a8d0-52a497bf0f92"
      },
      "source": [
        "ctv.get_feature_names()[:20]"
      ],
      "execution_count": null,
      "outputs": [
        {
          "output_type": "execute_result",
          "data": {
            "text/plain": [
              "['0',\n",
              " '0 0',\n",
              " '0 05',\n",
              " '0 1',\n",
              " '0 10',\n",
              " '0 15',\n",
              " '0 2',\n",
              " '0 23003',\n",
              " '0 24',\n",
              " '0 3',\n",
              " '0 4',\n",
              " '0 45',\n",
              " '0 5',\n",
              " '0 6',\n",
              " '0 ahhhhhhhhhhhh',\n",
              " '0 alcohol',\n",
              " '0 allen',\n",
              " '0 answering',\n",
              " '0 article',\n",
              " '0 assists']"
            ]
          },
          "metadata": {
            "tags": []
          },
          "execution_count": 78
        }
      ]
    },
    {
      "cell_type": "markdown",
      "metadata": {
        "id": "_TuAjgZIn4zD"
      },
      "source": [
        "### Dictionary of Labels"
      ]
    },
    {
      "cell_type": "code",
      "metadata": {
        "id": "oxZ4-EY-G9CB"
      },
      "source": [
        "pd_blog_test=pd_blog.labels[:10].values"
      ],
      "execution_count": null,
      "outputs": []
    },
    {
      "cell_type": "code",
      "metadata": {
        "id": "CPSccEdgGuXS",
        "colab": {
          "base_uri": "https://localhost:8080/"
        },
        "outputId": "5bdbaa82-a0fc-41d1-d80c-b83444b5fefd"
      },
      "source": [
        "label_counts=dict()\n",
        "\n",
        "for labels in pd_blog.labels.values:\n",
        "    for label in labels:\n",
        "        if label in label_counts:\n",
        "            label_counts[str(label)]+=1\n",
        "        else:\n",
        "            label_counts[str(label)]=1\n",
        "        \n",
        "label_counts"
      ],
      "execution_count": null,
      "outputs": [
        {
          "output_type": "execute_result",
          "data": {
            "text/plain": [
              "{'13': 745,\n",
              " '14': 2043,\n",
              " '15': 3508,\n",
              " '16': 4156,\n",
              " '17': 6859,\n",
              " '23': 5518,\n",
              " '24': 5746,\n",
              " '25': 2837,\n",
              " '26': 2869,\n",
              " '27': 4094,\n",
              " '33': 1654,\n",
              " '34': 1886,\n",
              " '35': 3365,\n",
              " '36': 1985,\n",
              " '37': 310,\n",
              " '38': 196,\n",
              " '39': 412,\n",
              " '40': 192,\n",
              " '41': 394,\n",
              " '42': 96,\n",
              " '43': 150,\n",
              " '44': 38,\n",
              " '45': 93,\n",
              " '46': 330,\n",
              " '47': 206,\n",
              " '48': 318,\n",
              " 'Accounting': 364,\n",
              " 'Advertising': 273,\n",
              " 'Agriculture': 78,\n",
              " 'Aquarius': 4784,\n",
              " 'Architecture': 70,\n",
              " 'Aries': 7795,\n",
              " 'Arts': 1817,\n",
              " 'Automotive': 116,\n",
              " 'Banking': 283,\n",
              " 'Biotech': 101,\n",
              " 'BusinessServices': 416,\n",
              " 'Cancer': 4589,\n",
              " 'Capricorn': 3819,\n",
              " 'Chemicals': 75,\n",
              " 'Communications-Media': 1603,\n",
              " 'Construction': 28,\n",
              " 'Consulting': 243,\n",
              " 'Education': 2646,\n",
              " 'Engineering': 1402,\n",
              " 'Environment': 6,\n",
              " 'Fashion': 1805,\n",
              " 'Gemini': 2558,\n",
              " 'Government': 599,\n",
              " 'HumanResources': 79,\n",
              " 'Internet': 1420,\n",
              " 'InvestmentBanking': 85,\n",
              " 'Law': 308,\n",
              " 'LawEnforcement-Security': 125,\n",
              " 'Leo': 3904,\n",
              " 'Libra': 4378,\n",
              " 'Manufacturing': 441,\n",
              " 'Maritime': 54,\n",
              " 'Marketing': 414,\n",
              " 'Military': 194,\n",
              " 'Museums-Libraries': 285,\n",
              " 'Non-Profit': 491,\n",
              " 'Pisces': 4142,\n",
              " 'Publishing': 207,\n",
              " 'RealEstate': 17,\n",
              " 'Religion': 258,\n",
              " 'Sagittarius': 4571,\n",
              " 'Science': 705,\n",
              " 'Scorpio': 3243,\n",
              " 'Sports-Recreation': 120,\n",
              " 'Student': 10660,\n",
              " 'Taurus': 3390,\n",
              " 'Technology': 4379,\n",
              " 'Telecommunications': 12,\n",
              " 'Tourism': 65,\n",
              " 'Transportation': 196,\n",
              " 'Virgo': 2827,\n",
              " 'female': 24185,\n",
              " 'indUnk': 17560,\n",
              " 'male': 25815}"
            ]
          },
          "metadata": {
            "tags": []
          },
          "execution_count": 80
        }
      ]
    },
    {
      "cell_type": "markdown",
      "metadata": {
        "id": "QbOwVWx7psDL"
      },
      "source": [
        "### Transform the labels\n"
      ]
    },
    {
      "cell_type": "code",
      "metadata": {
        "id": "Ddkn_hJmyKNb"
      },
      "source": [
        "from sklearn.preprocessing import MultiLabelBinarizer\n",
        "\n",
        "binarizer=MultiLabelBinarizer(classes=sorted(label_counts.keys()))\n",
        "\n",
        "y_train = binarizer.fit_transform(y_train)\n",
        "y_test = binarizer.transform(y_test)"
      ],
      "execution_count": null,
      "outputs": []
    },
    {
      "cell_type": "code",
      "metadata": {
        "id": "IZ0E49WnqYQo",
        "colab": {
          "base_uri": "https://localhost:8080/"
        },
        "outputId": "f4b539d0-2d6a-4cd4-9944-b87dba422052"
      },
      "source": [
        "y_train[10]"
      ],
      "execution_count": null,
      "outputs": [
        {
          "output_type": "execute_result",
          "data": {
            "text/plain": [
              "array([0, 0, 0, 0, 0, 0, 0, 0, 0, 0, 0, 0, 0, 1, 0, 0, 0, 0, 0, 0, 0, 0,\n",
              "       0, 0, 0, 0, 0, 0, 0, 0, 0, 1, 0, 0, 0, 0, 0, 0, 0, 0, 0, 0, 0, 0,\n",
              "       0, 0, 1, 0, 0, 0, 0, 0, 0, 0, 0, 0, 0, 0, 0, 0, 0, 0, 0, 0, 0, 0,\n",
              "       0, 0, 0, 0, 0, 0, 0, 0, 0, 0, 0, 0, 0, 1])"
            ]
          },
          "metadata": {
            "tags": []
          },
          "execution_count": 82
        }
      ]
    },
    {
      "cell_type": "markdown",
      "metadata": {
        "id": "XMv_hXyxJKZK"
      },
      "source": [
        "### Defining the classifier"
      ]
    },
    {
      "cell_type": "code",
      "metadata": {
        "colab": {
          "base_uri": "https://localhost:8080/"
        },
        "id": "HPDtYtnTbqvU",
        "outputId": "14f9f2e8-364d-43a0-9bd5-b719da6f948f"
      },
      "source": [
        "from sklearn.linear_model import LogisticRegression\n",
        "from sklearn.pipeline import Pipeline\n",
        "from sklearn.multiclass import OneVsRestClassifier\n",
        "\n",
        "# Using pipeline for applying logistic regression and one vs rest classifier\n",
        "blog_pipeline = Pipeline([\n",
        "                ('clf', OneVsRestClassifier(LogisticRegression(solver='sag'),\n",
        "                    n_jobs=-1)),])\n",
        "blog_pipeline.fit(xtrain_ctv, y_train)"
      ],
      "execution_count": null,
      "outputs": [
        {
          "output_type": "execute_result",
          "data": {
            "text/plain": [
              "Pipeline(memory=None,\n",
              "         steps=[('clf',\n",
              "                 OneVsRestClassifier(estimator=LogisticRegression(C=1.0,\n",
              "                                                                  class_weight=None,\n",
              "                                                                  dual=False,\n",
              "                                                                  fit_intercept=True,\n",
              "                                                                  intercept_scaling=1,\n",
              "                                                                  l1_ratio=None,\n",
              "                                                                  max_iter=100,\n",
              "                                                                  multi_class='auto',\n",
              "                                                                  n_jobs=None,\n",
              "                                                                  penalty='l2',\n",
              "                                                                  random_state=None,\n",
              "                                                                  solver='sag',\n",
              "                                                                  tol=0.0001,\n",
              "                                                                  verbose=0,\n",
              "                                                                  warm_start=False),\n",
              "                                     n_jobs=-1))],\n",
              "         verbose=False)"
            ]
          },
          "metadata": {
            "tags": []
          },
          "execution_count": 83
        }
      ]
    },
    {
      "cell_type": "code",
      "metadata": {
        "id": "24uz4D3mldWG"
      },
      "source": [
        "from sklearn.linear_model import LogisticRegression\n",
        "from sklearn.multiclass import OneVsRestClassifier\n",
        "\n",
        "clf=LogisticRegression(solver='lbfgs')\n",
        "clf=OneVsRestClassifier(clf)\n",
        "\n",
        "clf.fit(xtrain_ctv, y_train)\n",
        "\n",
        "## solver type lbfgs taking longer time to run"
      ],
      "execution_count": null,
      "outputs": []
    },
    {
      "cell_type": "code",
      "metadata": {
        "id": "Ra3vGCX0ubfm"
      },
      "source": [
        "y_pred = blog_pipeline.predict(xtest_ctv)"
      ],
      "execution_count": null,
      "outputs": []
    },
    {
      "cell_type": "code",
      "metadata": {
        "id": "dVJ8_9wIsTUZ",
        "colab": {
          "base_uri": "https://localhost:8080/"
        },
        "outputId": "fbf10f68-fea8-41e3-a8df-072c720f3162"
      },
      "source": [
        "from sklearn.metrics import accuracy_score\n",
        "from sklearn.metrics import f1_score\n",
        "from sklearn.metrics import average_precision_score\n",
        "from sklearn.metrics import recall_score\n",
        "\n",
        "# Prediction metrics\n",
        "\n",
        "print('Accuracy score: ', accuracy_score(y_test, y_pred))\n",
        "print('F1 score: Micro', f1_score(y_test, y_pred, average='micro'))\n",
        "print('Average precision score: Micro', average_precision_score(y_test, y_pred, average='micro'))\n",
        "print('Average recall score: Micro', recall_score(y_test, y_pred, average='micro'))\n",
        "\n",
        "# Macro metrics\n",
        "\n",
        "print('F1 score: Macro', f1_score(y_test, y_pred, average='macro'))\n",
        "print('Average precision score: Macro', average_precision_score(y_test, y_pred, average='macro'))\n",
        "print('Average recall score: Macro', recall_score(y_test, y_pred, average='macro'))\n",
        "\n",
        "# Weighted Metrics\n",
        "\n",
        "print('F1 score: weighted', f1_score(y_test, y_pred, average='weighted'))\n",
        "print('Average precision score: weighted', average_precision_score(y_test, y_pred, average='weighted'))\n",
        "print('Average recall score: weighted', recall_score(y_test, y_pred, average='weighted'))    \n",
        "    \n"
      ],
      "execution_count": null,
      "outputs": [
        {
          "output_type": "stream",
          "text": [
            "Accuracy score:  0.0162\n",
            "F1 score: Micro 0.3174037495497886\n",
            "Average precision score: Micro 0.17693479612640162\n",
            "Average recall score: Micro 0.2093\n",
            "F1 score: Macro 0.04694142553235136\n",
            "Average precision score: Macro 0.0632366403718985\n",
            "Average recall score: Macro 0.03455784637542495\n",
            "F1 score: weighted 0.23565023574835395\n",
            "Average precision score: weighted 0.262073152045813\n",
            "Average recall score: weighted 0.2093\n"
          ],
          "name": "stdout"
        }
      ]
    },
    {
      "cell_type": "markdown",
      "metadata": {
        "id": "QxDZsa3K01mf"
      },
      "source": [
        "### True and Predicted Labels"
      ]
    },
    {
      "cell_type": "code",
      "metadata": {
        "id": "9S3UB6Q8090U",
        "colab": {
          "base_uri": "https://localhost:8080/"
        },
        "outputId": "6f1d0191-1371-4417-e902-67cbede923bc"
      },
      "source": [
        "import random \n",
        "n = 5\n",
        "  \n",
        "j = []\n",
        "for i in range(n):\n",
        "   j.append(random.randint(0, len(y_test)))\n",
        "   print(j)\n",
        "                 \n",
        "for k in j:\n",
        "   print(\"Predicted Value\",binarizer.inverse_transform(y_pred)[k])\n",
        "   print(\"Actual Value\",binarizer.inverse_transform(y_test)[k])\n",
        "   print(\"  \")\n",
        "   print(\"  \")\n",
        "                \n",
        "                 \n",
        "     "
      ],
      "execution_count": null,
      "outputs": [
        {
          "output_type": "stream",
          "text": [
            "[7261]\n",
            "[7261, 3933]\n",
            "[7261, 3933, 1461]\n",
            "[7261, 3933, 1461, 5184]\n",
            "[7261, 3933, 1461, 5184, 8229]\n",
            "Predicted Value ('male',)\n",
            "Actual Value ('14', 'Aries', 'indUnk', 'male')\n",
            "  \n",
            "  \n",
            "Predicted Value ('female',)\n",
            "Actual Value ('24', 'Sagittarius', 'female', 'indUnk')\n",
            "  \n",
            "  \n",
            "Predicted Value ('male',)\n",
            "Actual Value ('35', 'Aries', 'Technology', 'male')\n",
            "  \n",
            "  \n",
            "Predicted Value ('female',)\n",
            "Actual Value ('24', 'Aries', 'indUnk', 'male')\n",
            "  \n",
            "  \n",
            "Predicted Value ('male',)\n",
            "Actual Value ('27', 'Pisces', 'indUnk', 'male')\n",
            "  \n",
            "  \n"
          ],
          "name": "stdout"
        }
      ]
    },
    {
      "cell_type": "code",
      "metadata": {
        "id": "5JLiW2fc09Rd"
      },
      "source": [
        ""
      ],
      "execution_count": null,
      "outputs": []
    }
  ]
}