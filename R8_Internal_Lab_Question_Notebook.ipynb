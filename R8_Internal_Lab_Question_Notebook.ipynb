{
 "cells": [
  {
   "cell_type": "markdown",
   "metadata": {
    "id": "PHYs6Z84xV8E"
   },
   "source": [
    "<img src=\"http://drive.google.com/uc?export=view&id=1tpOCamr9aWz817atPnyXus8w5gJ3mIts\" width=500px>\n",
    "\n",
    "Proprietary content. © Great Learning. All Rights Reserved. Unauthorized use or distribution prohibited."
   ]
  },
  {
   "cell_type": "markdown",
   "metadata": {
    "id": "5QQxgAmWzSye"
   },
   "source": [
    "# Mobile Phone Review Analysis"
   ]
  },
  {
   "cell_type": "markdown",
   "metadata": {
    "id": "FbwHYUXhxaqD"
   },
   "source": [
    "## Context\n",
    "\n",
    "The product companies can utilize the detailed review comments to gather insights from the end user. Most of the products are sold via e-commerce sites like Flipkart or Amazon where customers can buy a product and give their review about the product on the web site. \n",
    "Product managers can identify the relevant reviews from the website and run a sentiment analysis tool to understand what the sentiments of the customer are. Based on their sentiments, they can identify what users think of the current product. Are they happy? Discontent? \n",
    "*italicized text*They can also come up with a document that lists the features, the team needs to focus on for making the product better. \n",
    "\n",
    "## Objective\n",
    "\n",
    "Given the review data rating label, we will try to get insights about various brands and their ratings using text analytics and build a model to predict the rating and overall sentiment. \n"
   ]
  },
  {
   "cell_type": "markdown",
   "metadata": {
    "id": "CI7usguRzeox"
   },
   "source": [
    "### Package version\n",
    "\n",
    "- tensorflow==2.3.0\n",
    "- scikit-learn==0.22.2.post1\n",
    "- pandas==1.0.5\n",
    "- numpy==1.18.5\n",
    "- matplotlib==3.2.2\n",
    "- google==2.0.3"
   ]
  },
  {
   "cell_type": "markdown",
   "metadata": {
    "id": "aiMdVjHRH7NR"
   },
   "source": [
    "### Data Dictionary \n",
    "\n",
    "product_data.csv - contains product details\n",
    "- 'asin',  - Product ASIN\n",
    "- 'brand', - Product Brand\n",
    "- 'title', - Product Title\n",
    "- 'url',  - Product URL\n",
    "- 'image', - Product Image URL\n",
    "- 'rating',- Product Avg. Rating\n",
    "- 'reviewUrl' - Product Review Page URL\n",
    "- 'totalReviews' - Product Total Reviews\n",
    "- ‘price’ - Product Price ($)\n",
    "- ‘originalPrice’ - Product Original Price ($)\n",
    " \n",
    "reviews.csv  - contains user review details\n",
    " \n",
    "- 'asin' - Product ASIN\n",
    "- 'name' - Reviewer Name\n",
    "- 'rating' - Reviewer Rating (scale 1 to 5)\n",
    "- 'date'  - Review Date\n",
    "- 'verified' - Valid Customer\n",
    "- 'title'  - Review Title\n",
    "- 'body'  - Review Content\n",
    "- 'helpfulVotes  - Helpful Feedbacks\n"
   ]
  },
  {
   "cell_type": "markdown",
   "metadata": {
    "id": "cEn52o8jznJK"
   },
   "source": [
    "## Table of Content\n",
    "\n",
    "1. Import Libraries\n",
    "\n",
    "2. Setting options\n",
    "\n",
    "3. Read Data\n",
    "\n",
    "4. Data Analysis and EDA\n",
    "\n",
    "5. Text preprocessing and Vectorization\n",
    "\n",
    "6. Model building\n",
    "\n",
    "7. Conclusion and Interpretation"
   ]
  },
  {
   "cell_type": "code",
   "execution_count": 124,
   "metadata": {
    "id": "fD9O80yJhEfC"
   },
   "outputs": [],
   "source": []
  },
  {
   "cell_type": "markdown",
   "metadata": {
    "id": "x_Lom6cXzqn7"
   },
   "source": [
    "## 1. Import Libraries"
   ]
  },
  {
   "cell_type": "markdown",
   "metadata": {
    "id": "FZtVstH8zre2"
   },
   "source": [
    "Let us start by mounting the drive"
   ]
  },
  {
   "cell_type": "code",
   "execution_count": 125,
   "metadata": {
    "colab": {
     "base_uri": "https://localhost:8080/"
    },
    "id": "xv9jxv3-R5Xl",
    "outputId": "25e8ec63-1f3d-4bba-cf89-bd82f4a25a3d"
   },
   "outputs": [
    {
     "name": "stdout",
     "output_type": "stream",
     "text": [
      "Drive already mounted at /content/drive; to attempt to forcibly remount, call drive.mount(\"/content/drive\", force_remount=True).\n"
     ]
    }
   ],
   "source": [
    "from google.colab import drive\n",
    "drive.mount('/content/drive')"
   ]
  },
  {
   "cell_type": "markdown",
   "metadata": {
    "id": "Gv-tZoFjz2WD"
   },
   "source": [
    "Let us check for the version of installed tensorflow."
   ]
  },
  {
   "cell_type": "code",
   "execution_count": 126,
   "metadata": {
    "colab": {
     "base_uri": "https://localhost:8080/"
    },
    "id": "eiuUVBuDzzn9",
    "outputId": "e6f31d3d-d9c6-40d9-c029-e080ba8d2bd6"
   },
   "outputs": [
    {
     "name": "stdout",
     "output_type": "stream",
     "text": [
      "2.4.1\n"
     ]
    }
   ],
   "source": [
    "# used to supress display of warnings\n",
    "import warnings\n",
    "\n",
    "# os is used to provide a way of using operating system dependent functionality\n",
    "# We use it for setting working folder\n",
    "import os\n",
    "\n",
    "# Pandas is used for data manipulation and analysis\n",
    "import pandas as pd \n",
    "\n",
    "# Numpy is used for large, multi-dimensional arrays and matrices, along with mathematical operators on these arrays\n",
    "import numpy as np\n",
    "\n",
    "# Matplotlib is a data visualization library for 2D plots of arrays, built on NumPy arrays \n",
    "# and designed to work with the broader SciPy stack\n",
    "import matplotlib.pyplot as plt\n",
    "%matplotlib inline\n",
    "from matplotlib import pyplot\n",
    "\n",
    "# Seaborn is based on matplotlib, which aids in drawing attractive and informative statistical graphics.\n",
    "import seaborn as sns\n",
    "import tensorflow \n",
    "print(tensorflow.__version__)"
   ]
  },
  {
   "cell_type": "markdown",
   "metadata": {
    "id": "fze-aokU0ukH"
   },
   "source": [
    "## 2. Setting Options"
   ]
  },
  {
   "cell_type": "code",
   "execution_count": 127,
   "metadata": {
    "id": "T3FALggG0xXa"
   },
   "outputs": [],
   "source": [
    "# suppress display of warnings\n",
    "warnings.filterwarnings('ignore')\n",
    "\n",
    "# display all dataframe columns\n",
    "pd.options.display.max_columns = None\n",
    "\n",
    "# to set the limit to 3 decimals\n",
    "pd.options.display.float_format = '{:.7f}'.format\n",
    "\n",
    "# display all dataframe rows\n",
    "pd.options.display.max_rows = None"
   ]
  },
  {
   "cell_type": "markdown",
   "metadata": {
    "id": "ZT1P1WdK1vfZ"
   },
   "source": [
    "## 3. Read Data"
   ]
  },
  {
   "cell_type": "markdown",
   "metadata": {
    "id": "-UOW6zwww7L1"
   },
   "source": [
    "### 3.1 Read the provided CSVs and check 5 random samples and shape to understand the datasets"
   ]
  },
  {
   "cell_type": "code",
   "execution_count": 229,
   "metadata": {
    "id": "nxT2g284xF1W"
   },
   "outputs": [],
   "source": [
    "os.chdir('/content/drive/MyDrive/Colab Notebooks/StatisticalNLP')"
   ]
  },
  {
   "cell_type": "code",
   "execution_count": 230,
   "metadata": {
    "colab": {
     "base_uri": "https://localhost:8080/",
     "height": 35
    },
    "id": "GRjG44fRxGIq",
    "outputId": "ce045ec9-7508-4bf9-f668-457bcc03b653"
   },
   "outputs": [
    {
     "data": {
      "application/vnd.google.colaboratory.intrinsic+json": {
       "type": "string"
      },
      "text/plain": [
       "'/content/drive/MyDrive/Colab Notebooks/StatisticalNLP'"
      ]
     },
     "execution_count": 230,
     "metadata": {
      "tags": []
     },
     "output_type": "execute_result"
    }
   ],
   "source": [
    "os.getcwd()"
   ]
  },
  {
   "cell_type": "code",
   "execution_count": 231,
   "metadata": {
    "id": "l_kpRXnqjIPv"
   },
   "outputs": [],
   "source": [
    "product_df = pd.read_csv('product_data.csv')\n",
    "reviews_df = pd.read_csv('reviews.csv')"
   ]
  },
  {
   "cell_type": "code",
   "execution_count": 232,
   "metadata": {
    "colab": {
     "base_uri": "https://localhost:8080/",
     "height": 289
    },
    "id": "7wg4WqDbji9s",
    "outputId": "64a7c3b4-a671-42a5-8229-50e0e6557ac0"
   },
   "outputs": [
    {
     "data": {
      "text/html": [
       "<div>\n",
       "<style scoped>\n",
       "    .dataframe tbody tr th:only-of-type {\n",
       "        vertical-align: middle;\n",
       "    }\n",
       "\n",
       "    .dataframe tbody tr th {\n",
       "        vertical-align: top;\n",
       "    }\n",
       "\n",
       "    .dataframe thead th {\n",
       "        text-align: right;\n",
       "    }\n",
       "</style>\n",
       "<table border=\"1\" class=\"dataframe\">\n",
       "  <thead>\n",
       "    <tr style=\"text-align: right;\">\n",
       "      <th></th>\n",
       "      <th>asin</th>\n",
       "      <th>brand</th>\n",
       "      <th>title</th>\n",
       "      <th>url</th>\n",
       "      <th>image</th>\n",
       "      <th>rating</th>\n",
       "      <th>reviewUrl</th>\n",
       "      <th>totalReviews</th>\n",
       "      <th>price</th>\n",
       "      <th>originalPrice</th>\n",
       "    </tr>\n",
       "  </thead>\n",
       "  <tbody>\n",
       "    <tr>\n",
       "      <th>0</th>\n",
       "      <td>B0000SX2UC</td>\n",
       "      <td>NaN</td>\n",
       "      <td>Dual-Band / Tri-Mode Sprint PCS Phone w/ Voice...</td>\n",
       "      <td>https://www.amazon.com/Dual-Band-Tri-Mode-Acti...</td>\n",
       "      <td>https://m.media-amazon.com/images/I/2143EBQ210...</td>\n",
       "      <td>3.0000000</td>\n",
       "      <td>https://www.amazon.com/product-reviews/B0000SX2UC</td>\n",
       "      <td>14</td>\n",
       "      <td>0.0000000</td>\n",
       "      <td>0.0000000</td>\n",
       "    </tr>\n",
       "    <tr>\n",
       "      <th>1</th>\n",
       "      <td>B0009N5L7K</td>\n",
       "      <td>Motorola</td>\n",
       "      <td>Motorola I265 phone</td>\n",
       "      <td>https://www.amazon.com/Motorola-i265-I265-phon...</td>\n",
       "      <td>https://m.media-amazon.com/images/I/419WBAVDAR...</td>\n",
       "      <td>3.0000000</td>\n",
       "      <td>https://www.amazon.com/product-reviews/B0009N5L7K</td>\n",
       "      <td>7</td>\n",
       "      <td>49.9500000</td>\n",
       "      <td>0.0000000</td>\n",
       "    </tr>\n",
       "    <tr>\n",
       "      <th>2</th>\n",
       "      <td>B000SKTZ0S</td>\n",
       "      <td>Motorola</td>\n",
       "      <td>MOTOROLA C168i AT&amp;T CINGULAR PREPAID GOPHONE C...</td>\n",
       "      <td>https://www.amazon.com/MOTOROLA-C168i-CINGULAR...</td>\n",
       "      <td>https://m.media-amazon.com/images/I/71b+q3ydkI...</td>\n",
       "      <td>2.7000000</td>\n",
       "      <td>https://www.amazon.com/product-reviews/B000SKTZ0S</td>\n",
       "      <td>22</td>\n",
       "      <td>99.9900000</td>\n",
       "      <td>0.0000000</td>\n",
       "    </tr>\n",
       "    <tr>\n",
       "      <th>3</th>\n",
       "      <td>B001AO4OUC</td>\n",
       "      <td>Motorola</td>\n",
       "      <td>Motorola i335 Cell Phone Boost Mobile</td>\n",
       "      <td>https://www.amazon.com/Motorola-i335-Phone-Boo...</td>\n",
       "      <td>https://m.media-amazon.com/images/I/710UO8gdT+...</td>\n",
       "      <td>3.3000000</td>\n",
       "      <td>https://www.amazon.com/product-reviews/B001AO4OUC</td>\n",
       "      <td>21</td>\n",
       "      <td>0.0000000</td>\n",
       "      <td>0.0000000</td>\n",
       "    </tr>\n",
       "    <tr>\n",
       "      <th>4</th>\n",
       "      <td>B001DCJAJG</td>\n",
       "      <td>Motorola</td>\n",
       "      <td>Motorola V365 no contract cellular phone AT&amp;T</td>\n",
       "      <td>https://www.amazon.com/Motorola-V365-contract-...</td>\n",
       "      <td>https://m.media-amazon.com/images/I/61LYNCVrrK...</td>\n",
       "      <td>3.1000000</td>\n",
       "      <td>https://www.amazon.com/product-reviews/B001DCJAJG</td>\n",
       "      <td>12</td>\n",
       "      <td>149.9900000</td>\n",
       "      <td>0.0000000</td>\n",
       "    </tr>\n",
       "  </tbody>\n",
       "</table>\n",
       "</div>"
      ],
      "text/plain": [
       "         asin     brand                                              title  \\\n",
       "0  B0000SX2UC       NaN  Dual-Band / Tri-Mode Sprint PCS Phone w/ Voice...   \n",
       "1  B0009N5L7K  Motorola                                Motorola I265 phone   \n",
       "2  B000SKTZ0S  Motorola  MOTOROLA C168i AT&T CINGULAR PREPAID GOPHONE C...   \n",
       "3  B001AO4OUC  Motorola              Motorola i335 Cell Phone Boost Mobile   \n",
       "4  B001DCJAJG  Motorola      Motorola V365 no contract cellular phone AT&T   \n",
       "\n",
       "                                                 url  \\\n",
       "0  https://www.amazon.com/Dual-Band-Tri-Mode-Acti...   \n",
       "1  https://www.amazon.com/Motorola-i265-I265-phon...   \n",
       "2  https://www.amazon.com/MOTOROLA-C168i-CINGULAR...   \n",
       "3  https://www.amazon.com/Motorola-i335-Phone-Boo...   \n",
       "4  https://www.amazon.com/Motorola-V365-contract-...   \n",
       "\n",
       "                                               image    rating  \\\n",
       "0  https://m.media-amazon.com/images/I/2143EBQ210... 3.0000000   \n",
       "1  https://m.media-amazon.com/images/I/419WBAVDAR... 3.0000000   \n",
       "2  https://m.media-amazon.com/images/I/71b+q3ydkI... 2.7000000   \n",
       "3  https://m.media-amazon.com/images/I/710UO8gdT+... 3.3000000   \n",
       "4  https://m.media-amazon.com/images/I/61LYNCVrrK... 3.1000000   \n",
       "\n",
       "                                           reviewUrl  totalReviews  \\\n",
       "0  https://www.amazon.com/product-reviews/B0000SX2UC            14   \n",
       "1  https://www.amazon.com/product-reviews/B0009N5L7K             7   \n",
       "2  https://www.amazon.com/product-reviews/B000SKTZ0S            22   \n",
       "3  https://www.amazon.com/product-reviews/B001AO4OUC            21   \n",
       "4  https://www.amazon.com/product-reviews/B001DCJAJG            12   \n",
       "\n",
       "        price  originalPrice  \n",
       "0   0.0000000      0.0000000  \n",
       "1  49.9500000      0.0000000  \n",
       "2  99.9900000      0.0000000  \n",
       "3   0.0000000      0.0000000  \n",
       "4 149.9900000      0.0000000  "
      ]
     },
     "execution_count": 232,
     "metadata": {
      "tags": []
     },
     "output_type": "execute_result"
    }
   ],
   "source": [
    "product_df.head()"
   ]
  },
  {
   "cell_type": "code",
   "execution_count": 233,
   "metadata": {
    "colab": {
     "base_uri": "https://localhost:8080/",
     "height": 204
    },
    "id": "tzbfMmXEji67",
    "outputId": "08065206-bbab-4585-bcf0-cf5be14903cd"
   },
   "outputs": [
    {
     "data": {
      "text/html": [
       "<div>\n",
       "<style scoped>\n",
       "    .dataframe tbody tr th:only-of-type {\n",
       "        vertical-align: middle;\n",
       "    }\n",
       "\n",
       "    .dataframe tbody tr th {\n",
       "        vertical-align: top;\n",
       "    }\n",
       "\n",
       "    .dataframe thead th {\n",
       "        text-align: right;\n",
       "    }\n",
       "</style>\n",
       "<table border=\"1\" class=\"dataframe\">\n",
       "  <thead>\n",
       "    <tr style=\"text-align: right;\">\n",
       "      <th></th>\n",
       "      <th>asin</th>\n",
       "      <th>name</th>\n",
       "      <th>rating</th>\n",
       "      <th>date</th>\n",
       "      <th>verified</th>\n",
       "      <th>title</th>\n",
       "      <th>body</th>\n",
       "      <th>helpfulVotes</th>\n",
       "    </tr>\n",
       "  </thead>\n",
       "  <tbody>\n",
       "    <tr>\n",
       "      <th>0</th>\n",
       "      <td>B0000SX2UC</td>\n",
       "      <td>Janet</td>\n",
       "      <td>3</td>\n",
       "      <td>October 11, 2005</td>\n",
       "      <td>False</td>\n",
       "      <td>Def not best, but not worst</td>\n",
       "      <td>I had the Samsung A600 for awhile which is abs...</td>\n",
       "      <td>1.0000000</td>\n",
       "    </tr>\n",
       "    <tr>\n",
       "      <th>1</th>\n",
       "      <td>B0000SX2UC</td>\n",
       "      <td>Luke Wyatt</td>\n",
       "      <td>1</td>\n",
       "      <td>January 7, 2004</td>\n",
       "      <td>False</td>\n",
       "      <td>Text Messaging Doesn't Work</td>\n",
       "      <td>Due to a software issue between Nokia and Spri...</td>\n",
       "      <td>17.0000000</td>\n",
       "    </tr>\n",
       "    <tr>\n",
       "      <th>2</th>\n",
       "      <td>B0000SX2UC</td>\n",
       "      <td>Brooke</td>\n",
       "      <td>5</td>\n",
       "      <td>December 30, 2003</td>\n",
       "      <td>False</td>\n",
       "      <td>Love This Phone</td>\n",
       "      <td>This is a great, reliable phone. I also purcha...</td>\n",
       "      <td>5.0000000</td>\n",
       "    </tr>\n",
       "    <tr>\n",
       "      <th>3</th>\n",
       "      <td>B0000SX2UC</td>\n",
       "      <td>amy m. teague</td>\n",
       "      <td>3</td>\n",
       "      <td>March 18, 2004</td>\n",
       "      <td>False</td>\n",
       "      <td>Love the Phone, BUT...!</td>\n",
       "      <td>I love the phone and all, because I really did...</td>\n",
       "      <td>1.0000000</td>\n",
       "    </tr>\n",
       "    <tr>\n",
       "      <th>4</th>\n",
       "      <td>B0000SX2UC</td>\n",
       "      <td>tristazbimmer</td>\n",
       "      <td>4</td>\n",
       "      <td>August 28, 2005</td>\n",
       "      <td>False</td>\n",
       "      <td>Great phone service and options, lousy case!</td>\n",
       "      <td>The phone has been great for every purpose it ...</td>\n",
       "      <td>1.0000000</td>\n",
       "    </tr>\n",
       "  </tbody>\n",
       "</table>\n",
       "</div>"
      ],
      "text/plain": [
       "         asin           name  rating               date  verified  \\\n",
       "0  B0000SX2UC          Janet       3   October 11, 2005     False   \n",
       "1  B0000SX2UC     Luke Wyatt       1    January 7, 2004     False   \n",
       "2  B0000SX2UC         Brooke       5  December 30, 2003     False   \n",
       "3  B0000SX2UC  amy m. teague       3     March 18, 2004     False   \n",
       "4  B0000SX2UC  tristazbimmer       4    August 28, 2005     False   \n",
       "\n",
       "                                          title  \\\n",
       "0                   Def not best, but not worst   \n",
       "1                   Text Messaging Doesn't Work   \n",
       "2                               Love This Phone   \n",
       "3                       Love the Phone, BUT...!   \n",
       "4  Great phone service and options, lousy case!   \n",
       "\n",
       "                                                body  helpfulVotes  \n",
       "0  I had the Samsung A600 for awhile which is abs...     1.0000000  \n",
       "1  Due to a software issue between Nokia and Spri...    17.0000000  \n",
       "2  This is a great, reliable phone. I also purcha...     5.0000000  \n",
       "3  I love the phone and all, because I really did...     1.0000000  \n",
       "4  The phone has been great for every purpose it ...     1.0000000  "
      ]
     },
     "execution_count": 233,
     "metadata": {
      "tags": []
     },
     "output_type": "execute_result"
    }
   ],
   "source": [
    "reviews_df.head()"
   ]
  },
  {
   "cell_type": "code",
   "execution_count": 234,
   "metadata": {
    "colab": {
     "base_uri": "https://localhost:8080/"
    },
    "id": "p7lO7PGPji3t",
    "outputId": "b96a3837-edb4-4d45-f8c6-c5c359573073"
   },
   "outputs": [
    {
     "data": {
      "text/plain": [
       "(720, 10)"
      ]
     },
     "execution_count": 234,
     "metadata": {
      "tags": []
     },
     "output_type": "execute_result"
    }
   ],
   "source": [
    "product_df.shape"
   ]
  },
  {
   "cell_type": "code",
   "execution_count": 235,
   "metadata": {
    "colab": {
     "base_uri": "https://localhost:8080/"
    },
    "id": "q5mBhOAFj8Zo",
    "outputId": "d7d1c182-0be1-4041-907d-b4e37ca5611e"
   },
   "outputs": [
    {
     "data": {
      "text/plain": [
       "(67986, 8)"
      ]
     },
     "execution_count": 235,
     "metadata": {
      "tags": []
     },
     "output_type": "execute_result"
    }
   ],
   "source": [
    "reviews_df.shape"
   ]
  },
  {
   "cell_type": "markdown",
   "metadata": {
    "id": "rED6DbDBKTjM"
   },
   "source": [
    "## 4.  Data Analysis and EDA"
   ]
  },
  {
   "cell_type": "markdown",
   "metadata": {
    "id": "awlqmp40xMfc"
   },
   "source": [
    "### 4.1 Drop unnecessary columns like 'url', 'image' from the product_data"
   ]
  },
  {
   "cell_type": "code",
   "execution_count": 135,
   "metadata": {
    "id": "VT4d-6TCxZCm"
   },
   "outputs": [],
   "source": [
    "# prod_df=product_df.drop(columns=['url','image','reviewUrl'])"
   ]
  },
  {
   "cell_type": "code",
   "execution_count": 136,
   "metadata": {
    "id": "oZzwyRzLlt-J"
   },
   "outputs": [],
   "source": [
    "product_df.drop(['url','image','reviewUrl','title'],axis=1,inplace=True)"
   ]
  },
  {
   "cell_type": "code",
   "execution_count": 137,
   "metadata": {
    "colab": {
     "base_uri": "https://localhost:8080/"
    },
    "id": "fZfoZaAum06h",
    "outputId": "55137133-98d7-41b7-ed82-59f12c325584"
   },
   "outputs": [
    {
     "data": {
      "text/plain": [
       "Index(['asin', 'brand', 'rating', 'totalReviews', 'price', 'originalPrice'], dtype='object')"
      ]
     },
     "execution_count": 137,
     "metadata": {
      "tags": []
     },
     "output_type": "execute_result"
    }
   ],
   "source": [
    "product_df.columns"
   ]
  },
  {
   "cell_type": "markdown",
   "metadata": {
    "id": "Zk0WW5D5xZK9"
   },
   "source": [
    "### 4.2 Check statistical summary of both datasets. Note:- Include both numerical and object type columns."
   ]
  },
  {
   "cell_type": "code",
   "execution_count": 138,
   "metadata": {
    "colab": {
     "base_uri": "https://localhost:8080/"
    },
    "id": "ylwcqQpcx_Tl",
    "outputId": "cba6797b-a504-4f75-8c22-579660a4e2a8"
   },
   "outputs": [
    {
     "name": "stdout",
     "output_type": "stream",
     "text": [
      "<class 'pandas.core.frame.DataFrame'>\n",
      "RangeIndex: 720 entries, 0 to 719\n",
      "Data columns (total 6 columns):\n",
      " #   Column         Non-Null Count  Dtype  \n",
      "---  ------         --------------  -----  \n",
      " 0   asin           720 non-null    object \n",
      " 1   brand          716 non-null    object \n",
      " 2   rating         720 non-null    float64\n",
      " 3   totalReviews   720 non-null    int64  \n",
      " 4   price          720 non-null    float64\n",
      " 5   originalPrice  720 non-null    float64\n",
      "dtypes: float64(3), int64(1), object(2)\n",
      "memory usage: 33.9+ KB\n"
     ]
    }
   ],
   "source": [
    "product_df.info()"
   ]
  },
  {
   "cell_type": "code",
   "execution_count": 139,
   "metadata": {
    "colab": {
     "base_uri": "https://localhost:8080/"
    },
    "id": "WFaDkvIjyDtG",
    "outputId": "f548ddb5-0d88-4977-a9a8-611293fbc7df"
   },
   "outputs": [
    {
     "name": "stdout",
     "output_type": "stream",
     "text": [
      "<class 'pandas.core.frame.DataFrame'>\n",
      "RangeIndex: 67986 entries, 0 to 67985\n",
      "Data columns (total 8 columns):\n",
      " #   Column        Non-Null Count  Dtype  \n",
      "---  ------        --------------  -----  \n",
      " 0   asin          67986 non-null  object \n",
      " 1   name          67984 non-null  object \n",
      " 2   rating        67986 non-null  int64  \n",
      " 3   date          67986 non-null  object \n",
      " 4   verified      67986 non-null  bool   \n",
      " 5   title         67972 non-null  object \n",
      " 6   body          67965 non-null  object \n",
      " 7   helpfulVotes  27215 non-null  float64\n",
      "dtypes: bool(1), float64(1), int64(1), object(5)\n",
      "memory usage: 3.7+ MB\n"
     ]
    }
   ],
   "source": [
    "reviews_df.info()"
   ]
  },
  {
   "cell_type": "code",
   "execution_count": 140,
   "metadata": {
    "colab": {
     "base_uri": "https://localhost:8080/",
     "height": 390
    },
    "id": "VKjxnIYWni4o",
    "outputId": "50f11335-a516-4022-ad1f-86abddf0479f"
   },
   "outputs": [
    {
     "data": {
      "text/html": [
       "<div>\n",
       "<style scoped>\n",
       "    .dataframe tbody tr th:only-of-type {\n",
       "        vertical-align: middle;\n",
       "    }\n",
       "\n",
       "    .dataframe tbody tr th {\n",
       "        vertical-align: top;\n",
       "    }\n",
       "\n",
       "    .dataframe thead th {\n",
       "        text-align: right;\n",
       "    }\n",
       "</style>\n",
       "<table border=\"1\" class=\"dataframe\">\n",
       "  <thead>\n",
       "    <tr style=\"text-align: right;\">\n",
       "      <th></th>\n",
       "      <th>asin</th>\n",
       "      <th>brand</th>\n",
       "      <th>rating</th>\n",
       "      <th>totalReviews</th>\n",
       "      <th>price</th>\n",
       "      <th>originalPrice</th>\n",
       "    </tr>\n",
       "  </thead>\n",
       "  <tbody>\n",
       "    <tr>\n",
       "      <th>count</th>\n",
       "      <td>720</td>\n",
       "      <td>716</td>\n",
       "      <td>720.0000000</td>\n",
       "      <td>720.0000000</td>\n",
       "      <td>720.0000000</td>\n",
       "      <td>720.0000000</td>\n",
       "    </tr>\n",
       "    <tr>\n",
       "      <th>unique</th>\n",
       "      <td>720</td>\n",
       "      <td>10</td>\n",
       "      <td>nan</td>\n",
       "      <td>nan</td>\n",
       "      <td>nan</td>\n",
       "      <td>nan</td>\n",
       "    </tr>\n",
       "    <tr>\n",
       "      <th>top</th>\n",
       "      <td>B01CJ3SCJ6</td>\n",
       "      <td>Samsung</td>\n",
       "      <td>nan</td>\n",
       "      <td>nan</td>\n",
       "      <td>nan</td>\n",
       "      <td>nan</td>\n",
       "    </tr>\n",
       "    <tr>\n",
       "      <th>freq</th>\n",
       "      <td>1</td>\n",
       "      <td>346</td>\n",
       "      <td>nan</td>\n",
       "      <td>nan</td>\n",
       "      <td>nan</td>\n",
       "      <td>nan</td>\n",
       "    </tr>\n",
       "    <tr>\n",
       "      <th>mean</th>\n",
       "      <td>NaN</td>\n",
       "      <td>NaN</td>\n",
       "      <td>3.7137500</td>\n",
       "      <td>105.6791667</td>\n",
       "      <td>234.9489306</td>\n",
       "      <td>63.6907778</td>\n",
       "    </tr>\n",
       "    <tr>\n",
       "      <th>std</th>\n",
       "      <td>NaN</td>\n",
       "      <td>NaN</td>\n",
       "      <td>0.7160138</td>\n",
       "      <td>167.6011014</td>\n",
       "      <td>200.0084407</td>\n",
       "      <td>172.4053696</td>\n",
       "    </tr>\n",
       "    <tr>\n",
       "      <th>min</th>\n",
       "      <td>NaN</td>\n",
       "      <td>NaN</td>\n",
       "      <td>1.0000000</td>\n",
       "      <td>1.0000000</td>\n",
       "      <td>0.0000000</td>\n",
       "      <td>0.0000000</td>\n",
       "    </tr>\n",
       "    <tr>\n",
       "      <th>25%</th>\n",
       "      <td>NaN</td>\n",
       "      <td>NaN</td>\n",
       "      <td>3.3000000</td>\n",
       "      <td>7.0000000</td>\n",
       "      <td>97.5125000</td>\n",
       "      <td>0.0000000</td>\n",
       "    </tr>\n",
       "    <tr>\n",
       "      <th>50%</th>\n",
       "      <td>NaN</td>\n",
       "      <td>NaN</td>\n",
       "      <td>3.8000000</td>\n",
       "      <td>32.0000000</td>\n",
       "      <td>188.9750000</td>\n",
       "      <td>0.0000000</td>\n",
       "    </tr>\n",
       "    <tr>\n",
       "      <th>75%</th>\n",
       "      <td>NaN</td>\n",
       "      <td>NaN</td>\n",
       "      <td>4.1000000</td>\n",
       "      <td>122.2500000</td>\n",
       "      <td>336.7250000</td>\n",
       "      <td>0.0000000</td>\n",
       "    </tr>\n",
       "    <tr>\n",
       "      <th>max</th>\n",
       "      <td>NaN</td>\n",
       "      <td>NaN</td>\n",
       "      <td>5.0000000</td>\n",
       "      <td>983.0000000</td>\n",
       "      <td>999.9900000</td>\n",
       "      <td>999.9900000</td>\n",
       "    </tr>\n",
       "  </tbody>\n",
       "</table>\n",
       "</div>"
      ],
      "text/plain": [
       "              asin    brand      rating  totalReviews       price  \\\n",
       "count          720      716 720.0000000   720.0000000 720.0000000   \n",
       "unique         720       10         nan           nan         nan   \n",
       "top     B01CJ3SCJ6  Samsung         nan           nan         nan   \n",
       "freq             1      346         nan           nan         nan   \n",
       "mean           NaN      NaN   3.7137500   105.6791667 234.9489306   \n",
       "std            NaN      NaN   0.7160138   167.6011014 200.0084407   \n",
       "min            NaN      NaN   1.0000000     1.0000000   0.0000000   \n",
       "25%            NaN      NaN   3.3000000     7.0000000  97.5125000   \n",
       "50%            NaN      NaN   3.8000000    32.0000000 188.9750000   \n",
       "75%            NaN      NaN   4.1000000   122.2500000 336.7250000   \n",
       "max            NaN      NaN   5.0000000   983.0000000 999.9900000   \n",
       "\n",
       "        originalPrice  \n",
       "count     720.0000000  \n",
       "unique            nan  \n",
       "top               nan  \n",
       "freq              nan  \n",
       "mean       63.6907778  \n",
       "std       172.4053696  \n",
       "min         0.0000000  \n",
       "25%         0.0000000  \n",
       "50%         0.0000000  \n",
       "75%         0.0000000  \n",
       "max       999.9900000  "
      ]
     },
     "execution_count": 140,
     "metadata": {
      "tags": []
     },
     "output_type": "execute_result"
    }
   ],
   "source": [
    "product_df.describe(include='all')"
   ]
  },
  {
   "cell_type": "code",
   "execution_count": 141,
   "metadata": {
    "colab": {
     "base_uri": "https://localhost:8080/",
     "height": 390
    },
    "id": "0UWNJZuyntNM",
    "outputId": "cbffb473-6d7a-4e6f-ea53-d261e0c8aaea"
   },
   "outputs": [
    {
     "data": {
      "text/html": [
       "<div>\n",
       "<style scoped>\n",
       "    .dataframe tbody tr th:only-of-type {\n",
       "        vertical-align: middle;\n",
       "    }\n",
       "\n",
       "    .dataframe tbody tr th {\n",
       "        vertical-align: top;\n",
       "    }\n",
       "\n",
       "    .dataframe thead th {\n",
       "        text-align: right;\n",
       "    }\n",
       "</style>\n",
       "<table border=\"1\" class=\"dataframe\">\n",
       "  <thead>\n",
       "    <tr style=\"text-align: right;\">\n",
       "      <th></th>\n",
       "      <th>asin</th>\n",
       "      <th>name</th>\n",
       "      <th>rating</th>\n",
       "      <th>date</th>\n",
       "      <th>verified</th>\n",
       "      <th>title</th>\n",
       "      <th>body</th>\n",
       "      <th>helpfulVotes</th>\n",
       "    </tr>\n",
       "  </thead>\n",
       "  <tbody>\n",
       "    <tr>\n",
       "      <th>count</th>\n",
       "      <td>67986</td>\n",
       "      <td>67984</td>\n",
       "      <td>67986.0000000</td>\n",
       "      <td>67986</td>\n",
       "      <td>67986</td>\n",
       "      <td>67972</td>\n",
       "      <td>67965</td>\n",
       "      <td>27215.0000000</td>\n",
       "    </tr>\n",
       "    <tr>\n",
       "      <th>unique</th>\n",
       "      <td>720</td>\n",
       "      <td>47323</td>\n",
       "      <td>nan</td>\n",
       "      <td>2983</td>\n",
       "      <td>2</td>\n",
       "      <td>41489</td>\n",
       "      <td>59811</td>\n",
       "      <td>nan</td>\n",
       "    </tr>\n",
       "    <tr>\n",
       "      <th>top</th>\n",
       "      <td>B00F2SKPIM</td>\n",
       "      <td>Amazon Customer</td>\n",
       "      <td>nan</td>\n",
       "      <td>December 11, 2019</td>\n",
       "      <td>True</td>\n",
       "      <td>Five Stars</td>\n",
       "      <td>Good</td>\n",
       "      <td>nan</td>\n",
       "    </tr>\n",
       "    <tr>\n",
       "      <th>freq</th>\n",
       "      <td>981</td>\n",
       "      <td>6507</td>\n",
       "      <td>nan</td>\n",
       "      <td>234</td>\n",
       "      <td>61225</td>\n",
       "      <td>6043</td>\n",
       "      <td>303</td>\n",
       "      <td>nan</td>\n",
       "    </tr>\n",
       "    <tr>\n",
       "      <th>mean</th>\n",
       "      <td>NaN</td>\n",
       "      <td>NaN</td>\n",
       "      <td>3.8079163</td>\n",
       "      <td>NaN</td>\n",
       "      <td>NaN</td>\n",
       "      <td>NaN</td>\n",
       "      <td>NaN</td>\n",
       "      <td>8.2296895</td>\n",
       "    </tr>\n",
       "    <tr>\n",
       "      <th>std</th>\n",
       "      <td>NaN</td>\n",
       "      <td>NaN</td>\n",
       "      <td>1.5829058</td>\n",
       "      <td>NaN</td>\n",
       "      <td>NaN</td>\n",
       "      <td>NaN</td>\n",
       "      <td>NaN</td>\n",
       "      <td>31.9548772</td>\n",
       "    </tr>\n",
       "    <tr>\n",
       "      <th>min</th>\n",
       "      <td>NaN</td>\n",
       "      <td>NaN</td>\n",
       "      <td>1.0000000</td>\n",
       "      <td>NaN</td>\n",
       "      <td>NaN</td>\n",
       "      <td>NaN</td>\n",
       "      <td>NaN</td>\n",
       "      <td>1.0000000</td>\n",
       "    </tr>\n",
       "    <tr>\n",
       "      <th>25%</th>\n",
       "      <td>NaN</td>\n",
       "      <td>NaN</td>\n",
       "      <td>3.0000000</td>\n",
       "      <td>NaN</td>\n",
       "      <td>NaN</td>\n",
       "      <td>NaN</td>\n",
       "      <td>NaN</td>\n",
       "      <td>1.0000000</td>\n",
       "    </tr>\n",
       "    <tr>\n",
       "      <th>50%</th>\n",
       "      <td>NaN</td>\n",
       "      <td>NaN</td>\n",
       "      <td>5.0000000</td>\n",
       "      <td>NaN</td>\n",
       "      <td>NaN</td>\n",
       "      <td>NaN</td>\n",
       "      <td>NaN</td>\n",
       "      <td>2.0000000</td>\n",
       "    </tr>\n",
       "    <tr>\n",
       "      <th>75%</th>\n",
       "      <td>NaN</td>\n",
       "      <td>NaN</td>\n",
       "      <td>5.0000000</td>\n",
       "      <td>NaN</td>\n",
       "      <td>NaN</td>\n",
       "      <td>NaN</td>\n",
       "      <td>NaN</td>\n",
       "      <td>5.0000000</td>\n",
       "    </tr>\n",
       "    <tr>\n",
       "      <th>max</th>\n",
       "      <td>NaN</td>\n",
       "      <td>NaN</td>\n",
       "      <td>5.0000000</td>\n",
       "      <td>NaN</td>\n",
       "      <td>NaN</td>\n",
       "      <td>NaN</td>\n",
       "      <td>NaN</td>\n",
       "      <td>990.0000000</td>\n",
       "    </tr>\n",
       "  </tbody>\n",
       "</table>\n",
       "</div>"
      ],
      "text/plain": [
       "              asin             name        rating               date verified  \\\n",
       "count        67986            67984 67986.0000000              67986    67986   \n",
       "unique         720            47323           nan               2983        2   \n",
       "top     B00F2SKPIM  Amazon Customer           nan  December 11, 2019     True   \n",
       "freq           981             6507           nan                234    61225   \n",
       "mean           NaN              NaN     3.8079163                NaN      NaN   \n",
       "std            NaN              NaN     1.5829058                NaN      NaN   \n",
       "min            NaN              NaN     1.0000000                NaN      NaN   \n",
       "25%            NaN              NaN     3.0000000                NaN      NaN   \n",
       "50%            NaN              NaN     5.0000000                NaN      NaN   \n",
       "75%            NaN              NaN     5.0000000                NaN      NaN   \n",
       "max            NaN              NaN     5.0000000                NaN      NaN   \n",
       "\n",
       "             title   body  helpfulVotes  \n",
       "count        67972  67965 27215.0000000  \n",
       "unique       41489  59811           nan  \n",
       "top     Five Stars   Good           nan  \n",
       "freq          6043    303           nan  \n",
       "mean           NaN    NaN     8.2296895  \n",
       "std            NaN    NaN    31.9548772  \n",
       "min            NaN    NaN     1.0000000  \n",
       "25%            NaN    NaN     1.0000000  \n",
       "50%            NaN    NaN     2.0000000  \n",
       "75%            NaN    NaN     5.0000000  \n",
       "max            NaN    NaN   990.0000000  "
      ]
     },
     "execution_count": 141,
     "metadata": {
      "tags": []
     },
     "output_type": "execute_result"
    }
   ],
   "source": [
    "reviews_df.describe(include='all')"
   ]
  },
  {
   "cell_type": "markdown",
   "metadata": {
    "id": "cSdGfadUyEdU"
   },
   "source": [
    "### 4.3 From the above statistical summry, write inferences like count of unique products, top brand, top title, range of rating, price range, etc"
   ]
  },
  {
   "cell_type": "markdown",
   "metadata": {
    "id": "_TuAjgZIn4zD"
   },
   "source": [
    "### Inferences for Product Dataset\n",
    "\n",
    "There are 10 unique brands and samsung is top brand with 48% records(346)\n",
    "\n",
    "Prices ranges from 0 to 999.99\n",
    "\n",
    "All products are unique in Product data set and there are 720 products"
   ]
  },
  {
   "cell_type": "markdown",
   "metadata": {
    "id": "QbOwVWx7psDL"
   },
   "source": [
    "### Inferences for Reviews Dataset\n",
    "\n",
    "There is total of 67986 reviews and there are 47323 unique reviewers \n",
    "\n",
    "Top reviewer is with name Amazon Customer and for product B00F2SKPIM"
   ]
  },
  {
   "cell_type": "code",
   "execution_count": 141,
   "metadata": {
    "id": "Ddkn_hJmyKNb"
   },
   "outputs": [],
   "source": []
  },
  {
   "cell_type": "markdown",
   "metadata": {
    "id": "XMv_hXyxJKZK"
   },
   "source": [
    "### 4.4 Analyze the distribution of ratings and other categorical features like brand, etc"
   ]
  },
  {
   "cell_type": "code",
   "execution_count": 142,
   "metadata": {
    "colab": {
     "base_uri": "https://localhost:8080/",
     "height": 319
    },
    "id": "oEhjSsMcyirD",
    "outputId": "d44f3662-dc67-4b6d-a372-b7015df7fe91"
   },
   "outputs": [
    {
     "data": {
      "text/plain": [
       "<matplotlib.axes._subplots.AxesSubplot at 0x7f90e2e902e8>"
      ]
     },
     "execution_count": 142,
     "metadata": {
      "tags": []
     },
     "output_type": "execute_result"
    },
    {
     "data": {
      "image/png": "[encoded data removed]",
      "text/plain": [
       "<Figure size 432x288 with 1 Axes>"
      ]
     },
     "metadata": {
      "needs_background": "light",
      "tags": []
     },
     "output_type": "display_data"
    }
   ],
   "source": [
    "product_df['brand'].value_counts().plot(kind='bar')"
   ]
  },
  {
   "cell_type": "code",
   "execution_count": 143,
   "metadata": {
    "colab": {
     "base_uri": "https://localhost:8080/",
     "height": 288
    },
    "id": "PUF1KmvlrDW-",
    "outputId": "89c4fe1d-0c70-4e3d-b101-f62dee7ebb83"
   },
   "outputs": [
    {
     "data": {
      "text/plain": [
       "<matplotlib.axes._subplots.AxesSubplot at 0x7f90e2e73b00>"
      ]
     },
     "execution_count": 143,
     "metadata": {
      "tags": []
     },
     "output_type": "execute_result"
    },
    {
     "data": {
      "image/png": "[encoded data removed]",
      "text/plain": [
       "<Figure size 432x288 with 1 Axes>"
      ]
     },
     "metadata": {
      "needs_background": "light",
      "tags": []
     },
     "output_type": "display_data"
    }
   ],
   "source": [
    "product_df['rating'].value_counts().plot(kind='bar')"
   ]
  },
  {
   "cell_type": "markdown",
   "metadata": {
    "id": "jwZBGODgyi1a"
   },
   "source": [
    "### 4.5 Display average rating per brand"
   ]
  },
  {
   "cell_type": "code",
   "execution_count": 144,
   "metadata": {
    "colab": {
     "base_uri": "https://localhost:8080/"
    },
    "id": "OSBBiAv8yscd",
    "outputId": "beb1542c-ebb4-4232-8b73-0bb02d916911"
   },
   "outputs": [
    {
     "data": {
      "text/plain": [
       "brand\n",
       "ASUS       3.8600000\n",
       "Apple      3.7825397\n",
       "Google     3.7710526\n",
       "HUAWEI     4.0218750\n",
       "Motorola   3.6438095\n",
       "Nokia      3.3863636\n",
       "OnePlus    3.5800000\n",
       "Samsung    3.6326590\n",
       "Sony       3.7888889\n",
       "Xiaomi     4.4152174\n",
       "Name: rating, dtype: float64"
      ]
     },
     "execution_count": 144,
     "metadata": {
      "tags": []
     },
     "output_type": "execute_result"
    }
   ],
   "source": [
    "product_df.groupby('brand').mean()['rating']"
   ]
  },
  {
   "cell_type": "code",
   "execution_count": 145,
   "metadata": {
    "colab": {
     "base_uri": "https://localhost:8080/",
     "height": 333
    },
    "id": "TCZ51sl7rsGM",
    "outputId": "db771abd-62bb-406b-a564-a61c71a7b4fd"
   },
   "outputs": [
    {
     "data": {
      "text/plain": [
       "<matplotlib.axes._subplots.AxesSubplot at 0x7f90e2d46c18>"
      ]
     },
     "execution_count": 145,
     "metadata": {
      "tags": []
     },
     "output_type": "execute_result"
    },
    {
     "data": {
      "image/png": "[encoded data removed]",
      "text/plain": [
       "<Figure size 432x288 with 1 Axes>"
      ]
     },
     "metadata": {
      "needs_background": "light",
      "tags": []
     },
     "output_type": "display_data"
    }
   ],
   "source": [
    "product_df.groupby('brand').mean()['rating'].plot(kind='bar')"
   ]
  },
  {
   "cell_type": "markdown",
   "metadata": {
    "id": "vUXuEwlgyvB0"
   },
   "source": [
    "### 4.6 Display average price per brand"
   ]
  },
  {
   "cell_type": "code",
   "execution_count": 146,
   "metadata": {
    "colab": {
     "base_uri": "https://localhost:8080/",
     "height": 333
    },
    "id": "ACgIwVlyy3Pu",
    "outputId": "0381ecb2-6b6e-43e3-b755-8b4062f3dc2e"
   },
   "outputs": [
    {
     "data": {
      "text/plain": [
       "<matplotlib.axes._subplots.AxesSubplot at 0x7f90e556c978>"
      ]
     },
     "execution_count": 146,
     "metadata": {
      "tags": []
     },
     "output_type": "execute_result"
    },
    {
     "data": {
      "image/png": "[encoded data removed]",
      "text/plain": [
       "<Figure size 432x288 with 1 Axes>"
      ]
     },
     "metadata": {
      "needs_background": "light",
      "tags": []
     },
     "output_type": "display_data"
    }
   ],
   "source": [
    "product_df.groupby('brand').mean()['price'].plot(kind='bar')"
   ]
  },
  {
   "cell_type": "markdown",
   "metadata": {
    "id": "U0JfwL74y3a-"
   },
   "source": [
    "### 4.7 Display average 'totalReviews' per brand"
   ]
  },
  {
   "cell_type": "code",
   "execution_count": 147,
   "metadata": {
    "colab": {
     "base_uri": "https://localhost:8080/",
     "height": 333
    },
    "id": "wfzciNxqzBYu",
    "outputId": "c9759fd8-239c-4a11-a0af-221e588c03bf"
   },
   "outputs": [
    {
     "data": {
      "text/plain": [
       "<matplotlib.axes._subplots.AxesSubplot at 0x7f90e5150908>"
      ]
     },
     "execution_count": 147,
     "metadata": {
      "tags": []
     },
     "output_type": "execute_result"
    },
    {
     "data": {
      "image/png": "[encoded data removed]",
      "text/plain": [
       "<Figure size 432x288 with 1 Axes>"
      ]
     },
     "metadata": {
      "needs_background": "light",
      "tags": []
     },
     "output_type": "display_data"
    }
   ],
   "source": [
    "product_df.groupby('brand').mean()['totalReviews'].plot(kind='bar')"
   ]
  },
  {
   "cell_type": "markdown",
   "metadata": {
    "id": "ZbWR-U5_tUw4"
   },
   "source": [
    "### Inferences\n",
    "\n",
    "Nokia has more number of reviews but average rating for it is less (even Price)\n",
    "More reviews given for lowest price product\n",
    "\n",
    "Xiaomi has highest average rating and it not high price too"
   ]
  },
  {
   "cell_type": "markdown",
   "metadata": {
    "id": "x_fxI7OAeDUM"
   },
   "source": [
    "### 4.8 Merge two datasets using 'asin' and check the shape of the final dataset"
   ]
  },
  {
   "cell_type": "code",
   "execution_count": 148,
   "metadata": {
    "id": "svpHfWI9zNAP"
   },
   "outputs": [],
   "source": [
    "final_df=product_df.merge(reviews_df,how='inner',on='asin')"
   ]
  },
  {
   "cell_type": "code",
   "execution_count": 149,
   "metadata": {
    "colab": {
     "base_uri": "https://localhost:8080/"
    },
    "id": "lY_Xg_gZuTEG",
    "outputId": "2045bd4f-7cbf-4741-bd38-eb1d7b16c648"
   },
   "outputs": [
    {
     "data": {
      "text/plain": [
       "(67986, 13)"
      ]
     },
     "execution_count": 149,
     "metadata": {
      "tags": []
     },
     "output_type": "execute_result"
    }
   ],
   "source": [
    "final_df.shape"
   ]
  },
  {
   "cell_type": "code",
   "execution_count": 150,
   "metadata": {
    "colab": {
     "base_uri": "https://localhost:8080/"
    },
    "id": "q35Ifqj4u4pv",
    "outputId": "0e4218e2-d202-4b0a-dfd7-6484eebdf519"
   },
   "outputs": [
    {
     "data": {
      "text/plain": [
       "(67986, 13)"
      ]
     },
     "execution_count": 150,
     "metadata": {
      "tags": []
     },
     "output_type": "execute_result"
    }
   ],
   "source": [
    "## Another approach\n",
    "merged_df=pd.merge(product_df,reviews_df,how='inner',on='asin')\n",
    "merged_df.shape"
   ]
  },
  {
   "cell_type": "code",
   "execution_count": 150,
   "metadata": {
    "id": "4dT0RKiQu4em"
   },
   "outputs": [],
   "source": []
  },
  {
   "cell_type": "markdown",
   "metadata": {
    "id": "zdTfwlL7fYpq"
   },
   "source": [
    "### 4.9 Rename important features with appropriate names.\n",
    "Imortant features - \"rating_x\": \"user_rating\", \"title_x\": \"review_title\", \"title_y\": \"item_title\", \"rating_y\": \"overall_rating\""
   ]
  },
  {
   "cell_type": "code",
   "execution_count": 151,
   "metadata": {
    "colab": {
     "base_uri": "https://localhost:8080/"
    },
    "id": "KI-6FCkZztXM",
    "outputId": "b4ade5cf-e16b-4f1e-a446-065cacc2912f"
   },
   "outputs": [
    {
     "data": {
      "text/plain": [
       "Index(['asin', 'brand', 'rating_x', 'totalReviews', 'price', 'originalPrice',\n",
       "       'name', 'rating_y', 'date', 'verified', 'title', 'body',\n",
       "       'helpfulVotes'],\n",
       "      dtype='object')"
      ]
     },
     "execution_count": 151,
     "metadata": {
      "tags": []
     },
     "output_type": "execute_result"
    }
   ],
   "source": [
    "final_df.columns"
   ]
  },
  {
   "cell_type": "code",
   "execution_count": 152,
   "metadata": {
    "id": "-YOFwdAxvoTU"
   },
   "outputs": [],
   "source": [
    "final_df.rename(columns={'rating_x':'user_rating','title_x':'review_title','title_y':'item_title','rating_y':'overall_rating'},inplace=True)\n"
   ]
  },
  {
   "cell_type": "code",
   "execution_count": 153,
   "metadata": {
    "colab": {
     "base_uri": "https://localhost:8080/"
    },
    "id": "Zo_CL133wBPv",
    "outputId": "a1e1c5fc-0d99-4c2c-b272-01ba38fd7173"
   },
   "outputs": [
    {
     "data": {
      "text/plain": [
       "Index(['asin', 'brand', 'user_rating', 'totalReviews', 'price',\n",
       "       'originalPrice', 'name', 'overall_rating', 'date', 'verified', 'title',\n",
       "       'body', 'helpfulVotes'],\n",
       "      dtype='object')"
      ]
     },
     "execution_count": 153,
     "metadata": {
      "tags": []
     },
     "output_type": "execute_result"
    }
   ],
   "source": [
    "final_df.columns"
   ]
  },
  {
   "cell_type": "markdown",
   "metadata": {
    "id": "hNHEElHszthc"
   },
   "source": [
    "### 4.10 Select rows having verified reviews and check the shape of the final dataset"
   ]
  },
  {
   "cell_type": "code",
   "execution_count": 154,
   "metadata": {
    "id": "Jyav9_Zoz-rT"
   },
   "outputs": [],
   "source": [
    "verified_df=final_df[final_df['verified']]"
   ]
  },
  {
   "cell_type": "code",
   "execution_count": 155,
   "metadata": {
    "colab": {
     "base_uri": "https://localhost:8080/"
    },
    "id": "gMG4I6CWw1d_",
    "outputId": "ed6ae659-4d80-4767-9a99-b1217eca5d7a"
   },
   "outputs": [
    {
     "data": {
      "text/plain": [
       "(61225, 13)"
      ]
     },
     "execution_count": 155,
     "metadata": {
      "tags": []
     },
     "output_type": "execute_result"
    }
   ],
   "source": [
    "verified_df.shape"
   ]
  },
  {
   "cell_type": "markdown",
   "metadata": {
    "id": "EpKusPjdz-2q"
   },
   "source": [
    "### 4.11 Check the number of reviews for various brands and report the brands that have highest number of brands"
   ]
  },
  {
   "cell_type": "code",
   "execution_count": 156,
   "metadata": {
    "colab": {
     "base_uri": "https://localhost:8080/"
    },
    "id": "5tux6vwr0JDb",
    "outputId": "3f458665-91f7-4e9b-ceef-b2e0177c7fb3"
   },
   "outputs": [
    {
     "data": {
      "text/plain": [
       "brand\n",
       "Samsung     31020\n",
       "Motorola     7714\n",
       "Nokia        4878\n",
       "Apple        4876\n",
       "Xiaomi       4207\n",
       "Google       3163\n",
       "Sony         2691\n",
       "HUAWEI       2019\n",
       "OnePlus       304\n",
       "ASUS          206\n",
       "Name: asin, dtype: int64"
      ]
     },
     "execution_count": 156,
     "metadata": {
      "tags": []
     },
     "output_type": "execute_result"
    }
   ],
   "source": [
    "verified_df.groupby('brand').count()['asin'].sort_values(ascending=False)"
   ]
  },
  {
   "cell_type": "markdown",
   "metadata": {
    "id": "gPGjMFE-0Q5k"
   },
   "source": [
    "### 4.12 Drop irrelevant columns and keep important features like 'brand','body','price','user_rating','review_title' for further analysis"
   ]
  },
  {
   "cell_type": "code",
   "execution_count": 157,
   "metadata": {
    "id": "A3BhJbzc1VEr"
   },
   "outputs": [],
   "source": [
    "verified_df.drop(verified_df.columns.difference(['brand','body','price','user_rating','title']),axis=1,inplace=True)"
   ]
  },
  {
   "cell_type": "code",
   "execution_count": 158,
   "metadata": {
    "colab": {
     "base_uri": "https://localhost:8080/"
    },
    "id": "J_IvLN6e0e6z",
    "outputId": "fd090438-98ee-4180-c1ef-2126c3591315"
   },
   "outputs": [
    {
     "data": {
      "text/plain": [
       "Index(['brand', 'user_rating', 'price', 'title', 'body'], dtype='object')"
      ]
     },
     "execution_count": 158,
     "metadata": {
      "tags": []
     },
     "output_type": "execute_result"
    }
   ],
   "source": [
    "verified_df.columns"
   ]
  },
  {
   "cell_type": "code",
   "execution_count": 159,
   "metadata": {
    "colab": {
     "base_uri": "https://localhost:8080/",
     "height": 204
    },
    "id": "PfJQMojv2E1D",
    "outputId": "2ee8d25a-ffb0-4c09-e9bd-7b22a5a3379c"
   },
   "outputs": [
    {
     "data": {
      "text/html": [
       "<div>\n",
       "<style scoped>\n",
       "    .dataframe tbody tr th:only-of-type {\n",
       "        vertical-align: middle;\n",
       "    }\n",
       "\n",
       "    .dataframe tbody tr th {\n",
       "        vertical-align: top;\n",
       "    }\n",
       "\n",
       "    .dataframe thead th {\n",
       "        text-align: right;\n",
       "    }\n",
       "</style>\n",
       "<table border=\"1\" class=\"dataframe\">\n",
       "  <thead>\n",
       "    <tr style=\"text-align: right;\">\n",
       "      <th></th>\n",
       "      <th>brand</th>\n",
       "      <th>user_rating</th>\n",
       "      <th>price</th>\n",
       "      <th>title</th>\n",
       "      <th>body</th>\n",
       "    </tr>\n",
       "  </thead>\n",
       "  <tbody>\n",
       "    <tr>\n",
       "      <th>14</th>\n",
       "      <td>Motorola</td>\n",
       "      <td>3.0000000</td>\n",
       "      <td>49.9500000</td>\n",
       "      <td>Stupid phone</td>\n",
       "      <td>DON'T BUY OUT OF SERVICE</td>\n",
       "    </tr>\n",
       "    <tr>\n",
       "      <th>17</th>\n",
       "      <td>Motorola</td>\n",
       "      <td>3.0000000</td>\n",
       "      <td>49.9500000</td>\n",
       "      <td>Phones locked</td>\n",
       "      <td>1 star because the phones locked so I have to ...</td>\n",
       "    </tr>\n",
       "    <tr>\n",
       "      <th>18</th>\n",
       "      <td>Motorola</td>\n",
       "      <td>3.0000000</td>\n",
       "      <td>49.9500000</td>\n",
       "      <td>Excellent product</td>\n",
       "      <td>The product has been very good. I had used thi...</td>\n",
       "    </tr>\n",
       "    <tr>\n",
       "      <th>21</th>\n",
       "      <td>Motorola</td>\n",
       "      <td>2.7000000</td>\n",
       "      <td>99.9900000</td>\n",
       "      <td>Nice, but</td>\n",
       "      <td>I bought this phone to replace an LG phone tha...</td>\n",
       "    </tr>\n",
       "    <tr>\n",
       "      <th>22</th>\n",
       "      <td>Motorola</td>\n",
       "      <td>2.7000000</td>\n",
       "      <td>99.9900000</td>\n",
       "      <td>It seems it doesn't work with the existing AT&amp;...</td>\n",
       "      <td>I purchased this phone for my AT&amp;T phone repla...</td>\n",
       "    </tr>\n",
       "  </tbody>\n",
       "</table>\n",
       "</div>"
      ],
      "text/plain": [
       "       brand  user_rating      price  \\\n",
       "14  Motorola    3.0000000 49.9500000   \n",
       "17  Motorola    3.0000000 49.9500000   \n",
       "18  Motorola    3.0000000 49.9500000   \n",
       "21  Motorola    2.7000000 99.9900000   \n",
       "22  Motorola    2.7000000 99.9900000   \n",
       "\n",
       "                                                title  \\\n",
       "14                                       Stupid phone   \n",
       "17                                      Phones locked   \n",
       "18                                  Excellent product   \n",
       "21                                          Nice, but   \n",
       "22  It seems it doesn't work with the existing AT&...   \n",
       "\n",
       "                                                 body  \n",
       "14                           DON'T BUY OUT OF SERVICE  \n",
       "17  1 star because the phones locked so I have to ...  \n",
       "18  The product has been very good. I had used thi...  \n",
       "21  I bought this phone to replace an LG phone tha...  \n",
       "22  I purchased this phone for my AT&T phone repla...  "
      ]
     },
     "execution_count": 159,
     "metadata": {
      "tags": []
     },
     "output_type": "execute_result"
    }
   ],
   "source": [
    "verified_df.head()"
   ]
  },
  {
   "cell_type": "markdown",
   "metadata": {
    "id": "Gzo_rVT60fDf"
   },
   "source": [
    "### 4.13 Perform univariate analysis. Check distribution of price, user_rating"
   ]
  },
  {
   "cell_type": "code",
   "execution_count": 160,
   "metadata": {
    "colab": {
     "base_uri": "https://localhost:8080/",
     "height": 297
    },
    "id": "F3vzILxZ0t0L",
    "outputId": "159006ce-3aeb-45a6-ea22-b594bd1d8e4e"
   },
   "outputs": [
    {
     "data": {
      "text/plain": [
       "<matplotlib.axes._subplots.AxesSubplot at 0x7f90e51507b8>"
      ]
     },
     "execution_count": 160,
     "metadata": {
      "tags": []
     },
     "output_type": "execute_result"
    },
    {
     "data": {
      "image/png": "[encoded data removed]",
      "text/plain": [
       "<Figure size 432x288 with 1 Axes>"
      ]
     },
     "metadata": {
      "needs_background": "light",
      "tags": []
     },
     "output_type": "display_data"
    }
   ],
   "source": [
    "sns.histplot(verified_df['user_rating'])"
   ]
  },
  {
   "cell_type": "code",
   "execution_count": 161,
   "metadata": {
    "colab": {
     "base_uri": "https://localhost:8080/",
     "height": 296
    },
    "id": "Ilu7rD3F5Nkq",
    "outputId": "df8539e1-f506-43a3-a70f-578766d7d2a2"
   },
   "outputs": [
    {
     "data": {
      "text/plain": [
       "<matplotlib.axes._subplots.AxesSubplot at 0x7f90e29e5d68>"
      ]
     },
     "execution_count": 161,
     "metadata": {
      "tags": []
     },
     "output_type": "execute_result"
    },
    {
     "data": {
      "image/png": "[encoded data removed]",
      "text/plain": [
       "<Figure size 432x288 with 1 Axes>"
      ]
     },
     "metadata": {
      "needs_background": "light",
      "tags": []
     },
     "output_type": "display_data"
    }
   ],
   "source": [
    "sns.histplot(verified_df['price'])"
   ]
  },
  {
   "cell_type": "markdown",
   "metadata": {
    "id": "g3W6KmIQ484v"
   },
   "source": [
    "Data is skewed based on user rating as most of them have values > 3"
   ]
  },
  {
   "cell_type": "markdown",
   "metadata": {
    "id": "x0Y_kE9T0uAf"
   },
   "source": [
    "### 4.14 Create a new column called \"sentiment\". It should have value as 1 (positive) if the user_Rating is greater than 3, value as 0 (neutral) if the user_Rating == 3, and -1 (negative) is the user_Rating is less than 3."
   ]
  },
  {
   "cell_type": "code",
   "execution_count": 162,
   "metadata": {
    "id": "jGon-2xU1Ujb"
   },
   "outputs": [],
   "source": [
    "def assign_sentiment(rating):\n",
    "  if (rating==3):\n",
    "    return 0\n",
    "  elif (rating > 3):\n",
    "    return 1\n",
    "  else:\n",
    "    return -1\n",
    "\n",
    "\n",
    "verified_df['sentiment'] = verified_df['user_rating'].apply(lambda x: assign_sentiment(x))\n"
   ]
  },
  {
   "cell_type": "code",
   "execution_count": 163,
   "metadata": {
    "colab": {
     "base_uri": "https://localhost:8080/"
    },
    "id": "wYzIrFB18dAw",
    "outputId": "54e86d85-ea3f-4bfb-9d6e-de58105bd652"
   },
   "outputs": [
    {
     "data": {
      "text/plain": [
       " 1    57967\n",
       "-1     2098\n",
       " 0     1160\n",
       "Name: sentiment, dtype: int64"
      ]
     },
     "execution_count": 163,
     "metadata": {
      "tags": []
     },
     "output_type": "execute_result"
    }
   ],
   "source": [
    "verified_df['sentiment'].value_counts()"
   ]
  },
  {
   "cell_type": "markdown",
   "metadata": {
    "id": "K4rxSZWp1VAb"
   },
   "source": [
    "### 4.15 Check frequency distribution of the 'sentiment'"
   ]
  },
  {
   "cell_type": "code",
   "execution_count": 164,
   "metadata": {
    "colab": {
     "base_uri": "https://localhost:8080/",
     "height": 283
    },
    "id": "yt3gH7Iz1dVP",
    "outputId": "c04d3771-5ef7-41b2-e0ec-596ba2e679f6"
   },
   "outputs": [
    {
     "data": {
      "text/plain": [
       "<matplotlib.axes._subplots.AxesSubplot at 0x7f90e289b6d8>"
      ]
     },
     "execution_count": 164,
     "metadata": {
      "tags": []
     },
     "output_type": "execute_result"
    },
    {
     "data": {
      "image/png": "[encoded data removed]",
      "text/plain": [
       "<Figure size 432x288 with 1 Axes>"
      ]
     },
     "metadata": {
      "needs_background": "light",
      "tags": []
     },
     "output_type": "display_data"
    }
   ],
   "source": [
    "verified_df['sentiment'].value_counts().plot(kind='bar')"
   ]
  },
  {
   "cell_type": "markdown",
   "metadata": {
    "id": "rK0KMghP1ddb"
   },
   "source": [
    "### 4.16 Perform bivariate analysis. Check correlation/crosstab between features and write your inferences."
   ]
  },
  {
   "cell_type": "code",
   "execution_count": 165,
   "metadata": {
    "colab": {
     "base_uri": "https://localhost:8080/",
     "height": 390
    },
    "id": "scAV4fRg1nX0",
    "outputId": "f694893f-1efb-421f-a848-f420d5a4e601"
   },
   "outputs": [
    {
     "data": {
      "text/html": [
       "<div>\n",
       "<style scoped>\n",
       "    .dataframe tbody tr th:only-of-type {\n",
       "        vertical-align: middle;\n",
       "    }\n",
       "\n",
       "    .dataframe tbody tr th {\n",
       "        vertical-align: top;\n",
       "    }\n",
       "\n",
       "    .dataframe thead th {\n",
       "        text-align: right;\n",
       "    }\n",
       "</style>\n",
       "<table border=\"1\" class=\"dataframe\">\n",
       "  <thead>\n",
       "    <tr style=\"text-align: right;\">\n",
       "      <th>sentiment</th>\n",
       "      <th>-1</th>\n",
       "      <th>0</th>\n",
       "      <th>1</th>\n",
       "    </tr>\n",
       "    <tr>\n",
       "      <th>brand</th>\n",
       "      <th></th>\n",
       "      <th></th>\n",
       "      <th></th>\n",
       "    </tr>\n",
       "  </thead>\n",
       "  <tbody>\n",
       "    <tr>\n",
       "      <th>ASUS</th>\n",
       "      <td>1</td>\n",
       "      <td>0</td>\n",
       "      <td>205</td>\n",
       "    </tr>\n",
       "    <tr>\n",
       "      <th>Apple</th>\n",
       "      <td>65</td>\n",
       "      <td>0</td>\n",
       "      <td>4811</td>\n",
       "    </tr>\n",
       "    <tr>\n",
       "      <th>Google</th>\n",
       "      <td>283</td>\n",
       "      <td>18</td>\n",
       "      <td>2862</td>\n",
       "    </tr>\n",
       "    <tr>\n",
       "      <th>HUAWEI</th>\n",
       "      <td>2</td>\n",
       "      <td>1</td>\n",
       "      <td>2016</td>\n",
       "    </tr>\n",
       "    <tr>\n",
       "      <th>Motorola</th>\n",
       "      <td>461</td>\n",
       "      <td>578</td>\n",
       "      <td>6675</td>\n",
       "    </tr>\n",
       "    <tr>\n",
       "      <th>Nokia</th>\n",
       "      <td>192</td>\n",
       "      <td>217</td>\n",
       "      <td>4469</td>\n",
       "    </tr>\n",
       "    <tr>\n",
       "      <th>OnePlus</th>\n",
       "      <td>0</td>\n",
       "      <td>0</td>\n",
       "      <td>304</td>\n",
       "    </tr>\n",
       "    <tr>\n",
       "      <th>Samsung</th>\n",
       "      <td>1094</td>\n",
       "      <td>100</td>\n",
       "      <td>29826</td>\n",
       "    </tr>\n",
       "    <tr>\n",
       "      <th>Sony</th>\n",
       "      <td>0</td>\n",
       "      <td>246</td>\n",
       "      <td>2445</td>\n",
       "    </tr>\n",
       "    <tr>\n",
       "      <th>Xiaomi</th>\n",
       "      <td>0</td>\n",
       "      <td>0</td>\n",
       "      <td>4207</td>\n",
       "    </tr>\n",
       "  </tbody>\n",
       "</table>\n",
       "</div>"
      ],
      "text/plain": [
       "sentiment    -1    0      1\n",
       "brand                      \n",
       "ASUS          1    0    205\n",
       "Apple        65    0   4811\n",
       "Google      283   18   2862\n",
       "HUAWEI        2    1   2016\n",
       "Motorola    461  578   6675\n",
       "Nokia       192  217   4469\n",
       "OnePlus       0    0    304\n",
       "Samsung    1094  100  29826\n",
       "Sony          0  246   2445\n",
       "Xiaomi        0    0   4207"
      ]
     },
     "execution_count": 165,
     "metadata": {
      "tags": []
     },
     "output_type": "execute_result"
    }
   ],
   "source": [
    "pd.crosstab(verified_df['brand'],verified_df['sentiment'])"
   ]
  },
  {
   "cell_type": "code",
   "execution_count": 166,
   "metadata": {
    "colab": {
     "base_uri": "https://localhost:8080/",
     "height": 296
    },
    "id": "8GYRW4GkCgsk",
    "outputId": "bd02d43a-d9ee-4b8d-cabd-92d6c5a7c0ce"
   },
   "outputs": [
    {
     "data": {
      "text/plain": [
       "<matplotlib.axes._subplots.AxesSubplot at 0x7f90e289b8d0>"
      ]
     },
     "execution_count": 166,
     "metadata": {
      "tags": []
     },
     "output_type": "execute_result"
    },
    {
     "data": {
      "image/png": "[encoded data removed]",
      "text/plain": [
       "<Figure size 432x288 with 1 Axes>"
      ]
     },
     "metadata": {
      "needs_background": "light",
      "tags": []
     },
     "output_type": "display_data"
    }
   ],
   "source": [
    "pd.crosstab(verified_df['brand'],verified_df['sentiment']).T.plot(kind='bar')"
   ]
  },
  {
   "cell_type": "markdown",
   "metadata": {
    "id": "2Nzj7ZXVLakx"
   },
   "source": [
    "## 5. Text Preprocessing and Vectorization"
   ]
  },
  {
   "cell_type": "markdown",
   "metadata": {
    "id": "ZbC_RPndnlf3"
   },
   "source": [
    "We will analyze the 'body' and 'review_title' to gain more understanding.\n",
    "\n",
    "We will ppeform the below tasks\n",
    "\n",
    "- Convert the text into lowercase\n",
    "- Remove punctuation\n",
    "- Remove stopwords (English, from nltk corpus)\n",
    "- Remove other keywords like \"phone\" and brand name"
   ]
  },
  {
   "cell_type": "markdown",
   "metadata": {
    "id": "XnhMQsxz2DJH"
   },
   "source": [
    "### 5.1 Change the datatype of the 'body' column to 'str' and convert it into lowercase. Print any two samples and check the output."
   ]
  },
  {
   "cell_type": "code",
   "execution_count": 167,
   "metadata": {
    "colab": {
     "base_uri": "https://localhost:8080/",
     "height": 204
    },
    "id": "1DbTf2yc2VOQ",
    "outputId": "0d8cc72e-8585-4569-b42f-1211f0b8c78c"
   },
   "outputs": [
    {
     "data": {
      "text/html": [
       "<div>\n",
       "<style scoped>\n",
       "    .dataframe tbody tr th:only-of-type {\n",
       "        vertical-align: middle;\n",
       "    }\n",
       "\n",
       "    .dataframe tbody tr th {\n",
       "        vertical-align: top;\n",
       "    }\n",
       "\n",
       "    .dataframe thead th {\n",
       "        text-align: right;\n",
       "    }\n",
       "</style>\n",
       "<table border=\"1\" class=\"dataframe\">\n",
       "  <thead>\n",
       "    <tr style=\"text-align: right;\">\n",
       "      <th></th>\n",
       "      <th>brand</th>\n",
       "      <th>user_rating</th>\n",
       "      <th>price</th>\n",
       "      <th>title</th>\n",
       "      <th>body</th>\n",
       "      <th>sentiment</th>\n",
       "    </tr>\n",
       "  </thead>\n",
       "  <tbody>\n",
       "    <tr>\n",
       "      <th>14</th>\n",
       "      <td>Motorola</td>\n",
       "      <td>3.0000000</td>\n",
       "      <td>49.9500000</td>\n",
       "      <td>Stupid phone</td>\n",
       "      <td>DON'T BUY OUT OF SERVICE</td>\n",
       "      <td>0</td>\n",
       "    </tr>\n",
       "    <tr>\n",
       "      <th>17</th>\n",
       "      <td>Motorola</td>\n",
       "      <td>3.0000000</td>\n",
       "      <td>49.9500000</td>\n",
       "      <td>Phones locked</td>\n",
       "      <td>1 star because the phones locked so I have to ...</td>\n",
       "      <td>0</td>\n",
       "    </tr>\n",
       "    <tr>\n",
       "      <th>18</th>\n",
       "      <td>Motorola</td>\n",
       "      <td>3.0000000</td>\n",
       "      <td>49.9500000</td>\n",
       "      <td>Excellent product</td>\n",
       "      <td>The product has been very good. I had used thi...</td>\n",
       "      <td>0</td>\n",
       "    </tr>\n",
       "    <tr>\n",
       "      <th>21</th>\n",
       "      <td>Motorola</td>\n",
       "      <td>2.7000000</td>\n",
       "      <td>99.9900000</td>\n",
       "      <td>Nice, but</td>\n",
       "      <td>I bought this phone to replace an LG phone tha...</td>\n",
       "      <td>-1</td>\n",
       "    </tr>\n",
       "    <tr>\n",
       "      <th>22</th>\n",
       "      <td>Motorola</td>\n",
       "      <td>2.7000000</td>\n",
       "      <td>99.9900000</td>\n",
       "      <td>It seems it doesn't work with the existing AT&amp;...</td>\n",
       "      <td>I purchased this phone for my AT&amp;T phone repla...</td>\n",
       "      <td>-1</td>\n",
       "    </tr>\n",
       "  </tbody>\n",
       "</table>\n",
       "</div>"
      ],
      "text/plain": [
       "       brand  user_rating      price  \\\n",
       "14  Motorola    3.0000000 49.9500000   \n",
       "17  Motorola    3.0000000 49.9500000   \n",
       "18  Motorola    3.0000000 49.9500000   \n",
       "21  Motorola    2.7000000 99.9900000   \n",
       "22  Motorola    2.7000000 99.9900000   \n",
       "\n",
       "                                                title  \\\n",
       "14                                       Stupid phone   \n",
       "17                                      Phones locked   \n",
       "18                                  Excellent product   \n",
       "21                                          Nice, but   \n",
       "22  It seems it doesn't work with the existing AT&...   \n",
       "\n",
       "                                                 body  sentiment  \n",
       "14                           DON'T BUY OUT OF SERVICE          0  \n",
       "17  1 star because the phones locked so I have to ...          0  \n",
       "18  The product has been very good. I had used thi...          0  \n",
       "21  I bought this phone to replace an LG phone tha...         -1  \n",
       "22  I purchased this phone for my AT&T phone repla...         -1  "
      ]
     },
     "execution_count": 167,
     "metadata": {
      "tags": []
     },
     "output_type": "execute_result"
    }
   ],
   "source": [
    "verified_df.head()"
   ]
  },
  {
   "cell_type": "code",
   "execution_count": 168,
   "metadata": {
    "colab": {
     "base_uri": "https://localhost:8080/"
    },
    "id": "DukDy_zwC7LL",
    "outputId": "87f9e9e5-b07d-4d22-c1ac-f24222c8b0c6"
   },
   "outputs": [
    {
     "data": {
      "text/plain": [
       "dtype('O')"
      ]
     },
     "execution_count": 168,
     "metadata": {
      "tags": []
     },
     "output_type": "execute_result"
    }
   ],
   "source": [
    "verified_df['body'].dtype"
   ]
  },
  {
   "cell_type": "code",
   "execution_count": 169,
   "metadata": {
    "id": "pbkU_s8jC7G6"
   },
   "outputs": [],
   "source": [
    "verified_df['body'] = verified_df['body'].apply(lambda x : str(x).lower())"
   ]
  },
  {
   "cell_type": "code",
   "execution_count": 170,
   "metadata": {
    "colab": {
     "base_uri": "https://localhost:8080/",
     "height": 204
    },
    "id": "2FYMDu0rC7AR",
    "outputId": "b8357681-3434-4c6e-d173-d415b48f093c"
   },
   "outputs": [
    {
     "data": {
      "text/html": [
       "<div>\n",
       "<style scoped>\n",
       "    .dataframe tbody tr th:only-of-type {\n",
       "        vertical-align: middle;\n",
       "    }\n",
       "\n",
       "    .dataframe tbody tr th {\n",
       "        vertical-align: top;\n",
       "    }\n",
       "\n",
       "    .dataframe thead th {\n",
       "        text-align: right;\n",
       "    }\n",
       "</style>\n",
       "<table border=\"1\" class=\"dataframe\">\n",
       "  <thead>\n",
       "    <tr style=\"text-align: right;\">\n",
       "      <th></th>\n",
       "      <th>brand</th>\n",
       "      <th>user_rating</th>\n",
       "      <th>price</th>\n",
       "      <th>title</th>\n",
       "      <th>body</th>\n",
       "      <th>sentiment</th>\n",
       "    </tr>\n",
       "  </thead>\n",
       "  <tbody>\n",
       "    <tr>\n",
       "      <th>14</th>\n",
       "      <td>Motorola</td>\n",
       "      <td>3.0000000</td>\n",
       "      <td>49.9500000</td>\n",
       "      <td>Stupid phone</td>\n",
       "      <td>don't buy out of service</td>\n",
       "      <td>0</td>\n",
       "    </tr>\n",
       "    <tr>\n",
       "      <th>17</th>\n",
       "      <td>Motorola</td>\n",
       "      <td>3.0000000</td>\n",
       "      <td>49.9500000</td>\n",
       "      <td>Phones locked</td>\n",
       "      <td>1 star because the phones locked so i have to ...</td>\n",
       "      <td>0</td>\n",
       "    </tr>\n",
       "    <tr>\n",
       "      <th>18</th>\n",
       "      <td>Motorola</td>\n",
       "      <td>3.0000000</td>\n",
       "      <td>49.9500000</td>\n",
       "      <td>Excellent product</td>\n",
       "      <td>the product has been very good. i had used thi...</td>\n",
       "      <td>0</td>\n",
       "    </tr>\n",
       "    <tr>\n",
       "      <th>21</th>\n",
       "      <td>Motorola</td>\n",
       "      <td>2.7000000</td>\n",
       "      <td>99.9900000</td>\n",
       "      <td>Nice, but</td>\n",
       "      <td>i bought this phone to replace an lg phone tha...</td>\n",
       "      <td>-1</td>\n",
       "    </tr>\n",
       "    <tr>\n",
       "      <th>22</th>\n",
       "      <td>Motorola</td>\n",
       "      <td>2.7000000</td>\n",
       "      <td>99.9900000</td>\n",
       "      <td>It seems it doesn't work with the existing AT&amp;...</td>\n",
       "      <td>i purchased this phone for my at&amp;t phone repla...</td>\n",
       "      <td>-1</td>\n",
       "    </tr>\n",
       "  </tbody>\n",
       "</table>\n",
       "</div>"
      ],
      "text/plain": [
       "       brand  user_rating      price  \\\n",
       "14  Motorola    3.0000000 49.9500000   \n",
       "17  Motorola    3.0000000 49.9500000   \n",
       "18  Motorola    3.0000000 49.9500000   \n",
       "21  Motorola    2.7000000 99.9900000   \n",
       "22  Motorola    2.7000000 99.9900000   \n",
       "\n",
       "                                                title  \\\n",
       "14                                       Stupid phone   \n",
       "17                                      Phones locked   \n",
       "18                                  Excellent product   \n",
       "21                                          Nice, but   \n",
       "22  It seems it doesn't work with the existing AT&...   \n",
       "\n",
       "                                                 body  sentiment  \n",
       "14                           don't buy out of service          0  \n",
       "17  1 star because the phones locked so i have to ...          0  \n",
       "18  the product has been very good. i had used thi...          0  \n",
       "21  i bought this phone to replace an lg phone tha...         -1  \n",
       "22  i purchased this phone for my at&t phone repla...         -1  "
      ]
     },
     "execution_count": 170,
     "metadata": {
      "tags": []
     },
     "output_type": "execute_result"
    }
   ],
   "source": [
    "verified_df.head()"
   ]
  },
  {
   "cell_type": "markdown",
   "metadata": {
    "id": "lsppV0X52VXf"
   },
   "source": [
    "### 5.2 Remove punctuations from the lowercased 'body' column and display at least two samples."
   ]
  },
  {
   "cell_type": "code",
   "execution_count": 171,
   "metadata": {
    "id": "lQXKc8et2onG"
   },
   "outputs": [],
   "source": [
    "verified_df['body']=verified_df['body'].replace('[^\\w\\s]','',regex=True)"
   ]
  },
  {
   "cell_type": "code",
   "execution_count": 172,
   "metadata": {
    "colab": {
     "base_uri": "https://localhost:8080/",
     "height": 204
    },
    "id": "gx5P4hfHF2e7",
    "outputId": "2fe175a6-d380-4d5b-fbee-2ceaa6f268d5"
   },
   "outputs": [
    {
     "data": {
      "text/html": [
       "<div>\n",
       "<style scoped>\n",
       "    .dataframe tbody tr th:only-of-type {\n",
       "        vertical-align: middle;\n",
       "    }\n",
       "\n",
       "    .dataframe tbody tr th {\n",
       "        vertical-align: top;\n",
       "    }\n",
       "\n",
       "    .dataframe thead th {\n",
       "        text-align: right;\n",
       "    }\n",
       "</style>\n",
       "<table border=\"1\" class=\"dataframe\">\n",
       "  <thead>\n",
       "    <tr style=\"text-align: right;\">\n",
       "      <th></th>\n",
       "      <th>brand</th>\n",
       "      <th>user_rating</th>\n",
       "      <th>price</th>\n",
       "      <th>title</th>\n",
       "      <th>body</th>\n",
       "      <th>sentiment</th>\n",
       "    </tr>\n",
       "  </thead>\n",
       "  <tbody>\n",
       "    <tr>\n",
       "      <th>14</th>\n",
       "      <td>Motorola</td>\n",
       "      <td>3.0000000</td>\n",
       "      <td>49.9500000</td>\n",
       "      <td>Stupid phone</td>\n",
       "      <td>dont buy out of service</td>\n",
       "      <td>0</td>\n",
       "    </tr>\n",
       "    <tr>\n",
       "      <th>17</th>\n",
       "      <td>Motorola</td>\n",
       "      <td>3.0000000</td>\n",
       "      <td>49.9500000</td>\n",
       "      <td>Phones locked</td>\n",
       "      <td>1 star because the phones locked so i have to ...</td>\n",
       "      <td>0</td>\n",
       "    </tr>\n",
       "    <tr>\n",
       "      <th>18</th>\n",
       "      <td>Motorola</td>\n",
       "      <td>3.0000000</td>\n",
       "      <td>49.9500000</td>\n",
       "      <td>Excellent product</td>\n",
       "      <td>the product has been very good i had used this...</td>\n",
       "      <td>0</td>\n",
       "    </tr>\n",
       "    <tr>\n",
       "      <th>21</th>\n",
       "      <td>Motorola</td>\n",
       "      <td>2.7000000</td>\n",
       "      <td>99.9900000</td>\n",
       "      <td>Nice, but</td>\n",
       "      <td>i bought this phone to replace an lg phone tha...</td>\n",
       "      <td>-1</td>\n",
       "    </tr>\n",
       "    <tr>\n",
       "      <th>22</th>\n",
       "      <td>Motorola</td>\n",
       "      <td>2.7000000</td>\n",
       "      <td>99.9900000</td>\n",
       "      <td>It seems it doesn't work with the existing AT&amp;...</td>\n",
       "      <td>i purchased this phone for my att phone replac...</td>\n",
       "      <td>-1</td>\n",
       "    </tr>\n",
       "  </tbody>\n",
       "</table>\n",
       "</div>"
      ],
      "text/plain": [
       "       brand  user_rating      price  \\\n",
       "14  Motorola    3.0000000 49.9500000   \n",
       "17  Motorola    3.0000000 49.9500000   \n",
       "18  Motorola    3.0000000 49.9500000   \n",
       "21  Motorola    2.7000000 99.9900000   \n",
       "22  Motorola    2.7000000 99.9900000   \n",
       "\n",
       "                                                title  \\\n",
       "14                                       Stupid phone   \n",
       "17                                      Phones locked   \n",
       "18                                  Excellent product   \n",
       "21                                          Nice, but   \n",
       "22  It seems it doesn't work with the existing AT&...   \n",
       "\n",
       "                                                 body  sentiment  \n",
       "14                            dont buy out of service          0  \n",
       "17  1 star because the phones locked so i have to ...          0  \n",
       "18  the product has been very good i had used this...          0  \n",
       "21  i bought this phone to replace an lg phone tha...         -1  \n",
       "22  i purchased this phone for my att phone replac...         -1  "
      ]
     },
     "execution_count": 172,
     "metadata": {
      "tags": []
     },
     "output_type": "execute_result"
    }
   ],
   "source": [
    "verified_df.head()"
   ]
  },
  {
   "cell_type": "markdown",
   "metadata": {
    "id": "8Zk7ja6A2owN"
   },
   "source": [
    "### 5.3 Remove stop words from the above pre-processed 'body' column and display at least two samples."
   ]
  },
  {
   "cell_type": "code",
   "execution_count": 173,
   "metadata": {
    "colab": {
     "base_uri": "https://localhost:8080/"
    },
    "id": "1d-DhX_e2yQ-",
    "outputId": "63440190-c5d2-40a8-a470-ca19e71b01ba"
   },
   "outputs": [
    {
     "name": "stdout",
     "output_type": "stream",
     "text": [
      "[nltk_data] Downloading package stopwords to /root/nltk_data...\n",
      "[nltk_data]   Unzipping corpora/stopwords.zip.\n"
     ]
    },
    {
     "data": {
      "text/plain": [
       "True"
      ]
     },
     "execution_count": 173,
     "metadata": {
      "tags": []
     },
     "output_type": "execute_result"
    }
   ],
   "source": [
    "import nltk\n",
    "nltk.download('stopwords')"
   ]
  },
  {
   "cell_type": "code",
   "execution_count": 174,
   "metadata": {
    "id": "bTnqiNSEHxfn"
   },
   "outputs": [],
   "source": [
    "from nltk.corpus import stopwords"
   ]
  },
  {
   "cell_type": "code",
   "execution_count": 175,
   "metadata": {
    "id": "d3atKK9-Hxay"
   },
   "outputs": [],
   "source": [
    "stop_w=set(stopwords.words('english'))"
   ]
  },
  {
   "cell_type": "code",
   "execution_count": 178,
   "metadata": {
    "id": "2R_r-EysHxT4"
   },
   "outputs": [],
   "source": [
    "verified_df['body'] = verified_df['body'].apply(lambda words: ' '.join(word for word in words.split() if word not in stop_w))"
   ]
  },
  {
   "cell_type": "code",
   "execution_count": 179,
   "metadata": {
    "colab": {
     "base_uri": "https://localhost:8080/",
     "height": 204
    },
    "id": "PSqmLIfMK8gh",
    "outputId": "ff3d558e-5f49-44b9-d705-a47c5271a092"
   },
   "outputs": [
    {
     "data": {
      "text/html": [
       "<div>\n",
       "<style scoped>\n",
       "    .dataframe tbody tr th:only-of-type {\n",
       "        vertical-align: middle;\n",
       "    }\n",
       "\n",
       "    .dataframe tbody tr th {\n",
       "        vertical-align: top;\n",
       "    }\n",
       "\n",
       "    .dataframe thead th {\n",
       "        text-align: right;\n",
       "    }\n",
       "</style>\n",
       "<table border=\"1\" class=\"dataframe\">\n",
       "  <thead>\n",
       "    <tr style=\"text-align: right;\">\n",
       "      <th></th>\n",
       "      <th>brand</th>\n",
       "      <th>user_rating</th>\n",
       "      <th>price</th>\n",
       "      <th>title</th>\n",
       "      <th>body</th>\n",
       "      <th>sentiment</th>\n",
       "    </tr>\n",
       "  </thead>\n",
       "  <tbody>\n",
       "    <tr>\n",
       "      <th>14</th>\n",
       "      <td>Motorola</td>\n",
       "      <td>3.0000000</td>\n",
       "      <td>49.9500000</td>\n",
       "      <td>Stupid phone</td>\n",
       "      <td>dont buy service</td>\n",
       "      <td>0</td>\n",
       "    </tr>\n",
       "    <tr>\n",
       "      <th>17</th>\n",
       "      <td>Motorola</td>\n",
       "      <td>3.0000000</td>\n",
       "      <td>49.9500000</td>\n",
       "      <td>Phones locked</td>\n",
       "      <td>1 star phones locked pay additional fees unlock</td>\n",
       "      <td>0</td>\n",
       "    </tr>\n",
       "    <tr>\n",
       "      <th>18</th>\n",
       "      <td>Motorola</td>\n",
       "      <td>3.0000000</td>\n",
       "      <td>49.9500000</td>\n",
       "      <td>Excellent product</td>\n",
       "      <td>product good used cell phone one projects work...</td>\n",
       "      <td>0</td>\n",
       "    </tr>\n",
       "    <tr>\n",
       "      <th>21</th>\n",
       "      <td>Motorola</td>\n",
       "      <td>2.7000000</td>\n",
       "      <td>99.9900000</td>\n",
       "      <td>Nice, but</td>\n",
       "      <td>bought phone replace lg phone didnt like expec...</td>\n",
       "      <td>-1</td>\n",
       "    </tr>\n",
       "    <tr>\n",
       "      <th>22</th>\n",
       "      <td>Motorola</td>\n",
       "      <td>2.7000000</td>\n",
       "      <td>99.9900000</td>\n",
       "      <td>It seems it doesn't work with the existing AT&amp;...</td>\n",
       "      <td>purchased phone att phone replacement even tho...</td>\n",
       "      <td>-1</td>\n",
       "    </tr>\n",
       "  </tbody>\n",
       "</table>\n",
       "</div>"
      ],
      "text/plain": [
       "       brand  user_rating      price  \\\n",
       "14  Motorola    3.0000000 49.9500000   \n",
       "17  Motorola    3.0000000 49.9500000   \n",
       "18  Motorola    3.0000000 49.9500000   \n",
       "21  Motorola    2.7000000 99.9900000   \n",
       "22  Motorola    2.7000000 99.9900000   \n",
       "\n",
       "                                                title  \\\n",
       "14                                       Stupid phone   \n",
       "17                                      Phones locked   \n",
       "18                                  Excellent product   \n",
       "21                                          Nice, but   \n",
       "22  It seems it doesn't work with the existing AT&...   \n",
       "\n",
       "                                                 body  sentiment  \n",
       "14                                   dont buy service          0  \n",
       "17    1 star phones locked pay additional fees unlock          0  \n",
       "18  product good used cell phone one projects work...          0  \n",
       "21  bought phone replace lg phone didnt like expec...         -1  \n",
       "22  purchased phone att phone replacement even tho...         -1  "
      ]
     },
     "execution_count": 179,
     "metadata": {
      "tags": []
     },
     "output_type": "execute_result"
    }
   ],
   "source": [
    "verified_df.head()"
   ]
  },
  {
   "cell_type": "markdown",
   "metadata": {
    "id": "TQNvXay42yaQ"
   },
   "source": [
    "### 5.4 Apply lemmatisation on the above preprocessed text and display a few samples"
   ]
  },
  {
   "cell_type": "code",
   "execution_count": 181,
   "metadata": {
    "colab": {
     "base_uri": "https://localhost:8080/"
    },
    "id": "2oOiYOjoMD7B",
    "outputId": "f12f339b-14fb-4189-aa3e-5d838f389a6c"
   },
   "outputs": [
    {
     "name": "stdout",
     "output_type": "stream",
     "text": [
      "[nltk_data] Downloading package wordnet to /root/nltk_data...\n",
      "[nltk_data]   Unzipping corpora/wordnet.zip.\n"
     ]
    },
    {
     "data": {
      "text/plain": [
       "True"
      ]
     },
     "execution_count": 181,
     "metadata": {
      "tags": []
     },
     "output_type": "execute_result"
    }
   ],
   "source": [
    "import nltk\n",
    "nltk.download('wordnet')\n"
   ]
  },
  {
   "cell_type": "code",
   "execution_count": 183,
   "metadata": {
    "id": "oQ1VfFaa3DET"
   },
   "outputs": [],
   "source": [
    "from nltk.stem import WordNetLemmatizer"
   ]
  },
  {
   "cell_type": "code",
   "execution_count": 184,
   "metadata": {
    "id": "QtC4xtcJL-aV"
   },
   "outputs": [],
   "source": [
    "def lemmatize_text(text):\n",
    "\n",
    "    lemmatizer = WordNetLemmatizer()\n",
    "    return ' '.join([lemmatizer.lemmatize(word) for word in text.split()])\n",
    "\n"
   ]
  },
  {
   "cell_type": "code",
   "execution_count": 189,
   "metadata": {
    "colab": {
     "base_uri": "https://localhost:8080/",
     "height": 35
    },
    "id": "H_xcQH4EMyY2",
    "outputId": "9c53ee0b-538c-4be1-c0f0-a60a1fc429d2"
   },
   "outputs": [
    {
     "data": {
      "application/vnd.google.colaboratory.intrinsic+json": {
       "type": "string"
      },
      "text/plain": [
       "'talk'"
      ]
     },
     "execution_count": 189,
     "metadata": {
      "tags": []
     },
     "output_type": "execute_result"
    }
   ],
   "source": [
    "lemmatize_text('talks')"
   ]
  },
  {
   "cell_type": "code",
   "execution_count": 191,
   "metadata": {
    "id": "CY_YhSeMODVJ"
   },
   "outputs": [],
   "source": [
    "verified_df['body']=verified_df['body'].apply(lemmatize_text)"
   ]
  },
  {
   "cell_type": "code",
   "execution_count": 192,
   "metadata": {
    "colab": {
     "base_uri": "https://localhost:8080/",
     "height": 204
    },
    "id": "K_dNgWoqOPrt",
    "outputId": "fb497ab9-7e1a-4348-ee82-c5e966f9fc8b"
   },
   "outputs": [
    {
     "data": {
      "text/html": [
       "<div>\n",
       "<style scoped>\n",
       "    .dataframe tbody tr th:only-of-type {\n",
       "        vertical-align: middle;\n",
       "    }\n",
       "\n",
       "    .dataframe tbody tr th {\n",
       "        vertical-align: top;\n",
       "    }\n",
       "\n",
       "    .dataframe thead th {\n",
       "        text-align: right;\n",
       "    }\n",
       "</style>\n",
       "<table border=\"1\" class=\"dataframe\">\n",
       "  <thead>\n",
       "    <tr style=\"text-align: right;\">\n",
       "      <th></th>\n",
       "      <th>brand</th>\n",
       "      <th>user_rating</th>\n",
       "      <th>price</th>\n",
       "      <th>title</th>\n",
       "      <th>body</th>\n",
       "      <th>sentiment</th>\n",
       "    </tr>\n",
       "  </thead>\n",
       "  <tbody>\n",
       "    <tr>\n",
       "      <th>14</th>\n",
       "      <td>Motorola</td>\n",
       "      <td>3.0000000</td>\n",
       "      <td>49.9500000</td>\n",
       "      <td>Stupid phone</td>\n",
       "      <td>dont buy service</td>\n",
       "      <td>0</td>\n",
       "    </tr>\n",
       "    <tr>\n",
       "      <th>17</th>\n",
       "      <td>Motorola</td>\n",
       "      <td>3.0000000</td>\n",
       "      <td>49.9500000</td>\n",
       "      <td>Phones locked</td>\n",
       "      <td>1 star phone locked pay additional fee unlock</td>\n",
       "      <td>0</td>\n",
       "    </tr>\n",
       "    <tr>\n",
       "      <th>18</th>\n",
       "      <td>Motorola</td>\n",
       "      <td>3.0000000</td>\n",
       "      <td>49.9500000</td>\n",
       "      <td>Excellent product</td>\n",
       "      <td>product good used cell phone one project worke...</td>\n",
       "      <td>0</td>\n",
       "    </tr>\n",
       "    <tr>\n",
       "      <th>21</th>\n",
       "      <td>Motorola</td>\n",
       "      <td>2.7000000</td>\n",
       "      <td>99.9900000</td>\n",
       "      <td>Nice, but</td>\n",
       "      <td>bought phone replace lg phone didnt like expec...</td>\n",
       "      <td>-1</td>\n",
       "    </tr>\n",
       "    <tr>\n",
       "      <th>22</th>\n",
       "      <td>Motorola</td>\n",
       "      <td>2.7000000</td>\n",
       "      <td>99.9900000</td>\n",
       "      <td>It seems it doesn't work with the existing AT&amp;...</td>\n",
       "      <td>purchased phone att phone replacement even tho...</td>\n",
       "      <td>-1</td>\n",
       "    </tr>\n",
       "  </tbody>\n",
       "</table>\n",
       "</div>"
      ],
      "text/plain": [
       "       brand  user_rating      price  \\\n",
       "14  Motorola    3.0000000 49.9500000   \n",
       "17  Motorola    3.0000000 49.9500000   \n",
       "18  Motorola    3.0000000 49.9500000   \n",
       "21  Motorola    2.7000000 99.9900000   \n",
       "22  Motorola    2.7000000 99.9900000   \n",
       "\n",
       "                                                title  \\\n",
       "14                                       Stupid phone   \n",
       "17                                      Phones locked   \n",
       "18                                  Excellent product   \n",
       "21                                          Nice, but   \n",
       "22  It seems it doesn't work with the existing AT&...   \n",
       "\n",
       "                                                 body  sentiment  \n",
       "14                                   dont buy service          0  \n",
       "17      1 star phone locked pay additional fee unlock          0  \n",
       "18  product good used cell phone one project worke...          0  \n",
       "21  bought phone replace lg phone didnt like expec...         -1  \n",
       "22  purchased phone att phone replacement even tho...         -1  "
      ]
     },
     "execution_count": 192,
     "metadata": {
      "tags": []
     },
     "output_type": "execute_result"
    }
   ],
   "source": [
    "verified_df.head()"
   ]
  },
  {
   "cell_type": "markdown",
   "metadata": {
    "id": "OzweL_fA3DiN"
   },
   "source": [
    "### 5.5 Write a function to check word frequency of the text"
   ]
  },
  {
   "cell_type": "code",
   "execution_count": 210,
   "metadata": {
    "id": "MzIAyX3N6lz5"
   },
   "outputs": [],
   "source": [
    "## Using Count Vectorizer to Document term Matrix of words and their frequency\n",
    "\n",
    "from sklearn.feature_extraction.text import CountVectorizer\n",
    "cvect = CountVectorizer()"
   ]
  },
  {
   "cell_type": "code",
   "execution_count": 211,
   "metadata": {
    "colab": {
     "base_uri": "https://localhost:8080/"
    },
    "id": "C3y7aiwzcC_c",
    "outputId": "6faeebd2-b812-4b3e-a4b3-1ee324f9dce4"
   },
   "outputs": [
    {
     "data": {
      "text/plain": [
       "CountVectorizer(analyzer='word', binary=False, decode_error='strict',\n",
       "                dtype=<class 'numpy.int64'>, encoding='utf-8', input='content',\n",
       "                lowercase=True, max_df=1.0, max_features=None, min_df=1,\n",
       "                ngram_range=(1, 1), preprocessor=None, stop_words=None,\n",
       "                strip_accents=None, token_pattern='(?u)\\\\b\\\\w\\\\w+\\\\b',\n",
       "                tokenizer=None, vocabulary=None)"
      ]
     },
     "execution_count": 211,
     "metadata": {
      "tags": []
     },
     "output_type": "execute_result"
    }
   ],
   "source": [
    "cvect.fit(verified_df['body'])"
   ]
  },
  {
   "cell_type": "code",
   "execution_count": 212,
   "metadata": {
    "colab": {
     "base_uri": "https://localhost:8080/"
    },
    "id": "FZJQKIL1cC0Z",
    "outputId": "24bac40e-37ee-4c3f-852b-78801975950f"
   },
   "outputs": [
    {
     "data": {
      "text/plain": [
       "36034"
      ]
     },
     "execution_count": 212,
     "metadata": {
      "tags": []
     },
     "output_type": "execute_result"
    }
   ],
   "source": [
    "## No of unique words\n",
    "len(cvect.vocabulary_)"
   ]
  },
  {
   "cell_type": "code",
   "execution_count": 215,
   "metadata": {
    "id": "ccHfosi4ciqC"
   },
   "outputs": [],
   "source": [
    "verified_df_ct = cvect.transform(verified_df['body'])"
   ]
  },
  {
   "cell_type": "code",
   "execution_count": 216,
   "metadata": {
    "colab": {
     "base_uri": "https://localhost:8080/"
    },
    "id": "6GyeHTNNdfKl",
    "outputId": "76aa331c-ee9e-48c3-ff90-aa4994ed22a8"
   },
   "outputs": [
    {
     "data": {
      "text/plain": [
       "(61225, 36034)"
      ]
     },
     "execution_count": 216,
     "metadata": {
      "tags": []
     },
     "output_type": "execute_result"
    }
   ],
   "source": [
    "#Size of Document Term Matrix\n",
    "verified_df_ct.shape"
   ]
  },
  {
   "cell_type": "code",
   "execution_count": 217,
   "metadata": {
    "colab": {
     "base_uri": "https://localhost:8080/"
    },
    "id": "VWt4BZQzdpGA",
    "outputId": "67bd4ba6-ed8b-4771-8467-16485a164196"
   },
   "outputs": [
    {
     "name": "stdout",
     "output_type": "stream",
     "text": [
      "  (0, 6546)\t1\n",
      "  (0, 10969)\t1\n",
      "  (0, 28599)\t1\n"
     ]
    }
   ],
   "source": [
    "print(verified_df_ct[0])"
   ]
  },
  {
   "cell_type": "code",
   "execution_count": 218,
   "metadata": {
    "colab": {
     "base_uri": "https://localhost:8080/"
    },
    "id": "HvEjJtB1eLDX",
    "outputId": "734f3013-b4ac-4677-c616-ddc4703b66f7"
   },
   "outputs": [
    {
     "data": {
      "text/plain": [
       "dict_keys(['dont', 'buy', 'service', 'star', 'phone', 'locked', 'pay', 'additional', 'fee', 'unlock', 'product', 'good', 'used', 'cell', 'one', 'project', 'worked', 'wonder', 'definitely', 'recommend', 'anyone', 'interested', 'buying', 'bought', 'replace', 'lg', 'didnt', 'like', 'expected', 'put', 'old', 'sim', 'card', 'new', 'two', 'serious', 'drawback', 'device', 'related', 'candy', 'bar', 'style', 'first', 'button', 'exposed', 'easy', 'hit', 'accidentally', 'second', 'screen', 'easily', 'scratched', 'got', 'making', 'difficult', 'read', 'sunlight', 'aside', 'flaw', 'work', 'great', 'connectivity', 'battery', 'life', 'quality', 'voice', 'superb', 'since', 'texting', 'cant', 'comment', 'nice', 'small', 'came', 'case', 'could', 'find', 'would', 'perfect', 'need', 'price', 'right', '10', 'worth', 'calling', 'purchased', 'att', 'replacement', 'even', 'though', 'faq', 'mentioned', 'primary', 'stead', 'spending', 'time', 'see', 'reason', 'ill', 'go', 'specifically', 'say', 'unlocked', 'come', 'charger', 'sims', 'served', 'well', 'back', 'secondary', 'really', 'lightweight', 'cheap', 'receiption', 'windy', 'noise', 'heard', 'somebody', 'sturdy', 'clarity', 'use', 'problem', 'speaker', 'option', 'big', 'issue', 'im', 'living', 'atm', 'stoped', 'working', 'beautiful', 'job', 'item', 'account', 'bill', 'little', 'avoided', 'amount', 'billsi', 'body', 'met', 'expectation', 'way', 'asked', 'friend', 'toss', 'hey', 'throw', 'hard', 'head', 'square', 'temple', 'dropped', 'needle', 'simple', 'long', 'stretch', 'armstrong', 'take', 'smacked', 'around', 'champ', 'son', 'id', 'proud', 'afraid', 'get', 'digress', 'smart', 'dummy', 'create', 'ringtones', 'provides', 'entertainment', 'flappy', 'bird', 'isnt', 'kidding', 'military', 'spec', 'hole', 'pocket', 'went', 'tumbling', 'flight', 'concrete', 'step', '20', 'scratch', 'fine', 'also', 'made', 'death', 'defying', 'leap', 'drop', 'resistant', 'said', 'crush', 'proof', 'dead', 'decided', 'leave', 'car', 'charge', 'plugged', 'grabbed', 'purse', 'unbeknownst', 'cord', 'tangled', 'stood', 'closed', 'door', 'left', 'mark', 'finally', 'still', 'world', 'boomerang', 'looked', 'afterwards', 'ordered', 'much', 'beat', 'last', 'fared', 'another', 'pet', 'peeve', 'least', 'given', 'full', 'game', 'lame', 'demo', 'included', 'size', 'hershey', 'often', 'keep', 'pant', 'front', 'found', 'iden', 'longer', 'eligible', 'boost', 'mobile', 'buyer', 'ware', 'unless', 'already', 'wont', 'enter', 'special', 'code', 'mother', 'love', 'walkie', 'talkie', 'denise', 'avellan', 'day', '2014', 'direct', 'connect', 'connection', 'told', 'network', 'waste', 'money', 'seller', 'knew', 'anything', 'solid', 'motorola', 'sound', 'look', 'cardinformation', 'wouldve', 'liked', 'ptt', 'phasedout', 'rating', 'unhappy', 'fact', 'prior', 'purchase', 'gps', 'send', 'huge', 'pain', 'something', '24', 'ripoff', 'usedropped', 'basic', 'function', 'needed', 'word', 'effective', 'wouldnt', 'know', 'person', 'hasnt', 'shipped', 'yet', 'month', 'amazon', 'nothing', 'help', 'provide', 'assistance', 'mom', 'south', 'complain', 'carrier', 'probably', 'give', 'five', 'gave', 'spot', 'description', 'threw', 'free', 'doesnt', 'seem', 'receive', 'package', 'next', 'shipping', 'supose', 'stated', 'looking', 'area', 'signal', 'clear', 'cloudy', 'thank', 'delivered', 'promised', 'showing', 'cingular', 'identical', 'instead', 'atttit', 'okay', 'yhe', 'wife', 'third', 'thanks', 'husband', 'opened', 'many', 'year', 'ago', 'open', 'change', 'wasnt', 'sure', 'glad', 'able', 'quite', 'wanted', 'better', 'reception', 'previous', 'however', 'never', 'recognized', 'information', 'stored', 'essentially', 'useless', 'alpha', 'wireless', 'supposedly', 'texas', 'green', 'florida', 'understand', 'several', 'company', 'may', 'cooperate', 'fulfill', 'order', 'make', 'regarding', 'recourse', 'represented', 'simply', 'paid', 'closely', 'reflected', 'condition', 'beware', 'usual', 'using', 'ebay', 'properly', 'answer', 'hear', 'line', 'cause', 'people', 'hang', 'piece', 'junk', 'started', 'happen', 'phonea', 'bad', 'choice', 'satisfied', 'regular', 'thats', 'fairly', 'durable', 'especially', 'heavy', 'yes', 'wrost', 'experience', 'costed', '7200', 'arrived', 'inright', 'without', 'activation', 'called', 'locate', 'number', 'call', 'learned', 'activated', 'customer', 'took', 'meanwhile', 'missed', 'billing', 'cycle', 'process', 'week', 'mention', 'ship', 'phased', 'couldnt', 'inform', 'ive', 'switched', 'within', 'lasted', 'almost', 'everything', 'want', 'excellent', 'wonderful', 'forever', 'expecting', 'fit', 'exactly', 'le', 'technical', 'brand', 'box', 'charged', 'instructed', 'four', 'hour', 'six', 'unplugged', 'black', 'returning', 'cleared', 'owner', 'cool', 'sell', 'thing', 'wrong', 'color', 'badly', 'postage', 'return', 'exchange', 'daughter', 'crap', 'support', 'bluetooth', 'capability', 'website', 'show', 'headset', 'available', 'accessory', 'doe', 'either', 'guess', 'inside', 'packaging', 'samsung', 'picture', 'corded', 'havent', 'dad', 'lookin', 'delete', 'lst', 'review', 'confusion', 'tried', 'activate', 'verizon', 'imei', 'dec', 'hex', 'rep', 'guildelines', 'thought', 'obsolete', 'verizons', '2nd', 'rrep', 'remove', 'negative', 'attempting', 'ended', 'hold', 'generously', 'sale', 'refunded', 'three', 'international', 'bring', 'meter', 'wow', 'impressed', 'compare', 'infinity', 'accoustics', 'kappa', 'audiophile', 'studio', 'raise', 'volume', 'flip', 'compliment', 'moto', 'droid', 'touch', 'iv', 'mini', 'backup', 'main', '3500', 'steal', 'horrible', 'today', 'noticed', 'far', 'yr', 'playing', 'avoid', 'cost', 'pink', 'silver', 'clearly', 'factory', 'plug', 'display', 'message', 'saying', 'unable', 'alternate', 'shouldnt', 'disappointed', 'saw', 'keypad', 'weathered', 'worn', 'considering', 'dial', 'pad', 'activating', 'existing', 'pretty', 'weak', 'safe', 'theyre', 'buck', 'sane', 'paris', 'hilton', 'red', 'awesome', 'feature', 'soon', 'going', 'pruchase', 'cusotmers', 'sinply', 'becasue', 'superior', 'disapointed', 'dying', '78', 'disabled', 'hassle', 'spent', 'charging', 'cannot', 'hook', 'powerful', 'enough', 'fault', 'defiantly', 'smaller', 'raiser', 'remember', 'claimed', 'refurbished', 'supposed', 'fully', 'tested', 'functional', 'oem', 'supplied', 'received', 'error', 'authorized', '2899', '622', '350', 'refuse', 'internet', 'via', 'computer', 'internal', 'start', 'flicker', 'dy', 'repeated', 'attempt', 'luck', 'light', 'internals', 'waited', 'late', 'action', 'failure', 'operate', 'mode', '40', 'paperweight', 'wary', 'esp', 'claim', 'youre', 'taking', 'risk', 'itll', 'lesson', 'dealing', 'smartphone', 'glitchy', 'turned', 'couple', 'port', 'loose', 'randomly', 'turn', 'think', 'lovely', 'memory', 'hand', 'broken', 'mail', 'night', 'wound', 'grow', 'tree', 'guarantee', 'suck', 'advertised', 'mint', 'excited', 'let', 'transfer', 'removed', 'manufacturer', 'reluctantly', 'placed', '12', 'complete', 'sit', 'totally', 'drained', 'low', 'behold', 'damaged', 'ups', 'wait', 'credit', 'issuedaggravating', 'lower', 'end', 'fragile', 'lighter', 'weight', 'cheaply', 'ipad', 'happy', 'replaced', 'non', 'razr', 'upgraded', 'online', 'plan', 'required', 'data', 'current', 'nonsmart', 'guessing', 'intentional', 'lean', 'towards', 'profitable', 'alternative', 'getting', 'store', 'offered', 'provider', 'unnecessary', 'switch', 'newer', 'note', 'volunteer', 'upgrade', 'nonverizon', 'directly', 'getitnow', 'backupassitant', 'contact', 'autosync', 'legacyunsupported', 'stopper', 'printed', 'wasted', 'paperwished', 'list', 'view', 'manually', 'copybackup', 'backupassistant', 'useful', 'upgrading', 'annoying', 'messge', 'trying', 'run', 'getitnowget_new_app', 'retrieve', 'catalog', 'please', 'try', 'later', '3332', 'positive', 'feedback', 'goodsimple', 'solution', 'fix', 'resolution', 'possibly', 'verizion', 'unusable', 'upgradereplacement', 'straigtforward', 'verison', 'supporting', 'sold', 'oldlegacy', 'fixingmaintaining', 'sofware', 'priority', 'nondata', 'fixreplace', 'legacy', 'parent', 'reluctant', 'stopped', 'oh', 'kind', 'dirty', 'laggy', 'sometimes', 'seemed', 'text', 'fast', 'enjoyed', 'school', 'reliable', 'crazy', 'aout', 'delayed', 'noticeable', 'defect', 'knowing', 'refurbishedused', 'assured', 'extremely', 'navigating', 'clearer', 'particular', 'corner', 'dozen', 'lot', 'specific', 'idea', 'hope', 'music', 'photo', 'surprise', 'opinion', 'recharge', 'quickly', 'user', 'carry', 'pack', 'phenomenon', 'suit', 'missingsome', 'esn', 'match', 'sticker', 'compartment', 'consequently', '30', 'snc', 'programming', 'datedi', 'jerked', 'aroud', 'screwed', 'shape', 'itlookedas', 'hapoy', 'frame', 'delivery', 'outside', 'trace', 'chocolate', 'performs', 'except', 'reader', 'quick', 'rather', 'equipment', 'assuming', 'burned', 'power', 'completely', 'pulling', 'depleted', 'approx', 'min', 'talk', 'returned', 'elderly', 'plus', 'expend', 'valuable', '50', 'collapsed', 'receipt', '150', 'expect', 'manual', 'original', 'stuff', 'thrown', 'else', 'older', 'version', 'slim', 'camera', 'standard', 'someone', 'receiving', 'finest', 'devise', 'terrible', 'realized', 'alldont', 'amazonits', 'chaarger', 'batteryi', 'pluged', 'wallbad', 'hopefully', 'refund', 'timely', 'arrival', 'seems', 'ok', 'disappointment', 'moving', 'transferred', 'added', 'wondering', 'part', 'outdated', 'deal', 'pleased', 'secondhand', 'detail', 'specified', 'must', 'stay', 'incoming', 'purchasing', 'advertisement', 'supplier', 'exceeded', 'likenew', 'promptly', 'saved', 'expensive', 'contract', 'staff', 'ease', 'golden', 'net', 'mind', 'video', '15', 'minutesnew', 'best', 'dud', 'known', 'true', 'v3m', 'always', 'separate', 'weird', 'opening', 'closing', 'compatible', 'alltel', 'differently', 'began', 'obviously', 'absolutely', 'complaint', 'vendor', 'broke', 'correctly', 'shut', 'damage', 'decent', 'youd', 'test', 'notification', 'major', 'headache', 'sorry', 'rid', 'described', 'wall', 'program', 'sent', 'shippingphone', 'describedi', 'perfecti', 'nicest', 'texter', 'flat', 'menu', 'control', 'understandable', 'difficulty', 'effort', 'recamend', 'nope', 'packaged', 'yall', 'personalize', 'setting', 'layout', 'directional', 'key', 'nada', 'navigate', 'wide', 'variety', 'viewing', 'individual', 'brokendefaulty', 'every', 'stinking', 'usable', 'amozon', 'recharged', 'twice', 'larger', 'font', 'hot', 'belong', 'white', 'across', 'unusedunopened', 'thin', 'design', 'neatly', 'shirt', 'meet', 'prepaid', 'ever', 'replacing', 'official', 'merchandise', 'supported', 'software', 'different', 'figured', 'oldernewer', 'trouble', 'ready', 'thingsit', 'constantly', 'roams', 'recieve', 'tech', 'suggestion', 'installed', 'altellnot', 'flash', 'actually', 'utilize', 'frying', 'representative', 'plate', 'boasted', 'indicated', 'scuff', 'itwhich', 'usedanother', 'close', '8000', 'indeed', 'paper', 'reminder', 'truth', 'advertising', 'waist', 'serial', 'sender', 'giving', 'smell', 'cigarette', 'there', 'numerous', 'deep', 'orinial', 'ther', 'bunch', 'ohio', 'deleted', 'finebut', 'highly', 'ordering', 'age', 'child', 'permission', 'authority', 'whats', 'purpose', 'cordless', 'dump', 'sucker', 'nibbled', 'section', 'stop', 'complaining', 'poor', 'speed', 'bum', 'wake', 'screaming', 'styleish', 'perfectly', 'stupid', 'follow', 'negitive', 'clueless', 'consumer', 'electronics', 'electronic', 'fool', 'feeling', 'sloooowly', 'peeling', 'protective', 'film', 'yea', 'relive', 'doorstep', 'check', 'literally', 'slooooowly', 'prestine', 'truly', 'correct', 'usb', 'cable', 'dealscaly', 'refused', 'sweetheart', '2005', 'recently', 'ceased', 'capable', 'secretly', 'suspect', 'unauthorized', 'ruining', 'past', 'verizoncom', 'everywhere', 'filled', 'spitting', 'image', 'thoroughly', 'clean', 'reconditioned', '76', 'awhile', 'appreciate', 'saling', 'advise', 'future', 'fun', 'click', 'cache', 'cover', 'hoping', 'happier', 'backing', 'contacted', 'response', 'additionally', 'due', 'constraint', 'advantage', 'sick', 'aftermarket', 'connector', 'force', 'genuine', 'batter', 'holding', 'believe', 'trip', 'grossly', 'overpaid', 'eventually', 'reliably', 'starting', 'locking', 'reset', 'stable', 'temporarily', 'lemon', 'trash', 'moral', 'story', 'ahold', 'away', 'currently', 'v3c', 'resign', 'extra', 'drain', 'continuously', 'wish', 'rated', 'entire', 'nowmedia', 'aware', 'httpwwwamazoncomreviewr3cd4bynt4da46refcm_cr_rdp_perm', 'allowed', 'duplicate', 'downloads', 'important', 'anymore', 'request', 'requesting', 'whether', 'single', 'reply', 'emailed', 'mine', 'spite', 'missing', 'functionality', 'contained', 'tell', 'point', 'breaking', 'selling', 'apply', 'extended', 'application', 'navigator', 'facebook', 'assistant', 'etc', 'suffering', 'material', 'composition', 'pertains', 'composed', 'spelling', 'grammar', 'checker', 'solely', 'similarity', 'written', 'affect', 'model', 'exact', 'purple', '73', 'law', 'prayerfully', 'turning', 'transferring', 'reasonable', 'connected', 'family', 'lost', 'smallest', 'hr', 'set', 'whenever', 'overpriced', 'bell', 'whistled', 'metal', 'system', 'swear', 'outlet', 'razor', 'mich', 'quit', 'basically', 'worthless', 'originally', 'loved', 'gazillion', 'pray', 'although', 'sprint', 'tmobile', 'luckily', 'exhibit', 'waiting', 'arrive', 'planned', 'ol', 'fancy', 'example', 'alarm', 'save', 'morning', 'download', 'apps', 'feel', 'handed', 'persuaded', 'otherwise', 'kept', 'everyday', 'pre', 'troll', 'hospital', 'reload', 'book', 'care', 'discharged', 'link', 'vehicle', 'kenwood', 'mean', 'local', 'associate', 'pulled', 'smarter', 'sellar', 'implied', 'uesful', 'waht', 'ment', 'real', 'bargain', 'break', '31', '228', 'cosmetic', 'blems', 'sweet', 'sharp', 'saving', 'crummy', 'scam', 'artist', 'song', 'cosmeticly', 'desirable', 'stuck', 'live', 'mostly', 'hate', 'half', 'paycheck', '500', 'goodphone', 'pristine', 'cosmeticallyall', 'perfectlynewly', 'manufactured', 'chinese', 'madeonly', 'side', 'adjustment', 'possibleotherwise', 'itafter', '2weeks', 'chargethe', 'refundpicked', 'finequick', 'question', 'dated', 'classic', 'minor', 'barely', 'mew', 'difference', 'bang', 'customize', 'morefront', 'owned', 'correction', 'sending', 'rest', 'def', 'type', 'reserve', 'others', 'bomb', 'amazing', 'mediocre', 'afford', 'disclose', 'invisible', 'loss', 'base', 'covered', 'manner', 'apologetic', 'maybe', 'deserve', 'allthanks', 'modelsmall', 'screenbut', 'jobthe', 'limited', 'ez', 'post', 'beyond', 'solve', 'phonebut', 'itand', 'changevery', 'expedited', 'inquiring', 'discovered', 'intermittently', 'command', 'rang', 'hung', 'addition', 'freeze', 'frozen', 'blank', 'responsiveness', 'shipment', 'defective', 'frustrating', 'selected', 'bc', 'high', 'characteristic', 'slow', 'center', 'whole', 'communication', 'skill', 'millennial', 'plain', 'surf', 'top', 'phonekey', 'barrage', 'survived', 'swim', 'toilet', 'sea', 'gulf', 'mexico', 'washing', 'machine', 'rumble', 'simultaneously', 'allow', 'land', 'floor', 'pike', 'position', 'facing', 'twopiece', 'showed', 'wear', 'electrical', 'responded', 'immediately', 'outstanding', 'prefer', 'hunter', '85', 'confused', 'qwerty', 'keyboard', 'smooth', 'announce', 'who', 'ring', 'tone', 'register', 'hearing', 'aid', 'shame', 'inevitably', 'weve', 'hinge', 'strong', 'remain', 'tight', 'lid', 'wiggle', 'bright', 'trade', 'motorla', 'packing', 'failed', 'wouldbe4', 'deteriorated', 'joke', 'grade', 'thi', 'nk', 'shutting', 'junkie', 'favorite', 'amazingly', 'wrapped', 'heartbeat', 'apparently', 'component', 'lose', 'fair', '60', '75', 'mid', 'interest', 'disaster', 'history', 'cellphone', 'wet', 'picked', 'listed', 'water', 'complained', 'ringer', 'denying', 'restocking', 'decide', 'checked', 'admitted', 'sitting', 'com', 'situation', 'trek', 'communicatorstyle', 'iphone', 'ground', 'window', 'onto', 'dog', 'toddler', 'chew', 'beam', 'drunk', 'fat', 'captain', 'kangaroo', 'clone', 'rubber', 'shedding', 'tough', 'butt', 'embarrassed', 'phonefrankly', 'beating', 'camping', 'transaction', 'quicker', 'proper', 'impossible', 'thick', 'matter', 'worse', 'thicker', 'adage', 'can', 'lb', '5lb', 'ruggedly', 'built', 'foot', 'minute', 'similar', 'carefully', '25', 'hardly', '1year', 'warranty', 'typically', '30day', 'nearby', 'discover', 'following', 'fell', 'searching', 'vain', 'strip', 'electrician', 'tape', 'inch', 'intricate', 'protected', 'debris', 'final', 'birthday', 'present', 'lol', 'previously', 'registered', 'personal', 'password', 'deleting', 'pushed', 'shuts', 'rugged', 'fallen', 'pen', 'push', '1st', 'repair', 'fortunate', 'exp', 'ask', 'stand', 'rough', 'handling', 'sweaty', 'talking', 'exercising', 'yeah', 'silly', 'died', 'moisture', 'handle', 'occasional', 'email', 'browse', '2year', 'commitment', 'someday', 'spring', 'droidx', 'po', 'bsthen', 'shoot', 'inexpensive', 'alright', 'ten', 'ridiculous', 'offer', 'fairness', 'gz', 'rock', 'checking', 'level', 'concern', 'forward', 'business', 'vibrator', 'airhead', 'static', 'dropping', 'regretted', 'farming', 'abuse', 'milspec', 'possible', 'phonepurchased', 'fake', 'falling', 'worry', 'insure', 'learning', 'alot', 'carrying', 'thier', 'unused', 'reccomend', 'functioned', 'newvery', 'chargeif', 'dealer', 'dealscay', 'itthis', 'gotten', 'ripped', 'owning', 'dependable', 'folk', 'policy', 'whisles', 'waterpoofing', 'build', 'ruined', 'hardy', 'outright', 'sense', 'nightstand', 'talked', '4g', 'cleaned', 'terribly', 'home', 'basement', 'sunroom', 'whatever', 'room', 'none', '4202015', 'payed', 'die', 'minimally', 'relative', 'ownership', 'multiple', 'recharging', 'johnsonjt1windstreamnet', 'honor', 'johnson', 'asking', 'wizard', 'done', 'flawlessly', 'vender', 'loud', 'makesreceives', 'messaging', 'access', 'usage', 'vz', 'direction', 'allows', 'downloading', '68', 'audio', 'technician', 'assist', 'warehouse', 'seed', 'grain', 'co', 'rice', 'heavyduty', 'might', 'speakerphone', 'certainly', 'cry', 'earpiece', 'ability', 'wiped', 'bit', 'thinner', '100', 'convert', 'durability', 'waterproof', 'young', 'insurance', 'mandatory', 'restatement', 'removing', 'alert', 'resetting', 'enable', 'discount', 'helpful', 'understood', 'getgo', 'v860', 'designed', 'comfortable', 'threefour', 'continues', 'pas', 'ex', 'duty', 'terrific', 'ran', 'pickup', 'trucklol', 'soundand', 'dialing', 'limit', 'frill', 'careful', 'lock', 'latch', 'molded', 'flippy', 'dang', '23', 'finei', 'partial', 'taylor', 'unkillable', 'basis', 'pic', 'super', 'whistle', 'itsimple', 'serf', 'compact', 'require', 'produce', 'amazoncom', 'large', 'baby', 'nephew', 'play', 'gift', 'he', 'psyched', 'flawless', 'steve', 'score', 'considered', 'corporate', 'america', 'appears', 'servicehe', 'thrilled', 'btwcan', 'place', 'disconnected', 'topic', 'theresorry', 'opted', 'clearmuch', 'minelol', 'search', 'wantedhe', 'itits', 'dependableclear', 'listening', 'screwing', 'niece', 'entertain', 'kid', 'overall', 'appearance', 'reasonably', 'adamant', 'familiar', 'construction', 'performance', 'hesitation', 'active', 'tec', 'savy', '3rd', 'operational', 'suggest', 'inadequate', 'us', 'ringno', 'registration', 'identification', 'tiny', 'hpwever', 'kill', '6years', 'somewhat', 'punishment', 'ruin', 'near', 'face', 'hingeworked', 'hige', 'coudnt', 'repaired', 'oneworkes', 'gooed', 'oneallen', 'deliverly', 'geat', 'dumb', 'shock', 'timelyphone', 'areaholds', 'pick', 'herethis', 'receives', 'recieved', 'fashion', 'kudos', 'employee', '16000', 'value', 'father', 'tractor', 'cracked', 'marked', 'phoneshipping', 'fasti', 'prompt', 'peace', 'describe', 'lightly', 'answered', 'caller', 'belt', 'buckle', 'clip', 'holder', 'shpping', 'touchscreen', 'destroyed', 'shockproof', 'predictive', 'headphone', 'navigation', 'browsing', 'web', 'nearly', 'indestructible', 'desired', 'simplicity', 'ruggedness', 'qualty', 'quoted', 'functioning', 'speedy', 'outdoors', 'sturdie', 'ike', 'dnt', 'priced', 'instruction', 'location', 'recevied', 'glass', 'coming', 'communicates', 'labeled', 'total', 'casio', 'communicate', 'label', 'unit', '324', '327', 'seal', 'refurbish', 'imagination', 'doug', 'everyone', 'pricey', 'spare', 'gone', 'sad', 'usually', 'admit', 'skepticism', 'stolen', 'write', 'pool', 'prove', 'grandfather', 'barley', 'submerged', 'clumsy', 'grip', 'texture', 'behind', 'helped', 'pressing', 'pounding', 'finger', 'desk', 'complicated', 'updated', 'phonebook', 'woman', 'announcing', 'name', 'followed', 'ringing', 'figure', 'form', 'address', 'asap', 'reprogramed', 'cuz', 'dint', 'idiot', 'entirely', 'chat', 'reviewer', 'notcould', 'irritated', 'ditched', 'edit', 'cute', 'arcade', 'course', 'lady', 'fall', 'smartphones', 'rounded', 'angle', 'slightly', 'inlayed', 'surface', 'plastic', 'edge', 'backplate', 'sealing', 'tightly', 'improperly', 'silicone', 'gap', 'sealed', 'christmas', 'early', 'guy', 'despite', 'truck', 'calculator', 'appointment', 'calendar', 'solidify', 'dinosaur', 'status', 'office', '45', 'catch', 'incompatible', 'logo', 'page', 'bloatware', 'uninstalled', 'bing', 'cdma', 'along', 'comparable', 'energy', 'hog', 'degree', 'physician', 'carried', 'primarily', 'lucky', 'apologize', 'hasty', 'explored', 'posting', 'apologizing', 'happened', 'provided', 'acceptable', 'sincerity', 'rain', 'overnight', 'puddle', 'ton', '14', 'blink', 'beep', 'wonderfully', 'nearlynew', 'generic', 'substantial', 'reenter', 'imagine', 'automatically', 'swapped', 'fails', 'improved', 'plugin', 'refer', 'seeking', 'simular', 'consider', 'datacharge', 'nursing', 'shortage', 'outlates', 'easier', 'amd', 'safer', 'reordered', '70', 'outdoor', 'environment', 'survive', 'exceptionally', 'increased', 'noisy', 'including', 'fourth', 'nowhave', 'add', 'verizonwireless', 'notso', 'awesomely', 'understanding', 'phonedid', 'onealsoand', 'monthmay', 'brother', 'mud', 'running', 'together', '35', 'thingexcept', 'flashlol', 'thinking', 'reliability', 'functionsprocedures3cellebritemachinea', 'store2flash', 'default', 'reinstall', 'assistant1from', 'medium', 'centerbrowse', 'downloadlaunch', 'assistantlower', 'launch', 'helponce', '73738the', 'assistantwhen', 'pin', 'yoursi', 'programing', 'appeared', 'resisting', 'faulty', 'becareful', 'unfortunately', 'outofdate', 'monthly', 'snap', 'filmy', 'blam', 'diesel', 'soaked', 'jean', 'wash', 'dry', 'puller', 'latter', 'replaces', 'boy', '18', 'thru', 'buddy', 'dreaded', 'happily', 'surprised', 'slight', 'powered', 'fixed', 'house', 'sort', 'rubbery', 'farmer', 'dirt', 'upon', 'info', 'taken', 'daily', 'bullet', 'flushing', 'faithful', 'depth', 'earth', 'nc', 'reseller', 'mailbox', 'fresh', 'battle', 'scar', 'outcome', 'prolonged', 'sudden', 'settle', 'doubt', 'withstand', 'unintentional', 'suffered', 'instance', 'short', 'warm', 'gal', 'bucket', 'latex', 'paint', 'height', 'kicked', 'colliding', 'brick', 'gutter', 'rushing', 'snow', 'melt', 'frigid', 'salty', 'gritty', 'retrievable', 'pile', 'mic', 'partially', 'blocked', 'dried', 'graphic', 'themi', 'fitting', 'gunk', 'nook', 'cranny', 'disgusting', 'refundreplacement', 'asphalt', 'grandkids', 'conplaint', 'dollar', 'improvement', 'clamshell', 'useswas', 'nonsense', 'gear', 'requirement', 'technologically', 'impaired', 'tuff', 'garage', 'cement', 'operation', 'reccommend', 'passed', 'date', 'hubby', 'dangerous', 'toiletlol', 'fir', 'hooked', 'farm', 'tractorgardeningweedeatingetc', 'conversationforward', 'personcompany', 'earlier', 'camper', 'disappointing', 'drowning', 'saddened', 'market', 'motv860', 'update', 'compared', 'penny', 'bet', 'cent', 'weighs', 'contain', 'become', 'consistently', 'performing', 'industrial', 'upped', '____________________________', 'usa', 'toy', 'aluminum', 'rendering', 'messed', 'exists', 'tout', 'china', 'bottom', 'ha', 'hat', 'cattle', 'smoothly', 'boundenslaved', 'hoped', 'pail', 'bother', 'shortly', 'ford', 'sync', 'fantastic', 'phonethanks', 'microphone', 'mo', 'pleasure', 'timethe', 'greatwould', 'press', 'challenging', 'dedicated', 'industry', 'subject', 'tend', 'emailing', 'laid', 'visible', 'bf', 'ensure', 'lied', 'mysterious', 'scatches', 'pleasantly', 'sturdydurableclassy', 'goodrecommand', 'internetvery', 'bug', 'skeptical', 'invoice', 'unheard', 'courteous', 'distributor', 'alcohol', 'cotton', 'swab', 'httpswwwamazoncomdpb0033sfv5arefcm_cr_ryp_prd_ttl_sol_0', 'includes', 'applicable', 'incorrect', 'misdiagnosed', 'responsive', 'false', 'selectel', 'mvno', 'handicapped', 'aged', 'emergency', 'road', 'accident', 'plea', 'greatly', 'needing', 'renewed', 'fund', 'recovering', 'surgery', 'anywhere', 'fulfills', 'boat', 'excelente', 'buzzing', 'somewhere', '10yr', 'wa', 'requires', 'sounding', 'log', 'werent', 'helpfull', 'defected', 'shiping', 'lable', 'grasious', 'bubble', 'senior', 'party', 'yep', 'drowned', 'delivers', 'lover', 'drown', 'meaning', 'boogie', 'drive', 'handsfree', 'expectedappears', 'ev', 'inc', 'connecting', 'pageplus', 'unbeliveible', 'sign', 'suprized', 'anybody', 'forit', 'keeping', 'kennyg', 'impression', 'expectant', 'suppose', 'spotty', 'zone', 'u350', 'onthejob', 'honestly', 'soso', 'sister', 'temp', 'neither', 'destroyingover', '2009', 'tempertemper', '2010', 'traided', 'overbummer', 'yup', 'dumped', 'fortified', 'grapefruit', 'juicethat', 'stock', '1000', 'initial', 'allotment', 'balance', '10000', 'refill', 'wistles', 'competition', 'greatest', 'eats', 'instantly', 'financially', 'restricted', 'expense', 'minimal', 'kiss', 'normal', 'adequate', 'shes', 'per', 'payasyougo', 'programmable', 'manage', 'equally', 'satisfactory', 'teaching', 'soonerin', 'container', 'storealso', 'freebie', 'earplug', 'accountalso', 'blocking', 'stealthing', 'tracfone', 'cheaper', 'promenant', 'thousand', 'shortcut', 'overkill', 'becoming', 'god', 'bless', 'foolishly', 'disposable', 'pruduct', 'eye', 'appeal', 'featuresmy', 'oops', 'reachout', 'government', 'upgradei', 'phonesif', 'phoneverizon', 'reachouts', 'carrierthey', 'release', 'completed', 'contractif', 'assisted', 'mobil', 'websitethe', 'ratingsk8rboi', 'garbage', 'suitable', 'conveniently', 'crawford', 'superstore', 'fliptop', 'exception', 'reading', 'ad', 'pronto', 'credited', 'acknowledgment', 'impersonal', 'dreaming', 'impress', 'cancel', 'temporaley', 'nogthing', 'meid', 'conflict', 'u340', 'traveling', 'stating', 'latest', 'nt', 'amsung', 'brought', 'simplistic', 'ideal', 'warned', 'phonesthe', 'anyway', 'grat', 'trusty', 'flipphones', 'greatbphone', 'appreciated', 'reg', 'acct', 'consumption', 'tin', 'economical', 'iy', 'requested', 'unlimited', 'heck', 'hears', 'some1', 'attachment', 'safely', 'amazed', 'texing', 'tex', 'move', 'advised', 'install', 'wifi', 'visited', 'rechecked', 'hardwaresoftware', 'stepfather', 'rugby', 'ii', 'crowd', 'mess', 'foil', 'rubbed', 'therefore', 'phonei', 'numbersi', 'desktop', 'havei', 'adapter', 'forgot', 'orderi', 'remembering', 'boomerspatsy', 'butlerpatsybutlerattnet', 'si', 'depending', 'becauuse', 'thus', 'agree', 'rubberized', 'unexpectedly', 'biggest', 'surprisingly', 'relevent', 'usbbased', 'recording', 'micro', 'sd', 'slot', 'man', 'wanting', 'descent', 'phonevery', 'durableeasy', 'operatesmall', 'compactits', 'jthis', 'radio', 'technology', 'resale', 'double', '3g', 'flew', 'bus', 'recovered', 'opposite', 'amazement', 'storm', 'transformer', 'blew', 'surge', 'rushed', 'smoking', 'melted', 'scortched', 'fire', 'cooled', 'attempted', 'beautifully', 'stripped', 'fancier', 'chose', 't201g', 'condiserable', 'proved', 'mustve', 'banged', 'sentimental', 'convienencesize', 'sleeping', '750', '2500', 'ph', 'mt', 'orderin', 'goof', 'mailer', 'delay', 'interacting', 'awkward', 'blind', 'practical', 'clam', 'shell', 'stuffing', 'finding', 'opendial', 'machinecouldnt', 'net10', 'arent', 'quicklywas', 'shippingwas', 'describedand', 'madei', 'dadand', 'extrashe', 'hunting', 'receptionfull', 'everywherei', 'stylish', 'yo', 'fifteen', 'cheep', 'wallyworld', 'bump', 'thoughbut', 'buyand', 'convoy', 'heaviest', 'popping', 'schu640', '11', 'estimated', 'sooner', 'physically', '200', 'secured', 'updating', 'leaving', 'cleaning', 'based', 'caution', 'hawaii', 'carolina', '27', '4500', 'mile', 'informed', 'suggested', 'emauiled', 'respond', 'acivated', 'cake', 'temporary', 'cellular', 'relatively', 'buts', 'flinch', 'attribute', 'permit', 'block', 'applied', 'sky', 'necessarily', 'cosmetically', 'hiking', 'inspection', 'notice', 'favor', 'itit', 'eating', 'conversation', 'wouldnot', 'fyi', 'vintage', 'appropriate', 'practically', 'honest', 'cap', 'gentleman', 'discipline', 'hurt', 'earn', 'sits', 'sand', 'funny', 'researching', 'ahead', 'whythis', 'nutwo', 'rate', 'professional', 'schedule', 'speech', 'minimum', 'distortion', 'max', 'degraded', 'vision', 'mistake', 'adequately', 'microsd', '20mp', 'camcorder', 'u660', 'flashlight', 'news', 'inserted', '16gb', 'sandisk', 'xfer', 'pc', 'xferring', 'setup', 'external', 'played', 'briefly', 'blue', 'tooth', 'landed', 'tune', 'midgrade', 'sounded', 'compatibility', 'simm', 'calif', 'lifeline', 'nexus', 'owns', 'con', 'cam', 'vibrate', 'wimpy', 'stronger', 'conclusion', 'report', 'subsequent', 'lit', 'backed', 'targetwireless', 'bag', 'ruggedized', 'megapixel', 'tougher', 'looooooong', 'scramble', 'egg', 'argument', 'intended', 'aint', 'fossil', 'denied', 'wire', 'stick', 'backlight', 'switching', 'seven', 'reported', 'stole', 'readable', 'assumption', 'finealthough', 'certain', 'paying', 'assume', 'here', 'moment', 'damn', '4th', 'telephone', 'renewing', 'detract', 'efficiency', 'vert', 'eat', 'crow', 'charm', 'apology', 'changed', 'lately', 'commando', 'noting', 'pp', 'ala', 'exaggeration', 'middling', 'intelligence', 'site', 'clock', 'timetravel', '1990s', 'twitter', 'andor', 'frequently', 'southwest', 'ct', 'imho', 'indicates', 'coverage', 't401g', 'slider', 'fakeberry', 'r455g', 'heftier', 'nicer', 'casing', 'minitrack', 'cursor', 'weirdest', 'encountered', 'wrote', 'space', 'likely', 'period', 'sentence', 'r355c', 'fullyfunctional', 'typing', 'worst', 'overlay', 'punctuation', 'losing', 'eyesight', 'murder', 'common', 'drag', 'unlike', 'dark', 'putting', 'dormant', 'midst', 'sporadic', 'unusually', 'soft', 'configuration', '455', 'n10', 'granted', '999', 'ie', 'elsewhere', 'experienced', 'observed', '56', 'vice', 'versa', 'regard', 'zoom', 'bummer', 'frequent', 'series', 'shot', 'mosaic', 'deducted', 'browser', 'finished', 'visiting', 'wo', 'worried', 'sized', 'nail', 'unknowingly', 'pwr', 'booklet', 'doh', 'laptop', 'msg', '025', 'character', 'count', 'maximum', '160', 'copycutpaste', 'bummed', 'recorder', 'blackberry', 'modern', 'pinch', 'mp3', 'player', 'playlist', 'opposed', 'satisfy', 'jackpot', 'beforehand', 'starter', 'lg900g', 'gadget', 'shop', 'seeing', '16', 'slide', '1015', '495', '2691', 'concerned', 'track', 'grocery', '72', 'hp', 'prime', 'stealthis', 'nowadays', 'dust', 'jack', 'ordinary', 'research', '1x', 'tactile', 'cheapness', 'achievable', 'load', 'burn', 'led', 'clunky', '411', 'faster', 'hampshire', 'tower', 'hint', 'gsm', 'sophisticated', 'auto', 'lens', 'protector', 'recommended', 'subjected', 'sport', 'scouting', 'youth', 'sat', 'gravel', 'attributed', 'prepay', 'importantly', 'supremely', 'subtracted', 'snooze', 'autolock', 'youll', 'accidently', 'plenty', '620g', 'triple', 'tapping', 'outgoing', 'actual', 'convenient', 'route', 'shaved', 'voicemail', 'occasionally', 'sends', 'verbal', 'photosiam', 'recieving', 'aunt', 'affordable', 'pro', 'userfriendly', 'samung', '03', 'minutetext', 'recomend', 'perhaps', 'rightfully', 'possibility', 'efficient', 'incapable', 'painstaking', 'registering', 'walk', 'nowhere', 'counted', 'whereas', 'deduced', 'wed', 'repeating', 'fedex', 'resend', 'explain', 'theyd', 'cancelled', 'grace', 'forewarned', 'costumer', 'visibility', 'bro', 'unbelievable', 'taste', 'definetly', 'grammy', 'lasting', 'print', 'ur', 'dream', 'whoever', 'usabilityease', 'general', 'rule', 'developer', 'shift', 'letter', '123sym', 'abcabc', 'enjoying', 'draw', 'travel', 'country', 'travelling', 'invested', 'became', 'angered', 'delight', 'casual', 'budget', 'recommendation', 'baterry', 'explode', 'table', 'mad', 'shack', 'me10', 'seen', 'compliants', 'android', 'forum', 'factor', 'strength', 'weakness', 'breaker', 'adapted', 'favorties', 'tip', 'admittedly', 'lousy', 'math', 'handy', 'memo', 'tool', 'notenot', 'afre', 'allfor', 'jobquick', 'talker', '200min', 'dislike', 'dialed', 'realizedi', '10min', 'kinda', 'barsout', 'regret', 'aggravating', 'deactivating', 'defense', 'forget', 'inactivity', 'knowledge', 'gb', 'par', 'kroger', '355c', 'researched', 'waybut', 'enlarge', 'state', 'doa', 'lostthat', 'graciously', 'costing', '25month', 'building', 'elevator', 'subway', 'rent', 'writing', 'buttdialed', 'spacebar', 'managed', 'samsungs', 'standardsthe', '300', 'digit', 'reprogram', 'usability', 'organized', 'selection', 'newest', 'a797', 'youngest', 'secondly', 'hasslefree', 'tailor', 'blingedout', 'circle', 'jewel', 'bling', 'dazzle', 'diamond', 'straight', 'hardcase', 'skin', 'insane', 'unopened', 'opera', 'bookmark', 'google', 'map', 'upload', 'customized', 'expandable', '35mm', 'watch', 'youtube', 'mp3s', 'providing', 'tipit', 'mm', 'kitchen', 'depend', 'zip', 'pix', 'mainly', 'background', 'querty', 'mazda', 'makereceive', 'pressed', 'disable', '22', 'prevent', 'slipping', 'equalizer', 'settingsthe', 'average', 'indoor', 'lighting', 'r375c', 'nicely', 'palm', 'sacramento', 'stockton', 'pjhones', '700', 'dropoff', '1300', '1400', 'donate', 'city', 'recall', 'mentioning', 'upset', 'server', 'busy', 'accurately', 'occurred', 'scheduled', 'bait', 'term', 'storage', 'requiring', 'flas', 'latger', 'theyll', 'weirdly', 'staying', 'silent', 'reboot', 'shopcelldeals', 'enclosed', 'witnessed', 'beauty', 'lie', 'rural', 'england', 'moderate', 'necessary', '2000', 'chance', 'ontexting', 'plusthe', 'sighted', 'wantbrowsing', 'nightmare', 'teeny', '2900', 'keystroke', 'viable', 'granddaughter', 'granny', 'berry', 'digitalcomputer', 'swithing', 'refresher', 'longed', 'town', 'traced', '80', '90', '050', 'pair', 'passkey', '00000', '11111', 'fustrating', 'avoids', 'lack', 'drod', 'higher', 'gating', 'monthy', '1680', 'backpack', 'happening', 'cumbersome', 'gladly', 'ditching', 'lg800g', 'poing', 'tedious', 'accepts', '800g', 'accepted', '4gb', 'ringtone', 'blow', 'quibble', 'netflix', 'kindle', 'contracteasy', 'middle', 'laso', 'pda', 'crystal', 'allonly', 'itall', 'wantsneeds', 'earlyfast', 'deliverynice', 'phoneeven', 'modelkmart', '99', 'myselfthis', 'sonthanks', 'teenage', 'disowning', 'sworn', 'reach', 'zeronoproblems', 'essential', 'conscious', '13mega', 'pixel', 'quarty', 't9', 'roaming', 'wyoming', 'located', 'restriction', '36', 'record', 'forth', '13mp', 'scoop', '1200', 'exaclty', 'shouldhave', 'held', 'admirably', 'inefficient', 'diplomacy', 'brief', 'accused', 'lieing', 'somehow', 'accomplished', 'expired', 'strange', 'operator', 'telling', 'enemy', 'untill', 'soundsignalbasic', '600', 'peak', '4192013', 'repeatedly', 'pitch', 'deactivated', 'counterfeit', 'desbloquedo', 'structure', 'mass', 'adult', 'contains', 'traveled', 'ft', 'abilene', 'stayed', 'department', 'california', '1500', 'assigned', 'gas', 'farther', 'incompetent', 'blister', 'packed', 'sixty', 'delighted', 'nokia', 'x2', 'chip', 'platinumtel', '10ct', '10mb', 'dataenough', 'stream', 'phonejust', 'occasion', 'resetyou', 'cameraon', 'vibrates', 'reformat', 'pop', 'powering', 'recognize', 'popular', 'apple', 'thered', 'beallendall', 'delightful', 'organization', 'soldier', 'asy', 'everytime', 'caused', 'malfunction', 'restored', 'restore', 'pohone', 'vi', 'msn', 'integrated', 'app', 'whatsapp', 'downloaded', 'focus', 'i917', 'adding', 'voila', '32', 'gig', 'preloaded', 'proprietary', 'skydrive', 'document', 'excel', 'powerpoint', 'blaming', 'consult', '06', 'zune', 'particularly', 'pinstripe', 'disagree', 'increase', 'trickier', 'curved', 'superamoled', 'sun', 'io', 'sometime', 'manufacture', 'hardware', 'accessible', 'cutting', 'platform', 'stale', 'interface', 'intuitive', 'customizable', 'caveat', 'placement', 'lockscreen', 'adjust', 'sensor', 'leading', 'fear', 'wearing', 'prepared', 'workarounds', 'unplug', 'tricky', 'cab', 'file', 'easiest', 'seveneighter', 'method', 'windowsphone', 'subreddit', 'windowsphonehackercom', 'article', 'lumia', '920', 'november', 'surviving', 'crack', 'htc', 'surround', 'magnet', 'kit', 'produced', 'amoled', 'vibrant', 'pixelated', 'nand', 'removable', 'tinkerer', 'boot', 'loader', 'custom', 'rom', 'wp8', 'combat', '520', 'mango', 'integration', 'marketplace', 'skype', 'sugarsync', 'integrate', 'swap', 'formatted', 'hotspot', 'venezuela', 'el', 'salvador', 'configure', 'regional', 'hotmail', 'compete', 'poorly', 'expert', 'microsoft', 'deliberate', 'exterior', 'positioning', 'noncamera', 'forcing', 'onscreen', 'infinitesimally', 'constant', 'operating', 'courtesy', 'socalled', 'trial', 'reinsert', 'regain', 'indicator', 'indication', 'pulldown', 'initially', 'clicked', 'subscription', 'sweat', 'xbox', 'login', 'entering', 'verify', 'retrieving', 'select', 'convoluted', 'canceling', 'payment', 'guide', 'correspond', 'changing', 'automatic', 'renewal', 'indicating', 'rabbit', 'fill', 'submit', 'involving', 'interstate', 'commerce', 'outlawed', 'ftc', 'disputing', 'bank', 'brightly', 'bowli', 'bowl', 'hadnt', 'bathroom', 'receptacle', '64gb', '1020', 'satisfactorily', '32gb', 'loaded', '359', 'synced', 'merchant', 'breed', 'twoday', 'unusual', 'intact', 'incredible', 'respect', 'infinite', 'contrast', 'ratio', 'engine', 'miss', 'siri', 'band', 'refarmed', '1900mhz', 'king', '247us', 'branding', 'zagg', 'shield', 'unboxing', 'professionally', 'hesitant', 'fiddling', 'sensitive', 'flimsy', 'signing', 'quest', 'fiddle', 'microsoftsamsung', 'softwarehardware', 'tandem', 'impressive', 'cel', 'surprising', 'breeze', 'air', 'gain', 'multitasking', 'copypaste', 'publishing', 'androidsure', 'secure', 'filter', 'content', 'migrate', 'nonus', 'marketthe', 'worldwide', 'nonexistent', 'identifies', 'mayor', 'street', 'capital', 'addressed', 'seriously', 'shine', 'competitor', 'findin', 'thoughmany', 'render', 'basisno', 'renderingi', 'iphones', 'downside', 'consideration', 'notch', 'challengealternative', 'versus', 'cames', 'earphone', 'wich', 'installs', 'detects', 'syncs', 'cloud', 'bye', 'outlook', 'license', 'phonethe', 'importance', 'phonesespecially', 'blackberrysit', 'atleast', 'packbut', 'powerit', 'batterybrowsing', 'crash', 'timesthe', 'clearthe', 'extremly', 'beautifulwowthe', 'decrease', 'accuracybut', 'itthere', 'consi', 'tap', 'xboxlive', 'tile', 'avatari', 'phonelook', 'brightit', 'darkness', 'daylighteverything', 'destroys', 'library', 'appsthey', 'likingbut', 'growing', 'everyones', 'profile', 'picthis', 'waysi', 'receiver', 'beginner', 'dip', 'whistkes', 'released', 'infact', 'contemporary', 'sleek', 'malfunctioning', 'restarts', '513', 'random', 'laying', 'listen', 'saver', 'rigid', 'apart', 'opportunity', 'nobody', 'op', 'e71', 'proceded', 'firmware', 'contacting', 'retail', 'keywords', 'team', 'voluptuary', 'wp7', 'firstone', 'graded', 'easilyand', 'nokias', 'motorolas', 'lgs', 'volumn', 'stressful', 'express', 'sucked', 'glance', 'definitly', 'minus', '1star', 'capacitive', 'omnia', 'geeky', 'thread', 's6', 'choosing', 'overheat', 'flag', 'geek', 'blog', 'incidentally', 'notorious', 'blowing', 'em', 'tor', 'nuff', 'alive', 'realy', 'icon', 'generally', 'ringtonesreally', 'similiar', 'highest', 'windows7', 'softwareupdate', 'tittle', 'idle', 'format', 'cardthe', 'vibration', 'shocked', 'maintains', 'kicker', 'restock', 'crappy', 'dissatisfied', 'winner', 'win', 'ops', 'flawlessease', 'dependability', 'winphone', 'instrument', 'howto', 'united', 'downloadrestartdownloadrestart', 'july', 'internationally', 'inconvenienced', 'stopping', 'treat', 'storageusage', 'shall', 'moses', 'musaazi', 'kampala', 'uganda', 'kick', 'thatbut', 'sucksyou', 'washed', 'outyou', 'itin', 'minuscule', 'pixelscolor', 'outbefore', 'evo', 'meanhell', 'optimus', 'vway', 'crapreturning', 'asapalready', 'intercept', 'galaxy', 'tabpos', 'tabletphone', 'buythe', 'thrive', 'atts', 'gophone', '499', 'blutekusa', 'fingerprint', 'indicate', 'asks', 'rich', 'brightness', 'physical', 'scary', 'felt', 'snapped', 'scream', '720p', 'highend', 'nonetheless', 'hiccup', '512mb', 'ram', 'polish', 'iphoneipad', 'customization', 'integrates', 'social', 'client', 'misspelling', 'dough', 'quadband', 'phoneit', 'networksafter', 'canadaall', '1700mhz', 'wind', 'mobilicity', 'friendlyif', 'lime', 'brings', 'precludes', 'copy', 'paste', 'disappeared', 'installing', '48', 'blotted', 'aplications', 'smoothit', 'fruit', 'ninja', 'imside', 'spread', 'bigger', 'brilliant', 'ghz', 'processor', 'proficient', 'movie', 'streaming', 'source', 'importants', 'newers', 'ecualizer', 'incluided', 'solved', 'costbenefits', 'relation', 'title', 'include', '399', '109', 'mmmuuuuaaa', 'ahahahahahahahahah', 'restart', 'scene', 'scammed', 'snappy', 'productupdate', 'developed', 'dullphone', 'septemberdelivered', 'september', '19', 'saturday', 'planning', 'optionif', 'cellpgine', 'un', 'movistar', 'da', 'androide', 'repeat', 'splurge', '500700', 'stumbled', 'ladder', 'offering', 'january', 'beeping', 'wp', 'sake', 'amizing', 'gorilla', 'bueauuuutifly', 'reboots', 'slooow', 'choose', 'africa', 'forced', 'laughed', 'success', 'learn', 'curve', 'easer', '4inch', 'thumb', 'natty', 'bday', 'malfunctioned', 'serch', 'tranfer', 'hell', 'phonebefore', 'amongst', 'fan', 'focusafter', 'decision', 'loving', 'equipo', 'era', 'ofrecido', 'entrega', 'rápida', 'lo', 'tengo', 'operando', 'en', 'colombia', 'la', 'de', 'claro', 'muy', 'buena', 'velocidad', 'necesario', 'actualizar', 'se', 'actualiza', 'pantalla', 'tiene', 'gran', 'resolucion', 'completo', 'por', 'ahora', 'unico', 'malo', 'que', 'veo', 'tema', 'compre', 'una', 'kingston', 'ni', 'siquiera', 'reconoce', 'installation', 'maneuver', 'intuitively', 'arrange', '9812', 'rebooting', 'avail', 'polite', 'hindi', 'accent', 'hinted', 'iam', 'glitch', 'encountering', 'dilemma', '55', 'dinging', 'sonand', 'jut', 'discharge', 'surfing', 'generate', 'username', 'beginning', '81', 'trick', 'retuned', 'workedyesi', 'camara', 'dose', 'among', 'brainer', 'trust', 'burnin', 'costa', 'rica', 'fro', 'naturally', 'ui', 'tweaking', 'enabled', 'captivate', 'friendly', 'ereading', 'aftyer', 'plethora', 'itsaid', 'born', 'oct', '21', '10november', '2013', 'robbed', 'huber', 'useso', 'awesomest', 'seattle', 'gripe', 'disconnectedto', 'conserve', 'continuesso', 'mepush', 'methis', 'morebuy', '710its', 'gen', 'believer', 'synchronization', 'assumed', 'wouold', 'mistaken', 'interesting', 'hehe', 'blu', 'dash', 'irritating', 'photography', 'responsible', 'versatile', 'lled', 'scafy', 'sou', 'realize', 'multifunctional', 'frisbie', 'sucksi', 'oneyeah', 'shattered', 'phonehe', 'boooo', 'phyllis', 'jacksonville', 'il', 'member', 'evrerything', 'hight', 'pricewe', 'argentina', 'therebest', 'interfase', 'buid', 'babble', 'eyepopping', 'bayside', 'trading', 'stilll', 'witv', 'depletes', 'sm', 'othersthe', 'rear', 'sudamérica', 'telefónica', 'enjoy', 'dent', 'english', 'cheated', 'deceived', 'mercy', '352982042840648', 'español', 'siento', 'estafado', 'burlado', 'esta', 'tienda', 'compré', 'este', 'celular', 'decia', 'desbloqueado', 'resulta', 'bandas', 'bloqueada', 'ya', 'puedo', 'utilizarlo', 'necesito', 'mi', 'reemplazado', 'ustedes', 'fueron', 'los', 'vendieron', 'lite', 'development', 'core', 'unimpressed', 'opt', 'builtin', 'explorer', 'verrrrry', 'froze', 'restarting', 'unfreeze', 'symbian', 'n8', 'tablet', 'pure', 'comparison', 'robust', 'promising', 'stature', 'greatit', 'laptopbeing', 'plussimple', 'useupdated', 'easilywas', 'overallsimplicity', 'couldntthere', 'row', 'begin', 'booting', 'bricked', 'unplugging', 'appstore', 'unsatisfied', '5mp', 'central', 'woulda', 'grab', 'camra', 'transvestite', 'hello', 'warn', 'suposed', 'unlockedcellphonekings', 'proctector', 'ecuador', 'dissapointed', 'visually', 'atractive', 'advice', 'mp', 'orange', 'empty', 'handset', 'fakerenew', 'amazonecom', 'believing', 'authentic', 'llc', 'obvious', 'tossed', 'availibility', 'limitation', 'airplane', 'sleep', 'mb', 'asleep', '100mb', '500mb', 'roll', 'whatsover', 'connects', 'microsofts', 'entry', 'operates', 'scaled', 'windowspc', 'googlecom', 'august', '2015', 'nonfunctional', 'technically', 'savvy', 'citizen', 'unsupported', 'deters', 'adopting', 'simultaneous', 'tab', 'accurate', 'synchronizes', 'pdf', 'cbs', 'journal', 'viewable', 'infrequently', 'echo', 'circumvent', 'jabra', 'tour', 'pairing', 'cancelling', 'neat', 'quantun', 'organize', 'fewer', '2g', 'chatting', 'neck', 'normally', 'meant', 'language', 'amazonwireless', 'ball', 'bigtime', 'securitybug', 'entrylevel', 'branded', 'decides', 'likelihood', 'flashy', 'suspiciously', 'screamed', 'constructed', 'benchmark', 'describing', 'explanation', 'suspicious', 'event', 'neglecting', 'allowing', 'security', 'dinged', 'extending', 'refreshing', 'yellowdiscolored', 'knockoff', 'nonsamsung', 'reasearch', 'telltale', 'diagnostics', 'followup', 'unanswered', 'honesty', 'encourage', 'interet', 'nonexpert', 'retrospect', 'carrierbranded', 'listing', 'personally', 'accuracy', 'urge', 'advance', 'resold', 'welldocumented', 'lowered', 'inaccurate', 'marketing', 'overseas', 'refined', 'flabbergasted', 'lacking', 'pluggedin', 'curious', 'counter', 'yelp', 'bizarre', 'flow', 'grasp', 'develop', 'improving', 'skip', 'canada', 'december', '2012', 'airport', 'hotel', 'readily', 'yesterday', 'merciful', 'varying', 'shortened', 'span', 'percentage', 'fail', 'prematurely', 'demise', 'mixed', 'emotion', 'greater', 'comfort', 'definitively', 'attractive', 'operative', 'performed', 'impacted', 'telcel', 'dlls', 'adopter', 'generation', 'tank', 'beef', 'plunge', 'gem', 'nervous', '8gb', '1999', 'pny', 'documentation', 'causing', 'mytouch', 'contactscalendaremail', 'treating', 'justin', 'bieber', 'concert', 'guatemala', 'sight', 'nonspecfic', '32g', 'ultra', '28', 'intention', 'consume', 'consumes', 'batterybut', 'happens', 'annoyed', 'accept', 'highpriced', 'cheappriced', '400500', 'chilled', 'tag', 'rare', 'infuse', 'rely', 'mac', 'british', 'pub', 'ashland', 'oregon', 'serviceable', 'fleshed', 'glaring', 'omissionannoyance', 'upgradable', 'callsnumbers', '3yr', 'smsmms', 'reject', 'itswiping', 'stall', 'result', 'arrow', 'youve', 'march', 'april', 'androidgalaxy', 'ace', '5830', 'swiftkey', 'slick', 'share', 'straighttalk', 'patience', 'group', 'closer', '25mo', '250', 'majority', 'grayish', 'pinstriping', 'slippery', 'glossy', 'stutter', 'pixelation', 'lag', 'mask', 'slowdown', 'fanciful', 'transition', 'effect', 'echoing', '240', '400', 'viseversa', 'inconsistent', 'lagging', 'b4', 'gsmarenacom', 'warning', 'gorgeous', 'waybetter', 'thrill', 'virtual', 'relief', 'inputting', 'sped', 'landscape', 'newbie', 'caribbean', 'digicel', 'wp75', 'adobe', 'student', 'suite', 'preinstalled', 'hundred', 'escape', 'sgi9000', 'tempting', 'overlyhyped', 'trendy', 'longterm', 'faith', 'aka', 'shoulder', 'torso', 'hip', 'thigh', 'knee', 'calf', 'ankle', 'consistent', 'plugging', 'pinstriped', 'firstgen', 'plasticy', 'duraluminum', 'overly', '4star', 'ugly', 'marketshare', 'resolutionsize', 'upgradeable', 'lug', 'continue', 'styling', 'yrsand', 'messing', 'taker', 'wellthe', '2025', 'strongly', 'wished', 'instagram', 'snapchat', 'created', 'tends', 'fluctuate', '135', '98', 'expanded', 'proximity', 'goe', 'serius', 'dam', '710', 'cero', 'reminds', 'hefty', 'hooking', 'goodguys', 'setback', 'troublesome', 'onthego', 'oppressive', 'round', 'flipphone', 'slowly', 'inset', 'blurry', 'unreasonable', 'blemish', 'million', 'bargan', 'incredibly', 'critisim', 'annoyance', '1917', 'budge', 'whatsoever', 'combed', 'hair', 'ipod', '366gbs', 'spazzing', 'mirror', 'hd', '8gbs', 'distributing', 'private', 'onboard', 'watchdog', 'santa', 'monica', 'issued', 'attorney', 'sued', 'billion', 'letting', 'stalker', 'invading', 'celebrity', 'hack', 'shady', 'angry', 'privacy', 'reign', 'intigrates', 'transfere', 'intigrated', 'retire', 'natural', 'beach', 'ride', 'amusement', 'park', 'retired', 'adorned', 'inaudible', 'ear', 'determine', 'celltoear', 'property', 'firstits', 'enchanted', 'overlooking', 'reflect', 'liklihood', 'increasingly', 'diverse', 'walled', 'garden', 'interact', 'repworking', 'scriptwho', 'expertise', 'ordeal', 'directed', 'remains', 'sept', '2016', 'noted', 'resolve', 'stl', 'disstress', 'resetted', 'resolved', 'tho', 'wld', 'any1', 'judging', 'cut', 'unconscionable', 'et', 'virtually', 'friday', 'unlcoked', 'tired', 'searched', 'funtion', 'perfecly', 'xp', 'relace', 'clunkiness', 'muchh', 'aiming', 'wallpaper', 'colored', 'gee', 'extent', 'niether', 'layed', 'compitition', 'st', 'pot', 'dedicate', 'developing', 'potential', 'shortcoming', 'terminated', 'rapidly', 'scroll', 'management', '1day', '17', 'addicional', 'reasonablethe', 'india', 'cameramy', 'aspect', 'proving', 'itemnot', 'pull', 'signalbut', 'win7', 'yearold', 'europe', 'shipper', 'antenna', 'wherever', 'hocus', 'pocus', 'paired', 'mountainous', 'region', 'empeso', 'onlineanything', '3gs', 'dimension', 'brighter', 'heavier', 'sliding', 'ambience', 'digital', 'redesigning', 'metro', 'messenger', 'linkedin', 'itunes', 'multimedia', 'watermark', 'boring', 'synchronize', 'responds', 'copyright', 'gmaps', 'announced', '2011', '9300', 'htcs', 'misspelled', 'spanish', 'spell', 'hub', 'wm', 'shared', 'stellar', 'gravity', 'surpasses', 'microusb', 'generous', 'besides', 'linked', 'proceed', 'master', 'anyways', '910', 'suport', 'trough', 'diferent', 'emulador', 'tought', 'instalo', 'rogers', 'ron', 'ser', 'súper', 'ich', 'dell', 'kolbi', 'recomended', 'mild', 'wanna', 'pbox', 'pastedef', 'pone', 'exelent', 'usseful', 'wonderfull', 'flexibility', 'adapt', 'funtionality', 'monthtomonth', 'popped', 'programmed', 'act', 'filesystem', 'folder', 'registry', 'timer', 'flac', 'ogg', '20111214', 'selecting', 'ausome', 'aspepct', 'disappoint', 'facktory', 'zuneeveryting', 'doits', 'perfrectly', 'notech', 'downling', 'doenst', 'preference', 'seamlessly', 'italian', 'italy', 'h3g', 'sdhc', 'class', '13', '7107720', 'february', '720', 'sdi', 'upper', 'remained', 'messagesi', 'alone', 'phoneother', 'thanked', 'rendered', 'protection', 'backside', 'percent', 'costefficient', 'popularity', 'iphone4s', 'concentrate', 'becomes', 'worthy', 'indie', 'hangups', 'monts', 'teen', 'wp7is', 'thoughtit', 'cleani', 'pixeles', 'fantastici', 'becouse', 'antiquated', 'controlling', 'restrictive', 'woderful', 'saddly', 'avoiding', 'gonna', '500000', 'comming', 'bada', 'indycellular4less', 'unboxed', 'board', 'mp4', 'auricular', 'dissapointment', 'exceeds', 'pricing', 'upgrad', 'rhetorical', 'applicatives', 'reached', 'llego', 'tiempo', 'bueno', 'producto', 'esperaba', 'hjh', 'uj', '30th', 'fellow', 'seamless', 'airtime', 'missppellings', 'c3', 'combination', 'firm', '5070', 'dominican', 'republic', 'introducing', 'male', 'enjoys', 'spend', 'smartest', 'advanced', 'smallish', '3x5', 'index', 'fold', 'trim', 'basicness', 'heavily', '6am', 'midnight', 'relies', 'capacity', 'intend', 'successfully', 'handled', 'calibration', 'differs', 'significantly', 'faintly', 'screenshots', 'fm', 'plack', '51ch', 'gett', 'output', 'louder', 'rearfacing', '32mp', 'megapixels', '2048x1536', '01', '400x240', '320x240', 'editing', 'fish', 'nature', 'scheme', 'sharpen', 'blur', 'art', 'absolute', 'blast', 'stink', 'sickeningly', 'depressing', 'garbled', 'grainy', 'shocking', 'calculation', 'european', 'decimal', 'comma', 'handsdown', 'dictionary', 'education', 'definition', 'elaborate', 'stopwatch', 'task', 'widget', 'blah', '240x400', 'j2me', 'umnetcom', 'umnetnet', 'applookin', 'thingies', 'appear', 'vertically', 'scrolling', 'horizontally', 'symbol', 'moved', 'downward', 'pause', 'frequency', 'nonresponsive', 'locally', 'understanddo', 'allps', 'speak', 'german', 'handsfingers', 'bear', 'dumbphone', 'backspace', 'swype', 'standup', 'comedian', 'sufficiently', 'trully', 'weigh', 'elegant', 'btooth', 'shooting', 'manufacturing', 'legit', 'freeform', 'fortexting', 'pcswould', 'backthe', 'diffeent', 'owuld', 'jumped', 'bandwagon', 'freefom', 'cookie', 'doest', 'discribed', 'hated', 'downhill', 'desperate', 'frustrated', 'onlinewas', 'drove', 'storeonly', 'alland', '2020', 'rip', 'zero', 'goodness', 'input', 'bbc', 'rebooted', 'jpg', 'vcards', 'headlight', 'bicycle', 'cfna', 'lazy', 'voip', 'workaround', 'forwarding', '71', 'specify', 'destination', 'dementia', 'vzw', 'usingwindows', 'protect', 'particle', 'delivering', 'orginal', 'actived', 'automated', 'meeting', 'marginally', 'depress', 'holstering', 'behaved', 'erratically', 'exhaust', 'hitting', 'tothe', 'range', 'samd', 'bakkery', 'boulder', 'liking', 'operated', 'swiftand', 'extreme', 'heat', 'cold', 'expection', 'appearence', 'occur', 'motherinlaw', 'chintziest', 'deliver', 'deaf', 'audible', 'machinery', 'ruggedlybuilt', 'papaw', 'indoors', 'remind', 'metropcs', 'crystalclear', 'boston', 'urban', 'rattling', 'crumbling', 'nov', 'wsome', 'wthe', 'grear', 'u640', 'interior', 'durrable', 'carelessness', 'ding', 'boyfriend', 'goodthere', 'recipient', '72018', 'confuses', 'slip', 'pump', 'straw', 'clumsiness', 'hunky', 'dory', 'phonebecause', 'meand', 'dollarby', 'phonesthen', 'phonesi', 'amazingits', 'cared', 'satisfaction', 'swimming', 'advertized', 'hesitate', 'wiil', 'awsom', 'verisonjust', 'deliever', 'insanely', 'sticky', 'indestrucitble', 'lcd', 'panel', 'activity', 'emailsphone', 'submitted', 'query', 'approved', 'planphone', 'serve', 'okbut', 'deadline', 'ashamed', 'charity', 'alittle', 'fastit', 'tuesday', 'cedit', 'gate', 'wadd', 'busted', 'poop', 'onl', 'edited', 'oldfashioned', 'reactivated', 'tradein', 'proven', 'twenty', 'draft', 'finish', 'compose', 'schu660', 'exclude', 'excluded', '21st', 'blessing', 'verdict', 'biometric', 'invade', 'conspire', 'techmanufacturers', 'precise', 'human', 'domesticated', 'animal', 'pretense', 'edition', 'public', 'lord', '40employees', 'strictly', '247', 'refurbed', 'caked', 'touching', 'texted', 'robbery', 'tempted', 'gross', 'knock', 'wood', 'cognitive', 'decline', 'accompanies', 'lightning', 'detailed', 'carpenter', 'tolerance', 'temper', 'laundry', 'furnace', 'loses', '89', 'screwy', 'navagition', 'harge', '7days', 'crippled', 'phonemay', 'visual', 'toughest', 'fedup', 'insipid', 'invasive', 'computercell', 'smarta', '60000', 'buster', 'johan', 'awful', 'inbox', 'spectrum', 'abused', 'heavierthanusual', '660', 'coating', 'heft', 'lifespan', '5th', 'functionalall', 'indestructable', 'proofmoisture', 'judgement', 'fiance', 'conract', 'versionvery', 'ann', 'runions', 'med', 'calender', 'activatedthis', 'cc', '87', 'sorrry', 'trhat', 'missingdidn', 'alltell', 'moron', 'inferior', 'transmission', 'goodbye', 'conneted', 'awayand', 'gould', 'filthy', 'failing', 'manly', 'aide', 'chrysler', 'uconnect', 'rec', 'radion', 'incall', 'miraecomm_wireless', 'independence', 'weekend', 'training', 'suprising', 'oklahoma', 'subsidize', 'hidef', 'suprisingly', 'replenish', 'sturdier', 'shallow', 'parking', 'raining', 'carefuly', 'drying', 'moistier', 'damged', 'protecter', 'silicon', 'probaly', 'mem', 'closet', 'puppy', 'bike', 'crackedwhen', 'lettering', 'remarkable', 'rub', 'fade', 'keyboardtouch', 'laugh', 'explaining', 'phoneran', 'forklift', 'inventory', '2years', 'totallove', 'fb', 'tweet', 'kan', 'spair', 'bcos', 'kant', 'andriod', 'sadley', 'warrior', 'goal', '2gb', 'ohone', 'farshipped', 'batteryits', 'chargedand', 'heatingother', 'slacker', 'solvedis', 'problemi', 'phonefor', 'memmory', 'wen', 'mfor', 'emailgmail', '9900', 'phonealerts', 'dot', 'disapere', 'serviceyou', 'excepts', 'itz', 'wuz', 'dis', 'fone', 'sansung', 'phoneeverything', 'thereand', 'usethe', 'batterytakes', 'onlybattery', 'onlyi', 'dpace', 'stylr', 'unexspectedly', 'sigh', 'continually', 'outtime', 'spreadsheet', 'train', 'dolphin', 'spouse', 'epic', 'totemo', 'conquest', 'reacting', 'watcher', 'syncing', 'manager', '510', 'uninstall', 'introduction', 'recycled', 'certified', 'exblackberry', 'keyboardsmart', 'phoneandroid', 'interference', 'casino', '50mb', 'leg', 'prevail', 'rarely', 'petite', 'girlfriend', 'shutter', 'fed', 'upfull', 'footage', 'phoner', 'shiiping', 'eaiser', 'swallow', 'sewer', 'lista', 'ailey', 'omg', 'lovewwith', 'constantlyim', 'pleaed', 'keypadperfect', 'movievideotv', 'downloader', 'kepad', 'mispelled', 'tremendous', 'fulfillment', 'comply', 'caught', 'deceptive', 'hence', 'retina', 'bloody', 'pane', 'availability', '360', 'fraction', 'autofix', 'anywy', 'mangowireless', 'feed', 'haha', 'gui', 'universal', 'buttonscreen', 'vol', 'offsetting', 'upsetting', 'pe', 'xbl', 'avatar', 'tango', 'apollo', 'stroke', 'exellent', 'involves', 'testing', 'kinldles', 'slice', '100000', 'prefect', 'videocalls', 'according', 'viber', 'phne', 'reconize', 'enclosure', 'updown', 'morei', 'wonderfulwindows', 'knocked', 'phonemy', 'welland', 'interaction', 'wonderfula', 'pleasant', 'klutzy', 'killer', 'monopoly', 'collection', 'suppourt', 'phonesthough', 'frreze', 'density', 'upthough', 'solves', 'muchly', 'focus37', 'pricejust', 'faced', 'recent', 'updatethere', 'rapidlyin', 'tailored', 'freezing', 'haave', 'freejust', 'goto', 'unlocker', 'confortable', 'pd', 'movilnet', 'widow', 'insert', 'duration', 'bahamas', 'loophole', 'mmsc', 'field', 'apn', 'follows', 'category', 'underscore', 'http', 'apnwapvoicestreamcom', 'auth', 'proxy', 'address21615516550', 'port8080', 'checkmark', 'toolbar', 'prompted', 'xs2k', 'wpcentral', 'regretting', 'skeptic', 'feb', 'myaccounthotmailcom', 'orderinstantusa', 'stater', 'i677', 'iphone4', 'amout', 'waisting', 'earned', 'hype', 'furthermore', 'brazil', 'workmate', 'dearly', 'sharing', 'visit', 'crisp', 'imap', 'nokai', 'e63', 'multicalendar', 'various', 'nevertheless', 'dual', 'vpn', '40sec', '1mb', 'genre', 'wma', 'rage', 'reconnect', 'joy', 'opaque', 'grandmother', 'amagazing', 'tks', 'orderwish', 'startup', 'searchcommand', 'articulate', 'speechi', 'speedswifi', 'unlockedwhich', 'misleading', 'wphone', 'mailing', 'estoy', 'realmente', 'maravillado', 'telefono', 'verdad', 'bloqueado', 'pero', 'al', 'momento', 'realizar', 'apertura', 'fue', 'sencillo', 'funciona', 'bien', 'todos', 'operadores', 'expanding', 'anytime', 'networkmarket', 'workthis', 'usait', 'nsed', 'inclined', 'unchangeable', 'attach', 'cheesy', 'sghi917', 'vivid', 'bulky', 'aforementioned', 'pm', 'vast', 'optimized', 'os', 'principle', 'enabling', 'accessing', 'url', 'ip', 'leaf', 'sorted', 'hinterland', 'unfortunate', 'forbidden', 'explicitly', 'phoneswhich', 'phon3', 'th3', 'piss', 'ofr', 'sendingreceiving', 'linksi', 'tmobileand', 'backbut', 'googling', 'mediaand', 'geared', 'phoneunder', '92614', 'httpsupporttmobilecomthread38111', 'dadi', 'movile', '7x', 'coughing', 'smoother', 'tendency', '175', 'whoao', 'internettt', 'idk', 'fanatic', 'su', 'teléfono', 'del', 'mal', 'cumpleaños', 'hice', 'sorprende', 'compacto', 'rápido', 'experiencia', 'optimiza', 'cámara', '37', 'espectacular', 'trabajo', 'hizo', 'como', 'todo', 'posee', 'característica', 'ponerle', 'tarjeta', 'así', 'morir', 'captura', 'logrados', 'botón', 'físico', 'colocado', 'útil', 'lastima', 'existe', 'plástico', 'acabado', 'impecable', 'terminal', 'recomendado', 'theme', 'itsold', 'dealt', 'threequarters', 'belief', 'frontfacing', 'erase', 'exchanging', 'excellents', 'millionth', 'timebami', 'jamaica', 'goscreen', 'outsometime', 'tthe', 'sooooo', 'droped', '10000000', 'eerything', 'gamma', 'muchas', 'expectativas', 'objetivo', 'caro', 'funcionara', 'aspecto', 'pudiese', 'compararse', 'gama', 'alta', 'buenas', 'características', 'creo', 'cumplió', 'esas', 'único', 'calidad', 'llamadas', 'algunas', 'aplicaciones', 'tienen', 'muchos', 'problemas', 'para', 'quiera', 'comprar', 'inversión', 'sido', 'mucha', 'utilidad', 'colorful', 'avg', 'surgetelecom', 'goodgreat', 'subpar', 'predict', 'efecto', 'está', 'sistema', 'operativo', 'impresionante', 'corre', 'sofisticado', 'vez', 'quienes', 'usan', 'redes', 'sociales', 'gustan', 'mantenerse', 'actualizados', 'noticias', 'acontecimientos', 'sus', 'contactos', 'enables', 'inevitable', 'lostbrokestolen', 'expires', '74', 'driving', 'geesh', 'unreliable', 'prevented', 'ipads', 'cheapie', 'continued', 'exceedingly', 'dull', '4stars', 'cheapest', '10centsmin', 'confusing', 'neophyte', 'maneuvering', 'distracted', 'a157', 'mus', 'fuss', 'reward', 'clearest', 'screeching', 'managable', '888', 'taxi', 'extend', 'benefit', 'surprisesno', 'deposit', 'needsincluding', 'perminute', 'rollover', 'frankly', 'competent', 'typical', 'demographic', '30something', 'middleclass', 'lead', 'disciplinary', 'itsometimes', 'optimal', 'talktext', 'sizeit', 'men', 'twotoned', 'blackgray', 'photographer', 'visionfriendly', 'largerthannormal', 'bei', 'ribbed', 'jitterbug', 'laidout', 'viola', 'baggie', 'sweated', 'ticket', 'jae', 'nononsense', 'driver', 'standby', 'aaep305sbe', 'mono', 'monetary', '300mb', '1800', 'membership', 'instuctions', 'fashioned', 'upsell', 'economic', 'convenience', 'addict', 'neededbattery', 'anyhow', 'packet', 'coin', 'desire', 'drift', 'disadvantaged', 'speaking', 'uk', 'tarriffs', 'communicating', 'coupled', 'community', 'había', 'olvidado', 'cómodo', 'eran', 'estos', 'teléfonos', 'tan', 'pequeños', 'cumple', 'funciones', 'principales', 'además', 'precio', 'insuperable', 'outing', 'phon', 'pan', 'emgergencys', 'distract', 'fastest', 'doneand', 'darn', 'linei', '911', 'repower', 'clothes', 'remaining', 'charcoal', 'concealed', 'customizing', 'contracteven', 'walmart', 'packagewell', 'datlol', 'lovesfast', 'fullycharged', 'hoop', 'jump', 'diagnose', 'agreed', 'legitimate', 'hourlong', 'rehashing', 'rma', 'grand', 'volumi', 'readand', 'axidently', 'witch', 'aluss', 'sadisfiide', 'neededi', 'scanned', 'payasyou', 'crowded', 'eb', 'inlaw', 'lowering', 'thx', 'cheper', 'othersand', 'phoneand', 'hah', 'receptiondropped', 'texturecomes', 'cameraand', 'inserting', 'shortterm', 'anotherdifferent', 'planet', 'enoughjust', 'soundsreally', 'leftnice', 'phonessmartphones', 'expectationsin', 'iphonethis', 'settry', 'outotherwise', 'abruptly', 'bedside', 'greeting', 'a107', 'html', 'passable', 'wap', 'appcenter', 'java', 'object', 'quiet', 'examination', 'workno', 'obtained', 'activatedever', 'pathetic', 'alaska', 'standing', 'betterdo', 'abroad', 'mickey', 'mouse', 'yuck', 'vacation', 'reactivate', 'encounter', 'sleezy', 'cash', 'flick', 'expire', '2day', 'expiring', 'utilization', 'behavior', 'agreement', 'receivieing', 'stright', 'willnot', 'whiz', 'handgrasp', 'lay', 'movement', 'inteferrs', 'june', 'monthselse', 'hidden', 'exorbitant', 'dime', 'perspective', 'evolve', 'multi', 'myriad', 'clumsily', 'backwards', 'matching', 'inner', 'lining', 'haste', 'frustration', 'wise', 'drama', 'fulltime', 'elected', 'bite', '10cents', 'renew', 'financials', 'summing', 'seldom', 'seldon', 'landline', 'smarphones', 'doent', 'screw', 'immediate', 'supervisor', 'sheriff', 'stalled', 'warns', 'trivial', 'incrue', 'happenes', 'inadvertentlythis', 'welltoo', 'longit', 'experiencing', 'shelf', 'nocontract', '253', 'york', 'inlaws', 'imported', 'incorrectly', 'mature', 'self', 'nofrills', '5500', 'phonemore', 'jane', 'cat', 'enhanced', 'nationwide', 'uncle', 'sparingly', 'expiration', 'tax', 'airvoices', 'airvoice', 'h2o', 'foreh', 'corrupted', 'validity', 'attend', '1215', 'wantedneeded', 'jg', 'usei', 'cabin', 'safetyemergency', 'teach', 'dinosouar', 'greatcant', 'priceand', 'ipadsurface', 'makingreceiving', 'notify', 'microcell', 'extenderthe', 'techie', 'whistlesi', 'hi', 'mechanical', 'knowledgeable', 'defer', 'straightforward', 'attached', 'biggie', 'looooonnngggg', 'umts', 'alll', 'recived', 'barry', 'goodkin', 'mary', 'evans', 'inexpensively', 'fife', 'aps', 'productive', 'investment', 'sustain', 'midcall', 'evidently', 'toast', 'loop', 'decade', 'sony', 'pantec', 'amazin', 'resembling', 'creaky', 'plasticky', 'dimly', 'momso', 'didnot', 'screentext', 'saavy', 'thoughthoped', 'refers', 'minimalist', 'uh', 'entirety', 'downright', 'despicable', 'babysit', 'nurse', 'tidy', 'sum', 'huh', 'thatll', 'fortunately', 'trashed', 'fluke', 'worker', 'boycott', 'rant', 'dexterity', 'takingits', 'confusingits', 'implementation', 'recheck', 'surprisedafter', 'drat', 'stretched', 'disppointed', 'postal', 'bestbuy', 'helping', 'illegally', 'bureau', 'deceive', 'regardless', 'misled', '9000', 'stocked', 'dept', 'meetsexceeds', 'needsi', 'jobi', 'spilled', 'rolling', 'downfall', 'brute', 'wornother', 'interneti', 'specially', 'splash', 'nextel', 'incompatibility', 'googled', 'identified', '900', 'vm', 'harder', 'reviewing', 'youtubing', 'demonstration', 'oxidation', 'canis', 'dock', 'craze', 'shy', '69', 'dissatisfier', 'incompetence', 'stupidity', 'disabling', 'terrified', '3g4g', 'blame', 'freak', 'plot', 'heaven', 'forbid', '099', 'weather', 'sonos', 'relevant', 'quirk', 'xbo', 'smartglass', 'watching', 'bed', '030', 'tmobilesimple', 'mightly', 'slump', 'fluid', 'breath', 'addictive', 'itos', '800', 'n9', 'differencesscreen', 'shade', '8x', 'raised', 'referring', 'peed', '3rds', 'refresh', 'fave', 'restarted', '650', 'pinterest', 'nogo', '635', 'lesser', 'reviewed', 'resentment', 'pandora', 'spotify', 'fulfilled', 'incident', 'doable', 'recharges', 'feared', 'subaru', 'panasonic', 'advertises', 'unpleasant', 'demarcation', 'overlooked', 'distorted', 'valid', 'unlocks', 'lumias', 'assure', 'tot', 'slower', 'instal', '11242014', 'slightest', 'disconnect', 'unsure', 'lumiabetter', 'androidi', 'heel', 'upit', '1get', 'verifiedi', 'veirfy', 'itthats', 'microsoftafter', 'isolated', 'casewhen', 'gmailyahoo', 'verificationthe', 'verification', '2set', 'picturesi', 'mobilethere', 'messagessupposedly', 'mobiletmobile', 'upi', 'rescueafter', 'errorbefore', 'phonesalso', 'cellularapnsimple', '3havent', 'honda', 'crv', 'yethonestly', 'fight', 'awesomefits', 'pocketshavent', 'issus', '247i', 'dayhaving', 'collaboration', 'peep', 'breezei', 'bayshine', 'stealgo', 'phonewindows', 'traditional', 'subscriber', 'spaced', 'typo', 'spellcheck', 'autocorrects', 'convinced', 'diadvantages', 'colour', 'singlecore', '14ghz', 'gradable', 'effectively', 'wirelessly', 'hammer', 'pound', 'doc', 'photoediting', 'bigand', 'eg', 'storagethis', 'comfortably', 'useability', 'v75', 'monkey', 'overcharging', 'overheating', 'fabulous', 'imbalance', 'bone', 'borne', 'shopping', 'freshly', 'brewed', 'coffeepot', 'length', 'unlocking', 'arse', 'permanently', 'commercial', 'sooo', 'unresponsive', 'convince', 'uve', 'outgrow', 'bistrop', 'usd', 'batterly', 'unnatural', 'personalization', 'carmera', 'phonethank', 'lam', 'guees', 'nokiaamazon', 'vendortablet', 'dare', 'presentation', 'suddenly', 'irritate', 'tellme', 'minimized', 'dispite', 'raputation', 'critical', 'troubleshooting', 'camerait', 'raved', 'thorough', 'placing', '8mp', 'bloat', 'gouged', 'debating', 'dense', '47', 'maximize', 'screentoo', 'damagedcharger', 'aesthetically', 'famous', 'facility', 'phonehardware', 'usagethis', '1although', 'competing', 'ossand', 'unexpected', 'explained', 'marketbut', 'ping', '12th', 'microsim', 'partner', 'fascinated', 'compliant', 'goin', 'stereo', 'capture', 'mute', 'stickered', 'trophy', 'rocksolid', 'batery', 'plane', 'heart', 'choosed', 'returnreplacement', 'ensere', 'dpone', 'sticking', 'cyan', 'howeveri', 'lte', 'masterdeals', 'runwalk', 'magic', 'heating', 'lacked', 'circumstance', '2262013', 'possession', '352013', 'printer', 'ink', 'compensate', 'usps', 'stinson', 'fooled', 'descrption', 'angola', 'west', 'feasible', '466', 'fluent', 'tuxedo', 'warniing', 'carefull', 'hasslefreecell', 'mike', 'launge', 'havegifted', 'approaching', 'fron', 'launges', 'presense', 'behalf', 'magnificent', 'undoubtedly', 'crapped', 'phonecalls', 'w8', 'lease', 'imo', 'earphonetoo', 'orderedwhen', 'originalinside', 'bookearing', 'carger', 'reccomended', 'happend', 'especific', 'refunding', 'processed', 'resume', 'againalso', 'bu', 'stimulating', 'tad', 'stunning', 'acceseries', 'associated', 'ejecting', 'afternoon', 'eh', 'horn', 'occurs', 'agraderia', 'respuestaa', 'countsright', 'hardest', 'hy', 'versioni', 'amazonbut', 'thinki', 'pakistan', 'itwhen', 'herei', 'global', 'nz', 'tolerate', 'prosnice', 'zeiss', 'lensesgood', 'rechargingconfusing', 'daniela', 'lumen', 'dissapointing', 'reallity', 'rotated', 'loudest', 'yelling', 'consequitively', 'optimistic', 'emptor', 'clearing', '81it', 'gifted', 'givfted', 'keynokia', 'decepcoinado', 'comprador', 'cosas', 'primera', 'algo', 'asi', 'pasa', 'continuaré', 'comprando', 'vendedor', 'recomendada', 'hacer', 'más', 'compras', 'internacionales', 'gracias', 'venta', 'saludos', 'rectangular', 'everythings', 'muffled', 'headphoneswhich', 'migraine', 'thati', 'discription', 'reminded', 'modelatt', 'qaulity', 'freezed', 'outweighs', 'waterdamaged', 'bluethoo', 'shown', '820', 'sy', 'improvise', 'arranged', 'clerk', 'excelent', 'bse', 'skinglass', 'housing', 'published', 'reporting', '163', 'ac', 'stranded', 'peice', 'mcuh', 'pefect', 'crapit', 'shopthis', 'bull', 'resistent', 'pity', '8081', 'tt', 'rebuilt', 'recibido', 'exelente', 'sincerely', 'offon', 'reuse', 'uncontrollably', 'reciept', 'realise', 'yahoo', 'presenting', 'impact', 'pressure', 'perform', 'functionally', 'inother', 'paranoid', 'buen', 'recopmendable', 'toda', 'aquellas', 'persona', 'desee', 'adquirido', 'hagalo', 'sin', 'nungun', 'miedo', 'reponsable', 'confiable', 'unsend', 'individually', 'downloadhelp', 'yesterdayand', 'slipped', 'november2012', 'firstly', '7months', 'cept', 'eevery', 'quantity', 'onand', 'occurrence', 'tomorrow', 'dissapoint', 'oni', 'weeksi', 'souvenir', 'orderinstant', 'liberated', 'belize', 'accepting', 'remedy', 'perfection', 'bough', 'unclear', 'falsely', 'yuys', 'import', 'perú', 'imposible', 'cushioned', 'envelope', 'couldve', 'representives', 'inquire', 'quote', 'fairsome', 'longing', 'sirius', 'xm', 'uped', 'nerd', 'satisfying', 'aesthetic', 'pleasing', 'multicore', 'saturated', 'glare', 'sunny', 'pared', '7gb', 'concerning', 'techy', 'chosen', 'instruct', 'pioneer', 'paragraph', 'tv', 'sugerencias', 'varios', 'usuarios', 'ademas', 'siempre', 'comprado', 'espero', 'modelo', 'anteriores', 'tenido', 'likeit', 'costume', 'tstt', 'trinidad', 'tobago', 'thxs', 'restoration', 'desepcionado', 'revewes', 'befor', 'celler', 'costomer', 'doller', 'waight', 'actualy', 'elsware', '10826085097165038', 'goodi', 'esxcelente', 'spectacular', 'definite', 'desing', 'speek', 'lauches', 'lapsed', 'knoll', 'gamer', 'deceiti', 'contracted', 'beand', 'slaved', 'strenght', '4sthe', 'workingi', 'definetely', 'itthe', 'withthe', 'haw', 'fromdifferent', 'camerabetter', 'thaks', 'awesomebut', 'venezuelai', 'disturbance', 'frustating', 'contradictory', 'heading', 'rubbish', 'actractivo', 'invalid', 'admits', 'oferta', 'dice', 'estaba', 'cierto', 'coloco', 'válido', 'igual', 'admite', 'hace', 'translation', 'context', 'granite', 'efficiently', 'hvac80', 'trader', 'settled', 'amicably', 'competitive', 'judge', 'articulated', '26', 'swirl', 'bumbs', 'orderd', 'whatsupp', 'kik', 'maden', 'whoo', 'sumtyms', 'arggggggggg', 'tine', 'swindlerhe', 'differents', 'spacwe', 'recognizing', 'ot', 'responding', 'buyng', 'distinguishing', 'arabic', 'exist', 'apreciate', 'nokia900', 'jist', 'lookl', 'exitend', 'skpe', 'afterall', 'repackaged', 'flying', 'itthey', 'ecelente', 'demand', 'dinamico', 'versatil', 'dimensiones', 'modernas', 'funcionales', 'gusta', 'mucho', 'shuffle', 'overweight', 'ultima', 'generacion', 'recomiendo', 'porciento', 'justo', 'disfruto', 'maximo', 'surpassed', 'detecting', 'indianot', 'workingcan', 'fne', 'needy', 'aparato', 'requerimiento', 'noches', 'everithing', 'synchronyze', 'willing', 'problemthe', '8mega', 'allit', 'dating', 'truely', 'pb', 'studying', 'standars', 'offerd', 'fiancé', 'reléase', 'somethings', 'contest', 'thanking', 'comunidad', 'joycells', 'carton', 'geniune', 'nunca', 'recibi', 'grest', 'movil', '19th', 'anniversry', 'admire', 'envy', 'whereby', 'screensaver', 'purcahseget', 'interestingly', '34', 'tampered', 'pissed', 'october', '16th', 'painting', 'session', 'imeibarcode', 'covering', 'fastbut', 'statedi', 'unlockedwhen', '11144331417083445', 'helpwould', 'gr8', 'nowit', 'utter', 'neeeeddddd', 'heeeellppppp', 'iconnokia', 'reference', 'disappionted', 'anf', 'th', 'ebox', 'mailed', 'tht', 'unlockednot', 'ending', '40and', 'disappear', 'tuning', 'onoffon', 'phoneless', 'sceen', 'pakd', 'wit', 'combaind', 'attended', 'otimo', 'telefone', 'apesar', 'nao', 'vir', 'acessorios', 'estava', 'anuncio', 'demais', 'bom', 'dá', 'gasto', 'herein', 'emanate', 'representation', 'origin', 'hmmm', 'operable', 'unfair', '29', 'jan', 'carfax', 'reservation', 'attcom', 'genuinely', 'listened', 'speker', 'dificult', 'presume', 'attnokia', 'strtaight', 'talki', 'hv', 'plead', 'battered', 'deformed', 'humidity', 'horan', 'wine', 'xmas', 'dallas', 'recreate', 'bold', '180', 'craigslist', 'ruterned', 'folded', 'stil', 'awfull', 'originaly', 'fiend', 'bestbuycom', 'ebaycom', 'helpless', 'sugest', 'sufferation', 'nerve', 'racking', 'buisness', 'rebounding', 'incomplete', 'deceiving', 'tousand', 'mechanic', 'fry', 'lunch', 'greasy', 'everythingbut', 'playerthe', 'q10', 'wild', '925', '928', 'processing', 'equal', 'improve', 'critic', 'meantime', 'mildly', 'coolest', 'devote', 'slighted', 'chuckle', 'discussed', 'freedom', 'tethered', 'debate', 'themno', 'chicago', 'crawling', 'banking', 'nonsmartphone', 'graduate', 'soooo', 'engineer', 'guru', 'quad', 'codedwritten', 'elegantly', 'macro', 'daytime', 'shrink', 'temperature', 'blackened', 'pixely', 'textpic', '900s', 'espooteam', 'patient', '800s', 'spyware', 'instant', 'etisalatroshan', 'awcc', 'storethis', 'stateside', 'rapid', 'incredulous', 'malesized', 'subtle', 'noslip', 'onoff', 'touchtactile', 'carl', '209', 'trusted', 'iphonepros', 'celphone', 'synchroniced', 'phoning', 'secret', 'pricy', 'ull', 'confirmed', 'college', 'facebookphone', 'deciding', 'favorable', 'venture', 'arena', 'charming', 'gimped', 'sadly', 'virgin', 'watered', 'leaning', 'liberal', 'corporation', 'invented', 'largest', 'combined', 'untouchable', 'inherent', 'hater', 'notion', 'station', 'echecks', 'promise', '5000', 'mapquest', 'grateful', 'everthing', 'elseit', 'wmv', 'wiseoh', 'freezer', 'scorpion', 'cpu', 'amman', 'jordan', 'east', 'samsang', 'tern', 'wechat', 'noon', 'sideways', 'diner', 'tonesor', 'yetand', 'updateadd', 'comp', 'musiccant', 'speeker', 'clue', 'micros', 'contemplating', 'upwards', '450', 'buckaroo', 'gold', 'appsi', 'dispute', 'array', 'financial', 'appscitibank', 'capitalone', 'etcmissing', 'smoothway', 'seduced', 'beeni', '2000s', 'giant', '42713', 'caving', 'onprobably', 'drivesimilar', 'icloud', '7gigs', 'mainstream', 'storeandroid', 'marketplaceif', 'expansion', 'windows8', 'backgroundno', 'significant', '1214', 'simcard', 'ballpen', 'leaked', 'spared', 'logged', 'phoneservice', 'dumbfounding', 'oughta', 'intelligent', 'persistently', 'definitive', 'fly', 'ointment', 'host', 'domain', 'wordpress', 'godaddy', 'phasing', 'monopolized', 'path', 'nb', 'revised', 'reflection', 'bailed', 'gmail', 'bailing', 'evil', 'chump', 'banging', 'photocopied', 'dealinabox', 'persists', 'lying', 'describednokia', 'rm808', '1arrived', 'packagegood', 'practice', 'sosos', 'pushyou', 'till', 'malicious', 'vile', 'gracefully', 'doubting', 'throughout', 'tmobiles', 'ppack', '3days', 'notits', 'cripple', 'bringing', 'supply', 'measured', 'acquire', 'disliked', 'identify', 'amazoncomfeedback', 'promotional', 'compensation', 'n900', 'e7', 'slotso', '55gb', '842015', 'ditch', 'skypewindows', 'therere', 'anw', 'polupar', 'dropbox', 'existed', 'fulfilling', 'tmobil', 'agoalright', 'belle', 'greati', 'dayif', 'onu', 'survivewith', 'getthe', 'worklooks', '01centsa', 'wi', 'doesnot', 'sureoverall', 'phoneits', 'perfectos', 'wp78if', 'alongreview', 'abuja', 'nigeria', 'adriod', 'bb', 'importantofficial', 'n95', '8g', 'odd', 'pirchased', 'bulgaria', '8mpx', 'flickering', 'celularthe', '920because', 'deficiente', 'foward', 'changer', 'kiinda', 'scared', 'mirco', 'stipulated', 'mérida', 'reddish', 'hue', 'prefers', 'erickson', 'arc', 'recommends', 'expetations', 'allwhom', 'agian', 'ovi', 'rapida', 'efectiva', 'condiciones', 'agradecido', 'servicio', 'inexperienced', 'withgreat', 'costthanks', 'nagging', '43', 'clearblack', 'activematrix', 'organic', 'lightemitting', 'diode', 'enhances', 'reducing', 'cbd', 'polarized', 'layer', 'enrich', 'pointless', 'phoneeasy', 'note1st', 'issuewouldnt', 'surely', 'boxit', 'necessity', 'phonesgreat', 'fastand', 'obligated', 'ontime', 'acquired', 'venezuelan', 'excelete', 'rpoducto', 'ect', 'somwhere', 'methe', 'goodtooit', 'unlockthank', 'suddently', 'demasiado', 'estar', 'conectado', 'revisar', 'correo', 'transcripciones', 'archivos', 'herramienta', 'showroom', 'varify', 'servic', 'fuzzy', 'responsibility', 'appealing', 'birn', 'cotme', 'ripe', 'ooff', 'itsd', 'sought', 'timeso', 'advertise', 'thanksin', 'detected', 'colleague', 'certificate', '220', 'diffcult', 'executive', 'christopher', 'chargeit', 'experiencei', 'native', 'domake', 'sendreceive', 'goog', 'pocas', 'palabras', 'backreturn', 'touched', 'turnbyturn', '718', 'pace', 'dailycelluar', 'intentionally', 'elapsed', 'aaa', 'pride', 'swindling', 'repido', 'perfecto', 'shuttle', 'porq', 'l900', 'margin', 'inmediately', 'attention', 'mobiletronix', 'cob', 'unwanted', 'contrary', 'awasome', '3months', 'recommendt', 'everybody', 'inlove', 'simcart', 'phonegreat', 'hermoso', 'conectibidad', 'phonewall', 'stylus', 'mejorar', 'glued', 'whte', 'perfectamente', 'bonito', '85019002100', 'accesorios', 'sractes', 'delet', 'basicaly', 'skull', 'faulse', 'descriptionits', 'unlockedshame', 'youthats', 'cheating', '100ok', 'grandchild', 'copying', 'sandiscs', 'belongs', 'publication', 'distasteful', 'unlocke', 'ext', 'psh', 'problematic', 'exdroid', 'embalado', 'poco', 'largo', 'debido', 'tramites', 'tagged', 'eventeually', 'seriouly', 'cd', 'fabric', 'apliccations', 'bothred', 'stain', 'american', 'td', 'oppose', 'tronix', 'personalised', 'repairit', 'wt', 'phonealthought', 'henceforth', 'somersoft', 'calida', 'batteriesbut', 'nokiathis', '312013', '3272013', 'hm', 'discarded', 'burnt', 'teasing', 'rectified', 'soonest', 'foolished', 'wirelss', 'phoines', 'accommodating', 'treated', 'courteously', 'confront', 'demon', 'edeals2013', 'honorable', 'rick', 'normand', 'btw', 'tofrom', 'vcard', 'gusto2', 'gusto', 'minimizes', 'manageable', '63', 'oneweek', 'connecticut', 'coast', 'arrangement', 'walmartcom', 'former', 'astounded', 'paperback', 'perusal', 'firsttime', 'answering', 'merging', 'i95', 'providence', 'resouces', 'absorbed', 'equivalent', 'alzheimers', 'challenged', 'whistlesbattery', 'exceptional', 'grandma', 'substitute', 'chunk', 'flashed', 'banned', 'stealing', 'bewarethis', 'knowgood', 'usepre', 'phonenot', 'verizonthey', 'textsthis', 'typed', 'realizing', 'againyou', 'pagepluscellularcom', 'spoke', 'doo', 'immensely', 'nyc', 'eol', 'forcequitting', 'terminating', 'trained', 'mc', 'questionable', 'questioning', '55s', 'phenomenal', 'uggghhh', 'cruising', 'altitude', 'chargerthe', 'techno', 'jazz', 'whose', 'messagewhat', 'continuum', 'ticker', 'preview', 'verdon', 'continuous', 'dac', 'enterprise', 'miserably', 'honoring', '5c', 'canoe', 's5', 'neg', 'channel', 'gallaxy', 's3', 'discernible', 'outer', 're', 'selfies', '2half', 'advancement', 'survives', 'ample', 'habit', 'actively', 'ridiculously', 'satisified', 'unbelievably', 'kevlar', 'vanity', 'root', 'retract', 'faded', 'unscratched', 'excuse', 'phonr', 'thr', 'maxx', 'rebuy', 'decently', 'traded', 'transistor', 'cardsthe', 'returnedvery', 'revamp', 'greatwas', 'copatablephone', 'comunity', 'withand', 'uscould', 'veriyon', 'voucher', 'alarmclock', 'deserves', 'beetween', 'barepawz', '40mi', 'jackhole', 'unfamiliar', '610', 'flasjed', 'twitch', 'swapping', 'tolerates', 'incessant', 'gaming', 'referred', 'hill', 'pope', 'missuse', 'somthing', 'fbi', 'hundey', 'buyarrived', 'preowned', 'verion', 'carrierworthless', 'returni', 'refufundl', 's4', 'wirelessjust', 'expeditiously', 'overheats', 'anger', 'tinted', 'intensive', 'smash', 'plagued', 'buggy', '95', 'burning', '41', 'absurd', 'lowest', 'callstexts', '1012', 'household', 'complainets', 'gallery', 'betterbut', 'fixing', 'stalling', 'reissue', 'batt', 'pur', 'praising', 'relying', 'season', 'bind', 'unintentionally', 'horribly', 'consultant', 'gooooood', 'condicion', 'etcbut', 'tapped', 'picking', 'productthe', 'evening', 'offin', 'approximately', 'dresser', 'heated', 'infront', 'uploading', '6895', 'lasy', 'disc', 'crashed', 'motherboard', 'dissappointed', 'wud', 'dwn', 'luv', '3am', 'sunday', '9am', 'outlast', 'okit', 'passion', 'facehand', 'lived', 'loading', 'salad', 'squiggly', 'recycle', 'destroying', 'aux', 'whatspent', '6over', 'hrsin', 'storethe', 'musicemailand', 'alreadynice', 'serviceim', 'starand', 'sht', 'wasting', 'unsuccessfully', 'sloppy', 'harshest', 'apartment', 'stair', 'tub', 'cracking', 'submersion', 'raping', 'hll', 'moreive', 'deepest', 'darkest', 'jungle', 'suffers', 'penchant', 'overemphasize', 'shrill', 'tinny', 'listenable', 'equalization', 'springing', 'highlight', 'hdmi', 'justify', 'nasty', 'cook', 'artiste', 'joe', 'hitch', 'squashed', 'docking', 'assortment', 'insist', 'rooting', 'uncalled', 'avaricious', 'shiniest', 'fart', '256k', '14inch', 'floppy', 'displayed', '125000', 'solidstate', 'razorsharp', 'earbuds', 'facerecognition', 'juicy', 'topofthe', 'wamazon', 'stickies', 'wpower', '412', 'jellybean', '98163', '981q781', 'kernel', 'baseband', '78p', 'rootable', 'bootloaderunlockable', 'readytouse', 'rootaholic', 'hashtag', 'harsh', 'insight', 'avenue', 'steam', 'nonstop', 'welcome', 'commodore', '64', 'solidly', 'recd', '8gblook', 'costsadly', 'dispensed', 'pleasantry', 'science', 'fiction', 'albert', 'einsteinisaac', 'asimovgene', 'roddenberryand', 'rod', 'serling', 'collectively', 'saywtf', 'wayto', 'andyes', 'cartoon', 'cgi', 'storiesin', 'freakin', 'rightoveremphasis', 'overyou', 'estimate', 'muchif', 'promisewe', 'thissowe', 'conditionas', 'tearno', 'majorsome', 'ambiguous', 'astonishment10', 'packagethe', 'dimmed', 'glow', 'bolt', 'scrolled', 'sexy', 'drooooidi', 'cigarettethe', 'scratchit', 'reaction', 'itwe', 'signed', 'rok', 'exclusive', 'maw', 'paw', 'smithers', 'yard', 'sir', 'mountain', 'chased', 'institutionsgps', 'tracking', 'interactive', 'radar', 'siteswe', 'leisure', 'fantasy', 'handlebut', 'sayoh', 'rambled', 'priceconditioncompatibilityand', 'evaluation', 'conditionand', '110', 'approval', 'ratingor', 'wallet', 'runner', 'scale', 'fleeting', 'impatient', 'chheeeeeeeeese', 'bridging', 'equipped', '44', 'kitkat', '42', 'engage', 'hijinks', 'phoneshould', 'beforehandmy', 'unknown', 'younger', 'warrenty', 'precharged', 'purposesso', 'old412', '5star', 'crackberry', 'longest', '001', 'resist', 'possessed', 'workingbetter', 'onethanks', 'mubsd', 'mive', 'grayed', 'beast', '12v', 'dc', 'sketchy', 'portwhich', 'mfg', '12300', 'disparate', 'servia', 'rooted', 'excellet', 'produc', 'priceperformance', 'nifty', 'drawer', 'everythingyou', 'itd', 'powerhouse', 'tray', 'happiest', 'mystery', 'bouight', 'safelink', '306g', 'slew', 'padded', 'tracfonecom', 'tutorial', 'invest', 'ice', 'fishing', 'readunderstand', 'echoy', 'tracfones', '2mph', 'holiday', 'quits', 'sii', 'intent', 'comprehension', 'agent', 'tracphone', 'explanatory', 'eventhough', 'sstores', 'pushingbuttons', 'wfm', 'shabby', 'moneyi', 'qould', '5stars', 'evet', 'internetothetwise', 'homepage', 'styliss', 'keyboardgot', 'ignore', 'outperforms', 'longevity', 'trap', 'receipiant', 'crushed', 'tha', 'usally', 'excellnt', 'pnoe', 'evething', 'notepad', '799', 'discrepancythree', 'jacket', 'fishy', 'verified', 'safety', 'compatable', 'interchangeable', 'iii', 'curvejust', 'lossearpiece', 'finenot', 'dynamic', 'blackberrybut', '2mg', 'obstructed', 'hardwood', 'demanding', '380c', 'dayawesomei', 'outrageous', 'tracphones', '3x', 'bellswhistles', 'disclosure', 'discounted', 'inconvenience', 'deployment', 'layover', 'reconnected', 'cheerful', '1year400minute', '400minute', 'theyve', 'deducts', 'bt', '299', 'cameravideo', 'burner', 'flourish', 'ienjoy', 'phonewould', 'deserving', '32gig', 'silently', 'buyphone', 'grandson', 'stoked', 'caliber', 'wast', 'scan', 'disk', 'espanol', 'bilinquel', 'soap', 'relaying', 'flashing', 'encrypted', 'manor', 'straying', 'onedrive', 'swipe', 'wth', 'customizability', '7547th', 'adore', 'noticeably', 'dear', 'crashing', 'bulk', 'phonescreen', 'kitten', 'claw', 'searchbin', 'binggoogle', 'goldfinger', 'mclaren', 'picky', 'zte', 'repkacing', 'kiddin', 'georgeous', 'music6', '65', 'goodeven', 'amber', 'devoted', 'gigantic', 'gpsdrive', 'vastly', 'boom', 'costlier', 's1', 'porker', 'lowlight', 'paucity', 'trung', 'raving', 'releasing', '2the', 'joggle', 'overheated', 'breakdown', 'slooowwwwly', 'gained', 'thankfully', '1520', 'staring', 'productivity', 'nevermost', 'extension', 'beautifulonly', 'firstbut', 'perfact', 'attentive', 'availablejust', 'swifters', 'cluttered', 'slipper', 'acknowledged', 'eliminates', 'prosthe', 'faint', 'phonesthey', 'progress', 'replac', 'noticeablegreat', 'blub', 'untruthful', 'wasis', 'mobility', 'recalculating', 'mold', 'resellers', 'charlie', 'comprises', 'disagreeable', 'portable', 'simless', 'antitheft', 'database', 'marginal', 'odds', '950', 'virus', 'ecosystem', 'lifechanger', 'concession', 'consumptionbetter', 'conservation', 'fangirl', 'endorse', 'enthusiasm', 'dampened', 'soiled', 'taped', 'torn', 'cardboard', 'adhesive', 'extract', 'flagship', 'spacious', 'portion', 'calanders', 'mapping', 'learnand', 'smearing', 'prettier', 'uncommon', 'timing', 'rt', 'mejust', 'compass', 'disappoints', 'shorter', 'album', 'named', 'messagemailalert', 'recorded', 'addcopyremove', 'symbianbased', 'melodrama', 'grumbling', 'snarling', 'e71x', 'gasping', 'offset', 'migrating', 'notatallnever', 'ah', 'underwhelmed', 'chassis', 'believed', 'originates', 'upzoom', 'portrait', 'orientation', 'silence', 'optic', 'panorama', 'slr', 'navigational', 'mobi', 'exercise', 'involved', '3stage', 'bluetoothing', 'gentle', 'punch', 'consolation', 'prize', 'cadorabo', 'injured', 'healing', 'scifi', '2018', 'sword', 'machete', 'moore', 'unsealed', 'babied', 'endanger', 'summer', 'nokiawindows', 'litterally', 'reduction', 'algorithm', 'qulity', 'luxary', 'comparing', 'kia', 'suspension', 'uncomfortable', 'seat', 'creative', 'technologydesign', '150000', 'straightened', 'swiftly', 'readyas', 'collector', 'complimented', 'nicegood', 'screeneasy', 'useit', 'morenokia', 'lotttttt', 'phones0', 'coworker', 'titan', '1080p', 'autofocus', '12mp', 'batch', 'struggle', 'yellow', 'purselol', 'tiring', 'browsed', 'loyalty', '1120', 'arm', '822', 'playto', 'tng', 'lt', 'commander', 'fiancee', 'countless', 'qi', 'w10', 'tire', '7282014', 'noom', 'msspecific', 'welldeveloped', 'generalized', 'teenager', 'trend', 'analogy', 'respectively', 'analogous', 'linux', 'handfriendly', 'tilescan', 'regularly', 'rearranged', 'garish', 'phonescreens', 'droidgoogle', 'atrocious', 'chest', 'trail', 'horse', 'possiblity', 'blaring', 'imposing', 'ubiquitous', 'datafree', 'literary', 'dizzy', 'zooming', 'resize', 'doubletap', 'vent', 'committment', 'caption', 'ots', 'preformed', 'abandon', 'ugh', 'committee', 'autosuggest', 'phablets', 'ultraluxury', 'texttovoice', 'stabilization', 'resident', 'offload', 'stunned', 'recommit', 'finland', 'j7', 'announcement', 'rm820', '2100', '2600', 'shoukd', 'moneycan', 'pleaaaseeee', 'marking', 'uscompatible', 'socket', 'malaysia', 'booted', 'carpet', 'configuracion', 'estuvo', 'yay', 'xperia', 'z3', 'abundant', 'plentiful', 'cpr', 'recovery', 'drawn', 'noncontract', 'phonethis', 'tied', 'wp78', 'dt900', 'otterbox', 'commuter', 'corrected', 'wwifi', 'inflicted', '640', 'refundexchange', 'emil', 'tunnel', 'secondreplacement', 'spaeker', '72517', 'dev', '15th', 'hummmm', 'consistency', 'discontinued', 'nod', 'wei', 'fifth', 'projected', '1980', 'canadian', 'activates', 'sporadically', 'dns', 'accesspoint', 'downloadable', '4glte', 'variation', 'entitled', 'onenote', 'allinone', 'offline', 'onceuponatime', 'lackluster', 'flush', 'brandnew', 'nonissue', 'scare', 'nondrm', 'entered', 'inboxes', 'auxiliary', 'wp81', 'satisfies', 'costly', 'ignoring', 'iming', 'gpsing', 'megabuck', 'minicommunications', 'phor', '711', 'misrepresentation', 'kack', 'describedit', 'signature', '14th', '1011th', 'doorlol', 'servicethank', '66', 'loos', 'bigs', 'resigned', '3999', 'relocked', 'discretion', 'vey', 'indian', 'thatit', 'procedure', 'discontinuing', 'nocamera', 'txt', 'reachable', 'cameraless', 'slender', 'celluar', 'whistleswould', 'vietnam', 'smartswitch', 'playstore', 'adjacent', 'prong', 'koran', 'gimmicky', 'evident', 'deepseated', 'hightier', 'halfbaked', 'resurface', 's4s', 'upfront', 'alarming', 'disallows', 'outofthebox', 'nuisance', 'americasto', 'cumulative', 'nearest', 'centerso', 'intending', 'gradually', '515', 'laggingfreezingslowcamera', 'stress', 'coffee', 'startstop', 'flop', 'septemertex2015w', 'seler', 'gt', 'i9500', 'levantamiddle', 'conked', 'swollen', 'groupmms', 'walmarts', 'cheek', 'earring', 'specialized', 'pointed', 'disrespectful', 'chameleon', 'foreign', 'commenting', 'fraud', 'claiming', 'disqualified', 'antistatic', 'shockabsorbing', 'sleeve', 'spontaneous', 'combustion', 'firmwareneeds', 'picsbetter', 'sparei', 'hyperion', 'memoryslightly', 'eyesightfine', 'tolerable', 'wimax', 'notsogreat', 'implemented', 'nfc', 'tagsmay', 'irk', 'gojng', 'gym', 'sec', 'ummm', 'accommodates', 'draining', 'speakeraudio', 'bbb', 'detailedclear', 'categorized', 'illegal', 'void', 'newb', 'vulnerable', 'yada', 'brag', 'dropnot', 'maintain', 'ble', 'ant', 'ir', 'viper', 'loyal', 'offdisable', 'seek', 'override', 'planner', 'gs4', 'dealkiller', '3040', '128gb', '470', '120', 'whatll', 'flexible', 'viper4android', 'philip', 'featuresthe', 'population', 'vocal', 'xoom', 'otter', 'substance', 'yemen', 'continent', 'juice', 'idled', '39', 'useable', 'seemd', 'rarer', 'brittle', 'prone', 'underneath', 'uag', 'skintight', 'httpforumxdadeveloperscomshowthreadphpt2287882', 'httpcommunityforumsrogerscomt5forumsforumtopicpageboardidandroidthreadid19121', 'httpforumsandroidcentralcomsamsunggalaxys4305142brandnewgalaxys4brokennoreasonhtml', 'httpsamsunggalaxysforumscomarchiveindexphpt10569html', 'earbud', 's2', 'confirm', 'ting', 'ignorant', 'gotta', 'adjustability', 'limitationnot', 'eager', 'h1', 'owed', 'hurdle', 'cm10', 'tethering', '20mbps', 'spark', 'sghl720t', 'triband', 'ymmv', 'sqft', 'goodbaught', 'monthsonly', 'mist', 'frost', 'affected', 'inability', 'displaying', 'discovering', 'sylish', 'semiheavy', 'barometric', 'unique', 'frequentlydaily', 'durine', 'perceived', 'vibratesshows', 'grey', 'removereplace', 'varies', 'validated', 'controllable', 'massively', 'kat', 'untimely', 'delinquent', 'xprt', 'reality', 'servicegreat', 'asset', 'sensitivity', 'detached', 'reattached', 'fried', 'oneready', 'rescreen', 'bodyetc', 'upnot', 'comeback', 'htcsoi', 'freedompop', 'phoneso', 'happyand', 'wrongwent', '81gb', '97so', 'wheres', '6gbidk', 'deactivate', 'imessage', 'lake', 'jet', 'gun', 'resisted', 'desrcibed', 'unecessary', '6513', '14999', 'sprintcom', 'bend', '110month', 'upgraders', 'fret', 'metallic', 'pattern', 'banded', 'brushed', 'overlayed', 'grid', 'texturepatterning', 'clicking', 'professionallooking', 'sprintcomactivate', '2step', 'proceeding', 'hide', 'hid', 'chrome', 'health', 'companion', 'crop', 'girl', 'bootcut', 'lowrise', 'hiphugger', '7pm', 'firstday', 'fidgeting', '4pm', 'kicking', 'dropdown', '62113', 'gesture', 'likewise', '101713', '7727604', 'testament', 'accidental', 'mechanism', 'lil', 'subsidy', 'japanese', 'unsatisfactory', 'simplest', 'userbut', 'pictured', 'matched', 'acting', 'sleeker', 'stayef', 'down', 'concluded', 'poured', 'flakey', 'sphl720bkk', 'sphl720bkx', 'thanksgiving', 'expand', 'tweak', 'pixy', 'systm', 'tremendously', 'chipped', 'lovelovelove', 'figuring', 'purchase100', 'processer', 'relearn', 'blackcell', 'acknowledge', 'inoperable', 'racing', 'mercedes', 'imagined', 'focusing', 'acivate', '720t', 'anticipation', 'blazing', 'docan', 'dayeven', '230300', 'appliance', 'entertained', 'bat', 'na', 'antana', 'luvn', 'sneak', 'trickshahahahalove', 'gray', 'transform', 'evryone', 'g2', 'clearness', 'grew', 'wih', 'f8g', 'recommand', 'blackfor', 'overrated', 'vo8', 'pending', '3d', 'memoryvery', 'largercapacity', 'valued', 'steroid', 'seidio', 'satified', 'preset', 'spam', 'estate', 'squinting', 'sem', 'defintely', 'gettin', 'slimmer', 'blazingly', 'intermittent', 'pedometer', 'metric', 'cough', 'baconreader', 'reddit', 'redditor', 'weaning', 'wider', 'finge', 'pricethey', 'skipping', 'airview', 'gs3', 'router', 'hitmiss', 'hover', 'configured', 'tat', 'bothered', 'gs2', 'ak', 'morewe', 'walking', 'acclimated', 'anti', 'sentey', '3h', 'premium', '034mm', 'ls12204', 'bundle', 'lifetime', 'magicmobile', 'armor', 'price1', 'massive', 'oled', 'eliminated', 'speaks', 'hybrid', 'andno', 'largely', 'cruise', '2800', 'parthenon', 'coliseum', 'frontback', 'composite', 'priceless', 'barometer', 'infrared', 'remote', 'examining', '47gb', 'vids', 'attic', '80gb', 'incorporate', 'measure', 'elevated', 'sleeper', 'alongside', 'yield', 'easytheme', 'cast', 'polymer', 'implement', 'modest', 'gamers', 'criterion', 'waitedand', 'tonight', 'fence', 'janice', 'brodowsky', 'overdue', 'abundance', 'upgradeactivation', 'astounding', 'streamlinedsophisticated', 'wishing', 'videosdisplaying', '8500', 'utility', 'earlyoriginal', 'incremental', 'hybridceramic', 'webpage', 'instructing', 'endorsing', 'archived', 'in', 'out', 'computing', 'exceed', 'underperform', 'nonproblem', 'accessibility', 'heatsup', 'trigger', 'monster', 'aging', '4999', '2yr', 'woohoo', 'amazoni', 'blitz', '57', '77', 'production', 'mistreated', 'conditionno', '119', 'uniquely', 'hop', 'toward', 'cameracamcorder', 'border', 'protects', 'loosing', 'guaranteed', 'settingsbut', 'sevral', 'iccid', 'electrocuted', 'negatively', 'dreamed', 'marvin', 'gallegos', 'junkits', 'eligibility', 'goodlooking', 'thurs', '11217', 'versed', 'kickstand', 'celly', 'suckered', 'financing', 'outdid', 'wondertech', '3dwhich', 'shealth', 'locator', 'sw', 'fauled', 'technologyi', 'pecker', 'upcoming', '7iphone', 'advertisedworks', 'timeand', 'benifit', 'produst', 'exspected', 'yesit', 'recognition', 'stepping', 'abt', 'whopping', 'porch', 's4its', 'leapsandbounds', 'awsome', 'markettoday', 'iteasy', 'screeni', 'nowplus', 'chargerawesome', 'youmy', 'lirttle', 'guardian', 'angel', 'itim', 'waving', 'userno', 'classy', 'bttery', 'bedroom', 'pleasured', 'prop', 'cleaner', '7192013', 'downgraded', 'rush', 'br', 'begining', 'fritzed', 'returnwhich', 'siv', 'troube', 'north', 'nj', 'lastly', 'denville', 'summit', 'populated', 'unlmited', 'indianapolis', 'vanilla', 'cyanogenmod', 'sacrificing', 'hatred', 'bloated', 'wrapping', 'presented', 'knox', '0x1', 'aligning', '11pm', 'norm', '330pm', '630am', 'snag', 'unannounced', 'sweeter', 'poke', 'shiny', 'hunk', 'overcharged', 's4this', 'esthetically', 'whopper', 'phablet', 'undamaged', 'duper', 'scraped', 'slowmotion', 'iphoney', 'disappointedthis', 'unpaid', 'unfortunatelyi', 'wrap', 'disappears', 'lengthy', 'personalizing', 'individualized', 'jacked', 'jail', 'nick', 'horror', 'blacklisted', 'keyboardbut', 'x4', 'publicizing', 'accessuse', 'distance', 'nicevery', 'jammer', 'bcuz', 'backorder', 'stranger', 'smiling', 'babying', 'ahhhhhh', 'defintion', 'definitrly', 'devotee', 'motion', 'lineup', 's7', 'blackboard', 'emulator', 'pokemon', 'amazonsocial', 'ebooks', 'refurb', 'counterpart', 'definately', 'displeased', 'networkits', 'migrated', 'dealwe', 'snatched', '2days', 'resti', '1hr', 'contractsprint', 'workin', 'wouldworks', 'rally', 'wasalso', 'needand', 'birthdaystill', 'icc', 'ked', 'linkingcalendar', 'syncingsyncing', 'beside', 'outdatedlove', 'sh', 'iphone5', 'wil', 'productits', 'worthpeople', 'cellphonegreat', 'weightits', 'girlbecause', 'controller', 'priceeverybody', 'doour', 'sgs4', 'quicki', 'roamingwhich', 'wantt', 'note2', 'screenbetter', 'buit', 'pjone', 'verrry', 'greattt', 'thnx', 'greatt', 'wal', 'mart', 'deff', 'swiping', 'innovative', 'earpeice', 'uuuggghhh', 'remorseso', 'luved', 'personel', 'tryed', 'thorugh', 'mdl', 'multitask', 'honduras', 'suppodes', 'saudi', 'arabia', 'embphones', 'unwrap', 'repurchase', 'zilch', 'bam', 'dm', 'thorogh', 'permanent', 'nonexistant', 'legitamemt', '010', 'chore', 'oddly', 'smh', 'wiggled', '16gig', '64gig', 'basher', 'effortless', 'prolly', 'burst', 'desireable', 'consistant', 'watchon', 'bluray', 'mainfirst', 'fist', '49', 'gs5', 'recognizes', 'wave', 'calbe', 'magicsky', '04mm', 'tempered', 'noticible', '2017', '174', 'adopt', 'crapware', 'linger', 'gpsmaps', 'maneuverability', 'friendliness', 'gimmick', 'wwife', 'drastic', 'mounted', 'evolution', 'touchwiz', 'apex', 'nova', 'gel', 'networksave', 'emb', 'galaxy3', 'cm', '5x', 'chargerbattery', 'rocking', 'motox', 'antiglare', 'oher', 'polycarbonate', 'bashing', 'commitmentincluding', 'sloth', 'defaulting', 'unacceptable', 'evidence', 'fis', 'sprinttried', 'reestablish', 'explore', 'swimmingly', 'utilized', 'extensive', 'exteriorappearance', 'unveil', 'grown', 'fond', 'sview', 'suffice', 'judgment', 'trimmer', 'widgetapp', 'toggle', 'rotation', 'mutliwindow', 'unclutter', 'multiwindows', 'adjustable', 'ecstatic', 'phrase', 'veronica', 'utilizes', 'assigning', 'concise', 'unclicking', 'eraser', 'animated', 'dualshot', 'template', '920best', 'opinionamazing', 'defender', 'whitegray', 'gaklaxy', 'gamesemailsurf', 'coworkers', '130', 'yeyyyy', 'workout', 'wildest', 'awaited', 'definitley', 'exploring', 'thimgs', 'boggle', 'pausing', 'awayalong', 'recomoned', 'droppped', 'stilling', 'phonecoming', 'awesomei', 'twowhew', 'addicted', 'couldwould', 'dealgot', 'internetemail', 'jobsites', 'roughly', 'halfdozen', 'discus', '24hours', 'creates', '7year', 'turnedoffdisabled', 'blutooth', 'hanging', 'resilient', 'rinsed', 'roof', 'specification', 'campaign', 'skirmish', 'marine', 'achy', 'vino', 'roto', 'seriedad', 'equipos', 'fired', 'cardi', 'mega', 'pixelsi', 'thinness', 'outdoorslakes', 'backyard', 'thunderstorm', 'blizzard', 'hurricane', 'pavement', 'bingo', 'fort', 'refusing', 'persisted', 'hauling', 'bouncing', 'indistructable', '11½', 'outdoorsman', 'fighting', 'jersey', 'plant', 'cld', 'bumped', 'unuserfriendly', 'unlatch', 'coverand', 'blabber', 'mouth', 'ocean', 'velcro', 'tumble', 'padding', 'lifter', 'dumbbell', '6030', 'dainty', 's3s4', 'flipi', 'craft', 'beer', 'appsbrowsers', 'cbsky', 'complains', 'fácil', 'manejo', 'resistente', 'tamaño', 'óptimo', 'buscaba', 'veces', 'menos', 'quisiera', 'él', 'chock', 'hammock', 'underwater', 'receptionnon', 'existent', 'toughness', 'adjusting', 'az', 'nwater', 'modernized', 'avid', '1gb', 'eaten', 'frustratingly', 'wan', 'soccer', 'tasking', 'cooperation', 'wore', '7000', 'sghi547', 'upuntil', 'transmit', 'troubledanger', 'conveyance', 'terrable', 'workmanship', 'disillusioned', 'eaither', 'phonetried', 'dean', '1547', 'tp', 'killed', 'treatment', 'launder', 'garble', 'comms', 'barrel', 'crunch', 'sprayed', 'hose', 'bruise', 'exposure', 'palestineit', 'glove', 'nec', 'terrain', 'haven', 'neglect', 'incarnation', 'waterresistant', 'neglectful', 'posture', 'passively', 'hade', 'levi', 'bound', 'resistance', 'tow', 'roadside', 'kyocera', 'duraforce', 'xdbut', 'haveing', 'shoretel', 'weary', 'coated', 'tinge', 'cutback', 'asvertised', 'mne', 'wassuppose', 'blown', 'ip67', 'reaasons', 'bluetoooth', 'liquid', 'warerproof', 'sorch', 'attt', 'needa', 'ky', 'revoked', 'destroy', 'freinds', 'shattering', 'wasent', 'glorified', 'ate', 'saidall', '3400', 'diapointed', 'poj', 'monitor', 'flea', 'sage', 'isnty', 'amoson', 'f350', 'skidder', 'bay', 'tropical', 'iswas', 'thursday', 'forgetting', 'austere', 'cles', 'foreman', 'jumbo', 'cricket', 'pluswill', 'pocketgreat', 'secreting', 'popup', 'cheapo', 'phonekinda', 'pencil', 'deliberately', 'logoyet', 'engraved', 'obliterated', 'obscuring', 'jostling', 'dustproof', 'homescreens', 'saidi', 'obscure', 'brickfeeling', 'monstrosity', 'isthat', 'phonesis', 'tldr', 'meg', 'dryer', 'peru', 'terrrific', 'gci', 'conditionthanks', 'hindsight', 'cream', 'sandwich', 'pdfs', 'sluggish', 'wager', '1024', 'sufficient', 'internally', 'spoken', 'blamed', 'watertight', 'rotates', 'freely', 'expose', 'securing', 'laughable', 'insult', 'injury', 'memoryspeed', 'noble', 'unappealing', 'scuba', 'diving', 'phoneabsolutely', 'skittish', 'rehabing', 'aweful', 'stopwait', 'typist', 'femaleso', 'worksthe', 'casedrop', 'waterproofi', 'itcheap', 'megood', 'promptitude', 'thankful', '52', 'iti', 'docomo', 'guam', 'yank', 'hardworking', '4100', '15ghz', 'purposely', 'lagsand', 'computes', 'infuriating', 'wernt', 'fused', 'jury', 'preform', 'slows', 'm4', 'quirky', 'engaged', 'bearing', 'brim', 'contractor', 'ruget', 'youngster', 'bos', 'ithe', 'stier', 'seawater', 'sshow', 'occurring', 'sty', 'communicated', 'jigsaw', 'puzzle', 'ravine', 'biking', 'experia', 'starr', 'accustomed', 'launcher', 'gnex', 'luster', 'instability', 'study', 'seemlessly', 'merged', 'mics', 'cancellation', 'greenish', 'tint', 'oldschool', 'usaa', 'pageonce', 'realm', 'maintaining', 'stability', 'photosetc', 'superhero', 'themeetc', 'buff', 'xenon', 'liken', '6x', 'usatoday', 'wsj', 'stubleupon', 'pulse', 'flipboard', 'weave', 'uc', 'tileswifi', 'roku', 'standout', 'fav', 'wrist', 'cortana', 'singular', 'unavailable', '2great', '5you', 'schema', 'guest', 'thunderbolt', 'scanning', 'triggered', 'timedate', 'variable', 'disadvantage', 'supreme', 'workplace', 'dna', 'coat', 'pushing', 'readability', 'gaining', 'exchanged', 'z10', 'smudge', '312', 'understandably', 'goo', 'interfacing', 'accidentially', 'rude', 'taptalk', 'huntington', 'livetile', 'yetthe', 'facebooktwitter', 'intergrationeverything', 'devicethe', 'notificationsthe', '2532', 'appswhich', 'excels', 'silky', 'amply', 'infilitrator', 'halo', 'spartan', 'assault', 'iso', 'presets', 'overcome', 'photobeam', 'slideshow', 'raising', 'oupcan', 'readit', 'delaying', 'muchachoa', 'winphonei', 'driod', 'swarmed', 'jealous', 'slotwhich', '30gigs', 'storageit', 'slotlol', 'whoa', 'phonewoot', 'sweetspot', '365', 'livecom', 'capturing', 'spoiled', 'crud', 'reputation', 'rippoff', 'bricklike', 'onceindistructible', 'interruption', 'seemingly', 'usedincluding', 'trump', 'modify', 'shouldve', 'denim', 'overwhelmed', 'multitouching', 'reship', 'creating', 'managing', 'veritable', 'useespecially', 'note3', 'awed', 'dearth', 'roommate', 'screeen', 'excellence', 'frank', 'prefixed', 'ap', 'capped', 'clarification', 'oki', 'weekthis', 'nicethe', 'lumia928', 'iphonethats', 'ture', 'iphonebut', 'microsoftsso', 'whateverlumia928', 'andriodforget', 'iphoneenjoy', 'endi', 'experiencethank', 'morningit', '30mins', 'confident', 'pinned', 'dictionarycom', 'someway', 'excessive', 'advertisedneedless', 'premade', 'separated', '170000', 'mp4s', 'blunt', 'squared', 'matte', 'shatter', 'nicked', 'voiced', 'misuse', 'kindles', 'unrealistic', '23x', 'dissuaded', 'insured', 'deductible', 'uploaded', 'accessed', 'prof', 'birthdates', 'predownloaded', 'concept', 'practicality', 'towncity', 'actiate', 'panic', 'wipe', 'remotely', 'autoupdates', 'cycled', 'personalized', 'procuring', 'workscommunicates', 'corrects', 'dive', 'sweating', 'arriving', 'choise', 'colore', 'greate', 'rigorous', 'pureview', 'nokiamicrosoft', 'productgreat', 'nokiait', 'dealfisher', 'resets4', 'unhapiness', 'softhard', 'sux', 'hourly', 'tome', 'resetswiping', 'endless', 'latertaking', 'amzn', 'vzs', 'youwp8', 'photosfew', 'nav', 'heredrive', 'goggle', 'buggie', 'adjusts', 'bass', 'timego', 'walked', 'androidiphones', 'introduced', '67', 'dawn', 'unfairly', 'blunder', 'inexcusable', 'begging', 'cross', 'unlucky', 'glue', 'goopy', 'pureblack', 'sunset', 'independent', '6sec', 'vine', 'photorelated', 'notifies', 'beloved', 'evaporated', 'imaging', 'consolidated', 'wondered', 'worrying', 'cannibalizing', '928window', 'overview', 'takeover', 'slrs', 'painless', 'affair', '928windows', 'compromise', 'skincell', 'microwave', 'themetile', 'bored', 'handheld', 'refocus', 'string', 'ancient', 'useall', 'eris', 'defeated', 'approach', 'swoosh', 'shockedi', 'tryyou', 'rabid', 'bragging', 'dishwasher', 'dutifully', 'shined', 'sink', 'josh', 'apped', 'existedwell', 'unforseen', 'consequence', 'provocation', 'handoff', 'overnighted', 'prayed', 'mix', 'minimalistic', 'legendary', 'masterful', 'craftsmanship', 'androidclunky', 'scheduler', 'goodand', 'authorised', 'retailer', 'spin', 'vox', 'populi', 'discouraging', 'favour', 'galazy', 'preserve', 'alerting', 'phonecall', 'volumne', 'intrusive', 'maker', 'considerably', 'sharper', 'hesitating', '2000mah', 'ultimate', 'tongue', 'nto', 'inbuilt', 'onetapcall', 'toyota', 'prius', 'commute', 'horizontal', 'holster', 'rhapsody', 'skinny', 'poetic', 'carefulthe', 'sitesforums', 'commit', 'hinder', 'cooler', 'iseem', 'anomaly', 'winmo', 'fragmented', 'directs', 'garmin', 'jockey', 'troubleprone', 'drainage', 'nonideal', 'dim', 'surroundings', 'biggies', 'filling', 'performer', 'qualcomm', 'snapdragon', 'deterrent', '10mp', 'target', 'quarter', 'underdog', 'flipping', 'dl', 'breezy', 'peezy', 'spanking', 'cnet', 'introduces', 'grippable', 'topnotch', 'harsher', 'statement', 'slowerthanusual', 'prettiest', 'beuatiful', 'overspray', 'panicked', 'spray', 'microfiber', 'cloth', 'anoying', 'depends', 'plunged', '94', 'outline', 'compelled', '2999', 'wireflycom', 'synching', 'againoff', 'consolidates', 'unified', 'distinct', 'proffered', 'console', 'ps3', 'multiplayer', 'androidios', 'blaze', 'hammering', 'gamesvideo', 'hike', 'boonies', 'hound', 'niggle', 'fabulously', 'mitigated', 'solar', 'mat', 'degrade', 'committing', 'scanner', 'sheet', 'cinemagraph', 'marred', 'widespread', 'msnokia', 'western', 'angeles', 'sequence', 'inadvertently', 'documented', 'annoys', 'applicationspecific', 'disturbing', 'muted', 'firefox', 'inconvenient', 'resulted', 'gfs', 'nokiams', 'fisher', 'tellgreat', 'bonus', 'tinker', 'combo', 'trident', 'workswhat', 'moneythe', 'laser', 'tabletlaptop', 'photobeamer', 'augmented', 'edits', 'spacing', 'sissy', 'squeak', 'relieved', 'nba', 'jam', 'controlstouchscreen', 'biased', 'admin', 'phoneespecially', 'surfice', 'intuitivegreat', 'lap', 'fashionable', 'symmetrical', 'forethought', 'distinguish', 'scope', 'altogether', 'appsbut', 'rave', 'flopped', 'wellused', 'gum', 'candid', 'toe', 'designated', 'boardyou', 'generalvery', 'uncluttered', 'oversimple', 'camerathey', 'differenti', 'chaotic', 'fluidly', 'espn', 'sayno', 'sneaking', 'quicklyno', 'whatnotthen', 'lifeso', 'onthe', 'mauve', 'reseat', 'magically', 'confidenceinspiring', 'luxury', 'mandate', 'servicesverizon', 'cust', 'doityourself', 'anywayjust', 'superi', 'microsimcard', 'rm892', 'rm893', 'rm910', 'asia', 'wikipedia', 'dominating', 'tribute', 'advent', 's8', 'adopted', 'comforting', '930', 'sensible', 'hogging', 'ounce', 'remorse', 'superlative', 'uniform', '925s', 'beta', 'showcase', 'outfitting', '87mp', 'ois', '830', 'itoyphone', '8phone', 'aluminium', 'gaudy', 'poly', 'carbonate', 'upside', 'amp', '2ws', 'perfeclty', 'softcard', 'hspa', 'fedx', 'diagnostic', 'unrepaired', 'headed', 'court', 'complex', 'manz', 'batterz', 'flagged', 'straches', 'screan', 'acted', 'androidonly', 'affecting', 'protejerlos', 'prolong', 'stripping', 'spazzes', 'resulting', 'pass', 'grows', 'aphone', '521', 'hay', 'forma', 'actualizarlo', 'pueden', 'instalar', 'ninguna', 'recientes', 'ejemplo', 'squeeze', 'méxico', 'tmo', 'win10', 'filipino', 'quire', 'parameter', 'repairing', '317', '2417', 'maintained', 'meticulously', 'tlc', 'enjoyable', 'corky', 'firat', 'crafted', 'salt', 'cancer', 'trac', 'oldest', 'nothingi', 'closeby', 'blinking', 'abysmal', 'anythingcontent', 'jelly', 'bean', 'foxfi', 'broadcast', 'tether', 'suprised', 'ported', 'strike', 'multipoint', 'sphm840', 'reboost', 'boostmobilecomactivate', '1877tlkmore', 'svc', '8882114727', 'artículo', 'llegó', 'arañado', 'zombie', 'dollarsand', 'flawed', 'debi', 'mala', 'poseia', 'desbloqueo', 'internacional', 'xhdhdbc', 'neww', 'scratchedits', 'phonethanksnow', 'helen', 'hydro', 'tween', 'strted', 'hadbut', 'italso', 'melike', 'storagememory', 'exceded', 'expectationsthe', 'orded', 'recvd', 'sensetivity', 'staticky', 'traking', 'estarlin345hotmailcom', 'demas', 'talkingso', 'spectations', 'lata', 'truble', 'falto', 'compra', 'envio', 'destino', 'podria', 'paquete', 'faltante', 'sirve', 'venezuelaaaaaaaaaaaa', 'lineaaaaaa', 'turnd', 'dayon', 'iits', 'repetitive', 'numbersvolume', 'plz', 'recomemdados', 'dusty', 'ahad', 'proble', 'shuting', 'corrupt', 'spected', 'longmay', 'mishap', 'wallport', 'posted', 'freezeing', 'motivated', 'qualification', 'odio', 'elijo', 'calificación', 'motivado', 'ningún', 'lado', 'tecnología', 'tanto', 'aquí', 'usar', 'porque', 'compañía', 'trabaja', 'esa', 'perdí', 'dinero', 'poder', 'usarlo', 'devolverlo', 'eso', 'garantiza', 'devolución', 'meer', 'customerthis', 'thanx', 'irritation', 'sucksits', '3wksuntil', 'haywire', 'mei', 'withoutpop', 'gf', 'herebecause', '2mb', 'venice', 'sluppery', 'scratchy', 'battert', 'kycore', 'dr', 'supplement', 'lash', 'brow', 'fuller', 'kyocero', 'workng', '24hrs', 'deadi', 'allso', 'waisted', 'snapping', 'embarrassing', 'slowed', 'gotton', 'ghost', 'ang', 'ipone', 'sumsung', 'congratulate', 'sontinuen', 'spaz', 'siii', 'discribs', 'winderful', 'devicet', 'disappointedin', 'scrape', 'talkback', '7999', 'oknot', 'recomendables', 'infinately', 'fuctions', 'thankyou', 'neighbor', 'phonegave', 'thnxx', 'espicially', 'execlent', 'peor', 'linea', 'eeuu', 'odre', 'aqui', 'respuesta', 'ayuda', '2it', 'fori', 'theory', 'inconstant', 'arrives', 'erasing', 'prob', 'dayand', 'ty', '7th', 'grader', 'lifestyle', 'heyy', 'ither', 'alawys', 'programe', 'programes', 'choppier', 'grandaughter', 'allshe', '520s', 'tinder', '6snap', 'abysmally', 'turtle', 'signedup', 'performated', 'mightily', 'suv', 'chevy', 'bottomline', 'coot', '2995', 'arkiedan', 'addendum', '1995', 'ourageous', 'quickcamera', 'hired', 'diehard', 'prospect', 'preferred', 'platformuntil', '100megapixel', '32core', 'etcmy', 'touchwhizz', 'motoblunder', 'bogging', 'twitchy', 'touchy', 'nonsensical', 'unvetted', 'intervention', 'misbehaving', 'upever', 'thinkfree', 'songidentification', 'barcodeqr', 'soundhound', 'barcode', 'windowsphonecom', 'hotmailcom', 'outlookcom', 'skydrivepictures', 'macintosh', 'scout', 'traveler', 'lifesaver', 'restaurant', 'attraction', 'favourite', 'playtoy', 'fragmentation', 'forcecloses', '672014', 'summertime', 'featurecortana', 'lowly', 'understands', 'sequential', 'requestssomething', 'outperformed', 'budgetminded', 'offcontract', 'fud', '242015', 'australia', 'thereby', 'unifying', '3232016', '6172016', 'x2x', 'lowend', 'lagged', 'launching', '512', 'insiderwindowscom', 'insider', 'candidate', 'conceivably', 'successful', 'exclusively', 'jogging', 'ludicrous', 'unactivated', '33', 'decentsmall', 'bothersome', 'countrystate', 'province', 'smoothing', 'touchpad', 'workflow', 'devs', 'shower', 'ms', 'smeared', 'fledged', 'tuner', '6999', '200300', 'commonly', 'tube', 'freaking', 'storing', 'moreover', 'humongous', '1430', 'mah', 'deduction', '05', '150200', 'yearround', 'functionprogram', 'decoration', 'proscons', '6510', '810', '1010', 'looksweight', 'priceforfunctions', 'fuming', 'ibm', 'belowthescreen', 'messagefree', 'linkage', 'inflight', 'sharpness', 'funkiness', 'rotate', 'delta', 'wing', 'rat', 'tracked', 'frenemies', 'dublin', 'scientific', 'tabatas', 'drm', 'vorbis', 'ereader', 'driven', 'painfully', 'unusably', 'pita', 'footprint', 'ballistic', 'compiled', 'compiles', 'interpreter', 'dvd', '800x480', 'selfie', 'helper', 'separately', 'tmob', 'publicize', 'insertable', 'replaceable', '900on', 'attack', 'sibling', 'initiated', 'illusion', 'mentioncortana', 'unwilling', 'multitude', 'represents', 'meh', 'bezel', 'crapwhich', 'gouge', 'imperfection', 'trauma', 'befell', 'objective', 'horrid', 'confess', 'fork', 'mistreat', 'teacher', 'recommendingrepeating', 'adjusted', 'enhance', 'novel', 'bedtime', 'dealbreaker', 'warily', 'midwest', 'earliest', 'onethe', 'uptransferring', 'stamp', 'didthough', 'bulging', 'videoaudio', 'stone', 'gamble', 'nonremovable', 'aegis', 'wiz', 'overwhelms', 'laggingfreezing', 'alleviated', 'wishful', 'redundant', 'cart', 'skyrocketed', '18995', '1005', 'predicted', 'teardamage', 'revert', 'cyclone', 'eta', 'joining', 'theyatt', 'automateit', 'profileflow', 'tasker', 'extendable', 'stuffed', 'brown', 'purchasehopefully', 'expexting', 'leery', 'rezound', 'conquer', 'excitement', 'galore', '6th', 'skyrocket', 'swell', 'supermodel', 'wellconnected', 'exceptshe', 'timeyou', 'waaaay', 'vocabulary', 'parentsthe', 'dealbreakers', 'league', 'forgive', 'swiss', 'army', 'knife', 'swappable', 'tradeoff', 'gizmo', 'dimmest', 'bulb', 'subsubsubmenus', 'flicked', 'begun', 'mere', '23rd', '25th', '29th', 'dirtier', 'surrounding', 'amazingthe', 'rv', 'camp', 'personnel', 'heshe', 'troubleshootfix', 'attn', 'meintuitive', '2ndlife', 'photograph', 'panoramic', 'havnt', 'videoslistening', 'skipped', 'shackle', 'excelled', 'bumper', 'twerking', 'problemo', 'refinished', 'didworked', 'weeksnow', 'mobilepc', 'postpaid', 'cavle', 'corrective', 'jittery', 'jerky', 'stuttering', 'spastic', 'eyeface', 'faceeye', 'hall', 'fame', 'butchered', 'satan', 'swiped', 'godlike', 'screenshot', '18th', 'monthsreally', 'servicer', 'cased', 'viewed', 'diff', 'arrogant', 'hardwarephones', 'authorization', 'hazy', 'couch', 'downgrading', 'terrifically', 'reviewfeedback', 's4mini', 'cope', 'jp', 'functionalityquick', 'responsegreat', 'videosmoviesbut', 'betteri', 'daywhen', 'upto', 'daysoverall', 'buythey', 'te', 'unfixable', 'pregnancy', 'duped', 'await', 'jumping', '1080', 'apprehensive', 'softwarenot', 'whybut', 'reverts', 'messageshopefully', 'cu', 'moresamsung', 'detect', 'reseated', 'daylight', 'lile', 'delicate', 'broken_', 'rim', 'century', 'daysnow', 'dieing', 'fi', 'askin', 'photon', 'decaying', 'enoughsaid', 'craplets', 'reimage', 'himher', 'tabletvery', 'magnificentim', 'everwill', 'outour', 'phones4just', 'cameralarge', 'nothe', 'cellit', 'wasi', 'staated', 'scratchescracksiam', 'billfold', 'pula', 'siren', 'permeant', 'impeccable', 'itsamsung', 'risen', 'everconstantly', 'scrambled', 'inter', 'conectivity', 'unpleased', 'ai', 'butten', 'proceeds', 'bootlegged', '24900', 'reflects', 'workim', 'den', 'scami', 'dosnt', 'reordering', 'guilty', 'actaully', 'patch', 'marketed', 'controlled', 'dictation', 'enlarging', 'handand', 'highlighted', 'prey', 'prestigious', 'conversion', 'truncated', 'curly', 'innovation', 'struggled', 'insistence', 'technosavvy', 'bbq', 'answerit', 'dictate', 'television', 'magazine', 'starbucks', 'translate', 'boredand', 'laughing', 'naive', 'g4', '8th', 'glitching', '27th', '185', 'closedl', 'unreal', 'mailman', 'immaculate', 'harm', '501', 'lollipop', 'fogey', 'atrix', 'feat', 'wfloating', 'screensomething', 'removeable', 'goodcellas', 'bogus', 'itbut', 'asthetic', 'collect', 'porcelain', '164', 'favorate', 'debated', 'benefited', 'rendition', 'variant', 'inception', '3way', 'partnership', 'familiarity', 'predecessor', 'canned', '444', 'twocents', 'serving', 'drastically', 'alienated', 'monochrome', 'pale', 'taxing', 'sole', 'controling', 'patronage', 'surrendering', 'shove', 'throat', 'perk', 'hihg', 'pronounce', 'hurry', 'othere', 'fullest', 'instructionsdont', 'wondershare', 'galaxys4', 'exhilarate', '210', 'torcher', 'valentine', 'simcards', 'navigated', 'synch', 'podcast', 'downgrade', 'nanosim', 'featuer', 'homescreen', 'keyboad', 'traffic', '5lane', 'highway', 'wtf', 'looping', 'hardsoft', 'lightproximity', 'insensitive', 'noticing', 'ota', 'xda', 'cyanogen', 'mod', 'scott', 'hart', 'beanstalk', 'natively', 'phonevirtually', 'nonexistanti', 'ingenuity', 'excellentthe', 'thoughtful', 'kink', 'rivaling', 'compensates', 'clustered', 'detracting', 'withholding', 'excellente', 'coordinator', 'soninlaw', 'byop', '2y', 'complaintsmind', '17year', 'di3d', 'tear', 'dishonesty', 'minded', 'wirking', 'salesman', 'lifeproof', 'unfortualy', '136', 'obsolutely', 'descriptionty', 'preventing', 'filler', 'widely', 'referenced', 'literal', 'consulted', 'ehh', '8501900', 'rm915', 'rm917', '9002100', 'rm914', 'tremendo', 'bajo', 'costo', '5g', '2019', 'river', '4year', 'society', 'instantaneous', 'pushtotalk', 'girly', 'turtleback', 'leather', 'u680', 'rotating', '35mo', 'bulletproof', 'hatch', 'semirubberized', 'flashlightled', 'woke', 'hadwill', 'securely', 'problemsarrived', 'earlycan', 'nowand', 'starsthe', 'easyjust', 'tweaked', 'lg8300', 'irksome', 'doctor', 'memorized', 'spelled', 'togglebutton', 'numeric', 'precious', 'undone', 'tightened', 'squawking', 'handful', 'miniusb', '20th', 'mocked', 'margie', 'distracting', 'oblivious', 'chiropractic', 'strain', 'freeing', 'addiction', 'distraction', 'wireless4cheap', 'unhappyihave', 'thisi', '2650', '20ea', 'misunderstanding', '50mon', '600yr', 'pouch', 'cad', '3602', '02', 'qualm', 'readout', 'uv', 'radiationwatersandshockfreezehot', 'mr', 'callsso', 'timejust', 'frist', 'accommodate', 'bot', 'messaget', 'thirdparty', 'walkietalkie', '9999', 'enlarged', '79', 'workhorse', 'prefered', 'sch640', 'nonadjustable', 'composing', 'considerable', 'cyber', 'monday', 'bothering', 'mtns', 'questionsproblems', 'smartypants', 'contecting', 'miner', 'logger', 'ñow', 'priceway', 'foo', 'sidetone', 'pit', 'pia', 'perch', 'fingertip', 'depresses', 'depressed', 'refundreturn', 'prominent', 'andthe', 'covoy', 'flipper', 'flipped', 'enduser', 'simpleton', 'conthe', 'microscopic', 'settingschange', 'convoy3', '198', 'err', 'supposedlynew', 'steep', 'collected', 'trance', 'summary', 'bombproof', 'menusettingstoolssetup', 'disregard', 'logical', 'borderline', 'goofy', 'ruggedtype', 'shielded', 'boeing', 'developmental', 'texteri', 'adept', 'nuance', 'participate', 'textssomething', 'hen', 'xt9', 'kyrocer', 'dura', 'chunky', 'crank', 'blasting', 'eardrum', 'freeware', 'numericalpha', 'grandparent', 'prepaidwhy', 'brew', '83', 'whisker', 'phoneseller', 'v9', 'inconveniently', 'engineered', 'consuming', 'scarce', 'peripheral', '25mm', 'yell', 'roughnessaccidentsthis', 'functionsalthough', 'operateto', 'soild', 'verzion', 'sol', 'monthsnot', 'restocks', 'ng', 'phobe', 'reprogrammed', 'thanku', 'quitreplaced', 'itthen', 'togethertrashed', 'wantedordered', '4returned', 'clearbut', 'laggingand', 'ondo', 'wantedbut', 'pitched', 'anatomy', '1xxxx', 'flipin', 'env3', 'beforepictures', 'wellmade', 'wantedhad', 'converted', 'phonetakes', 'doodooload', 'bsr', 'easyat', 'literature', 'synchd', 'shuffled', 'verizonsamsung', 'unknowledgeable', 'uncaring', 'plainly', 'bootcamp', 'emulating', 'flashlightflash', 'gauntlet', 'centsi', 'curse', 'expects', 'accomplishes', '1900', 'fury', 'focused', 'offf', 'likeed', 'disrupt', 'casios', 'tske', '40yrs', 'detrimental', 'tea', 'nontmobile', 'cautious', 'negligible', 'roomy', 'semiokay', 'smashing', '20152019', 'gib', 'adversely', 'damge', 'knick', 'aannounced', 'revealed', 'ptel', 'minimize', 'happiness', 'imma', 'gently', 'icing', 'systemkept', 'overheatsthe', 'momentthe', 'grant', 'feachers', '422', 'mysteriously', 'seperate', 'vowed', 'attendant', 'm919', 'greenwireless', 'donor', 'digitizer', 'tada', 'overwhelming', 'centralized', 'paramount', 'devastating', 'committed', 'periodically', 'painted', 'peelschips', 'as', 'hsve', 'soled', 'strangely', 'iffy', 'phabletyeah', 'longs', 'booksits', 'rusted', 'corroded', 'tweezer', 'rhyme', 'softwarebloat', 'salesperson', 'shootº', 'philippine', 'infrastructure', 'wunderlist', 'buttonless', 'persist', 'summon', 'reopen', 'jot', 'autocall', 'novelty', 'reverted', 'snote', 'notebook', 'guitar', 'chord', 'strumming', 'enjoyment', 'devicephone', 'snappiness', 'korea', 'economy', 'japan', 'fascinate', 'pocketing', 'swindow', 'scrapbooker', 'jotting', 'sdraw', 'qualitymaterials', 'reiterate', '50716', 'at', 'polarity', 'workgsm', 'updatingsyncing', 'ignorance', 'searchresponse', 'unwieldy', 'fussy', 'settling', 'hare', 'bigit', 'split', 'anticipated', 'frantically', 'stats', 'toyed', 'pupil', 'woooooow', 'tragic', 'thatdrained', '12514', '745am', 'networking', 'shhhlol', 'readingetc', 'shear', 'capabilitiesmy', 'biglike', 'comically', 'andre', 'maxed', 'transitioned', 'spen', 'layoutbuttons', 'reduced', 'encased', 'spigen', 'bloatapps', 'hardcore', 'sway', 'customizations', 'eclectic', 'ocd', 'personality', 'instragram', 'meaningful', 'dslr', 'chargerport', 'thickness', 'achieve', 'usb3', 'bent', 'fought', 'preoccupied', 'surpass', 'nut', '1mm', 'bezzel', 'csrd', 'activste', 'byproduct', 'componants', 'slowing', 'breathtaking', 'watched', 'multiwork', 'accompanying', 'paperwork', 'unsuccessful', 'autosetup', 'suprise', 'arive', '4000', 'camers', 'porformance', 'potty', 'formerly', 'whoevers', 'eschewed', 'tease', 'doodler', 'sketchbook', 'tocuhwiz', 'dab', 's10', 'drawing', 'creepy', 'seductive', 'extralong', 'unneeded', 'seci', 'blending', 'usedi', 'genius', 'screenit', 'digging', 'manymany', 'acidentally', 'deplete', 'magnified', 'indistinguishable', 'steady', 'cableit', 'loveabsolutely', 'samsun', 'moronic', 'lemming', 'ipo', 'intensity', 'primiary', 'exquisite', 'fading', '40000', 'eay', 'dunked', 'swing', '39mb', 'mydroid', 'thatamazing', 'featuresone', 'theahemmore', 'whatsoeveri', 'undo', 'approving', '385', 'phonephablet', 'superhd', 'multiscreen', 'corning', 'scratchresistant', 'scratchproof', 'buzz', 'experimenting', 'bestselling', 'inpercentagre', 'discoloration', 'lgg3', 'macbook', 'shortlyits', 'prolific', 'scribbled', 'littered', 'nonbulky', 'optional', 'bugperformance', 'gnexus', 'daysi', 'chipmunk', 'unexplained', 'drainagemaybe', 'nsa', 'spying', 'autocorrections', 'workshould', 'simpler', 'suited', 'lefthanded', 'safetyi', 'cassette', 'onegoing', 'hangout', 'iheartradio', '2x', 'problemsnative', 'encoding', 'whove', 'usb30', 'portnot', 'autocorrect', 'sym', 'bypass', 'autocorrectionsthis', 'patented', 'removegood', 'easyyou', 'cimo', 'sline', 'modetransfers', 'invite', 'suppressor', 'environmentally', 'responsivea', 'proccessor', 'chromcast', 'nx300', 'viewfinder', 'artsy', 'note4', 'unto', 'gamesbrowsing', 'definatly', 'alcatel', 'workhad', 'divice', 'signe', 'verry', 'accesories', 'compactible', 'divices', 'complainant', 'todate', 'favorit', 'annotate', 'likable', 'productas', 'connecter', 'conflicting', 'tilting', 'bevy', 'chop', 'award', 'wait45', 'suffer', 'thingi', 'direly', 'lucked', 'diffferent', 'bare', 'stunningly', 'superseded', 'magnetic', 'biggeryou', 'geart', 'bogged', 'n2', 'n3', 'siiiiiiccckkk', 'pricegot', 'phoneusually', 'evernote', 'dented', 'flippin', 'realtor', 'literately', 'preface', 'facilitate', 'vzws', '19999', 'uncomplicated', 'snug', 'workthanx', 'cooli', 'cheaperit', 'contactsand', 'lulzy', 'phonebrought', 'prepaidno', 'catching', 'digest', 'ergonomic', 'allot', 'phonetablettoytool', 'koolaid', 'drinking', 'salvation', 'puny', 'selfobsessed', 'donothing', 'hipster', 'mommy', 'sayi', 'withstands', 'educational', 'squint', 'onehanded', 'removal', 'integrity', 'preloads', 'vote', 'phonedefiently', 'medical', 'fitbit', 'ownedworth', 'hovering', 'mindblowingly', 'userfriendliness', 'staind', 'stained', 'realizes', 'rzar', 'outgrew', 'visor', 'phonetool', 'a1', 'quaility', 'gr', 'sounda', 'phonecomputer', 'greatlove', 'penmy', 'handwrite', 'textno', 'lifefits', 'computerpowerfulfastreliable', 'expectationsi', 'wold', 'amazongreat', 'an', 'memorize', 'greatttt', 'dinner', 'loooove', 'satisfactoryappreciate', 'promptness', 'wellthank', 'established', 'priceeverything', 'stylist', 'sonic', 'expectedgreat', 'hardwarespecs', 'rrealize', 'emjoy', 'gn3', 'massachusetts', 'rocker', 'unsilence', 'chuck', 'te2', '101', 'teamsamsunggalaxy', 'suoer', 'doodling', 'flashworst', 'shaky', 'itswjust', 'storei', 'extraordinary', 'domy', 'rite', 'heremy', 'yey', 'wednesday', '230ish', 'evrything', 'phonetablet', 'costco', 'twas', 'sex', 'processand', 'bitter', 'transcribing', 'chicken', 'slingbox', 'hbo', 'selector', 'lengthier', 'appalled', 'shameful', 'scorch', 'superbly', '62', 'taller', 'piled', 'headsetthat', 'aggravation', 'promotion', 'disgruntled', 'logic', 'palming', 'visuals', 'scrapbook', 'm8', 'hyper', 'laptopangels', 'professionalism', '2yearold', 'stack', 'turbo', 'qualify', '442', 'severe', '51', 'g3', 'croaked', 'steer', 'coverting', 'handwriting', 'fahrenheit', 'dvr', '40mbs', '20mbs', '60mbs', 'bionic', 'checksout', 'gpu', '3mb', 'successor', 'olderthat', 'smallaverage', 'lecture', 'club', 'loosens', 'trendz', 'afforded', 'bleeding', 'tier', 'enticing', 'sd800', 'doggin', 'occurrance', 'squeezing', 'utnil', 'jiggle', 'unnaceptable', 'closure', 'interfere', 'thise', 'preferring', 'hardwarephysically', 'column', 'frontends', 'borrow', 'excellentbutdefunct', 'webos', 'sketching', 'notetaking', 'noteii', 'kidsmoments', '8mb', '13mb', 'hone', 'initiate', 'competes', 'magnifies', 'minutesit', 'eliminating', 'workable', '128', 'discharging', 'transitioning', 'bridge', 'repurchased', 'carethis', 'implementing', 'routine', 'uncover', '199', 'keyphone', 'activitation', 'fanand', 'daunted', 'beneficial', 'smallfunny', 'howtotip', 'yearshighly', 'droids', 'dealverizon', 'challenge', 'whatnot', 'trustworthy', 'amazonverizon', 'godsend', 'buncha', '54', 'ocasionally', 'multitaskingmultiwindow', 'sketchpad', 'autodesk', '5118', 'highlighting', 'claimyou', 'refurbishment', 'skirt', 'goodshitch', 'diagram', 'itune', 'brandspanking', 'buried', 'washout', 'escaped', 'ebook', 'faa', 'blacked', 'recommond', 'unaware', 'enthusiast', '3gb', 'resource', '57inch', '0100', 'motherboards', 'bootloader', 'defacing', 'dared', 'tampa', 'detailsrunning', 'includedwhat', 'happenalso', 'dbm', '115', '1xrtt', '1g', 'diggity', 'unparalleled', 'attest', 'defence', 'cup', 'powerhungry', 'magical', 'visiual', 'savannah', 'ga', 'peopel', 'expweienced', 'seemless', 'administrator', '2g3g', 'anticipate', 'galagy', 'primephazes', 'assembly', 'discriminating', 'attracted', 'lunacy', 'persistent', 'autocad', 'swore', 'brigade', 'misrepresented', '122', 'alphabet', 'raw', 'prevents', '4g3g', 'pal', 'spoil', 'waiving', 'csr', 'micrsd', 'inhibit', 'funtional', 'otoh', 'windshield', 'tall', 'vest', 'dimlylit', 'excess', 'indevice', 'conventional', 'scratching', 'partake', 'graduated', 'microsdxc', 'uhsi', 'expecially', 'oldster', 'diminishing', 'transfering', 'swears', 'nevwr', 'bout', 'beautifulfeatures', 'ppl', 'generalwould', 'onlline', 'shake', 'limitless', 'revolution', 'throwing', 'nowwhich', 'glitchesit', 'multipane', 'vsk', 'sizeafter', 'wowedlove', 'penstylusif', 'againsooo', 'iphonepriced', 'reasonableexcellent', 'otg', 'maxfix', '16x9', 'rudimentary', 'cellto', 'filmmaker', 'combine', 'technicality', 'blueprint', 'pinnacle', 'girth', 'zoomed', 'tvthe', 'therethis', 'bigfat', 'dribbling', 's4s5', 'bome', 'smallsized', 'phonetabletmedia', '20132014', 'nguyen', 'foreseeable', 'ofer', 'forthey', '219', 'positionbut', 'chargingit', 'wirecause', 'snafui', 'coulda', 'probly', '3the', 'networkno', 'relate', '1972', 'fortran', 'sence', 'gaminggeneral', 'rig', 'troubleshoot', 'functionallity', 'hsn', 'matured', 'replicate', 'loyality', 'renewalupgrade', '229', 'join', 'forty', 'supprised', 'gracious', 'initializing', 'closest', 'approximation', '96', 'tabletsmartphone', '256', 'lawyer', 'joined', 'spooky', 'ammount', 'cleanup', 'utillities', 'accomplish', 'toolbox', 'regarded', 'disabiling', 'physicaly', 'oversized', 'fumbling', 'shifting', 'dude', 'lcm', 'chromebook', 'buylove', 'positively', 'battey', 'glaaxy', 'lovin', 'replacedment', 'stereonot', 'armband', 'productjust', 'cmon', 'samsungverizon', 'modification', 'buttery', 'dwarf', 'minecraft', 'cary', 'whoopee', 'addicting', 'felling', 'unleaded', 'fuel', 'handbag', 'cxl', 'fo', 'underrated', 'fid', 'guideline', 'ultimately', 'jarring', 'framework', 'ux', 'ppi', '1920x1080', 'overblown', '4x', 'doi', 'jailbreak', 'uits', '33617', 'tinkering', 'overhauled', 'episode', 'phoneyeah', 'mirousb', 'responce', 'nashville', 'trooper', 'staircase', 'sustained', 'stubborn', 'daughtershe', 'visioni', 'brandeasysimply', 'sofa', 'wooden', 'gophones', 'rarther', 'langscape', 'loudspeaker', 'motorollas', 'eight', 'thirty', 'stopgap', 'officially', 'miracle', '27673855', '7337', 'lycamobile', 'a187', 'uncexpectedly', 'chyme', 'dramatic', 'motivator', 'pharmaceutical', 'oldass', 'a157v', 'yearolds', 'lowcost', 'throwaway', 'browsingbut', 'facetime', 'directory', 'batterylife', 'summarize', 'apparent', 'lastnight', 'exited', '18003310500', 'kailey', 'mm3', 'brokegood', 'v3', '157v', 'loaf', 'bread', 'hisher', 'aok', 'wantneed', 'simiplicity', 'callsreception', 'avgheavy', 'incarcerated', 'halfway', 'startrek', 'alligator', 'mama', 'brilliantly', 'devicei', 'van', 'itunfortunately', 'lout', 'eyesightwish', 'someonevery', 'treasure', 'everits', '20mono', 'lovehate', 'carrierstried', 'nontech', 'cand', 'stashed', 'numeral', 'foe', 'motherin', 'korean', 'chargeri', 'thempage', 'modified', 'caremake', 'internetbecause', 'neti', 'provideamazon', 'mon', 'lifelong', 'donot', 'travelled', 'uncharged', 'yesar', 'nunber', 'smoker', 'throwback', 'cater', 'declare', 'unequivocal', 'swanson', 'rotary', '2004', 'androidbased', 'windowsbased', 'worsened', 'ostensibly', 'ambient', 'noisecancelling', 'interview', 'nonsmartphones', 'dumbphones', 'senot', 'multifunctionality', 'optimally', 'ergonomicwas', 'perfected', 'cramming', 'compel', '10day', 'batterybar', 'criticism', 'a157vs', 'misguided', 'occupy', '1inch', 'retrofitting', 'quasi2004', 'examine', 'brass', 'contactsnot', 'sidesand', 'align', 'entailed', 'springloaded', 'snugly', 'comprehend', 'tangible', 'numbersletters', 'emoticon', 'delve', 'interwebs', 'acolyte', 'redundancy', 'lumiawith', 'pocketdefying', 'miniwindows', 'camerabut', 'producing', 'unpretentious', 'upshot', 'stocking', 'wellnigh', 'impenetrable', 'apocalypseproof', 'adhd', '20000', 'sceptical', 'consist', '700pm', '900pm', '15000', 'a877', 'revive', 'togo', 'resonable', 'payasigo', 'vibrating', '6202014', 'ekitgosimjt', 'telestial', 'gosim', 'eu', 'baltic', 'royal', 'needsuses', 'pretest', 'apns', 'dialer', 'violla', 'stk', 'obtain', 'sim2', 'puk2', 'puk', 'pinless', 'ekit', 'mobiledata', 'launched', 'pin2', '2030', 'agerelated', 'punctuate', 'mood', 'heh', 'foofo', 'transmissionreceiving', 'twofifty', 'telemarketing', 'thirtiesand', 'wizzbang', 'tim', 'globally', 'backpacking', 'feather', 'strenuous', 'forgets', 'elder', 'retro', 'hipsterville', '1x1', 'happyhad', 'bizarrely', 'idpassword', 'unlockable', 'weakest', 'retype', 'cheapskate', 'preteen', 'bath', 'gomike', 'erased', '110v', '240v', 'ittalk', 'wantneattight', 'consulting', 'scenario', 'methodcode', '7465625', 'softly', 'arrested', 'pretend', 'punching', 'suuuuuuuuuuuuuucked', 'sooooooyeah', 'razrs', 'broswer', 'phonebarely', 'discribe', 'siply', 'laborious', 'additionl', '1200pm', 'g5', 'arguably', 'lolol', 'packagef', 'thenote', 'phaplet', 'havr', 'tmoble', 'beater', 'thid', 'fritz', 'nearperfect', 'rubbing', 'dragging', 'bearable', 'finder', 'rotted', 'uselessbut', 'strang', 'acounted', 'nother', 'onyour', 'tie', 'righ', 'hsbc', 'ecstactic', 'nonfiction', 'avaialble', 'bender', 'shaking', 'sweeeeet', 'xt1080', 'excelentt', 'countryside', 'forest', 'distant', 'vacationing', '45mo', 'hq', 'spy', 'screwdriver', 'robot', 'assigns', 'noticably', 's34', 'negates', 'networkgps', 'darnn', 'nonpower', 'nonstatus', 'datamonth', 'autopay', 'cheekdialing', 'cheekhangup', 'goround', 'ginger', 'presence', '10192014', 'completley', 'riding', 'reflex', 'retrived', 'prefectly', 'mph', 'fathom', 'fosmon', 'illuminsheild', 'prtector', 'experince', 'piratically', 'balanced', 'noslow', 'uptodate', 'amateur', 'gameplay', 'streamed', 'oovoo', 'freddys', 'prevalent', 'urgently', 'purchaseyou', 'itwas', 'hdr', 'graphicly', 'intense', 'goat', 'simulator', '329', 'consthere', 'extends', 'warrant', 'nonsmartprepaid', 'needswants', 'hearthstone', 'cytus', 'compression', 'investigating', 'pseudo', 'thief', 'wholeheartedly', 'fari', 'aim', 'packageas', 'heal', 'moderately', 'narrowing', 'webinar', 'houri', 'pricei', 'userownership', 'lapse', '50of', 'watcha', 'phn', 'mayve', 'germaine', 'leader', 'domestically', 'well4glte', 'overcrowded', 'bandwith', 'latelywill', 'sayin', 'prepaids', 'cooked', 'toaster', 'oven', 'theft', 'highestresolution', 'budgeti', 'everythinghad', 'greatof', 'smallits', 'skyscraper', 'adreno', 'gta', 'mediaentertainment', 'fastsmoothand', 'derailed', 'notified', 'unscathed', 'someth', '552', 'conparable', 'nongalaxy', 'outdone', 'reproduction', 'novice', 'centura', 'straigh', 'camerathe', 'touchyi', 'appblink', 'alotand', 'bud', 'wmic', 'splendid', 'fronted', 'apologized', 'profusely', 'beg', 'phrased', 'quadcore', 'motog', 'debt', 'oughtgrew', 'nan', 'troy', 'vancouverwa', '1994', 'guysgals', 'sizenot', 'bulkiness', 'anywho', 'androidsmartphone', 'goodquality', 'allinclusive', 'surpassing', 'frenzy', 'hoy', '45month', 'goodive', 'booster', 'kiddos', 'galaxyit', 'spacei', 'outshines', 'draggedanddropped', '330ppi', 'dealphone', 'muchlovegratitude', 'introduce', 'knockoffwindows', '5499', 'dualcore', 'gameboy', 'quickoffice', 'appspreadsheetspresentations', 'facilitated', 'compounding', 'pavilion', 'retention', 'callpoor', 'radius', 'antivirusmemory', '600mb', 'onebutton', 'hyperspeed', 'meager', 'preforms', 'medias', 'effortlessly', 'easilygot', 'dayssatisfied', 'wokes', 'ncie', 'preformance', 'absolotly', 'compadible', 'anyday', 'straightalk', 'stepped', 'amy', 'definate', 'fknow', '100usd', 'agaoin', 'roam', 'awesomeness', 'amazingit', 'chargefor', 'phoneandroids', 'workinglong', 'thebest', 'peopole', 'coud', 'styled', 'phonehas', 'expedition', 'wantedworks', 'greatno', 'learner', 'itworks', 'conecting', 'motos', 'geohots', 'exploit', 'nanny', 'yellowish', 'interim', 'iem', 'lemonbrand', 'lemonit', 'offbecame', 'uselessand', 'thisread', 'problemits', 'phonethat', 'outsidenot', 'phrasebuyer', 'phonenever', 'verizontried', 'thembut', 'moxo', 'lockedmajor', 'perdet', 'scissors', 'authenticated', 'tthis', 'hacked', 'repsit', 'maam', 'argued', 'happenedbut', 'specifies', 'tó', 'proseser', 'pice', 'motorolalook', 'anythingworse', 'missile', 'viewer', 'garantee', 'desapppointed', 'stollen', 'actavaite', 'screwd', 'thaought', 'sonds', 'hopoe', 'electric', 'awlful', 'greed', 'ltehave', 'phoneno', 'wifihardly', 'rangeno', 'slotand', 'ewa', 'kapolei', 'honolulu', 'porting', 'offended', 'replying', 'textnow', 'redeeming', '307499', '759999', 'redeem', 'redeemed', 'suburb', 'surrounded', 'shadow', 'artificial', 'sharply', 'unattractive', 'blinding', 'displaysoftware', 'mindset', 'motivating', 'eternity', 'grandfathered', 'belonged', 'sailing', 'grippy', 'killing', 'mileage', 'vary', 'ricochet', 'zippy', 'shooter', 'responsively', '2013falcon', '511', 'cm13', 'nag', 'screenstask', 'inestimable', 'switzerland', 'female', 'exit', 'briskly', 'rolled', 'novdec', 'southern', 'headsup', 'abusive', 'gzone', 'shunned', 'plague', 'transoceanic', 'mowing', 'lawn', 'carrierbased', 'nfl', 'unlockjailbreak', 'gigabyte', 'manhattan', 'nuvi', 'preposterous', 'androidspecific', 'reverting', 'muting', 'aviary', 'lookout', 'youmail', 'gin', 'rummy', 'piccollage', 'touchtunes', 'ndroads', 'dubsmash', 'timehop', 'mixology', 'socrative', 'datinghookup', 'minitablet', 'proccesser', 'weaker', 'sunshine', 'qualityvalue', '50gb', 'fullfeatured', 'pricepoint', '5gb', 'recommending', 'imagery', 'jitter', 'inbound', 'outbound', 'discernable', 'unlikely', 'brake', 'outter', 'unbeatable', 'foremost', 'realistic', 'overlook', 'broght', 'sleekest', 'huawei', 'inspira', 'glory', '3mp', 'ic', 'precisely', 'nonvalid', 'dishonest', 'callingtextingemailsurfing', 'brushing', 'priceeven', 'sleeks', 'sdcard', 'wifionly', 'thrives', '38', 'backi', 'problemsloved', 'hungary', '99if', 'truphone', 'auction', 'copters', 'gauge', 'cluster', '247mb', 'ons', 'breakage', 'playertablet', 'customisable', 'storagesd', 'gingerbread', 'subscribed', 'ignored', 'tudia', 'slammed', 'fractured', 'funky', 'playback', 'designing', 'insideout', 'drivingthe', 'thoughtout', 'quickness', '8mg', 'actuallyit', 'earrbuds', '2024', 'holy', 'merit', '1217', 'amplify', 'flipshell', 'motorolla', 'duplex', 'outdo', '20something', 'sub', 'studering', 'cheer', 'paygo', 'callwise', 'insufficient', 'datamemory', 'indiscriminately', 'datahogging', 'coupon', 'emerged', 'pitifully', 'ludicrously', 'whenif', 'easytoaccess', 'easytofollow', 'cheaplooking', 'midday', 'instinctively', 'budgetconscious', 'stage', 'itonly', 'clearfor', 'isi', 'ingres', 'nexus5', 'l9', 'toughing', '6000', 'weaken', 'yayyyy', 'clinking', 'phonestill', 'pricelook', 'alsoits', 'uselooks', 'qualitybought', 'aback', 'motor', 'cryed', '8414', 'hassling', 'grrrr', '51814', '91', 'rubberlike', 'reduces', 'slipperiness', '424', '611', 'neglected', 'priceit', 'callstext', '4yr', 'responsiveonly', 'alsome', 'beet', 'applies', 'overpower', 'singer', 'treble', 'bassboosted', 'razer', 'pricelove', 'missdials', 'phpne', 'raf', 'smarphone', 'oder', 'ingadget', 'activatedthey', 'contradicted', 'bypassed', 'watn', 'whichever', 'cbam', 'dora', 'nonremoveable', 'cnote', 'shininess', 'association', 'yielded', 'prescribed', 'resolving', 'reassociate', 'conceivable', 'standpoint', 'affordability', 'appreciation', 'signalect', 'slotno', 'gyroscopeno', 'batteryin', 'teenaged', 'vested', '1920', 'usefull', 'encouraged', '4k', 'i6', '22014', 'ramand', 'happiermiss', 'thoughcant', '929', 'wand', '46', 'acer', 'insatiable', 'recurring', 'popups', 'bm', 'toidy', 'guarded', 'prepare', 'heptic', 'solitaire', 'reinitialized', 'praise', 'workday', 'stressed', 'nano', 'veirzon', 'compromising', 'assistantits', 'verse', 'bugginess', 'pecking', 'untested', 'aaaa', 'improves', 'tom', 'repairable', 'beed', 'segment', 'depended', 'junky', 'israel', '928like', 'ativ', 'phenomenally', '84', 'uber', 'bluish', 'takeaway', 'canceled', 'blacharge', 'presmart', 'allure', 'andits', 'welcoming', 'nobrainer', 'androidgoogle', 'chennai', 'scraping', 'podium', 'couplethey', 'chargersthat', 'lotno', 'geting', 'evaluated', 'impt', 'pursued', 'settingsand', 'timey', 'curmudgeon', 'nowuntil', 'obama', 'communist', 'elite', 'x3', 'deletion', 'sucking', 'drew', 'remedied', 'rectangle', 'iosandroid', 'exciting', 'downsized', 'itouch', 'yesoo', 'incipio', 'shopped', 'fatal', 'unwillingness', 'achievement', 'awaiting', 'silk', 'parental', 'safeguard', 'ahs', '1080x1920', '440', 'increasing', 'prevalence', 'wool', 'retirement', 'wringing', 'gamelofts', 'noooo', 'newi', 'grief', 'tenth', 'hemy88', 'keypin', 'fingernail', 'firmly', 'reinserted', 'bounced', 'familiarize', 'thatno', 'sneaky', 'disables', 'galsxy', 'burnedin', '712', 'iteration', 'soured', '50000', '6p', 'fifty', 'seventy', 'eighty', 'unmovable', 'unprotected', 'buildrepair', 's5s', 'ob', 'sphl', 'sphl720t', 'tri', 'mnutes', 'queen', 'superpowerful', 'vr', 'forgotten', 'leftbehinds', 'sandbox', 'sdslot', 'midrange', '2digit', 'truckload', 'healthy', 'doubledigit', '1920x1080p', 'overthink', 'costfriendly', 'emerging', 'staple', 'mirroring', 'mirrorgo', 'lgv20', 'quantum', 's1s2', 's3then', 'trumpeting', 'primitive', 'absorb', 'hurled', 'nobady', 'creatively', 'abusively', 'harness', 'rome', 'brainwash', 'churn', '1824', 'rebuying', 'contender', 'prizefighter', 'anker', '7800', 'phoneaholic', 'highdemand', 'anxious', 'capitalize', 'spill', 'immortal', 'garvey', 'mischievous', 'deceitful', 'chicanerous', 'deplorable', 'reconsider', 'sphl720', 'settingsabout', 'devicebuild', 'voicetext', 'networkdata', 'agarvating', 'dealsthe', 'phonewhich', 'fon', 'jesse', 'patterson', '2817230105', 'defenetly', 'ealy', 'shippment', 'bruh', 'sg4', 'purshces', 'pushased', 'msmo', 'brocken', 'horrendous', 'poblem', 'mvos', 'degit', 'dig', 'downer', 'skullcandy', 'aviator', 'chit', 'arived', 'deffects', 'spect', '2813005570', 'descriptionit', 'happeend', 'talktextdata', 'luve', 'inablitilites', 'tod', 'elecctric', 'tricked', 'postge', 'avaliable', 'dosent', 'phonecompany', 'purchasertherefore', 'chair', 'infothe', 'contractyou', 'notyou', 'overnow', '182', 'misleadwithout', 'baaack', 'refugee', 'interrupting', 'assignment', 'sameexisting', 'wantedsimple', 'hero', 'fundamentally', 'ick', 'tetherx', 'opps', 'firmwaresoftware', 'hed', 'experiment', 'strait', 'fasttmobilecom', 'ipv4v6', 'httpmmsmsgengtmobilecommmswapenc', 'hrefhttpwwwamazoncomgpproductb00hwemz1erefas_li_tlieutf8camp1789creative390957creativeasinb00hwemz1elinkcodeas2tagcagespar20linkidcu7wmgsyadpglmlrnokia', 'wirelessaimg', 'srchttpirnaamazonadsystemcomeirtcagespar20las2o1ab00hwemz1e', 'width1', 'height1', 'border0', 'alt', 'stylebordernone', 'margin0px', 'hrefhttpwwwamazoncomgpproductb00hweniugrefas_li_tlieutf8camp1789creative390957creativeasinb00hweniuglinkcodeas2tagcagespar20linkidsd4p7undu4enukqinokia', 'srchttpirnaamazonadsystemcomeirtcagespar20las2o1ab00hweniug', '13megapixel', 'beaten', 'infra', 'devpre', 'knicks', 'gathering', 'resealable', 'goner', 'technophobe', 'beatup', 'squeaky', 'lifeless', 'pricemy', 'food', 'orderingdelivery', 'divit', 'carbon', 'fiber', 'comprende', 'dirtdust', 'crevice', 'strached', 'deliveryphone', 'merrygoround', 'latestngreatest', 'verizonatt', 'darker', 'excellently', 'rob', 'lynn', 'phonedoes', 'nd', 'qa', 'sack', 'football', 'productcame', 'shapejust', 'screenbarely', 'nine', 'spotless', 'screenback', 'hiding', 'feb2019', '48hrs', 'sparce', 'daynightday', 'anxiety', 'scruffed', 'hampton', 'virginia', 'discountelectronics', 'bundled', 'ini', 'bulkier', 'replaceupgrade', 'teh', 'witha', 'paging', 'downthe', '5o', 'tobe', 'installer', 'agony', 'legible', 'legally', 'purely', 'analogue', 'pnones', 'probles', 'ranch', 'ag', 'fished', 'proxwireless', 'cosmos', 'httpcachevzwcommultimediamimsamsunggusto3basicsamsunggusto3ugpdf', 'controlf', '18009220204', 'soaking', 'setlol', 'deliveryso', 'meits', '15mo', '12yo', 'grandsonhe', 'smartphoneyet', 'butit', 'verision', 'smashed', 'deleivery', 'washer', '4yrs', 'nicotine', 'pubic', 'grease', 'lowtech', 'isw', 'fest', 'olders', 'damaging', 'reduce', 'onestar', 'tipo', 'puede', 'activado', 'phonethere', 'warrantee', 'fooling', 'fatherinlaw', 'defeat', 'thes', 'phonedefective', '6months', 'ass', 'whistlesthis', 'reorder', 'wether', 'mislead', '3995', 'for6900', 'insists', 'verizone', 'mistakenly', 'useservice', 'servicecarrier', 'learneasy', 'mordrn', 'tightcritical', 'youmay', 'indianaed', 'swivel', '_almost_', '700am', '7am', '701', 'reprogramming', 'hacking', '3000', 'compacted', 'noone', '333month', 'muchthe', '1500month', 'rocket', 'scientist', 'dishwater', 'reveals', 'useshe', 'reimbursed', 'brain', 'svs', 'phonemit', 'literate', 'camersvideo', 'donation', 'trasn', 'fer', 'sel', 'planlets', '21000', 'educated', '7500', 'stipulation', 'needsverizon', 'parkinson', 'electronically', 'thsn', 'paybymonth', 'turnip', 'quieter', 'simulated', 'bonanza', 'warantee', 'donated', 'french', 'xt1039', '1039', '1045', 'httpwwwphonemorecomcomparephonesmotorolamotog4gxt1045vsmotorolamotog4gxt10391686067', 'flooded', 'irresponsible', 'pinkish', 'leaner', 'approvedkit', 'connectingspeed', 'fastin', 'maxthon', 'rocketplayer', 'qq', 'copied', 'peppy', 'astro', 'headphonewithmicrophone', 'textinghangoutsfacebook', 'fitness', 'myfitnesspal', 'pact', 'butter', 'casting', 'chromecast', 'antic', 'pointandshoot', 'ingredient', 'recipe', 'cookbook', 'sample', 'rank', '2006', 'massage', 'diffused', 'infocus', 'dimmer', 'heartily', 'heed', 'subsidized', 'abandoning', 'portability', '3gbs', 'flavor', 'similarly', 'pricedid', 'cartelish', '32mb', 'relationship', 'telno', '25gb', 'accounttelno', '443', 'valueforthemoney', 'qr', 'repurposed', 'perception', 'os8', 'transparent', 'criticize', 'motorolalenova', 'designation', 'ascertain', 'verbatim', 'xt1045', 'wonk', 'peregrine', 'relegated', 'supertaxing', '3dheavy', 'hspda', 'featherweight', '3rdparty', 'scrutiny', 'connectivityseamless', 'cameraexquisite', 'uncluttering', 'partcortanaand', 'capablecompetent', 'lessmore', 'utterly', 'dramaticit', 'pried', 'previus', 'n4', 'cleartronix', 'amanzing', 'yeasr', 'tiled', 'telco', '2001', 'odyssey', '1968', 'capacitor', 'sided', 'sn', 'timeline', 'undistinguishable', 'bulge', '000000', 'abandoned', 'infinitely', 'microcard', 'manipulate', 'grouped', 'cinch', 'collapse', 'bounce', 'snazzier', 'pixelsbrightness', 'memoryintensive', '500600', 'higherend', '940', 'indonesia', 'peculiar', 'h20', 'loo', 'contactverizon', 'greeted', 'sadnessfrowny', 'borrowing', 'proposition', 'recognizedpopular', 'incountry', 'gent', 'acces', 'imediatly', 'slated', 'begginger', 'jorgeluis', 'interpret', 'wellall', 'liar', 'cataract', 'crucial', 'finite', 'finance', 'inpurchased', 'covert', 'overstep', 'dec18', 'attmvno', 'gateway', 'proxymvnoccmobilewebcom', 'httpmmsccingularcom', 'ipv4', 'channeled', 'mimic', 'improbable', 'disclaimer', 'profit', 'affiliated', 'hugely', 'affiliation', 'erodes', 'credibility', 'establishment', 'awe', 'wornout', 'cellar', 'exccelent', 'equipmemt', 'tactil', 'apia', 'ithow', 'ciniscargmailcom', 'combatable', 'ith', 'customerscan', 'tge', 'unlucked', 'touting', 'androidan', 'favorably', 'thisthereabouts', '7305', '100120', 'tmobilei', '356485060787762', 'immidiatly', 'dancing', 'graduation', '35861is', 'correcta', 'asus', 'compensated', 'frictionless', 'migration', 'guiding', 'monitoring', 'retroactively', 'therefor', 'therescreen', '58', '5050', 'annoyingly', 'fracture', '356485060817726', '8921601001159956879f', 'ims', 'reproduce', '630', 'pho', 'stuffi', 'gud', 'stepdaughter', 'lend', 'conform', 'spain', 'madrid', 'principal', 'disappointingeven', 'screem', 'whit', 'meny', 'advising', '530', '635s', 'seating', 'executing', 'shippingok', 'timethank', 'youawesome', 'outand', 'freezesand', 'flickersdo', 'expansible', 'macoy', '68a', 'convinient', 'complicate', 'rm975', 'windowssmartphone', 'mobilecellphone', 'transfersync', 'confirms', 'sing', 'revising', 'shied', 'cameraphoto', 'inherently', 'bugged', 'findingtaking', 'manipulating', 'techsavvy', 'keen', 'nr', 'fluidity', 'truthfully', 'frontal', '6did', 'boo', 'crashesa', 'limiting', 'sleepwake', 'baggage', 'agoi', 'yesyes', 'pleasurable', 'screenprotector', 'speck', 'duct', 'printing', 'gist', 'listens', 'availiability', 'hong', 'kong', 'csl', 'onepalmgrabbable', 'fmradio', 'thailand', 'likeneed', 'princess', 'lgf60', 'factorysealed', 'suitability', 'beijing', 'adventure', 'supossed', 'unlocket', 'locket', 'roadtrip', 'ny', 'smooththe', 'toomy', 'likednokia', '640xl', '881', 'oneday', 'alli', 'internet4g', 'lteits', 'moneyits', 'werei', 'lessor', 'cooperative', 'friendily', 'flex', 'impractical', 'merely', 'indictment', 'cuba', 'goodpassable', 'intactits', 'biznes', 'performancewise', 'belter', 'ittwiceneed', 'inventedwish', 'offbeta', 'oversea', 'histation', 'btc', 'telus', 'ultrame', 'amidst', 'legend', 'unreadable', 'union', 'digitel', 'weakening', 'specificationsm', 'movista', 'ftw', 'soni', 'fitted', 'nokiaas', 'goodest', 'dispatcher', 'custody', 'slapped', 'foro', 't_mobile', 'país', 'designnokia', 'feeble', 'thou', 'rington', 'island', 'goodexcellent', 'seeming', 'carrierlocked', 'sku', 's561a', 's561', 'levanta', 'sr', 'soo', 'fortune', 'arrogance', 'fickle', 'contributed', 'fabrication', 'boast', 'seduce', 'crapy', 'scum', 'bastard', 'ho', 'environmental', 'scrubbed', 'graphical', 'denial', 'hickups', 'ripple', 'chain', 'unfold', 'awall', 'andit', 'shoddy', 'glossed', 'kiosk', 'explains', 'irony', 'symptom', 'gamestop', 'reviewstory', 'confidence', 'refurbs', 'defectiveness', 'sar', 'measurement', 'radiation', 'onethird', 'bin', 'ghosting', 'discussion', 'appriecate', 'newness', 'marshmallow', '601', 'refurbishedby', 'verifying', 'apptwice', '773', 'trusting', 'integritythat', 'reactivating', 'reman', 'celllular', 'usedreconditioned', 'redo', 'callerheard', 'remoteness', 'recondition', 'latestandgreatest', '50900', 'ouch', 'influenced', 'comparative', 'upgradewhen', 'apr', 'offsupreme', 'ripoffsamsung', 'g900v', '16mp', 'reinstalling', 'updatesdont', '12017', 'shutdown', 'ghana', 'accra', 'commented', 'wiring', 'assembled', 'suggests', 'disapointment', '2015not', 'wallusb', 'brochure', 'immersed', 'mimick', 'trackfon', 'inherited', 'phantom', '53', 'powerdata', 'unuseable', 'unreturnable', 'extracareful', 'beatiful', 'rigorously', 'sanatized', 'aggressive', 'naaa', 'recive', 'unnecessarily', 'crusty', 'proofing', 'arizona', '122017', 'fastgreat', 'agoonly', 'alend', 'pitiful', 'bluetooths', 'newinbox', 'separating', 'lift', 'reveal', 'motorcycle', 'wreck', 'purecell', 'supposably', 'misrepresenting', 'bran', 'lobe', 'aswell', 'daña', 'referb', 'warped', 'banana', 'familynot', 'worksshort', 'cradle', '10616', 'asian', 'conditionworks', 'beautifullyno', 'evera', 'aroundalso', '7580', 'attepted', 'md', 'sysems', 'upward', 'distortedim', 'descrbedi', 'receivedworks', 'oldie', 'goody', 'suicide', 'lifted', 'legal', 'additinal', 'perfet', 'orderdelivery', 'unilke', 'driveway', 'grim', 'bust', 'rocky', 'national', 'nikon', 'wildlife', 'scenery', 'malisimo', 'garbagedont', 'hopeless', 'professor', 'ultrapower', 'transit', 'holodays', 'atthe', 'selfe', 'brighten', 'nib', 'leary', 'gsmlte', 'narrow', 'commission', 'vrizon', 'authenticity', 'wv', 'beige', 'ongoing', 'sistem', 'phonesits', 'baggies', 'buuuut', 'airno', 'sellerwould', 'nee', 'retun', 'unhacked', 'imea', '82016', 'phonereally', 'unloked', 'grrrrr', 'finethen', 'universalnot', 'twoprong', 'modelwhy', 'redialed', 'gie', 'waw', 'multimediapicture', 'squad', 'clutch', 'wee', '10252015', '1072015', '9152015', 'earspeaker', 'distorts', '8312015', 'vertical', 'idem', 'autoupdate', '8262015', 'cooky', 'meany', 'uphome', 'veryvery', 'backhome', '3300ma', '2800ma', 'attracting', '8242015', 'uninstalling', 'mf', 'toowe', 'jammed', 'guard', 'disfunctional', 'thisll', 'triying', 'germany', 'vodafone', 'chargerno', 'scatched', 'workingin', 'witn', 'hassel', '45oo', 'geeeeee', 'oddity', 'willso', '20400', 'fiestacellphonestx', 'tickled', 'workbut', 'forsure', 'voicecall', 'declined', 'instore', 'groundhog', 'disintegrating', 'idiotic', 'darned', 'alphabetical', 'propertly', 'lined', 'extrawide', 'lifting', 'moth', 'alignment', 'butthe', 'fritzing', '17th', 'ranking', 'systematically', 'narrowed', 'musicpodcasts', '16mb', 'constrained', 'deterred', 'determining', 'sheer', 'prettied', 'usedrefurbished', 'issueswear', 'phonestatusfactory', 'g7', 'bandsthe', '92', 'paraphrasing', 'mount', 'gottennow', 'glitz', 'improper', '81616', 'wedding', '82916', '280', 'blob', 'askedgood', 'biggy', 'convery', 'againsamsung', 'phoneyou', 'cellsell', '3600', 'whisper', 'beget', 'pose', 'microfono', 'escucho', 'cuando', 'llaman', 'sólo', 'blutood', 'originated', 'endlessly', 'refurbishing', '53117', '62417', 'marker', '36th', '190', 'samsum', 'breack', 'itgreat', 'hood', 'yearno', 'reinstalled', 'daysended', 'fyiif', 'eliminate', 'unblocked', 'modelawesome', 'blury', 'fastlove', 'police', 'quandary', 'greatjust', 'phoneworks', 'bummerand', 'yearsand', 'receptionand', 'strongwhich', 'configuring', 'colorsdisplay', 'phonehopefully', 'psxpro', 'inste', 'definantly', 'finejust', 'warmer', 'onus', 'guidance', 'talkit', 'carriersthey', 'magaria', 'buyit', 'scammer', 'predicament', 'rational', 'timefinding', 'criticise', 'oversll', 'd6503', 'd6502', 'number12819166', 'headsetear', 'farcases', 'punchy', 'exchangeemail', 'roadster', 'logitech', 'ht800', 'motospeak', 'bandwidth', 'overloaded', '20mb', 'podcasts', 'alarmsmusicmovies', 'moderateheavy', 'lookfeel', 'widgetsapps', 'againand', 'hopefuly', '179', 'smarthphone', 'qnd', 'specialy', 'lolipop', '502', 'giga', 'enought', 'thia', 'starsstars', 'thw', 'bugy', '51or', 'custumers', 'puchased', 'considiration', 'smug', 'textme', 'nose', 'soul', 'haul', 'devicesmy', 'electronicdom', 'smartphoneuntili', 'whatonly', 'faceuntilat', 'lastconvincedi', 'fastthe', 'mall', 'vividly', 'soiid', 'scrabble', 'wordnot', 'iheart', 'tunein', 'commuicatioon', '51115', 'changeable', 'enslavement', 'thumbprint', 'smile', 'detection', 'reaching', '5pm', 'cortanas', 'eyesore', 'appsonfire', 'thinnest', 'mushy', 'fat32', '10finger', '8am', '9pm', 'vague', 'clarified', 'xt1095', 'xt1097', 'bootleg', 'xt1092', 'monies', '__important', '__', 'pocked', 'bible', 'pageseller', 'conclusive', 'vouch', 'cellc', 'hsdpa', 'bamboo', 'targeting', 'rival', 'conjunction', 'defines', 'inclusion', '1017gb', 'appsmoviespictures', 'configurable', 'spends', 'redgreen', 'ghosted', 'grill', 'cruzerlite', '169', '97mp', 'indefinitely', 'dearlyfound', 'infoand', 'wasos', 'kitkatthen', 'researchingthat', 'osever', 'lollipopi', 'xt1098', 'thiss', 'phoneswhen', 'phoneif', 'consumed', 'camera13', 'smoothest', 'allegedly', 'accounti', 'adge', 'spice', 'alleviates', 'featureamong', 'thrifty', 'badge', 'weightbalance', 'rigidity', 'nob', 'clever', 'twisttoactivate', 'motorolatweak', 'speakersound', 'volumeoptimized', '6gb', 'sizable', 'onerous', 'broad', 'daylightbut', 'superclose', 'stilllife', 'nitpickling', 'composes', 'george', 'seuratlike', 'impressionist', 'hitormiss', 'attain', 'closeup', 'lgg2', 'crazyscreen', 'syndrome', 'screenon', 'painterly', 'colorpopping', 'audacious', 'dubious', 'awesooooome', 'snuff', 'gosto', 'muito', 'moviesvideos', 'talkpictures', 'twisting', 'whitebamboo', 'completly', 'adapts', 'onlyand', 'blend', 'ergonomically', 'dimple', 'conveyor', 'chronic', 'arnt', 'newthis', 'hoax', 'g4htc', 'm7', 'm8iphone', 'screenfastlighteasy', 'miami', 'respectable', 'lollypop', 'puro', 'rendimiento', 'unoppend', 'easly', 'anthor', 'sparky', 'genis', 'valve', 'integral', 'awakened', 'twist', 'karate', 'haiti', 'latin', 'unblock', 'higly', 'highquality', 'savvythroughout', 'coffin', 'potentially', 'departure', 'wiping', 'repairreplace', 'insulting', 'ítem', 'itworth', 'fargreat', '801', 'geotech', 'expexted', 'originali', 'boooooo', 'doog', 'unic', 'nowtrademark', 'farhave', 'accesible', 'gm', 'sreen', '10gb', '50100', 'scuffing', 'discern', 'zenfone', 'newold', 'tbd', 'sate', 'bbut', '44000', 'antutu', 'fps', 'fifa', 'crossy', 'spectacularly', 'albeit', '330', 'fhd', 'wqhd', 'namely', 'synthesis', 'attending', 'unmatched', 'wellits', 'fathomable', '2pm', 'behaving', 'mower', 'porn', 'evenly', 'siiiick', 'stalk', 'posessed', 'resting', 'blare', '5month', 'enhancement', 'welcomed', 'hohum', 'kk', 'comparably', 'harleys', 'careless', 'misinformation', 'attnt', 'igadgitz', '3hrs', '86', 'cud', 'performace', 'expeted', 'furious', 'hanged', 'mutiple', 'digi', 'substandard', 'competely', 'preciously', 'nonoverwhelming', 'complant', 'runarounds', 'happines', 'internetwifi', 'salió', 'conectividad', 'terminó', 'destrozado', 'whack', 'unobtrusive', 'extraordinaryhighly', 'clutter', 'announces', 'absence', 'dinamicspeople', 'speacker', 'alsowhen', 'skypewas', 'journalist', '200ish', 'miniature', 'tundra', 'relied', '1996', 'geo', 'tracker', '2003', 'element', 'frosted', 'gaoddamn', 'happeee', 'althought', 'expansión', 'facilites', 'swift', 'anyones', 'singing', 'comparatively', 'specialist', 'forwarded', 'escalation', 'assue', 'refurished', 'inconvence', 'owe', 'dismissive', 'script', 'lenovo', 'mission', 'miserable', 'masterpiece', 'x14', 'programms', 'xt1097my', 'burntshadowed', 'phoneused', 'basebands', 'dialler', 'fall2014', 'prohibit', 'stylei', 'breathtakingly', 'sacrifice', 'diagonal', 'realestate', 'bench', 'flatscreen', 'multiwindow', 'atop', 'outthebox', 'sanpdragon', '27ghz', '805', 'qhd', 'dished', 'frequencythis', 'wellbuilt', 'allmetal', 'bending', 'wobble', 'highcapacity', 'standardthink', 'lightest', 'jabbing', 'sideform', 'compelling', 'phoneseven', 'detractor', 'bubbly', '612', '65590', 'offerred', 'twoyear', 'versatility', 'doitall', 'accessorized', 'pthink', 'faultly', 'thoughthe', 'ecellular', 'stared', 'microchip', 'oneand', 'discomfort', 'lessened', 'causal', 'width', '181', 'allinall', 'life45hrs', 'tooit', 'inappropriate', 'minutesoverheated', 'wasteof', 'phonelt', 'doespecially', 'verizonmotorola', 'xposed', 'sensibly', 'ion', 'storageprocessingbattery', 'egyptian', 'relic', 'slapping', '8001000', '50006000', 'vid', 'cardprocessor', 'computertv', 'somethingjust', 'featured', 'outweigh', 'itthanks', 'compressed', 'theftvery', 'burying', 'screened', 'chooses', 'enormous', 'amaxing', 'bn', 'onit', 'ly', 'easyu', 'farcharged', 'blacking', 'ithas', 'v10', 'eve', 'desperation', 'witht', 'wednesdaythank', 'inoperative', 'certificated', 'iwas', 'sawhave', 'freaz', 'prank', 'mega2', 'sayis', 'aggravated', 'pry', 'resurrect', 'periscope', 'medont', 'usding', 'correctend', 'adaptive', 'bloating', 'deviceif', 'deeply', 'sadden', 'shout', 'ka', 'ke', 'inspecting', 'oppurtunity', 'inapp', 'loveloved', 'receivedthe', 'dayshopefully', 'spontaneously', '10x', 'chipping', 'unnoticeable', 'onless', 'overally', 'richmond', 'va', 'miserablemente', 'funciono', 'apaga', 'frisa', 'descarga', 'bateria', 'enciende', 'gana', 'decepcion', 'perdi', 'voy', 'recomendar', 'ese', 'nadie', 'estafador', 'barato', 'worded', 'productwont', 'forim', 'phoneone', 'andvery', 'smime', 'daytimer', 'miffed', '61', 'periodic', 'monumentally', 'leeps', 'killong', 'reputable', '15yrs', 'wellthis', 'upbought', 'worksreturning', 'evaluate', 'pritty', '57have', 'batteryif', 'reatarts', 'teceptiondont', 'inspected', 'baster', 'phonephalet', 'notethe', 'perf', 'sucky', 'sizebattery', 'exploded', 'clocked', 'oneso', 'okai', 'note4s', 'remanufactured', 'infamous', 'mmc_read', 'hardward', 'batterycase', 'blaster', 'voided', 'soberting', 'pun', 'untouched', 'blogger', 'htciphonelg', 'fanboys', 'romsfirmware', '2k', 'autobrightness', 'pretender', 'wacom', 'faux', 'winter', 'groove', 'giveaway', 'telecom', 'intrigued', 'longtime', 'promo', 'premier', 'illustrator', 'diminished', 'edc', 'conclude', 'justified', 'locker', 'crime', 'ridden', 'philadelphia', 'slowskis', 'mighty', 'audience', 'bore', '07', 'm8s', 'hind', 'criticized', 'flower', 'botanical', '37mp', 'selfles', 'cramping', 'g3s', '59', 'learns', 'unimaginable', '6070', '20ish', 'cayanogenmod', 'semi', 'catchphrase', 'oposed', 'generically', 'decreasing', 'employer', 'conditionthat', 'understatement', 'charger30', 'nonexisting', 'inconsistency', 'implementable', 'unhelpful', 'pushbuttons', 'complication', 'withstood', 'hardship', 'scratchesnicks', 'mechanically', 'nit', 'opo', 'starrider49gmailcom', 'phone2nd', 'btwthe', 'echoed', 'diaper', 'unwowed', 'newjust', 'droidwish', '16g', '6g', '10g', 'networki', 'superfast', 'contradiction', 'lyk', 'dat', 'soc', 'stutterfree', 'notable', 'baloney', 'ought', 'maxxhd', 'painful', 'lightyears', 'nearlypure', 'handwaving', 'mymoto', 'subtly', 'ally', 'inn', 'influence', 'paperish', 'stiff', 'millimeter', 'firmer', '012015', 'floating', 'rebate', 'itbest', 'absolutley', 'agoyikes', 'yah', 'filtering', 'crossing', 'relativly', 'circa', 'cuttingedge', 'subpart', 'omgosh', 'wack', 'selectively', 'metropolitan', 'butted', 'flickered', 'win81', 'doorbell', 'division', '4988', 'phibe', 'motherloves', 'schooler', 'duals', '4months', 'amost', 'windows881', 'glitcheslike', 'vista', 'fad', 'bury', 'jacuzzi', 'computerized', 'microft', 'batería', 'queda', 'chica', 'recibe', 'carga', 'deliverybought', 'formy', 'phonehis', 'zini', 'orsomething', 'sawhe', 'bucksi', 'recdntly', '521its', 'babyinside', 'upgradeso', 'linebut', 'cheaperbigger', 'screeless', 'andwont', 'youcome', 'backone', 'satistied', 'excepted', 'buton', 'ado', 'absurdly', 'designer', 'fuzziness', '530s', 'unquestionably', 'familiarizing', 'manages', 'apnmms', 'junction', 'struggling', 'greatbut', 'subjectively', 'contactswhen', 'simits', 'codei', 'consitantly', 'shouldat', 'flawsshe', 'cane', 'describes', 'newretread', 'downsize', 'phoneplan', 'historic', 'onlyrearfacing', '200500', 'venturing', 'march2015', 'class4', 'settingaboutreset', 'ntfsfat32exfat', 'systemsanything', 'ntfs', 'ribbon', 'contracting', 'misleadingnokia', 'gosh', 'oil', 'burden', 'alarmsit', 'skyping', 'interrupt', 'phonless', 'excessively', 'bride', 'specie', 'specimen', 'jawbone', 'picsvideos', 'thro', 'teeth', 'thisbphone', 'aero', 'james', 'phonethey', 'playwith', 'carrieri', 'immense', 'av', 'cramp', 'wel', 'pricebut', 'cortanawindows', 'siriapple', 'doapps', 'qualitynot', 'awkwardly', 'middlepriced', 'applestore', 'lasership', 'rene', 'cortona', 'l90', 'textsdont', 'informative', 'happyfor', 'easist', 'resealed', 'peeled', 'atrociously', 'foam', 'simcardsd', 'turd', '349', 'primer', 'lugar', 'quiero', 'decirles', 'sì', 'recivì', 'sù', 'recivir', 'artoculo', 'supuesto', 'giratoria', 'decir', 'averiado', 'digitalizer', '275', 'ricaintention', 'unfufilledwaisted', 'fraudulent', 'reseting', 'qualitythe', 'cqme', 'desinstall', 'buyeramazon', 'eject', 'ejected', 'blanking', 'galalaxy', 'directing', 'liberty', 'corrosion', 'reheating', 'disney', 'ofter', 'atnt', 'emigration', 'desctiption', 'promptlym', 'unmounted', 'i337', 'chager', 'warrantysamsung', 'sghi337', '300its', 'fr', 'pesimo', 'correcting', 'selamawi', 'spamware', 'timeprograms', 'themdoesnt', 'knowingly', 'neo', 'gret', 's6i', 'ita', 'forr', 'itveey', '417002100', 'aws', 'modesqualcomm', 'partway', 'imitation', 'expedite', 'ghanés', 'ethiopia', 'missingi', 'appearing', 'copia', 'estafa', 'didt', 'battry', 'glamorous', 'luge', 'enlarges', 'rattled', 'awaytoo', 'closingcheap', '12800', 'craped', 'zapp', 'opts', 'resilience', 'remake', 'devicewhen', 'cellphonecomputer', 'cleanest', 'oblige', 'peel', 'juboty', 'scratchfree', 'hackable', 'romz', 'batteryjuboty', '7200mah', 'liion', 'tpu', 'n9000', 'n9005', 'n900a', 'n900v', 'n900p', 'n900t24', 'warrantly', 'smartwatch', 'screenourspop', 'watchunlocked', 'gamepad', '8bitdo', 'hdclear', '3pack', 'safestrap', 'emulatorsromsapps', '127', 'refurnished', 'primewire', 'hydrogen', 'peroxide', 'duhhh', 'restrict', 'satisface', 'worthwhile', 'phonephone', 'detach', 'reimbursement', 'eachmy', 'jus', 'rootingjail', 'compay', 'servicekinda', 'againthe', 'vompany', 'circuit', 'exiting', 'tres', 'compradoy', 'encanta', 'móvil', 'uno', 'delos', 'mejores', 'lanzamiento', 'doand', 'heregreat', 'sg', 'rise', 'necessitating', 'resort', 'volt', 'xl', 'reacted', 'errorseverything', 'advertisedbootloader', '2663', 'touchkey', 'fw', 'mismatch', 'crossed', 'smn900t', 'abel', 'octacore', 'newnot', 'immediatelyso', 'perfectlyim', 'sketchdraw', 'dropprotecting', 'atl', 'phoneall', 'timethx', 'phonedose', 'yonatan', 'gotit', 'wantin', 'coz', 'frezees', 'mintue', 'awesdome', 'refuerbished', 'signalworks', 'ownedvery', '3weeks', 'sansumg', 'overseasi', 'satifactory', 'mullan', 'filed', 'endure', 'siding', 'knocking', 'outta', 'icrap', 'blistering', '81217', 'optical', '100x', 'dysfunctional', 'taiwan', 'replica', 'stylo', 'homework', 'thoughgeesh', 'outrageously', 'originall', 'etcafter', 'lolas', 'conditioni', '28g', 'juggling', 'cutabove', 'noname', 'httpswwwamazoncomgpproductb00g197q4mrefcm_cr_ryp_prd_ttl_sol_26', 'ownd', 'syanogen', 'balooned', 'regreted', 'firsrt', 'phonelooks', 'saidperfect', 'ecxellent', 'discredit', 'macafee', 'perfect100', '051515', 'blackand', 'amazingi', 'disgusted', 'convent', 'duh', 'antique', 't109', 'detroit', 'engineering', 'awfulnot', 'shoul', 'adebrethdfvfyk4554', 'hgkhkuiiuyhjk46ythgfjyuyjhgj7867ghtu68uiyii', 'rteytrytruy', 'tytryty', 'trytjhjt', 'khjko8o', 'kjhji76ijhjhgk7o', 'kuyiu', 'uyikuykuy', 'uyik', 'uyiuyiuyi', 'uyui', '30gb', 'joey', 'transcribe', 'shystie', 'twisted', 'saleno', 'inquiry', 'reversed', 'chargeseven', '3900', '830am', '751pm', '4hrs', 'ostonscreentimewith', 'nylon', '9510', 'battery1010almost', 'build810great', '8510', '21mp', 'materially', 'heaviness', 'voltage', 'badboy', 'mash', 'refurbishedrebuilt', 'othe', 'unclipping', 'turbos', 'untalented', 'offdown', 'acid', 'burr', 'dirtdead', 'horizontaly', '109to', '112', '25ghz', '3gigs', 'thy', '200dont', 'sapphire', 'cameravid', 'snatch', 'sunk', 'clicky', 'oneplus', '3t', 'sunken', '3918', 'unglued', 'barebones', 'q1', 'irreversible', 'waze', 'defunct', 'reverse', 'role', 'rollback', 'textssupport', 'motog6', 'dave', 'hungry', 'forgo', 'steel', 'loooong', 'awake', 'defectos', 'ver', 'mensajes', 'reporte', 'reembolsoatte', 'miguel', 'liriano', 'survivor', 'errand', 'neverr', 'turboverizon', 'counting', '112018', 'maxxed', 'volta', 'cellarer', 'defined', 'diverting', 'reconditionedworked', 'scrathes', 'cunk', 'turboit', 'sendsreceives', 'minei', 'statedlove', 'chalked', 'strayed', 'classified', 'optimizing', 'glx', 'kotor', 'rpg', 'pepperoni', 'greas', 'usewhich', 'thatgreat', 'divide', 'cure', 'onalso', 'angled', 'smothley', 'devicelove', '6117', '6217', 'jinxed', 'ancase', 'stanley', 'wellplayed', 'eah', 'diabolical', 'incumbent', 'suboptimal', 'horrifically', 'vwz', 'trubo', 'designflawed', 'slave', 'datedness', 'sour', 'grape', 'fcc', 'respective', 'smugly', 'ultraheavy', 'oversaturated', 'rugid', 'masculine', 'handfirst', 'obnoxious', 'rhe', 'arrivedlooks', 'ringback', 'argue', 'unremovable', 'spazes', 'fot', 'screenicant', 'smoothbacked', 'batterylifecycles', 'alloy', 'ghostek', 'talktime', 'pricier', 'imagining', '30month', 'multiply', 'latestgreatest', 'wired', 'pixled', 'chagrin', 'maxxs', 'bumming', 'sge', 'ax', 'romantic', 'serviced', 'outliving', 'bonk', '10th', 'pointy', '5mm', '100g', 'docked', 'slot64gb', 'crippling', 'soonmy', 'hinting', 'uncomfortably', '6gbmonth', 'clarify', 'erratic', 'timei', 'unsettling', 'conspiracy', 'nitpicked', '605', '125', 'thinkin', 'notifying', 'zap', 'conforming', 'notouchwiz', 'toptier', 'latency', 'hiss', 'boominess', 'chewie', 'basketball', 'ignores', 'verizononly', '1418', 'tenergy', 'tolo', 'longlasting', 'cellcow', 'superficial', 'wearwhich', 'staror', 'nextgeneration', 'transmitted', 'avrcp', 'retturned', 'justice', 'uploads', 'scrarch', 'goodor', 'itcould', 'anyoneand', 'mote', 'buttonswhat', 'grabber', 'eco', 'misplace', 'vell', 'slept', 'humid', 'condensation', 'desert', 'xt1254', 'stockandroid', 'transportation', 'grerat', 'condiction', 'greatnice', 'shatteredwhile', 'deel', 'singapore', 'danke', 'спасибо', 'm9', 'vital', 'httpsforumsmotorolacomposts06a2f3c5cacommentid894021894021', 'learing', 'speedly', 'purchse', 'rusty', 'leak', 'soonersoft', '60day', 'activo', 'upone', 'perfetlyhowever', 'tmoblie', 'cricet', 'reinstal', 'inet', 'emty', 'julyit', 'onno', 'nuevo', 'solo', 'do', 'me', 'después', 'pensé', 'duraba', 'cargadano', 'debe', 'remanufacturafo', 'nowdays', 'needlike', 'e2', 'v44', 'v50', '2390', '5mb', 'journeyman', 'pointing', 'mbps', '410', '64bit', '32bit', 'nonlte', 'standalone', '88', 'benchmarking', '22103', 'chart', 'topper', 'swayed', '12hour', 'phonesee', 'technique', 'smoosh', 'numberone', 'pretentious', 'tbh', 'stuttered', 'minnesota', 'dunno', 'surpringly', 'hw', 'p0wned', 'implies', 'wifiphonegoogle', 'taint', 'conspired', 'purchaed', 'speakphone', '245', 'screenincluding', 'textto', 'realistically', 'runningapp', 'downloadgreat', 'liquidator', 'cmda', 'sprintverizon', 'attcricket', 'stupidly', 'wcracked', 'cousin', 'teléfonolastima', 'pueda', 'actualizarse', 'vaya', 'quedar', '822that', 'tru', 'bettery', 'draing', 'timesit', 'rebuilding', 'almosy', 'thant', 'thd', 'listidn', 'maria', 'schiskin', '9547344423sil', 'mschislinhmailcom', 'disappointmenti', 'mahalo', 'degrades', 'sorting', 'troubling', 'stewart', '634', '15034', 'messy', 'dandy', 'samsumg', 'utill', 'varied', '55inch', 'homebacksearch', 'originating', 'qwik', 'lessgreat', 'miracast', 'uptp', 'npw', 'sirrusxm', 'wort', 'allright', 'glitched', 'oblivion', 'choicevery', 'lifecamera', 'moneyno', 'soundyou', 'buyeven', 'freeworst', 'clie', 'disappearing', 'suction', 'technicolor', 'initiallunch', 'reportedly', 'usedlike', 'exploited', 'likecondition', 'waa', 'equitable', 'ensured', '1amp', 'daunting', 'authenticate', 'nltice', 'craves', 'flashsensor', '3ft', 'sheesh', 'editadd', 'thwir', 'phase', 'vivd', '1in', 'excitedactivated', 'undeliverable', 'db', 'howl', 'loudly', 'howlskinda', 'screechy', 'buzzy', 'screech', 'nics', 'glitchie', 'incase', 'sanity', '2ft', 'bumpertype', 'vulnerability', 'centurylink', 'nighted', 'battling', 'nicaraguan', 'university', 'validates', 'nicaragua', 'neededwanted', 'verge', 'breathe', '51415', 'protectorit', 'lightvery', 'hiatus', 'goodkeep', 'flithy', 'complied', '11th', 'thingsent', 'lastest', 'galax', 'gizmotrader', 'daysand', 'katie', 'systemcheck', 'actiavtion', 'showy', 'nimble', 'loopbattery', 'witun', 'pantech', 'assurant', 'swhw', 'purcashed', 's6s', 'waterproofing', 'wholehearted', 'eek', 'fastcharging', 'ultrahigh', '2560x1440', 'brightest', 'testdrove', 'sputtering', 'react', 'dazzled', 'newly', 'doubletapping', 'clash', 'clan', 'underestimated', 'raindrop', 'fearlessly', 'rainstorm', 'chief', 'triumph', 'andthey', 'at11000', 'landing', 'rainbow', 'ime', 'cite', 'walla', 'mcp', 'appspicsetc', 'itn', 'execute', 'nonedge', 'absolutey', 'juck', 'lifepurchase', 'rawr', 'blinked', 'returnable', 'qualified', 'suggesting', 'teeange', 'appreciates', 'siphoned', 'carcked', 'alil', 'bravo', 'servicei', 'pinched', 's7s', 'scrambling', '1the', 'zapped', 'bugging', '115f', '118', 'obsession', 'gs6', 'expectedworks', 'smartphonebut', 'goodsometimes', 'scuffnick', 'larning', 'deny', 'sensing', '1100', 'condtion', 'kuwait', 'backwill', 'manua', 'seize', 'purportedly', 'exacting', 'snooping', 'encrypt', 'encryption', 'sporting', 'flustered', 'webbing', 'toggling', 'numberscharacters', 'maddening', 'httpwwwamazoncomgpproductb00trg8kgyrefoh_aui_detailpage_o00_s00ieutf8psc1', 'rineke', 'fusion', 'httpwwwamazoncomgpproductb00tj3dza6refoh_aui_detailpage_o02_s01ieutf8psc1', '13th', 'fil', 'extraordinarily', '27insert', 'exploding', 'nailed', 'dependent', '35400', 'dragdown', 'videosbrowsing', '262', '357', 'baffled', 'threeyearold', '239', 'conceive', 'phoneon', 'removablereplaceable', 'quickcharge', 'receivingoutgoing', 'chargei', 'workeven', 'minutethis', 'grrr', 'qualityif', 'scree', 'sarisfied', 'ssi', 'stroking', 'finicky', 'heartrate', 'trapped', 'mag', 'amplifier', 'handier', 'gushing', 'installment', 'faithfully', 'scratchesbut', 'pugnacious', 'iphone6', 'sparkly', 'lv', 'newblack', 'sprung', 'charactersthough', 'gamingvideo', 'websurfing', 'usererror', 'ditto', 'attaching', 'aokdo', 'naked', 'phonecalling', 'redesigned', 'unsurpassed', 'punctual', '91400', 'envying', 'accordingly', 'yaaaay', 'adores', 'bougt', 'batterypowered', 'dyed', 'powerjust', '430', 'pixelated128gb', 'drifferent', 'remainder', 'significance', 'geezer', 'trachone', 'regrettably', 'debut', 'emphasize', '42600', 'inwrong', 'betty', 'momentarily', 'insisting', 'reinserting', 'recognising', 'messaged', 'g920a', 'timetocell', 'disclosed', 'ec', 'nudged', 'offff', 'cobbled', 'ove', 'straigt', 'houshold', 'labeling', '142018', 'critically', 'outlining', 'partly', 'chetted', 'noiseechoes', 'eternally', 'finishing', '1this', 'chargeable', 'purchaseit', 'reimburse', 'toco', 'cambiar', 'recalentaba', 'también', 'hasta', 'dañó', 'pésimo', '3mthsthree', 'upsetcause', 'indican', 'código', 'g920', 'chargethen', 'scarry', 'progressively', 'bcfly', 'portuguese', 'brazilian', 'unprofessional', 'everythin', 'stuttersfreezes', 'smasung', 'ttemporary', 'chinise', 'anther', 'nonunlocked', 'novembernever', 'onhope', 'warrantythis', 's6is', 'workingthe', '6pm', 'apprx', '30minutes', 'winwin', 'mexican', 'tmobiel', '70month', 'serviceor', 'mybe', '197', 'uruguay', 'droppedsat', 'rectify', 'isone', '132017', 'oppsite', 'appart', 'lense', 'dettatched', 'dismay', '473', 'kte', 'gearvr', 'mounting', 'earpods', 'missingv', 'eaglewood', 'pod', 'til', 'credential', 'condion', 'traitor', 'terror', 'stalking', 'my16', 'pretending', 'cleanse', 'textcall', 'grouping', 'ooking', 'passcode', 'blackjack', 'menothing', 'fancybut', 'callsthats', 'mostlyfavorable', 'replacementcame', 'daycare', 'buzzer', 'bobcat', 'beatring', 'topped', 'includedand', 'bluetoothd', 'subscribe', 'harshly', 'norwegian', 'erroneous', 'yearyou', 'kerosene', '2story', 'excavator', 'needit', 'misreads', 'offbrand', 'notfunctional', 'commencement', 'fullcharging', 'squeezed', 'piffle', 'friendlyno', 'sma', 'itetc', 'audiovox', 'cdm180', 'rattle', 'miccamera', 'octane', 'recessed', 'flap', 'foghorn', 'semiloud', 'flashlightvoice', 'discontinue', '7118', 'rape', 'dairy', 'tw', 'amazingjust', 'regulation', 'onejust', 'notsosmart', 'asdvertised', 'vorwiless', 'dialtone', 'grieve', 'wacked', '170', '97', 'weaned', 'endures', 'spree', 'wannabe', 'nondescript', 'fuddy', 'duddy', 'hookup', 'schu680', 'june18', 'gaze', 'f19', 'apperature', 'browsingday', 'onereturning', 'nrtwork', 'scoured', 'phonecame', 'conditionmetro', 'hometown', 'productill', 'aril', 'bios', 'alsothe', 'endverizon', 'numbergreat', 'rightwrongphone', 'awarebe', 'hinkey', 'enquired', 'disingenuous', 'truthful', 'debugged', '2017approximately', 'notbuyers', 'rug', 'titled', '11th2018', 'whilst', 'scorching', '3day', 'kmffffttt', 'refundo', 'recompense', 'powercase', 'whim', 'vulkanonly', 'ark', 'inactivehide', 'sooooooooo', 'timeframe', 'cheapish', 'viceversa', 'incidence', 'deoesnt', 'thiseverything', 'intolerable', '3star', 'productseller', 'mths', 'october2017', 'finesse', 'cruelty', 'remodel', 'sellong', 'succesfull', 'titledescription', 'deviceworks', 'vivo', 'pais', 'funcionó', 'algunos', 'dia', 'pide', 'ingrese', 'operadora', 'informa', 'robado', 'razon', 'bloquearon', 'debo', 'pedir', 'reembolso', 'excelllent', 'avant', 'botton', 'battary', 'defectuoso', 'aumentar', 'volumen', 'escucha', 'vibración', 'molesta', 'cual', 'poner', 'determined', 'registeringused', 'sprintreturning', 'agreeable', 'headline', 'ineffecient', 'quicklyeverything', 'finethe', 'tottsly', 'pedro', 'sbout', 'alway', 'callsi', 'completelystopped', 'rompió', 'connceted', 'talkingkeeps', 'updatesthen', 'properlyso', 'emblem', 'diedto', 'spoilt', 'trae', 'ranura', 'aa', '452017', 'assisting', 'belive', 'triped', 'bourght', 'flame', 'attsoftware', 'runing', 'justa', 'odin', 'scae', 'recell', '6920a', 'chargerestart', 'buti', 'preconfigured', 'residue', 'monthi', 'occupies', 'aboutique', 'moble', 'itif', 'unrepairable', 'slowincorrect', 'excellentgreat', 'semilocked', 'nextnewest', 'chargesave', 'dil', 'desconected', 'quizás', 'quisiste', 'presenta', 'inconvenientes', 'italycame', 'tamper', 'sealsone', 'agrado', 'venía', 'sealedhowever', 'bottomwhich', '758', 'laterwithout', '30so', 'fasthowever', 'bookbattery', '12i', 'longso', 'infor', 'daythe', 'againjust', 'olf', 'okthats', 'problembut', '41318', 'goodonly', '5hrs', 'usageand', 'heartbroken', 'spazz', 'flushed', '31900', 'rn', 'descending', 'ro', 'snd', 'actualmente', 'bloqueo', 'funcionamiento', 'tratarse', 'diddnt', 'ztime', 'cellularprofessors', 'despego', 'parte', 'atrás', 'sirvió', 'nomás', 'opended', 'hahaha', '30000', 'supportive', 'htowngadgets', 'ontried', 'spreading', 'offrestart', 'originalif', 'portugues', 'httpswwwamazoncomdpb00x2zq5rmrefcm_cr_ryp_prd_ttl_sol_0', 'develeper', 'repare', 'terebel', 'berth', 'oversis', 'onlayen', 'embedded', 'experiemce', 'withing', 'latee', 'being', 'devastated', 'niice', 'bocinas', 'internas', 'funcionan', 'becauce', 'xt1526', 'greaternorth', 'austin', 'camaras', 'httppdadbnetindexphpmspecsid7736csprint_moto_e_2nd_gen_4g_tdlte_xt1526', 'pixelating', 'inaudibletime', '3in1', 'pushtoeject', 'jamming', 'dipped', 'shoe', 'leasing', 'trailer', 'soundnaturally', 'bloatwear', 'timesday', 'swelled', 'broadened', 'seasoned', '6hr', 'dissatisfaction', 'highlevel', 'reflashed', 'ubreakifix', 'virtue', 'wipedout', 'reflash', 'buckleup', 'graphically', 'blindly', 'sikksound', 'buzzed', 'ultimatly', 'rocked', 'anticipating', 'celluarprofessor', 'initialization', 'unicorn', 'beetle', 'runaway', 'camo', 'mahs', 'baught', 'worsen', 'inactive', 'rearing', 'welder', 'shipyard', 'workslooks', '33rd', 'frontno', 'whacky', 'shortotherwise', 'cameraetc', 'refurbd', 'proofness', 'undocking', 'hotboy', '25000', 'automotive', 'screnn', 'boasting', '113019', 'weakened', 'covercase', 'curb', 'skidding', 'sidewalk', 'potentiallyexplosive', 'slid', '18900i', 'rinse', 'peter', 'photographed', 'defectivescreen', 'duncked', 'sanitizer', 'germ', 'manwhat', 'bithes', 'roombut', 'bucksfor', 'disconnecting', 'ben', 'loveeee', 'misgiving', 's5active', 's7active', 'keeper', 'spoty', 'towered', 'mesonyt', 'bland', 'dispersion', 'issueschoosing', 'androidme', 'mirrored', 'telecomm', 'e6553', 'e6533', 'centered', 'aprt', 'sd810', 'extrem', 'sonys', 'calorie', 'zr', '123', 'ust', 'z3z4', '6553', '22th', 'z2', 'leastnot', 'unbearable', 'stamen', 'pour', 'reasson', 'overpass', '65c', 'versiongreat', '207', 'complement', 'intensively', 'itbrand', 'takesa', 'marshmallowlatest', 'disperse', 'priv', 'privs', 'beautifulthe', 'deletedisable', 'harmonious', 'g920t', 'pearl', 'shed', 'dangerously', 'anniversary', '1800samsung', 'phonecharger', 'utilizing', 'subsequently', 'externally', 'lightening', 'worklooked', 'droppingthe', 'samantha', '36months', 'entreteimen', 'amazone', 'sime', 'vvisibl', '4900', 'loststolen', 'promt', 'familymobile', 'eletronics', 'manufactur', 'finer', 'reconized', '38900', 'screenphone', 'securityand', 'addon', 'flaky', 'whatevers', 'posed', 'suspected', 'dayssamsung', 'authorize', 'di', '5days', 'casemate', 'fleck', 'scaling', 'stride', 'ruled', 'opting', 'factored', 'leverage', 'functionaility', 'timed', '3045', 'boarded', 'vsfunctionality', 'appsweb', 'debatable', 'supplemental', 'troubleshooted', 'overbearing', 'beneath', 'discretely', 'educate', 'subsystem', 'aw', 'interweb', 'caseand', 'lookslike', 'hesitated', 'siteunseen', 'tiem', 'phonegood', 'batteryspeakerno', 'biggs', 'grate', 'sofar', 'headturner', 'qualityturned', 'verizoncompatible', 'impressivejust', 'loosely', 'deciede', 'oroginals', 'shty', 'bruised', 'wks', 'null', 'shocker', 'sellerpriduct', 'arad', 'heaver', 'tuve', 'regresar', 'pudo', 'conectar', 'compañiatelefonica', 'pertenecia', 'sprintthe', 'edged', 'backward', 'spigeon', 'goodlooks', 'notepocketbomb', 'clung', 'leaping', 'counseling', 'emailtextcalls', 'soundcloud', 'leeched', 'multitasker', 'mansized', 'mitt', 'cramped', 'eloquent', 'fervor', 'lush', 'vibrancy', 'bestest', 'wordz', 'newnew', 'haiku', 'eternal', 'vacant', 'blip', 'caligulain', 'deemed', 'expression', 'bountiful', 'hopeful', 'remnant', 'redcell', 'cubic', '335', 'cricked', 'expended', 'furbished', 'sewing', 'plier', '2x2', 'rtac68u', 'popout', 'nuf', 'easiestfastest', 'monthformonth', 'leasepurchase', '31month', 'thegizmotrader', '55month', 'whod', 'topleft', 'qad', 'flatscreened', 'asynchronous', 'melting', 'module', 'now', 'accidentaly', '245hrs', 'kohl', '70which', 'topshop', 'peck', 'likenonremovable', '23rds', 'preparation', 'puncturing', 'lodged', 'phineless', '165', 'ariginall', 'desperately', 'slam', 'dumbest', 'replied', '26th', 'txts', 'creature', 'flute', 'reactive', 'recalled', 'hoursalthough', 'unopen', 'detriment', 'upthe', 'note5', 'notoriously', 'smut', 'willbe', 'despised', 'graphite', 'ntofications', 'fromthis', 'workon', 'knowyoure', 'sinceraly', 'scraches', 'arival', 'rumored', 'beacause', '53900', 'aug', '1440', '539', 'flake', 'slash', 'watchvdj8_qbj1dpq', 'iris', 'translator', 'magnify', 'gif', 'creator', 'folio', 'duo', 'rocketek', 'temperedglass', '25d', 'scratchex', 'purposefully', 'alls', 'principali', 'uggh', '23400', 'telecommunication', 'overloading', 'eyecatching', 'wad', 'accompanied', 'reasived', 'remobile', 'selle', '20days', 'niddle', 'whoop', 'zbfatima', 'newverizongsm', 'chunkof', 'selfish', 'ideology', 'yolo', 'trabajando', 'bastante', 'unplanned', 'useactivated', 'conditionwith', 'o2', 'technologyturns', 'switiching', '31317', 'ino', '20month', 'ggv', 'wicked', 'excitedbeyond', 'expectationpositive', 'qith', 'risking', 'problm', 'ubicar', 'estado', 'acuerdo', 'esperado', 'scratchesq', 'samusung', 'coatedthe', 'phoneexcellent', 'themtrying', 'ifwhen', '126', '3050', 'protectorthis', 'submergeddont', 'foi', 'descontado', 'meu', 'cartão', 'crédito', 'valor', 'deste', 'telemóvel', 'ma', 'não', 'recebe', 'considerada', 'segundo', 'myus', 'uma', 'mercadoria', 'perigosa', 'gostaria', 'ou', 'reaver', 'valores', 'um', 'outro', 'produto', 'equivalente', 'posso', 'g920p', 'platium', 'sprit', 'vendido', 'patnersquantidade', 'saasiiyo', 'pelicula', 'vidro', 'protetor', 'capa', '03mm', 'coque', '________________________________________________________________________________________________________________', 'recover', 'patnersquantity', 'yeslove', 'newthanks', 'homo', 'sapiens', '1ft', 'wothout', 'monthandahalf', '450600', 'snowboarding', '12000', 'pawn', 'greal', 'waite', 'verizonthe', 'cantbut', 'preopened', 'productservice', 'crevasse', 'disaapointed', 'narrower', '100gb', 'srry', 'requestedordered', 'blacki', 'glitchessoftware', 'frayed', 'gingger', 'prins', '256gb', 'hmm', 'shrinkwrapped', 'honored', '64g', 'isand', '128g', 'maxing', '96000', 'ibjust', '70000', 'hesitantly', 'beefed', 'ptotection', 'f20', 'deploy', 'cheese', 'writes', 'ame', 'wull', 'againso', 'exynos', '7420', 'octa', 'zippier', 'folding', 'draping', 'genious', '3000mah', '3220mah', 'butits', 'opersoperating', 'pasting', 'scandisk', '256g', '9600', 'ipadwhich', '6700', 'monthsso', 'offs', 'uodate', 'doubtful', 'rejected', 'imply', '568', 'crackedim', 'reliant', 'j7v', 'distinction', 'belly', 'lft', 'correctivechange', 'depicted', 'manualsvideos', 'wearable', 'gummy', 'featuresthis', 'afc', 'copious', 'note7s', 'loadedloadedlow', 'memorythrow', 'knix', 'prpbably', 'chargingwireless', 'leo', '35000', 'abd', 'breakingup', 'crao', '34th', 'ironic', '550', 'emoji', 'oversees', 'pieceno', 'descibe', 'proclamation', 'oftentimes', 'transiently', 'describedhad', 'amazonit', 'note7', '300am', 'courier', 'screeneven', 'pressured', 'owing', 'returnung', 'newicant', 'workat', 'nonrefundable', 'vedio', 'centernow', 'previewed', 'noticable', 'produckt', 'kool', 'nougat', 'purist', 'phoneoh', 'fasting', 'ahh', 'lovvvvvvvveeeeee', 'hairlinecrack', 'x1', 'stt', 'byebye', 'quantico', 'j5', 'continental', 'washington', '123115', 'setupuse', 'itnothing', 'nightsat', '220v', 'zambiainternational', 'spirit', '800mb', 'reside', 'transfered', 'handmade', 'jewelry', 'sine', 'telefónico', 'memoria', 'pequeña', 'caucus', 'overrode', 'fareverything', 'nighmare', 'waching', 'chasis', 'aluminio', 'harassed', 'undeletable', 'limitacion', 'httpswwwamazoncomsamsunggalaxyj5smartphoneinternationaldpb014gcg150refsr_1_1swirelessieutf8qid1469458904sr11keywosamsung', 'smj500hds', 'goldrdssamsungj5unlocked', 'recharger', 'occupied', 'familyshe', 'harddrive', 'refrigerator', 'restoring', 'failling', 'memoryit', 'cousing', 'latinoamerican', 'thouth', 'firts', 'langisht', 'enoght', 'calaxyj5', 'smj500hemotional', 'alvaro', 'prada', 'simcarddont', 'maintenance', '6gbs', '5megapixel', 'photosvideos', 'irked', 'dastardly', 'receieve', 'unpack', 'embroided', 'barbados', 'exceptio', 'recognise', 'producti', 'americaplug', 'wellthinking', 'gaahbage', 'freagin', 'pony', 'httpswwwamazoncomdpb014gcg1berefcm_cr_ryp_prd_ttl_sol_0', 'tus', 'unexpensive', 'trustly', 'shel', 'lycatel', 'oitside', 'phonewith', 'greatvery', 'functionsthe', 'adaptercharger', 'liveother', '13megapix', 'thahks', 'exito', 'depleting', 'mum', 'guyana', 'buenisimo', 'drip', 'bled', 'woken', 'imnlate', 'teal', 'backdrop', 'habebhad', '16499', 'agoso', 'caribbeanstlucia', 'cardswas', 'lagtime', 'appsnpr', 'lineand', 'jetblue', 'airline', 'duel', 'practique', 'beatiflor', 'grea', 'ti', 'ast', 'chile', 'turkish', 'internaly', 'manipulated', 'goob', 'leakage', 'betterthe', 'sucksdont', 'themthe', 'blutooh', '15gb', 'repose', 'removale', 'disposed', 'j3', '7717', 'exhorbitant', 'aming', 'pleasently', 'curiosity', 'uggghhhh', 'supportthese', 'battled', 'acclimate', 'optionsapps', 'patching', 'excluding', 'servicewish', 'momits', 'useworks', 'romania', 'optionssettings', 'inert', 'john', 'pertinent', 'addressas', 'jokemaybe', 'butmany', 'lac', 'perpect', 'rocksno', '35hours', 'defenitly', 'nepal', 'perfeito', 'timesi', 'inovation', '16gbhowever', 'runninguntil', 'waaay', 'needsim', 'shedload', '93', 'tamagotchis', 'grabbing', 'campatble', 'wisely', 'teenegers', 'buyed', 'sneakily', 'greif', 'beforebut', 'phonetvcomputerday', 'planercolor', 'bookcant', 'companyforget', 'takin', 'youe', 'temperd', 'thay', 'checklist', 'confirming', 'protrusion', 'protrction', 'squeal', 'activrly', 'pasted', 'receivingwont', 'verywell', 'defectivekeeps', 'sratches', 'pedido', 'productfast', 'orderedthanks', 'lgk20', 'squeasy', 'peasy', '6series', 'envious', 'molasses', 'workig', 'unlockedbut', '1527', 'otherwisemega', 'edevices', '14910', '29900', 'christ', 'wowwww', 'conoatible', 'assumes', 'protocol', 'equiped', 'gorrilla', 'wifietc', '1stars', 'pinkbut', 'menber', 'moded', 'unbreakable', 'positioned', 'entregan', 'devuelven', '4600', 'productvery', 'streaking', 'gambling', 'chargingupdate', 'gambled', 'exponential', 'juuuuuussssstttt', 'suspending', 'gratification', 'dialup', 'zen', 'suspense', 'sellerso', '2263', 'economics', '870', 'mnvo', 'disheartening', 'decoded', 'presently', 'liberia', 'downhearted', 'workcant', '850', 'briefcase', 'generated', 'iemi', 'desapoint', 'immediatley', 'concoction', 'welldesigned', 'tolerated', '8913397252222235835', 'relax', 'camerawhich', 'trouser', 'torch', '27299', 'trimet', '2007', 'hightechnology', 'microsoftnokia', 'rumor', 'threaded', '112017', 'candybar', 'snake', 'hitech', 'alphanumberic', 'gasp', 'poland', '5yr', 'morelocale', 'trad', 'galaxyworking', 'daddyo', 'rotten', 'itwhat', 'updatenow', 'paypal', 'youtubed', '218', 'doubled', 'midsentence', 'replacementbackup', 'qc', 'splotch', 'oclock', 'verizon4', 'dreading', 'bubbling', '1229', 'textthe', 'brush', 'turbo2', '260', 'motorala', 'frickin', 'duly', 'happierthe', '1yr', 'heatingcan', 'scuffed', 'minuteswas', 'retrun', 'loosebroken', 'againunfortunately', '31800', '04192017', 'prep', 'steak', 'blood', 'impacting', 'survivability', 'curvature', 'florescent', 'buttonhole', 'exverizon', 'proclaims', 'calibur', 'powerfull', 'knack', '285', 'shatterproof', 'vudu', 'microsaudered', 'onset', 'gut', 'allfast', 'monthsim', 'chargerthey', 'analysisthe', 'counterfeittheyre', 'trayand', 'stripe', 'zach', 'morris', 'spit', 'kelly', 'cynthia', 'pratt', 'nonmotorola', 'droppedor', 'appeareddisappeared', 'scarringbox', 'sparkling', 'featurerich', 'outermost', '1117', 'wholesale', 'untrue', 'grunge', 'putin', 'lowvoltage', 'lip', 'facescreen', 'newphone', 'atomic', 'ut', 'theie', 'scannerturbo', 'tearing', 'rekindled', 'parner', 'chriss', 'grrrrrr', 'warp', 'solidified', '160ish', 'asadvertised', 'graininess', 'unsteadiness', 'looped', 'audacity', 'supersaturated', 'cloned', 'imeidoes', 'aaaaa', 'featurestakes', 'pictureslove', 's111', 'fiery', 'ban', 'borrowed', 'greatphone', 'grading', 'singal', 'bluetoothed', 'speedometer', 'doesits', 'flattering', 'alto', 'mumbojumbo', 'dread', 'polished', 'glide', 'weekly', 'weeksif', 'alrighthad', 'mfr', 'oredy', 'staticy', 'aquous', 'ibthink', 'nexr', 'asf', 'productgood', 'pricehighly', 'conditionmust', 'farwell', 'piecei', 'misconception', 'purest', 'uglylooking', 'protecting', '649', 'dslrquality', 'd40', 'designsize', 'lana', 'archer', 'gargantuan', 'httpwwwphonearenacomphonessize', 'concede', 'gushed', 'muffle', 'powervolume', 'analyze', 'effecting', 'cableadaptor', 'onehundred', 'usbc', 'reversible', 'amplified', 'addons', 'animation', 'glitchless', 'populace', 'nexusonly', 'harmony', 'lagfree', 'topclass', 'nighttime', 'contend', 'lego', 'encryptionvpn', 'inhome', 'topoftheline', 'cameramicscanner', 'moonshine', 'launchericon', 'analyzing', 'indicative', 'badold', 'simplly', 'cropping', 'photosphere', 'modeling', 'bandwidthfrequencies', '5600', 'initated', 'rme', 'puerto', 'rico', 'bootloop', 'loaner', 'fiasco', 'unsolvable', '8885482934', 'stance', 'crimpingbending', 'reattach', 'dah', 'receptionist', 'retrained', 'coordinate', 'whiskey', 'anythingfor', 'worksi', 'memoriesill', 'plusthis', 'phonereported', 'suspended', 'copilot', '200gb', 'desribed', 'executed', 'dji', 'mavic', 'waterlogged', 'newborn', 'brokenhearted', 'deffender', 'presto', 'apt', 'differentiate', 'whacked', '300500', 'replay', 'cranked', 'mishandled', 'droping', 'eleven', 'тор', 'wroks', 'vídeo', 'toma', 'pausadomala', 'conpletely', 'newcame', 'quickworks', 'greathighly', 'recommendno', 'regalo', 'hw050100u1w', 'ascend', 'y320', 'cwntral', 'warenty', 'wprks', 'retouch', 'ray', 'conditionbrand', 'aftet', 'heresad', 'succumbed', 'frustrates', 'unresponsiveness', 'luuki', 'softwarebut', 'updatable', 'hotspottethering', 'versionand', 'hilary', '3400mah', 'coding', 'idont', 'drug', 'war', '5v', 'husdands', 'referbished', 'pirate', 'refurbishers', 'terminology', '000', 'maxxmaxx', 'hdand', 'toughreliable', 'lineage', 'premature', 'hesitates', 'batty', 'worththe', '70battery', 'badworst', 'unreasonably', 'prowl', 'smn920t', 'nonexpandable', '2560', '21ghz', '74205', '16megapixel', 'magnifier', 'pout', '20x', 'bcarefuk', 'warrantyhad', 'upvolume', 'forun', 'od', 'sinch', 'powerd', 'trashproduct', 'faceing', 'liberado', 'otro', 'afica', 'goso', 'timr', 'downfalli', 'stylis', 'tripped', 'peal', 'funcionaba', 'tare', 'gonig', 'maroon', 'nonreplacable', 'fotos', 'excelentes', 'maltrato', 'nota', 'uso', 'segunda', 'mano', 'shotty', 'gs7s', 'whomever', 'conducting', '12018', '21619', 'doubling', '121818', 'income', 's10e', 'heartache', 'vitalli', 'unrepeatable', 'delamination', 'adhered', 'bracket', 'nonauthorized', 'disqualifies', 'crapshoot', 'nonrefurbished', 'nonused', 'nonreturned', 'triangle', 'datafactory', 'boxed', 'mortar', 'crawl', 'prolonging', 'reputability', 'publisher', 'programmer', 'hackup', 'consectutive', 'corp', 'reconditionedrefurbished', 'sugested', 'thingshe', 'consecutive', 'imprinted', 'tipped', 'southeast', 'conveinient', 'jeweler', 'uesd', 'nonworking', 'mispelt', 'callbest', 'temptation', 'establish', 'depreciation', 'cheapbut', 'danger', 'gashmajor', 'oreo', 'probally', 'ownedbut', 'catrier', 'reverify', 'vg', 'excange', 'sleaker', 'edd', 'batched', 'wellpackaged', '62016', 'impressing', 'rapido', 'tambien', 'ligero', 'peso', 'recgarging', 'conditionexcellent', 'kmt', 'frezzes', 'walkin', 'persistedand', 'unloacked', 'linealthough', 'frig', 'itselfits', 'placeit', 'lawnmower', 'bleed', '1030', 'eastern', 'eric', 'recells', 'arguing', 'haggling', 'buybackworld', 'severely', 'itsee', 'compable', 'nopay', 'minisim', 'minisd', 'abut', 'weatherproofing', 'strogest', 'usedand', 'repacked', 'speakermic', 'sx', 'expending', 'remplace', 'permanantly', 'revived', 'sooooooo', 'standbye', 'aroun', 'thoough', 'hundredrs', 'thme', 'esin', 'disorganized', 'implication', 'shockingly', 'notbut', 'toohigh', 'warmhot', '37500', 'chromeit', 'miswired', 'antifingerprint', 'reviewif', 'jk', 'consternation', 'labelled', 'decreased', 'qqq', 'caseglass', 'lifefproof', 'fre', 'tick', 'turret', 'vailum', 'crackle', 'supcase', 'nonfunctioning', 'nonreactive', 'squaretrade', 'copay', 'dire', 'anywayalthough', 'somethinganythingout', '6090', 'workpersonal', 'buynowcell', 'mccoy', 'same', 'howeverthe', 'describednew', 'obscene', 'cheapies', 'wierd', 'gettting', 'strobe', 'workgot', 'esnimei', 'stitching', 'privi', 'storefront', '270', 'greatbattery', 'crudity', 'allout', 'arriver', 'cracker', 'geographic', 'bose', 'choppy', 'bothback', 'necessitated', 'hating', 'previouslyopened', 'fraudulently', 'debug', 'renaming', 'swearing', 'fixable', 'deviation', 'righty', 'nearer', 'splitting', 'rogue', 'inline', 'notwithstanding', 'redial', 'internation', 'accompany', 'refinement', 'alwayson', 'chockfull', 'doublepixel', 'rapidfire', '12m', 'falsestarts', 'videoing', 'framing', 'doublepress', 'owes', 'ne', 'bargin', 'greeter', 'queue', 'adveertised', 'sonya', 'brave', 'transponder', 'dismal', '33mo', 'yippee', 'ssd', '128gbwow', 'shard', 'touted', 'moot', 'fragility', 'easeofuse', 'aggravates', 'shinier', 'stalemate', 'outpouring', 'upgradeand', 'zenfone2s', 'raze', 'overstated', '817', 'appsmultitasking', '915', 'nov25th', 'submerge', 'dec82016', 'buttersmooth', 'unreservedly', 'denies', 'offender', 'smear', 'dickens', 'succumb', 'appallingly', 'flatly', 'testimony', 'contrasting', 'tanked', 'uselesslucky', 'waitingand', '31219', '899', 'risky', 'complainive', 'preferably', 'discolored', 'glitchphone', 'omen', 'abhorrent', 'curl', 'binary', 'frp', 'harka', 'origional', 'chubbiestech', 'installed2', 'whatrooted', '64gbit', 'errorit', '32gbthe', 'brokei', 'v20', 'fastlike', 's9', 'cport', 'cube', 'forking', '1gps', '24ghz', '5ghz', 'saturation', 'ea', 'boohoo', 'tgis', 'het', 'intracasies', 'polaris4', 'deletes', 'descibed', 'cycling', 'activatetion', 'woth', 'speechless', 'photographic', 'foray', 'malfunctioningbroken', 'accually', 'buyspry', 'safest', 'transction', 'complimentary', 'sporadicso', 'electonic', 'credible', 'ironically', 'accusing', 'identity', '1k', 'doomed', 'swindled', 'negated', '7617', 'nonoem', 'mywit', 'aha', 'oomf', 'diy', 'notificationsmultiple', 'widgetsetc', 'rosegold', '74gb64', 'malware', 'lingers', 'psyche', 'uptopar', 'peek', 'statistic', '30usd', 'crappie', 'didnteven', 'handsome', 'riddled', 'prominently', 'partnered', 'expectedthe', 'fargood', 'pago', 'egde', 'recibo', 'rose', 'thepowersellers', 'appsbloatware', 'bater', 'wayyyy', 'stringent', 'detracted', 'olleh', 'tdlr', 'xtreme', 'g930a', 'condemning', 'strikethrough', 'gambler', 'torture', 'unbox', 'tamperedrefurb', 'atch', 'forged', 'presshold', '930a', '930t', 'frugal', '42018', '062918', 'sidescorners', 'beforei', 'lectrotronic', '1991', 'extraneous', 'sourced', 'sliver', 'reflecting', 'dudnt', 'absent', 'domestic', 'intl', 'whith', 'sucess', 'endded', 'blot', 'howeverthis', 'jd', 'electronicz', 'reserching', 'jought', 'notfdsapointed', 'sneeeeeaking', 'bulgedexpanded', 'glasscover', 'userreplaceable', 'samsungsupplied', 'coincidence', 'absoulelty', 'aan', 'argh', 'discard', 'lifei', 'wouldit', 'drink', 'señal', 'aveces', 'casi', 'escuchan', 'reformed', 'decepcionante', 'asajwireless', 'planninh', 'januario', 'kiendo', 'increible', 'substantially', 'brease', 'ótimo', 'factually', 'unconditional', 'yoy', 'eill', 'bello', 'ante', 'perfecta', 'contenta', 'inversion', 'firt', 'intonthe', 'compatibleneed', 'blurb', 'experttechs', 'agota', 'penas', 'horas', 'etiqueta', 'seguridad', 'caja', 'tel', 'olle', 'bosinas', '1820', 'hrsit', 'estafaron', 'unbranded', 'cellular4less', 'cellstopshop', 'geekbenched', '2400', '5300', 'combusts', 'unstuck', 'ubbles', 'cammera', 'appsthe', 'expectedi', 'hoursa', 'timehowevergood', 'sizesharp', 'colorin', '27gb', 'satisfièd', '247so', 'discrepancy', 'schultz', '12417', 'sorely', 'purchaser', 'batteryhave', 'everynight', 'haze', 'baitandswitch', 'ferocity', 'entrenched', 'preinstall', 'flavored', 'cumulatively', '2530', '6575', 'reconfigure', 'terminate', 'shtuff', 'marshmallownougat', 'midfebruary', 'attsamsung', 'exhaustion', 'dramatically', 'autobattery', 'focal', '180px', 'rcs', 'smiley', 'wisdom', 'adoptable', 'transparently', 'haphazard', 'asside', 'subjective', 'elephas', '93068', '64128gb', 'ichat', 'iwhatever', '4700', 'staggering', 'stabilizer', 'smove', 'kickstarter', 'delicious', 'unforgivable', 'cabke', '5pin', 'adaptor', '620', 'shoved', 'hardearned', 'splintered', 'splintering', 'squishing', '930f', '930u', '930d', 'switcher', 'plasted', 'givelow', '7with', 'goodit', 'unlockafter', 'itauthorized', 'raipit', 'butthat', 'allphone', 'solvedavoid', 'onein', 'openionsamsung', 'ahmad', 'titanium', 'applying', 'g930t', 'wok', 'succession', 'ublock', 'chacking', '2battery', 'diffrence', 'costbenefit', 'startand', 'zerolemon', 'usean', 'thes7', 'meme', 'spicy', 'doomsday', 'honeymoon', 'checkout', 'androidwear', 'attbranded', 'marshmellow', 'hasseling', '310', 'shortest', 'escalate', 'sizing', 'foggy', 'usbcharger', 'sdsim', 'summery', 'prebuilt', '480', 'pureno', 'twrp', 'yetbattery', '55000', 'adware', 'disconcertedly', 'perexisting', 'somethingorother', 'g930u', 'unwrapped', 'servixe', 'bitterroot', 'dealthis', '235', 'oxygen', 'caka', 'fullbody', 'sham', 'excitedly', 'confettilike', 'reminiscent', '3pm', '1pm', 'nonbusiness', 'monfri', 'employ', 'camerapicture', 'droppinglosing', 'interanl', 'sandra', 'tatum', '7192017', '092416', 'hoe', '112616', 'smg935f', 'samsungyateley', 'gu46', '6gguk', 'danged', 'doesthe', 'fluency', 'pesky', 'arab', 'emirate', '8890', '4x26', '4x16', 'mali', 't880', 'gourgeus', 'twar', 'dubai', 'guessed', 'encouraging', 'kindly', 'epitome', 'obsolescence', 'warrantynow', 'globe', 'ofie', 'frustation', 'prepackaged', 'samsunggoogle', 'xynos', 'somy', 'aukey', 'workas', 'whiting', '13now', 'outcan', 'returnthank', 'kno', 'extral', 'detials', 'bi', 'eim', 'ache', 's7edge', 'g935f', '930v', 'smg935v', 'fgs', 'chasing', '624', 'uncooperative', 'comentario', 'smg935u', 'smg935a', 'g935u', 'imputs', 'nottoogreat', 'rejection', 'phonethus', 'ps4', 'uae', 'ueropean', 'coded', 'lifeline786', 'convertible', 'lyncskype', 'doux', 'ta', 'egypt', '617', 'manuel', 'screenguard', 'painatleast', 'responsability', 'alvin', 'ejector', 'glitxhing', 'stopso', 'untile', 'sailer', 'comapnies', 'everithings', 'recommendable', 'caseology', 'phonewas', 'obtaining', 'countrywhat', 'rican', 'moviestar', 'wbroken', '4x4', 'mimo', 'deployed', 'trinidadsouth', 'abnd', 'bedore', 'whithin', 'nicenice', 'doen', 'deduct', 'woahhhhh', 'encanto', 'shure', '24hr', 'slowest', 'enveloped', 'foneever', 'closedhow', 'latethen', 'fastill', 'boxwasnt', 'shippingwarehouse', 'chargingwater', 'resistanti', 'offi', 'neutral', 'batteryit', '845am', 'foreignmy', '12518', 'modelexynos', '32gbabout', '2728gb', 'lawnchair', 'problemkinda', 'planed', 'inspired', 'poem', 'puntos', 'goodgood', 'translucent', 'productim', 'adaper', 'lint', 'bettary', 'dissopointed', 'useunexpectly', 'offthen', 'weirdjust', 'freight', 'forwarderi', 'servicing', '1119', 'vin', 'allday', '66s7', 'featuresa', 'swath', 'sf', 'tormented', 'surpirsed', 'gimicky', 'cursing', '02032016', 'joylink', 'bonkers', 'vrs', 'ghostarmor', 'contour', 'casesamsung', 'badcamera', 'apeared', 'pls', 'yelloworange', 'espected', 'consent', 'voiding', 'arbitrarily', 'excellenge', 'bruno', 'acomplished', '23th', 'moremy', 'himtryend', 'buttoms', 'combinationsbut', 'nothingso', 'paybefore', 'turner', 'experiencie', 'sati', 'consistenly', 'restaring', 'unbreakle', 'flor', 'borthday', 'distributed', 'unexaptable', 'leggy', 'mony', 'workes', 'sweden', 'nack', 'edgeit', 'upsetit', 'usedso', 'init', 'reconnects', 'z5', 'doubly', 'anxiously', '6weeks', 'turkey', 'latino', 'entrance', 'breaked', 'passing', 'sa', 'shaid', 'youtubeesque', 'hijri', 'chipset', 'gpe', 'continuing', '6p5x', 'noncircular', '545am', '903pm', 'dpi', '482016', 'gopro', '4102016', '592016', 'gfx', 'smoothness', '7252016', 'emojis', 'commenters', 'mainboard', 'costand', 'gothams', 'supposely', 'topnocth', 'oman', 'keybaord', 'saferecovery', 'materialism', 'arise', 'wondrous', 'irremovable', 'ramadan', 'luxe', 'accordance', 'shariah', 'g935fd', 'jun', 'imperseptible', 'shapelike', 'bookmanual', 'includedoh', 'getfind', 'exceptable', 'covershield', 'tride', 'adhere', 'piggyback', '78mbps', 'throttled', '022117', '2030min', 'bermuda', 'itas', 'carddone', 'corresponds', 'lucki', 'putted', 'sl', 'phonelike', 'notting', 'garbagenever', 'averageits', 'diffivult', '717', 'tryboig', 'hotter', 'itinternet', 'gat', 'internationalunlocked', 'muslim', 'hastle', 'dudd', 'frst', 'oily', 'dope', 'maracaibo', 'stupidlike', 'san', 'francisco', 'ukstyle', '3pin', 'inflexible', 'childish', 'highlypolished', 'commendable', 'sweeping', '3500mah', 'userbase', 'capacious', 'svelte', 'slap', 'torrential', 'downpour', 'puck', 'readd', '935f', 'firmwarelocality', 'derived', 'glorious', 'deviceswith', 'nexused', 'bearly', 'october16', 'octuber16', 'january17', 'smartphonei', 'diagnosed', 'taht', '935fd', 'lineageos', 'cm15', 'wolfson', 'ggl', 'elongated', 'rosy', 'champagne', 'harmed', 'beautifulthough', 'eveything', 'marvellous', 'stiill', 'xz', 'inconvene', 'latam', 'reparared', 'withbut', 'onlinebut', 'pug', 'countriesa', 'wandering', 'enen', 'willkommen', 'configures', 'sttrange', 'conectors', 'conserned', 'whe', 'lab', 'sore', 'graffiti', 'awareness', 'excellentthank', 'wonky', 'ole', 'mabell', 'annoy', 'sluggishness', 'ghanathat', 'thecoos', 'oynx', 'smoke', 'guaraanted', 'onyx', 'sensitvity', 'converter', 'leaflet', 'teather', 'goodloving', 'phonegenuine', 'fel', 'sellerand', 'jaja', 'writer', 'costeffective', 'optimo', 'httpswwwamazoncomdpb01cju9bbmrefcm_cr_ryp_prd_ttl_sol_0', 'repai', 'signle', 'battrie', 'chargeing', 'patently', 'screechingstatic', 'synchronizing', 'prosfor', 'conthere', 'pleasent', 'minuet', '3stars', 'decluttr', 'ethic', 'navy', 'onlybia', 'portal', 'cheat', 'prompting', 'motorolaliked', 'timeexactly', 'smg920a', 'smg920p', 'amend', '189', '1031', 'reconfig', 'speedwise', 'socialapproval', 'phoneid', 'infiltration', 'seated', 'dustlint', 'reddishorange', 'usescreen', 'worriesthey', 'winning', 'squelched', 'temperamental', 'picturevideo', 'downtime', '230', '092017', 'brilliance', 'standardized', 'cameraphone', 'ziplock', 'bloadware', 'httpthedroidguycom201507howtofixsamsunggalaxys5networkmobiledatawifiproblems108616', 'mcc', 'mnc', 'authentication', 'supl', 'ipv4ipv6', 'bearer', 'unspecified', 'bluetekusa', 'unscrupulous', 'formatting', 'stricken', 'struck', 'hurtful', 'remembered', 'shafted', 'adios', 'jeeeez', 'itelectronics', 'allotted', 'isits', 'revvl', '2wifes', 'emerge', '449', 'soto', 'continuedmaybe', '5do', 'useage', 'updatein', 'latge', 'showingshowing', 's80', 'galaxythx', '545', 'cpuz', '3643', 'textured', 'magnetometer', 'glonass', 'russian', 'satellite', 'irish', 'ceremony', 'unexplainable', 'forked', 'preorder', '4sand', 'diztronic', 'bentoben', 'axxon', 'towith', 'memorystorage', 'slimmed', 'signalweak', '3317', 'reyry', 'gwhich', 'pig', 'runningas', 'hovers', 'cusion', 'horizon', 'race', 'storagevery', 'waking', 'spamming', 'formed', 'biggermore', 'sans', '3152017', 'resetformat', 'referencing', 'questioned', 'jones', 'cached', 'kapaver', 'ascending', 'distort', 'deform', 'framescreen', 'ing', '1282017', '222018', '2499', '252018', 'gruff', 'royalty', 'unchecked', 'inbreeding', 'aroundon', 'bluetoothenabled', 'goodnight', 'prince', 'inexplicable', 'verizonwirelesscom', '24gb', 'sufficent', 'injustice', 'mortal', 'kombat', 'wwe', 'fighter', 'backwell', 'nowsamsung', 'sightly', 'sund', 'distribution', 'hola', 'tardes', 'ocasiones', 'vinieron', 'recoger', 'telf', 'encontraba', 'agradecería', 'podrían', 'recogerlo', 'cualquier', 'día', 'semana', 'dirección', 'llevarlo', 'personalmente', 'no', 'resolvió', 'problema', 'englishno', 'stoppped', 'initiallly', 'criket', 'pequeño', 'detalle', 'arañazo', 'muestra', 'foto', 'aún', 'irresponsables', 'moi', 'pussman', 'productit', 'adapterit', 'reseti', 'alsovery', 'israeli', 'champexcepti', 'modem', 'wpa2', 'spañish', 'passport', 'visa', 'oci', 'rupee', 'inr', 'invalidated', 'aadhar', 'hardwarethe', 'voicemaili', 'perfectlyone', 'ownedused', '6plus', 'naysayer', 'admittingthere', 'availableif', 'twelve', 'widnows', 'storebut', 'controll', 'systemw10', 'whn', 'populate', 'rm1104', 'inflated', 'phonelove', 'timebummer', 'anyconnect', 'cisco', '602', 'miscellaneous', 'goodok', 'married', 'emperor', 'extactic', 'nam', 'rm1118', 'uwp', 'hololens', 'hardwarebetter', 'resolutionwindows', 'punish', 'disastrous', 'oneprovided', 'cleanly', 'cheaped', 'execution', 'shicked', 'g8', 'crunched', 'extream', '922', '0204', 'phonej3', '140', 'mobey', 'conditionsbut', 'deacribed', 'wotks', 'freakig', 'abalance', 'activting', 'dt', 'ignite', 'optimizes', 'vodaphone', 'wantedi', 'allvery', 'megabyte', 'disgrace', 'platinum', 'revisit', 'omyfilm', 'typethe', 'diego', '42988', 'slippage', 'streak', 'cablei', 'amazonoverall', 'daycompared', 'playbacki', 'conconcidering', 'picturesand', 'chargerswas', 'actualization', 'bootup', 'anew', 'informing', '16yo', 'dryed', '579', 'unlooked', 's8plus', 'madly', 'expenditure', 'defecto', 'sonido', 'notificación', 'audifonos', 'sirvieron', 'suponía', 'debia', 'quedo', 'duda', 'witb', 'karma', 'funcionmiento', '2160', 'lossless', 'attracts', 'unfortunatly', 'superhot', 'correctamentedesbloqueado', 'mundo', 'solucionaron', 'instante', 'atet', 'purchaseso', 'ane', 'mlg', 'malísimo', 'duro', 'galexy', 'halftime', 'repay', 'lawsuite', 'bootloops', 'mortified', 'realised', 'succeeds', 'wornbeat', 'cellophane', 'attsim', 'shapebut', 'understandbut', 'regretful', '2741', 'distrusting', 'apocalypse', 'unlockedas', '172018', 'paltry', 'expressway', 'regained', 'flood', 'resell', 'misused', 'inward', 'unloading', 'spider', 'suppliersapphire', 'parcel', 'fixated', 'hairline', 'pieced', 'mealed', 'obvivously', 'unusuable', '930ts', '173', 'vietnamese', 'v80', 'eleimate', '370', 'orederd', 'ejection', 'receptive', 'thingy', 'beloeve', 'styff', 'unfortunatley', '155a', '25a', 'trepidation', 'winded', 'nitpick', 'aggregation', 'amz', 'bobby', 'horibble', 'squelching', 'casewhy', 'incrementally', 'valuethanks', 'emitter', 'crackling', 'acctwill', 'unlockused', 'curewntly', 'wellconnecting', 'loosened', 'unqualified', 'simmetry', 'bdsj', 'shorted', 'sighting', 'outcertainly', 'etcthe', 'tearor', 'workit', 'fingerso', 'unusableother', 'phoneglad', 'disappointedbut', 'gash', 'mar', 'koodos', 'obsoleteyear', 's12s', 'echoeing', 'filing', 'penalized', 'shortsighted', 'replacining', 'batterydraining', 'county', 'chic', 'phoneed', 'brendan', 'iphone6s', 'xbr850', 'nonessential', 'vigilant', 'tf', 'hotswap', '10os', 'despise', 'infested', 'aplomb', 'misplaced', 'mobilecomspeaker', '4mo', 'lockdown', 'unpeeled', '5lbs', 'xiaomi', 'redmi', 'xt2', 'huaweishould', 'xa', 'luxurious', 'photoshop', '2700mah', 'octubre', 'sobre', 'fotografías', 'hecho', 'mercado', 'cuanto', 'fallo', 'inicio', 'quedó', 'funcionar', 'unos', 'seis', 'emergente', 'activar', 'sé', 'posterior', 'imagino', 'mejora', 'vieron', 'compraría', 'soy', 'fotógrafa', 'fotografía', 'conmigo', 'podré', 'fotografia', 'accidente', 'emergencia', 'cocina', 'coloqué', 'olla', 'hirviendo', 'encima', 'sorpresivamente', 'ocurrió', 'tuvo', 'muchísimo', 'combinación', 'memory16gb', 'speced', 'succeeding', 'reevaluate', '87510', 'tk', 'spinning', 'wheel', 'recoil', 'expecti', 'gutierrezjenny75gmailcom', 'madness', 'immersive', 'c5', 'storag', '2700', 'axon', 'imesssage', 'barbie', 'submission', 'selfinvalidated', 'peer', 'extensively', 'endurance', 'certification', 'tintstain', 'foros', 'pricewise', 'funtionability', 'problemsand', 'disrespect', 'procesor', 'daly', 'blutoothwifi', 'gyroscope', 'warrantycould', 'spotifynews', 'sketch', 'creatorwhats', 'newplay', 'stationtrackid', 'cameralike', 'rellay', 'calidadla', 'horase', 'frisaba', 'tenía', 'señalno', 'podía', 'phonethd', 'iphonegalaxy', 'lov', 'needhighly', 'uhmazing', 'playstation', 'roslution', 'bla', 'phonehope', 'camare', 'underated', 'applyung', 'vanish', '72017', 'blurring', 'textimages', 'rmarepair', 'wellknown', 'verticalhorizontal', '22018', 'backstory', '31st', 'dail', 'withcricket', 'elegance', 'repairsreplacement', 'inperson', 'outofpocket', 'aqua', 'hongkong', 'photosselfies', 'scolded', 'unverified', 'limitied', 'ab', 'confines', 'unlockphone', 'transmits', '417', 'amazonsad', 'quickthe', 'butis', 'chase', 'ranging', '298', 'averaging', 'mediatek', 'p10', 'bezeless', 'nap', 'xperiance', 'arg', 'gyro', 'enet', 'roulette', 'brandthank', 'ip68', 'timeshift', 'phoneinstruction', 'clearerif', 'itselftake', 'superisingly', 'deceptively', 'picsvideo', 'stare', 'bumping', 'rte', '306', 'ish', 'sunlit', 'beautify', 'shrug', 'bestbuys', 'uhs3', 'bias', 'supoused', 'wxperience', 'hobby', 'af', 'edgeless', 'slowness', 'deserved', 'acure', 'receptor', 'indispensable', 'z1', 'nonwaterproof', 'hdmimhl', 'dnla', 'stm10', 'slouch', '11gb', 'smtimes', 'sixth', 'guaranty', 'unfilled', 'discolor', 'opiniongood', 'yaa', '5565', 'alleviate', 'christmasbut', 'drainnow', 'nitpicks', 'overtheair', 'bullshit', 'booth', 'ar', 'xa2', 'theatre', 'dressing', 'makeup', 'audiobooks', 'centre', 'reparation', 'accuweathers', 'paring', 'treblab', 'entune', 'overthetop', 'researcher', 'onetime', 'retrieved', '892017', 'happenedcalled', 'unfulfilled', 'snapchats', 'cargo', 'warningbut', 'reacquires', 'edgetoedge', 'contributing', 'fling', 'catastrophic', 'traumatic', 'carpeted', 'lore', 'photosits', 'laughably', 'avls', 'pipe', 'limiter', 'motorhead', 'danzig', 'whispering', '1152018', 'slate', 'letdown', '92018', 'mpow', 'obscenely', 'necessitates', 'impossibletoremove', 'chainsaw', 'clamp', 'midranger', 'decenltly', 'z4', 'skimped', 'lieu', 'goodld', 'cracksscrapes', 'initiating', 'mri', 'inadvertantly', 'chipet', '10222016', '360a2109', 'f3213', 'sto', 'noticiably', 'gettigng', 'imposed', '8hours', 'panadora', '5060', '294', 'sizeable', 'lazer', 'amazingand', 'usermemory', 'whack16gb', 'cardso', 'appsits', 'newcouldnt', 'cardcouldnt', '215', '120mins', 'decembter', '292016', 'dedbating', 'closeout', 'crossshipped', 'linking', 'dll', 'beveled', 'glassplastic', '116', 'bevel', 'nonreplaceable', 'ploy', 'lithium', 'frustratng', 'perfectfor', 'mefast', 'mereallyi', 'instantlike', 'zl', 'osit', 'maco', 'yippy', 'donald', 'hulu', 'dongle', 'miracasting', 'iflop', 'fore', 'app2sd', 'inky', 'obviosly', 'despited', 'totez', 'waay', 'skimping', 'meow', 'inmate', 'warrantylet', 'ericsson', 'cybershot', 'satio', 'frontalback', 'reall', 'ultras', '10000amper', 'nonths', 'puretalk', '8112016', 'videospics', 'stroges', '4rams', 'lt15i', 'tradition', 'freatures', 'f8131', 'f8132', 'tetri', 'spiderman', 'lifelog', 'partyshare', 'trackid', 'xperiatransfer', 'httpswwwamazoncomperformanceringkeprotectionabsorptiontechnologydpb01hbwipsirefsr_1_62ma8ycueqiox5apswirelesssrs5811452011ieutf8qid1493039145sr162refinementsp_893aringke2cp_n_feature_ten_browsebin3a110433120112cp_63aa8ycueqiox5ap', 'installedflashed', 'supersu', '42517', '24th', 'ensures', 'shoud', 'seizes', 'randon', 'hardwarechassis', 'iseasy', 'xa1', 'prefromence', 'softwear', 'june2017', 'butgot', 'perfe8', 'reinstallmeaning', 'lockout', 'workaroundhack', 'techfriendlybut', 'retailerreseller', 'sobe', 'z1s', 'miniscule', 'blatant', 'z5p', 'z5ps', 'ammend', 'lukewarm', 'ususally', 'irritates', 'depreciate', 'predictably', 'manufactureri', 'omission', 'represent', 'penalty', 'hxw', 'rgb', 'coherent', 'scaneer', 'unanimous', 'iq', 'highresolution', 'mdrnc750', 'protrude', 'solace', 'overuse', 'wakeup', 'overused', 'reenable', 'mediaheavy', '240lbs', 'middleoftheroad', 'oshardware', 'heuristic', 'cooling', '82', 'rising', 'autoshut', 'idol', '269', '23mp', 'xreality', 'supervivid', 'inout', 'swimsuit', 'dlna', 'mirrorlink', 'immersion', 'swimmer', 'ranked', 'dxomarkcom', 'userunlike', 'updatethey', '10am', '1440p', '4gigs', 'heatera', 'huaqiangbeis', 'repliedthat', 'xpeeia', 'wher', 'observation', 'natura', 'slicing', 'expansive', 'plummet', 'againi', 'dayeve', 'applesamsung', 'hexacore', '18ghz', '12ghz', 'midmid', 'highmid', 'multitasks', 'predicting', 'halfminute', 'regress', 'chalk', 'gsmarena', 'httpwwwgsmarenacom', 'powersaving', 'rediculously', 'bond', 'smudging', 'whatev', 'blus', 'congrats', 'wellworth', '4yearold', 'sidemount', 'sailfish', 'nearfuture', 'increasedecrease', 'flashlightcamera', 'indecisive', 'unedited', 'sendthe', 'alec', 'nonnexus', 'disposal', 'detalized', 'sencor', 'capasity', 'latestlook', 'electronicssony', 'a6000', '100mbps', 'slack', 'hire', 'triluminous', 'andoh', 'repost', '2535', 'ergonomics', 'ringke', 'protectionshock', 'absorption', '1099', 'dispositive', 'appropriately', 'fricking', 'camerathen', 'agradó', 'playstations', 'cellwifi', 'vaio', 'gpsnfc', 'appsbest', 'formfactor', 'agovery', 'pronounced', 'impresion', 'misstype', 'matt', 'impossibility', 'exclamation', 'copper', 'ip65', 'nvr', 'itselfthe', 'noisedot', 'zdevicetest', 'myandroid', 'worrg', 'conformity', 'infuriates', 'highspeed', 'uninstallable', 'boatware', 'counterintuitive', 'behave', 'counterintuitively', 'cleary', 'snailpace', 'f5121', 'nonflagship', 'qnovo', 'choppiness', 'triluminos', 'incorporates', 'rds', 'etcthis', 'ungrateful', 'rap', 'iphonelike', 'relieving', 'towads', 'pinky', 'pianist', 'substitution', 'confuse', 'baffle', 'moredisappointed', 'declares', 'heater', 'gotham', 'f5122', 'considers', 'comparred', 'ds4', 'z3v', 'sonny', 'formidable', '7001000at', 'warms', 'warming', 'strongs', 'focuscamera', 'v1', 'snit', 'flown', 'camed', 'reliablefast', 'obtains', '600700', 'riot', 'manipulation', 'complementary', 'rereviewing', '56x', 'miniapp', 'supportand', 'xepria', 'xztheey', 'xperiaz', 'niceand', 'atated', 'ecuadorian', 'navigates', 'capagidad', 'conditon', 'assentials', 'banked', 'newtoyou', 'lookedworked', 'criminal', 'trustable', 'cordpower', '17999', 'firstand', 'allimportant', 'refurbisher', 'shopper', 'motel', 'nonapple', 'missingstolen', 'hackidentity', 'badest', 'ist', 'alowing', 'theri', 'safari', 'blutek', 'bluetek', 'volumesesnitivity', 'charade', 'ideally', 'shadowed', 'performes', 'impressively', 'brite', 'momarazzi', 'dealarrived', 'qas', 'momey', 'discolouration', 'nondefective', 'goodie', 'articulo', 'envió', 'veremos', 'dmn', '1a', '2a', 'fleet', 'cr', 'featuresand', 'firework', 'buger', 'starvut', '100and', 'colorblack', 'dualpixel', 'featuring', 'ghz16', '3600mah', 'cmos', '1292mm', 'smg390u', 'mistaking', 'g930v', 'ag390v', 'tactical', 'toothpick', 'tissue', 'fanboy', 'reinventing', 'smg930v', 'smg930u', 'snot', 'prejudice', 'gluedon', 'swelling', 'productitem', 'livelihood', 'returnexchange', 'youstill', 'shouldfast', 'weared', 'realising', 'lockup', 'alwaysso', 'freeas', 'supervision', 'upworse', 'fantastically', 'barrery', 'factura', 'registrarlo', 'feliz', 'navidad', 'stalwart', 'caliente', 'subsidiary', 'tantrum', 'chucked', 'roomfigures', 'renewedrefurbished', 'galaxyand', 'onapps', 'disablei', 'sentencesi', 'expensivei', 'earlierearlier', 'fixedother', 'snafu', 'nowwill', 'mvnos', 'qlink', 'phoned', 'duplicated', 'parttime', 'easilynever', 'protruding', 'caselol', 'was71016', 'morn', '71316', 'blacklosted', '10hrs', 'rudeness', 'dor', 'itso', '277', 'usedone', 'philly', 'martian', 'nanu', 'marca', 'horriblenever', 'theextra', 'sshipping', 'suuuucked', '36megapixels', 'insidenot', 'spasm', 'farno', '28th', 'phonecouldnt', 'opener', '6splus', 'vip', 'nongenuine', 'daytwo', 'frawn', 'logistics', 'newwhen', 'viewto', 'jes', 'ontimeits', 'shiould', 'continuallypaid', 'ios9', 'keychain', 'ios10', 'witg', 'relación', 'costobeneficio', 'kanga', 'thumbsup', 'shapei', 'realky', 'shakey', 'daugther', 'poca', 'vida', 'plasticone', 'lamejor', 'orden', 'ig', 'communicator', 'stolenlost', 'bervous', 'scrappy', 'lissen', 'asnew', 'porduct', 'correctic', 'casethe', 'diet', 'supernova', 'powerlock', 'cardphone', 'starttakes', 'upjust', 'upincoming', 'amazando', 'sketched', 'arewere', 'imagesphotos', 'shorten', 'youthe', 'hourse', 'returnreplace', 'reaaly', 'martin', 'examined', 'detoured', 'booked', 'skm', 'droud', '82617', 'whiteout', 'editnow', 'retains', 'reson', 'duradero', 'conflicted', 'pedí', 'fué', 'mismo', 'mandaron', 'enviaron', 'reegí', 'repotenciado', 'punctuality', 'ano', 'saysamsung', 'junkware', 'spotting', 'blotch', 'logging', 'itwho', 'itvery', 'gather', 'valley', 'importing', 'fiddly', 'xlink', 'poking', 'attesting', 'cloning', 'sugar', '80000', 'ifone', 'shag', 'disability', 'inclement', 'fllip', 'priveleged', 'submersed', 'underside', 'madethe', 'jb', 'weld', 'monthso', 'cram', 'displayotherwise', 'workedit', 'intermitten', 'sametimes', 'mybullfrog', 'ej', 'retext', 'abc', 'babah', 'remembers', 'dork', 'chinesium', 'fccid', 'bestit', 'optimalfingers', 'aloneif', 'goodunfortunately', 'int', 'refubs', 'foolish', 'einstein', 'insanity', 'slab', 'scaffoldand', 'mumble', 'featureless', '153', 'jap', 'alongtook', 'forhis', 'legitimately', 'hump', 'overexpose', 'sharpening', '30fps', '60fps', 'slomo', '120fps', '240fps', 'timelapse', 'worketc', 'skinned', 'degradation', 'lenovomotorola', 'replacementrepair', 'synergy', 'indonesian', 'adroid', 'solving', 'hasselblad', '1819', 'blatantly', 'nefarious', 'speculating', '138', 'cue', 'adapator', 'conditioning', 'assumedly', 'firing', 'lick', 'knob', 'jbl', 'projector', 'nanocoated', 'moist', '2600mah', 'lyft', 'oogling', 'poser', 'woe', 'motorolabacked', 'moly', 'timex', 'lickin', 'ticking', '10yrs', 'buget', 'snapdradon', 'negtive', 'stomach', '10it', 'pitfall', 'offgrid', 'exposing', '166', 'bestmotophoneyet', 'luscious', '22m', 'phandroid', '192gb', 'reconfigured', 'nitty', 'mammoth', 'totaling', '200m', '250mb', 'symmetrically', 'shaped', 'superstitious', 'sharpie', '15watt', '2h', '175w', '875d', 'cableconnect', 'malemale', 'touchtone', 'equates', 'numerical', 'spiel', 'streamlined', 'muchlamented', 'adapterdongle', 'cave', 'motolenovo', 'waning', 'negotiate', 'samstung', 'more', 'underwhelming', 'lightness', 'stooped', 'itnow', 'traía', 'descritos', 'adaptador', 'viene', 'conector', 'europeo', 'tailandia', '2162017', 'caseprotection', 'simmemory', 'protrudes', 'everso', 'frontfiring', '930am', 'acquiring', '580', 'chopchop', 'twisttwist', 'simsd', '31c', 'rca', 'evidenced', 'blacktop', 'mophie', 'motomod', 'whip', 'cal', 'shhh', 'rescue', 'meatt', 'sot', 'soundboost', 'tumi', 'daydream', 'sinking', 'stateshaving', 'modular', '615', 'woefully', 'modularity', 'stacked', 'portcord', 'nowthis', 'lifeget', 'blasted', 'steering', 'sputter', 'honour', 'stickermanuals', 'agood', 'showstopper', 'routinely', 'loveee', 'downslide', 'homerun', 'hotbut', 'zit', 'designmotorola', 'morebut', 'yesno', 'projectoryou', 'eq', 'ideatoo', 'wwway', 'chin', 'gooog', 'insecure', 'bizzarely', 'motorolalenovo', '20171124', 'youtubemy', 'dualsim', 'dangit', 'xt1053', 'eagerly', 'motoz', 'incestuous', 'exwife', 'obese', 'bowieknife', 'ducttape', 'freesandwich', 'deepappalachian', 'insuranceshots', 'deer', 'goldbars', 'woodstyleback', 'woodstyle', 'weakly', 'sharpei', 'unwrinkled', 'tacky', 'imx214', '16bit', '24bit', 'measly', 'sd820', 'timesot', 'accubattery', '30000mah', '2220mah', 'attache', 'proceeded', '114', 'avrg', 'nilon', 'scratchedi', 'bulged', 'overcharge', 'gamecube', 'emulation', 'crapton', 'textbook', 'trumped', 'limped', 'fromyou', 'autoreply', 'wirelessbattery', 'spat', 'gravitated', 'editionwhich', 'retus', 'asion', 'pacific', 'retapac', 'placeholder', 'impossibly', 'cheaping', 'wifibluetooth', 'msrp', '305070', 'phome', 'hcad', 'iconx', 'bluedio', 'ufo', 'headphonesim', 'marvel', 'motoandroid', '869', 'wsnted', 'thevonly', 'thinso', 'boxthe', 'zmax', 'accounting', 'diddespite', 'ballance', 'g5s', 'huaweihonor', '260ish', 'midbudget', 'reunion', '1997', 'retarded', 'fulllong', 'candle', 'banger', 'allblack', 'g6', '699', 'beggining', 'bros', 'teathered', 'affixed', 'clincher', 'depart', 'retraining', 'goldy', 'slimness', 'pondering', 'wouldespecially', 'misfit', 'jab', 'chemo', 'synchs', 'essence', 'illinois', 'fairall', 'mountso', 'incovieniant', 'thoughtwonderfull', 'kneaded', 'weightthin', 'impetus', 'wifii', 'whhaatt', 'signalbeen', 'duck', 'intrude', 'anyplace', 'xzs', 'debuting', 'justifying', 'nicety', 'tinkered', 'usbs', 'pixellated', 'bottomless', 'translating', '30ms', 'rhythm', 'approximate', 'warranted', 'oriented', 'slag', 'typec', 'upscaling', 'prefrmace', 'upgraged', 'eggshell', 'slays', 'mear', 'proformance', 'axis', '4636', 'ltecdmaumtsprl', 'slowsometimes', 'boil', 'moderatehigh', 'pokémon', 'illumination', 'everywhen', 'mbl', 'goutham', 'farewell', 'cityscape', 'zx', 'maravilla', 'iluminación', 'permite', 'distinguir', 'objetos', 'desde', 'distancia', 'ojo', 'humano', 'hubiera', 'tomado', 'bezelless', 'boxiness', 'volvo', 'v70', 'nstead', '10302016', 'taichung', 'dhl', '1132016', 'invoicereceipt', 'f8332', 'mh410c', 'ac0051tw', '2700ma', 'ucb20', 'xperias', 'career', '03032017', 'grass', 'relaxing', '9597', '29k', '30k', 'boss', 'datasheet', 'factoryunlocked', 'sonysonyericsson', 'harware', 'bonedeep', 'skilled', 'overcame', 'diagnosis', 'insisted', 'hardaware', 'impolite', 'didntt', 'supportreturn', 'oppositely', 'appslike', 'sector', 'muerto', 'aproximadamente', 'franja', 'cuarto', 'detecta', 'limita', 'interacción', 'dispositivo', 'symmetric', 'funcions', 'moneyso', 'calienta', 'amsterdam', 'defies', 'bazels', 'bazel', 'overproccesed', 'aquarela', 'thingformat', 'seesince', 'snoring', 'woudnt', 'issuesi', '索尼大法好', 'signapore', '12012016', '01292017', 'litte', 'dsd', 'thougt', 'investing', 'sober', '62499', '224', 'celulrar', 'recalienta', 'momneto', 'fingerscanner', 'stably', 'invaluable', 'gamut', 'squareness', 'patent', 'jonesing', 'perfecting', 'bixby', 'outletsbut', 'blackview', 'glassy', 'kingdom', 'alkaleido', '2900mah', '3430mah', 'outshine', 'calculate', 'highdata', 'promp', 'conf', 'perky', 'z2s', '8n', 'wat', 'austrailia', 'worksbut', 'scren', 'communicative', 'conservative', 'overcoming', 'modifying', 'fiftysomething', 'ultrafast', 'z5s', 'unfortionally', 'excelentr', 'solidity', 'slabby', 'hunch', 'phonetech', 'nitpicking', 'acuity', 'intelligently', 'comfy', 'robustly', 'autosharpening', 'muddy', 'highlycompetitive', 'actualcameras', 'doneso', 'sabia', 'sterio', 'beautifull', 'pphone', 'greaat', 'camerawas', 'dsee', 'hx', 'campera', 'sabe', 'androidbattery', 'htc10', 'iphone7', 'resistivity', 'dashboard', 'nightshots', 'breathing', '7ish', 'waterresistance', 'anser', 'mia', 'escalated', 'mitigate', 'textbased', 'idling', 'lawsuit', '288', 'conscience', 'arose', 'issuing', 'consumerfriendly', 'nearing', 'dispelled', '3450mah', 'pie', 'semiglass', 'lifesize', 'stormtrooper', 'livingroom', 'interacts', 'r2d2', 'pogs', 'prolevel', 'chuckling', 'greatfor', 'trimmed', 'usba', '5min', 'agoat', 'inductive', 'nillkin', 'windowsand', 'frustrate', 'therethe', 'overload', 'layering', 'bubblewrap', 'cushioning', 'isps', 'issuesdoesnt', 'bamboozled', 'justwas', 'branch', 'editingsocial', '860', '208', 'irrelevant', 'andoid', 'branching', 'spending125', 'buffer', '3a', 'praying', 'atmosphere', 'adaway', 'suppresses', 'irritant', 'walms', 'throughput', '1219', '30days', 'scarcely', 'futility', 'ireland', 'shane', 'iphome', 'dutch', 'apparenty', 'pixi', 'chugged', 'pleanty', 'useing', 'sed', 'ip53', 'triathlon', 'og', 'charred', 'barring', 'unforeseen', 'deviate', 'badass', 'loveve', 'thee', 'phonein', 'kf', 'precision', 'mapsbut', 'promoter', 'immersing', '4design', '5over', '3xl', 'rangelike', 'balakrishnan', 'mob', '9941225684', 'htx', 'androidloving', 'inthepackage', 'alternativesuperior', 'passord', 'baatloader', 'eather', 'supposes', 'memorial', 'leadingedge', 'flashforward', 'volatile', 'phonesat', '250are', 'ia', 'abnormal', 'phoneout', 'zforce', 'ntm', 'importnant', 'heckle', 'realllllly', 'abes', 'impeccably', 'misread', 'ew', 'lifeone', 'wnt', 'giftcard', 'emaculant', 'minimizing', 'ioved', 'obsessed', 'champion', 'satisfecho', 'timethis', '100when', 'emphasis', 'finely', 'strangest', 'beall', 'endall', 'highlytouted', 'gall', 'pointandshoots', 'realtime', 'markup', 'agoand', 'timemore', 'agothe', 'seperating', 'hotto', 'nowdue', 'heatthe', 'pivotpoint', 'manufacturedate', 'classaction', 'pixelxl', 'decryptionkey', 'maine', 'derivation', 'treo', 'zenfones', 'neural', 'constellation', 'orion', 'wisp', 'nebula', 'tripod', 'accountpassword', 'deletedwiped', 'serialimei', 'janet', 'mcneil', 'newestlatestgreatest', 'sfl', '10watt', '18watt', 'becaus', 'itno', 'gifting', 'porteven', 'unintelligible', 'doodad', 'itsupposed', '5000mah', 'monitored', 'unusure', 'timework', 'advertiser', 'crooked', 'elsedo', 'resultado', 'satisfactorio', 'nah', 'robbing', 'milestone', 'upping', 'responsiveand', 'tide', 'ummms', 'aaaas', 'stabilisation', 'resides', '128gig', 'hairsized', 'slanted', 'americai', 'ngp', '2hrs', 'cpocell', 'renews', 'excelenti', 'depeats', 'scratchedquality', 'totales', 'pasaron', 'mancha', 'presentado', 'rallones', 'tacto', 'justamente', 'scratche', 'obv', 'butdo', 'httpswwwamazoncomdpb01m01yx15refcfb_at_prodpg', 'trayjust', 'hollow', 'scammy', 'gatsby', 'electronicsthe', 'hometowndiscounts', 'luddite', 'skimp', 'bokeh', 'leeway', 'cardactivate', '590', 'httpswwwamazoncomdpb01mg82onarefcfb_at_prodpg', 'screentime', 'autoplummets', 'bidirectional', 'cow', 'scattered', 'hinky', 'knockdown', 'fing', 'logsbug', '133', 'positionthen', 'assurance', 'reselling', '1220', 'ppalm', 'newerdifferent', 'insignificant', 'pano', 'sphere', 'welp', 'etailz', 'refreshes', 'meticulous', 'shippinggoogle', '297', 'incontrovertible', 'suddendly', 'perfume', '5hs', 'ventura', 'reviewthis', 'pleasedthis', 'truthfull', 'ca', 'yellowed', 'pixle', 'reviiews', 'tehy', 'cellulars', 'seei', 'touchmove', 'photois', '4pixel', 'introit', 'answeringmaking', 'runied', 'prefoms', 'compromised', 'httpswwwamazoncomgpproductb01m6749uprefoh_aui_detailpage_o01_s00ieutf8psc1', 'increíble', 'policywhich', 'wordbrilliant', 'ruler', 'softwareoriented', 'congratulation', 'srgb', 'phonegamer', 'googly', 'galleryand', 'foreigner', 'languge', 'expectednice', 'strict', 'smatphone', 'gratefast', 'waterit', 'e4', 'primo', 'booka', 'homegoods', 'moneyyou', 'micosd', 'thegizotrader', 'pixelthe', 'lex', 'dealhouse', 'thenover', 'agoneither', '491', 'returnexchangesupport', 'justdidnt', 'wassent', 'hairing', 'comared', 'stuning', 'macho', 'i7', 'cid', 'getter', 'robootcid', 'vzw__001', '11111111', 'greyed', 'yknow', 'kt', 'atti', 'andquit', 'precessor', 'phonealthough', 'tuned', 'mate', 'photosyou', 'aligns', 'sunglass', 'anodized', 'sandblasted', 'rambling', 'stillsupported', 'averafe', 'uf', 'semding', 'cgecking', 'srceen', '12hrs', 'tweeks', 'apk', 'experienc', 'downlaod', 'beijg', 'vetter', 'ramge', 'perpetually', 'rigged', 'bandit', 'evidencing', 'delvery', '35gb', 'decemberearly', 'flashdrive', 'screwup', 'sanitize', 'unecessarily', 'deteriorating', 'unemployed', 'scuffsscratches', 'seperately', 'abit', 'gsmcdma', 'lookup', 'critique', 'oldused', 'upate', 'coincidentally', 'misclicks', 'asurion', 'artifact', '16gigs', 'completeing', 'talkin', 'cone', 'afforable', 'deffective', 'sep', 'uscharger', 'yrd', 'australian', 'condition2nd', 'util', 'pleasevery', 'russia', 'phont', 'thang', 'nonphone', 'noniphone', 'allo', 'satisfyingas', 'experiance', 'screenthis', 'usedfor', '445', 'versionverizon', 'versionkind', 'misleadingill', 'cidcarrier', 'discriminately', 'impostor', 'cutout', 'cheater', 'seam', 'mesh', 'deeper', 'enforced', 'krazy', 'doesstill', 'eyehousing', 'pixelwas', 'modelbut', 'boxso', 'deadis', 'greathulu', 'boondocks', 'hdd', 'forgivable', 'wrestling', 'cactus', 'hotsauce', 'teir', 'variance', 'plunking', 'nonquick', 'toll', 'vz_', 'worksseller', 'racist', 'reloads', 'unblemished', 'hoursi', 'stuffseller', 'mixup', 'cpugpu', 'pundit', 'infrequent', 'snappiest', 'profession', 'tester', 'socal', 'propably', 'repackaging', 'tek', 'notused', 'gen1', 'autosong', 'tact', 'romkernal', 'peely', '460', 'northeast', 'exhausted', 'ticked', 'magnitude', 'sparking', 'c4', 'graced', 'relaunch', 'softwarefunctionality', 'flagshipgrade', 'sub400', 'foliage', 'unsee', 'wideangle', 'postprocessing', 'oversharpened', 'blurred', 'pastel', 'reproduced', 'greenify', 'optimization', 'flashier', 'materialdesign', 'colorbrightness', 'drawl', 'revisiting', 'bianca', 'quicklyquicker', 'reviewsthe', '6080', 'powerlockunlock', 'readjust', '24mp', 'cutter', 'fundamental', 'hauwei', 'identificationyou', 'ldac', 'nouget', '26400', '35900', 'bricking', 'bootlooped', 'boyjust', 'nonwarranty', 'heartbreaking', 'textra', 'buenos', 'atributos', 'exigencia', 'bloquea', 'continuamente', 'especialmente', 'comunmente', 'cuality', '1214hours', 'germaphobe', 'preordered', 'wallplug', 'biggerbetter', 'topend', 'have', 'tack', 'crappier', 'invests', 'maravilloso', 'f8331', 'somestimes', 'whitch', 'gother', 'ilove', 'pobre', '25mbs', 'sonybest', 'outlooking', 'sleekness', 'joyful', 'gg', 'responsivity', 'iphonesamsung', 'elli', 'clickingonglass', 'curvededge', 'yoooo', 'tricking', 'surprisesand', 'sctf10', 'sercive', 'goodthanks', 'phond', 'becoz', 'garb', '23m', 'eachother', 'figer', 'versión', 'exprienced', 'contiously', 'sonyandroid', '821', 'outweighed', 'aprilmay', 'cellfone', '23mpx', '12mpx', 'vanishing', 'inst', 'walkmanmusic', 'vita', 'dualshock', 'unrecognizable', 'excusable', 'passerbyes', 'admiration', 'itat', 'usedgood', 'usbcharging', 'phonehandheld', 'eyephone', 'saturate', 'videothey', 'repairstill', 'latersay', 'dealsits', 'outershell', 'aught', 'wharehouse', 'greatness', 'floored', '40w', 'lightbulb', 'negligibly', 'beefier', 'godawful', 'oos', 'slipup', 'hiked', 'quietly', 'hardwarewise', 'stallion', 'crisply', '4035', 'castoff', 'friggin', 'ownyou', 'mineral', 'rounder', 'flagshipsincluding', 'unearth', 'dayat', 'oneplus3', 'upscale', 'productswhich', 'xperiasbut', '500550', 'airwatch', 'weighting', 'sotware', '1500ma', 'walkman', 'mindboggling', 'borrows', 'boomsounds', '33mb', '7mb', '4mb', 'averaged', 'longlongago', 'noneedlenecessary', 'dealbreaking', 'discovery', 'deficiency', 'adb', 'repository', 'audífonos', 'donde', 'solicitar', 'reemplazo', 'reparación', 'threat', 'duplicating', 'lettersmake', 'connectsdisconnects', 'worthiness', 'nowin', 'leaking', 'screennow', 'calm', 'rewriting', 'scamming', 'vertern', 'amzon', 'sendrecieve', 'satiatfised', 'trending', 'braking', 'partition', 'occation', 'loopy', 'avdridge', 'confirmation', 'explosion', 'physicallyrics', 'contemplate', 'cork', 'screenvery', 'hopefull', 'willnt', 'incessantly', 'beautifulbut', 'the200', 'liers', 'bwfore', 'timeliness', 'pornographic', 'packageunprofessional', '3month', 'chargepower', 'workphone', 'againdidnt', 'decharge', 'quickthats', 'gustó', 'muchopero', 'debería', 'haber', 'ofertas', 'rad', 'greatthank', 'parece', 'waaaaay', 'conditionlove', 'procuct', '60100', 'percentnot', 'cardyou', 'defaulted', 'appsince', 'wriete', 'descrbtion', 'newerbetter', 'apon', 'poped', 'sacked', 'allaround', 'fur', 'tucked', 'polythene', 'onlyobviously', 'airtel', 'india2300mhz', 'screenburned', 'anouther', '45mins', 'nudity', 'breast', '2mobile', '3access', '4add', 'bestmvno', 'comapnsettingstmobileapnsettings', 'itphone', 'cardrestart', 'compren', 'basura', 'medication', 'replacable', 'reistance', 'asthetics', '20gb', 'amazingthen', 'motto', 'sparin', 'againfor', 'creek', 'routing', 'huaweis', '7xx', 'emuiinterface', 'encasement', 'reinforced', 'dimensional', 'nacodex', 'nonglass', 'radipest', 'dmax', 'malleability', 'assign', 'knuckle', 'cropped', 'alltime', 'emui', 'resembles', 'deceased', 'allegiance', 'nonflagships', 'i6s', 'plantronics', 'voyager', 'regressing', 'voicecommand', 'abrasive', '03142017', 'pistola', 'oro', 'augment', '02232017', 'uneventful', 'hisuite', 'thump', 'easytouse', 'lollipopmarshmellow', 'crackable', 'wellversed', 'androind', 'recognises', 'semicircle', 'imore', 'onpar', 'fattest', 'nonpremium', 'selefane', 'dissolving', 'expands', '163502', 'modelime', 'alerted', '345', 'acrid', 'downstairs', 'memoryspace', 'detachable', 'midaugust', '894', 'looove', 'xt163502', 'woodgrain', 'g4my', 'dey', 'solidbattery', 'suitably', 'boight', 'agotheyre', 'phonedidnt', 'prestacion', 'supera', 'nuevos', 'elección', 'thatthe', 'expecatations', 'aprreciate', 'duración', 'wthat', 'birthdaychristmas', 'lifemost', 'onei', 'vaue', 'europeanstyle', 'ash', 'ocotacore', 'regosteted', 'acquisition', 'lenovos', 'gamepads', 'cordplug', '2in', 'precaution', 'setted', 'jan2018', '15w', 'altered', 'pokemons', 'profesional', 'resent', 'payday', 'projection', 'grenade', 'elbolt', 'unnessary', 'lockunlock', 'earphonehead', 'manualonly', 'googlegmail', '0629', 'parsonal', 'takeing', 'difective', 'purcased', 'fiarst', 'papua', 'guinea', '2gedge', 'mhz', '3ghdspa', 'plusnice', '155', 'modelmay', 'problemrear', 'scratcher', 'unsoldering', '10157', 'float', 'underway', 'nexttolatest', 'hasbeens', '101517', 'wsprint', 'wreturns', 'obligation', 'reconsidering', 'uncirculated', 'reloaded', 'a50', 'prodding', 'refirbished', 'renting', 'micorphone', 'carriersprint', 'circus', 'biz', 'g930p', 'purfectly', 'marvelously', 'everyrhing', 'everyrthing', 'nightly', 'conditionwhy', 's8outclasses', '7an', 'marvels7', 'unprogrammable', 'describedawesome', 'manjor', 'thell', 'blankblack', 'acxount', '325', 'reviewdeleted', 'promisedno', 'screenno', 'problemlet', 'wireless2go', 'censor', 'previouslymy', 'problemwhen', 'itthese', 'bamboozleddeleted', 'learnedand', 'bewareit', 'amzwireless2goi', 'sonhe', 'tole', 'deali', 'haveever', 'laggs', 'owesome', 'knoxed', 'evolved', 'loser', 'doed', 'amason', 'needee', 'phonechanged', 'differentphone', 'newdidnt', 'oneno', 'sprintdisadvantagestakes', 'chargecharging', 'intitals', 'delievered', 'biggieet', 'expectactions', 'nonflip', 'dims', 'upworks', '122817', '845pm', 'alreadyblinks', 'reinitializing', 'triedthen', 'responcive', 'regimen', 'geeat', '45min', 'serv', 'video8', '210ghz', 'warrantied', 'mentionedi', 'illuminated', 'reassemble', 'cayman', 'hugebrightclear', 'itexcellent', 'amazingnhow', 'ztehonorhuawei', 'calltext', 'harpialatam', 'xt1601', 'phonewell', 'regalar', 'useong', 'soze', 'misoc', 'hwlps', 'coughmotorolacough', 'voicerecorder', 'presskeys', 'zizo', 'squabble', 'pkg', 'ph1', 'flextronics', 'gifs', 'wrinkledie', 'wrinkled', 'bloateare', 'oems', '2yrs', 'paid600', 'euro', 'googe', 'donage', 'blacknova', 'lmao', '10years', 'boxall', 'gaurd', '15chiped', '100brand', 'estatic', 'systemtakes', 'gmsin', 'thatwhen', '081519', '08172019', '7plus', '600mhz', 'dome', 'shoult', 'k10', 'helluva', 'kaput', 'carbide', 'itema', '22718', 'subcontractor', 'weant', 'replzcement', 'wouls', 'hotness', 'edgewhat', '840', '100mo', 'huhho', 'crapno', 'phonesfully', '13500', 'unpacked', 'hmmmmnothing', 'newreally', 'okthe', 'goodlasts', 'fiddled', 'helllets', 'pcthen', 'heycome', 'perpetual', 'networkdoes', 'downpower', 'nomininal', 'revise', 'certifying', 'disturb', 'workwont', 'countrybeen', 'hourdisapointed', 'browsingtaking', 'companywas', 'virizion', 'buffing', 'nocharged', 'outfit', '82019', 'longer2', 'useuntil', 'organizer', 'oneyou', 'tapbounce', 'itreplay', 'microsdsim', 'perfectnot', 'visibly', 'repealing', 'overlap', 'refirburshed', 'gaurentee', '200gig', 'informs', 'phonemagic', '6mos', 'farits', 'chippedworn', 'comprehensive', 'cardmemory', '15min', 'plugit', 'smg930s', 'clogged', 'lightmoderate', 'fetures', 'thur', 'goi', 'holdup', 'issuesreturning', 'inexplicably', 'summation', 'clitching', '200no', 'featuresi', 'galaxy6', 'galaxy7', 'altough', 'worksgreat', 'lew', 'milliamp', 'irregular', 'assistive', 'superquick', 'phonewill', 'spry', 'verizonsprint', 'pedi', 'devolucion', 'recibir', 'xfavor', 'ayudarme', 'xque', 'visable', 'interacted', 'pertector', 'sindinf', 'contento', 'verizonphones', 'blurd', 'mujer', 'nopor', 'derviendogracia', 'renborso', 'crackly', 'tooo', 'relaced', 'promtly', 'quickwill', 'notthing', 'refurbishedlooked', 'buyi', 'blackisted', 'phonewhen', 'mime', '3090', '300mbps', 'captured', 'nutshell', 'draindown', 'quicky', 'settingconnection', 'residence', 'verizin', 'darken', 'booty', 'vigor', 's7compatible', 'robert', 'mcpeek', 'arises', 'phoneoddly', 'toobut', 'backbummed', 'portcable', 'percect', 'phil', 'roland', '9nly', 'fastwireless', 'choetech', 'fonken', '18w', 'allways', 'newused', 'whileit', 'thereit', 'freezingi', 'earbudsaux', 'cspire', 'venden', 'desbloqueadas', 'están', 'liberadas', 'estan', 'deudas', 'hacen', 'perderse', 'molesto', 'profesionales', 'vendían', 'productos', 'exactamente', 'descripción', 'pague', 'aduanas', 'delvover', 'mentiroso', 'vienen', 'desbloqueados', 'llama', 'fraude', 'vergüenza', 'relieve', 'noncracked', 'destructs', 'oneoff', 'unlktmobile', 'googlers', 'clickable', 'affordance', 'steadiness', 'attachable', 'wcase', 'totalling', 'foreclosed', 'downloadinstallrestartinstall', 'fandango', 'volhomepower', 'apent', 'scatch', 'tue', 'mone', '81016', 'pillow', 'waterfall', 'coolness', 'unveiling', 'revamped', '41816', 'neededdesired', 'wouldntlong', 'refurbishedvery', 'thereason', 'transparency', 'canyon', 'flanked', 'laud', 'xfinity', 'xfinityvoicemail', 'twisttie', 'bluegray', 'inpretty', 'goldish', 'newtome', 'rescuing', 'runaround', 'infestation', 'suspicion', 'niche', 'yeeeee', 'inconveniente', 'tener', 'quemada', 'esto', 'mencionado', 'beforenot', 'funcionado', 'telfono', 'swtich', 'barn', 'operationally', 'observance', 'gros', 'probleme', 'nest', 'ecrite', 'francaisje', 'iposible', 'dutiliser', 'lappareil', 'transitiongsm', 'coral', 'aficionado', 'otherwiseit', 'markedly', 'culprit', 'tracfonejust', 'edgeso', 'gary', 'properlyhad', 'blanket', 'hic', 'lpddr4', 'breathaking', 'undisputed', 'aperture', 'deadly', 'gs7', 'broader', 'forgettable', 'uncompressed', 'uhq', 'upscaler', 'arsenal', 'perfentage', 'tentative', 'daysthe', 'mislabeled', 'uneasy', 'paperclip', 'thumbtack', 'standbylight', 'progressed', 'stamped', 'underlying', 'bloatwares', 'analog', 'cdmaverizon', 'somehowit', 'sizewise', 'ultrathin', 'chargerusb', 'gsmnow', 'pa', 'inspector', 'againmaybe', 'couldcan', 'sprinit', '9th', 'behaves', 'nominated', 'klutz', 'boomer', 'emitted', 'nitpicky', 'buffering', 'edgebattery', 'probability', 'hypersensitive', 'twosecond', 'throught', 'desactivated', 'proactive', 'livid', 'fore_warned', 'fore_armed', 'patched', 'sail', 'stat', 'overnights', 'halfinch', 'semioften', 'swathe', 'retiree', 'expressly', 'becuase', 'salga', 'lector', 'huella', 'ralladoal', 'enviárselo', 'familia', 'explotó', 'actualización', 'pésima', 'fin', 'desgracia', 'reacondicionados', 'purshase', 's10s', 'comprendo', 'cargador', 'onetoch', 'touchless', 'withrisk', 'investigation', 'cablenothing', 'insures', 'earing', 'twothree', 'overpayed', 'thefact', 'allnall', 'eselente', 'condición', 'hora', 'funcionando', '2018the', 'newmime', 'headphonejack', 'trashcan', 'principio', 'aceptaba', 'contactamos', 'hoja', 'dentro', 'dieron', 'indicaciones', 'desbloquear', 'enseguida', 'alguna', 'reconstruidos', 'apagó', 'volvió', 'dañado', 'cambiaron', 'respondieron', 'dicho', 'daño', 'ss6', 'processorits', 'heack', 'lends', 'phoneworking', 'sustainable', 'scratchesdents', 'batterynot', 'conditionbut', 'estubo', 'encuentra', 'completamente', 'entran', 'cuenta', 'euu', 'otra', 'compania', 'a100', 'recomendable', 'lento', 'hermana', 'presionas', 'aplicación', 'tarda', 'minutos', 'abrirla', 'flickersi', 'streatched', 'g935v', 'verizongsm', '780', 'valerykamboyahoocom', 'expectationsthank', 'taiwanno', 'empezó', 'fallar', 'simplemente', 'prende', 'abierto', 'línea', 'azul', 'indica', 'fallará', 'completa', 'mente', 'nearpristine', 'waiste', 'electronicsi', 'unavalable', 'diske', 'pelada', 'abajo', 'dar', 'feiliz', 'ustedesgracias', 'workso', 'phonenicely', '13rd', 'adapteras', 'pєrfєct', 'cσndítíσn', 'nσ', 'prσвlєmѕ', 'αt', 'αll', 'ѕhσckєd', 'wєll', 'wσrth', 'ít', 'farseems', 'monthssave', 'infected', 'virusas', 'websitesdisgusting', 'liesthis', 'strangle', 'greedy', 'wwho', 'mann', 'inconvient', 'makin', 'iup', 'tlk', 'takinig', 'discarger', 'diligence', 'spose', 'neohybrid', 'sequentially', 'salvageable', 'alldo', 'forthcoming', 'iteam', 'samir', 'parmar', 'firsthand', 'awfulweak', 'batterywor', 'programme', 'returnphone', 'deck', 'buttonfingerprint', 'autopace', 'deactivates', 'autospace', 'stressing', 'millisecond', 'throttle', 'exponentially', 'halfassed', '2screen', '3later', 'resultion', 'mashed', 'promoted', 'habitat', 'alter', 'machination', 'bypassing', 'applaud', 'sip', 'seizure', 'wirk', 'explodes', 'recertified', 'sealer', 'config', 'spiderwebbed', 'iscertified', 'waterslides', 'g935a', 'werestill', 'sogood', 'ba', 'corral', 'picscolors', 'febbut', 'shi', 'woukd', 'comcast', 'pricenever', '6618', '9810', 'pesar', 'reacondicionado', 'detalles', 'quemados', 'baja', 'mejor', 'implecable', 'pokeman', 'fineexcept', 'lifeeverything', 'suppposed', 'juat', 'unlockedthat', 'supervised', 'tidbit', 'badda', 'imessages', 'forse', 'selfnis', 'chatted', '101919', 'reassured', 'exept', 'alredy', 'ima', 'mintfox', 'champs_who', 'requisitos', 'promete', 'jetblack', 'rayón', 'trasera', 'poquito', 'desgaste', 'puse', 'comenzó', 'liable', 'wantsmost', 'selfy', 'lx', 'observe', 'spillage', 'jagged', 'greato', 'anywayi', 'callreceive', 'inviabiized', 'remit', 'pocture', 'altavoz', 'hablar', 'reproducir', 'iut', 'rerun', 'rebish', 'devuelto', 'perfectcame', 'wellno', 'deteriorada', 'usando', 'deception', 'conserved', 'prácticamente', 'llevo', 'años', 'sigue', 'ruido', 'resto', 'karen', 'esperas', 'ahhh', 'umteen', 'yawn', 'toooo', 'ayou', 'nonvegan', 'meatnpotatos', 'nongaming', 'noncraft', 'nontweeting', '111', 'mattered', 'picturesvideos', 'crisper', 'unfathomable', 'amazonsupported', 'retiring', 'electrowireless', 'cop', 'irreparable', 'propose', 'remover', 'definatley', 'deliveryonly', 'blacklist', 'usagedefinition', 'sk', 'skt', 'incur', 'versionother', 'perfeck', 'stepdad', 'phine', 'buttom', 'oveer', '34g', 'scrathesand', 'partythe', 'usd200', 'disappointingvery', 'hideous', 'homekey', 'certifies', 'wouldbe', 'edgehavent', 'conditionshiny', 'screennot', 'aythingits', 'eon', 'gueess', 'trashi', 'problemsworks', 'silica', 'bead', 'servicehavent', 'lindo', 'volvio', 'legales', 'dispointed', 'scratcheseverything', 'fineonly', 'slowbut', 'utiliza', 'contrario', 'extravió', 'urgente', 'obtener', 'rastrearlo', 'originality', 'bosina', 'siendo', 'cliente', 'según', 'arreglado', 'absolutly', 'fantasticlike', 'anda', 'conforme', 'sirvio', 'apago', 'prendio', 'muerta', 'hija', 'encantó', 'suficiente', 'iphon', 'decepcionada', 'rayado', 'likenit', 'moneyshipping', 'generico', 'mui', 'promorions', 'graciaa', 'coloque', 'lastes', '82918', '83118', '8418', '8618', 'wificameramobile', 'dataetc', 'chargercord', 'scrach', 'imperceptible', 'buttoni', 'eventing', 'naught', 'galaxi', 'insertion', 'mysprintcom', 'mysprint', 'thirtyeleven', 'bazillion', 'carp', '5came', 'uodatw', 'saidcwater', 'exvhange', 'parecía', 'usado', 'decía', 'sizzling', 'miltiple', 'tgere', 'dealfish', 'windon', 'wpuldnt', 'foresee', 'volumeeverything', 'appreared', 'reseted', 'callchat', 'inconveniencing', 'frezzeee', 'prevsiouly', 'removethumnail', 'sealedglued', 'avaiablesaid', 'agoit', 'overheatedcharged', 'caseactivated', 'shitty', '5100', 'daytoday', 'retrying', 'donti', 'onim', 'semidecent', 'crook', 'happyphone', 'untreated', 'refaccionado', 'darías', 'corriente', 'anyting', 'meit', 'workcould', 'quicklyspen', 'blackness', 'seriesmy', 'choicesi', 'notmake', 'sdcardsupoorted', 'trided', 'conected', 'suported', 'intacto', 'perfeccion', 'unauthrizunauthorized', 'dedetected', 'luego', 'quevrado', 'diro', 'sele', 'puso', 'nuve', 'tinta', 'bote', 'antena', 'especificaron', 'porquería', 'desfectuoso', 'incorecto', 'comunicacion', 'debolucion', 'telefonosamsung', 'vendiendo', 'aparatos', 'heredé', 'cantidad', 'grande', '90days', 'disnt', 'tomar', 'dectoso', 'virusbad', 'sauce', 'todabia', 'refurbiser', 'eventual', 'newmodel', '10818', 'n920a', 'ekings', 'imbedded', 'machined', 'stepup', 'consumable', 'anticonsumer', 'phonesuch', 'everybodys', 'chargecant', 'rechargind', 'engrada', 'agrada', 'alguno', 'anunció', 'inf', 'cado', 'exelelente', 'snes', 'drawful', 'integrating', 'indiscernible', 'lingosorry', 'billowing', 'noxious', 'constantlyits', 'bithday', 'erasedhow', 'conditionabsolutely', 'aod', 'butthere', 'removalinstall', 'controladjust', 'redirected', 'septotally', 'mirage', 'pesima', 'dano', 'llamar', 'whasapp', 'óptimas', '3mins', 'feeedbacks', 'confition', 'lured', 'superiority', 'possessor', 'famed', '41megapixel', 'ambition', 'prowess', 'sveltefeeling', 'understated', 'ipslcd', 'higherres', 'clickyfirm', 'overshoot', 'xa1s', '23megapixel', 'xmor', '24mm', 'specced', 'prioritizes', '549', 'equaled', 'classleading', 'imgur', 'fullsized', 'hyped', 'attenuated', 'mirrorless', 'impromptu', 'helios', 'p20', 'dismissal', 'crunching', 'cpuram', '600series', 'lowerres', 'inoffensive', '10style', 'manufacturerinstalled', 'snappier', 'lounge', 'july2017', 'backpocket', 'bended', '32gbmicrosd', 'legno', 'inportant', 'prediction', '8yr', 'lovez', 'snazzy', 'purchsed', 'yras', 'wowed', 'ewwweed', 'awedd', 'autocoodrecte', 'trammmmm', 'assuredly', 'ymlreachablere', 'heeded', 'ohones', '249', 'backspacing', 'dindt', 'reviewe', 'dumpster', 'notation', 'differ', 'icould', 'wail', '258gb', '299dollars', 'opaquely', 'limb', '4meses', 'golpe', 'táctil', 'arreglo', 'dicen', 'stylishhigh', 'pdoes', 'pantll', 'falla', 'bordes', 'manera', 'arreglarlo', 'xa1but', 'headphonesi', 'whyi', 'spiked', 'icelectronics', 'qualcom', 'advocate', '23mo', 'mm6', 'phoe', 'instgramsnapchat', 'attitude', 'thirdly', 'l1', 'flasl', 'soney', 'returnrefund', 'computerhowever', 'sont', 'arror', 'havs', 'echelon', 'borderless', 'sensibility', 'writting', 'frigging', 'problemtried', 'attentiontsk', 'detest', 'tilt', 'resorted', 'hottness', 'whatsnew', 'safemode', 'adored', 'bezeled', 'g3125', 'casefeitenn', 'httpswwwamazoncomdpb071ytcygcrefcm_cr_ryp_prd_ttl_sol_1', 'excepcional', 'acorde', 'ofrece', 'dwindling', 'demonstrated', 'backend', 'callback', 'assessment', '04feb2018', '19mar2018', 'locktite', 'magnifying', 'eclipse', 'joking', 'shotsindoor', 'teleconf', 'dominated', 'excepting', 'deadmywit', 'ably', 'feedbackhey', 'celebrated', 'mutedeven', 'sweetest', 'backnot', 'moneyrefused', 'goid', 'dissipointed', 'yor', 'tecnitions', 'refurbition', 'terry', 'rohlin', 'firewall', 'antivirus', 'suuuper', 'layoyt', 'costthis', 'escribo', 'medio', 'notificar', 'compro', 'enviado', 'entregado', 'aunque', 'gustaría', 'saber', 'pudieran', 'enviar', 'soporte', 'quien', 'recibió', 'responsabilidades', 'cada', 'articulos', 'greaaaaaaaaaaattt', 'fireso', 'braying', 'ets', 'sclean', 'x6', '17500', '5sec', 'shackingproof', '730', 'usetime', 'bellosabirgmailcom', 'phoneunfortunately', 'wirelesshad', 'thas', 'cheapso', 'motheri', 'shuffling', 'cheapy', '141', 'aosp', 'enticed', 'l1s', '267ppi', 'deploying', 'connectingdisconnecting', 'justifies', '6737t', 'poorer', 'hardness', 'streamer', 'unbloated', 'couole', 'cashing', 'opwn', 'diagnosing', 'insoftware', 'pixalated', 'clocking', 'ltesuper', 'aaah', 'promisedin', 'blanked', 'reconcile', 'scartch', '25500', 'itlooks', 'cheappoorly', 'dañando', 'headphonesplus', 'whatsmore', 'usong', 'suckit', 'phonebad', 'wthis', 'phonetabletlaptop', 'aré', 'relent', '80some', 'gc', 'gooey', 'mucus', '2mm', 'plugapple', 'contradicts', 'onnetwork', '4days', 'however12', 'lark', 'classification', 'temperproof', 'inspect', 'backafter', 'studied', '30to', 'looker', 'afterthought', 'reimbursedtill', 'doubleclick', 'miraculously', 'mintmobile', 'durabilityhopefully', 'afghanistan', 'blemished', 'certifieddeals', 'sameday', 'outlined', 'calentaba', 'precisamente', 'garantía', 'dejó', 'reparar', 'inservible', 'arriesguen', '66s', 'lonestar', 'sig', 'pursuing', 'problemif', 'cellphoneyou', 'ddi', 'twin', 'touchscreenreen', 'innards', 'iteams', 'sebastian', 'smelled', 'syrup', 'stickiness', 'greatthe', 'sí', 'figura', 'mantenimiento', 'parlante', 'apenas', 'unas', 'servicehad', 'cardotherwise', 'genetic', 'scandal', 'nominal', 'funcionalidad', 'pegged', 'destinado', 'han', 'dado', 'confianza', 'seguir', 'ellos', 'longwouldnt', 'bob', 'techinical', 'bayery', 'performanthis', 'ss', 'weekno', 'scratchlong', 'modewith', 'chargerwithout', 'agotada', 'cambiarla', 'tu', 'facil', 'configurar', 'ninety', 'relearning', 'ahve', 'wirelesswarehouse', 'ge', 'incl', 'soda', 'proudly', 'delightfully', '1131', '2040', 'kneeheight', 'oy', 'referbishred', 'verygood', 'costsshe', 'begged', 'marble', 'waygood', 'noooooooo', 'culmination', 'thst', 'newtoo', '2272019', 'settingsbatterybattery', 'healthbeta', 'rinoand', '5i', 'itfigures', 'appraised', 'gernally', 'curretly', 'lghowever', 'myphone', 'sobrina', 'life78', 'dd', 'vapor', 'suri', 'scratchesdefects', 'binging', 'feom', 'chages', 'gradens', 'amex', 'whay', 'iphono', 'osea', 'recomendaria', 'daystried', 'buyspy', 'geez', 'drone', 'surpose', 'promisedlooked', 'greatalthough', 'xxx', 'supero', 'envío', 'amigo', 'reallly', '34hrs', 'recibí', 'días', 'tirar', 'cargar', 'técnico', 'agenda', 'timeconsuming', 'awash', 'miei', 'inconsistently', 'bullsht', 'belkin', 'analyzed', 'magior', '20minutes', 'buought', 'dal', 'satisfecha', 'mamá', '20mins', 'blacknot', 'condoning', 'engaging', 'refreshed', '167', 'overshadow', 'decharged', 'a1688', 'probablt', 'impossivld', 'heath', 'uncracked', 'kim', 'marco', 'polo', 'conditioned', 'grime', 'overlapped', 'scored', 'consultation', 'splurged', 'spacenot', 'videowatching', 'sisterinlaw', 'frosting', 'marvelous', 'woo', 'bunk', '070718', 'giv', 'noice', 'rcvd', 'pude', 'lleve', 'solucione', 'pido', 'disculpas', 'solución', 'inicial', 'encontré', 'trastesa', 'proveedor', 'blanco', 'manzana', 'disfunction', 'lifecouldve', 'purty', 'supper', 'alreadyknock', 'gasta', 'nowbut', '5sperfect', 'badthe', 'dirtyscreen', 'plotsit', 'retreading', 'machinei', '11year', 'novedad', 'funcional', 'ofrecen', 'verdadero', 'cambio', 'caseit', 'properlyphone', '113', 'nowjust', 'dustierworse', 'assuring', 'imput', 'venturesthis', 'eaudio', 'cet', 'videosmusic', 'sho', 'krap', 'goddaughter', 'becuse', 'activitated', 'worste', 'sediment', 'goofed', 'advertise80', 'lensawesome', 'phonebummeralso', 'dustdirt', 'phoneyikes', 'scrapped', 'overstock', '256gig', 'theprunedanish', 'soundi', 'whatsappthere', 'blurted', 'metrot', 'goood', 'stratches', 'disguise', 'universally', 'catalogue', 'conditionhowever', 'dailing', 'redux', '20170906', '749', 'fearing', '464', 'umidigi', 'plusgot', 'welch', 'appand', 'perx', 'tumblr', 'appsgames', '3xx', 'maligned', 'octocore', 'factoring', 'october17', 'clobbered', 'may17', 'thereafter', 'subfolder', 'mannered', 'limousine', 'discerning', 'briefer', 'so1', 'mentally', 'cinco', 'mayo', '149', 'underpowered', 'lineever', 'featurevery', 'daysthen', 'plugnow', 'allnow', 'dumping', 'unload', 'locksup', 'ownedfas', 'lightningplenty', 'batteryinternal', 'alrightespecially', 'automaticallyor', 'slowslowslow', 'problemjust', 'samsungs3', 'technogeek', 'underground', 'chargingdata', 'cashe', 'facyory', 'forgiveness', 'monththen', 'bandaid', 'waitress', 'frusturating', 'laged', 'backlit', 'chargenotification', 'gotchas', 'smj727vpp', 'samanthatronics', 'itscreen', '13700', 'restores', 'buteverything', 'cutoff', 'reasonablebig', 'pintrest', 'versiongot', 'momscreen', 'sizevery', 'fom', 'hugh', 'ommissin', 'hibernating', 'occuring', 'supeeeer', 'priceawesome', 'freezea', 'callingblank', 'answerworst', 'slowww', 'j7perx', 'thans', '10days', 'upin', 'slowish', 'aroung', 'oyster', 'boist', 'mobel', 'dollers', 'unpolished', 'preposterously', 'doom', '4years', 'resizable', 'niggling', 'radiates', 'dupe', 'sting', 'pipeline', 'broadcaster', '9mbs', '129', 'shrugged', 'towel', 'prizeed', 'afters', 'nicemore', 'picturesit', '1980s', '64k', 'bog', '113017', '12999', '15999', '13799', 'restraint', 'landfill', 'ohand', 'trendiest', 'doorstop', 'settingsdevice', 'strap', 'wristlet', 'kmarts', '20092015', 'whateveralways', '5mo', 'androidfriendly', 'geographical', 'strongest', 'ghostshe', 'cried', 'awwww', 'maaaa', 'slamming', 'flashingshowing', 'pressdown', 'segue', 'closeswitch', 'alreadypaired', 'donating', 'minutesi', 'personand', 'phonefront', 'willingness', 'nowother', 'bitit', 'alike', '816', 'afloat', 'restsrt', 'impatiently', 'beginnersi', 'stumped', 'appericate', 'boostmobile', 'wayy', 'decited', 'breakeage', 'estafaa', 'robaron', 'phonemaybe', 'restoreupdate', 'disease', 'nicksdings', 'xr', 'fortnite', 'rasguños', 'solicite', 'estética', 'stiffed', 'expansivebuy', 'muzzled', 'betterseems', 'gucci', 'rge', 'patronize', 'passlock', 'hijo', 'golpeado', 'centro', 'abrasion', 'pffff', 'satisfacción', 'conditionnew', 'weer', '98269', '6hg04', 'accesorio', 'aparte', 'pasado', 'semanas', 'reembolsado', 'acoording', 'compatability', '7no', 'servían', 'traba', 'seguido', 'nogood', 'issa', 'selfiesi', 'gitchy', 'stratch', 'presentación', 'speedtalk', 'hoo', 'dataaround', 'appsapp', 'mange', 'togocell', 'goodl', 'explicit', 'performanceit', 'requisite', 'organizing', 'sudoku', 'kakuro', 'g550t', '3132018', '472018', '62218', '7182018', 'smg935ai', 'plastc', '380', 'g935t', '90day', 'refurbuished', 'certifiedrefurished', 'expenseive', 'officer', '7edge', 'bugsspry', '935v', 'undecided', 'genial', 'procedieron', 'deverian', 'buscar', 'opción', 'resibir', 'nuevamente', 'esperar', 'gloss', 'crackled', 'empaque', 'tampoco', 'originales', 'debajo', 'espectativas', 'arrepiento', 'colorado', 'telekomtmobile', 'verzon', 'hotttt', 'allrendering', 'properlyit', 'ughhh', '2hich', 'sugiero', 'cobrar', 'ref', 'gsm935u', 'confidently', 'blurredreally', 'phonenice', 'feelgreat', 'screenetc', 'rightevery', 'phonesand', 'admirable', 'sucessfully', 'stucked', 'uodates', 'techician', 'wrks', 'rayas', 'roja', 'constantemente', 'fraudulentos', 'nanda', '935u', 'lgood', 'llegado', 'dise', 'atras', 'grasias', '2months', 'regrese', 'ase', 'estimados', 'consultar', 'reacondiconado', 'garantia', 'año', 'arruinó', 'oscuro', 'manchas', 'blancas', 'contraseña', 'desblokiar', 'activarlo', 'megustó', 'buywasnt', 'poduct', 'phonespecifiations', '375', 'miscolored', 'smg935t', 'omitted', 'futureproofed', 'tranferring', 'aaaaand', 'carriertmobile', 'smartfones', 'wended', 'downthen', 'uscellular', 'unpackaging', 'roughness', 'sporty', 'durabilitydont', 'knw', 'keeped', 'exatt', 'scooped', 'watergrit', 'angst', 'pf', '22nd', 'burnout', 'swimtrunks', 'labor', 'instructable', 'casescreen', 'appleandroid', 'footstep', 'rdp', 'likebut', 'greatespecially', 'easiness', 'evermaybe', 'niceno', 'activeunlocked', 'apo', 'prettyyou', 'bestonly', 'distinguishes', '2017justifies', 'sp02', 'receptionwhich', 'technologyput', 'isother', 'transceiver', 'sieve', 'unuseful', 'france', 'laminated', 'chargercable', 'extraction', 'arranging', 'funeral', 'heartless', 'char', 'hazard', 'iphone10x', 'workingnot', 'hazardous', 'litany', 'buenisima', '10h', 'babe', 'fundementally', 'oe', '700800', 'n0', 'noncurved', 'bootlooping', 'yubikey', 'token', 'twofactor', 'dataapps', 'thousanddollar', 'will', 'clime', 'reconnecting', 'cb', 'expectedly', 'functionbut', 'slowin', 'muchit', 'outterrible', 'lindline', 'otself', 'catch22', 'fatigue', 'amazinon', 'perfectno', 'undetectable', 'after1', 'networkatt', 'samsungvietnam', 'samsungusa', 'president', 'regurgitated', 'intuative', 'recognizer', 'funcion', 'americaninternational', 'compatil', 'pubg', 'mintsim', 'goodclear', 'nervoushah', '526', 'brittish', 'celcius', 'farenheight', 'manufaturers', 'corregi', 'panama', 'csc', 'xsa', 'sammobile', 'localized', 'soooooo', 'puzzled', 'accesssories', 'funcionò', 'diferentes', 'colores', 'negro', 'whant', 'estábamos', 'buscando', 'exotic', 'contradicting', '175k', 'nevee', 'italianotherwise', 'akg', 'lockedeverything', 'userscheck', '4glet', 'understaffed', 'impovements', '23hs', 'z1c', 'prohibitive', 'u1', 'lyca', 'spay', 'becuz', 'ratling', 'shore', 'enchufes', 'regulares', 'incomodidad', 'debió', 'precisarse', 'adjuntar', 'cómo', 'nuestro', 'tro', 'servir', 'enchufe', 'cambiarlo', 'kayaking', 'contry', 'tendancies', 'alertstest', 'haywirecrazy', 'itemsupplier', 'maple', 'sizein', 'reaally', 'nitidas', 'ovely', 'mostthe', 'leasttoo', 'phone6', 'inseide', 'producted', 'arctic', 'electrocell', 'successfull', 'okkknot', 'seguí', 'instrucciones', 'pego', 'salio', 'vale', 'pena', 'gastar', 'plata', 'itbought', 'wifewant', 'wantedno', 'feminine', 'stll', 'artic', 'arz', 'recommed', 'godd', 'ipay', 'dank', 'refurbedlike', 'flakingvery', 'scrupulous', 'scratchchip', 'slainte', 'sone', 'scracked', 'surreal', 'noscratcheslooks', 'manned', 'sgs5', 'yaris', 'camry', 'beak', 'totalmente', 'pelados', 'rajaduras', 'evicted', 'apost', 'newwas', 'valuewell', 'moneythsnk', 'svrern', 'smg950f', '756', 'futiled', 'sampled', '835', 'defintly', 'suppousedly', 'centric', 'buries', 'mounth', 'loan', 'didbut', 'pamphlet', 'okayish', 'abnormally', 'choicei', 'palatable', 'fearful', 'usedgadgets', 'datatalk', 'vipoutlet', 'harvey', 'jewerly', 'foul', 'hunt', 'diverts', 'twofour', 'wifeys', 'applehead', 'instantaneously', 'ubreakitwefixit', 'eclipsed', 'pocophone', 'f1', 'amoleds', 's8s', 's8s8', 'nonstock', '18000000', 'ulterior', 'motive', 'hostility', 'inadvertent', 'diminish', 'hiya', '12718', '022218', 'ihave', 'discouraged', 'forcibly', 'messgage', 'textnothing', 'gripping', 'limbo', '21500', 'prevoius', 'betterfun', 'merchendise', 'scoll', 'coarse', 'febuary', 'disapionted', 'overstockreturn', 'recom', 'pylon', 'sightseeing', 'smg955uzkaxaa', 'smg955fzkdxsg', 'alarmed', 'pmic', 'savior', 'kannga', 'usedrefurbishedopen', 'glassi', 'forego', 'over300', 'plusafter', 'signin', 'smartly', 'likeexcept', 'unsecured', 'isp', 'wk', 'smg955u1', 'smg955u', 'piercings', 'critque', 'defently', '48999', 'caseno', '800unlocked', 'satisfiedthis', 'devicesbut', 'suppress', 'brooklyn', 'upstate', 'itperhaps', 'appssystems', 'logostartup', 'esterday', 'sorriest', 'progressivly', 'unbroken', 'flawlessy', 'noninternational', 'freetone', 'orderedone', 'centigrade', 'kilometer', 'fd', 'conidition', 'sock', 'tooleverything', 'facial', 'sometimey', 'mtropcs', 'membrane', 'bienfunciona', 'perfección', 'humm', 'boxand', 'myselfhopefully', 'bow', 'therewas', 'frastureted', 'purcahse', 'striped', 'lockedhow', 'ityou', 'viewpoint', 'richest', 'muck', 'gob', 'petes', 'mining', 'telcoms', 'xaomi', 'nix', 'hobbled', 'desireneed', 'accustoming', 'concider', 'leased', 'peanut', 'deluce', 'ln', 'wellprotected', 'rrlaxed', 'denver', 'guided', 'iswhy', 'asif', 'headlinepiece', 'regulated', 'hicieron', 'diseño', 'diario', 'rapidez', 'myverizon', 'cannotdetect', 'featuresupgrade', 'simup', 'abate', 'abtew', 'tal', 'boa', 'aparelho', 'fenomenal', 'optiob', '970', 'vzn', 's2s3', 's6flat', 'twoone', 'unseen', 'uncoveredvery', 'infinityedge', 'amazig', 'urgent', 'navigtate', 's8is', 'extender', 'srue', 'snowing', 'sarcastic', 'mot', 'jenifferfoster8gmailcom', 'moon', 'returened', 'rota', 'solicito', 'realice', 'reposición', 'ayude', 'dólares', 'ohyeah', 'crammed', 'versionuae', 'ip6', 'ss8', 'furiated', 'cinema', 'cherry', 'crapple', 'madagascar', 'conductor', 'aborted', 'qualifies', 'demonstrating', 'distorting', 'uplighting', 'resurfacing', 'turnedtook', 'sponsored', 'drilled', '10months', 'extrabrittle', 'midcharge', 'renegs', '15gig', 'roadtrips', 'interchange', 'tizen', '71219', 'equate', 'mercate', 'alleged', 'caregiver', 'wealthy', '2018i', '1mp', 'phonehowever', 'greatbought', 'hadearbuds', 'chordsim', 'smg955fd', 'evern', 'howeverthere', 'abomination', 'caddy', 's8a', '70anyoneanyone', 'talkomg', 'buymy', 'bri', '5bucks', 'g4plus', 'royce', 'throughly', 'productmy', 'información', 'aportada', 'slacewater', 'smoothnice', 'powerfulfast', 'chargingi', 'philippinesthe', 'clearthanks', 'niceso', 'dominate', 'luggage', 'phot', 'grado', 'descrito', 'rallado', 'rj45', 'unoriginal', 'stressetc', 'swiftkeyswipei', 'screenpoor', 'protectorbut', 'phonenext', 'edgesamsung', '10e', 'frontier', 'unicycle', 'speedbatterymileage', 'mediapad', 'todavía', 'esperando', 'agan', 'orchid', 'quacking', 'godspeed', 'dostoevsky', 'chubbietech', 'identifiable', 'corta', 'música', 'ocupo', 'stove', 'designstyling', 'bauhaus', 'overstyled', '105', 'ultraslow', '960', 'lowlevel', 'interpreted', 'dispense', 'brit', '3840', 'detraction', 'contention', 'timeless', 'htcu11', 'wellreceivedthe', 'deepsea', 'ail', 'steadyshot', 'bliss', 'zenwatch', '1618', 'ted', 'gs8', 'lg30', 'camerawhile', 'agois', 'snapseed', 'sloped', 'makerbot', 'replicator', 'shelled', 'nil', '8core', '77mm', '3230', 'wgorilla', 'yyou', 'firmwarewith', 'ce1', 'eying', 'shamelessly', 'jim', 'bruce', 'almighty', 'flurry', 'slomosuper', 'photosvideo', 'vlogging', 'unbelieveable', 'fireengine', 'calldata', 'athens', 'tx', '40miles', 'wtmobile', 'wopen', '49000', 'knowhow', 'multiprocessing', 'diggin', 'higherbut', '730am', '930pm', 'gardener', 'reflective', 'guybest', 'oshands', 'toobest', 'endlessexpandable', 'lifeits', 'tym', 'slo', '960fps', 'smartfon', 'hasone', 'publicity', 'rosso', 'cameragreat', 'noncrash', 'interrupted', 'jaw', 'exacly', 'u11', 'revolutionizes', '19mp', '17mp', 'fasters', 'expectgood', 'sebastion', 'upc', 'targeted', '095673864349', 'allocated', 'unfinished', 'angular', 'programmability', 'acoustic', 'chamber', 'ecstasy', 'mids', 'ce', 'prefere', 'acres', 'speedtest', '60mbps', 'sd835', '64gbmicrosd', 'needfor', 'eyecandy', 'simmicrosd', 'a7r', 'indented', 'tail', 'measurable', 'ski', 'vermont', 'barcelona', 'mwc', 'leisureweekend', 'indifferent', 'dataonly', 'eitheror', 'simsaccounts', 'musicstreaming', 'chromegoogle', 'beautifulslippery', 'rouge', 'g8142', '13107631', 'loyalist', 'technological', 'carwhen', 'selfcall', 'boxy', 'obnoxiously', 'dripping', 'undeniable', 'passerby', 'worsens', 'unupdated', 'glorilla', '599', 'biggish', 'contemplated', '9update', 'zr1', 'timewhich', 'huecolors', 'brightens', 'editable', 'fivesix', 'fingerprinting', 'camera2', 'api', 'slowmo', 'sonycom', 'wastage', 'pleae', 'kelvin', 'wb', 'inspire', '475', 'unfixed', 'richer', 'underperforms', 'implore', 'usedvery', 'condescending', 'plugins', '12019', 'awfully', 'shutoff', 'chargerother', 'fromthe', 'pakage', 'todaywas', 'havethe', 'giftbut', 'hudge', 'traditionally', 'onceinalifetime', 'lifevery', 'commonplace', 'edt', 'xprts', 'venezuelamovistar', 'ltegsm4gcdma', 'breach', 'spied', 'firebird', 'volkswagen', 'engages', 'instalado', 'accord', 'configuración', 'sencilla', 'dcunlocker', 'amazon_us', 'tj', 'fizz', 'broadband', 'mtn', 'glo', 'energized', 'hapy', '5secs', 'julythis', 'phonenow', 'salon', 'screenwide', 'tlf', 'necesitaba', 'norton', 'motog5', 'sammy', 'j053jose', 's11', 'a9pro', 'cushion', 'maxi', 'silverrey', 'unite', 'awesaum', 'utube', 'qué', 'abombada', 'despegó', 'tapa', 'pasar', 'envie', 'dan', 'smallno', 'aboutdidnt', 'v30', 'descripton', 'internationel', 'millll', 'eisn', 'dejo', 'caso', 'lunes', 'mandar', 'hindrance', 'separation', 'prettyfying', 'overprocessing', 'beautifulit', 'goodthe', 'verona', 'overburdened', 'overture', 'imvery', 'withmy', 'inthe', 'fallado', 'basicly', 'rarin', 'transcript', 'tasked', 'imitating', 'alexa', 'jar', 'binks', 'remap', 'retaliated', 'countermeasure', 'antibixby', 'disabler', 'harmless', 'bxaction', 'whine', 'nexuspixel', 'remapping', 'rightly', 'fantasticeasy', 'jatin', 'preliminary', 'analysis', 'us100150', 'us350', 'commune', 'resists', 'g9550', 'dragon', 'g955fd', 'modelor', 'specificatìons', 'withusa', 'everyway', 'puchase', 'allid', 'tpo', 'restoere', 'ofcause', 'on5', 'readwork', 'attributable', 's9plus', 'deja', 'activan', 'descargado', 'terminar', 'volvere', 'podrian', 'cambien', 'chino', 'tore', 'thoughworks', 'doubted', 'wring', 'gears3', 'smg955f', 'embargo', 'abrir', 'resultó', 'nivel', 'reiceve', '492', 'sim1', 'pleny', 'wirelessplace', 'presento', 'whelmed', 'descripcion', '70900', 'recommmend', 'swedish', 'excelenete', 'harbor', 'issuewellcould', 'overpay', 'incorporated', 'itemi', 'fabricated', 'espectáculo', 'wps', 'auriculare', 'batidos', 'oerfecto', 'finewell', 'plazos', 'estableció', 'evrthing', 'ayudaron', 'solucionandolo', 'europa', 'toetotoe', 'taught', 'oneyear', 'resultados', 'describentodo', 'nicethank', 'sheers', 'thansk', 'm10', 'superstar', 'outobviously', 'aways', 'insufferably', 'homemade', '8895', 'qualcoms', 'fare', 'nopt', 'concet', 'lagwiz', 'colleaguesfriends', 'decepción', 'buyerush', 'weighted', 'akward', 'codecs', 'vlc', 'nextgen', 'nonbranded', 'postagepaid', 'edit312', 'undeniably', 'recomendation', 'complimenting', 'isfor', 'sosmart', 'muscle', 'glaxey', 'grealy', 'centavo', 'g955f', 'vishnu', '1346', 'carlos', 'samsuns', 'comparability', 'fabuloso', 'graciaaaas', '5t', 'africanigeria', 'crusader', 'hows', 'clingy', 'shortlived', 'assaulting', 'prized', 's60', 'secondarily', '6inch', 'computational', 'umbilical', 'weighed', 'ampere', 'stingy', 'onefifteenthousandth', '115000', 'onefiftythousandth', '14000th', '3200', 'vinsic', '20000mah', 'poweradd', 'foldable', 'amazonbasics', 'terrapin', 'absorbing', 'imagestabilization', 'sixhour', 'redeye', 'pulsing', 'widescreen', 'discretionary', 'optimize', 'postproduction', 'editor', 'premiere', 'canon', 'd5', 'stitched', 'boundary', 'irs', 'fatthumbitis', 'sexier', 'tham', 'queued', 'videodisappointed', '450ppi', 'xa3', 'lmfao', 'alsoamazing', 'wirelessn', 'hindered', '1111', 'hgad', 'issuesit', 'concerted', 'midtier', '1month', 'blueray', 'turntable', 'zise', 'worsephone', 'rhis', 'granting', 'monthsit', 'happned', 'isues', 'acquainted', 'imbersion', 'aber', 'volumeonly', 'uncomrfotable', 'incline', 'feburary', 'aperia', 'sophistication', 'g3223', 'afordable', 'vergonzoso', 'hayan', 'mandado', 'baterrt', 't2', 'recepcion', 'gad', 'phonetook', 'otherbest', 'cancelaron', 'motivos', 'volver', 'bery', 'thisbig', 'cumplio', 'peopleand', 'goesyou', 'disservice', 'pixelfront', 'pixelback', 'proponent', 'regularity', '99direct', 'codeso', 'unlockedif', 'shamble', 'chemical', 'snapshot', 'haved', 'serie', 'freeway', 'frontage', 'corse', 'unistall', 'draconian', 'toned', 'fay', 'telemarketerscammers', 'peoplebusinesses', 'wording', 'hdvoice', 'reexplained', 'reiterated', 'nonsony', 'provision', 'irrational', 'cooperating', 'leprechaun', 'differed', 'após', 'só', 'mtk', 'pluspe20', 'pe2', 'damned', 'angling', 'hangup', 'oughly', 'xperiaxa1', '032018', 'doesntgot', 'bamit', 'iconic', 'obstruct', 'classing', 'newlove', 'sammie', 'storage10', 'flash10', 'whike', 'bluecyan', 'vaction', 'landscaping', 'evennafter', 'ig1010', 'terriblyplus', 'headphonesafter', '300i', 'nonplus', 'nonamerican', 'finaly', 'micrófono', 'oyendo', 'hablaba', 'misma', 'efectivo', 'lye', 'debloqueado', 'updateas', 'shippingcall', 'chewed', 'reasonresetting', '7001000', 'speedyness', 'immed', 'chancing', 'slooooowonly', 'junkhave', 'phonr6', 'desastre', 'permitiendo', 'esté', 'pérdida', 'hackedhas', 'voicemessagez', 'vpicemaul', 'suppliermy', 'purchace', 'impresive', 'porblem', 'hissing', 'emeculate', 'biggey', 'workwith', 'recommendthe', 'conscerned', 'fromsamsung', 'tony', 'audiophone', 'nanocoating', 'assures', 'exaggerating', '3998', '3988', 'transpyreperfect', 'eitheri', 'lolthey', 'lifedestroying', 'ridge', 'advisor', 'astonished', 'estéticamente', 'vibracall', 'demás', 'perforrmance', 'niceclean', 'timeworking', 'genérico', 'publicado', 'achieves', 'breakfast', 'shudder', 'antennastravel', '3720', 'youtuber', 'jerryrigeverything', 'spacer', 'victim', 'empathized', '625', 'mapmyrun', 'gameswould', 'documentary', 'attractively', 'phoneuser', 'aquos', 'meizu', 'itching', 'budgetmidrange', 'milled', 'hmdnokia', 'greenblue', 'orangey', 'pee', 'chipsets', 'chargingnotifications', 'boggling', '14gb', 'fujix100', 'warble', 'hostage', 'onphone', 'adsoffers', 'multistep', 'anodyne', 'aamazon', 'vetted', 'conferencing', 'builddesign', 'unadultered', 'cpuintensive', 'adfree', 'blownout', 'substituteif', 'mishandling', 'higherranged', 'underprlerformer', 'outlived', 'musicvideo', 'unavoidable', 'condense', 'e60', 'e75', 'e52', 'portent', 'pinching', '71417', 'launcher3', 'redownloaded', 'coloring', '71217', 'nokiahmd', 'nonad', 'drawrate', 'huaweiis', 'staterun', 'benevolent', 'waffled', 'vow', 'conscientious', 'habitual', 'solver', 'clunkinesses', 'hokey', 'communing', 'kinship', 'batteryphone', 'venting', 'awarebess', '225', 'remarkably', 'dolby', '5years', 'nonspeaker', 'becausewhy', 'enuf', 'pricecmy', 'mourn', 'paraguay', 'latitude', 'phonecamera', 'artefact', 'ripping', '30ft', '4ft', 'blactop', 'resolutionpixel', 'letterbox', 'inscreen', 'snail', 'bk', 'accts', 'autorotate', 'handthumb', 'finnish', 'decidedly', 'bashed', 'cellports', 'oreoto', 'behaviour', 'sygic', 'zipping', 'averagebut', 'acheived', 'b2x', 'limitedsound', 'ta1025', 'ridicule', 'noads', 'awoke', 'provission', 'didntmeet', 'multifreq', 'caannot', 'quise', 'tratar', 'escogí', 'paque', 'comparación', 'valido', '1h', 'susceptible', 'complaincamera', 'regrettable', 'zero0', 'reqiured', 'siemens', 'onmy', 'actuallycheaper', 'relates', 'threestar', '73117', '72917', '71517', '71117', 'caring', '420', 'intends', 'stereoits', 'certainty', 'meansmaybe', 'splotching', 'beneficio', '950xl', 'producer', 'gd', 'redness', '7232017', 'okey', '2430', 'procector', 'phonebloatware', 'lástima', 'ninos', 'absolutelly', 'hmd', 'shortfall', 'bestloving', 'pricebenefit', 'ithelp', 'earset', 'adhering', 'alternated', 'kidney', 'greece', 'banker', 'cn', 'performanc', 'beutyfull', 'tasty', 'goodlove', 'concur', 'detector', 'pricecamwra', 'carplay', 'surfaced', '5080', 'recoup', 'woof', 'networkprovided', 'est', 'pst', 'deselect', 'softness', 'indentation', 'gag', 'goodwaste', 'omgwhat', 'bodymetallic', 'nokiathe', 'realit', 'complaininggreat', 'ebays', 'tmobilemetropcs', 'answerdecline', 'showes', 'sayfor', 'previouscurrent', 'pup', 'malwarebut', 'easilyive', 'starsthey', '6i', 'wifiplayed', 'songand', 'clearerwas', 'nokiachargingcompleted', 'chargingphone', 'messagenadamy', 'understandthe', '232018', 'ftp', 'netscan', 'undue', 'indiana', 'presentable', 'obd', 'polar', 'wearlink', 'withings', 'analyzer', 'reputed', 'propensity', 'overengineer', 'screenbeating', 'dictated', 'sept10', 'buitin', 'define', 'steaming', 'lesspowerful', 'cpuresulting', '920but', 'recommendand', 'weapon', 'ch', 'thereabouts', 'enlightened', 'preconceived', 'bonafide', 'whore', 'relaunched', '2690', 'bmobile', 'terrazo', 'metre', 'tumbled', 'spiralled', 'sublime', 'scratchless', 'datetime', 'plugandplay', 'exhale', 'dioxide', 'inhale', 'respire', 'earbudsheadphones', 'unworkable', 'silveraluminum', 'carrierjust', 'crushing', 'conduct', 'strippeddown', 'interval', 'touchpress', 'stationary', 'nonphysical', 'passenger', 'invariably', 'businessoriented', 'stubbornly', 'unreliably', 'impreza', '24000', 'debugging', '12gb', 'openbox', 'autodim', 'brightening', 'pawning', 'venmo', 'byrd', 'scooter', 'excruciating', 'caved', 'mutitasking', 'painstakingly', 'conducted', 'highlyrated', 'microb', 'peeing', 'reentered', 'experiencethat', 'ists', 'reparable', 'repairman', 'transitional', 'phoneupgrades', 'inital', 'charginga', 'constructing', 'twosim', 'repairreplacement', 'dowm', 'systemit', 'atmos', 'startle', '83017', 'whitelist', 'ym', 'fiancée', 'coloringlighting', 'skewed', '81617', 'indefinite', 'winding', 'administration', 'unibody', 'introductory', 'snob', 'revisited', '823', '827', 'backim', 'mu', 'bumpy', 'h2oeasygo', 'easygo', '19216821', '19216801', 'chatphone', 'reviving', 'hick', 'identifying', '75mbpsh', 'wath', 'beter', 'simulate', 'phlnss', 'gnna', 'kraymericallc', 'countrytrust', '23000', 'overalli', 'newfast', 'badi', 'nicei', 'biy', 'deduce', 'sanitized', 'demonstrate', 'dodgy', '2448', 'mca', 'blemishsmudge', 'mn', 'sitepossible', 'concluding', 'unfounded', 'rasguño', 'rayones', 'sonylg', 'sufrí', 'leí', 'cardstampoco', 'dissipates', 'aceptó', 'aparece', 'pasando', 'enbalado', '900mhz', 'encantono', 'diferente', '89s', 'needlepoint', 'debra', 'moss', 'smartphoneit', 'verizoni', 'softwarewise', 'inquired', 'preforming', 'wonkycan', 'fabulosa', 'resolución', 'ampliamente', 'conseguir', 'funda', 'pues', 'cuerpo', 'fácilmente', 'thisvunit', 'allis', 'smj327u', '1280', '988', 'watt', 'backcover', 'disassembly', 'geekbench', '341', '1646', '1666', 'workload', 'homevolumepower', 'misbehaves', '0011', 'unlofked', 'protecteors', 'juncture', 'lugging', 'cjarger', '_ツ_', 'shockabsorber', '2g3g4g', 'sfmn', 'universalthat', 'inviting', 'excelpt', 'veteran', 'usmc', 'pretective', 'j327a', 'gsmcapable', 'mishmash', '327u', '327a', 'surmise', 'unsold', 'remaindering', 'samsunglabeled', 'gsmspecscom', '1paragraph', '107', 'nominally', 'gsmspecs', 'companybranded', 'malwareadvertising', 'amazonthis', 'refurbas', 'functionsanywayits', '258', 'stepdown', 'j3s', 'gor', 'practicidad', 'manejarlo', 'urgh', 'earphonesthats', 'unsensitiveneed', 'tapbeautiful', 'picsbeautiful', 'resultssound', 'excellentshipping', 'timelyall', 'recomment', 'liability', 'conveyed', 'reappear', 'misrepresents', 'inasmuch', 'speakerringer', 'softkeys', 'phasong', 'vetting', 'certify', 'bairly', 'revival', 'onsoftware', 'voicevoicemail', 'triggering', 'bewildering', 'accu', 'inspires', 'signifying', 'ctoc', 'ghetto', 'talktotext', 'nonexsistent', 'sgb', 'endoflife', 'liberally', 'debilitating', 'dunk', 'thrid', 'dysfunctioning', 'wig', 'unnecessaryly', 'talktextweb', 'pagesmaps', 'dentsscratches', 'shoulda', 'tun', 'forcerestart', 'prentiss', '5w', 'dailysales', 'days9', '10amps', 'residual', 'solder', 'paintwork', 'nonvendorreimagined', 'recycling', '2018now', 'dissappear', 'portsee', 'plierssee', 'issuesreturned', 'byod', 'reinstalls', 'woooowww', 'phoneexcept', 'fualter', 'nonstandard', 'typicalstandard', 'remaing', 'devolvi', 'regresaron', 'boxkept', 'rebootingreturned', 'microphonespeaker', 'hearingreceiving', 'contidion', 'stressyoull', 'workafter', 'boxseems', 'modelsecond', 'housesstay', 'modelas', 'managerwithout', 'strswould', 'flawreturning', 'samsungfirst', 'googleto', 'ul', '6hrs', 'wrongbattery', 'problemsincluding', 'functionsfeaturesbuttonsportsconnectors', 'flybynight', 'pittsburgh', 'scratchesscrapes', 'supplying', 'usto', '1216', 'irl', '91st', 'metexceeded', 'inon', 'containing', 'rootinstall', 'pricesalways', 'batterywe', '10mins', 'phoneuntil', 'shifted', 'boxing', 'errorlolotherwise', 'resepsone', '88yo', 'padlock', 'prompter', 'pricethis', 'encendió', 'sigo', 'espera', 'tinier', 'bid', 'degrading', 'andreas', 'npc', 'concentration', 'framerates', 'outclassed', '5sse', 'oledamoled', 'offangles', 'powersipping', '427', 'hardpressed', 'bonestock', '1014', 'surfer', 'airborne', 'oz', '9gb', 'budgetfriendly', 'networksso', 'devicesim', 'customeevseevice', 'fp', 'reclaiming', '112417', 'yyy', 'undertone', 'gouging', 'xt1775', 'hut', 'unresolved', 'delt', '102', 'alphabetically', 'lenovomoto', '5000ma', 'glich', 'callersyourself', 'interfacevery', 'e4plus', 'lifewhat', 'noncorporate', 'hookedup', 'adverse', 'aaaaalll', 'postpay', 'sh_tter', 'dinnner', 'amaze', 'politely', 'listener', 'alleviating', 'convey', 'mantra', 'snagged', 'hoooooleeeeeey', 'fastresponsive', 'sprintowned', 'blackfriday', 'mortgage', 'ginormous', 'tapnpay', '4day', 'pcb', 'technwireless', '212', 'professionalquality', 'serversetc', 'phonesit', 'timenot', '17900', '12500', 'carriersthe', 'sub200', 'amiga', 'teenagersnice', 'eyeballing', 'eplus', 'hd8', 'complaintl', 'awesomemost', 'smth', 'systemi', 'extreem', 'discord', '12days', 'sturdiest', 'rained', 'filtered', 'g4play', 'lagsterribly', 'whew', 'mozilla', 'everyhting', 'schould', 'figureand', 'retractable', 'update____3_21__2018____', 'calldd', 'feeln', 'crushn', 'preeettyyy', 'keepn', 'onhow', 'gglliiching', 'laggn', 'comn', 'octo', 'sloooww', 'somthn', 'lagggnn', '1775', '38hrs', 'electronices', 'blacklistedcarrier', 'reserved', 'couldntwouldnt', 'toosmall', 'chaos', 'emptying', 'outlaw', 'kasperian', 'preoreo', 'drupe', 'impervious', 'cured', 'diddling', 'dialercontact', 'overburdening', 'stillthree', 'nonamazon', 'standouts', 'pricevalue', 'eyeball', 'wificalling', 'translates', 'energizer', 'bunny', 'devil', 'tracfonev2wentp', 'multimode', 'maxx2', 'normaluse', '32ish', 'runtime', 'windowed', 'bottomheavy', '160250', 'freedompopcom', 'endured', '20180301', 'x1775', 'newegg', 'jeff', 'bezos', 'sciencefiction', 'memoryhogging', 'needlessly', 'niceloud', 'compacity', 'slug', 'lighten', '8pm', 'weed', 'yuge', 'essentialism', 'bottommost', 'videoi', 'finefor', '24hour', 'intensely', '36hour', 'systemic', 'needuse', 'e4s', 'abclean', 'motoe4', 'e5', 'sitter', 'longeri', 'ailing', 'ed', 'nearstock', 'enmeshed', 'othermoto', 'importante', 'batterygoodnessit', '812', 'materialappsservices', 'moblile', 'succes', 'motophone', 'billed', 'a1660', 'a1778', 'offerup', 'letgo', 'wayyy', '3start', 'advisement', 'saidfully', 'swindle', 'was1', 'abundantly', 'timethen', 'facebooks', 'humiliating', 'shelling', 'settingsits', 'varias', 'y2', 'salido', 'raspados', 'luz', 'opinan', 'expertos', 'checan', 'creer', 'vean', 'ósea', 'sean', 'baratos', 'manden', 'sirven', 'bocina', 'dsde', 'daba', 'apagado', 'estando', 'llevé', 'costará', 'devolver', 'traje', 'complicado', 'repararlo', 'malfunctionself', 'paymeforlife', 'verter', 'r2000', 'icertified', '7050', 'unl', 'superó', 'aire', 'realizaron', 'pactado', 'habia', 'domicilio', 'retiré', 'sucursal', 'decharges', 'recoomend', 'bestfriend', 'paet', 'damange', 'worjs', 'batteryand', 'luce', 'tanzania', 'usernamepassword', 'screenif', 'happythat', 'mattersit', 'previsto', 'quie', 'reciba', 'hago', 'entreguen', 'devuelvan', 'colorless', 'awesomr', 'considero', 'razonable', 'estrellas', 'mayoría', 'pruebas', 'statches', 'tendre', 'verda', 'prueba', 'funcionen', 'correctamente', 'enviarlos', 'wellbut', '204', 'goodnfor', 'realizan', 'advertisedwould', 'buenísimo', 'patiently', 'facilidad', 'yaya', 'minior', 'makwe', 'regalárselo', 'llegue', 'fui', 'dijeron', 'anuncuio', 'desbloquee', 'operadorapéguese', 'tenga', 'deuda', 'pendiente', 'tengan', 'cuidado', 'dure', 'lamentablemente', 'responsablemente', 'digo', 'coincide', 'caracteristicas', 'relatado', 'decente', 'haya', 'pase', 'ud', 'iba', 'dijo', 'seguramente', 'esos', 'compran', 'pagan', 'situacionestidavia', 'pasen', 'respindio', 'paso', 'mesellos', 'responsables', 'tengas', 'alarmistas', 'realista', 'imagínense', 'diciembre', 'resolver', 'cesen', 'vendedores', 'mental', 'barrier', 'rebuilds', 'rebuild', 'hk', 'flagpole', 'lottery', 'amables', 'rápidos', 'contactsbut', 'techsavy', 'común', 'entre', 'chineese', 'conclusively', '40f', 'phonw', 'invalida', 'decepcionado', 'kd', '10very', 'cableschargers', 'sansong', 'gallaxey', 'xor', 'defetuoso', 'recmiendo', 'triste', 'especial', 'poperty', 'boooooooooo', 'booooo', 'xz1', 'wilderness', 'collective', 'hindquarter', 'gaggle', 'slightlyrefined', 'sturdyfeeling', 'buildquality', 'balancing', 'bemoan', 'strives', 'nothingbutscreen', 'functionaldevicetrain', 'atbut', 'colorsaturating', 'stab', 'jobthis', 'sharpest', 'des', 'neutron', 'anecdotally', 'late2018', '201819', 'samsungapplelg3', 'attcingular', 'sti', 'solvable', 'willl', 'diactivtes', 'crossover', 'xperiaz3', 'g8341', 'g8342', 'voodoo', 'charleslhq', 'mush', 'toronto', 'horde', 'videocall', 'scsg50', 'xz2', 's8got', 'mdr1000x', '742', 'bleh', 'retard', '50mm', 'brainless', 'codename', 'poplar_us', '13104358_r5b', '471a2374', '20171001', 'potato', 'hdrcapable', 'singlesim', 'noiseclicks', 'provisioned', 'unstable', 'showhide', 'oversharpening', 'jpeg', 'publicly', 'techarmor', 'rhinoshield', 'skinomi', 'techskin', 'vigeer', 'stretchy', 'roxfit', 'guysgirls', 'smartphonedo', 'runescape', 'wrongthey', 'lumpy', 'samss8', 'sam', 'replacer', 'moonlit', '13101104', 'curaçao', 'jackwas', '7102018', 'overlaying', 'adventurequest', 'hoursday', '7080', '1416', '4060', 'phoneup', '4ghz', 'onehand', 'httpswwwamazoncomgpproductb07l85chx1refppx_yo_dt_b_asin_title_o00_s00ieutf8psc1', 'outoverall', 'hitandmiss', 'backingsomething', 'displeasure', 'datamine', 'lowprofile', 'outdoorsy', 'errant', 'ipx', 'patces', '5119', 'truer', 'phoneinternet', 'noob', 'setupthe', 'installi', 'decenti', 'twiceso', 'streamlines', 'gpscompass', 'monophonic', 'thereof', 'ooma', 'carcant', 'g6great', 'phonebutthe', '8085', '201617', 'slighty', 'guidemanual', 'judged', 'uodated', 'inbetween', 'indispensible', 'topping', 'relented', 'teamviewer', 'sens', 'dangling', 'empire', 'unshielded', 'attacked', 'daaaang', '202', 'lightaverage', 'interwebbing', 'preholiday', 'rightsized', 'lowrange', 'ofat', 'ageing', 'sterling', 'blueish', 'sandpaper', 'timesaver', 'smarthome', 'gamesgraphics', '5001000', 'easytoinstall', 'iittle', 'operaion', 'handsfee', 'rightbecause', 'areagotta', 'económico', 'podría', 'desear', 'parecido', 'manufacturergot', 'delaminating', 'bajar', 'aplicacion', 'grabo', 'ven', 'borrosos', 'serum', 'cubre', 'necesidades', 'versionno', 'overhead', '24x48', 'detectable', 'wizbang', 'adoptive', 'fileencrypted', 'useand', 'adsso', 'towersservice', 'textscalls', 'flashflashlight', 'topbottom', 'abiet', 'peaked', 'dt2', 'turbopower', '3500month', 's40', 'enamored', 'fbbut', 'nickel', 'tps', 'genbut', 'runningthough', 'waterdust', '1530', 'lanyard', '2tb', '19gb', 'differentlybetter', 'reconocieron', 'aceptable', 'unfortunaly', 'luckly', 'expresive', 'pfft', 'pricequality', 'aun', 'remnance', 'trilogy', 'outperform', 'splitter', 'dex', 'mhl', 'fearure', 'penup', 'note8', 'fri', 'orchard', 'drank', 'bronx', 'newtoy', 'serverside', 'grubby', 'disa', 'wego', 'lightroom', 'sjcam', 'netguard', 'aldiko', 'duolingo', '20190906', 'delved', 'supertight', 'oculus', 'bokehblurry', 'betteritll', 'lovedo', 'artflow', '4000mah', 'eggplant', 'pete', 'sendreceived', 'appleyou', 'conference', 'n950u', 'finetuned', 'bettar', 'softer', 'perfomance', 'layersoptions', 'virizon', 'wellloved', 'supersweet', '1130', 'dishonor', 'shill', 'iphoners', 'graduating', 'comfortiably', 'scoffing', 'purestarted', 'dumbi', 'dayi', 'havepeople', 'ppwerbanks', '11242017', '11272017', 'thougn', 'backbutton', 'upperleft', 'hardtohold', 'possiblethis', 'unethical', '4i', 'reformats', 'amaxons', 'walmartt', 'belonging', 'q35', 'smn950uzkaxaa', 'lastpass', 'neddie', 'panko', 'ssssoooo', 'framed', 'walker', 'ww', 'wisebiz', 'nun', 'purestyle', 'xt1575', 'lg7', 'exhilaration', 'cease', 'outofthisworld', 'alien', 'mkbhds', 'irreproachable', 'biometrics', 'lmei', 'felted', 'encantada', 'equip', 'individuality', 'thatim', 'biting', 'creativity', 'pursuit', 'adn', 'screenimpressive', '880', 'presentó', 'reemboloso', 'servicethe', 'farplan', 'graet', 'desaturated', 'aomething', 'tutor', 'usefulness', 'juju', 'sthe', 'dimensiion', 'usagle', '14hours', 'callsyes', 'kindayou', 'bottleware', 'almond', 'yikes', 'connectpair', 'callhandsfree', 'connectedpaired', 'lexus', 'softwarefirmware', 'compatiable', 'omar', 'latson', 'horrified', 'autoconfigure', '11232017', 'totalwireless', 'usmobil', 'casqe', '17h', '25min', '7h', '27m', '7884', '6573', '8593', 'admittingly', 'numbing', 'shelved', 'bucki', 'modifiable', 'complexity', 'streamline', '7783', '8487', 'hangar', 'smn950uzkavzw', 'bribe', 'appsmusicetc', 'skinniertaller', 'androidsamsung', 'cumbersomeirritating', 'encouragement', 'thanksfully', 'worrisome', 'caseless', 'n1', 'lookalike', 'nomad', 'b_y', 'intermarine', 'dolliz', 'programed', 'unasked', 'samsungcom', '262018', 'stolenmissing', 'repackage', 'amazonamazon', 'booknovel', 'blak', 'pay160', 'xenyos', 'insteadbut', 'v40', 'leaderboard', 'weighthaving', 'allthe', 'arthritic', 'ham', 'devicenew', 'androy', 'presales', 'techowiz', 'cigar', '4poor', 'comperable', 'chompsms', 'rust', 'scaffolding', 'promote', 'debacle', '4000ma', 'thorn', 'phokne', 'voicetotext', 'pressuresensitive', 'appts', 'stylishly', 'gu', 'onehighly', 'tingcom', 'eis', '560000', 'eyestrain', 'debloat', 'downfiring', 'speakermod', 'wickedly', '12mpx2', 'hugging', 'resilientdropped', 'pricealong', 'discounting', 'smacker', 'booya', 'uncertainty', 'smack', 'phab', 'pro2', 'instinctive', 'featuresimpressive', '90000', 'protectorshuge', 'warrantyhighly', 'subset', 'csrs', 'grievance', '80211ac', 'blueshift', '10º', 'exclaiming', 'stuttery', 'perpendicular', 'laterally', '4yo', 'dug', 'aday', '20190507', 'divided', 'alex', 'fpo', 'starhub', 'whatapp', 'myatt', 'sloowweerr', 'halt', 'over', 'onky', 'thumbnail', 'independently', '3310', 'punkt', 'mp01', 'almostdefunct', 'sirenshonkingyelling', 'tinnyhollow', 'appreciable', 'messagingthis', 'numpad', 'textthere', 'sendit', '5for', 'replythink', 'detox', 'trak', 'unrelenting', 'prison', '4digit', 'cyrillic', 'señores', 'fecha', 'realizado', 'seguimiento', 'infructuoso', 'requiero', 'retorne', 'agradezco', 'atención', 'sierra', 'leone', 'dualthe', 'cery', 'telefonos', 'vendió', 'bloqueados', 'devolverlos', 'tmy', 'wilmington', 'delaware', 'rm1135', 'cheet', 'ifu', 'deceit', 'ultralight', 'vibe', 'bargran', 'afghan', 'disit', 'suriname', 'güdel', 'unsmart', 'illustration', 'updownleftright', 'dodge', '5310', 'expressmusic', 'barstyle', 'arduous', 'manicurist', 'tac', 'mediasmart', 'tigo', 'functning', 'unhealthy', 'balloon', '10month', 'mediumlit', 'rearview', 'basico', 'unica', 'probado', 'seguro', 'menús', 'interfaz', 'amigables', 'lamnetablemente', 'asegurense', 'toque', 'bonitas', 'quiza', 'imagen', 'intenso', 'puedes', 'durar', 'necesitar', 'algun', 'viaje', 'puedas', 'cerca', 'salvará', 'esperen', 'buscan', 'ocasional', 'reproduccion', 'musica', 'maravillosa', 'opcion', 'conveying', 'countdown', 'ethnic', '3310s', 'glovebox', 'nostalgia', 'nostalgic', 'retake', '33210', 'backupemergencyburner', 'robocalls', 'ssm', 'christkindlmarket', 'ringbutton', 'wellwhy', 'dataway', 'thisonly', 'spoiler', 'ohmaybe', 'monththat', 'entel', 'bitel', 'learnt', 'suiting', 'ta1036c', '933', 'reintroducing', 'thirst', 'cautionary', 'proportionally', 'counterproductive', '191', 'shopplayburn', 'nation', 'artistic', 'coaxed', 'sampling', 'unintuitive', 'amiee', 'rearrange', 'endbackspace', 'aspahlt', 'nitro', 'unimpressive', 'buttonsphysical', 'controlessentially', 'buttonsone', 'userinterface', 'alphanumeric', 'stray', 'overrun', 'nuancesthese', 'newtheres', 'frequencieshspa', 'conceptease', 'workingprobably', 't9suggested', 'nonintuitive', 'asterisk', 'thatto', 'lowbattery', 'theoretical', 'versionid', 'remade', 'grounded', 'multipurpose', 'wildly', 'reissued', 'synchro', 'carriersregions', 'lowquality', 'vacillate', 'indecipherable', 'obstacle', 'unicas', 'conexion', 'bluethoot', 'promedio', 'carece', 'mensajeria', 'solamente', 'downtown', 'unimaginably', 'tacoma', 'nowday', 'emergencybackup', 'figuratively', 'instills', '10key', '555666555', 'whattsapp', 'interpretate', 'wrt', 'webinternetnetwork', 'batteryclerk', 'oping', 'duribility', 'uswe', 'moneycalled', 'mutingsilencing', 'capsule', 'upoff', '20yrs', 'conceptually', '1100th', 'upgraderebuy', '45g', 'sings', 'navegador', 'operador', 'fingered', 'instrutions', 'bottons', 'bookface', 'tweeter', 'repro', 'exce', 'otps', 'txting', '38mo', 'amazinng', 'adwares', 'hebrew', 'thught', 'diappointed', 'otherwose', 'faetures', 'panamá', 'poison', 'veryyyy', 'auntie', 'buyou', 'predicative', 'organising', 'phonetext', 'burdensome', 'nanomicro', 'reliance', 'dpad', 'navigatingclicking', 'trackball', '320', 'straggler', 'groggily', 'blinded', 'curtailed', 'walkingdriving', 'overreliance', 'rideshare', 'carshare', 'authenticator', 'godmother', 'retrophone', 'v195', 'prepurchase', 'techsupport', 'muchtoomuch', 'backlighting', 'drill', 'utf', 'finishnokia', 'cnn', 'alternatively', 'festival', 'mediadigital', 'inaccuracy', 'subside', 'senseless', 'voicedatatext', 'freeupmobilecom', 'forand', 'worrisomeit', 'hearmiscommunicate', 'mmssms', 'assistancecould', '35xxxxxxxx', 'baker', 'metricus', 'tempt', 'illfitting', '11yr', 'neighbourhood', 'uglycheap', 'oncall', 'decoding', '2533', 'navagate', 'junking', 'bigfoot', 'feelbut', 'retrostyled', 'freed', 'ergo', 'baojks', 'headjack', '10c', 'silentvibrate', 'larga', 'acabados', 'estructura', '3gcalidad', 'juegos', 'clásicos', 'incorporados', 'móviles', 'escuchar', 'series40', '3100', '12key', 'callend', '2megapixel', 'insertrandomnamehere', 'aokay', 'janky', 'coughed', 'chatthey', 'andboom', 'datawise', 'kissing', 'haptic', 'mushydelayed', 't9style', 'sharpsnappy', 'intentionalluddite', 'cluttering', 'undefined', 'dummyphone', 'maketake', 'fatherthe', 'powerend', 'fullbright', 'lifework', 'receivedisplay', 'declining', 'disappearingreappearing', 'fairy', 'smartfone', 'realization', '2gonly', '33103g', 'humanity', 'intervening', 'unremoveable', 'unintended', 'futureproofing', 'silencingchanging', '3g2g', 'pocketdial', 'keyguard', '20ft', 'niceworks', 'azure', 'childhood', 'lane', 'impulsive', 'excursion', 'toting', 'powerbank', 'roadshow', '1990', 'textyou', 'calculatorect', 'chap', 'uptravel', '7am7pm', '43gb', 'ta1035', 'wcdma', '2300', 'bitten', 'pricetag', 'sirrocco', '100k', 'hotspotting', 'ipv6', 'iphone8', 'breakdrop', 's5mini', 'factoryloaded', 'unimportant', 'enduring', 'tragedy', 'unbridled', 'cursed', 'victimsi', 'innumerable', 'conversing', 'swiftmy', 'misery', 'weighing', '162', 'gram', '720x1280', '296', 'steadily', 'strategy', 'leaned', 'tessar', 'clutterfree', 'tonne', 'oneplus5', 'unbearably', 'unread', 'ta1035b', 'rediculous', 'automation', 'capacidades', 'darle', 'sacrificaron', 'incluir', 'espacio', 'almacenamiento', 'actualidad', 'demandan', 'actualizaciones', 'compromete', 'quejo', 'dolor', 'cabeza', 'salgo', 'segundos', 'mostrar', 'opciones', 'habituales', 'pierden', 'controles', 'navegación', 'barra', 'igualmente', 'modelos', 'siguientes', 'resemblance', 'sub10000', 'navigationtextingemergency', 'browsingnoncritical', 'taper', 'exchangesapps', '890', 'citiesplaces', 'gpsagpsglonass', 'uninterrupted', 'neccesary', 'nopethe', 'handmedown', 'batttery', 'pointsamazing', 'lifegorilla', 'dropp', 'activateand', 'typingand', 'sobasically', 'filtersending', 'autointuitive', 'updateedit', 'receivingtesting', 'tookup', 'pallet', 'linkertech', '200400', 'stepbystep', 'cicra', 'tookthree', 'lowmaintenance', 'lowusage', 'phonedevice', 'chutzpah', 'iph', 'attemptstried', 'meeasy', 'glitchfest', 'respected', 'shining', 'potencial', '212s', 'sayit', 'slowdont', 'wastw', 'chargevery', '65g', 'spaceits', 'mufflin', 'wastevery', 'another600', 'excellen', 'ure', 'fones', 'androidprocess', 'podían', 'encender', 'apagacomo', '11012018', 'usé', 'noviembre', 'perder', 'slooooooooooow', 'phoneoverall', 'cupped', 'unremarkable', 'offensive', 'african', 'rvvl', 'rasing', 'rechazando', 'adicional', 'dejar', 'mencionar', 'incapacidad', 'conexión', 'lentitud', 'exajerada', 'pudiera', 'sería', 'allenow', 'cardif', 'lithuania', '161', '5in', 'ferrari', 'recap', '9395', 'funcione', 'enumerate', '1000000x', 'lifesometimes', 'sorta', '33908890', 'amazonwhat', 'rompen', 'lassoed', 'srsx55', 'attacker', 'complacent', 'subdued', 'pewter', 'brownish', '504', '143', '395', 'honking', '70gb', 'muster', 'servicable', '4100mah', '01112018', 'nokiacomen_intphonessupportpdfnokia2userguide', 'disturbautomatic', 'playable', 'outofwarranty', 'xpressmusic', '25mps', '21gb', 'brained', '768', 'lowpricegoodlooking', 'provisioning', '1gbyte', 'ddr', 'ramlacking', 'revision', 'reroute', 'expectationi', 'acceleration', 'forien', 'mostely', 'undirtunately', '1gig', '2well', 'after2', 'r2', 'numbered', 'succeed', 'aimlessly', 'towncountry', 'mssenger', '300900', 'friendlyim', 'farwhat', 'capacityit', 'vustomer', 'rememberance', '6xx', 'ta1049', 'speedily', '2gk', 'felices', 'contentos', 'slowi', 'aneurism', '408', '737', '0900', 'performanceunder', '1gbslow', 'enthusiastic', 'laterasked', '182018', 'mobilethat', 'unfriendly', 'grad', 'vers', 'jeez', 'thermal', 'cond', 'openboxed', 'rsting', 'physicalcosmetic', 'swallowed', 'goodlike', 'messager', 'mj', 'lesserknownbrand', 'playpause', 'fullcharing', '162019', 'colorway', 'pictues', 'huwaie', 'huellas', 'blackandwhite', 'lunar', 'propieitary', 'subtract', 'dropout', 'socsystem', 'quacomm', 'xtra', 'moviesetc', 'min1hr', 'waitforit', '2560x1440p', '537ppi', '565', '540ppi', 'similarality', 'bloatness', 'mumbo', 'offenseahem', 'chek', 'outvvv', 'existence', '10x3', 'ltps', 'dragged', 'benjamin', 'downsideupside', 'bw', 'brandenproof', 'cought', 'inquietud', 'abierta', 'banda', 'ayudar', 'smoed', 'z2force', 'customisations', 'linek', 'pooped', 'ameritan', 'pieza', 'aprovecharlo', 'máximo', 'húmedas', 'printout', 'rueb', 'phonedelivery', 'beyong', 'thinked', 'allstate', 'grinning', 'receivedownload', 'nerving', 'priceshould', 'choozy', 'nonblack', 'patriot', 'lockingunlocking', 'misusing', 'transactiondelivery', 'lente', 'g955u', 'bellrogers', 'g955w', 'manejable', 'freez', 'jade', '458', 'advancing', 'intension', 'havin', 'remarque', 'unfortunally', 'validation', 'validate', 'numberafter', 'whic', 'outsider', 'warring', 'whomis', 'planing', 'phony', 'bree', 'inappropriately', 'slik', 'sank', 'amazonwow', 'starsi', 'loli', 'moreguys', '926', '69999', '70851', 'moneycox', 'usedthanks', 'nbr', 'lela', 'talley', 'victor', '20190900', 'conditonnew', 'unlockyes', 'threre', 'usim', 'embrassed', 'receiveds', 'pacadge', 'celu', 'hermosoo', 'itstill', 'trong', 'creen', 'lik', 'protrayed', 'downrate', 'dumber', '8plus', 'ryszard', 'asis', 'scratchkind', 'scratchesmost', 'prettt', 'fecal', 'handledeasily', 'infeenationally', 'portajohn', '32gigs', 'inconsistentim', 'feedbackhelp', 'unexpectantly', 'pequeñas', 'inperfecciones', 'derision', 'wraparound', 'sadness', '______', 'yiou', 'chearting', 'amazonplease', 'revoke', 'ashipping', 'upgradefinancing', 'zgear', 'punto', 'prenderse', 'apagarse', 'parar', 'oo', 'bezelsbut', 'practicalityespecially', 'imac', 'sharpdetailed', 'chug', 'anyview', 'hisense', 'pointer', 'unbootable', 'exchangerefund', 'booooooooooo', 'progammed', 'esim', 'pixel2', 'especiallybeing', 'pi', 'xiomibred', 'regulates', 'marzo', 'escribir', 'programador', 'morena', 'contestaron', 'jacknot', 'exaggerated', 'smj500f', 'smj500h', 'buttonright', 'featurefilled', '2rd', 'responseds', 'activator', 'fined', 'organizational', 'foldesr', 'nonsearchable', 'uncaptioned', 'acdc', 'dcdc', 'hardpatch', 'workrelated', 'reassuring', 'photographing', 'compaq', 'ipaq', '12u', '31s', '30ish', '8162019', 'moreso', 'no35jack', 'disruptive', 'xxi', 'betterthanexpected', 'bestsmartest', 'doogle', 'widelyreported', '2yo', 'futher', 'v35', 'mundane', '529', '659', 'reinforcing', 'prioritized', 'crispy', 'newwith', 'allgreat', 'screening', 'pese', 'última', 'generación', 'actualizado', 'tremenda', 'alternativa', 'queremos', 'menor', 'trry', 'questionsvi', 'donkey', 'dontargue', 'directas', 'presumably', 'modeit', 'poper', 'upright', 'inear', 'overear', 'offkilter', 'onaxis', 'offaxis', 'eased', 'britain', 'versitility', 'panda', '9w', 'diskike', 'refurbused', 'bmw', 'automagically', 'voume', 'unscratchable', 'kahput', 'setupcustomize', 'stylusbut', 'marketand', 'anyhinthint', 'greatim', 'devliery', 'unrelated', 'pixelbook', 'trackpad', 'pixelbuds', 'chormebook', 'keyone', 'failseagerly', 'gdrive', 'amazeballs', '2xl', 'obsessively', 'detailing', 'handson', 'wellcrafted', 'usedit', 'conditionin', 'caseof', 'instructionsand', 'connectionsthey', 'screensaverfor', 'blackberrynot', 'awaylove', 'farwish', 'sojourn', 'competant', 'hurting', 'melody', 'bootheel', 'daresay', '640480', '112718', '34000', '112818', 'ingram', 'resetrestore', 'diga', 'verdaderay', 'confunde', 'edición', 'doble', 'frantic', 'hubo', 'qualcommm', '23hrs', 'amazonqualified', 'nearlycriminal', 'weasel', 'reenabled', 'garbageware', 'chating', 'remark', 'perfectbut', 'workthat', 'othewise', 'fiancés', 'nowi', 'stiffer', 'church', 'gasket', 'despues', 'cargue', 'volbio', 'decerian', 'marlon', 'alexander', 'mejia', 'extraordinario', 'workingand', 'huwawei', 'itemsit', 'expectaion', '284', 'powervolumebixby', 'balky', 'descr', 'upse', 'abou', 'keyboa4d', 'canno', 'ype', 'lezzes', 'ona', 'groan', 'cpcertified', 'decieded', 'perple', 'emmediately', 'reasonanly', 'picturephoto', 'perience', 'voicehangouts', 'petty', 'touchestaps', 'retap', 'ptsd', 'dazzling', 'setupand', 'remindertext', 'purchasedhttpswwwamazoncomgpawyaacbiarefyo_pop_mb_biareorder_paramsb077fy78312c11314919315377813', 'glaringly', 'redit', 'completing', 'noneverizon', 'directioncustomer', 'usbb', 'usbotg', 'nibbs', 'smdh', 'jacking', 'speakerberfore', '409', 'baked', 'scrutinizing', 'assinments', 'cardmy', 'outwhen', 'returninstead', 'fixedunfortunately', 'toospigen', 'gtg', 'oliophobic', 'cdmasprint', 'gsmtmobile', 'crome', 'federal', 'greatn', 'obvya', '419', 'inevitability', 'pest', 'reckless', 'acabo', 'adquirir', 'respecta', 'recomendarlo', 'temor', 'comprarlo', 'reseñas', 'puntaje', 'decidí', 'arriesgando', 'saliera', 'daños', 'pluma', 'realidad', 'plugcable', '15mins', 'featuresshe', 'stupidest', 'confronted', 'flagrant', 'invasion', 'customised', 'posibility', 'nonandroid', '5162019', 'forming', 'cavity', 'soldiering', 'howtogeek', 'revealing', 'bureaucracy', 'mindful', 'passionately', 'butgood', '30m', 'dependably', 'cclleeaann', 'perfornance', 'gothe', 'gibberish', 'psycho', 'derogatory', '8219', '28may2019', 'lowlights', 'llega', 'genéricos', 'laptopadd', 'incorrectlytotal', 'wretched', 'differing', 'colorblue', 'update6', 'microscratches', 'upgradefor', 'alsohas', 'chordsconnectorsadapters', 'ordene', 'mandaran', 'cellreception', 'manufacturervery', 'lolamazing', 'wirhout', 'maticulous', 'amzing', 'waterproofness', 'waired', 'unchanged', 'chubbiestechs', 'blk', 'striking', 'casa', 'estuviera', 'activa', 'refiero', 'dale', 'bloqueas', 'ger', 'exc', 'meif', 'quiere', 'cerrar', 'cesión', 'detailes', 'warehousei', 'answermy', 'wellthere', 'unlockedinstead', 'nothin', 'scratchiest', 'chubbie', 'cadillac', 'touchprotective', 'pl', 'travaja', 'cuál', 'publicación', 'adheres', 'whent', 'siad', 'fasterhardly', 'phonedavd', 'guythank', 'survice', 'desgastado', 'dañada', 'nyce', 'chafa', 'encendido', 'expliqué', 'comentarios', 'allmy', 'wasokay', '8and', 'wantedexpectedneeded', 'newtech', 'onbut', 'hourorso', 'broadcasting', 'subtitle', 'nextradio', 'multihardness', 'moveable', 'postnote4', 'glitter', 'scribble', 'sailor', 'bitched', 'infinitum', 'tremor', 'storeand', 'ctw', 'williams', 'voldownrestartbutton', 'wowsers', 'powerefficient', 'perctange', 'venerable', 'crayon', 'stylos', 'simplification', 'streamlining', 'turnoff', 'koodo', 'donr', 'candyusbc', 'yeh', 'everythingwell', 'wattage', '439', 'accelerometer', 'renewrefurb', 'mgr', 'watertype', 'scrap', 'unlockes', 'bhht', 'execellent', 'whining', 'dealership', 'bingbingbing', 'chargersamsung', 'conect', 'undetected', 'apparantly', 'looksfeels', 'unluckyso', 'phonemicrophone', 'workuseless', 'anazon', 'pessimistic', '3mths', 'sceptic', 'resistence', 'etched', 'np', 'networked', 'fantabulous', 'unwantedfinger', 'senseother', 'thingsphone', 'lovvvve', 'youuuu', 'disappointedi', 'exigent', 'ecellencent', 'notehad', 'encantado', 'fluido', 'antislip', 'httpswwwamazoncomspeckproductscandyshellphoneiphonedpb01k094iz8', '0600pm0700', '1231', 'lump', 'mobiledealz', '84900', '1128', 'screeninstead', 'delived', 'wiyhout', '11212019', 'misfortune', '1222019', 'idid', 'increment', 'advantageous', 'onpower', 'ensuring', 'multitouch', '690', 'nervioso', 'reconstruido', 'negocio', 'intacta', 'repetition', 'rewrite', 'jailbreaking', 'weddinglibraryquiet', 'differentloose', 'xwhich', 'oozing', 'cruised', 'gazing', 'chromeplated', 'feast', 'gleaming', 'forehead', 'er', 'emotional', 'ahem', 'marry', 'devuelva', 'lovable', '429', 'oemac', 'estuve', 'leyendo', 'opiniones', 'habian', 'convencia', 'decidi', 'anunciado', 'paqueteria', 'compañia', 'ahorita', 'completey', 'mío', 'mitad', 'pocos', 'reconocía', 'reclamo', 'objeciones', 'retuning', 'siim', 'ejecter', 'japanesechinese', 'plummeted', 'reloading', 'datasigning', '12in', '1110', 'trashy', '132r', 'pila', '265gb', 'zipped', 'applewhatever', 'healthmy', '11but', 'whati', 'hoursyet', 'dyingeverything', 'stillif', '247then', '87left', '90battery', 'stainless', 'predictable', 'mastertronics', 'scathe', 'quelity', 'discloses', 'voicesound', 'superando', 'raspones', 'afectan', 'oído', 'completeley', 'everyting', 'atttmobile', '760', 'venia', 'devolví', 'unofficial', 'nosotros', 'compramos', 'éstos', 'volveremos', 'éste', 'estamos', 'satisfechos', 'suficientes', 'reinicia', 'habeces', 'blokea', 'ahi', 'fuera', 'traducción', 'manifiesta', 'estados', 'unidos', 'timekeep', 'tenia', 'microrayoncitos', 'invisibles', 'paraece', 'maximun', 'faceid', 'binded', 'deberían', 'datos', 'horrific', 'barrack', 'a1902', 'exceeding', 'refurbishedrenewed', 'buyerspray', 'responde', 'blackout', 'inadmisible', 'assurian', 'cmas', 'looong', 'phonehad', 'assorted', '58000', 'refabbed', 'loke', 'rinkydink', 'badimstill', 'missie', 'werry', 'sucio', 'limpiaron', 'enviarlo', 'deslizó', 'resetie', 'haga', 'supe', 'charing', '55in', 'a8', 'effectsto', 'newno', 'prendido', 'pagar', 'calentado', 'masiado', 'reponde', 'mando', 'apagarlo', 'reinisia', 'otrabe', 'manecio', 'loco', 'fisixo2', 'inmediato', 'hontesly', 'highley', 'reconmend', 'punctured', 'meces', 'probándolo', 'merece', 'phonewatch', 'recocovery', 'internacionalmente', 'función', 'trademore', 'unharmed', '575', 'unpacking', 'leason', 'unlockedread', 'problemsit', 'itespecially', 'scaredbecause', 'publicacion', 'cobro', 'cuyo', 'obviamente', 'decencia', 'diferencia', 'jem', 'i8', 'lockedthe', 'astonishing', 'trepidatious', 'risked', 'biscuit', 'activatingusing', '87nice', 'unmarked', 'unanticipted', 'casethis', 'airpods', 'blocker', '132', 'imeiinfo', 'a1865', 'a1901', 'iphonex', 'boxenvelope', 'teared', 'networkstore', 'applecare', 'gong', 'journey', 'esquina', 'guesshowever', 'battery3', 'ojalá', 'señales', 'negotiation', 'apprised', '719', 'appointed', 'bitc', 'moan', 'purchasephone', 'tentatives', 'unsurprisingly', 'nw', 'altura', 'leve', 'suerte', 'splattering', 'webi', 'abolutely', 'lados', 'okgo', 'tipe', 'git', 'optimum', 'supone', 'faltaron', 'enviármelo', 'reccomand', 'comunicado', 'devolverían', 'cumplido', 'contactarse', 'reclamar', '91percent', 'signos', 'supuestamente', 'tenerlo', 'publican', 'reconocimiento', 'disponible', 'transferir', 'anterior', 'frezze', 'rayada', 'goodbut', '87baterry', 'selos', '584', 'fluctuates', 'tmobileattt', 'handeling', 'gsmonly', 'frontbacksides', 'dudas', 'asuste', 'plano', 'cubo', 'prender', 'pidió', 'lograr', 'primero', 'revisé', 'capacidad', 'indicador', 'mostró', 'efectividad', 'flamante', 'sorprendente', 'colocar', 'airpords', 'declutter', 'rápidamente', 'wirelessglobe', 'iphonexbut', 'xit', 'receiveing', 'iphonexplease', 'productand', 'buffingpolishing', 'firefighter', 'httpswwwbestbuycomsiteappleservicerepairiphoneservicerepairpcmcat748302046186cidpcmcat748302046186', 'srcatches', 'jsut', 'lien', 'defection', 'ascratch', 'powder', 'decelived', 'silencio', 'necesidad', 'cuanta', 'dislodge', 'defensive', 'beause', 'pue', 'sla', 'sorpresa', 'solicitó', 'funciin', 'solicité', 'venido', 'desperfecto', 'mica', 'jacky', 'adaptaer', 'usblightning', 'refutbished', 'ihonex', 'coneccting', 'questionconcern', 'finalizing', 'expectedcleanno', 'gohave', 'disapppointed', 'penwtf', 'describieron', 'itnot', 'lull', 'township', 'circled', 'referbd', 'vius', 'engraving', 'mentionned', '8i', 'ios12', 'paperwhite', 'autistic', 'thenew', 'loovvveee', 'boredom', 'pristene', 'nueva', 'thieving', 'maney', 'veryyyyy', 'gooooooood', 'kipping', 'desbloquiado', 'phonecondition', 'hasten', 'lefthand', '921707', '531228', 'fester', 'lighting35mm', 'installstore', 'unproperly', 'michearing', 'iand', 'midmorning', 'ghane', '550t', '551t', 'anuncian', 'cosa', 'cubait', 'familyso', 'wihich', 'misty', 'unfortinately', 'descompone', 'atencion', 'xonnection', 'cargando', 'screenspeaker', 'autospelling', 'embarrass', 'tabletlike', '5675', 'diagnal', 'ingenius', '4like', 'blackberrylike', 'sensational', 'chromedout', 'slicker', 'sweatshop', 'dlsr', 'halfpress', 'reframe', 'motioning', 'phoneimho', '3540', '3223', 'exacerbates', 'decipher', '3518', 'mastering', 'coldblue', 'squareshaped', 'deviceother', 'callingeasily', 'muddymuffled', 'dreadful', 'voltesometimes', 'hbs1100', 'hbs820', '45e', 'offbrands', 'scouring', 'minitower', 'cellspot', 'electricity', '6t', 'overal', 'pixil', 'axon7', 'halfscreen', '75so', '________________________________________________________________________________________', 'usecases', 'callingim', 'outoftouch', 'dispersed', 'notably', 'handholding', 'behaviorsconfigurations', 'invert', '__________________________________________________________________________________________', 'uibehaviorsetc', 'defacto', 'appswidgets', 'dashboardview', 'homegrown', 'sonycreated', 'publish', 'idleuse', 'lonesome', 'passage', 'piano', 'manifest', 'clearbass', '192khz', 'handilng', 'xaiomi', 'forsee', 'popsocket', 'casesscreen', 'eightmonth', 'z3plus', 'ítems', 'ontask', 'entertainmentwise', 'edtech', 'xa2u', 'resounding', 'weighty', 'swipey', 'movieplaying', 'chargerand', 'happeed', 'afer', 'evey', 'cooldown', 'inaccessible', 'ossoftware', 'frequenly', 'mined', 'wiukd', 'lightenbrighten', 'quirkier', 'm5', 'autosoftware', 'granular', 'bravia', 'deficient', 'appearancebit', 'crapeverything', 'wastewasted', 'moneybuy', 'samsungsumsung', 'besttank', 'formulate', 'handfull', 'glaxies', 'athletic', 'noche', 'miy', 'asthetically', 'duró', 'remedio', 'resetear', 'llena', 'imaginable', 'momentos', 'desempeñado', 'jjr', 'responsitivity', 'mensaje', 'parecio', 'valio', 'proccess', 'ramm', 'nears', 'amid', '1320', 'ameven', 'increadible', 'faintest', 'dimming', 'parallel', 'slippy', '9298', 'admiring', 'gravitate', 'sizebezel', 'aboveaverage', '78oz', 'cameramaniac', 'canwill', '16megapixels', 'snapdragn', 'ghosttouch', 'softbank', '51619', 'xa2s', 'therell', 'einskin', 'uninterested', 'mayjune', 'appall', 'midlevel', 'mediaafter', 'patio', 'chinesemade', 'comprehends', '2915', 'disablehide', 'cardnumber', 'autocorrection', 'overwrite', 'wantingneeding', 'maid', '23mpbut', 'compute', 'shennanigans', 'tmobilethis', 'h3223', 'httpswwwamazoncomdpb077zrwxpfrefcm_cr_ryp_prd_ttl_sol_0', 'xz3', 'prometido', '530am', '50percent', 'satisfactoryconsidering', '221', 'slipperybetter', 'repairupdates', 'diffrent', 'allsorry', 'contribute', 'esperia', 'l2', 'verizontmobileatt', 'baseline', 'detures', 'outward', 'negra', 'compraron', 'falta', 'entiendo', 'pagado', 'regresen', 'posible', 'envía', 'regreso', 'nongoogle', 'peeloff', 'giggle', 'verizonhas', '21a', 'summarizing', 'mistook', 'advertisedlook', 'shenanigan', 'httpsamznto2tcy8rh', 'lgbranded', 'usbtousbc', 'curiousdid', 'accrued', 'usbctoheadphone', 'noreaster', 'bootloaderbut', 'jerk', 'swappa', 'inspiration', 'chargerit', 'gated', 'walgreens', 'importantpreschool', '583', 'woot', 'woots', 'accessoriesnot', 'multicolored', 'googlebranded', 'obviusly', 'simolw416q', 'longreliable', '63gb', 'panicking', 'midway', 'cl', 'warrenton', 'decieved', 'wootcom', 'offest', 'cling', 'transport', 'therm', 'replacment', 'uninspected', 'smudged', 'cradhing', 'scratchesdingsmarks', 'historical', 'pixelxl2', 'equipt', 'amfilm', 'teelevo', 'heaphone', 'sesome', 'unexceptanle', 'seeinf', 'triage', 'shapeonly', 'wellexecuted', 'trey', 'tokenkey', 'owneradmin', 'agregar', 'resulotion', 'uhm', 'usenavigate', 'cartridge', 'backthank', 'unpatched', 'vanila', 'revolutionary', 'rtac66u', 'rtn66u', 'netgear', 'brightcolored', 'straightenrealign', 'trapezoidal', 'inpaint', 'handcent', 'nextsms', 'sufficing', 'itreplays', 'prayer', 'forgiving', 'prev', 'stupendous', 'picturescreen', 'cconnection', 'chargerplug', '10w', 'wuold', 'memorable', 'comploants', 'goole', 'pefromance', 'yearly', '192018', '2018just', 'productthis', 'mico', 'revelation', 'sno', 'imessanger', 'amazonbacked', 'frisbee', 'fineit', 'xboxone', '2560x1080', 'cryill', 'ciel', 'tabletlaptopchromebook', 'stucks', '3142019', 'admints', 'throwninthebox', 'hardwired', 'ethernet', 'workstation', 'conceived', 'supersheldz', 'dudeall', 'fryer', 'unhappiness', 'quarrel', 'py', 'exec', 'phonebest', 'resultsguess', 'wallmart', '10yo', 'mc987lla', 'humbly', 'preprogrammed', 'accepetable', 'lockex', 'conditionnot', 'itjust', 'sgood', 'ony', 'dirtied', 'agile', 'nobility', 'moe', 'negligent', 'chicagogadgets', 'ittems', 'becaise', 'ond', 'mulitipe', 'stalkerish', 'hollered', 'creeping', 'phonebattery', '25g', 'valueonly', 'negociation', 'umtslte', '08252018', '0901', 'septarian', 'gread', 'worstruined', 'pitcher', 'mayb', 'jdjdj', 'woking', 'complies', 'excelltnt', 'uselessly', 'smg892a', 'smg892u', 'smg892t', 'techsim', 'smg', 'toughrubber', 'hatter', 'pocketable', 'modelgeneration', 'undelivered', 'lobby', 'inhaling', 'musicvideos', 'apprehensious', 'protectorfilm', 'excitedthat', 'helpline', 'phonebig', 'omwireless', 'hug', 'scrates', 'disengage', 'shiesty', 'brokenand', 'licking', 'simor', 'cornersbut', '600900', 'rull', 'ao', 'hybridit', 'newgreat', 'phoneknock', 'photosbattery', 'g892a', 'g892t', 'occassionally', 'aslo', 'civilian', 'memoryinfact', '10f', '157fstill', '2960', '1859', 'msm8998', 'nm', '4x235', 'kryo', '4x19', '540', 'tb', 'f17', '26mm', '1255', '14µm', 'pdaf', 'autohdr', '2160p30fps', '1080p60fps', '720p240fps', 'dualvideo', '122µm', '1440p30fps', 'wlan', '80211', 'abgnac', 'dualband', 'a2dp', 'aptx', 'agps', 'rearmounted', 'svoice', 'pma', 'misc', 'meteor', 'tungsten', 'basemark', '3974', '3390', '37903', '70db', '74db', '78db', '924', 'crosstalk', '914', '111h', 'popsup', 'secondbut', 'thatits', 'hotsot', 'etcwhich', 's10them', 'muchbut', 'feauture', 'horriblemay', 'anotherthe', 'replacementupgrade', '3042018', 'binge', 'thoughhopefully', 'm1', '962', '1065', '2879', 'caribbeanjust', 'warrantystay', 'inestable', 'críticas', 'peores', 'reaccionar', 'saliendo', 'apagandolo', 'pierde', 'recupera', 'reiniciar', 'zenui', 'cliff', 'dosebut', 'encendida', 'bloquee', 'deje', 'bellísimos', 'desgn', 'refonded', 'downloadupload', 'stufflike', 'apariencia', 'iphoneios', 'worsening', 'speedyuntil', 'telephony', 'connectorcmon', 'technologylet', 'amended', 'backthis', 'irregularity', 'polishing', 'tarnished', 'pcstmobile', 'reinitialize', '21900', '5850', '72600', '12700', '17700', '28700', '661700', 'aj', 'aws1aws3', 'phoneaffordable', 'provdes', 'alactel', 'simtray', 'blade', 'usbtype', 'zb570', 'firngerprint', 'squealed', 'webbed', 'blareingly', 'adjuster', 'seeped', 'samsong', 'parait', 'suivre', 'frequantly', 'demanded', '4300mha', '4000mha', 'versionversion', '24999', 'opinioneither', 'storagehowever', '51gb', '4684gb', 'datahot', 'osmy', 'uverse', '2wire', 'bluetoothso', 'switchable', 'bandswitchable', '5ghz24ghz', 'ghz24', 'ghz5', 'monthsthis', 'displaythe', '593', '407', 'performancei', 'callinghuawei', 'camerai', 'coolnessbattery', 'coolnessthe', '77f', '86f', '95f', 'printershare', 'usbmicro', 'consthree', 'nfcthis', 'pixellation', 'hissiness', 'interfacegui', 'harshness', 'fasted', 'flaking', 'shutdownslowdown', 'shark', 'trainingwheels', 'life360', 'musthave', 'presumedly', 'android8', 'soonish', '47mbps', '31mbps', 'arris', 'tg2472g', 'cox', '10mbps', 'congested', 'ps', 'bluetoothwifi', 'hooey', 'dlink', '98mbps', '11mbps', '84mbps', '03292018', 'b130', 'xdadeveloper', 'honor7x', '04172018', 'junejuly', 'drivemode', 'readanswer', '05092018', 'xdadevelopers', 'swarm', 'radioantenna', 'bloaty', 'embraced', 'dialerits', 'crescent', 'visibleso', 'attaboys', 'levelthats', 'casenever', 'lifeyesterday', 'rootxposed', 'nonroot', 'systemui', 'spinsbut', 'fullimmersive', 'cia', 'warningsi', 'messagesand', 'climbing', 'windup', 'coughcoughwindows10cough', '500800', 'insuranceprotection', 'bullying', 'smfh', 'handiest', 'estimation', 'banner', 'packag', 'crapfest', 'rapidcharging', 'mobispree', '5am', 'muffledmetallic', 'pliable', 'reform', 'unlockedfyi', 'paused', 'spiral', 'damper', 'softwareregular', '4050', 'cable1520', 'pythia', 'comprised', '102119', 'bagged', 'newish', '2xl128gb', 'uninstallation', 'scratchscuff', '3m', 'pore', '615pm', 'righthanded', 'immesi', 'vied', 'withdrew', 'misfitting', 'mch', 'authorizing', 'tradfone', 'reassembled', '10619', 'rmaing', 'usbcmale', 'usbafemale', 'notfinger', 'jenky', 'scratchesscuffs', 'backwhich', 'othen', 'airdrop', 'callthe', 'missingbroken', 'intellicell', 'llave', 'ahí', '85100', 'nowcdies', 'deffintly', 'beening', '6h', 'fadedthe', 'lovee', 'logically', 'whatapps', 'eithwr', 'wobbly', 'reacondicionamiento', 'salvo', 'itsself', 'estéticos', 'estético', 'gummed', '03a', 'scruff', 'haev', 'assimilated', 'brickcable', 'intedned', 'sentio', 'displaylink', 'weekday', 'eatable', 'tsa', 'rapidchargingcapable', 'ammeter', 'milliamps', 'amperage', 'p2', 'mobilespree', 'scrub', 'supperb', '116g', 'usedgadget', 'speakerfingerprint', 'buildup', 'sidebyside', 'alum', 'intermediate', 'jackwireless', 'uncommonunpopular', '6171', '390', 'calculates', '8090', 'retained', 'kombucha', '73019', 'becuause', 'vibrated', 'mosquito', 'trickle', 'bootloaderstill', 'purchaseupon', 'receiptphone', 'agrees', 'ecard', 'yesi', 'o_o', 'estába', 'rendía', 'reposo', 'readrecognized', 'scuffsdamage', 'brokewas', 'chargeother', 'istruction', 'manualhad', 'refundand', 'rootunlock', 'jimjam', 'donglethey', 'seemlesly', 'boatload', 'configd', 'croaking', 'aboutwhich', 'forwhat', 'falt', 'magnífico', 'suena', 'allí', 'cellularedge', 'lifereally', 'liviano', 'phomr', 'homei', 'thisyoure', 'httpswwwamazoncomaerbnanomicronanostandardmicrostandardcellphonesdpb009p16fkyrefsr_1_3keywordssimcardcutterqid1565720397sgatewaysr83', 'peeking', 'itlol', 'burial', 'weekwhich', 'bulking', 'httpswwwamazoncomgpproductb0747813gvrefppx_yo_dt_b_asin_title_o00_s00ieutf8psc1', 'transcribed', 'denybrilliant', 'wellbeing', 'swith', 'phoneperfect', 'picsvids', 'horrifying', '50742', 'shiped', 'theorist', 'refub', 'reations', 'closley', 'azerbaijani', 'minuteshours', 'semiworking', 'weeksthen', 'youbrakeifi', 'refundso', 'other700', 'buzzvibration', '1150', '108', 'thermostat', 'lifx', 'liftmaster', 'bottle', 'animoji', 'compress', 'vvm', 'smg960u', 'smg960fds', 'metropcstmobile', 'louis', 'belarus', 'ranged', 'fyiput', '27900', 'iqiyi', 'lightining', 'lodo', 'salidas', 'dañadas', 'hubieran', 'sacado', 'proceso', 'certificar', 'greatgrandson', 'elementary', 'openingswiping', 'gustaria', 'repairshipped', 'ordenar', 'misadvertised', 'conditiononly', 'jailbroken', 'termina', 'nítido', 'contacta', 'devolverme', '1252019', 'carcasa', 'perfectlyjust', '6se', 'welllit', 'p8', 'lecturer', 'gboard', 'rnicy', 'figlx3', 'gpsgprsedge', '85090018001900', '85090019002100aws', 'fdd', 'b2b4b5b7b28', 'yellowtan', 'reboxed', 'keytwo', 'sellerjust', 'ogrinal', 'fullno', 'touchhpad', 'atimes', 'alteration', 'luke', 'edit2', 'internetstreaming', '15month', 'rus', 'ithad', 'objectionable', 'nokiacom', '3yearold', 'simcardtool', 'median', 'r8', 'neglible', 'luxure', '10119', 'smoked', 'quede', 'graysilver', 'onbudget', 'freezingup', 'picturesvideo', 'informan', 'resta', 'confiabilidad', 'perusing', 'sleekgreat', 'qualityi', 'raven', 'fanfreakintastic', 'xt', 'ahould', 'arounds', 'givin', 'punishing', 'hwawei', 'declog', 'hurried', 'easilybattery', 'imglad', 'lat', 'hagan', 'vig', 'scanneda', 'menot', '58inches', 'stuneim', 'perfectthe', 'beastthe', 'uktous', 'str8talk', 'irritable', 'sparked', 'homologado', 'quieres', 'parámetros', 'normales', 'rango', 'cinta', 'pegada', 'celulares', 'correcto', 'beaut', 'memorysd', 'razón', 'rotos', 'sellos', 'cardis', 'navega', 'inalambrica', 'tuvimos', 'hacerle', 'estipulado', 'retenido', 'segun', 'quería', 'asisstant', 'máximum', 'ownbrands', 'smg9600', 'carro', 'puertos', 'transparente', 'signify', 'g9600', 'g960f', 'dounle', 'perfectinterruption', 'deepscratch', 'testinf', 'worksworst', 'amanerica', 'agarro', 'todayi', 'simarrived', 'simplease', 'advartise', 'europeas', 'asiathat', 'europebefore', 'europeone', '5start', 'g72', '845', 'sm9600', 'techwalls', 'firstboots', 'i577', 'affordableish', 'telfon', 'hermosas', 'esfuerzo', 'sellado', 'versátil', 'identificación', 'precisa', 'thiis', 'humble', 'chileno', 'bacuase', 'andoind', 'usbcusb', 'volvería', 'expetcted', 'rapdio', 'mandarin', 'worldit', 'preiphone', 'underappreciatedbyreviewers', 'premicrosoftpurchase', 'swyping', 'xz1c', 'tenure', 'lowprice', 'everydmnthing', 'slipperyness', 'wiggling', 'gawds', 'slope', 'midlongitudinalaxis', 'usertouser', 'midphone', 'longitudinal', 'lh', 'rh', 'quadrant', 'sidequadrant', 'scrunch', 'joint', 'phonetophone', 'brandtobrand', 'sidebutton', 'xz2s', 'qualitative', 'somethingsomething', 'featureswise', 'skinning', 'suckbycomparison', 'xzseries', 'inclose', 'concave', 'condusive', 'fitment', 'widest', 'interpretation', 'bendable', 'httpswwwamazoncomgpproductb07fnz3wpprefppx_yo_dt_b_asin_title_o01_s00ieutf8psc1', 'anccer', 'httpswwwamazoncomgpproductb07bd5r6h6refppx_yo_dt_b_asin_title_o01_s00ieutf8psc1', 'subotterboxprotection', 'ancerr', 'httpswwwamazoncomgpproductb07bytlyqdrefppx_yo_dt_b_asin_title_o01_s00ieutf8psc1', 'listedas', 'screamin', 'prepped', 'unconditionally', 'pare', 'deluxe', 'featuresotherwise', 'portland', 'boosted', 'estará', 'dedo', 'everythinrg', 'gettinrg', 'ultra1', 'moderado', 'acostumbrarse', 'ubicacion', 'ningun', 'vibracion', 'durante', 'vibra', 'aleatoriamente', 'eit', '1ª', 'práctico', 'answergreet', 'rethink', 'desigbs', '799850', '2160x1080p', 'uncompromising', '2simcard', 'tent', 'enviando', 'significa', 'cobrando', 'oficinas', 'unreputable', 'refundphone', 'happywas', 'snippet', 'note9', 'perfectionist', 'reminding', 'topright', 'bottomleft', 'gs9', '3210', 'titleheading', 'hinged', 'betrayed', 'exorbitantly', 'firstborn', 'acabó', 'humedad', 'novus', 'carge', 'hiurs', 'dollares', 'drivetime', 'unrespected', 'desapoim', 'soggy', 'persueing', 'flashware', 'caant', 'wowthe', 'samsungnot', 'emei', '360ish', '850900', 'pudimos', 'certificado', 'teniamostraba', 'numero', 'trabajaba', 'apropiadamente', 'encendia', 'descargarse', 'sobrecalentaba', 'retornar', '84th', 'bixiby', 'replacemeht', 'partes', 'faltantes', 'qualityalmost', 'pricecame', 'wasand', '10p', 'scotch', 'pageplusturns', 'upswitched', 'resolucionmapantalla', 'sami', 'setuptransfer', 'identically', 'innovaciones', 'descubriendo', 'conditionamost', 'esperava', 'renbolso', 'eventuality', 'uicc', 'certifieddevices', 'pinthing', 'cadapter', 'phoneserviceprovider', 'verbally', 'voilà', 'transfercopy', 'hearunderstand', 'phonesgave', 'topsthe', 'much3', 'stickon', 'securelyi', 'insecurity', 'surfed', 'mismatched', 'waived', '2nds', 'instructional', 'audiblefrom', 'monterrey', 'grandpa', 'seamed', 'firstnet', 'ulefone', 'napkin', 'epstein', 'trump2020', 'moneyback', 'generalim', 'autoactivate', 'smodel', 'tellmehowtoserveyou', 'miscommunication', 'priceits', 'imágenes', 'nítidas', 'motivo', 'ipaid', 'veered', 'loudusually', 'stickler', 'reread', 'descriptive', 'divot', 'lon', 'pra', 'agradable', 'manipulación', 'contraste', 'ostenta', 'mediumheavy', 'bundling', 'galaxyiphone', 'adsnellc', 'compiling', 'corruption', 'httpswwwamazoncomdpb01ell12kkrefcm_sw_r_other_taa_l0xwcbh5yabbe', 'theiecosystem', 'zplay', 'fluff', 'mustang', 'corvette', 'mimicked', 'motomads', 'ceiling', 'tenminute', 'againthis', 'failore', 'spacific', 'serivice', 'motorloa', 'overshadowed', 'motog4', 'motoz3', 'band71', 'usethis', 'oneespecially', 'shaddy', 'lithiumion', 'z3play', '060619', 'loathe', '7active', '1however', 'vibrationimpact', 'sensitivewhich', 'uselessstill', 'greathowever', '3with', 'ruptured', 'infiltrated', 'cheapen', 'electronicdeals', 'omadm', 'poo', 'brainwashed', 'sheep', 'willy', 'wonka', 'showmanship', 'hitchhike', 'unintentionalmy', 'apoligies', 'overt', 'digression', 'overthinker', 'worryfree', 'quickstart', 'greenhorn', 'okso', 'lilac', 'lavender', 'pinker', 'looooove', 'them4', 'ariana', 'wellive', 'geeking', 'soooooooo', 'waaaaaay', 'muffin', 'utmost', 'isa', 'meat', 'legwork', 'neighborhood', 'phoneinstead', 'atthowever', 'phoneregardless', 'advertisingthis', 'bubblepack', 'flatrate', 'c567', 'brightnesscontrast', 'hivision', 'oct16', 'businessclass', 'antiexplosion', '800112', 'faceunlock', 'bimonthly', 'huaweideviceusaservice', 'propaganda', 'uncovered', 'crazydid', 'problemand', '10and', 'editthis', 'mate10', 'itsome', 'messagesif', 'worseso', '49900', 'mocha', '54800the', 'ancher', 'marisa', 'iphone8s', 'spyingim', 'doggy', 'bittom', 'reault', 'funniest', '2hours', 'etcare', 'batteryeven', 'vibramt', 'nexus6', 'appbut', '2sets', 's8s9', 'bash', 'kathy', 'chocked', 'rollout', 'postpurchase', '1021', 'katy', '1718', 'blaloac', 'imeisn', 'vqm0218426000562', 'expiry', '20190726', '中国', 'depthrichness', 'mate9', 'advert', '544', 'idgaf', 'astetics', 'settingsbatterylaunch', 'automator', 'faulted', 'inverter', 'supercharger', 'dressed', 'overjoyed', 'prety', 'judi', '5a', 'braided', 'cord5a', '79761', '68989', '69299', 'porsche', 'maxproductsales', 'huawie', 'lsd', 'vera', 'clockappsfaces', 'elseis', 'tension', '45a', 'ballpark', 'lone', 'bendbreak', 'mealmost', 'touchalmost', 'crashesfreezes', 'fastfaster', 'appsthis', 'polarizing', 'snatching', 'museum', 'shaanxi', 'terra', 'cotta', 'pointshould', '552019', '479', 'leica', 'severed', 'spammed', 'resurfaced', 'figerprint', 'f16', 'mate10pro', '2160x1080', 'pervasive', 'antichinese', 'sentiment', 'aquistion', 'spurion', 'featuresfrom', 'jul', '814', 'gputurbo', 'fishbowl', 'fullscreen', 'mediumlevel', 'uncarrier', 'lm', 'minion', 'choking', 'respose', 'hdr10', 'kirin', 'tsunami', 'compartir', 'célula', 'tableta', '678no', 'verídico', 'transacción', 'mostlystock', 'inconvenients', 'garantie', 'gaalaxy', 'superdurable', 'supercharging', 'unprovoked', '0218', '426', 'expectationsfor', 'relativamente', 'portait', 'debuted', 'yessir', '477', 'batterycame', 'destroyer', 'descover', 'quarterly', 'lightmedium', 'wowway', 'catagories', '162018', '121318', 'phoneclone', 'waxy', 'pswd', '4k30fps', '108060fps', 'speedfuntion', 'yetto', '54999', 'gettinginstalling', 'majorly', 'disgraceful', 'soi', '8way', 'political', 'clown', '57p', 'min50', 'promlem', 'unicamente', 'plateada', 'dua', 'remedial', '4amph', '3i', 'pearlescent', 'batrery', 'disappoinment', 'quedé', 'perdidamente', 'enamorada', 'quedado', 'mezcla', 'estupendo', 'adapta', 'diarias', 'reasonablemy', 'firstintroduce', 'buycompare', 'iphoneit', 'cheaperfunction', 'goodanyhowi', 'nuu', 'huaweii', 'schooled', '292019', 'gooutside', 'societal', 'maquina', 'poderoso', 'dmg', 'materiales', 'definición', 'utilizo', 'porcentaje', 'cuesta', 'conectarme', 'desconecta', 'sweep', 'resounds', 'durity', 'lightwieght', 'dmccm1', 'grail', 'largeish', 'evenness', 'f22the', 'allglass', 'blindingly', 'industryleading', 'f22', 'dof', 'simulation', 'portraitswhen', 'foreground', 'railroad', 'farthest', 'gradual', 'nonportrait', 'f10', 'availableand', 'aiassisted', '2d', 'wowee', 'diciendo', 'finalmente', 'aparecio', 'dejaron', 'direccion', 'llegaba', 'reembolzogracias', 'timeeven', 'xiexie', 'truecaller', 'solicitation', '3418', 'miui', 'celuluar', 'prestaciones', 'acepta', 'memorias', 'externas', 'necesiten', 'dipper', 'telefonaso', 'entrada', 'norteamericana', 'bastantes', 'bougth', 'timerwhat', 'twlefono', '233', 'cartón', 'preciosa', 'elegante', 'limpio', 'visto', 'otros', 'anteriormente', 'termine', 'jesus', 'usagebut', 'everything2', 'preferencebut', 'glasswhich', 'caseor', 'itwhy', 'spacethats', 'cwhich', 'softwareand', 'pinpoint', 'againregardless', 'upno', 'screenjust', 'screenagain', 'fascinó', 'view10', 'watereddown', 'glowing', 'mightytext', 'nonattbranded', 'selfharming', 'atthuawei', 'day1', 'iphone7s', 'toogoodtobetrue', '6gb256gb', 'rebranded', 'rebrand', 'proporsche', 'blaa09', 'blal09', 'blal29', 'crackfrom', 'nothorriblequality', 'secondtier', 'huwaei', 'huwaeri', 'motosamsungeven', 'awaya', 'lunatik', 'jank', 'usbhdmi', 'drainageasinb0775kj4c5', 'multiport', 'isvo', 'asinb077pc62dr', 'ivso', 'telephoto', 'dinning', 'dimlit', 'flare', 'dsl', 'archiving', 'cat16cat', 'rebranding', '4000mh', 'snapchatting', 'thuroughly', 'outperforming', 'deter', 'prerelease', 'monitortv', 'npu', '5z', 'm10p', 'fringe', 'inhouse', 'highestrated', 'systemonachip', 'dxomark', 'schoolwork', '512gb', 'saddens', 'lobbied', 'coengineered', 'roped', 'waterproofed', 'p20pro', 'bronze', 'bookingcom', 'unautheticated', 'traynot', '9pie', '2ish', 'bettercheaper', 'viability', '8501000', 'defining', 'hoawei', '9and', '6001000', 'merican', '9303028', 'daytona', 'curt', 'queried', 'timezone', '18f', '3700', '3700ma', '2910', '31thnovember', 'startling', 'deregistered', 'stow', 'perpetuated', 'businesswhich', 'hippie', 'thisis', 'milli', 'howor', 'amazingin', 'doin', 'chartsyou', 'dx0', 'fairthough', 'proaddios', 'saigon', 'tesla', 'nexus6p', 'elegent', 'missingim', 'cellmigo', 'andorid', 'cameravideos', 'smartlock', 'cf80', '7xso', 'rethinking', 'coloration', 'nicethey', 'moderatetoheavy', 'lotthe', 'dissapponted', '500dollar', '912', 'modestaverage', 'mediaed', 'samsunglgpixel', 'bokehportrait', 'patternpin', 'dagger', 'aspecs', 'breakes', 'partsthank', 'richard', 'yu', 'cratches', 'lagy', 'connectionfunctionality', 'baller', 'donut', 'milage', 'machu', 'picchu', 'cruiseships', 'decriminalize', 'marijuana', 'abother', 'performent', 'blaa009', 'tmz', 'bestunlocked', 'delivey', 'espionage', 'dnd', 'assistanthome', 'boardingon', 'imaginaba', 'soberbio', 'funcionalmente', 'máquina', 'generates', 'mightve', 'youtubers', 'theater', 'retried', '5han', 'vowifi', 'unreliablenonworking', 'timeouts', 'esprraba', 'dxo', 'jamas', 'velocidades', 'elevadas', 'dispositivos', 'intente', 'operadormovistar', 'corresponde', 'agarra', 'seña', 'colocó', 'recién', 'comprada', 'utilice', 'viajes', 'portátil', 'habían', 'automática', 'añadir', 'recibiendo', 'parecer', 'utilizar', 'investigate', 'rehash', 'llcorder', 'redirecting', 'notofications', 'varient', 'xt19252', 'retla', 'kindi', 'assertive', 'offwhich', 'galleryphoto', 'g6s', 'warranteed', 'serval', 'moto6', 'narrowness', 'xould', 'internationalversion', 'dialog', 'cruft', 'calibrate', 'aligned', 'providersit', 'samsungbut', 'hehehe', '400ppi', 'turbor', '3000ma', 'sometimesvery', 'comporta', 'manejado', '500900', 'congela', 'cambium', 'jamás', 'tienesuperó', 'mil', '1836', 'ltelte', 'xt19225', 'xt10225', '167g', 'expressed', 'sympathize', 'yiakeng', 'courage', 'somersetting', 'costbut', '57in', '52in', 'greek', 'betterit', 'unlockedcame', 'boxsatisfied', 'kickass', 'betterandroid', 'ordinarily', 'xpe', 'sharrp', 'loudness', 'mhlscreen', 'photovideo', 'filmed', 'gathered', 'micaudio', 'castmirror', 'casted', 'motorolalenovos', 'aboard', '5q', 'xl3', 'surpased', 'rf', 'aprox', 'backedup', 'accumulating', 'mobiletrans', 'xt19267', 'calibrated', 'indigo', 'indention', 'intenacional', 'outfitted', 'obtrusive', 'countertop', 'transplanted', 'thingll', 'yanni', 'thunderstruck', 'resonates', 'buttthumpin', 'poised', 'outshoot', 'paparazzo', 'celebs', 'quentin', 'tarantino', 'thatd', 'comical', 'samuel', 'jackson', 'declaring', 'gn', 'weakass', 'gratuitous', 'watchable', 'whyd', 'pat', 'lamborghini', 'huracan', '200k', 'c8', '60k', 'crushproof', 'safty', 'fastboot', 'inconvent', 'phonesno', 'mostupset', 'easiercheaper', 'budgetmid', 'featureseffects', '22g', 'dustwater', 'ipxx', 'p2i', 'canshould', 'snorkeling', 'inspite', 'ps1', 'playmaybe', 'g6plays', 'g6play', 'quejas', 'presionar', 'fuerte', 'carcaza', 'fieature', 'citing', 'mire', 'moderna', 'tope', 'abiertas', 'agilmente', 'duracion', 'negativo', 'carrierviaero', 'viaero', 'northern', 'condominium', 'ido', 'españa', 'referburish', '2618', '1918', 'comunicarme', 'incluso', 'silicona', 'cabe', 'allwill', 'heftsturdiness', 'incluido', 'enterar', 'conoce', 'únicamente', 'falled', 'smalleranyway', 'feont', 'asombro', 'agil', 'sorprendio', 'gratamente', 'hacia', 'usaba', 'celullar', 'aight', 'procesador', 'complementan', 'desempeño', '17002100', 'confided', 'excelentperfomance', 'telefonoi', 'evreting', 'cellado', 'necesarios', 'garantizar', 'legitimidad', 'sacrificed', 'incomparable', '3760mah', 'onebackcamera', '10ft', 'wrongly', 'earphonesan', 'smoothlyquickly', 'artifically', 'gx', 'misleadiang', 'underwent', 'interenational', 'freezescrashes', '1620', 'corren', 'agrego', 'orne', 'platic', 'apropiado', 'execelente', 'teléfonotengo', 'líneas', 'equipi', 'insted', 'chilean', 'timehas', 'transhflash', 'handfeel', 'brújula', '1week', 'resuelve', 'biem', 'aguanta', 'oneplus6', 'wifidata', 'techinally', '112518', 'fl', 'zenphone', 'past18', '2829', 'overprocessed', 'armorx', 'mmorpg', 'optioni', 'seamless2', 'v30both', 'averageto', 'taiwanese', 'highres', 'looow', 'warefrom', 'drainig', 'dismissed', 'propagation', 'op6', 'plazo', 'establecido', 'nonrural', 'pnw', 'linear', 'nonvibrate', '8102018', '33dollars', 'bh', 'exempt', '30grams', 'stero', 'signicant', '10dollars', 'wheras', 'p9', 'p10pro', 'elect', 'nitpicker', '7g', 'thinq', 'unbalanced', 'instrumentation', 'fullfritz', 'involve', 'drybag', 'musthaves', 'overprocess', 'richness', '6z', 'underappreciate', 'sizeweight', 'asuss', 'thinkq', 'compaints', 'jio4g', 'intrudes', 'uiux', 'networkconnectivity', '4650', '465', 'synched', 'goodle', '1100pm', 'cpuprocessor', 'platter', 'competitior', 'storage4gb', 'eisa', 'nov5th', 'cordschargers', 'technomaster', 'advanace', 'd7200', 'appgallery', 'countryregion', 'cashio', 'gshock', 'disturbed', 'peacefully', 'simplesmartphones', 'fab', 'moniter', 'farrrrrrr', 'specsthis', 'phoneyet', 'waterproofbut', 'wellif', 'insuring', 'sakura', 'glittery', 'cha', 'uncertain', '9android', 'p90', 'architecture', 'mi5s', 'anelx1', 'anelx3', 'satisfyingly', 'convient', 'fingeprint', 'laminate', 'addressing', 'hadhave', 'overheatingi', 'textits', 'insertar', 'probando', 'considerate', 'commenced', '2mp', 'fiel', 'steeling', 'huwai', 'wooow', 'módel', 'totallly', 'patrick', 'akinyede', 'busting', 'wifeshe', 'hummingbird', 'feedssquirrelschipmunks', 'ectthis', 'picsit', 'multy', 'pricecouldnt', 'gorrila', 'parading', 'frontrear', 'tfw', 'quieran', 'telef', 'lowmid', 'infotainment', 'litenot', 'empaquetado', 'casilla', 'respaldo', 'quienrecibió', 'reacts', 'cleveland', '45mbps', 'p30', 'sentidos', 'pensando', 'buscabo', 'reponsible', 'carera', 'fanaminal', 'crips', 'enteré', 'descontinuado', 'posiblemente', 'encuentre', 'hahah', 'mophile', 'increíbles', 'mejorado', 'lla', 'suele', 'lenta', 'isgreat', 'newbut', 'scratchesscreen', 'cliche', 'recivi', 'mismas', 'otras', 'marcas', 'cobran', 'excelentte', 'satar', 'girlfriendshe', 'provado', 'phonebettery', 'amazinghad', 'incierto', 'futuro', 'usará', 'autonomía', 'handanyways', 'esposo', 'presiona', 'botones', 'practicamente', 'lectora', 'dactilar', 'países', 'meda', 'fluyen', 'ubicarlo', '200usd', 'magnífica', 'tantas', 'imaginé', 'legusto', 'mija', 'dorsnt', 'putthe', 'usingthe', 'usingitfor', 'hotnot', 'página', 'puntualidad', 'altamente', 'fastpictures', 'greatworth', 'requería', 'inserte', 'recibio', 'quefo', 'phoneamazing', 'trukly', 'bondades', 'colmó', 'entendiendo', 'wors', 'weirdannoying', 'p8p9', 'aplus', 'hawuei', 'lte4g', 'lopkong', 'skit', 'uninformed', 'p20lite', 'mongolia', 'jgallic', 'robaronnnn', 'saller', 'jpmobiles', 'fullhd', 'astetic', 'foreverrrrrr', 'topsit', 'problemsfast', 'lont', 'somtime', 'highthis', 'goodanother', 'perofrmance', 'deisgn', 'everyhing', 'promisedit', 'shenzhen', 'supportwarranty', '214', 'liberating', '71419', 'shinny', 'unofficially', 'shiney', 'sincd', '0nd', 'w9th', 'inmediatamente', '67hours', 'boz', 'belgium', 'entra', 'llamada', 'depot', 'bluetoothin', 'vw', 'tele', 'impresionado', 'manejar', 'bak', 'adecuado', 'lleno', 'nuestras', 'newcomer', 'mvp', 'uderrated', 'qualityscreenand', 'iove', 'exclent', 'epensive', 'qc20', 'qc30', '18amps', '13amps', 'virtualdepot', 'submodel', 'luxuruous', 'itty', 'bitty', 'clarifying', 'brutal', 'teansferred', 'assininine', 'calidadprecio', 'felicidades', 'desarrollar', 'tornado', 'mí', 'difícil', 'ocuparlo', 'asisten', 'manejas', 'estás', 'ambas', 'manos', 'ocupadas', 'encuentro', 'peddled', 'wifi4g', 'sharkk', 'junkk', '24a', 'annihilate', 'ipadit', 'refurbishedrestocked', 'numberpercentage', 'applebranded', 'dustfingerprints', 'formfitting', 'undervalued', 'signifies', 'completion', 'hereafter', 'stemming', 'associating', 'wasteful', 'bloatwarefeatures', 'dissipation', 'dissipated', 'manufacturingapproval', 'investigated', '2280x1080', 'msaa', 'outputmonotinny', 'incorporating', 'dodged', 'omitting', 'moderntall', 'aponed', '20m', 'seamingless', 'hicup', 'fran', 'upgradechange', 'a6003', 'threatened', '664', 'doy', 'argentinos', 'competitorsif', 'chargering', 'screendecent', 'saler', 'todavia', 'usawont', 'useu', 'lowbudget', 'orbic', 'chargesynch', 'needbe', 'oxygenos', 'homologarle', 'autoridades', 'ecuatorianas', 'venderse', '293320', 'ceramic', 'sturdily', '2412', 'fridge', 'clunkier', 'resin', '60seconds', '2mins', 'lowpriced', 'overresearch', 'wiling', 'secluded', 'dmaxx', '808', 'railing', 'drenched', 'pole', 'consistencia', 'iluminacion', 'contenido', 'cos', 'gracia', 'ooooo', 'perked', 'haye', 'reaponsive', 'wagon', '50mph', 'secretary', 'uncertified', 'hdmnokia', 'yesadmittedly', 'yesteryear', 'wavered', 'handsits', 'uninitiated', 'overcapacity', 'nontechnical', 'updateloop', 'texs', 'firston', 'furstrating', 'wiggly', 'daniel', 'schmidt', 'notebookcheck', 'xboom', 'httpswwwamazoncomxboomceramicportablerechargeableenhanceddpb00cp7swii', 'besloudness', 'ctype', 'clogging', 'monstrous', 'lessthanplussized', 'powerspeed', 'locationbased', 'recalibrate', '__________________________', 'phoenix', 'soundquality', '20181130', 'aaannnd', 'redesignrelaunch', '20180921', 'evenwell', '20180910', 'midseptember', 'vibrateonly', 'telemetrycustomer', 'managerdevice', 'googleoreo', 'kandy', 'overprice', 'dumphone', 'pseudosmartphone', '061619', 'salmon', 'mach', 'applepay', 'confounding', 'hobbling', 'simno', 'amused', 'appsbrowsing', 'updatinginstalling', 'updateoriginally', 'undergone', 'googlecentered', 'knowinghandling', '216', '332', '05x', 'awhilenow', 'reassure', 'trolling', 'xz2p', 'awith', 'preformace', 'ineffective', 'flagshiplevel', 'converse', '3previous', '8751000', '99999', 'snipping', '91013megapixel', 'uch', 'hyge', 'zz3', 'stryed', 'bfs', 'iof', 'sharpclear', 'premuim', 'llegada', 'ende', 'retraso', 'aduana', '16mg', 'lightbutthe', 'xzp', 'svm', '480p', '64in', 'revolutionize', 'laptopdesktop', 'poster', 'nonflashy', 'smule', 'kareoke', '22apr19', 'tableroom', 'slipperiest', 'weekcancelled', 'prem', 'preorders', 'phonesexcept', '10112019', 'servicenoits', 'sidei', 'refurbishedbut', 'perforated', 'particularyou', '16hrsi', 'porti', 'estuche', 'gratis', 'amature', 'stolenbummer', 'operatividad', 'considerando', 'prolongada', 'esperábamos', 'padre', 'y5', 'gòod', 'usándolo', 'duradera', 'googleverse', 'j6', 'emanual', 'trickery', 'eyeing', 'gearing', 'battleground', 'fortnites', 'expandible', 'a2', '425', 'unlimted', 'xiaomis', '59in', '6hr30mins', 'acne', 'towersony', 'dorm', '200el', 'ignorar', 'sobrio', 'atractivo', 'construcción', 'suave', 'incluye', 'cámaras', 'decentes', 'modo', 'retrato', 'remoto', 'integrado', 'soporta', 'contra', 'marcos', 'finos', 'bung', '1220mp', 'prograde', 'phonezone', 'symbiotic', 'inconsiderate', 'liveable', 'shred', 'wholly', 'graphicallydemanding', 'semiregularly', 'midafternoon', 'lightsensitive', 'facedown', 'homeback', 'batterysaver', 'lackiing', 'ere', 'miran', 'normalmente', 'gente', 'tareas', 'fraccion', 'enfoca', 'pura', 'llamarlo', 'fumcionar', 'mantiene', 'actualizandoze', 'cuarta', 'hspap', '3mbit', 'unmodified', 'xioami', 'androidone', 'investigative', 'unplayable', 'greatuntil', '8xgreat', 'n1flagship', 'experiencebased', 'subarbs', 'grayscale', 'equated', 'restrain', 'inexpensivebutquality', 'snappyness', 'catagory', 'blotware', 'pvc', 'esm', 'a3', 'protrctor', 'sisteme', 'delicia', 'personalizacion', 'execivo', 'necesitas', 'autonomia', 'intensivedemanding', 'opinión', 'será', 'iconos', 'baje', 'resuelto', 'rinde', 'exigente', 'viendo', 'vídeos', 'jugando', 'navegando', 'familiarizarse', 'cargarlo', 'idealmente', 'cargarse', 'habrá', 'cargado', 'esposa', 'decidimos', 'probar', 'llevamos', 'grata', 'pagamos', 'obtuvimos', 'ofrecía', 'andriodone', 'effiently', 'edl', 'mx', 'quedaron', 'destape', 'rever', 'thisfor', 'metropsc', '192', 'horsepower', 'graphing', 'casually', 'xiami', 'comunicación', 'unreali', 'goodits', 'goodyouy', 'finelast', 'leastandroidoneneed', 'morepeace', 'ayer', 'notificaciones', 'acceso', 'causado', 'muuuucha', 'busca', 'infórmate', 'dañar', 'arcane', 'pulgadas', 'acaba', 'competencia', 'sobrepaso', 'increíblemente', 'economico', 'clearcrisp', 'therapy', 'blackphone', '2if', 'fatídica', 'febrero', 'contratiempos', 'empresa', 'tramitar', 'snadragon', 'screensdm660', 'sdm660', 'otc', 'aristo', 'fantástico', 'niveles', 'silencia', 'llamao', 'intención', 'casos', 'desconectada', 'mia2', 'veeeeeery', 'convenido', 'sabría', 'decirle', 'correspondía', 'obtenido', 'elegí', 'recomendación', 'xataka', 'preocupaba', 'estable', 'básica', 'eres', 'usuario', 'rendidor', 'incluida', 'systemreasonable', 'pricethe', 'sorprendió', 'flowing', 'lowbut', 'imbatible', 'cámaralo', 'abres', 'respondio', 'cldnt', 'callbad', 'raster', 'cambie', 'potente', 'actualizacion', 'lima', 'estupendamente', 'inigualable', 'fallan', 'amo', 'sensetive', 'necesita', 'diaria', 'qualitysimply', 'costoproducto', '20hrs', 'blogging', 'quickest', '35g', 'netowrks', 'starkly', 'unadulterated', 'resemble', 'packard', 'postsales', 'bastardized', 'prerooted', '4gig', 'ram64', 'ferm', 'itmy', 'fastabout', 'stabillization', 'emmc', 'gcam', 'dood', 'poits', 'mhh', 'infared', 'sizei', 'woked', '1590', 'beefy', '30w', 'trait', 'corolla', 'impatience', 'vende', 'bajando', 'brillo', '64mb', 'efficently', 'annold', 'buildgood', 'competitivo', 'compatibles', 'esperable', 'señora', 'ella', 'viejo', 'mia1', 'tenés', 'esperá', 'empacado', 'relleno', 'rebotaba', 'paredes', 'seguras', 'bewate', 'wao', 'forge', 'xt19229', '8110', 'thai', 'prominate', 'cincinnati', '850mhz', 'ancestor', 'numberpad', 'keypresses', 'ghi', 'brokenin', 'heyday', 'purchasei', 'bixbi', 'bxactions', 'funneling', 'revenue', 'insurmountable', 'remapped', 'easilyaccessible', 'offmemo', 'autosaved', 'interfaceive', 'featuresif', 'accounted', 'tabbed', 'ide', 'metalandglass', 'revolve', 'lockhome', 'channeling', 'controversial', 'thrash', 'regioncarrier', 'invalidate', 'lightpoor', 'clicker', 'resolvedthe', 'primeseller', '10012018', 'deviceits', 'shortif', 'howeverif', 'displayis', 'ballpoint', 'radiating', 'quoting', 'pictureinpicture', 'reassign', 'sealthe', 'anyoe', 'relogging', 'singaporespecific', 'celsius', '250300', 'myth', 'crunchyroll', 'loki', 'ltt', 'mkbhd', 'borg', 'instructor', 'boi', 'selfdefense', 'projectile', 'boon', 'lifeperformance', 'trunk', 'splashed', 'faceiris', '775', 'preinstalls', 'cuss', '3wow', 'alots', 'reveiw', 'meiddc', 'manufactor', 'asign', 'compliance', 'addedit', 'comandroid', 'stoppingthey', 'fullfilled', 'frágil', 'borde', 'cubría', 'abril', 'recibieron', 'bodega', 'corrigen', 'rastreado', 'verificaron', 'robo', 'shippedsold', 'cor', 'djscussion', 'tbis', 'ddvice', 'usdful', 'memoz', 'oldrr', 'sellerprimeseller', 'toni', 'gpay', 'impairing', 'deliberated', 'asuming', 'brokenwrong', 'androidssamsung', 'favoring', 'wile', 'whould', 'uneducated', 'subtracts', '2018when', 'oververy', 'painlessly', 'debitado', 'oportunidades', 'terabyte', 'souped', '1600', 'purchas', 'coversstickies', 'recliner', 'instrumento', 'explicación', 'pacientes', 'cirugias', 'maneja', 'reconfiguring', 'note10', 'facttory', 'repoair', 'softwareugh', 'agnostic', 'prefoming', 'sfoft', 'mabay', 'antennea', 'devine', 'systemso', 'unboxings', 'portrayed', 'fruad', 'kracked', 'greatwish', 'handbookwould', '1000x', '2019s', 'htown', '512g', 'jw', 'destabilizes', 'mewhat', 'wifibad', 'optoon', 'availbility', 'chirp', 'stuffme', 'textlove', 'jamm', 'magnification', 'nonpay', 'punched', 'clearity', 'pgone', 'stolelost', 'conozco', 'causa', 'devolvere', 'continuo', 'fabrica', 'soluciona', 'scratchesno', 'nowsatisfied', 'bixy', 'swaped', 'coughcough', 'antiguo', 'conexiones', 'feasibly', 'phillipines', 'promisedni', 'confirmedunfortunately', 'peeved', 'componentes', 'compañías', 'boc', 'provid', 'altísima', '4funny', 'prenderlo', 'afecte', '128512', '700750', 'problen', 'ablility', 'wuithout', 'turing', 'stymied', 'dolpy', 'unrivaled', 'picturws', 'oversight', 'alienate', 'remapper', 'delaylag', 'redeems', 'overshadows', 'packageing', 'emerates', 'worldsamsung', 'productsthe', 'my1st', 'writei', 'perfectstill', 'wwb', 'requerimientos', 'negoció', 'quedando', 'podríamos', 'resarcir', 'incumplimiento', 'palabra', 'cleareverything', 'phonepicturesmusic', 'xq', 'desir', 'desagradado', 'noo', 'traerlo', 'regresare', 'freakingggg', 'awessooommmeee', 'prosucto', 'usedlearned', 'rationally', 'gevity', 'todod', 'operadoras', 'effing', 'buged', 'encryted', 'omnidirectional', 'signbeing', '33500', 'note1', 'rosa', 'notenever', 'goodno', 'shipoing', 'communixation', 'lovvee', 'ittt', 'usind', 'dando', 'cariño', 'wrk', 'cumplecon', 'todolo', 'invertselect', 'lockedeliminated', 'hopped', 'debit', 'vending', 'damp', 'rag', 'm4p', 'redownload', 'addressee', 'reversing', '916', 'imeis', 'yesturday', 'fufilled', '8900', 'retain', 'loaned', '1initially', '2with', '3you', '4make', 'extractor', 'freshen', 'rearest', 'excactly', 'perplexed', 'gruffly', 'franchise', 'privately', 'idaho', 'unrecognized', 'poweruser', 'oppressor', 'prying', '912hrs', 'sprintalso', 'greatpretty', 'handwritten', 'turningon', 'picturetaking', 'smn9600', 'smn960u', 'authoriized', 'computerphonegaming', 'lineage2', 'dexdock', 'transforms', 'wrapper', 'refurbreturnused', 'earhead', 'audiophilegrade', 'iems', 'otherthannewbut', 'needful', 'defeatured', 'intimately', 'kanji', 'legibly', 'tapered', 'smn960u1', '52000', 'pushover', 'mani', 'pie9', 'slightlymoderately', 'ronaldo', 'xd', 'ronaldinho', 'gaucho', 'bizzare', 'sported', 'pich', 'continuation', 'ept', 'untainted', 'gráficos', 'expandir', 'dropbreak', 'onthefly', 'servuce', 'goodthis', 'everythingonly', 'telefonica', 'olad', 'sharpa', 'âge', 's4love', 'toit', 'i5', 'beautifullllll', 'unworking', 'crispappearing', 'amazonrecommended', 'inspiring', 'cardt', 'onlyno', 'intimidated', 'buennproducto', 'ye', 'bue', 'contactsthe', 'faultif', 'inclosed', 'moneynot', 'phonesbut', 'pricedoes', 'morefor', 'libiano', 'estas', 'invirtiendo', 'comun', 'usos', 'depende', 'intensidad', 'defraudar', 'tlfs', 'bajamedia', '1even', '432', 'honed', 'allthis', 'usapproved', '678', 'mediabrowsing', 'fbigetc', 'swip', 'realstate', 'omits', 'gs9s', 'rotational', 'liter', 'indent', 'unconvinced', 'battery4000mah', 'naranja', 'derecho', 'sqaushes', 'tackle', 'maby', 'widevine', 'flashingjailbreaking', 'fustrationjust', 'correlate', 'earthquake', 'electromagnetic', 'genocidal', 'workive', 'fart9', 'annoingbut', 'faultwhat', 'lightits', 'greatestthey', 'grainsi', 'whatother', 'farbut', 'trabajó', 'networkthis', 'appilcations', 'prestación', 'extranjero', 'acerca', 'responder', 'amaizing', 'snuggly', 'compraré', 'estáes', 'sobresaliente', 'obsequio', 'permitido', 'actualizarme', 'aspectos', 'versiones', 'antigua', 'envidiarle', 'comercial', 'recommande', 'protrait', 'disap', 'qualcore', 'magisk', 'tinkling', 'historically', 'mi8', 'wouldvve', 'adulterated', 'cardwithout', 'good4000', 'faltan', 'josé', 'jugar', 'pugb', 'qualitygreat', '9mp', 'geniales', 'amasing', 'thoughs', 'visualize', 'doodle', 'speaksreads', 'comeing', 'claridad', 'exacta', 'verdadera', 'comunicarse', 'través', 'texto', 'overseasif', 'golpes', 'interna', 'descripto', 'likeeverything', 'boxsaved', 'dislikethe', 'be', 'faltó', 'g10', 'symmetry', 'kb', 'intolerably', 'tangle', 'boxi', 'variet', 'daul', 'integron', 'vodeos', 'pawerfull', 'evrithing', 'converting', 'standardus', 'splendidly', 'customary', '39000', 'n9600', 'n960fds', 'smn960fds', 'boxhad', 'beautifulcrystal', 'resourcehungry', 'advertisedtwo', 'attnote', 'acordada', 'vendra', 'asiatico', 'lationamerica', 'equipaso', 'fanonly', 'thingbattery', 'adapater', 'indicado', 'boxthat', 'fakepackage', '4gthat', 'etcnow', '9the', 'plusand', 'conditionsyou', 'buildocean', 'sayyou', 'patter', 'instraction', 'custemer', 'guidebook', 'execept', 'atrasó', 'acelerado', 'quitando', 'cobertura', 'très', 'bon', 'produit', 'trabajar', '895usd', 'anothe', 'performacewise', 'redistributor', 'verifies', 'stilus', 'chharging', 'canables', 'sensores', 'precisos', 'sello', 'indemne', 'pumped', 'teturn', 'eould', 'keek', 'undeceided', 'redefined', 'supercell', 'linustechtips', 'eficiente', 'survival', 'uncheck', 'xiomi', 'wieerdly', 'engulfed', 'ilumnation', 'belleza', 'lamp', 'awesomeis', 'domsetic', 'esthetic', 'sd845', 'filesand', 'theming', 'multipage', 'minttmobile', 'celltower', 'windowsapps', 'permitted', '48gb', 'incidental', 'baterial', 'offlike', 'samoa', 'tuviera', 'nombre', 'networklocked', 'failedineligible', 'unrestricted', 'haft', 'cape', 'scannersecurity', '80900', 'smn960f', 'recognizion', 'earlya', 'für', 'signalatt', 'v7', 'ahir', 'leasted', 'labyrinth', 'atlanta', 'updatehaving', 'aat', 'twostep', 'linus', 'recommendbuy', 'quarky', 'fivestar', '334', 'miuixiaomi', 'stockvanilla', 'ungly', 'misclicked', 'unsolicited', 'honkkong', 'senheiser', 'pxc', 'crystall', 'recog', '5055', 'ankers', 'indepth', 'giddy', '18hour', 'dismayed', 'subdivision', '30ty', 'fourway', 'proofresistant', 'rainsnow', 'squartrade', 'dije', 'encontrar', 'sensibilidad', 'fluidez', 'locura', 'manjar', 'disfrutar', 'definitiva', 'conectaban', 'sueper', 'ciudades', 'anclado', 'esperemos', 'américa', 'deperdido', 'f2', 'solucionen', 'disableuninstall', 'becausey', '300400', 'violación', 'fortouchscreens', 'v20s', 'cited', 'measurably', 'linageos', 'micom', 'fu', 'samsng', 'shiit', 'straighttalki', 'xoumi', 'receptioninternet', 'edgenot', 'barber', 'indivial', 'strand', 'follicle', '0hone', 'ip6768', 'framesbigger', 'región', 'ecomnomical', 'randomfix', 'miu', 'performant', 'brandmodel', 'decepciona', 'haberlo', 'darme', 'conectarse', 'sino', 'navegar', 'competidores', 'grandes', 'quejar', 'preciobeneficio', 'incómodo', 'leído', '23mins', 'estafadores', 'quieren', 'tender', 'lugares', 'húmedos', 'detección', 'erra', 'pantallas', 'táctiles', 'blessed', 'spekers', 'recomendó', 'monet', 'aceptación', 'masterfully', 'cylinder', 'watercooled', 'bast', 'bitterly', 'hardened', 'thumbprinter', 'delicately', 'quark', 'pocophones', 'wize', 'sledding', 'omaha', 'dakota', 'thoughtfully', '30cm', '200ahr', '4ahr', 'plying', 'usandolo', 'personalizarlo', 'juego', 'fluida', 'utilizando', 'modificaciones', 'increibles', 'franco', 'youself', 'favorbuy', 'mario', 'kart', 'bestia', 'díficil', 'ello', 'cajita', 'trajo', 'calientarápido', 'qualoty', 'esperarse', 'dynamite', 'iys', 'allcompletely', 'wrecked', '3300mah', 'reworked', 'effectiveness', 'stretching', 'whichactually', 'grylls', 'kodak', 'admitting', 'goosebump', 'overexposed', 'calibrating', 'radically', 'auxy', 'reinvented', 'situational', 'soup', 'redheaded', 'metaphor', 'currency', 'miscalculation', 'diety', 'sprawling', 'immerse', 'vesus', 'unusedidle', 'swipping', 'nodding', 'semicolon', 'straming', 'wealth', 'consultando', 'jeep', 'hovered', 'prestige', 'monolithic', 'mitigates', 'magnesium', 'gamesapps', 'cognizant', 'emblemyoutube', 'itselftried', '98pm', '12pm', '62019', 'enught', '10pm', '279', '22hrs', '1213hrs', 'sólido', 'estupenda', 'sonidos', 'reproducen', 'greatthough', 'wearhave', 'walnut', 'reassurance', 'emulated', 'sega', 'saturn', 'yaba', 'sanshiro', 'stockish', 'orderly', 'mimu', 'martes', 'efectivamente', 'viernes', 'podido', 'colocarle', 'resuelva', 'brevedad', 'informarme', 'respectivo', 'lineas', 'generales', 'llegar', 'likei', 'ramnot', 'unidades', 'quedare', 'mercancía', 'quarantee', 'adfilled', 'teníamos', 'gravias', 'expectedwith', 'itv', 'gb4gb', '323gb', 'everton', 'dayli', 'retarding', 'j2', 'smj260m', 'voicetextinternet', 'scotland', 'guernsey', 'normandy', 'englishlanguage', 'settingssystemsoftware', 'manuallyfixed', 'engañado', 'publicidad', 'cubacel', 'gigas', 'engañosa', 'usados', 'tratado', 'usainternational', 'logre', 'cumplir', 'cerrada', 'protegido', 'dom', 'consigo', 'empresas', 'telefónicas', 'falso', 'envié', 'papá', 'preocupación', 'funcionaría', 'gustado', 'dosbt', 'santo', 'domingo', 'queja', 'disponibilidad', 'asta', 'recepción', 'buenísima', 'probarlo', 'bestt', 'nigerian', 'potable', 'everythingworks', 'indicada', 'accross', 'decribed', 'queria', 'categoria', 'sellada', 'axe', 'phoneseems', 'mildmoderate', 'n960u1', 'n960u', 'xl1920', 'qiongni', 'xt192015', 'xt192016', 'xt192018', 'xt192019', 'unacceptably', 'disguised', 'settingssystemabout', 'protip', 'sourcing', 'th3e', 'omari', 'hayley', 'telwho', '04', 'negate', 'moro', 'envuelto', '17yr', 'encenderlo', 'propia', '12122018', 'je30', 'dl192019', 'xt19212', 'dns66', 'fdroid', 'apkmirror', 'moto5e', 'manualsinserts', 'licensed', 'irrigatorso', 'opacó', 'amarillento', 'contrete', 'cellairis', 'roomie', 'bitch', 'gettin5', 'paquetes', 'dejen', 'puerta', 'lleva', 'chico', 'buzón', 'fisicas', 'buana', 'rigjt', 'dismiss', '636', 'impedance', 'wooded', '23bars', 'chargebut', 'fragilefeeling', 'callmessage', 'snugged', 'enlightenmenti', 'telegram', 'kugi', '34900', '71s', 'wobbliness', 'laced', 'verbiage', 'aimed', '4gm', '400gb', 'glassimpressive', 'glimpse', 'dayinthelife', 'marksmanship', 'trainer', 'zain', 'roshan', 'forfeit', 'googlemaps', 'logon', 'ruihui', 'envelop', 'agoz', 'yoga', 'headphonesearbuds', 'receiverchip', 'reinstallation', 'midjanuary', 'hijacked', 'wobbling', 'absolves', 'lowbalanced', 'corroborated', 'mumbling', 'murky', 'marketspeak', 'devised', 'methat', 'notegoogle', 'supersensitive', 'rightmost', 'pinkie', 'himit', 'rearranges', 'miraculous', 'consequential', 'preparing', 'callwith', 'convincing', 'beforeit', 'negotiating', 'imaginary', 'deficit', 'connectingengaging', 'notcharging', 'propping', 'acrobatics', 'acknowledgement', 'faultily', 'smscalling', 'recognizable', 'backfired', 'qualityhdr10', 'nontechie', '800series', 'quickermore', 'qualitylooks', 'quickcharging', 'textnotification', 'qulaities', 'inbuild', 'deliverying', '500plus', 'formal', '4gb64gb', 'sd636', 'midrangers', 'ip52', 'drizzling', 'resolutionhdr', 'foreshadowing', 'effected', 'howtoformatmicrosdcardsasinternalstorage', 'limping', 'skiing', '355', 'frontcamera', 'soldered', 'soldering', 'exxelent', 'folowed', 'partitial', 'dining', 'recommenced', 'aptitude', 'nightmarish', 'emailslive', 'brainier', 'happedened', 'fidelity', '9162019', 'entail', '992019', 'handhold', 'graveyard', '24g', 'saddled', 'clunker', 'configdata', 'cableconnector', 'easilycamera', 'ranger', 'breathless', 'intrusion', 'exhibiting', 'heritage', 'inept', 'designchin', 'speedquality', 'billy', 'madison', 'junior', 'commuting', 'glasscoated', 'portcharging', 'juicing', 'gsam', 'dictating', 'reiniciarlo', 'comunique', 'mediosi', 'alguien', 'solucionar', 'antonymazzuccohotmailcon', '6port', 'gunked', 'voiceoverlte', 'dataheaviest', 'interferenceless', '8oreo', 'slowera', '10ths', 'secondpage', 'expirement', 'comm0n', 'ericson', 'portthe', 'waywhen', 'repairafter', 'damagethis', 'boxmy', 'scheduling', 'etci', 'europian', 'andoroid', 'endurable', 'remarked', 'pooping', 'preferable', 'raked', 'coal', 'midmarket', '8480', 'lockpower', 'accented', 'sag', 'yearsbut', '4gis', 'notched', 'reciever', 'blankdark', 'reappears', 'unrelaible', 'autobright', 'mesave', 'someoneelses', 'microsofted', 'desception', 'durabale', 'wisebut', 'bwhen', 'roi', 'recount', 'universe', '1you', 'export', 'cellport', 'chargeboard', 'havey', 'okif', 'dayit', 'itcoz', 'priceyou', 'positing', '1i', 'facet', 'bookeh', 'depthsensing', 'rtfm', 'wateproof', 'rasonable', 'chugging', 'goodbattery', 'featureset', '2chip', 'frecuencies', 'traer', 'bew', 'coments', 'fantasticits', 'thrice', 'allround', 'wrinkle', 'bellisimo', 'tamano', 'vuelto', 'phonetalkcalling', 'whitephone', 'chargedclarity', 'worthbattery', 'bloatfree', 'breakdownno', 'phonesometimes', 'callingcamera', 'normaldesign', 'publicitado', 'retribucion', 'espinoza', 'gjjjkkkju', 'wify', 'whiter', 'achilles', 'indoorslow', 'iconmenu', '7501000', 'problemfree', 'scrutinize', 'videogaming', 'goodsized', 'superimportant', 'parade', 'highspecced', 'skinui', 'overstate', 'outpaces', 'realworld', 'civilization', 'shadowgun', 'pointgiven', 'ultrasmooth', '55t', 'sizeform', 'designhardware', '1305', 'softreset', '1080x2280', 'a6', 'efectively', '3060', 'qualcomms', 'bhphotovideo', 'countryoperator', 'blackdark', 'chiseled', '64gigs', 'notchless', 'smsemail', '42019', 'quietera', 'resurgence', 'gpslocation', '2021', 'hyundai', 'hyundais', 'urbanmetro', 'staticinterference', 'circuitry', 'topace', 'raggedy', 'expandibility', 'adwear', 'updatesupgrades', 'choicesoptions', 'brightfingerprint', 'obstruction', '2002', 'mantle', 'wellspecd', 'amounted', '5xs', 'pixelnexus', 'simexpandable', 'lteadvanced', '34mm', 'aliexpress', 'zrse', '1998', 'pocketbook', 'expectancy', 'wetter', 'uncompetitive', '316', 'brevity', 'burdened', 'headroom', 'filefolder', 'onanyway', '889', 'excelling', 'maximized', 'unadhere', 'midranged', 'invent', 'loathed', '79pm', 'outage', 'imgs', 'focussed', 'tulip', 'buddha', 'moose', 'superbe', 'adsorbed', 'supporter', 'needleshaped', 'threaten', '81s', 'sharpened', 'pincer', 'unsavory', 'reshipped', 'overhowever', 'conserving', 'supermarket', 'sub100', 'ac1900', 'slog', '8232019', '8202019', '892019', 'appson', 'supportim', 'foran', 'acceptably', 'forgiven', 'brazos', 'omni', 'greentechus', 'bugger', 'prestressed', 'streaminggaming', 'horrendously', 'lites', 'pager', 'valuemidmarket', 'aping', 'charter', 'dollywood', 'elated', 'xferr', 'qthin', 'ascetic', 'guarentee', 'workingworth', 'airhorn', 'shuttering', 'desription', 'disappointedphone', 'debockel', 'sap', 'unfortantly', 'misplacement', 'privilege', 'chattered', 'admired', 'allof', 'novis', 'netfix', 'resivido', 'rembolso', 'ydy', 'usegreat', 'csmera', 'butoh', 'methanks', 'deffinently', 'unnoticed', 'suckssensitivity', 'suks', 'nbd', 'hardc', 'jerking', 'periodo', 'medida', 'valla', 'seguire', '121619', 'earlierseems', 'ltecdma', 'cantm', 'featuresjust', 'falló', 'wats', 'jamaican', 'saydi', 'quebrará', 'yebo', 'protectores', 'dañados', 'protección', 'noooooo', 'acuallu', 'vien', 'frim', 'supppliers', 'enfocar', 'tona', 'borrosas', 'handfrees', 'pakaged', 'mande', 'phoneat', 'daysexcellent', 'itslid', 'señas', 'mira', 'weaks', 'greatlooks', 'ithing', 'li', 'vorizon', 'desbloquearlo', 'understandinv', 'neweekrg', 'estabien', 'salen', 'comerciales', 'yas', 'dow', 'jiped', 'banning', 'sco_pet', 'saidunlockedso', 'cantit', 'traythere', 'mmsit', 'neon', 'psd', '121819', 'quitting', 'repp', 'scratehes', 'workingamazon', 'betterthey', 'itcan', 'distros', 'pbone', 'interfered', 'septic', 'ralloncitos', 'xt1806', 'xt1803', 'g5splus', 'nonblurry', 'recess', '3192019', 'appcrash', 'construct', 'spoiling', 'nuevas', 'delgado', 'fcil', 'estimado', 'disclosing', 'goldpink', 'walmartwalgreens', 'obamaphone', '28nm', 'nuke', 'dolphinat', 'knownoptimized', 'vulkan', 'stomp', 'sd625', 'buildprop', 'modestly', 'gsma', 'crown', 'tiltshift', 'featuredont', 'faroff', 'sneeze', 'jurassic', 'lowhave', 'disciplined', 'requirments', 'edgelike', 'neagative', 'customizible', 'skateboard', 'nonxiaomi', 'globalinternational', '440ppi', 'pogo', 'redmis', 'forte', 'touchwood', '626', '245g', 'mii', 'smstext', 't_mobiles', 'tmobilemetro', '1sd', '06112019', 'httpsenmiuicomdownloadhtml', 'winzip', 'httpsenmiuicom', '10330', 'speediness', 'scoff', 'uis', 'incommunity', 'obstinant', 'yourstruly', '10mm', 'onbrand', '32gm', 'complemented', '4000mamps', 'bangbang', 'sniper', 'warplane', 'interphase', 'topheavy', 'flexitime', 'counselor', 'redm', 'xiaolin', 'offshore', 'servía', 'tenían', 'apagar', 'varías', 'descargaras', 'lifenever', 'userseitchibg', 'instanti', 'workthe', 'welleverything', 'superioros', '1924', 'detailsnot', '40fps', '5060fps', 'xiawhat', 'nicehd', 'everever', 'wallpapersthemes', 'exemplary', 'smarty', 'cuestión', 'quizo', 'siguiente', 'pasó', 'derrepente', 'funcioné', 'ocaciones', 'necesites', '1settings', 'googleim', '2when', 'sys', '3constantly', '4when', 'scheduledthey', '5my', 'msgr', 'chooice', 'so', '1when', '2i', 'redme', 'ocassionally', 'downwards', 'entregaron', 'prometieron', 'físicas', 'dejanso', 'yrold', 'latina', 'unpleasantly', 'backcase', 'contactless', 'vuelva', 'coger', 'duraren', 'conclusión', 'cleari', 'readthe', 'processos', 'goodsuper', 'qualitybest', 'intimidatingly', 'pocketa', 'prometida', 'buien', 'graciad', 'mazing', 'simmicro', 'eoaganse', 'ovtiene', 'inutilizable', 'obligando', 'restaurar', 'fábrica', 'compradora', 'lápiz', 'oscura', 'presentar', 'usarla', 'amigable', 'compañias', 'goooooood', 'beacuse', 'thinn', 'salir', 'hthe', 'confortablefunctionality', 'connet', 'fundió', 'cuelga', 'confirmo', 'costbetter', 'dificil', 'superar', 'mixit', 'bluntly', '3mbps6mbps', 'downup', '3mbps05', '05mbps', 'improvelessen', 'onestop', '40gb', 'pained', '2week', 'surplus', 'proce', 'valiantly', '22219', 'satisfiedwith', 'internetmoblie', 'datawifi', 'fargot', 'greata', 'disappointmentsbut', 'sellerbut', 'okwell', 'saythis', 'toofor', 'iron', 'outbut', 'othersbiggest', 'customisation', 'optionsim', 'lifemy', 'hadand', 'percentand', 'settingsapart', 'thatthis', 'usersdont', 'themif', 'speciffic', 'performancethen', 'lepro3', '6pro', 'chargingconnection', 'leftmost', 'subtracting', 'max3', 'zblaze', 'bigphone', 'bootlock', 'reimaged', 'múltiples', 'peoducto', 'demora', 'pedirlo', 'anticipación', 'fiable', 'buenono', 'enthusiests', 'calltextmms', '104', 'circular', 'exaggerate', 'headphonesdoes', 'aweosme', 'suspend', 'burnedtwice', 'vibranti', 'hideously', 'seewhat', 'fanboyfangirl', 'pixeling', 'joygoods', 'rc', 'tolder', 'cheerio', 'wholsale', '0801', 'oneguess', 'iteven', 'nonusable', 'sucha', 'pixed', 'nonofficial', 'beautifuly', 'smartness', 'nonoriginal', '72hrs', 'youuu', '3however', 'unlockedthis', 'relock', 'relocking', 'placeotherwise', 'supplycable', 'deadthe', 'esimnot', 'bitlife', 'ccharger', 'headphines', 'embellishment', 'riff', 'assitand', 'ordings', 'pixel3xl', 'recommen', 'usbusb', 'backmenu', '3xls', '367', 'interactionuseability', 'encapsulating', 'misaligned', 'phonez', 'aehile', 'diría', 'problemagran', 'variante', 'posibilidad', 'hubiéra', 'indictors', 'notpink', 'rescheduled', 'nonstarched', 'everywas', 'plusit', 'a1905', 'a1863', 'resolvedphone', 'ventanas', 'definitivamente', 'hubiese', 'conocido', 'doesent', 'indicaba', 'descripciones', '00', 'injector', 'feeding', 'dncltechzone', 'crownproducts', 'notsobright', 'iswill', 'androidl', 'slowbasic', 'constantlyshaking', 'anout', 'enrolled', 'anticipates', 'wabbling', 'manged', 'sprite', 'occured', 'cameraboth', 'likeless', 'fullresolution', 'guaranteeddo', 'bootloading', 'repack', 'furnished', 'differentiating', 'arevaay', 'capablewith', 'httpswwwamazoncomdpb0792339pk', 'resetwipe', 'pcmac', 'cableheadphones', 'whistlinghumming', 'emits', 'onwhile', 'with32gb', '3172018', '346', 'affraid', 'samsungapple', 'distinctive', 'competitorsjust', 'bassheavy', 'transcription', 'kludgy', 'twoit', 'cellularwifi', 'calltextplay', 'winco', 'sizedesign', 'lastedall', 'sellerno', 'uniquness', 'reptetive', 'xa2is', 'structurally', 'logins', 'alsoit', '29999', 'creep', 'thatanywayif', 'qos', 'quebrado', 'deseche', 'salud', 'creía', 'lastimosamente', 'mg', 'profect', 'dislikecan', 'lifemngt', 'gah', 'psn', 'crisis', 'clover', 'woulnt', 'foolishness', 'x10', 'sp', 'throttling', 'speakerscable', 'predictivity', '_________________', 'rfid', 'aethestic', 'dabble', 'talented', 'wafer', 'vinegar', 'dealsallday13', 'reapplied', 'relocated', 'appssetup', 'logarithmic', '50ish', 'zx3', 'furtheryou', 'interactivitybluetooth', 'tetheringetc', 'interactivityunlike', 'spoton', 'preciovalor', 'landsbetter', '20182019', '1153', 'scheen', 'patron', 'pock', 'primery', 'flangerphaser', 'soundthat', 'playthis', 'chilling', 'proccesors', 'nivkle', 'diming', 'gazelle', 'batterywhat', 'daythats', 'recite', 'rationalize', 'sameprice', 'radiocd', 'dialers', 'timesuck', '80year', 'supershieldz', 'backdoor', 'sniffer', 'bookmarked', 'knoledgeable', 'mate20', 'specd', 'sling', 'opengl', 'slin', 'extremevulkan', '1126', 'signifigantly', 'slingshot', 'nintendo', 'thor', 'administer', 'commodity', 'typer', '7mbps', '7up', '2g4g', 'cardno', 'usit', 'outsell', 'performancemeh', 'unsafe', '032819', 'modelshould', 'discussing', 'textx', 'availablemight', 'prefiero', 'probé', '200this', 'sensitiveyou', '51719', '52019', 'posibbly', 'dropper', 'encasing', 'dyi', 'adicionales', 'snelx3', '12nm', 'hisilicone', 'paychacks', 'p40', 'budgetflagship', 'comienzo', 'practico', 'jellouse', 'complaindislike', 'm20', 'partsaccessories', 'knotch', 'hella', 'ststym', 'jobnice', 'locked1countryonly', 'preocupado', 'bajarme', 'elegir', '300the', 'cannt', 'amazingd', 'raye', 'rallada', 'andar', 'bolsillo', 'venda', 'rayan', 'avaialbe', 'customise', 'minda', 'madre', 'vive', 'llenó', 'friendley', 'preciocalidad', 'resistencia', 'rallazos', 'extremadamente', 'saca', 'impresionantes', 'reclamos', 'allllll', 'reallay', 'dolar', 'trabajado', 'termino', '700mhz', 'ether', 'httpsforumxdadeveloperscommate20prohelpissuesreceivingcallstextt3869291', 'quickshortcutmaker', 'httpsplaygooglecomstoreappsdetailsidcomsika524androidquickshortcuthlen_us', 'ticwatch', 'c2', '660s', '1640', 'a12', 'prescription', 'polarization', 'toooooooooooooooo', 'stubby', 'silverfish', 'rhebriggt', 'cricketatt', 'soften', 'quicklyabout', 'continual', 'qualitybut', 'labour', 'direcly', 'metrotmobile', 'afaic', 'deploys', 'fax', 'toothcall', 'qualitycamera4g', 's9s', 'claras', 'aclaro', 'controversy', 'pica', 'byt', 'ussues', 'comercializa', 'shippingsealed', 'funcionia', 'ejemplar', 'moreim', 'commences', 'prduct', 'chargingand', 'chargenot', 'thrilledjust', 'ligh', 'waring', 'equipazo', 'cdmaless', 'vzwims', 'ipx4', 'methodology', 'ityeah', 'u12', '296ghz', '90hz', 'boarding', '6ft', 'misfire', 'misinterpret', 'abnormality', 'rmas', 'rog', 'induced', 'gtx', '1070', 'zenpad', 'zenbook', 'substantiate', 'disputed', 'emagazines', 'bleach', 'dokkan', 'fgo', 'evovled', 'aliasing', 'btd6', '183', 'vengeance', 'slayed', '10stars', 'verizonnote', '26565', '21122', '19956', '20162017', 'asusmade', 'chargeport', 'imparting', 'downvoted', 'digicam', 'scripting', 'ofcourse', 'booed', 'diablo', 'hourswith', 'hz', 'advertistment', '58mins', 'ml', 'reinicio', 'parecen', '120hz', 'gamevice', 'overpowered', 'teased', 'amazong', 'genie', 'transmitter', 'egregious', 'deviceboth', 'pricedbeing', 'offend', 'fixation', 'crossshipping', 'accomodate', 'replacementrepaired', 'overclocked', 'binned', 'mobos', 'gamery', 'dslrs', 'removedisable', 'longlife', 'desirability', 'stopscreen', '4257', 'innovating', 'royale', 'overclocking', 'pixeliphone', '90fps', 'enhancing', '3060120', '2060120240', 'espere', 'fantasma', 'blanca', 'afectar', 'repente', 'conditionglobal', 'alread', 'blasing', 'pubgfornitevain', 'glorydragon', 'dokkenmobile', 'legendspokemon', 'farely', 'dimentions', 'pixaly', 'browsingyoutubesocial', 'mediacalltext', 'heavypretty', 'gamingstreaming', 'flexable', 'blote', 'defrauda', 'infrarrojos', 'originalmente', 'dato', 'comprarle', 'forro', 'cristal', 'ambo', 'tenerle', 'jeopardy', 'cause1when', 'xaoimi', 'versatilidad', 'operación', 'leer', 'imprimir', 'páginas', 'parcial', 'coloca', 'indicamos', 'integra', 'cansado', 'investigue', 'nome', 'elprecio', 'volviera', 'mentira', 'miuis', '110th', 'miras', 'cumplieron', 'ofertado', 'previamente', 'preferiria', 'wieght', 'choke', 'bussines', 'steb', 'novia', 'deshacerme', 'nicee', 'recomendaría', 'potencia', 'reconocida', 'chinnese', 'relacion', 'veloz', 'realible', 'lee', 'whereever', 'ration', 'cameraunbelievable', '4gcant', 'numberetc', '125mp', 'wi_fi', 'metropcsas', '150k', 'op5', 'miui10', 'miui7', 'detracts', 'impairs', 'arkansas', 'colorclarity', 'highultra', 'scaner', 'silicón', '28h', 'alice', 'labores', 'nave', 'costocalidad', 'y9', 'selfdont', 'y7', '1020p', 'sidenote', 'hve', 'disappointedive', 'cónforme', 'annie', 'nework', 'bloquedo', 'pley', 'notrabaja', 'durabilidad', 'valorare', 'laguea', 'duraccion', 'equipó', 'intenté', 'pautada', 'confesar', 'equivoque', 'libro', 'inatruciones', 'usinghaving', 'subdue', 'rolldown', 'maximal', 'topshot', 'cancelation', 'aroundgreat', '90sometimes', 'procesamiento', 'nítida', 'abe', 'newand', 'degenerative', 'rheumatoid', 'arthritis', 'carriersso', 'faultythe', 'openingit', 'yego', 'penpencil', 'tended', 'wellpacked', 'backorderd', 'opinionthe', 'flashthe', 'aupon', 'curvy', 'reutning', 'pareció', 'indentention', 'eureka', 'clearance', 'wade', 'atlantic', 'comsumer', 'badbad', 'schmuck', 'muse', '326', 'wifivoip', 'nowworks', 'grift', 'factual', 'jampacked', 'utilises', 'allegation', 'ownuse', 'unaffected', 'gluegate', '40wwow', 'tilted', 'ego', 'emerald', 'greatful', 'sidenotes', 'institucional', 'tomas', 'misunderstand', 'tiered', 'rez', 'darling', 'obliged', 'cult', 'twilight', 'corful', '8g256g', '7since', 'huawey', 'boe', 'tood', 'pregunta', '30min', 'tenianuna', 'verde', 'renovado', 'viva', 'fingerface', 'improvedi', 'nitidez', 'imagenes', 'sobresale', 'escándalo', 'grabación', 'comparisson', 'pedazo', 'dolares', 'sastifecho', 'enamorado', 'quejado', 'despedicio', 'jaded', '980', '3120x1440', '4200', 'bluewhite', 'amusing', '1049', 'calibre', '40mp', 'wm1000xm3', 'agency', 'overtook', 'confidentiality', 'translated', 'itemno', 'samungs', 'finalized', 'haisi980', 'kui', 'servicesbut', 'guardado', 'regalarselo', 'entregarselo', 'anterioridad', 'empece', 'departamento', 'alrededor', 'congelado', 'calificarlo', 'updateso', 'disappointinglast', '2another', 'wetno', 'wetit', 'devicein', 'spillageor', 'etcat', 'havehuawei', 'hadcamera', 'partyou', 'doesfingerprint', 'screenthe', 'configurationappearance', 'designingand', 'pagas', 'cometes', 'freaked', 'guerilla', 'freaky', 'mpmall', 'almacenaje', 'frecuencia', 'mailsi', 'shabang', 'upgradedowngrade', '800phone', 'sdxc', 'completes', '12262019', 'cussing', 'googlefi', 'uograde', 'speakerwhen', 'daybut', 'pixal', 'encendí', 'desconectaba', 'reiniciará', 'hiciera', 'establecimiento', 'conectaba', 'thopu', 'snl', '1300000', 'regurgitate', 'cabling', 'london', 'pixel4', '63screen', 'frome', 'smg920i', 'iot', '90gigs', 'g920i', 'optus', 'comtact', 'poc', 'tract', 'carrieronly', 'especifica', 'libres', 'recibirlo', 'gon', 'seal100', 'phoneliked', 'singaporean', 'unaccceptable', 'exactlyyy', '920f', 'ìs', 'inprove', 'expectationts', 'exllent', 'veryhappy', 'shahana', 'hashemsomething', 'naming', 'fragilegood', 'telephne', 'discourage', 'weakwont', 'extracting', 'stunner', 'asutralian', 'singed', 'tecnology', 'rochester', 'glonas', 'galileo', 'qualaity', 'publicitada', 'precisión', 'métrica', 'capta', 'satélites', 'submetrico', 'bloqueó', 'hize', 'solicitud', 'aviso', 'posble', 'perdido', 'realizo', 'hadhuawei', 'compite', 'promocionadas', 'a6013', 'a6010', 'chinaindia', '9x', '641', 'nonenglish', 'basted', 'livestock', 'suing', 'patronizing', 'greatall', 'cust6', 'bee', 'chipper', 'stongly', 'blurrygranulated', 'comparar', 'esperada', 'lteumts', 'prl', 'buble', 'pitting', 'debrand', 'chineseindian', 'michigan', 'mislabelingfalse', '90th', 'percentile', 'ringvibratemute', 'autopairs', 'palmos', 'phonegive', 'wham', 'codesuper', 'textemail', 'exchangee', 'intro', '12am', '555am', 'fastomg', '9its', 'surpised', 'flagshipsthis', 'pursewallet', 'flawlesslyalso', 'horrable', 'zerostars', 'cod', 'descontento', 'engaño', 'llevaba', 'agosto', 'aprobó', 'presente', 'multilingual', 'silver256gb', 'unwrapping', '68hrs', 'bristle', 'quizas', 'diria', 'alcanza', 'recargar', 'shoutout', 'regresarlo', 'promax', 'xx', 'bofyi', 'duraría', 'luckier', 'horribles', 'formas', 'reembolsodespués', 'intentando', 'policial', 'pricerefurbished', 'ciento', 'instale', 'colombiana', 'usefully', 'envían', 'ittttttt', 'agradablesbellísimos', 'saio', 'maravilhoso', 'amei', 'incluyen', 'orijinal', 'baf', 'protectionjust', 'pearly', 'seemly', 'seething', 'discarding', 'disheartened', 'contactar', 'airpod', 'warnscratches', 'preexisting', 'stung', 'mitieron', 'neli', 'recordarlo', 'delo', 'quiso', 'coplen', 'ordred', 'estéticas', 'amazonseller', 'lucia', 'refurbisded', 'skratches', 'flojo', 'reviewinwas', 'dydtem', 'ipower', 'healthmaximum', 'cellbuen', 'seeping', 'overtop', 'scrupulously', 'barelyvisual', 'haterefuse', 'gill', '400ish', '159', 'youtubeing', 'definently', 'squealing', 'easytonavigate', 'unfornately', 'cheaper249', 'sensorr', 'mz', 'fds', 'rented', '100month', '25mp', 'tmobike', 'cslks', 'a20', 'a505g', 'a505u', '8digits', 'back25mp', '11pro', 'a70', 'teleportation', 'phoneability', 'wirelessbility', 'missouri', 'crickett', 'hearthe', 'andrés', 'a30', 'acitivar', 'linia', 'apárese', 'entonces', 'costante', 'bix', 'headlhones', 'encantoes', 'upotherwise', 'expulsar', 'compartimiento', 'hiccupseverything', 'purchasethe', 'handthe', 'lensthan', 'dlr', 'apsi', 'chargercableheadphones', 'areasfor', 'amish', 'issuei', '378', 'spigan', 'piecemeal', 'euplugged', 'rapped', 'thjs', 'rapping', 'especificaciones', 'spiffy', 'thingsespecially', 'sleekiness', 'samoled', 'brigth', 'ligth', 'replaceble', 'blurr', 'existant', 'worrie', 'hollidays', 'numberssomething', 'nowof', 'pagewhich', 'removableuser', 'smashsoak', '119149', '72519', '80100', 'glitziest', 'boght', 'soory', 'newcurrent', 'xplus', 'rereview', 'renter', 'orginally', 'friendsj3', 'ththaththat', 'wxpected', 'butno', 'timemay', 'batteryotherwise', 'ta1016', '3year', 'luna', 'notificationreminder', 'meno', 'enviara', 'telefonía', 'perdiera', 'rato', 'bolivia', 'discreet', 'reviewboth', '120ish', 'attverizon', 'courer', 'solenoid', 'soundmusic', 'technicas', 'workdaysweekend', 'nudge', 'vicinity', 'saddening', 'serivce', 'waorks', 'dependiendo', 'mínimo', 'establecida', 'actualizó', 'adorable', 'offspring', 'defectivedamaged', '2star', 'holdem', 'ratingswise', 'affordablely', 'juntaron', 'estetica', 'reseña', 'equivocada', 'sucediendo', 'raro', 'llamó', 'reputación', 'portado', 'sincero', 'ifixit', 'sencible', 'agua', 'mojo', 'introdujo', 'mantengan', 'lejos', 'gota', 'dissapoints', 'achieved', 'whatsap', 'xt19414', 'jahangir', 'surport', 'productbrought', 'entrego', 'biengracias', 'heffers', 'tildarse', 'reseteo', 'arrancar', 'terminación', 'montón', 'phonetherefor', 'usedno', 'screenbleeding', 'lcc', 'waranty', 'responsibilty', 'cof', 'mensualmente', '7219', 'itfalse', 'ejunk', 'ágil', 'regale', 'expensivelooking', 'interferes', 'soemthing', 'restartreboot', 'readjusted', 'seriouslyi', '217', '102419', 'skeptically', 'exasperated', 'reuserefurbished', '145', 'apiece', '4302019', 'gliches', 'recieves', 'violently', 'dirtx', 'usedowned', 'xt1925', 'scrtchable', 'utilizándolo', 'quandarywhy', 'detectionunlock', 'undershines', 'clark', 'howard', 'dowhich', 'importantes', 'alegro', 'salary', 'batterysaving', 'missingno', 'phoneschose', 'aided', 'phonel', 'yesall', 'qualityhd', 'a73', 'a53', '132geekbench', '3325', '73000', 'devicevery', 'providerno', 'luckcalled', 'samsungthey', 'accountable', 'painintheneck', 'tweeny', 'phonefast', 'deliverymy', 'outofguarantee', 'computergenerated', 'complying', 'inwarranty', 'sservice', '632', '1013', '3000amh', 'semiquick', 'troubled', 'pertaining', 'oppo', 'morocco', 'prelenovo', 'cellulari', 'okayits', 'adapterfrom', 'complaintthe', 'awesomethe', 'surfingit', 'houram', '1952', '18883558422', '8am8pm', 'becausebig', 'wprice', 'autorecognized', 'shippingiparcel', 'tokyo', 'phonelocated', 'domestico', 'sahm', 'didbi', 'userlevel', 'delegate', 'telefoto', 'negativity', 'distinguishable', 'skinnier', 'diagonally', 'actuality', 'midapril', 'mcdonalds', 'nike', 'snkrs', 'frozencant', 'thong', 'badd', 'sensation', '2870', 'nonintense', 'retaped', '295', 'videopicture', 'mesmerizing', 'plusme', 'pequeñohice', 'reclamó', 'respondió', 'aspectossiempre', 'inclusive', 'superiorla', 'rapidísimoel', 'bajoel', 'exteriores', 'pantallaen', 'shit', 'nono', 'f18', '28mm', 'tof', '1080p30fps', 'uhd', '2880', '538', 'poled', 'indisplay', '3320mah', 'opticalbased', 'ultrasonic', 'betterlooking', 'rb', 'ultrawide', 'lenscamera', 'simulating', 'pureviews', 'stacking', 'piling', '855', 'luxcapacitor', 'sortof', 'nonmodified', 'andoird', 'oneui', 'huaweiâs', 'systemwide', 'movementshake', 'sensorshardware', 'collecting', 'pamoled', 'matrix', 'emitting', 'sheetsheets', 'compound', 'passive', 'anode', 'cathode', 'substrate', 'licensing', 'ceo', 'florian', 'seiche', 'coo', 'kantola', 'cfo', 'anssi', 'rãnnemaa', 'owl', 'signalinternet', 'crashingfreezing', 'grind', 'seach', 't5i', 'experimentation', 'mediumhigh', 'monotone', 'offerer', 'refocusing', 'harped', 'shotand', 'passébut', 'stark', 'opposition', 'wax', 'philosophically', 'lumiasbut', 'needbut', 'bezeluse', 'modded', 'lg6', 'edging', 'pissing', 'secthis', 'quintuple', 'ironicaly', 'toplevel', 'prowness', 'ility', 'manhole', 'sewage', 'gametime', 'venir', 'version31', 'preceded', 'proprietorshipcomputer', 'purchasefew', 'sennheiser', 'h800', 'bts', 'canal', 'dataports', 'formulated', 'fritos', 'unnaturally', 'ofc', 'likingi', 'enroll', 'repeatable', 'frivolous', 'clay', 'documentationboot', '627', 'climate', '78mm', '157gm', 'snapgradon', 'huge128', 'chink', 'prismatic', 'frikken', 'armed', 'geolocation', 'smg973uzkaxaa', 'smg973u1zkax', '12month', '1touch', 's10plus', 'honorhuawei', 'hinders', 'crispness', 'experimented', 'rename', 'bogo', 'frameless', 'plopped', 'swipetoanswer', 'mishandle', 'rokuchromecastetc', 'narcissistic', '_________________________', 'mst', 'overprotected', 'progression', 'pureandroid', 'plastered', 'privy', 'franklyit', 'powersharing', 'worstcase', 'timeswhich', 'screenunlocking', 'isnot', 'retracting', 'emergence', 'underscreen', 'holepunch', 'gapfiller', 'singlepress', 'canvasser', 'pushier', 'becomei', 'primeday', 'smg973u', 'smg973f', 'brend', 'earbudswhich', 'instalen', 'personasretratos', 'inernational', 'workadjusting', '3asy', 'versitile', 'smg973u1', 'hasnxt', 'crispiness', 'ovall', 'banco', 'pidiendo', 'notas', 'hacerme', '2foot', 'outa', 'húmeda', 'yuh', 'reregistering', 'runningworking', 'acrylic', 'sizeguess', 'recognision', 'technologychallenged', 'noticabley', 'howeverive', 'archive', 'skating', 'samt', 'tra', 'jibbed', 'understate', 'obstructing', '845s', 'rootless', 'envoke', 'aptly', 'botched', 'mapped', '10a', 'suberbia', 'rental', 'inflate', 'anygame', 'basicsand', 'betterless', 'camerais', 'goodnot', 'downgradenot', 'intuitiveand', 'worksite', 'connective', 'callstextsnotifications', 'headphonesear', 'simplify', 'kimovil', 'dissapeared', 'warrantreplace', 'bjt', 'reiniciarla', 'slideout', 'willmyphoneworknet', 'verizonapproved', 'fresno', 'lei', 'rewarding', 'fidget', 'spinner', 'dayjoy', 'textile', 'banggoodcom', 'banggood', '86583', '869434', 'worm', 'miunlock', 'pocofone', '3300', 'notobsessedwithhourlyselfies', 'annoing', 'clic', 'ericcson', '8001200', 'portugal', 'orlando', '10hours', '40minute', 'modenone', '2270', '506', 'microsecond', 'chopping', 'purer', 'turbocharging', 'piercing', 'harshtreble', 'teardrop', 'ratingits', 'overcast', 'g5the', 'prescripted', '3phone', 'gsomething', 'srewed', 'saveddownloaded', 'startac', 'g56', 'decentspecd', 'socs', 'taco', 'tweeting', 'pancake', 'anonymous', 'dedicating', 'clog', 'dashcam', 'edxposed', 'xprivacylua', 'gravitybox', '259', 'especiallly', 'hooray', 'audiovideo', '2022', 'greta', '25999', 'unnessesary', '1000i', 'hatei', 'closetostock', 'neartoptier', 'lfingerprint', 'didi', 'retry', 'disconnection', 'appswindows', 'moneycrazy', 'classify', 'crazycould', 'stunk', 'xt19624', 'xt19621', 'flowed', 'europecaucasus', 'teflon', 'signalnothing', 'makingtaking', 'slipperybut', 'verizona', '3000mh', '5000mh', '400600', 'disklike', 'handilyvery', '5000080000', 'iphoneshighend', 'g950u', 'fiio', 'x5ii', 'dap', 'qualityprice', 'capcity', 'fantasic', 'flashlightsreally', 'reworking', 'insidious', 'perverse', 'bathtub', 'gripable', 'tyranny', '5year', 'programsservices', 'gpus', 'mediumtolow', 'pathologically', 'nearprofessional', 'horsing', 'bluetoothvoila', 'brian', 'reburbished', 'multibutton', 'hightech', 'sidescan', 'sonar', 'usesdefinitely', '3which', 'backsidemakes', 'actionsdisplayvoicemost', 'uhsii', 'scenic', 'standingif', 'phonebrightness', 'setbut', 'phoneim', 'phonesa', 'musti', 'fryed', 'daysnot', 'whyso', 'brandim', 'm50xs', 'superpremium', 'acspec', 'betterbarely', 'cardsd', 'sreeen', 'g5plus', 'xt19522', 'xt19523', 'forthright', 'g7s', 'cheyenne', 'expedia', 'hotelscom', 'orbitz', 'wah', 'lah', 'weathercom', 'computernetworking', 'blogged', 'callstextsalarms', 'itamazon', 'motorolastill', 'cignal', 'tutoring', 'closeed', 'producthave', 'whatcha', 'shutterbug', 'bah', 'humbug', 'armored', '10001200', 'mindblowing', 'ftr', 'nary', 'cascading', 'phoneanother', 'motog7', 'jumpy', 'heap', 'locstion', 'ussd', 'keyed', 'enlist', 'débil', 'jenial', 'tmobilespecific', 'poll', 'notsotechsavvyseniors', 'usetroubleshoot', 'screencamera', 'consolidating', 'heavythick', 'wusbc', '5v3a', '9v2a', 'searchassistant', 'foistware', 'supportgooglecompixel', 'leftover', 'subfolders', 'betteryou', 'g7plus', 'vuala', 'dfw', 'plancarrier', 'esentially', '27w', 'sprinkled', 'overadvertised', 'featuresperformance', 'internatiinal', 'enoughduh', 'k30', 'appaired', 'durableas', 'hypebuy', 'startacand', 'mosttop', 'carrierbreak', 'limite', 'sostenerlo', 'generar', 'vengo', 'familyfaster', 'approve', 'alterno', 'terible', 'wopping', 'finian', 'blake', '3gmo', '53m', 'redirect', 'experimentinglearning', 'promanual', 'weirdo', 'afterward', '1520min', 'fastcharge', 'zedge', 'bangforthebuck', 'bangforyourbuck', 'concenjs', '257', 'nowsmaller', '629', 'placethe', '2017early', 'connectorschargers', 'docket', 'destined', 'lifedoes', 'overallit', 'surprisedpleased', 'perfectlyno', 'boarder', 'modle', 'eagerness', 'reseach', 'graf', 'regretfully', 'spanishportuguese', 'combining', 'juzgarlo', 'itpersonal', 'beardthere', 'uighur', 'housed', 'theoretically', '100mbs', 'u3', 'exhibited', 'dualsimcard', 'kongmainland', 'phonominal', 'oem_locked', 'hospitalsfactory', 'b71', 'monosim', 'cardtmobile', 'xt19552', 'balk', 'awry', 'shagrin', 'metroplex', 'cinder', 'tossing', 'pinhole', 'seminar', 'vaunted', 'idki', 'happyymmv', 'usmode', 'wavelength', 'britishfrench', 'scandinavia', 'moviestv', 'justaphone', 'functionalashell', 'fetish', 'smidge', 'psoriasis', 'shampoostry', 'exfoliatenevermind', 'plugslots', 'preunlock', 'designersnobody', 'carriersdiscovered', 'freeups', 'freeup', 'weenie', 'whichll', 'lilbitmore', 'iphoneusing', 'chum', 'drool', 'terrabyte', 'podcastsspotify', 'cheapbe', 'phonespcs', 'itdoes', 'perorm', 'subcarriers', 'undependable', 'villain', 'fuí', 'bully', 'feathrues', 'vienna', 'lamest', 'notications', 'notorolla', '9102019', '2piece', 'unison', 'niceeeee', 'withhold', 'us200', 'mobilei', 'realizada', 'diez', 'thatgood', 'imaged', 'deallove', 'sponsor', 'peachy', 'effecient', 'monstor', 'asupporting', 'gigahertz', 'pictureselfie', '5mhz', '1213', 'nasa', 'phoneoriented', 'dailer', 'dependiente', 'comprobado', 'bringyourowndevice', 'espectativa', 'empezar', 'demoro', 'mias', 'aparentemente', 'desbloquearla', '58g', 'usspecific', 'ever3', 'beforebuy', 'undemanding', 'weeki', 'sabía', 'comparabilidad', 'parace', '464gb', 'enoughand', 'cordetc', 'wisconsin', 'cardnano', 'phonesmart', 'completos', 'pesado', 'pwrformance', '7this', 'off225', 'powerel', 'tenidomuy', 'dió', 'talla', 'stilo', 'weekgreat', 'boxpitiful', 'antonio', 'turbofast', 'nonslip', 'spiff', 'stabilized', 'motoamazon', '271', 'slowinglag', 'grumpy', 'comemout', 'snbit', 'supra', 'xt1955', 'httpswwwamazoncomgpproductb07pp8gs72', 'turbocharge', '4mbps', 'againperiod', 'intially', '121419', 'territory', '58x', 'mehhh', 'sdd', 'advises', 'wastmobile', 'audiobook', 'underdesigned', 'compilable', 'borrowes', 'biister', 'clonky', 'tuctuc', 'phonehuge', 'polute', 'str', 'lif', 'isnd', '10time', 'greatif', 'netflixhulu', 'storagebut', 'welli', 'customerspioneers', 'talkingtake', 'ite', 'ld', '64gb4gb', 'onaccess', 'xt19555', 'simmilar', 'phonecameratablets', 'overcomes', 'advertisedover', 'softfone', 'ramgood', 'overalll', '58ghz', '6671', 'instructionsbut', 'submitting', 'simolw406tq', '854798005156', 'sellingvery', 'comples', 'sorint', 'accountsvery', 'disappointedso', 'phoneonly', 'nrand', 'litle', 'purging', 'impreesive', 'registro', 'expecteverything', 'lexar', 'hardrive', 'adolescent', 'livehave', 'g970f', 'googlepay', 'hadwhile', '15800', 'inconsequential', 'impulse', 'smartpay', 'backwoods', 'apks', 'sideloaded', 'policyvery', 'httpswwwamazoncomdpb07765ztt7refcm_sw_r_cp_apap_shi755irmwdyi', 'leecoco', 'pu', 'httpswwwamazoncomdpb07g5z5dzfrefcm_sw_r_cp_apap_umuajbdmzlwug', 'dataphonemessaging', 'attunlocked', 'attnetwork', 'approvedwhitelisted', 'attspecific', 'networkspecific', 'trindad', 'rgck', 'succeeded', '550usd', 'bendedor', 'tardo', 'enbiarlo', 'efficienti', 'phi', 'trhough', 'securitysign', 'gettibg', 'discrete', 'vesels', 'unifi', 'canary', 'designnice', 'prism', 'celland', 'saleman', 'brind', 'keyboardi', 'barbaro', 'uaomgabout', 'envíe', 'costoso', 'frío', 'detecto', 'temperatura', 'mda', 'lowish', 'gangggg', 'ressolution', 'regist', 'packaginng', 'precioso', 'expectwd', 'butnit', 'rápifo', 'cage', '609', 'handicap', '9820', 'dabbling', 'embodiment', '22719', 'm30', 'no1', 'overrateded', 'powershare', 'shipdate', 'conectó', 'flasgship', 'debolvi', 'esperp', 'inprecion', 'siga', 'biene', 'inculidos', 'malos', 'newlucky', '19top', 'tardado', 'americano', 'interfas', 'limpia', 'volveria', 'ofrecieron', 'venderdor', 'expectativa', 'pdt', 'fascino', 'costliest', 'prioducto', 'indagar', 'funcionalidades', 'caida', 'rompe', 'raya', 'jew', 'dummydisplay', 'perforamce', 'telefo', 'itembut', 'numberi', 'itemthank', 'desconta', 'simpre', 'expresamente', 'terminaron', 'molestias', 'transcurso', 'mesed', 'trato', 'credito', 'aceptacion', 'ay', 'oprimir', 'appquede', 'satisfaga', 'fondo', 'contestar', 'preguntas', 'diary', 'getsbelieve', 'folchi', 'goodproduct', '5040', '11with', 'arrrived', 'conectores', 'europeos', 'deliverycbut', 'defo', 'arrepentido', 'nonsingapore', 's8s9s10', 'wusb', 'keyboardmouse', 'informational', 'impressionsfunctions', 'akin', 'intuitiveness', 'imeii', 'friendlier', 'formula', 'interanly', 'finagling', 'bixbyit', 'touchable', 'llegará', 'cando', 'abriera', 'regresara', 'nadamas', 'aver', 'llegara', 'tarde', 'emtonces', 'pinen', 'oly', '0robably', 'bachelor', 'estimadome', 'altavoces', 'elegancia', 'regalaron', 'externo', 'allsnapdragon', 'protectormay', 'thinkness', 'herjust', 'sicker', 'pir', 's0', 'precios', 'tiendas', 'econom8co', '1er', 'critico', 'telefeno', 'adapotr', 'eff', 'lea', 'completar', 'biyer', 'everydaybut', 'edge7', 'celularllego', 'calidadrecomendado', 'cheekbone', 'yout', 'mmspicturegroup', 'cllours', 'birth', 'lagos', 'tolles', 'telefon', 'allmint', 'alternar', 'indicando', 'libre', 'estuviese', 'phonelegit', 'describen', 'uselight', 'señalado', 'defaultsuplmmsfota', 'periodand', 'coveting', 'googleandroidtrump', 'admn', 'wellitd', 'lowkey', 'cerrado', 'peoduct', 'donwload', 'determination', 'suplidor', 'gryphon', '2019bestsale', 'agreeing', 'twiddling', 'dataappsetc', 'supervisorwho', 'straighten', 'refundnow', 'inugh', 'waaaayyy', 'playground', 'screensapps', 'g013a', 'saiga', 'prefección', 'embarrassment', 'undergo', 'amantes', 'fridayvery', 'tmboile', 'proc', 'jacktime', 'onehad', 'reserarched', 'logoi', 'usedgoods', 'boxwith', 'halted', 'flamingo', 'ineptitude', 'electronified', 'lightdark', 'hellish', 'hamstrung', 'bordering', 'clownish', 'poker', 'foregoing', 'sunrise', 'httpswwwamazoncomgpawdb07y771yllpsc1refppx_pop_mob_b_asin_title', '535', 'dident', 'pagué', 'destaca', 'filmación', 'betterfaster', 'newall', 'venga', 'unbiased', 'spnt', 'seer', '2o19wrstsale', 'buyersbe', '608', 'modelsamsung', 'techologically', 'illiterate', 'appfunction', 'inhibits', 'practicing', 'kindness', 'fireware', 'g975usqs2asgb', 'exowner', 'senor', 'nerding', 'probs', 'jala', 'greatwill', 'froms7', 'whitedome', 'infinityo', 'sidesense', '122019', 'voicemusic', 'frequentlyused', 'extracted', 'lowerlit', 'telescope', 'noisier', 'fakebokeh', 'rescanned', 'rightbrain', 'decentnot', 'postpayno', 'messege', 'grippability', 'wp10', 'awkardly', 'everythign', 'elese', 'promissed', 'omade', 'dominant', 'xperia1', 'mejornota', 'esperé', 'quility', '1040', '10k', 'crapiera', 'tenfold', 'raliegh', 'nola', 'shreveport', 'vega', 'craperia', 'tmos', 'majoy', 'antennatower', 'isssues', 'acknowledging', 'chargning', '1299', 'tyrain', 'bleep', 'spineface', 'coverface', 'pealing', 'hmpf', 'smothered', 'majestic', '1000mx3', 'backfacing', 'y6', 'mrdlx1', 'mrdlx1f', 'mrdlxn', 'mrdlx3', 'lx1f', 'lx3', 'lx1', 'cautioned', 'y6y6', 'inequity', 'pw', 'nonfitting', '16t', 'overheatingrebooting', 'fullsize', 'umidgi', 'xi', 'fingerprintpassword', 'polaroid', 'productsonly', 'perished', 'lifeuntil', 'forewarn', 'moto3', 'duplicative', 'piecameras', 'filesphotosvideos', 'pricebeing', '519', 'tomtom', 'sma305gds', '305', '195', 'mvd', 'kentucky', '3wks', 'festures', 'hibernation', 'm50', 'lifer', 'j4', 'a10', '205', 'crappiest', 'anywaythis', 'storagethe', 'finddger', '4h', 'a305g', '700a', 'concreteiron', 'sleekmodern', 'a305f', 'checkerboard', 'fingerprintfacial', 'dailyreturning', 'calificacion', 'whatsapps', 'downsude', 'patchy', '5hours', 'phonemodel', 'reserving', 'thiught', 'microprocesador', 'intensivo', 'alrightdelivery', 'anythign', 'plásticos', '64inch', 'expey', 'overeasy', 'refurbunboxed', 'saint', 'vincent', 'grenadine', 'responsable', 'wazy', 'grandiosa', 'durare', 'talkatt', 'lteno', 'telèfono', 'fisico', 'ganaron', 'stucking', 'intuitivo', 'scratchable', 'batrae', 'muuy', 'muchomuy', 'batterery', 'airfire', 'astac', 'assetvada', 'dobson', 'centennial', 'broadpoint', 'calhan', 'call4care', 'txok', 'chariton', 'commnet', 'cordova', 'corr', 'dtc', 'earthtones', 'fuzion', 'gtc', 'gosmart', 'immix', 'jolt', 'ktc', 'locus', 'mobal', 'nep', 'pine', 'plateau', 'shaka', 'terrestar', 'westlink', 'cali', 'glasstic', 'prosnfcwifi', 'screensamsung', 'brandvolte', 'alrite', 'butler', 'louad', 'siicon', 'saumsung', 'constantanly', 'tmoibile', 'sincewell', 'capitalism', 'mine10', 'adaptado', 'revisaré', 'sufra', 'bolsa', 'plástica', 'llenado', 'extraño', 'acople', 'añadieron', 'conpatible', 'fustro', 'chevere', 'quedamos', 'satisfechas', 'wgen', 'productor', 'truley', 'deloy', 'gcamapk', '4k30', 'coolneat', '052119', 'neededbut', 'calculated', 'stormed', 'reliablefastgreat', 'lifeawesome', 'redefines', 'thsi', 'usuall', 'observing', 'adpater', 'acuérdense', 'bajarle', 'descargando', '289', 'gm1', 'feellook', '150250', 'daddy', 'yearupdate', 'seeying', 'roblox', 'gamesi', 'colorwill', 'flawsbut', 'droplet', '35x', 'rn7', 'infinita', 'cuida', 'llegás', '2520', 'destacar', 'modestas', 'podés', 'ampliar', 'mediante', 'quedarte', 'rapidísimo', 'imprescindible', 'descargar', 'vidrio', 'templado', 'cayó', 'buscarlos', 'molestan', 'pongas', 'quisquilloso', 'lamentable', 'caiga', 'obligatorios', 'wpp', 'tenes', 'ubicación', 'parlantes', 'pasan', 'reprochable', 'rotundamente', '206', 'vibrater', 'appreciating', 'thie', 'landmine', 'checkboxes', 'housestill', 'mistakeas', '072919', 'daemon', 'yt', 'remdi', 'kubuntu', 'mumi', 'handcuffed', 'cli', 'okd', '5v1a', '81529', '72529', '8819', 'sdk', '1804', 'adsupported', 'driveetc', 'piggy', 'floral', 'melvernpowell', 'tennessee', 'ltegsm', 'devel', 'a7', 'spilt', 'daysnor', 'refound', '9172019', 'adguard', 'adstrackers', 'scrollingpicking', 'daysweeks', 'minttmobiles', 'usinternational', '190usd', 'pcsitvis', 'resolutionsadly', 'wod', 'fillow', 'hoursend', '5900', 'fredericksburg', 'waxing', 'timeout', 'xoaomi', 'vector', 'goodquick', 'increasemy', 'lowi', 'preocupaciones', 'eterna', 'jugabilidad', 'simultáneamente', 'difícilmente', 'muchotiene', 'arriesgas', 'pegue', 'folletos', 'llavecita', 'arrivedand', 'alrightnow', 'almost6', 'wifiother', 'callor', 'hadwhy', 'flashother', 'reselect', 'homereturnassistant', 'hav', 'backtoback', 'headsetearbuds', 'autonomy', 'eliminar', 'desactivar', 'traen', 'anuncios', 'compres', 'unoticed', 'velocity', 'complaiment', 'hispanic', 'protudes', 'xlarge', 'engañéis', '48mpx', 'obtiene', '4g64g', 'rmb', '1199', '48mp', 'troble', 'nite', 'max2yearsworkingdevice', 'xiaomiredmi', 'spects', 'flucks', 'replication', 'sacar', '2as', '30mbps', 'glicthes', 'severly', 'arwas', 'torturously', 'phenominal', 'concearn', 'tn', 'brightthe', 'eab', 'dissappointing', 'wonderwhat', '10300mah', 'mlbb', 'carier', '6050', 'patternbug', 's8broke', '10xs', 'supscreen', 'clump', 'unbeaten', 'xiamoi', 'vieared', 'saftry', '95useleess', '100100', 'occidentales', 'coste', 'charginghaving', 'everythingback', 'lynissue', 'theis', 'factury', 'ip6s', '232', 'normalidad', 'cnt', 'ep', 'parecerían', 'utilizado', 'existentes', 'capaz', 'demandas', 'multiaplicaciones', 'sobrepasando', 'myrtle', 'sc', 'globalgsm', 'genuinly', 'breakneck', 'abuscarlo', 'paketeria', 'telecon', 'asusté', 'huracán', 'guardaron', 'rápdo', 'reiniciarse', 'tecnico', 'diagnostico', 'pierdo', 'puedan', 'proporcionar', 'profesor', 'initialy', 'ltethis', 'linda', 'x8', 'vidoes', 'caractheristics', 'duales', 'útiles', 'encantóexcelente', 'vendi', 'hacerlo', 'brad', 'magnific', 'nitido', 'encant', 'protege', 'golpecito', 'rayar', 'phoneto', 'envidiar', 'slowingdown', 'adapting', 'выделите', 'текст', 'чтобы', 'посмотреть', 'примеры', 'funda2', 'vidriosxiaomi', '23118', 'cobraron', 'tarjerta', '21904', 'importe', '3004', 'expliquen', 'reembolse', 'cobrado', 'graciss', 'gusga', 'estilo', 'paga', 'supeditadas', 'auna', 'andan', 'lectores', '64gb3gb', 'lleguo', 'grandioso', 'deligent', 'paola', 'thatdo', 'crítico', 'buenooo', 'detallo', 'dejado', 'recommended100', 'fasy', 'oblea', 'equilibrio', 'tnxproduct', 'pannels', 'pioneered', 'builttobreak', 'dashed', 'benched', '644', 'lowintensity', 'hardcoded', 'xioamy', 'blockada', 'evolves', 'consists', 'eyepleasing', 'extrapleasant', 'soundvideo', 'orchestra', 'fuzzyness', 'pixelexperience', '48mb', 'monte', 'república', 'dominicana', 'pomoted', 'fasttouchscreen', 'softwareoverlay', 'junkas', 'batterie', 'yiu', 'remive', 'consiga', 'chicagoland', 'colorcontrast', '1035', 'flossy', 'carter', 'frankie', 'techutopias', 'googlepixel', 'bottomfiring', 'imei2', 'imei1', 'typingusing', 'cdn', 'wantdesire', 'curioso', 'europea', 'movent', 'apolo', 'incompleto', 'appsplus', 'plop', 'potentiallyprobably', 'unlockedtweaked', 'establishing', 'tierbudget', 'ax1', 'dish', 'iniciar', 'preferí', 'descriptivas', 'vendía', 'm1901f7h', 'm1901f7g', 'anuncia', 'quién', 'informarse', 'adquiriendo', 'reasonim', 'camerasome', 'galxys', 'tmes', 'waterydirty', 'dissapears', 'bluered', 'jokingly', 'referral', 'j6hhan', 'sideloading', 'performancethis', 'frequenciesfact', 'bikingbattery', 'frequentl', 'reviewmy', 'opinionbest', 'doubleahalmost', 'itfive', 'ofso', 'shotim', 'myselfeven', 'noway', 'metropc', '1036', 'textingthe', 'reformatted', 'crake', 'ow', 'andcricketsnever', 'lateri', 'parring', 'indebth', 'itbecause', 'problemasa', 'construido', 'hermosa', 'crítica', 'distribuidor', 'aprobaron', 'workand', 'capacitythis', 'modelwhich', '7its', 'confusingm', 'amazonwhen', 'purchasebut', 'proits', 'disappointedand', 'returndisgusting', 'mi9', 'm1901f7e', 'edgeinternet', 'screenall', 'demolishes', 'bigo', 'widened', 'peformance', 'qualaty', 'amazzzzzzing', 'diariamente', 'sparebackup', 'pondria', 'parrafo', 'entero', 'aves', 'comparandolo', 'adpator', 'allucinant', 'nauseam', 'morr', 'porqué', 'reconfigurarlo', 'gradient', 'tianma', 'smt', 'elseyou', 'primeea', 'redimiento', 'demandantes', 'contiene', 'errores', 'completacon', 'guardar', 'secretos', 'cuatro', 'dificultad', 'comodo', 'grenada', 'feo', 'reino', 'unido', 'presio', 'calidades', 'newit', 'fastcamera', 'inmejorable', 'económica', 'gtfo', 'transportacion', 'twohundred', 'allquite', 'fotografias', 'asombrosa', 'rapidamente', 'desencadene', 'mayores', 'morado', 'fantantic', 'multiopciones', 'devolvieron', 'smsmulti', 'alcance', 'fascinating', 'liket', 'avion', 'mejorable', 'uocked', 'esential', 'screenpicture', 'blueviolet', 'conductive', 'thanos', 'approvedslightly', 'structural', 'mi5', 'firephone', 'ofbloatware', 'unwell', 'someonefew', 'deteriorate', 'employing', 'defn', 'snapdraggon', 'messanger', 'depreciated', '4cores', '13ghz', 'allalthough', 'memorty', '20172018', '2340x1080', '13m', 'amazonwith', 'purley', 'crockett', 'sipvoip', 'suckss3', 'symbolsnumbers', 'galaxy89', 'camer', 'proximidad', 'derecha', 'activen', 'tienes', 'bestial', 'rama', 'dactilares', 'comandos', 'voz', 'importar', 'ciertos', 'excelentísimo', 'ciertas', 'alteración', 'disq', 'afecta', 'corte', 'easyly', 'grabas', 'velular', 'existencia', 'tira', 'iowa', 'migrar', 'pixel3', 'simfree', 'widthlonger', 'galaxy10', 'iponegalaxypixel', 'blured', 'pickle', 'picturesleica', 'cameraomg', 'mintiendo', 'kpop', '120gb', 'cae', 'engañen', 'demasiada', 'irresponsabilidad', 'falsa', 'qualityespecially', 'provideronly', 'mosts', 'ridiculousits', 'a5', 'gainesville', 'longitude', 'hedphones', 'geopolitics', 'p30s', 'orient', 'tenyear', 'recommanded', 'consigue', 'androidsimialar', 'garantizado', 'verey', 'exploration', 'lyric', 'trailing', 'youtubes', 'friendlyness', 'comapny', 'ken', '1if', 'establecidos', 'trecking', 'registran', 'outpreforms', 'xrx', 'tamara', 'workimg', 'adaptable', '2k19', 'largerticket', 'bailey', 'lonque', 'comprare', 'pucieron', 'pesadas', 'encinal', 'addditional', 'kn', '81919', 'tiempopero', 'scarred', 'samsungi', 'ongreat', 'biggerhalf', 'carriern', 'trimming', 'lagg', 'youtubesocial', 'optimizer', 'expectedvery', 'iphone10', 'thouggt', 'a10e', '091819', 'ragged', 'companias', 'ahoukd', 'cosme', 'worx', 'seleccionado', 'aclarar', 'ninguno', 'silve', 'sonleña', 'recarga', 'rígido', 'flexibilidad', '0k', 'reembolsen', 'todayhowever', 'agradecer', 'colaboración', 'oportuna', 'recomemdable', 'auxiliar', 'calidadg', '144', 'returningbuyer', 'jalisco', 'oresentacion', '9001000', 'hawaiilol', '120fs', 'apsolutly', 'evie', 'thatjust', 'spade', 'au', 'recomendadísimo', '186', 'fanfare', 'inbred', 'neptune', 'tulsa', 'texttheme', 'onem8', '12mbps', 'peabody', 'personalización', 'convencer', 'junto', 'cayo', 'raspan', 'encontrado', 'vidrios', 'templados', 'baltimore', 'cracovia', 'adaptator', 'chimera', 'expectedcant', 'certificación', 'asegúrense', 'nattery', 'agencia', 'telecomunicaciones', '7and', 'biengrscias', 'doogee', 'bl7000', 'estilizado', 'beneficios', 'bienno', 'lentoes', 'bonitoy', 'fotográfica', 'agusto', 'adquirí', 'creció', 'nepe', 'recomedado', 'inenglish', 'destacable', 'expectationslove', 'calle', 'disponer', 'ltg', 'olvidó', 'ocasión', 'equivocado', '124', 'lujo', 'puesto', 'nicewill', 'excepto', 'mantien', 'pactada', 'optimas', 'brokeni', 'whizz', 'deice', 'triggerhappy', '4gbs', '128gbs', 'inspects', 'lantern', 'recreates', 'gupta', 'wince', 'techtablets', 'vendorwebsite', 'exxaggeration', 'lapis', 'lazuli', 'thatss', 'nightmaren', 'redmkwith', 'phabletey', 'imagescreen', 'unticked', 'twinge', 'perchancing', 'aduans', 'retuvo', 'haverse', 'impuestos', 'sastified', 'opinar', 'processorand', 'piestorage', 'waterotherwise', 'tojo', 'nonspanish', 'menit', 'comprè', 'mandarselo', 'hermano', 'encantò', 'conecta', 'alla', 'absolutamente', 'goespurchased', 'classmate', 'a10s', 'fbk', 'recogniztion', 'relaible', 'tcl', 'primecore', 'metta', 'looooong', 'lessen', '16500', 'happyjack', 'warrantythey', 'repairwhen', 'helpjust', 'insuranceand', 'osra', 'slotam', 'intern', 'matic', 'worrenty', 'osterizer', 'blender', 'ewally', 'cargadora', 'evidentemente', 'vuestro', 'recibirla', 'envíen', 'reintegren', 'atiendan', 'occures', 'internationallypt', 'roamingthe', 'pocketslower', 'iphonespeaker', 'volumecant', 'facebookno', 'momentary', 'a20e', 'resetresetreset', 'bre', 'ownedi', 'itt', 'ccut', 'foriegn', 'immoral', 'goodfunctions', 'wellgreat', 'çall', 'toget', 'withe', 'prepaidbut', 'cardmake', 'typeactivated', 'overallhappy', 'hmmmm', 'usealot', 'uncontrolable', 'inopportune', 'englishus', 'europeanlatin', 'rw', 'highclass', 'compañiai', 'overseasyesssthank', 'becausr', 'couldpurchased', 'airbrush', '14000', 'comfiaanza', 'statedthey', 'handjust', '6screen', 'motoe5', 'deberia', 'callo', 'totalmete', '13900', 'seriosly', 'oned', 'risch', 'mescreen', 'backmory', 'diedi', 'weirdthey', 'picturesetc', 'hadher', 'dosa', 'lke', 'systemwill', 'acordado', 'workd', 'chioce', 'tug', 'cardthere', 'dising', 'revy', 'bary', 'webcam', 'wink', '92219', 'outlasts', '7yr', 'speedr', 'androud', 'gy', 'wiser', 'z971', 'aaaah', 'nevermind', 'adshad', 'lineall', 'noncellular', 'facinado', 'descubierto', 'meencanta', 'reconition', 'doeswhat', 'teying', 'brandstands', 'b28', 'gearbest', 'freemobile', '075', 'isint', 'presentan', 'muchísimos', 'servi', 'textingsends', 'sueño', 'reciev', 'peopke', 'conecte', 'tapadera', 'ensanvlada', 'orilla', 'polvo', 'trabajador', 'optimisada', 'formatearlo', 'apto', 'titulo', 'provoca', 'talle', 'filmaciones', 'reportar', 'convertidor', 'adecuadamente', 'bellow', 'comparation', 'thomas', 'outofbox', 'embalaje', 'daid', 'lighted', 'solucionarlo', 'beeline', 'noticiable', 'registersetup', '9152019', '9122019', 'scamware', 'redialing', '72219', 'photophile', 'varato', 'hasi', 'desidi', 'comprarme', 'tercer', 'iva', 'comenzo', 'quedaba', 'hase', 'reiniciado', 'intentado', 'entrar', 'desafortunado', 'hasiendo', 'haser', 'blancos', 'gris', 'lastimas', 'ojos', '7llego', 'accesorioslo', 'cara', 'planeta', 'jeje', 'quejarse', 'nexto', 'wwhen', 'underpriced', 'buenopero', 'estándar', 'prestadoras', 'rd', 'customerfocused', 'iceland', 'peny', 'reommend', 'impresssive', 'goriila', 'adaptersplugs', 'regression', 'synthetic', 'wellness', '505f', 'comaint', 'screenbright', 'displaylots', 'storage128gb', 'skready', 'openedused', 'poorbut', 'evaluating', 'note10s', 'bootscreen', 'damagedlocked', 'carrieretc', 'apksbut', 'returing', 'almostnew', 'thingunlocked', 'anotherlocked', 'challenger', 'qork', 'callsthen', 'ittop', 'gratify', '128mb', 'knit', 'bayer', 'photosites', 'debayering', 'demosaicing', 'photosite', 'quadrupled', 'imui', '600800', 'basado', 'comprándolo', 'categoría', 'laterales', 'responden', 'lateras', 'buenofuerte', 'fascinado', 'calular', 'facilitando', 'romperse', 'caída', 'convence', 'cubriendo', '48mega', 'píxeles', 'megapíxeles', 'panorámico', 'tendrían', 'mejorando', 'durado', 'calentarse', 'countryi', 'sepcs', 'likeoklets', '092619', 'callsurprise', 'reformated', 'priduct', 'looke', 'musicaudio', 'animé', 'tercero', 'detallado', 'envoltura', 'equivocación', 'storage32gbi', 'buick', 'maserati', 'comparitively', 'youttube', '20kb', 'reconfiguration', 'superbattery', 'nocturna', 'telefonazo', 'verifiqué', 'oficial', 'fuese', 'consta', 'protectorcase', 'exrtra', 'tomacorriente', 'callsvideo', '50mp', 'andres', 'lorenzo', '11601', '107th', '331783385', 'durisimo', '5001k', 'padrísimo', 'nadq', 'americana', 'garantizada', 'seleccion', 'desempeña', 'accessoires', 'mastered', 'panorámica', 'muchísima', 'ondulaciones', 'complacido', 'satisfizo', 'aprender', 'activación', 'preciso', 'rightwish', '48mpixal', 'a12mp', 'lingo', 'volunteered', 'got64gb', '64gbbecause', 'aio', 'chippedcracked', 'deberian', 'reconocerme', 'mandarme', 'sirva', 'vastante', '5pro', 'lovet', 'rubberplastic', 'reentering', 'casesleeve', 'slowercongested', 'unsexy', 'cámada', 'delantera', 'videospeliculasstoriesmusica', 'pocketguess', 'pocketand', 'howeverbe', 'convertswap', '4ram', 'ofshe', '8102019', 'birding', 'binoculars', 'durabiliy', 'nonstarter', 'simplifies', 'título', 'incorrectas', 'sinceramente', 'desconforme', 'vdd', 'inconforme', '4gs', '64megas', 'recien', 'mixer', 'binding', 'settingsmanually', 'spike', 'loven', '585', '389', 'voicethis', '4500mh', 'runnning', 'inlouisiana', 'lier', 'sma505f', 'sma505g', 'mpxl', 'resuelven', 'aftwr', 'a505gfds', '12hr', 'excepción', 'claramente', 'defraudaron', 'scrren', 'lifeit', 'sabemos', 'actividades', 'específicas', '22gb', 'detective', '3look', 'neutrality', 'recomemded', 'nowlove', '42419', 'goig', 'fine4g', 'whiteredblue', 'sma505usma505w', '8mbps', 'advertisment', '1225pm', 'warrantythat', 'grit', 'lightdistance', '64mg', 'advertisedtried', 'iridescent', 'iridescence', 'ugliest', 'scannerreader', 'timemost', '17plus', 'callmekevin', 'continuity', 'cmc', 'attsamsungamazon', 'msm', 'unrespondable', 'groupchat', 'exta', 'ameican', 's16', 'secconds', 'ltewcdma', 'exclaims', 'fingerscan', 'optimised', 'cartoonish', 'fingerprinter', 'incomprehensible', 'shieldz', 'carpeting', 'lte3g2g', 'phonemaking', 'fasthave', 'tmobileit', 'frengency', '0400', 'cricut', 'conditional', 'probaré', 'comento', 'lowerpriced', 'puncture', 'corto', 'reemboolso', 'cameragood', 'workingits', 'aparently', 'madestructure', 'minecraftgraphics', 'onefourth', 'lolx', 'nfcor', 'everytimewhen', 'pluse', 'faultier', 'doeswork', 'colourful', 'resitants', 'equips', 'raisejob', '20192021', 'beauitful', 'soder', 'gi', 'hemos', 'transportista', 'estipulados', 'cancele', '05102019', 'agradeceré', 'realicen', 'cancelación', 'dicha', 'calendario', 'cuadricula', 'favoritos', 'aparecen', 'alfabético', 'importancia', 'cambiem', 'ponen', 'dio', 'muerte', 'súbita', 'resetearlo', 'sucedió', 'primeras', 'rápidoy', 'compain', 'única', 'mayoria', 'intentar', 'coolnice', 'addbpersonal', 'musec', 'outranges', 'temporalily', 'ncluía', 'digitales', 'siente', 'rapidito', 'fumm', 'eatxcellent', 'thatphone', 'desconfianza', 'resulto', 'manualpro', 'execelentes', 'servico', 'deviceeverything', 'touchsensitive', 'recomand', 'sobretodo', 'reconozca', 'wolf', 'clothing', 'adoro', 'vomiting', 'mindlessly', 'workedso', 'responsivereliable', '1159', 'issuesthe', 'gs10', 'facbook', 'glastic', 'cardwhich', 'flagshipgo', 'harrowing', 'disgust', 'than10', 'messagesemails', 'nongamer', '3week', 'heroically', 'designwise', 'microprocessor', '19720', '19104', 'rura', 'logra', 'logrado', 'distorsionar', 'metalic', 'acostumbrado', 'feos', 'preinstaladas', 'agradan', 'devuelvo', 'distorsionado', 'conversaciones', 'interferencia', 'semestre', 'viral', '6mbs', '1mbs', 'straighton', 'couchsurfing', 'supportable', 'asst', 'timeeww', '18900', 'tremble', 'motox4', 'shacking', 'nahmore', 'gbye', 'ira', 'audiojack', 'mi9s', 'applys', 'softener', 'mercadopotente', 'prosesador', '855lo', 'deseas', 'ahorros', 'passcodes', 'rendimiendo', 'hedgehog', 'pumping', 'sd8556gb', 'drawerhad', 'vault', 'incómoda', 'escritura', '17w', '20w', 'fba', 'reconozco', 'playthrough', 'complementas', 'inalámbrico', 'cmrwally', 'superuser', 'tomarse', 'configurarlo', 'recomendaciones', 'seguidapero', 'instructivos', 'miu11', 'risa', 'resbala', '72hour', 'campus', 'backgammon', 'graphicsintensive', 'tourist', 'hasselbad', 'cleanliness', 'i9', 'i3', 'applauded', 'accentuate', 'refine', 'rescanning', 'hershe', 'xray', 'customscanadian', 'dun', 'compayible', 'attribiute', 'fred', 'dalpetz', 'fatter', 'eccentricity', 'outset', 'receptionquality', 'digestible', 'asin', 'b07wcrzj5r', 'hassalbald', 'naw', 'alienware', 'gymnast', 'hasselbald', 'coach', 'althogut', 'preserved', 'emersive', 'emerges', 'cubby', 'lamented', 'pouring', 'founding', 'ironed', 'incredit', '12gb256', '3036', 'recei', 'xout', 'upcharge', 'gluing', 'measuring', 'problemoneplus', 'shae', 'ak47', 'striaght', 'smoothive', 'issueson', 'videosmoviesbrowse', 'gamesalso', 'amazingive', '92619', 'purchaseat', 'facingrear', 'sailin', 'flatout', 'pense', 'limp', '100mp', 'threemonth', 'indentifies', 'tempera', '101819', 'fuzz', 'rerurb', 'laggybut', 'especiall', 'soar', 'defecting', 'turbocharger', 'letterhead', 'tamperproof', 'commentsquestions', 'cookiecutter', 'batteryfone', 'a705mn', '393', 'freq', 'sma705mnds', 'someplace', 'conveluted', 'southeastern', '25w', '7nm', 'cellulartech', 'samsunglatin', 'despits', 'conspicuously', 'supersized', 'sseries', '4755', 'alsoz', '300350', '9t', 'recognisation', 'rurr', 'dislikenot', 'waterproofresistant', '4500mah', '675', 'prpperly', 'callsthe', 'wayyyyy', 'lantier', 'warrantyreplacement', 'simplus', 'uibut', 'dfwexcellent', 'goalsdont', 'thingsfingerprint', 'deli', 'delaysit', 'descargue', 'recuperar', 'tubo', 'dueño', 'aret', 'mha', 'furry', 'glazeover', 'velos', 'esque', 'digeron', 'traia', 'caracasa', 'informaron', 'sleazy', 'hillside', 'acclaim', 'a40s', '340370', '699899', 'verbage', 'plusgood', 'wrench', '340', 'initiative', 'vo', 'a90', 'beforeonly', 'fineanother', 'separatelyi', 'longdistance', 'rostro', 'redress', 'phoneha', 'graham', 'húmedo', 'mojé', 'pasaba', 'cubrió', 'negó', 'enviarme', 'documento', 'registre', 'thinlightweight', 'enfoque', 'mobilelags', 'troubleshootings', 'itsa', 'understandhow', 'executes', 'llegué', 'robó', 'algún', 'vecino', 'debían', 'mcid', 'nunka', 'recnoce', 'enfadoso', 'aroundi', 'repairedits', 'irreparablenoone', 'hectic', 'cpcheap', 'appscamera', 'woah', 'impresiones', 'desordenada', 'sueltos', 'manchada', 'porqueria', 'mandan', 'nona', 'itcame', 'deeste', 'esmuy', 'suponeseaun', '32mpx', 'wondeful', 'vudeo', 'phonebuy', 'inbercion', 'battery2', 'ight', 'nooooo', '390ppi', '420ppi', '2160x1440', 'descrip', 'spyed', 'opend', 'a70s', 'casecover', 'sma705mn', 'sma705m', 'xhaomi', 'wellthoughtout', 'fronta', 'soundcore', 'twohanded', 'sunremex', 'liveview', 'navbar', 'autohiding', 'oswide', 'unshaking', 'hifi', 'vibrationscreenflashsound', '333', '17f', 'ratingwaterproof', 'slowernot', '9which', 'feelslooks', '8gigs', 'parms', 'nextgenphone', 'maryland', 'precent', 'mintues', 'transformation', 'blurrier', 'hata', 'issuesthough', 'phile', 'repairwarranty', 'class3', 'supprise', '5060mbps', '6gm', 'gakacy', 'shhhh', 'relentless', 'toca', 'acostumbrarme', 'admirabl', 'dualno', 'unna', '4eturn', 'crease', 'aircraft', 'beautifuljust', '667', 'wellbalanced', 'ratebut', 'byfar', 'neardead', 'phonetheyre', 'mucking', 'singlelens', 'bestinclass', 'polluted', 'copyandpaste', 'backreserved', '90hrz', 'costomizable', 'cnetcom', 'btwn', '5965', 'kepp', 'searcher', 'bezzless', 'velo', 'negativecases', 'thingamajigwaiting', 'designwebvideo', 'a40', 'technologyphone', 'unocked', '9this', 'tristate', 'altice', 'baddery', 'yesmake', 'actiontec', 'screenbeam', 'ezcast', 'huion', 'tabletmonitor', 'mobzapp', 'medhod', 'mobdro', 'artwork', 'tmobileperfect', 'fino', 'respecto', 'noto', 'antel', 'comparando', 'visión', 'ancho', 'amé', 'g7one', 'rápidas', 'phonem', 'siza', 'gesturesdecent', 'gnews', 'movision', 'burbank', 'formwise', 'gupdate', 'leanness', 'mov', 'itagain', 'moto5', 'gpsactually', 'xt19701', 'dualsims', 'midpriced', 'meyou', 'tapingagain', 'calificar', 'timeno', 'vause', 'prepaidhoweverit', 'asted', 'financed', 'voideo', '102919', 'beaware', 'servicedose', 'shouldwhat', 'hpj', '151mbps', '56mbps', 'eois', '7pro', 'telcell', 'hatethe', 'pixlr', 'multilanguage', 'didnti', 'bichface', 'ratingreview', '487', 'luonocan', 'perfectolo', '120v', 'wellrounded', '485', 'lightbut', 'dhlaoe', 'howrprendoips', 'horwredlous', 'yyuouee', 'typeas', 'trashh', 'donubot', 'bmuyp', 'btuuy', 'iqtp', 'keayboard', 'phone100', 'fuction', 'asiaand', 'uptodaye', 'reallt', 'reeling', 'sz', 'consistencey', 'terribileand', 'goodhowever', 'theyvare', 'systemcant', 'receievd', 'a80', 'spew', 'sexiest', '34695', 'purchaced', 'announcedreleased', '7t', 'unfortately', 'qualitydurability', 'lookedperformed', 'designfeatures', 'updater', 'ringmodes', 'topquality', 'wificallingtext', '20watts', '5v4a', '9watts', '5v18a', '32900', 'amazonrenewed', 'pixelquality', 'functionable', 'disconcerting', 'decorative', 'ater', 'valueless', '4a', '160hr', 'miliseconds', 'indescribable', 'assessed', '6013', '241271', 'instalada', 'elimina', 'relacionado', 'parche', 'vable', 'dissappoited', '0918', 'flagshipquality', 'ingrained', 'lanovo', 'myabe', 'qc3', 'straining', '60hz', 'awaynot', 'presentyou', 'isit', 'softening', 'faceseven', 'abovestill', 'grrrhate', 'returnwhat', 'facto', '45w', '33w', 'tou', 'aspire', 'scripted', '12212019', 'zines', 'slopped', 'arguable', '758gb', 'qc20s', 'meshed', 'lonely', 'selfinflicted', 'formally', '22020', 'pumpkin', '35th', 'twerks', '14nm', '84510nm', '8557nm', '256512gb', 'wifi6', '56k', 'resistor', 'pps', 'emarker', '100w', '10gbps', '10v45a', '15v3a', '09172019', '3040min', 'plasma', 'barebone', 'curtain', 'gooder', 'whatchu', 'makerecieve', '4ff', 'vomit', '109999', 'readingwatching', 'spotproblem', 'inflates', 'brouse', 'ness', 'comparrison', 'aura', '112019', '1tab', 'sdcards', '1tb', 'jiffy', 'hairstyle', 'saturates', 'photoshopped', '4xl', 'mobilehuh', 'sez', 'compatiblewho', 'booring', '680', '3006', 'agregados', 'fluides', 'grandiose', 'one6', 'relient', 'nore', 'cameraespecially', 'couldvbe', 'specal', 'towarrant', 'sprintatt', 'oneplus6t', 'beforemy', 'sensacional', 'tuvieron', 'demsaido', 'explicar', 'debiendo', 'amenzing', 'smartphonethanks', 'dnot', 'expectacular', 'pronta', 'prriod', 'erroneas', 'bbjjjjjjj', 'ufs', '211200', '302900', '4300mah', 'amped', '87w90w', 'zon', 'nub', 'sml', 'hancom', '10percent', 'survey', 'deem', 'isbut', 'proctor', 'unreliability', 'maturity', 'micphones', 'notquite', 'screentobody', 'subtotal', '76499', '15300', '61199', '5202', '66401', 'mrsp', 'powerpoints', 'ambivalent', 'nightlight', 'hdmiusb', 'cusb', 'glasslots', '10unfortunately', 'singlr', 'inconsequentialplease', 'jackthe', 'extol', 'immidiately', 'disgustingly', 'eaay', 'cambié', 'particularidad', 'coool', 'toworryabout', 'grandote', 'resumen', 'protectora', 'transportar', 'lentes', 'ponerla', 'telekom', 'pitty', 'mia3', 'peeper', 'vampire', 'acatel', 'bestalice', 'accostumed', 'usingas', 'datejust', 'verizonusa', 'serio', 'srx55', 'conectatiene', 'desventajas', 'mifit', 'necesitando', 'ocupar', 'innecesario', 'telefóno', 'fluído', 'sobra', 'internstion', 'medios', 'bloatwarefree', 'lowresolution', 'deffect', 'chicle', 'unpredictable', 'vivos', 'vuela', 'conocidos', 'costosos', 'een', 'porfa', 'nosotras', 'atandt', 'productofue', 'extraviadoy', 'demoraron', 'avisar', 'parpadea', 'equeal', 'anun', 'sucede', 'apareció', 'butget', '4g3g2g', 'poweron', 'rarity', '34x', 'mediore', 'beautification', 'mi6', 'pixelpure', 'passionate', 'nitsto', 'respectful', '145000', 'a3s', 'ethical', 'artificialy', 'verky', 'yousician', 'camera2api', 'navego', 'perlado', 'sutil', 'lphone', 'suma', 'amena', 'deberse', 'insuficiente', 'responsabilidad', 'perjudique', 'perceptivo', 'parese', 'pixelada', 'qbich', 'doesbt', 'regonzize', '50ghz', 'jenkins', 'receocion', 'segura', 'nerver', 'stlucia', 'tracfon', 'redmo', 'criticado', 'práctica', 'materialice', 'eaven', 'cuestionada', 'dándole', 'instala', 'rayo', 'cuper', 'extropea', 'usuraio', 'entertaining', 'misstep', 'femur', 'acostumbrase', 'complejidad', 'propietario', 'invitado', 'resbaladizo', 'aguantador', 'settingsdisplay', 's70', 'aboutive', 'gobuild', 'qualityspecsfingerprint', 'scannerfacial', 'flawlesslynow', 'issuehowever', 'uhs', 'inand', 'ideaso', 'entregó', 'proff', 'googlesamsung', 'deed', 'yadayada', 'chromatic', 'promoting', 'awesone', 'openminimized', 'receieved', 'succinct', 'averagescreen', 'sung', 'streamervideo', 'pixelationblurriness', 'lowerend', 'readding', 'normie', 'bigbrand', 'qualitatively', 'booksmusic', 'elephant', 'dirtiest', 'accrues', 'dirtoil', 'inorganic', 'costperformance', 'starspoor', 'qualityno', 'readerface', 'facesthe', 'okdrops', 'scanningi', 'simsi', 'simwe', 'gsmthe', 'nicewe', 'etcits', 'a50and', 'throughscreen', 'topline', 'sma505uzknxaa', '2do', '4set', 'readersthis', 'commmeeee', 'onnn', 'superfluous', 'longetivity', 'damageddefective', 'a50s', '168', 'responseit', 'nctions', 'somet', 'botching', '12119', 'callingwifi', 'cdmu', 'pothetic', 'toke', 'secondthanks', 'husbandwe', 'timesnice', 'aggressively', 'textsmms', 'verizonprepaid', 'spon', 'heralded', 'toptobottom', 'justnot', 'restricting', 'soundslackluster', 'fwiw', 'walletautomatic', 'settingsadvanced', 'featuresaccessoriesflip', 'magenta', 'chinamade', 'creation', 'posthaste', 'hae', 'reviewrating', 'itplus', 'readerscanner', 'mediocreespecially', 'insulation', 'nonperformant', 'x9', '24bands', 'desgined', 'payandgo', 'glitchwhen', '1950', 'galary', 'shoving', 'qualityits', 'pricee', 'coveragesame', 'porta', 'setedit', 'haptic_feedback_enabled', 'latestfastest', 'textingcalling', 'pixelgalaxy', 'noteiphone', 'wifey', 'daft', 'frilly', 'iphone3', 'hitched', 'bluethooth', '725', 'calldropper', 'e6', 'partsperformance', 'fastefficient', 'activateregister', 'extreeeeeamly', 'extreeeeeeamly', 'aaaall', 'amoeled', 'cabaret', 'mone7', 'tracing', 'steven', 'spielberg', 'silkly', 'religiously', 'etisalat', 'downnot', 'attachement', 'wasoldso', 'astray', 'purching', 'facialbut', 'jon', 'nemory', 'lf', 'señalparece', 'defectuosolas', 'hablo', 'grantee', 'a20s', 'newupdated', 'sliced', 'outdifficult', 'definetlyalso', 'acedo', 'bcakup', 'advertisedthats', 'periodt', 'buenoooooo', 'listo', 'trabajan', 'excatly', 'lolbut', 'explican', 'wingsatt', 'featers', 'reviewimg', 'vuba', 'vacia', 'recogniyion', 'desesionado', 'caen', 'máxima', 'celeridad', 'fingerpring', 'learningto', 'numbersthen', 'internationali', 'deseen', 'baterias', 'duran', 'declared', 'viajo', 'inmigración', 'piden', 'reture', '8519', 'goo5', '727', 'describeeasy', 'satistisfecha', 'cancelar', 'brega', 'calidadpreciobuenobonito', 'phonecheap', 'nonusb', 'receptiondata', 'unfreezes', '12202019', 'minimalizing', 'pulldownmenu', 'microsoftlumia', '7xl', 'bestoperating', 'axon175', '20172016', 'insta', 'dmv', 'exported', 'multiapp', 'equipmentspecific', 'spanishfirst', 'alognside', 'operte', 'smartphoneso', 'spurring', 'oak', 'dampen', 'suffices', '137', '82219', '9819', 'unlockedit', 'issuedoing', 'onehopefully', 'enorme', 'quedan', 'repito', 'phoneensures', 'facilita', 'inexperiencia', 'diestras', 'vbnjmk', 'malisima', 'expensivehigh', 'phoncons', 'stockpile', 'xt1609', 'contortion', 'happyi', 'tripso', 'outshe', 'especificamente', 'hologram', 'haphazardly', '48hr', 'xt1540', '1601unlocked', '117', 'diffidently', 'motorolawe', 'athalee', 'schurman', 'motivation', 'whren', 'productomil', 'graciaslo', 'disatisfied', 'tranquila', 'wiffi', 'reluctance', 'onemissing', 'onebut', 'worksstill', 'projectbut', 'rougher', 'saysvery', 'triedits', 'ise', 'j1', 'mostrado', 'ahahaha', 'escoger', 'estrella', 'lundo', 'trajeron', '1resolution', 'yessmaller', 'actuallyimpressed', 'todaywhat', 'batteryyes', 'purchasehad', 'cinematic', 'usuage', 'furnish', 'ahorro', 'energia', 'ventajas', 'mow', 'n975fxxu1ash5', 'oxm', 'nonmoto', 'connoisseur', 'ususal', 'admirablyand', 'enure', 'goneno', 'telemarketers', 'pizza', 'approached', 'snapy', '5gz', 'ramfor', 'mahn', 'shimmer', 'plunk', 'nonprime', 'forebearers', 'cantuse', 'screenshare', 'theregotta', 'frowned', 'duhok', 'soapy', 'salvaged', 'desiccant', 'tupperware', 'promos', 'onetouch', 'alcatels', 'toggleable', 'messageemailnotification', 'abuot', 'rein', 'pollux', 'repairreplaceexchange', 'blush', '18472', 'amiss', 'camerathat', 'prehistoric', 'clickclose', 'pooch', '11619', 'usernames', 'laick', 'atttmoor', 'vzns', 'kickstart', '72786', 'defult', 'fuse', '7090', 'reistent', 'laungaue', 'cevez', '3ed', 'navagation', 'samller', 'bumbed', 'celldata', 'connectingstaying', 'dateorder', 'smartphonejust', 'violation', 'roadmap', 'lowimpact', 'justification', 'governance', 'bleeds', '4550', 'pac', 'contractfree', '14yrold', 'fussing', 'soundoff', 'relegate', 'tacked', 'camerat', 'calltextemailinternet', 'storethen', 'specializing', '19400', 'zealand', 'imputing', 'turnthe', 'exploiting', 'strapped', 'superbudget', 'tagwhich', 'climbed', 'stratosphere', '2018not', 'periodso', 'nonamazonprime', 'monthsthe', 'administrative', 'overzealous', 'chintzy', 'pond', 'bombard', 'veiw', 'clitches', 'sensed', 'retroarch', 'sixasix', 'allover', 'plasticpaper', '4045', 'situps', 'proablby', 'sloooooooow', 'gene', 'forign', 'incredibleas', 'handflip', 'slickest', '1degree', 'androgate', 'nexux', '6001200', '1700', 'heckno', 'samsungiphones', 'repsonsive', 'reasonablyquite', 'basicordinary', 'awsum', 'discovers', 'protectional', 'batterycharging', 'k7', 'textsbut', 'feedlot', 'recallexchange', 'maneuvered', 'carrieryou', '83mm', 'trajectory', 'fetal', 'thirdrate', 'undeserved', 'iff', 'salarythis', 'worser', 'tee', 'dolbly', 'hipri', 'metroone', 'speakershave', 'diconect', 'phonealso', 'ringingphone', 'updatewish', '200250', 'onso', 'impracticality', 'cardflash', 'duckduckgo', 'workswell', 'highperformance', 'levelemail', 'diedamazon', 'issueim', 'wspp', 'troublefree', 'budgedfriendly', 'ónly', 'fór', 'fidgety', 'crackely', 'gpuprocessor', 'chargefeel', 'happing', 'xl4', 'inop', 'conjunta', 'fundas', 'correa', 'reloj', 'llegaron', 'separados', 'restante', 'logica', 'cobró', 'u10', 'decibel', 'gail', 'updatesi', 'pricetook', 'prendi', 'tío', 'tendré', 'puretalkatt', 'redpocketverizon', 'adblocker', 'ygtbsm', 'conops', 'wouldshould', '2gbs', 'constraining', 'stumble', 'yuk', '241', 'lastgen', 'hash', 'correlation', 'noncarrier', '13119', 'showplays', 'unrefundable', 'multifunction', 'apologise', 'breakable', '12600', '16900', 'sql', 'equation', 'tablo', 'thingsyou', '5m', 'chopforflashlight', 'twistforcamera', 'ideawhen', 'motionless', 'homeschool', '1350', 'pocketed', 'narcolepsy', 'androidbut', 'napsthen', 'hellooo', 'motooo', '122018', '102018', '2008', 'autofocusing', 'getout', 'casefree', 'shatters', 'inclination', 'syncd', 'tanning', 'exrememly', 'advisable', 'overhyped', 'unmuting', 'notication', 'livestreams', 'regardscant', 'posse', 'huwaii', 'techmate', 'urgrade', '160maybe', 'shortit', 'microscratchessave', 'durabilityand', 'wscraches', 'compairs', 'closses', 'ommision', 'messagesthe', '2528', 'hoot', 'oherwise', 'cablecharger', 'unlockingrooting', 'q6', 'dozed', 'tooits', 'problemwe', 'ofits', 'yearsused', 'pricedoesnt', 'didrarely', 'ringvolume', 'endstill', 'colonoscopy', 'loveeeee', 'xoxo', 'screenso', 'alsoyou', '93old', '09132019', 'xt19256', 'xt192512', 'incoherent', 'moneylike', 'gtreat', 'saran', '8million', 'mortgaging', 'nanosecond', 'ansel', 'adam', 'liebovitz', '8742', '0000001', 'bumpedcracked', 'involvementcollection', 'degoogle', 'playcruise', 'savey', 'phones7', 'runnung', 'clonkey', 'chargerinstead', 'kevo', 'chargin', 'palce', 'astoundingly', 'dbrand', 'everythjng', 'miuivery', 'monotony', 'rectancles', 'poseo', 'holographic', 'hardshell', 'b2', 'b5', 'callingvolte', '8556g', 'pxiel', 'realfull', 'moaning', 'sobut', 'glade', 'teached', 'fido', 'revisado', 'preocupada', 'solicitado', 'solicitados', 'fornite', 'codm', 'attract', 'unveliebably', 'viniera', 'agradece', 'papel', 'indignante', 'triplecamera', 'brighness', 'livable', '4x2', 'retreived', 'instaneous', 'printable', 'highgrade', 'soundbar', 'gimick', 'motorized', 'qiuck', 'qc40', 'admmitantly', 'muchisimo', 'presupuesto', 'incluyeron', 'activé', 'overdelivers', 'mor', 'dónde', 'flaming', 'resat', 'hds', 'gloriously', 'k20', 'differentbetter', 'nvmo', 'ukraine', 'ivebusing', '1479', 'cinemawide', '640gb', 'brincó', 'obvio', 'tardarán', 'particulares', 'cambios', 'j8', 'masterd', 'alwayz', 'estafada', 'aclaración', 'whsjfd', 'hottest', 'd800e', '400000', 'camerabuy', 'looksoperates', 'rascal', 'datainternet', 'voicedatainternet', 'voicedata', 'oob', '90x', 'onepluscomsupportsoftwareupgrade', '10oxygen', '1001', 'studder', 'op7', 'gremlin', 'odadm', 'reeeeeeallly', '230pm', 'expressing', 'magnifica', 'reenvió', 'microscope', 'creaking', 'usuals', 'nextdoor', 'airbnb', 'grubhub', '8l', 'ungrippable', 'buckled', 'gesma', 'highprofile', 'impressedespecially', 'sue', 'fastcom', '43min', 'nokiabut', 'instalking', 'apparentlyto', 'drawereseems', 'boxhas', 'optionyesthis', 'phoneis', 'booby', 'irrotating', 'enogh', 'groveling', 'nonpresent', 'longis', 'shamefulky', 'weblink', 'facti', 'insuranceno', 'risksince', 'nothats', '35o', 'leaflet3pages', 'recklesslyadvises', 'primetime', 'valueadded', 'tinnysounding', 'mysprintlauncher', 'configurando', 'tapandpay', 'jinx', 'inclible', 'eveytime', 'polemic', 'waterdrop', 'superzippy', 'namebrand', 'irridescent', 'gsn', 'skinded', 'limitationsthose', 'excellentmy', 'hamburger', 'gibbs', 'surpurbe', 'videographywith', 'isbeauty', 'beholder', 'bestdo', 'classesboot', 'fruity', '64mp', '2cm', 'helio', 'g90t', 'liquidcool', 'antenna1658cm', '653', '500nits', 'colorive', 'g7g', 'europeaninternational', 'pursue', 'sellerbad', 'worthjust', 'moneywhen', 'productthanks', 'cellada', 'comprá', '65mp', 'overachiever', 'hadexcellent', 'picturessuperb', 'toothe', 'makita', 'jailbroke', 'calentamiento', 'productolo', 'llegarme', 'negativos', 'allá', 'leemo', 'básicamente', 'especificado', 'inscribir', 'renbolsaron', 'dienero', 'efficeincy', 'disappoiment', 'inwork', 'safetynet', 'rerom', 'reroming', 'tencet', 'jamaz', 'optionfeature', 'keyword', 'frontselfie', 'backroads', 'terminan', 'dejarlo', 'caer', 'fallos', 'optimizadas', 'latinoamérica', 'serán', 'ergonico', 'tomacorrientes', 'suramerica', 'norteamerica', 'alegre', 'felicito', 'realizó', 'busque', 'pegan', 'videogames', 'filma', 'debía', 'combinando', 'audiculares', 'excelentecumplio', 'preferencerelated', 'comparado', 'merciless', '2800mah', 'whitelisted', 'reprovisioned', 'p4', 'androidhardware', '1730', '56hrs', 'noteable', 'disproportional', 'entice', 'avoidable', 'underengineered', 'javascript', 'uncentered', 'resorting', 'grotesque', 'advertisments', 'astrophoto', 'expirience', 'brink', 'author', 'snoozing', 'augments', 'wildcard', '111919', '33xl', 'praised', 'reeeeeally', 'groundbreaking', 'afar', 'sensorsoli', 'apac', 'overallyou', 'rellying', 'techlovers', 'itch', 'vaguely', 'waft', 'keenum', 'stefon', 'diggs', 'fieldofview', 'iphone11', 'vindicate', 'staute', 'favouite', 'highintensity', 'stylec', 'stylea', 'couldshould', 'airprint', 'otp', 'matures', 'restricts', 'wronged', 'camerastill', 'proactively', '7month', 'disenchanted', 'perlaced', 'coverthough', 'motionsense', 'epp', 'potraits', '18hrs', '8hr', 'keynote', 'telephote', 'speechlesscant', '3ait', 'instagramfacebooktwitter', 'gaping', 'everythingalmost', 'scathing', 'pivot', 'gslte', 'dsds', 'providerwhich', 'nonrelease', 'astrophotography', 'autoclosing', '200mbps', 'strained', 'hypersmooth', 'incapacitated', 'peppier', 'youthis', 'replenished', 'mwh', 'ddr4', 'fablet', 'twoyearold', 'gst', '1550', 'unduly', 'goop', '120mm', '60mm', 'overdone', 'cathedral', 'commutetime', 'topup', '09', 'hotplate', 'smr810', 'standstill', 'okaybut', 'cpap', 'effectivebut', 'okish', 'silimar', 'ninet', 'envíos', 'deprisa', 'contradictorio', 'discriminatorio', 'vuelta', 'telefonia', 'trave', 'demaged', 'vanished', 'm1906g7g', 'b12', 'b17', 'b34', 'b39', 'b41', 'xiaomei', 'activados', 'customeryikes', 'returnplease', 'chime', 'informationshould', 'dudé', 'podemos', 'exigirle', 'resumir', 'iluminar', 'contorno', 'sombra', 'notoria', 'tradicionales', 'trans', 'clairty', 'newcfor', 'cuestan', 'talvez', 'eleccion', 'pim', 'añadió', 'costó', 'limitaciones', 'cambiaría', 'cuales', 'sacrificar', 'pówer', 'favores', 'similares', 'precioproducto', 'caros', 'clearnigth', 'funtastickudos', 'tocó', 'aplicabilidad', 'phone111419', 'ramcontact', 'yeswe', 'mikael', 'smartwatches', '20mm', 'vegan', 'a30s', 'slowwwww', 'southcentral', 'benign', 'catd', 'ansolutely', 'previstobuen', 'productoel', 'bienquede', 'amt', 'smoothed', 'louisiana', 'aradsystemcr', 'usbcsamsung', 'headphoneearbuds', 'removeinstall', '_externalcard_', 'resynced', 'samsungandroid', 'upsetthis', 'backdont', 'totaly', 'raccomand', 'ruim', 'backuptravel', 'wifblutooth', '2000700', 'dayor', '20100', 'pixelhawuei', '250v', 'overtime', 'presant', '4ever', 'haxe', 'intrligente', 'confirmen', 'instructivo', 'tomuch', 'nois', 'sd730g', '500500', 'prontoen'])"
      ]
     },
     "execution_count": 218,
     "metadata": {
      "tags": []
     },
     "output_type": "execute_result"
    }
   ],
   "source": [
    "cvect.vocabulary_.keys()"
   ]
  },
  {
   "cell_type": "markdown",
   "metadata": {
    "id": "s0UgcEo_6l8O"
   },
   "source": [
    "### 5.6 Check word frequency of review having top ratings (sentimet = 1) and display output of few samples"
   ]
  },
  {
   "cell_type": "code",
   "execution_count": 219,
   "metadata": {
    "id": "Yqh4ZZnggLPt"
   },
   "outputs": [],
   "source": [
    "def get_top_n_words(corpus, n=None):\n",
    "    \"\"\"\n",
    "    List the top n words in a vocabulary according to occurrence in a text corpus.\n",
    "    \n",
    "    get_top_n_words([\"I love Python\", \"Python is a language programming\", \"Hello world\", \"I love the world\"]) -> \n",
    "    [('python', 2),\n",
    "     ('world', 2),\n",
    "     ('love', 2),\n",
    "     ('hello', 1),\n",
    "     ('is', 1),\n",
    "     ('programming', 1),\n",
    "     ('the', 1),\n",
    "     ('language', 1)]\n",
    "    \"\"\"\n",
    "    vec = CountVectorizer().fit(corpus)\n",
    "    bag_of_words = vec.transform(corpus)\n",
    "    sum_words = bag_of_words.sum(axis=0) \n",
    "    words_freq = [(word, sum_words[0, idx]) for word, idx in     vec.vocabulary_.items()]\n",
    "    words_freq =sorted(words_freq, key = lambda x: x[1], reverse=True)\n",
    "    return words_freq[:n]"
   ]
  },
  {
   "cell_type": "code",
   "execution_count": 228,
   "metadata": {
    "colab": {
     "base_uri": "https://localhost:8080/"
    },
    "id": "BLEEFEmv60mU",
    "outputId": "914a992d-0bc9-4d77-ef20-d84ea1f80cd4"
   },
   "outputs": [
    {
     "name": "stdout",
     "output_type": "stream",
     "text": [
      "phone 76049\n",
      "great 16307\n",
      "good 12814\n",
      "work 12758\n",
      "battery 10942\n",
      "like 10129\n",
      "screen 10127\n",
      "one 9754\n",
      "new 8957\n",
      "use 8279\n",
      "love 7807\n",
      "get 7795\n",
      "camera 7303\n",
      "would 6909\n",
      "time 6493\n",
      "price 6076\n",
      "day 6051\n",
      "im 5641\n",
      "really 5410\n",
      "samsung 5147\n"
     ]
    }
   ],
   "source": [
    "top_ratings = verified_df[verified_df['sentiment']==1]\n",
    "top_ratings_body = top_ratings['body']\n",
    "common_words = get_top_n_words(top_ratings_body, 20)\n",
    "for word, freq in common_words:\n",
    "    print(word, freq)"
   ]
  },
  {
   "cell_type": "markdown",
   "metadata": {
    "id": "9UbdTGsv60t1"
   },
   "source": [
    "### 5.7 Initialize tf-idf vectorizer and transform the preprocessed body text"
   ]
  },
  {
   "cell_type": "code",
   "execution_count": 193,
   "metadata": {
    "id": "_Jfo6go_69yh"
   },
   "outputs": [],
   "source": [
    "from sklearn.feature_extraction.text import TfidfVectorizer"
   ]
  },
  {
   "cell_type": "code",
   "execution_count": 194,
   "metadata": {
    "id": "2UfQ6JvjQG2C"
   },
   "outputs": [],
   "source": [
    "tfvec=TfidfVectorizer()"
   ]
  },
  {
   "cell_type": "code",
   "execution_count": 195,
   "metadata": {
    "colab": {
     "base_uri": "https://localhost:8080/"
    },
    "id": "udi9JiaYQGnZ",
    "outputId": "d27f9e66-f0af-4312-d6f3-5a6233053d5a"
   },
   "outputs": [
    {
     "data": {
      "text/plain": [
       "36034"
      ]
     },
     "execution_count": 195,
     "metadata": {
      "tags": []
     },
     "output_type": "execute_result"
    }
   ],
   "source": [
    "tfvec.fit(verified_df['body'].tolist())\n",
    "len(tfvec.get_feature_names())"
   ]
  },
  {
   "cell_type": "code",
   "execution_count": 196,
   "metadata": {
    "id": "rlUrLrXTQlc_"
   },
   "outputs": [],
   "source": [
    "tfdata=tfvec.fit_transform(verified_df['body'])"
   ]
  },
  {
   "cell_type": "code",
   "execution_count": 197,
   "metadata": {
    "colab": {
     "base_uri": "https://localhost:8080/"
    },
    "id": "IsmwRVAfQvwC",
    "outputId": "001bb6dd-028e-4495-df17-aeec4f92f183"
   },
   "outputs": [
    {
     "data": {
      "text/plain": [
       "(61225, 36034)"
      ]
     },
     "execution_count": 197,
     "metadata": {
      "tags": []
     },
     "output_type": "execute_result"
    }
   ],
   "source": [
    "tfdata.shape"
   ]
  },
  {
   "cell_type": "markdown",
   "metadata": {
    "id": "5dqPXETLKN0h"
   },
   "source": [
    "### 5.8 Segregate the data into dependent (sentiment) and independent (transformed body using tf-idf) features for building a classifier. "
   ]
  },
  {
   "cell_type": "code",
   "execution_count": 198,
   "metadata": {
    "id": "mpOLAYn07W6F"
   },
   "outputs": [],
   "source": [
    "X=tfdata\n",
    "y=verified_df['sentiment']"
   ]
  },
  {
   "cell_type": "markdown",
   "metadata": {
    "id": "4K03FO0q7XBP"
   },
   "source": [
    "### 5.9 Split the data into Train & Test Sets"
   ]
  },
  {
   "cell_type": "code",
   "execution_count": 199,
   "metadata": {
    "id": "D548-7cE7dZa"
   },
   "outputs": [],
   "source": [
    "from sklearn.model_selection import train_test_split\n",
    "X_train, X_test, y_train, y_test = train_test_split(\n",
    "    X,y,test_size=0.2, \n",
    "    random_state=42\n",
    ")"
   ]
  },
  {
   "cell_type": "code",
   "execution_count": 200,
   "metadata": {
    "colab": {
     "base_uri": "https://localhost:8080/"
    },
    "id": "Ge7931JVTRIp",
    "outputId": "58b11914-3fd9-426d-8bd6-53c16db21937"
   },
   "outputs": [
    {
     "name": "stdout",
     "output_type": "stream",
     "text": [
      "(48980, 36034)\n",
      "(48980,)\n",
      "(12245, 36034)\n",
      "(12245,)\n"
     ]
    }
   ],
   "source": [
    "#Training data\n",
    "print(X_train.shape)\n",
    "print(y_train.shape)\n",
    "# Testing data\n",
    "print(X_test.shape)\n",
    "print(y_test.shape)"
   ]
  },
  {
   "cell_type": "markdown",
   "metadata": {
    "id": "rhD1a-beKvE7"
   },
   "source": [
    "## 6. Model building"
   ]
  },
  {
   "cell_type": "markdown",
   "metadata": {
    "id": "UPFovmN03exD"
   },
   "source": [
    "### 6.1 Build a random forest classifier to predict the 'sentiment'\n",
    "### 6.2 Predict on test set\n",
    "### 6.3 Check accuracy and confusion matrix"
   ]
  },
  {
   "cell_type": "code",
   "execution_count": 201,
   "metadata": {
    "colab": {
     "base_uri": "https://localhost:8080/"
    },
    "id": "y0ytdD-_30P9",
    "outputId": "a1cde845-a4d6-4283-b274-e106f492f9b3"
   },
   "outputs": [
    {
     "data": {
      "text/plain": [
       "RandomForestClassifier(bootstrap=True, ccp_alpha=0.0, class_weight=None,\n",
       "                       criterion='gini', max_depth=None, max_features='auto',\n",
       "                       max_leaf_nodes=None, max_samples=None,\n",
       "                       min_impurity_decrease=0.0, min_impurity_split=None,\n",
       "                       min_samples_leaf=1, min_samples_split=2,\n",
       "                       min_weight_fraction_leaf=0.0, n_estimators=100,\n",
       "                       n_jobs=None, oob_score=False, random_state=None,\n",
       "                       verbose=0, warm_start=False)"
      ]
     },
     "execution_count": 201,
     "metadata": {
      "tags": []
     },
     "output_type": "execute_result"
    }
   ],
   "source": [
    "from sklearn.ensemble import RandomForestClassifier\n",
    "rf = RandomForestClassifier()\n",
    "rf.fit(X_train,y_train)"
   ]
  },
  {
   "cell_type": "code",
   "execution_count": 202,
   "metadata": {
    "colab": {
     "base_uri": "https://localhost:8080/"
    },
    "id": "NJ6Ke4hl30Zk",
    "outputId": "aa70b352-92f9-4bbc-eac9-016d6410544f"
   },
   "outputs": [
    {
     "name": "stdout",
     "output_type": "stream",
     "text": [
      "0.9935483870967742\n"
     ]
    }
   ],
   "source": [
    "print(rf.score(X_train,y_train))"
   ]
  },
  {
   "cell_type": "code",
   "execution_count": 203,
   "metadata": {
    "colab": {
     "base_uri": "https://localhost:8080/"
    },
    "id": "qXu_e5rMUD01",
    "outputId": "42dd1132-8405-4873-edd3-239be96e2e56"
   },
   "outputs": [
    {
     "name": "stdout",
     "output_type": "stream",
     "text": [
      "0.944058799510004\n"
     ]
    }
   ],
   "source": [
    "print(rf.score(X_test,y_test))"
   ]
  },
  {
   "cell_type": "code",
   "execution_count": 207,
   "metadata": {
    "id": "HpUKD0O2XCkD"
   },
   "outputs": [],
   "source": [
    "# Make predictions for the test set\n",
    "y_pred_test = rf.predict(X_test)"
   ]
  },
  {
   "cell_type": "code",
   "execution_count": 208,
   "metadata": {
    "colab": {
     "base_uri": "https://localhost:8080/"
    },
    "id": "0uoc72qGWRXC",
    "outputId": "41b2afca-7c48-4e05-dac3-30ba2e6bac59"
   },
   "outputs": [
    {
     "name": "stdout",
     "output_type": "stream",
     "text": [
      "[[    5     1   447]\n",
      " [    0     2   213]\n",
      " [   13    11 11553]]\n"
     ]
    }
   ],
   "source": [
    "from sklearn.metrics import confusion_matrix\n",
    "conf_mat = confusion_matrix(y_test, y_pred_test)\n",
    "print(conf_mat)"
   ]
  },
  {
   "cell_type": "code",
   "execution_count": 209,
   "metadata": {
    "colab": {
     "base_uri": "https://localhost:8080/"
    },
    "id": "nlyl0S4hVqjf",
    "outputId": "f14fbbba-8358-4bac-fe9e-5609d86aa479"
   },
   "outputs": [
    {
     "data": {
      "text/plain": [
       "0.9454471212739893"
      ]
     },
     "execution_count": 209,
     "metadata": {
      "tags": []
     },
     "output_type": "execute_result"
    }
   ],
   "source": [
    "## Null Accuracy\n",
    "## Since the data is biased towards higher rating consider rating 5 for all test data and accuracy will be\n",
    "11577/12245"
   ]
  },
  {
   "cell_type": "markdown",
   "metadata": {
    "id": "Ey7an7ukLxWB"
   },
   "source": [
    "## 7. Write your conclusion"
   ]
  },
  {
   "cell_type": "markdown",
   "metadata": {
    "id": "YIwpDCbRZVY7"
   },
   "source": [
    "### Null Accuracy is 94.5 which is close to Random Forest accuracy of 94.4. Hence the data looks to be more biased which doesn't require model to train and predict.\n",
    "\n",
    "### There were biased features like Price (as majority of them have 0 values) which if having proper values would improve the score\n",
    "\n",
    "### Target variable Sentiment is based on assumption 3 is neutral and if that is considered positive feedback score value would still be improved."
   ]
  },
  {
   "cell_type": "code",
   "execution_count": 172,
   "metadata": {
    "id": "0csFkbEJmSIe"
   },
   "outputs": [],
   "source": []
  }
 ],
 "metadata": {
  "colab": {
   "collapsed_sections": [],
   "name": "R8 Internal Lab Question Notebook.ipynb",
   "provenance": []
  },
  "kernelspec": {
   "display_name": "Python 3",
   "language": "python",
   "name": "python3"
  },
  "language_info": {
   "codemirror_mode": {
    "name": "ipython",
    "version": 3
   },
   "file_extension": ".py",
   "mimetype": "text/x-python",
   "name": "python",
   "nbconvert_exporter": "python",
   "pygments_lexer": "ipython3",
   "version": "3.7.4"
  }
 },
 "nbformat": 4,
 "nbformat_minor": 1
}
