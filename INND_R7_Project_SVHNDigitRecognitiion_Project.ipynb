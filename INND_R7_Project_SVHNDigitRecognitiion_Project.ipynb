{
  "nbformat": 4,
  "nbformat_minor": 0,
  "metadata": {
    "colab": {
      "name": "INND_R7_Project_SVHNDigitRecognitiion_Project.ipynb",
      "provenance": [],
      "collapsed_sections": []
    },
    "kernelspec": {
      "display_name": "Python 3",
      "language": "python",
      "name": "python3"
    },
    "language_info": {
      "codemirror_mode": {
        "name": "ipython",
        "version": 3
      },
      "file_extension": ".py",
      "mimetype": "text/x-python",
      "name": "python",
      "nbconvert_exporter": "python",
      "pygments_lexer": "ipython3",
      "version": "3.7.2"
    },
    "accelerator": "GPU"
  },
  "cells": [
    {
      "cell_type": "markdown",
      "metadata": {
        "id": "YeoiMbH7djEv"
      },
      "source": [
        "# Neural Networks Street View Housing Number Digit Recognition\n",
        "The data is image data of google street view with single digit.\n",
        "\n",
        "## Description\n",
        "SVHN is a real-world image dataset for developing machine learning and object recognition algorithms with the minimal requirement on data formatting but comes from a significantly harder, unsolved, real-world problem (recognizing digits and numbers in natural scene images). SVHN is obtained from house numbers in Google Street View images"
      ]
    },
    {
      "cell_type": "markdown",
      "metadata": {
        "id": "RSoYY2nII_UW"
      },
      "source": [
        "In this assignment, we will work on the stock prices dataset named \"prices.csv\". Task is to create a Neural Network to classify closing price for a stock based on some parameters."
      ]
    },
    {
      "cell_type": "code",
      "metadata": {
        "id": "PGqq9f8VdLba"
      },
      "source": [
        "# Initialize the random number generator\n",
        "import random\n",
        "random.seed(0)\n",
        "\n",
        "# Ignore the warnings\n",
        "import warnings\n",
        "warnings.filterwarnings(\"ignore\")"
      ],
      "execution_count": 1,
      "outputs": []
    },
    {
      "cell_type": "code",
      "metadata": {
        "id": "x1sJqmlyDQJ8"
      },
      "source": [
        ""
      ],
      "execution_count": null,
      "outputs": []
    },
    {
      "cell_type": "markdown",
      "metadata": {
        "id": "dRHCeJqP-evf"
      },
      "source": [
        "### Load the data\n",
        "- load the svhn data file from google drive\n"
      ]
    },
    {
      "cell_type": "code",
      "metadata": {
        "id": "cKVH5v7r-RmC"
      },
      "source": [
        "# run this cell to upload file using GUI if you are using google colab\n",
        "\n",
        "#from google.colab import files\n",
        "#files.upload()"
      ],
      "execution_count": 1,
      "outputs": []
    },
    {
      "cell_type": "code",
      "metadata": {
        "colab": {
          "base_uri": "https://localhost:8080/"
        },
        "id": "Gr4YcffYd1FQ",
        "outputId": "ebb178e8-0860-4e94-d15c-fe019924ea4e"
      },
      "source": [
        "# run this cell to to mount the google drive if you are using google colab\n",
        "\n",
        "from google.colab import drive\n",
        "drive.mount('/content/drive/')"
      ],
      "execution_count": 2,
      "outputs": [
        {
          "output_type": "stream",
          "text": [
            "Mounted at /content/drive/\n"
          ],
          "name": "stdout"
        }
      ]
    },
    {
      "cell_type": "code",
      "metadata": {
        "id": "mMZEv5hN7G07"
      },
      "source": [
        "import tensorflow as tf\n",
        "import pandas as pd\n",
        "import numpy as np\n",
        "import h5py\n",
        "import matplotlib.pyplot as plt\n",
        "from keras.models import Sequential\n",
        "from keras.layers import Activation, Dense\n",
        "from keras.layers import BatchNormalization, Dropout, Input, Flatten\n",
        "from keras import optimizers\n"
      ],
      "execution_count": 3,
      "outputs": []
    },
    {
      "cell_type": "code",
      "metadata": {
        "id": "MdkcYh10D8w-",
        "colab": {
          "base_uri": "https://localhost:8080/"
        },
        "outputId": "a0e4d434-63e4-4926-b1c8-f4b7caa79dfe"
      },
      "source": [
        "h5f=h5py.File('/content/drive/My Drive/Education/SVHN-NeuralNetwork/SVHN_single_grey1.h5','r')\n",
        "h5f.keys()"
      ],
      "execution_count": 4,
      "outputs": [
        {
          "output_type": "execute_result",
          "data": {
            "text/plain": [
              "<KeysViewHDF5 ['X_test', 'X_train', 'X_val', 'y_test', 'y_train', 'y_val']>"
            ]
          },
          "metadata": {
            "tags": []
          },
          "execution_count": 4
        }
      ]
    },
    {
      "cell_type": "code",
      "metadata": {
        "id": "gdDD_EOz5oEd"
      },
      "source": [
        "# Load the Train and Test Data set\n",
        "X_train=h5f['X_train'][:]\n",
        "y_train=h5f['y_train'][:]\n",
        "X_test=h5f['X_test'][:]\n",
        "y_test=h5f['y_test'][:]\n",
        "X_val=h5f['X_val'][:]\n",
        "y_val=h5f['y_val'][:]"
      ],
      "execution_count": 5,
      "outputs": []
    },
    {
      "cell_type": "code",
      "metadata": {
        "colab": {
          "base_uri": "https://localhost:8080/"
        },
        "id": "cfxTZ87W1t6s",
        "outputId": "b79d63e9-5ead-4cd0-d196-dac210410439"
      },
      "source": [
        "# Check the shape of train/test/validation data\n",
        "print(X_train.shape)\n",
        "print(X_test.shape)\n",
        "print(X_val.shape)\n",
        "print(y_train.shape)\n",
        "print(y_test.shape)\n",
        "print(y_val.shape)\n"
      ],
      "execution_count": 6,
      "outputs": [
        {
          "output_type": "stream",
          "text": [
            "(42000, 32, 32)\n",
            "(18000, 32, 32)\n",
            "(60000, 32, 32)\n",
            "(42000,)\n",
            "(18000,)\n",
            "(60000,)\n"
          ],
          "name": "stdout"
        }
      ]
    },
    {
      "cell_type": "code",
      "metadata": {
        "id": "Dpj5-K683iWo"
      },
      "source": [
        "# Reshape the train/test/validation\n",
        "X_train1=X_train.reshape(42000,1024)\n",
        "X_test1=X_test.reshape(18000,1024)\n",
        "X_val1=X_val.reshape(60000,1024)"
      ],
      "execution_count": 7,
      "outputs": []
    },
    {
      "cell_type": "code",
      "metadata": {
        "id": "IzmUsYR14Hwt"
      },
      "source": [
        "# One hot encode labels for train/test/validation\n",
        "from tensorflow.keras.utils import to_categorical\n",
        "y_train = to_categorical(y_train)\n",
        "y_test = to_categorical(y_test)\n",
        "y_val = to_categorical(y_val)"
      ],
      "execution_count": 8,
      "outputs": []
    },
    {
      "cell_type": "markdown",
      "metadata": {
        "id": "cl2M9whFh6mh"
      },
      "source": [
        "### Define Model\n",
        "- Initialize a Sequential model\n",
        "- Add a Flatten layer\n",
        "- Add a Dense layer with ten neuron (for 10 digits) as output\n",
        "  - add 'Relu' as activation function\n",
        "  - add 'Softmax' as output function\n"
      ]
    },
    {
      "cell_type": "code",
      "metadata": {
        "id": "garjKsm6Vu9v"
      },
      "source": [
        "#Initialize Sequential model\n",
        "model = tf.keras.models.Sequential()\n",
        "\n",
        "#Reshape data from 2D to 1D -> 28x28 to 784\n",
        "model.add(tf.keras.layers.Reshape((1024,),input_shape=(32,32)))\n",
        "\n",
        "#Normalize the data\n",
        "model.add(tf.keras.layers.BatchNormalization())\n"
      ],
      "execution_count": 9,
      "outputs": []
    },
    {
      "cell_type": "code",
      "metadata": {
        "id": "acDsEgiHVusQ"
      },
      "source": [
        "# Adding Hidden Layers and Output Layer\n",
        "model.add(tf.keras.layers.Dense(200, activation='relu'))\n",
        "model.add(tf.keras.layers.Dense(100, activation='relu'))\n",
        "model.add(tf.keras.layers.Dense(10, activation='softmax'))"
      ],
      "execution_count": 10,
      "outputs": []
    },
    {
      "cell_type": "markdown",
      "metadata": {
        "id": "BNZPb5lKioX0"
      },
      "source": [
        "### Compile the model\n",
        "- Compile the model\n",
        "- Use \"adam\" optimizer\n",
        "- Use \"categorical cross-entropy\" for loss\n",
        "- Use Accuracy for metrics"
      ]
    },
    {
      "cell_type": "code",
      "metadata": {
        "id": "ZEQUP3VaiuT2"
      },
      "source": [
        "#Create optimizer with non-default learning rate\n",
        "#sgd_optimizer = tf.keras.optimizers.SGD(lr=0.03)\n",
        "\n",
        "#Compile the model\n",
        "model.compile(optimizer='adam', loss='categorical_crossentropy',metrics=['accuracy'])"
      ],
      "execution_count": 11,
      "outputs": []
    },
    {
      "cell_type": "code",
      "metadata": {
        "colab": {
          "base_uri": "https://localhost:8080/"
        },
        "id": "_GAc1wfpjJuk",
        "outputId": "7805a2d2-5719-4753-88ff-4629e2362912"
      },
      "source": [
        "model.summary()"
      ],
      "execution_count": 12,
      "outputs": [
        {
          "output_type": "stream",
          "text": [
            "Model: \"sequential\"\n",
            "_________________________________________________________________\n",
            "Layer (type)                 Output Shape              Param #   \n",
            "=================================================================\n",
            "reshape (Reshape)            (None, 1024)              0         \n",
            "_________________________________________________________________\n",
            "batch_normalization (BatchNo (None, 1024)              4096      \n",
            "_________________________________________________________________\n",
            "dense (Dense)                (None, 200)               205000    \n",
            "_________________________________________________________________\n",
            "dense_1 (Dense)              (None, 100)               20100     \n",
            "_________________________________________________________________\n",
            "dense_2 (Dense)              (None, 10)                1010      \n",
            "=================================================================\n",
            "Total params: 230,206\n",
            "Trainable params: 228,158\n",
            "Non-trainable params: 2,048\n",
            "_________________________________________________________________\n"
          ],
          "name": "stdout"
        }
      ]
    },
    {
      "cell_type": "markdown",
      "metadata": {
        "id": "n9o45OHdjDhA"
      },
      "source": [
        "### Fit the model\n",
        "- epochs: 50\n",
        "- batch size: 128\n",
        "- specify validation data"
      ]
    },
    {
      "cell_type": "code",
      "metadata": {
        "colab": {
          "base_uri": "https://localhost:8080/"
        },
        "id": "lrocGmhHqY7g",
        "outputId": "d0d11333-f39c-4174-ddd5-150062aaf4a6"
      },
      "source": [
        "model.fit(X_train,y_train,        \n",
        "          validation_data=(X_test,y_test),\n",
        "          epochs=50,\n",
        "          batch_size=128)"
      ],
      "execution_count": 13,
      "outputs": [
        {
          "output_type": "stream",
          "text": [
            "Epoch 1/50\n",
            "329/329 [==============================] - 2s 6ms/step - loss: 1.3578 - accuracy: 0.5600 - val_loss: 0.9450 - val_accuracy: 0.7104\n",
            "Epoch 2/50\n",
            "329/329 [==============================] - 2s 6ms/step - loss: 0.8757 - accuracy: 0.7310 - val_loss: 0.8107 - val_accuracy: 0.7572\n",
            "Epoch 3/50\n",
            "329/329 [==============================] - 2s 6ms/step - loss: 0.7567 - accuracy: 0.7678 - val_loss: 0.7636 - val_accuracy: 0.7748\n",
            "Epoch 4/50\n",
            "329/329 [==============================] - 2s 6ms/step - loss: 0.6660 - accuracy: 0.7948 - val_loss: 0.7668 - val_accuracy: 0.7716\n",
            "Epoch 5/50\n",
            "329/329 [==============================] - 2s 5ms/step - loss: 0.6129 - accuracy: 0.8120 - val_loss: 0.6930 - val_accuracy: 0.7983\n",
            "Epoch 6/50\n",
            "329/329 [==============================] - 2s 5ms/step - loss: 0.5754 - accuracy: 0.8235 - val_loss: 0.6621 - val_accuracy: 0.8074\n",
            "Epoch 7/50\n",
            "329/329 [==============================] - 2s 5ms/step - loss: 0.5412 - accuracy: 0.8321 - val_loss: 0.6537 - val_accuracy: 0.8167\n",
            "Epoch 8/50\n",
            "329/329 [==============================] - 2s 6ms/step - loss: 0.5124 - accuracy: 0.8408 - val_loss: 0.6595 - val_accuracy: 0.8099\n",
            "Epoch 9/50\n",
            "329/329 [==============================] - 2s 6ms/step - loss: 0.4858 - accuracy: 0.8477 - val_loss: 0.6385 - val_accuracy: 0.8207\n",
            "Epoch 10/50\n",
            "329/329 [==============================] - 2s 6ms/step - loss: 0.4675 - accuracy: 0.8546 - val_loss: 0.6646 - val_accuracy: 0.8196\n",
            "Epoch 11/50\n",
            "329/329 [==============================] - 2s 5ms/step - loss: 0.4475 - accuracy: 0.8591 - val_loss: 0.6189 - val_accuracy: 0.8284\n",
            "Epoch 12/50\n",
            "329/329 [==============================] - 2s 6ms/step - loss: 0.4292 - accuracy: 0.8654 - val_loss: 0.5974 - val_accuracy: 0.8378\n",
            "Epoch 13/50\n",
            "329/329 [==============================] - 2s 5ms/step - loss: 0.4157 - accuracy: 0.8697 - val_loss: 0.6337 - val_accuracy: 0.8286\n",
            "Epoch 14/50\n",
            "329/329 [==============================] - 2s 5ms/step - loss: 0.4045 - accuracy: 0.8725 - val_loss: 0.6225 - val_accuracy: 0.8339\n",
            "Epoch 15/50\n",
            "329/329 [==============================] - 2s 6ms/step - loss: 0.3954 - accuracy: 0.8754 - val_loss: 0.6173 - val_accuracy: 0.8347\n",
            "Epoch 16/50\n",
            "329/329 [==============================] - 2s 6ms/step - loss: 0.3769 - accuracy: 0.8822 - val_loss: 0.6001 - val_accuracy: 0.8404\n",
            "Epoch 17/50\n",
            "329/329 [==============================] - 2s 5ms/step - loss: 0.3692 - accuracy: 0.8834 - val_loss: 0.6261 - val_accuracy: 0.8374\n",
            "Epoch 18/50\n",
            "329/329 [==============================] - 2s 6ms/step - loss: 0.3624 - accuracy: 0.8846 - val_loss: 0.6201 - val_accuracy: 0.8397\n",
            "Epoch 19/50\n",
            "329/329 [==============================] - 2s 5ms/step - loss: 0.3469 - accuracy: 0.8894 - val_loss: 0.6287 - val_accuracy: 0.8359\n",
            "Epoch 20/50\n",
            "329/329 [==============================] - 2s 6ms/step - loss: 0.3365 - accuracy: 0.8925 - val_loss: 0.6171 - val_accuracy: 0.8417\n",
            "Epoch 21/50\n",
            "329/329 [==============================] - 2s 6ms/step - loss: 0.3259 - accuracy: 0.8964 - val_loss: 0.6127 - val_accuracy: 0.8434\n",
            "Epoch 22/50\n",
            "329/329 [==============================] - 2s 6ms/step - loss: 0.3186 - accuracy: 0.8997 - val_loss: 0.6461 - val_accuracy: 0.8365\n",
            "Epoch 23/50\n",
            "329/329 [==============================] - 2s 6ms/step - loss: 0.3269 - accuracy: 0.8955 - val_loss: 0.6441 - val_accuracy: 0.8348\n",
            "Epoch 24/50\n",
            "329/329 [==============================] - 2s 6ms/step - loss: 0.3011 - accuracy: 0.9040 - val_loss: 0.6598 - val_accuracy: 0.8368\n",
            "Epoch 25/50\n",
            "329/329 [==============================] - 2s 6ms/step - loss: 0.2956 - accuracy: 0.9059 - val_loss: 0.6329 - val_accuracy: 0.8461\n",
            "Epoch 26/50\n",
            "329/329 [==============================] - 2s 5ms/step - loss: 0.2971 - accuracy: 0.9044 - val_loss: 0.6548 - val_accuracy: 0.8383\n",
            "Epoch 27/50\n",
            "329/329 [==============================] - 2s 5ms/step - loss: 0.2817 - accuracy: 0.9104 - val_loss: 0.6460 - val_accuracy: 0.8474\n",
            "Epoch 28/50\n",
            "329/329 [==============================] - 2s 6ms/step - loss: 0.2882 - accuracy: 0.9090 - val_loss: 0.6559 - val_accuracy: 0.8453\n",
            "Epoch 29/50\n",
            "329/329 [==============================] - 2s 6ms/step - loss: 0.2756 - accuracy: 0.9098 - val_loss: 0.6555 - val_accuracy: 0.8427\n",
            "Epoch 30/50\n",
            "329/329 [==============================] - 2s 5ms/step - loss: 0.2758 - accuracy: 0.9103 - val_loss: 0.6600 - val_accuracy: 0.8419\n",
            "Epoch 31/50\n",
            "329/329 [==============================] - 2s 6ms/step - loss: 0.2577 - accuracy: 0.9172 - val_loss: 0.6826 - val_accuracy: 0.8361\n",
            "Epoch 32/50\n",
            "329/329 [==============================] - 2s 6ms/step - loss: 0.2570 - accuracy: 0.9169 - val_loss: 0.6604 - val_accuracy: 0.8465\n",
            "Epoch 33/50\n",
            "329/329 [==============================] - 2s 6ms/step - loss: 0.2464 - accuracy: 0.9203 - val_loss: 0.7124 - val_accuracy: 0.8390\n",
            "Epoch 34/50\n",
            "329/329 [==============================] - 2s 6ms/step - loss: 0.2493 - accuracy: 0.9199 - val_loss: 0.6769 - val_accuracy: 0.8462\n",
            "Epoch 35/50\n",
            "329/329 [==============================] - 2s 6ms/step - loss: 0.2428 - accuracy: 0.9216 - val_loss: 0.6976 - val_accuracy: 0.8382\n",
            "Epoch 36/50\n",
            "329/329 [==============================] - 2s 7ms/step - loss: 0.2320 - accuracy: 0.9236 - val_loss: 0.7059 - val_accuracy: 0.8406\n",
            "Epoch 37/50\n",
            "329/329 [==============================] - 2s 6ms/step - loss: 0.2461 - accuracy: 0.9189 - val_loss: 0.7089 - val_accuracy: 0.8429\n",
            "Epoch 38/50\n",
            "329/329 [==============================] - 2s 6ms/step - loss: 0.2298 - accuracy: 0.9247 - val_loss: 0.7133 - val_accuracy: 0.8418\n",
            "Epoch 39/50\n",
            "329/329 [==============================] - 2s 6ms/step - loss: 0.2246 - accuracy: 0.9265 - val_loss: 0.7508 - val_accuracy: 0.8382\n",
            "Epoch 40/50\n",
            "329/329 [==============================] - 2s 6ms/step - loss: 0.2336 - accuracy: 0.9235 - val_loss: 0.7144 - val_accuracy: 0.8480\n",
            "Epoch 41/50\n",
            "329/329 [==============================] - 2s 6ms/step - loss: 0.2197 - accuracy: 0.9280 - val_loss: 0.7391 - val_accuracy: 0.8432\n",
            "Epoch 42/50\n",
            "329/329 [==============================] - 2s 6ms/step - loss: 0.2117 - accuracy: 0.9305 - val_loss: 0.7378 - val_accuracy: 0.8430\n",
            "Epoch 43/50\n",
            "329/329 [==============================] - 2s 6ms/step - loss: 0.2153 - accuracy: 0.9298 - val_loss: 0.7509 - val_accuracy: 0.8393\n",
            "Epoch 44/50\n",
            "329/329 [==============================] - 2s 5ms/step - loss: 0.2182 - accuracy: 0.9294 - val_loss: 0.7264 - val_accuracy: 0.8489\n",
            "Epoch 45/50\n",
            "329/329 [==============================] - 2s 5ms/step - loss: 0.2080 - accuracy: 0.9313 - val_loss: 0.7581 - val_accuracy: 0.8421\n",
            "Epoch 46/50\n",
            "329/329 [==============================] - 2s 6ms/step - loss: 0.2038 - accuracy: 0.9323 - val_loss: 0.7471 - val_accuracy: 0.8467\n",
            "Epoch 47/50\n",
            "329/329 [==============================] - 2s 6ms/step - loss: 0.1985 - accuracy: 0.9349 - val_loss: 0.7649 - val_accuracy: 0.8445\n",
            "Epoch 48/50\n",
            "329/329 [==============================] - 2s 6ms/step - loss: 0.2050 - accuracy: 0.9327 - val_loss: 0.7728 - val_accuracy: 0.8426\n",
            "Epoch 49/50\n",
            "329/329 [==============================] - 2s 6ms/step - loss: 0.1920 - accuracy: 0.9355 - val_loss: 0.7871 - val_accuracy: 0.8457\n",
            "Epoch 50/50\n",
            "329/329 [==============================] - 2s 5ms/step - loss: 0.1804 - accuracy: 0.9398 - val_loss: 0.7810 - val_accuracy: 0.8436\n"
          ],
          "name": "stdout"
        },
        {
          "output_type": "execute_result",
          "data": {
            "text/plain": [
              "<tensorflow.python.keras.callbacks.History at 0x7f56302a0d68>"
            ]
          },
          "metadata": {
            "tags": []
          },
          "execution_count": 13
        }
      ]
    },
    {
      "cell_type": "markdown",
      "metadata": {
        "id": "EJDoix_7JU61"
      },
      "source": [
        "### Evaluate the model\n",
        "- Evaluate the model on test data"
      ]
    },
    {
      "cell_type": "code",
      "metadata": {
        "colab": {
          "base_uri": "https://localhost:8080/"
        },
        "id": "hf2YKnnerP7_",
        "outputId": "3366023d-bfd8-4407-8b66-7237ea6942bf"
      },
      "source": [
        "model.evaluate(X_test,y_test)"
      ],
      "execution_count": 14,
      "outputs": [
        {
          "output_type": "stream",
          "text": [
            "563/563 [==============================] - 2s 3ms/step - loss: 0.7810 - accuracy: 0.8436\n"
          ],
          "name": "stdout"
        },
        {
          "output_type": "execute_result",
          "data": {
            "text/plain": [
              "[0.7809785604476929, 0.8436111211776733]"
            ]
          },
          "metadata": {
            "tags": []
          },
          "execution_count": 14
        }
      ]
    },
    {
      "cell_type": "code",
      "metadata": {
        "id": "DN8kk3gUJ62u"
      },
      "source": [
        "# Validating the model output with actual\n",
        "predictions = model.predict(X_test)"
      ],
      "execution_count": 15,
      "outputs": []
    },
    {
      "cell_type": "code",
      "metadata": {
        "colab": {
          "base_uri": "https://localhost:8080/"
        },
        "id": "F0OAThH1O5Vr",
        "outputId": "9c3be087-cbe3-41c7-a9b8-681f2dbd5b2b"
      },
      "source": [
        "np.argmax(predictions[1870])"
      ],
      "execution_count": 16,
      "outputs": [
        {
          "output_type": "execute_result",
          "data": {
            "text/plain": [
              "1"
            ]
          },
          "metadata": {
            "tags": []
          },
          "execution_count": 16
        }
      ]
    },
    {
      "cell_type": "code",
      "metadata": {
        "colab": {
          "base_uri": "https://localhost:8080/"
        },
        "id": "WTnD0EqNO4xm",
        "outputId": "ddf5cef3-b1a1-4035-a09d-78881f903e30"
      },
      "source": [
        "# Acutal value of row 1870\n",
        "y_test[1870]\n"
      ],
      "execution_count": 17,
      "outputs": [
        {
          "output_type": "execute_result",
          "data": {
            "text/plain": [
              "array([0., 1., 0., 0., 0., 0., 0., 0., 0., 0.], dtype=float32)"
            ]
          },
          "metadata": {
            "tags": []
          },
          "execution_count": 17
        }
      ]
    },
    {
      "cell_type": "code",
      "metadata": {
        "id": "pCDQs_g1QlC8"
      },
      "source": [
        "## Recreating the model with drop out layers\n",
        "\n",
        "#Initialize Sequential model\n",
        "model1 = tf.keras.models.Sequential()\n",
        "\n",
        "#Reshape data from 2D to 1D -> 28x28 to 784\n",
        "model1.add(tf.keras.layers.Reshape((1024,),input_shape=(32,32)))\n",
        "\n",
        "#Normalize the data\n",
        "model1.add(tf.keras.layers.BatchNormalization())"
      ],
      "execution_count": 28,
      "outputs": []
    },
    {
      "cell_type": "markdown",
      "metadata": {
        "id": "kBGwTTilQlDD"
      },
      "source": [
        "### Add two fully connected layers with 200 and 100 neurons respectively with `relu` activations. Add a dropout layer with `p=0.25`"
      ]
    },
    {
      "cell_type": "code",
      "metadata": {
        "id": "IXbfpfOzQlDF"
      },
      "source": [
        "#Add 1st hidden layer\n",
        "model1.add(tf.keras.layers.Dense(200, activation='relu'))\n",
        "## Adding Batch Normalization Layer\n",
        "model1.add(tf.keras.layers.BatchNormalization())\n",
        "#Add 2nd hidden layer\n",
        "model1.add(tf.keras.layers.Dense(100, activation='relu'))\n",
        "## Adding Batch Normalization Layer\n",
        "model1.add(tf.keras.layers.BatchNormalization())\n"
      ],
      "execution_count": 29,
      "outputs": []
    },
    {
      "cell_type": "code",
      "metadata": {
        "id": "JZkvKymSd0Sr"
      },
      "source": [
        "#Add OUTPUT layer\n",
        "model1.add(tf.keras.layers.Dense(10, activation='softmax'))"
      ],
      "execution_count": 30,
      "outputs": []
    },
    {
      "cell_type": "code",
      "metadata": {
        "colab": {
          "base_uri": "https://localhost:8080/"
        },
        "id": "ffl7xBDTyCi-",
        "outputId": "cc375956-6671-4268-9ada-eb6b96c3089a"
      },
      "source": [
        "model1.summary()"
      ],
      "execution_count": 31,
      "outputs": [
        {
          "output_type": "stream",
          "text": [
            "Model: \"sequential_2\"\n",
            "_________________________________________________________________\n",
            "Layer (type)                 Output Shape              Param #   \n",
            "=================================================================\n",
            "reshape_2 (Reshape)          (None, 1024)              0         \n",
            "_________________________________________________________________\n",
            "batch_normalization_4 (Batch (None, 1024)              4096      \n",
            "_________________________________________________________________\n",
            "dense_6 (Dense)              (None, 200)               205000    \n",
            "_________________________________________________________________\n",
            "batch_normalization_5 (Batch (None, 200)               800       \n",
            "_________________________________________________________________\n",
            "dense_7 (Dense)              (None, 100)               20100     \n",
            "_________________________________________________________________\n",
            "batch_normalization_6 (Batch (None, 100)               400       \n",
            "_________________________________________________________________\n",
            "dense_8 (Dense)              (None, 10)                1010      \n",
            "=================================================================\n",
            "Total params: 231,406\n",
            "Trainable params: 228,758\n",
            "Non-trainable params: 2,648\n",
            "_________________________________________________________________\n"
          ],
          "name": "stdout"
        }
      ]
    },
    {
      "cell_type": "code",
      "metadata": {
        "id": "pzLOhDguehVM"
      },
      "source": [
        "## Define Checkpoint\r\n",
        "checkpoint_filepath = '/tmp/checkpoint'\r\n",
        "model_checkpoint_callback = tf.keras.callbacks.ModelCheckpoint(\r\n",
        "    filepath=checkpoint_filepath)"
      ],
      "execution_count": 32,
      "outputs": []
    },
    {
      "cell_type": "code",
      "metadata": {
        "id": "8bI1Bxdz5oEf"
      },
      "source": [
        "#Compile the model\n",
        "model1.compile(optimizer='adam', loss='categorical_crossentropy', metrics=['accuracy'])"
      ],
      "execution_count": 33,
      "outputs": []
    },
    {
      "cell_type": "code",
      "metadata": {
        "colab": {
          "base_uri": "https://localhost:8080/"
        },
        "id": "WSiMhJPpk3GO",
        "outputId": "624bd171-4603-4c6a-d588-ac34b5d7c4a5"
      },
      "source": [
        "# Train the model\n",
        "model1.fit(X_train,y_train,          \n",
        "          validation_data=(X_test,y_test),\n",
        "          epochs=50,\n",
        "          batch_size=12,\n",
        "             callbacks=[model_checkpoint_callback]\n",
        "         )"
      ],
      "execution_count": 36,
      "outputs": [
        {
          "output_type": "stream",
          "text": [
            "Epoch 1/50\n",
            "3492/3500 [============================>.] - ETA: 0s - loss: 1.0972 - accuracy: 0.6527INFO:tensorflow:Assets written to: /tmp/checkpoint/assets\n",
            "3500/3500 [==============================] - 20s 6ms/step - loss: 1.0977 - accuracy: 0.6526 - val_loss: 0.7276 - val_accuracy: 0.7830\n",
            "Epoch 2/50\n",
            "3495/3500 [============================>.] - ETA: 0s - loss: 1.0580 - accuracy: 0.6629INFO:tensorflow:Assets written to: /tmp/checkpoint/assets\n",
            "3500/3500 [==============================] - 20s 6ms/step - loss: 1.0585 - accuracy: 0.6627 - val_loss: 0.7094 - val_accuracy: 0.7942\n",
            "Epoch 3/50\n",
            "3494/3500 [============================>.] - ETA: 0s - loss: 1.0231 - accuracy: 0.6743INFO:tensorflow:Assets written to: /tmp/checkpoint/assets\n",
            "3500/3500 [==============================] - 20s 6ms/step - loss: 1.0230 - accuracy: 0.6744 - val_loss: 0.6842 - val_accuracy: 0.7980\n",
            "Epoch 4/50\n",
            "3491/3500 [============================>.] - ETA: 0s - loss: 0.9942 - accuracy: 0.6863INFO:tensorflow:Assets written to: /tmp/checkpoint/assets\n",
            "3500/3500 [==============================] - 20s 6ms/step - loss: 0.9940 - accuracy: 0.6865 - val_loss: 0.6712 - val_accuracy: 0.8032\n",
            "Epoch 5/50\n",
            "3497/3500 [============================>.] - ETA: 0s - loss: 0.9767 - accuracy: 0.6917INFO:tensorflow:Assets written to: /tmp/checkpoint/assets\n",
            "3500/3500 [==============================] - 20s 6ms/step - loss: 0.9767 - accuracy: 0.6916 - val_loss: 0.6322 - val_accuracy: 0.8154\n",
            "Epoch 6/50\n",
            "3500/3500 [==============================] - ETA: 0s - loss: 0.9532 - accuracy: 0.6992INFO:tensorflow:Assets written to: /tmp/checkpoint/assets\n",
            "3500/3500 [==============================] - 20s 6ms/step - loss: 0.9532 - accuracy: 0.6992 - val_loss: 0.6394 - val_accuracy: 0.8082\n",
            "Epoch 7/50\n",
            "3500/3500 [==============================] - ETA: 0s - loss: 0.9394 - accuracy: 0.7013INFO:tensorflow:Assets written to: /tmp/checkpoint/assets\n",
            "3500/3500 [==============================] - 20s 6ms/step - loss: 0.9394 - accuracy: 0.7013 - val_loss: 0.6052 - val_accuracy: 0.8257\n",
            "Epoch 8/50\n",
            "3494/3500 [============================>.] - ETA: 0s - loss: 0.9263 - accuracy: 0.7071INFO:tensorflow:Assets written to: /tmp/checkpoint/assets\n",
            "3500/3500 [==============================] - 20s 6ms/step - loss: 0.9262 - accuracy: 0.7071 - val_loss: 0.5920 - val_accuracy: 0.8283\n",
            "Epoch 9/50\n",
            "3489/3500 [============================>.] - ETA: 0s - loss: 0.9133 - accuracy: 0.7117INFO:tensorflow:Assets written to: /tmp/checkpoint/assets\n",
            "3500/3500 [==============================] - 20s 6ms/step - loss: 0.9127 - accuracy: 0.7118 - val_loss: 0.5827 - val_accuracy: 0.8312\n",
            "Epoch 10/50\n",
            "3489/3500 [============================>.] - ETA: 0s - loss: 0.8997 - accuracy: 0.7168INFO:tensorflow:Assets written to: /tmp/checkpoint/assets\n",
            "3500/3500 [==============================] - 20s 6ms/step - loss: 0.8998 - accuracy: 0.7167 - val_loss: 0.5975 - val_accuracy: 0.8273\n",
            "Epoch 11/50\n",
            "3498/3500 [============================>.] - ETA: 0s - loss: 0.8968 - accuracy: 0.7163INFO:tensorflow:Assets written to: /tmp/checkpoint/assets\n",
            "3500/3500 [==============================] - 20s 6ms/step - loss: 0.8967 - accuracy: 0.7163 - val_loss: 0.5965 - val_accuracy: 0.8263\n",
            "Epoch 12/50\n",
            "3499/3500 [============================>.] - ETA: 0s - loss: 0.8835 - accuracy: 0.7224INFO:tensorflow:Assets written to: /tmp/checkpoint/assets\n",
            "3500/3500 [==============================] - 20s 6ms/step - loss: 0.8834 - accuracy: 0.7224 - val_loss: 0.5805 - val_accuracy: 0.8325\n",
            "Epoch 13/50\n",
            "3491/3500 [============================>.] - ETA: 0s - loss: 0.8774 - accuracy: 0.7235INFO:tensorflow:Assets written to: /tmp/checkpoint/assets\n",
            "3500/3500 [==============================] - 20s 6ms/step - loss: 0.8771 - accuracy: 0.7236 - val_loss: 0.5640 - val_accuracy: 0.8384\n",
            "Epoch 14/50\n",
            "3492/3500 [============================>.] - ETA: 0s - loss: 0.8686 - accuracy: 0.7248INFO:tensorflow:Assets written to: /tmp/checkpoint/assets\n",
            "3500/3500 [==============================] - 20s 6ms/step - loss: 0.8687 - accuracy: 0.7248 - val_loss: 0.5583 - val_accuracy: 0.8378\n",
            "Epoch 15/50\n",
            "3495/3500 [============================>.] - ETA: 0s - loss: 0.8546 - accuracy: 0.7302INFO:tensorflow:Assets written to: /tmp/checkpoint/assets\n",
            "3500/3500 [==============================] - 21s 6ms/step - loss: 0.8548 - accuracy: 0.7301 - val_loss: 0.5576 - val_accuracy: 0.8381\n",
            "Epoch 16/50\n",
            "3491/3500 [============================>.] - ETA: 0s - loss: 0.8503 - accuracy: 0.7284INFO:tensorflow:Assets written to: /tmp/checkpoint/assets\n",
            "3500/3500 [==============================] - 20s 6ms/step - loss: 0.8504 - accuracy: 0.7283 - val_loss: 0.5574 - val_accuracy: 0.8394\n",
            "Epoch 17/50\n",
            "3500/3500 [==============================] - ETA: 0s - loss: 0.8523 - accuracy: 0.7312INFO:tensorflow:Assets written to: /tmp/checkpoint/assets\n",
            "3500/3500 [==============================] - 20s 6ms/step - loss: 0.8523 - accuracy: 0.7312 - val_loss: 0.5397 - val_accuracy: 0.8464\n",
            "Epoch 18/50\n",
            "3490/3500 [============================>.] - ETA: 0s - loss: 0.8422 - accuracy: 0.7324INFO:tensorflow:Assets written to: /tmp/checkpoint/assets\n",
            "3500/3500 [==============================] - 20s 6ms/step - loss: 0.8417 - accuracy: 0.7325 - val_loss: 0.5403 - val_accuracy: 0.8429\n",
            "Epoch 19/50\n",
            "3493/3500 [============================>.] - ETA: 0s - loss: 0.8298 - accuracy: 0.7379INFO:tensorflow:Assets written to: /tmp/checkpoint/assets\n",
            "3500/3500 [==============================] - 20s 6ms/step - loss: 0.8299 - accuracy: 0.7378 - val_loss: 0.5466 - val_accuracy: 0.8446\n",
            "Epoch 20/50\n",
            "3498/3500 [============================>.] - ETA: 0s - loss: 0.8204 - accuracy: 0.7398INFO:tensorflow:Assets written to: /tmp/checkpoint/assets\n",
            "3500/3500 [==============================] - 20s 6ms/step - loss: 0.8206 - accuracy: 0.7398 - val_loss: 0.5510 - val_accuracy: 0.8417\n",
            "Epoch 21/50\n",
            "3494/3500 [============================>.] - ETA: 0s - loss: 0.8264 - accuracy: 0.7404INFO:tensorflow:Assets written to: /tmp/checkpoint/assets\n",
            "3500/3500 [==============================] - 20s 6ms/step - loss: 0.8263 - accuracy: 0.7405 - val_loss: 0.5367 - val_accuracy: 0.8442\n",
            "Epoch 22/50\n",
            "3496/3500 [============================>.] - ETA: 0s - loss: 0.8124 - accuracy: 0.7426INFO:tensorflow:Assets written to: /tmp/checkpoint/assets\n",
            "3500/3500 [==============================] - 20s 6ms/step - loss: 0.8126 - accuracy: 0.7425 - val_loss: 0.5299 - val_accuracy: 0.8458\n",
            "Epoch 23/50\n",
            "3489/3500 [============================>.] - ETA: 0s - loss: 0.8109 - accuracy: 0.7435INFO:tensorflow:Assets written to: /tmp/checkpoint/assets\n",
            "3500/3500 [==============================] - 20s 6ms/step - loss: 0.8114 - accuracy: 0.7435 - val_loss: 0.5205 - val_accuracy: 0.8499\n",
            "Epoch 24/50\n",
            "3491/3500 [============================>.] - ETA: 0s - loss: 0.8121 - accuracy: 0.7467INFO:tensorflow:Assets written to: /tmp/checkpoint/assets\n",
            "3500/3500 [==============================] - 20s 6ms/step - loss: 0.8119 - accuracy: 0.7467 - val_loss: 0.5409 - val_accuracy: 0.8404\n",
            "Epoch 25/50\n",
            "3499/3500 [============================>.] - ETA: 0s - loss: 0.8212 - accuracy: 0.7414INFO:tensorflow:Assets written to: /tmp/checkpoint/assets\n",
            "3500/3500 [==============================] - 20s 6ms/step - loss: 0.8214 - accuracy: 0.7413 - val_loss: 0.5153 - val_accuracy: 0.8517\n",
            "Epoch 26/50\n",
            "3500/3500 [==============================] - ETA: 0s - loss: 0.8069 - accuracy: 0.7465INFO:tensorflow:Assets written to: /tmp/checkpoint/assets\n",
            "3500/3500 [==============================] - 20s 6ms/step - loss: 0.8069 - accuracy: 0.7465 - val_loss: 0.5152 - val_accuracy: 0.8514\n",
            "Epoch 27/50\n",
            "3498/3500 [============================>.] - ETA: 0s - loss: 0.8073 - accuracy: 0.7449INFO:tensorflow:Assets written to: /tmp/checkpoint/assets\n",
            "3500/3500 [==============================] - 20s 6ms/step - loss: 0.8074 - accuracy: 0.7448 - val_loss: 0.5073 - val_accuracy: 0.8558\n",
            "Epoch 28/50\n",
            "3496/3500 [============================>.] - ETA: 0s - loss: 0.7994 - accuracy: 0.7492INFO:tensorflow:Assets written to: /tmp/checkpoint/assets\n",
            "3500/3500 [==============================] - 20s 6ms/step - loss: 0.7997 - accuracy: 0.7492 - val_loss: 0.5207 - val_accuracy: 0.8514\n",
            "Epoch 29/50\n",
            "3497/3500 [============================>.] - ETA: 0s - loss: 0.7987 - accuracy: 0.7496INFO:tensorflow:Assets written to: /tmp/checkpoint/assets\n",
            "3500/3500 [==============================] - 21s 6ms/step - loss: 0.7986 - accuracy: 0.7496 - val_loss: 0.5150 - val_accuracy: 0.8518\n",
            "Epoch 30/50\n",
            "3492/3500 [============================>.] - ETA: 0s - loss: 0.7920 - accuracy: 0.7499INFO:tensorflow:Assets written to: /tmp/checkpoint/assets\n",
            "3500/3500 [==============================] - 21s 6ms/step - loss: 0.7917 - accuracy: 0.7500 - val_loss: 0.5124 - val_accuracy: 0.8536\n",
            "Epoch 31/50\n",
            "3493/3500 [============================>.] - ETA: 0s - loss: 0.7885 - accuracy: 0.7509INFO:tensorflow:Assets written to: /tmp/checkpoint/assets\n",
            "3500/3500 [==============================] - 20s 6ms/step - loss: 0.7888 - accuracy: 0.7507 - val_loss: 0.5108 - val_accuracy: 0.8532\n",
            "Epoch 32/50\n",
            "3489/3500 [============================>.] - ETA: 0s - loss: 0.7765 - accuracy: 0.7550INFO:tensorflow:Assets written to: /tmp/checkpoint/assets\n",
            "3500/3500 [==============================] - 20s 6ms/step - loss: 0.7777 - accuracy: 0.7546 - val_loss: 0.5006 - val_accuracy: 0.8568\n",
            "Epoch 33/50\n",
            "3499/3500 [============================>.] - ETA: 0s - loss: 0.7766 - accuracy: 0.7560INFO:tensorflow:Assets written to: /tmp/checkpoint/assets\n",
            "3500/3500 [==============================] - 20s 6ms/step - loss: 0.7766 - accuracy: 0.7560 - val_loss: 0.5079 - val_accuracy: 0.8548\n",
            "Epoch 34/50\n",
            "3492/3500 [============================>.] - ETA: 0s - loss: 0.7769 - accuracy: 0.7547INFO:tensorflow:Assets written to: /tmp/checkpoint/assets\n",
            "3500/3500 [==============================] - 20s 6ms/step - loss: 0.7769 - accuracy: 0.7546 - val_loss: 0.5031 - val_accuracy: 0.8539\n",
            "Epoch 35/50\n",
            "3499/3500 [============================>.] - ETA: 0s - loss: 0.7800 - accuracy: 0.7542INFO:tensorflow:Assets written to: /tmp/checkpoint/assets\n",
            "3500/3500 [==============================] - 20s 6ms/step - loss: 0.7801 - accuracy: 0.7542 - val_loss: 0.5058 - val_accuracy: 0.8564\n",
            "Epoch 36/50\n",
            "3491/3500 [============================>.] - ETA: 0s - loss: 0.7687 - accuracy: 0.7580INFO:tensorflow:Assets written to: /tmp/checkpoint/assets\n",
            "3500/3500 [==============================] - 20s 6ms/step - loss: 0.7687 - accuracy: 0.7578 - val_loss: 0.5045 - val_accuracy: 0.8548\n",
            "Epoch 37/50\n",
            "3492/3500 [============================>.] - ETA: 0s - loss: 0.7830 - accuracy: 0.7548INFO:tensorflow:Assets written to: /tmp/checkpoint/assets\n",
            "3500/3500 [==============================] - 20s 6ms/step - loss: 0.7825 - accuracy: 0.7550 - val_loss: 0.4986 - val_accuracy: 0.8557\n",
            "Epoch 38/50\n",
            "3496/3500 [============================>.] - ETA: 0s - loss: 0.7614 - accuracy: 0.7622INFO:tensorflow:Assets written to: /tmp/checkpoint/assets\n",
            "3500/3500 [==============================] - 20s 6ms/step - loss: 0.7615 - accuracy: 0.7622 - val_loss: 0.4931 - val_accuracy: 0.8593\n",
            "Epoch 39/50\n",
            "3488/3500 [============================>.] - ETA: 0s - loss: 0.7690 - accuracy: 0.7587INFO:tensorflow:Assets written to: /tmp/checkpoint/assets\n",
            "3500/3500 [==============================] - 20s 6ms/step - loss: 0.7686 - accuracy: 0.7587 - val_loss: 0.4980 - val_accuracy: 0.8584\n",
            "Epoch 40/50\n",
            "3497/3500 [============================>.] - ETA: 0s - loss: 0.7639 - accuracy: 0.7590INFO:tensorflow:Assets written to: /tmp/checkpoint/assets\n",
            "3500/3500 [==============================] - 20s 6ms/step - loss: 0.7640 - accuracy: 0.7589 - val_loss: 0.4957 - val_accuracy: 0.8580\n",
            "Epoch 41/50\n",
            "3491/3500 [============================>.] - ETA: 0s - loss: 0.7594 - accuracy: 0.7623INFO:tensorflow:Assets written to: /tmp/checkpoint/assets\n",
            "3500/3500 [==============================] - 20s 6ms/step - loss: 0.7596 - accuracy: 0.7622 - val_loss: 0.4896 - val_accuracy: 0.8623\n",
            "Epoch 42/50\n",
            "3489/3500 [============================>.] - ETA: 0s - loss: 0.7658 - accuracy: 0.7568INFO:tensorflow:Assets written to: /tmp/checkpoint/assets\n",
            "3500/3500 [==============================] - 20s 6ms/step - loss: 0.7655 - accuracy: 0.7569 - val_loss: 0.5007 - val_accuracy: 0.8552\n",
            "Epoch 43/50\n",
            "3500/3500 [==============================] - ETA: 0s - loss: 0.7580 - accuracy: 0.7609INFO:tensorflow:Assets written to: /tmp/checkpoint/assets\n",
            "3500/3500 [==============================] - 20s 6ms/step - loss: 0.7580 - accuracy: 0.7609 - val_loss: 0.4966 - val_accuracy: 0.8589\n",
            "Epoch 44/50\n",
            "3499/3500 [============================>.] - ETA: 0s - loss: 0.7544 - accuracy: 0.7618INFO:tensorflow:Assets written to: /tmp/checkpoint/assets\n",
            "3500/3500 [==============================] - 20s 6ms/step - loss: 0.7545 - accuracy: 0.7618 - val_loss: 0.5053 - val_accuracy: 0.8518\n",
            "Epoch 45/50\n",
            "3494/3500 [============================>.] - ETA: 0s - loss: 0.7505 - accuracy: 0.7651INFO:tensorflow:Assets written to: /tmp/checkpoint/assets\n",
            "3500/3500 [==============================] - 21s 6ms/step - loss: 0.7504 - accuracy: 0.7651 - val_loss: 0.4942 - val_accuracy: 0.8599\n",
            "Epoch 46/50\n",
            "3489/3500 [============================>.] - ETA: 0s - loss: 0.7503 - accuracy: 0.7628INFO:tensorflow:Assets written to: /tmp/checkpoint/assets\n",
            "3500/3500 [==============================] - 21s 6ms/step - loss: 0.7500 - accuracy: 0.7629 - val_loss: 0.4906 - val_accuracy: 0.8599\n",
            "Epoch 47/50\n",
            "3492/3500 [============================>.] - ETA: 0s - loss: 0.7508 - accuracy: 0.7620INFO:tensorflow:Assets written to: /tmp/checkpoint/assets\n",
            "3500/3500 [==============================] - 20s 6ms/step - loss: 0.7506 - accuracy: 0.7621 - val_loss: 0.4896 - val_accuracy: 0.8571\n",
            "Epoch 48/50\n",
            "3496/3500 [============================>.] - ETA: 0s - loss: 0.7443 - accuracy: 0.7649INFO:tensorflow:Assets written to: /tmp/checkpoint/assets\n",
            "3500/3500 [==============================] - 20s 6ms/step - loss: 0.7444 - accuracy: 0.7649 - val_loss: 0.4877 - val_accuracy: 0.8597\n",
            "Epoch 49/50\n",
            "3489/3500 [============================>.] - ETA: 0s - loss: 0.7438 - accuracy: 0.7661INFO:tensorflow:Assets written to: /tmp/checkpoint/assets\n",
            "3500/3500 [==============================] - 21s 6ms/step - loss: 0.7435 - accuracy: 0.7662 - val_loss: 0.4967 - val_accuracy: 0.8554\n",
            "Epoch 50/50\n",
            "3490/3500 [============================>.] - ETA: 0s - loss: 0.7458 - accuracy: 0.7647INFO:tensorflow:Assets written to: /tmp/checkpoint/assets\n",
            "3500/3500 [==============================] - 20s 6ms/step - loss: 0.7459 - accuracy: 0.7646 - val_loss: 0.4944 - val_accuracy: 0.8577\n"
          ],
          "name": "stdout"
        },
        {
          "output_type": "execute_result",
          "data": {
            "text/plain": [
              "<tensorflow.python.keras.callbacks.History at 0x7f55d587b668>"
            ]
          },
          "metadata": {
            "tags": []
          },
          "execution_count": 36
        }
      ]
    },
    {
      "cell_type": "code",
      "metadata": {
        "colab": {
          "base_uri": "https://localhost:8080/"
        },
        "id": "gVmJapq3yJAq",
        "outputId": "1207c609-3b4e-4c7a-d1b1-60f35dcf463e"
      },
      "source": [
        "# Accuracy with drop out layers\n",
        "# Little improvement in accuracy but good reduction in loss.\n",
        "test_loss,test_acc=model1.evaluate(X_test,y_test)"
      ],
      "execution_count": 37,
      "outputs": [
        {
          "output_type": "stream",
          "text": [
            "563/563 [==============================] - 2s 4ms/step - loss: 0.4944 - accuracy: 0.8577\n"
          ],
          "name": "stdout"
        }
      ]
    },
    {
      "cell_type": "code",
      "metadata": {
        "id": "KBxdInAG0nVW"
      },
      "source": [
        "# Validating predicting data with actual data\n",
        "predictions1=model1.predict(X_test)"
      ],
      "execution_count": 38,
      "outputs": []
    },
    {
      "cell_type": "code",
      "metadata": {
        "colab": {
          "base_uri": "https://localhost:8080/"
        },
        "id": "5_wNA4fp2gFs",
        "outputId": "92e4cf4c-e89a-49d0-afcc-cb57bf8104bc"
      },
      "source": [
        "np.argmax(predictions1[1877])"
      ],
      "execution_count": 39,
      "outputs": [
        {
          "output_type": "execute_result",
          "data": {
            "text/plain": [
              "1"
            ]
          },
          "metadata": {
            "tags": []
          },
          "execution_count": 39
        }
      ]
    },
    {
      "cell_type": "code",
      "metadata": {
        "colab": {
          "base_uri": "https://localhost:8080/"
        },
        "id": "dfoWKAhH2ysD",
        "outputId": "e3d225d4-79f6-4490-dfc4-6205e6f34114"
      },
      "source": [
        "y_test[1877]\n",
        "# Predicted value is class 4 which matches with actual value"
      ],
      "execution_count": 40,
      "outputs": [
        {
          "output_type": "execute_result",
          "data": {
            "text/plain": [
              "array([0., 1., 0., 0., 0., 0., 0., 0., 0., 0.], dtype=float32)"
            ]
          },
          "metadata": {
            "tags": []
          },
          "execution_count": 40
        }
      ]
    },
    {
      "cell_type": "code",
      "metadata": {
        "id": "qQat1h3D27cV"
      },
      "source": [
        ""
      ],
      "execution_count": null,
      "outputs": []
    }
  ]
}